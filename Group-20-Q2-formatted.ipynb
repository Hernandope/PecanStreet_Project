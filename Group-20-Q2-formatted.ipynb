{
 "cells": [
  {
   "cell_type": "markdown",
   "metadata": {},
   "source": [
    "# Imports and Initializations\n",
    "\n",
    "### Note: This document cannot be converted to pdf due to the presence of plotly graphs which require a paid subscription for the pdf service. Instead, please view the .html version of the document. The graphs are interactive - try hovering your mouse over points on it!"
   ]
  },
  {
   "cell_type": "code",
   "execution_count": 49,
   "metadata": {},
   "outputs": [],
   "source": [
    "import pandas as pd\n",
    "import numpy as np\n",
    "\n",
    "import plotly\n",
    "import plotly.express as px\n",
    "import plotly.graph_objects as go\n",
    "\n",
    "from sklearn.model_selection import train_test_split\n",
    "from sklearn.svm import LinearSVR\n",
    "from sklearn.linear_model import LinearRegression\n",
    "from sklearn.metrics import mean_squared_error\n",
    "\n",
    "# Done to avoid flooding the screen with warnings for legacy numpy operations\n",
    "# in pandas methods\n",
    "import warnings\n",
    "warnings.filterwarnings('ignore')"
   ]
  },
  {
   "cell_type": "markdown",
   "metadata": {},
   "source": [
    "## Function Declarations"
   ]
  },
  {
   "cell_type": "code",
   "execution_count": 2,
   "metadata": {},
   "outputs": [],
   "source": [
    "# Assumption: localminute column is clean and error free\n",
    "def index_and_sort(data): \n",
    "    merged_df = pd.DataFrame()\n",
    "\n",
    "    for k,df in data.groupby([\"dataid\"]): \n",
    "        df.sort_values(by=[\"localminute\"], inplace=True)\n",
    "        df[\"val_diff\"] = df[\"meter_value\"].diff()\n",
    "\n",
    "        df = df.set_index(pd.DatetimeIndex(pd.to_datetime(df['localminute'], utc=True, infer_datetime_format=True, cache=True)))\n",
    "        df.drop(columns=[\"localminute\"], inplace=True)\n",
    "        \n",
    "        merged_df = merged_df.append(df)\n",
    "\n",
    "    return merged_df"
   ]
  },
  {
   "cell_type": "code",
   "execution_count": 3,
   "metadata": {},
   "outputs": [],
   "source": [
    "# Function from question 1, used to remove irregular spikes in meter value reading\n",
    "def remove_spikes(data_df): \n",
    "    spikeless_resampled_df = pd.DataFrame()\n",
    "\n",
    "    for k, df in data_df.groupby(\"dataid\"): \n",
    "        spikeless_df = df[~(df['val_diff'].shift(-1) < 0)] \n",
    "        spikeless_df['val_diff'] = spikeless_df['meter_value'].diff()\n",
    "\n",
    "        # Need to do this because some spikes are less \"sharp\" than 1 timestemp\n",
    "        for i in range(10):  # by right should be doing UNTIL no more spikes left. Tested to see no more spikes after 10 passes\n",
    "            spikeless_df = spikeless_df[~(spikeless_df['val_diff'].shift(-1) < 0)] \n",
    "            spikeless_df['val_diff'] = spikeless_df['meter_value'].diff()\n",
    "\n",
    "        spikeless_sample = spikeless_df.resample('1h').mean()\n",
    "        spikeless_sample[\"dataid\"].fillna(k, inplace=True)\n",
    "        spikeless_sample[\"meter_value\"] = spikeless_sample[\"meter_value\"].interpolate()\n",
    "        spikeless_resampled_df = spikeless_resampled_df.append(spikeless_sample)\n",
    "\n",
    "    return spikeless_resampled_df"
   ]
  },
  {
   "cell_type": "code",
   "execution_count": 4,
   "metadata": {},
   "outputs": [],
   "source": [
    "# Preprocessing df into inputs ready for training\n",
    "# input frame = [LOOKBACK_PERIOD val_diffs] + [ExpectedOutput] + [HourToPredictFor]\n",
    "# returns: [inputs], [labels] where correspond by position\n",
    "def make_io_frames(data_df): \n",
    "    input_data = []\n",
    "    for k, df in data_df.groupby('dataid'): \n",
    "        diff_series =  df['meter_value'].diff().dropna()\n",
    "\n",
    "        # The = + [] is giving the model the hour of day it is predicting for (important)  \n",
    "        list_of_data = [diff_series[i:i+LOOKBACK_PERIOD+1].tolist() + [diff_series[i:i+LOOKBACK_PERIOD+1].index[-1].hour] for i in range(0,df.shape[0],1) if diff_series[i:i+LOOKBACK_PERIOD+1].shape[0] == LOOKBACK_PERIOD+1]\n",
    "\n",
    "        for item in list_of_data: \n",
    "            input_data.append(item)\n",
    "   \n",
    "    X = [frame[:LOOKBACK_PERIOD]+[frame[-1]] for frame in input_data]\n",
    "    Y = [frame[-2] for frame in input_data]\n",
    "\n",
    "    return X, Y"
   ]
  },
  {
   "cell_type": "code",
   "execution_count": 5,
   "metadata": {},
   "outputs": [],
   "source": [
    "# This function is the frontend for the model that preprocesses input_data before  \n",
    "\n",
    "# Assumptions: \n",
    "# input_data contain all data points for the past LOOKBACK+1 hours.\n",
    "# input data has a DateTimeIndex\n",
    "# input data is sorted \n",
    "# hour_to_predict is a pandas_timestamp. \n",
    "def predict(input_data, hour_to_predict, model): \n",
    "\n",
    "    latest_available_reading = input_data[input_data.index < hour_to_predict].meter_value[-1]\n",
    "\n",
    "    #print(input_data)\n",
    "    #print(\"Predicting for\", hour_to_predict)\n",
    "\n",
    "    meter_readings = input_data['meter_value']\n",
    "    meter_readings = meter_readings[(meter_readings.index > (hour_to_predict - pd.Timedelta(str(LOOKBACK_PERIOD)+'h'))) & (meter_readings.index < hour_to_predict)]\n",
    "    meter_readings = meter_readings.resample('1h').mean()\n",
    "\n",
    "    #print(meter_readings)\n",
    "\n",
    "    def getMeterReading(hours_prior):\n",
    "        req_hour = hour_to_predict - pd.Timedelta(str(hours_prior)+'h')\n",
    "        #print(req_hour)\n",
    "        if req_hour in meter_readings.index:\n",
    "            return meter_readings.loc[req_hour]\n",
    "        return np.nan\n",
    "\n",
    "    attributes = pd.Series([getMeterReading(i) for i in range(LOOKBACK_PERIOD+1, 0, -1)])\n",
    "    attributes = attributes.interpolate()\n",
    "    #print(attributes)\n",
    "\n",
    "    diffs = attributes.diff().fillna(0)[1:]\n",
    "    #print(diffs)\n",
    "    \n",
    "    prediction = model.predict([diffs.tolist() + [hour_to_predict.hour]])\n",
    "\n",
    "    return latest_available_reading + prediction[0]"
   ]
  },
  {
   "cell_type": "code",
   "execution_count": 6,
   "metadata": {},
   "outputs": [],
   "source": [
    "# Given a house, SIMULATE day to day predictions \n",
    "# Take last LOOKBACK PERIOD readings and simulating next hour (time t)\n",
    "# After actual reading of time t is found, repeat for time t+1. \n",
    "# until last known data point. \n",
    "# NOTE: Inherent correction in prediction graph. \n",
    "def simulate_operation(df_for_house, model):\n",
    "\n",
    "    timestamps_to_predict_for = df_for_house\n",
    "    timestamps_to_predict_for = timestamps_to_predict_for.resample('1h').last()\n",
    "    timestamps = (timestamps_to_predict_for.index)[LOOKBACK_PERIOD+1:]\n",
    "\n",
    "    predictions = []\n",
    "    predicted_timestamps = []\n",
    "\n",
    "    for time in timestamps: \n",
    "        try: \n",
    "            predictions.append(predict(df_for_house, time, model))\n",
    "            predicted_timestamps.append(time)\n",
    "        except: \n",
    "            print(\"ERROR PREDICTING \", time)\n",
    "\n",
    "    return predicted_timestamps, predictions"
   ]
  },
  {
   "cell_type": "code",
   "execution_count": 7,
   "metadata": {},
   "outputs": [],
   "source": [
    "# Given a house, SIMULATE day to day predictions \n",
    "# Take last LOOKBACK PERIOD readings and simulating next hour (time t)\n",
    "# assume prediction is correct, repeat for time t+1. \n",
    "# NOTE: Long term predicting over predictions. \n",
    "def long_term_prediction(df_for_house, time_start, num_days_to_predict, model):\n",
    "\n",
    "    seed_data = df_for_house[df_for_house.index < time_start]\n",
    "    seed_data.drop(columns=['val_diff', 'dataid'], inplace=True)\n",
    "\n",
    "    timestamps = pd.date_range(time_start, periods=num_days_to_predict*24, freq='H')\n",
    "\n",
    "    predictions = []\n",
    "    predicted_timestamps = []\n",
    "\n",
    "    for time in timestamps: \n",
    "\n",
    "        try:\n",
    "            prediction = predict(seed_data, time, model)\n",
    "            predictions.append(prediction)\n",
    "            seed_data = seed_data.append(pd.DataFrame(data=[prediction], columns=['meter_value'], index=[time]))\n",
    "            predicted_timestamps.append(time)\n",
    "            #print(seed_data)\n",
    "        except: \n",
    "            print(\"ERROR PREDICTING\", time)\n",
    "\n",
    "    return predicted_timestamps, predictions"
   ]
  },
  {
   "cell_type": "code",
   "execution_count": 8,
   "metadata": {},
   "outputs": [],
   "source": [
    "# Obtain mean metervalues from cleaned dataframe\n",
    "def mean_readings_for_area(df): \n",
    "    mean_data = df.resample('1h').mean() # get mean val_diffs\n",
    "    mean_data['meter_value'] = mean_data['val_diff'].cumsum()   # simulate meter_readings from mean_val_diffs\n",
    "    return mean_data"
   ]
  },
  {
   "cell_type": "code",
   "execution_count": 9,
   "metadata": {},
   "outputs": [],
   "source": [
    "## Tunable Hyper-Parameter:  \n",
    "LOOKBACK_PERIOD = 6"
   ]
  },
  {
   "cell_type": "markdown",
   "metadata": {},
   "source": [
    "# Question 2.1\n",
    "\n",
    "## Question 2.1\n",
    "\n",
    "In this part, you will asked to build a model to forecast the hourly readings in the future (next hour). \n",
    "\n",
    "1. Can you explain why you may want to forecast the gas consumption in the future? Who would find this information valuable? \n",
    "2. What can you do if you have a good forecasting model?\n"
   ]
  },
  {
   "cell_type": "markdown",
   "metadata": {
    "tags": []
   },
   "source": [
    "As one of the fundamental driving forces of economic activities of the world, energy is a crucial consideration in many key decision making processes. Due to its non-renewable nature, and rapidly increasing demand, it is important to use fossil fuels as efficient as possible. Despite falling on the category of fossil fuels, natural gas combustion emits less greenhouse gas and places it as a cleaner and safer option as compared to other fossil fuels such as coal or oil.\n",
    "\n",
    "A good forecasting model will be able to allow power and gas utility supplier companies to predict periods for which a certain area would experience higher increase in demand. Subsequently, accurate underground stock optimization would allow companies to prevent overstock, which would prove to be costly as the unusable gas would still need to be paid due to contractual agreement. In addition, the prevention of under stocking is also highly important to prevent downtimes and other catastrophic repercussions from inability to meet demand.\n"
   ]
  },
  {
   "cell_type": "markdown",
   "metadata": {},
   "source": [
    "## Question 2.2\n",
    "\n",
    "Build a linear regression model to forecast the hourly readings in the future (next hour). \n",
    "\n",
    "Generate two plots: \n",
    "\n",
    "**1. Time series plot of the actual and predicted hourly meter readings**\n",
    "\n",
    "**2. Scatter plot of actual vs predicted meter readings (along with the line showing how good the fit is)**"
   ]
  },
  {
   "cell_type": "code",
   "execution_count": 10,
   "metadata": {
    "scrolled": true
   },
   "outputs": [],
   "source": [
    "## Read CSV data\n",
    "# Takes quite a bit of time for date-inference\n",
    "# Optimization: Consider manual caching in a dict (top StOvflw answer)\n",
    "data = pd.read_csv(\"dataport-export_gas_oct2015-mar2016.csv\")\n",
    "merged_df = index_and_sort(data)\n",
    "clean_df = remove_spikes(merged_df)\n",
    "\n",
    "X, Y = make_io_frames(clean_df)"
   ]
  },
  {
   "cell_type": "code",
   "execution_count": 11,
   "metadata": {},
   "outputs": [],
   "source": [
    "X_train, X_test, Y_train, Y_test = train_test_split(X, Y, test_size=0.3, random_state=42)"
   ]
  },
  {
   "cell_type": "code",
   "execution_count": 12,
   "metadata": {
    "scrolled": true
   },
   "outputs": [
    {
     "data": {
      "text/plain": [
       "LinearRegression()"
      ]
     },
     "execution_count": 12,
     "metadata": {},
     "output_type": "execute_result"
    }
   ],
   "source": [
    "## Create linear regresison model and train\n",
    "lin_model = LinearRegression()\n",
    "lin_model.fit(X_train, Y_train)"
   ]
  },
  {
   "cell_type": "code",
   "execution_count": 13,
   "metadata": {},
   "outputs": [
    {
     "data": {
      "text/plain": [
       "49.85421428855172"
      ]
     },
     "execution_count": 13,
     "metadata": {},
     "output_type": "execute_result"
    }
   ],
   "source": [
    "## Take predictions of linear regression models\n",
    "predictions = lin_model.predict(X_train)\n",
    "# Example of how to use model:\n",
    "# predict(merged_df[:50], pd.Timestamp('2015-10-04 17:00:00+00:00'), lin_model)\n",
    "\n",
    "mean_squared_error(Y_train, predictions)"
   ]
  },
  {
   "cell_type": "code",
   "execution_count": 110,
   "metadata": {
    "scrolled": true
   },
   "outputs": [
    {
     "name": "stdout",
     "output_type": "stream",
     "text": [
      "Train and test result for linear regression\n",
      "MSE error in train set is: 49.85421428855172\n",
      "MSE error in test set is: 43.81696857990257\n"
     ]
    }
   ],
   "source": [
    "## Calculate MSE in predictions train set\n",
    "print('Train and test result for linear regression')\n",
    "predictions_test = lin_model.predict(X_train)\n",
    "print(\"MSE error in train set is: {}\".format(mean_squared_error(Y_train, predictions_test)))\n",
    "## Calculate MSE in predictions test set\n",
    "predictions_test = lin_model.predict(X_test)\n",
    "mean_squared_error(Y_test, predictions_test)\n",
    "print(\"MSE error in test set is: {}\".format(mean_squared_error(Y_test, predictions_test)))"
   ]
  },
  {
   "cell_type": "markdown",
   "metadata": {},
   "source": [
    "The MSE error in test set is lower than in train set, signifying model has good generalizability and is capable of prediction unfitted data better than train set. There is unlikely to be overfit in the train set."
   ]
  },
  {
   "cell_type": "markdown",
   "metadata": {},
   "source": [
    "**Architecture for inference:**\n",
    "\n",
    "\n",
    " **[Raw-data]** -> **[PreProcessing]** -> **[ModelFrontend]** -> **[Model]** -> **[Predictions]**\n",
    "\n",
    "We present different modes of predictions with our model, namely *simulate_operation* and *long_term_prediction*. Instead of making predictions directly over all available date, prediction is done with sampling windows with size defined by *LOOKBACK_PERIOD*.\n",
    "\n",
    "- If Predictions which we want is taken over a period of 1 hour only and always corrected, use simulate_operation function is used *(refer to declaration above)*. \n",
    "- If we require recursive prediction to predict over predictions, we use long_term_prediction *(refer to declaration above)*. "
   ]
  },
  {
   "cell_type": "markdown",
   "metadata": {},
   "source": [
    "## Question 2.2 (a) - Time series plot of the actual and predicted hourly meter readings with linear regression"
   ]
  },
  {
   "cell_type": "code",
   "execution_count": 90,
   "metadata": {},
   "outputs": [],
   "source": [
    "timestamps, predictions = simulate_operation(merged_df[merged_df['dataid'] == 35][:250], lin_model)\n",
    "ltp_timestamps, ltp_predictions = long_term_prediction(merged_df[merged_df['dataid'] == 35][:250], pd.Timestamp('2015-10-02 01:00:00+00:00'), 6, lin_model)"
   ]
  },
  {
   "cell_type": "code",
   "execution_count": 91,
   "metadata": {
    "scrolled": true
   },
   "outputs": [
    {
     "data": {
      "application/vnd.plotly.v1+json": {
       "config": {
        "plotlyServerURL": "https://plot.ly"
       },
       "data": [
        {
         "name": "predictions",
         "type": "scatter",
         "x": [
          "2015-10-01T12:00:00+00:00",
          "2015-10-01T13:00:00+00:00",
          "2015-10-01T14:00:00+00:00",
          "2015-10-01T15:00:00+00:00",
          "2015-10-01T16:00:00+00:00",
          "2015-10-01T17:00:00+00:00",
          "2015-10-01T18:00:00+00:00",
          "2015-10-01T19:00:00+00:00",
          "2015-10-01T20:00:00+00:00",
          "2015-10-01T21:00:00+00:00",
          "2015-10-01T22:00:00+00:00",
          "2015-10-01T23:00:00+00:00",
          "2015-10-02T00:00:00+00:00",
          "2015-10-02T01:00:00+00:00",
          "2015-10-02T02:00:00+00:00",
          "2015-10-02T03:00:00+00:00",
          "2015-10-02T04:00:00+00:00",
          "2015-10-02T05:00:00+00:00",
          "2015-10-02T06:00:00+00:00",
          "2015-10-02T07:00:00+00:00",
          "2015-10-02T08:00:00+00:00",
          "2015-10-02T09:00:00+00:00",
          "2015-10-02T10:00:00+00:00",
          "2015-10-02T11:00:00+00:00",
          "2015-10-02T12:00:00+00:00",
          "2015-10-02T13:00:00+00:00",
          "2015-10-02T14:00:00+00:00",
          "2015-10-02T15:00:00+00:00",
          "2015-10-02T16:00:00+00:00",
          "2015-10-02T17:00:00+00:00",
          "2015-10-02T18:00:00+00:00",
          "2015-10-02T19:00:00+00:00",
          "2015-10-02T20:00:00+00:00",
          "2015-10-02T21:00:00+00:00",
          "2015-10-02T22:00:00+00:00",
          "2015-10-02T23:00:00+00:00",
          "2015-10-03T00:00:00+00:00",
          "2015-10-03T01:00:00+00:00",
          "2015-10-03T02:00:00+00:00",
          "2015-10-03T03:00:00+00:00",
          "2015-10-03T04:00:00+00:00",
          "2015-10-03T05:00:00+00:00",
          "2015-10-03T06:00:00+00:00",
          "2015-10-03T07:00:00+00:00",
          "2015-10-03T08:00:00+00:00",
          "2015-10-03T09:00:00+00:00",
          "2015-10-03T10:00:00+00:00",
          "2015-10-03T11:00:00+00:00",
          "2015-10-03T12:00:00+00:00",
          "2015-10-03T13:00:00+00:00",
          "2015-10-03T14:00:00+00:00",
          "2015-10-03T15:00:00+00:00",
          "2015-10-03T16:00:00+00:00",
          "2015-10-03T17:00:00+00:00",
          "2015-10-03T18:00:00+00:00",
          "2015-10-03T19:00:00+00:00",
          "2015-10-03T20:00:00+00:00",
          "2015-10-03T21:00:00+00:00",
          "2015-10-03T22:00:00+00:00",
          "2015-10-03T23:00:00+00:00",
          "2015-10-04T00:00:00+00:00",
          "2015-10-04T01:00:00+00:00",
          "2015-10-04T02:00:00+00:00",
          "2015-10-04T03:00:00+00:00",
          "2015-10-04T04:00:00+00:00",
          "2015-10-04T05:00:00+00:00",
          "2015-10-04T06:00:00+00:00",
          "2015-10-04T07:00:00+00:00",
          "2015-10-04T08:00:00+00:00",
          "2015-10-04T09:00:00+00:00",
          "2015-10-04T10:00:00+00:00",
          "2015-10-04T11:00:00+00:00",
          "2015-10-04T12:00:00+00:00",
          "2015-10-04T13:00:00+00:00",
          "2015-10-04T14:00:00+00:00",
          "2015-10-04T15:00:00+00:00",
          "2015-10-04T16:00:00+00:00",
          "2015-10-04T17:00:00+00:00",
          "2015-10-04T18:00:00+00:00",
          "2015-10-04T19:00:00+00:00",
          "2015-10-04T20:00:00+00:00",
          "2015-10-04T21:00:00+00:00",
          "2015-10-04T22:00:00+00:00",
          "2015-10-04T23:00:00+00:00",
          "2015-10-05T00:00:00+00:00",
          "2015-10-05T01:00:00+00:00",
          "2015-10-05T02:00:00+00:00",
          "2015-10-05T03:00:00+00:00",
          "2015-10-05T04:00:00+00:00",
          "2015-10-05T05:00:00+00:00",
          "2015-10-05T06:00:00+00:00",
          "2015-10-05T07:00:00+00:00",
          "2015-10-05T08:00:00+00:00",
          "2015-10-05T09:00:00+00:00",
          "2015-10-05T10:00:00+00:00",
          "2015-10-05T11:00:00+00:00",
          "2015-10-05T12:00:00+00:00",
          "2015-10-05T13:00:00+00:00",
          "2015-10-05T14:00:00+00:00",
          "2015-10-05T15:00:00+00:00",
          "2015-10-05T16:00:00+00:00",
          "2015-10-05T17:00:00+00:00",
          "2015-10-05T18:00:00+00:00",
          "2015-10-05T19:00:00+00:00",
          "2015-10-05T20:00:00+00:00",
          "2015-10-05T21:00:00+00:00",
          "2015-10-05T22:00:00+00:00",
          "2015-10-05T23:00:00+00:00",
          "2015-10-06T00:00:00+00:00",
          "2015-10-06T01:00:00+00:00",
          "2015-10-06T02:00:00+00:00",
          "2015-10-06T03:00:00+00:00",
          "2015-10-06T04:00:00+00:00",
          "2015-10-06T05:00:00+00:00",
          "2015-10-06T06:00:00+00:00",
          "2015-10-06T07:00:00+00:00",
          "2015-10-06T08:00:00+00:00",
          "2015-10-06T09:00:00+00:00",
          "2015-10-06T10:00:00+00:00",
          "2015-10-06T11:00:00+00:00",
          "2015-10-06T12:00:00+00:00",
          "2015-10-06T13:00:00+00:00",
          "2015-10-06T14:00:00+00:00",
          "2015-10-06T15:00:00+00:00",
          "2015-10-06T16:00:00+00:00",
          "2015-10-06T17:00:00+00:00",
          "2015-10-06T18:00:00+00:00",
          "2015-10-06T19:00:00+00:00",
          "2015-10-06T20:00:00+00:00",
          "2015-10-06T21:00:00+00:00",
          "2015-10-06T22:00:00+00:00",
          "2015-10-06T23:00:00+00:00",
          "2015-10-07T00:00:00+00:00",
          "2015-10-07T01:00:00+00:00",
          "2015-10-07T02:00:00+00:00",
          "2015-10-07T03:00:00+00:00",
          "2015-10-07T04:00:00+00:00",
          "2015-10-07T05:00:00+00:00",
          "2015-10-07T06:00:00+00:00",
          "2015-10-07T07:00:00+00:00",
          "2015-10-07T08:00:00+00:00",
          "2015-10-07T09:00:00+00:00",
          "2015-10-07T10:00:00+00:00",
          "2015-10-07T11:00:00+00:00",
          "2015-10-07T12:00:00+00:00",
          "2015-10-07T13:00:00+00:00",
          "2015-10-07T14:00:00+00:00",
          "2015-10-07T15:00:00+00:00",
          "2015-10-07T16:00:00+00:00",
          "2015-10-07T17:00:00+00:00",
          "2015-10-07T18:00:00+00:00",
          "2015-10-07T19:00:00+00:00",
          "2015-10-07T20:00:00+00:00",
          "2015-10-07T21:00:00+00:00",
          "2015-10-07T22:00:00+00:00",
          "2015-10-07T23:00:00+00:00",
          "2015-10-08T00:00:00+00:00"
         ],
         "y": [
          93474.0955205866,
          93473.34759187172,
          93473.19252608504,
          93473.08895309873,
          93473.06555276334,
          93475.53544984873,
          93475.08395259795,
          93474.95463321146,
          93474.89114655061,
          93474.78342862942,
          93474.74207165599,
          93477.64059387888,
          93477.88523252629,
          93486.54980432859,
          93484.3265161179,
          93486.54858266837,
          93485.83509811216,
          93485.7596486398,
          93485.47014417862,
          93485.36242625742,
          93485.321069284,
          93488.21959150689,
          93487.471662792,
          93487.31659700532,
          93487.21302401902,
          93487.18962368363,
          93490.01280663974,
          93489.26487792486,
          93489.10981213818,
          93489.00623915187,
          93488.98283881649,
          93488.86614257627,
          93491.76466479918,
          93491.01673608429,
          93490.86167029761,
          93490.75809731129,
          93513.60562021664,
          93513.78131347,
          93526.31899697614,
          93526.46044100488,
          93524.48888928266,
          93523.98920726925,
          93523.81990555544,
          93523.51310479098,
          93523.321069284,
          93526.21959150689,
          93525.471662792,
          93525.31659700532,
          93525.21302401902,
          93525.18962368363,
          93525.07292744343,
          93527.97144966632,
          93527.22352095143,
          93527.06845516476,
          93535.78451976742,
          93533.64140420765,
          93533.1835815277,
          93532.95557651564,
          93532.96808945634,
          93535.64059387888,
          93546.70487011527,
          93554.18960588952,
          93550.91861949762,
          93550.2537358706,
          93549.94204549301,
          93552.33309059699,
          93551.5802362791,
          93551.4509168926,
          93551.38743023176,
          93551.27971231057,
          93554.17823453347,
          93553.43030581858,
          93553.2752400319,
          93553.1716670456,
          93564.90778349551,
          93561.96480028945,
          93571.81498136542,
          93569.88419923106,
          93569.56281915754,
          93572.07146556364,
          93571.05809305771,
          93570.90302727104,
          93570.79945428473,
          93570.77605394935,
          93571.65192507142,
          93594.88990802836,
          93591.15728855875,
          93590.32426986775,
          93590.08374570754,
          93589.44514020428,
          93589.40378323085,
          93591.69996823781,
          93591.442476282,
          93591.27971231057,
          93593.6294175542,
          93593.62792679465,
          93593.29240429869,
          93593.19839126256,
          93593.09205498634,
          93593.05668355891,
          93592.99021349657,
          93595.53544984873,
          93598.02383179427,
          93603.06769905897,
          93601.47736010196,
          93603.666601867,
          93611.92826681747,
          93609.6398062159,
          93618.89671953302,
          93616.48263834881,
          93616.15402484976,
          93627.85464419203,
          93626.39632952008,
          93625.86567443285,
          93625.40378323085,
          93625.36242625742,
          93628.26094848033,
          93627.51301976544,
          93627.35795397876,
          93627.25438099244,
          93627.23098065706,
          93627.11428441685,
          93627.07292744343,
          93634.04419641115,
          93633.35443449057,
          93638.12204317433,
          93637.26040564619,
          93637.04312384663,
          93636.95750749836,
          93636.78342862942,
          93639.32866498159,
          93638.87716773081,
          93639.7404157066,
          93639.67692904576,
          93654.26860710619,
          93661.9839686126,
          93659.371006076,
          93658.26730232107,
          93658.04111808614,
          93657.65480500551,
          93657.35873891738,
          93659.67077452764,
          93659.66928376807,
          93659.33376127211,
          93659.239748236,
          93659.13341195976,
          93676.50234591123,
          93672.60805813456,
          93671.73623254959,
          93671.30870629879,
          93683.11456277617,
          93679.81820721243,
          93679.30318016933,
          93681.71786854161,
          93681.45337911334,
          93680.8487405275,
          93681.72486170338
         ]
        },
        {
         "name": "actual",
         "type": "scatter",
         "x": [
          "2015-10-01T05:14:44+00:00",
          "2015-10-01T05:42:34+00:00",
          "2015-10-01T07:02:37+00:00",
          "2015-10-01T07:12:38+00:00",
          "2015-10-01T07:20:36+00:00",
          "2015-10-01T07:23:39+00:00",
          "2015-10-01T08:59:41+00:00",
          "2015-10-01T09:30:40+00:00",
          "2015-10-01T09:34:37+00:00",
          "2015-10-01T10:14:35+00:00",
          "2015-10-01T10:17:32+00:00",
          "2015-10-01T11:23:36+00:00",
          "2015-10-01T12:26:51+00:00",
          "2015-10-01T13:19:40+00:00",
          "2015-10-01T13:44:40+00:00",
          "2015-10-01T13:54:30+00:00",
          "2015-10-01T14:36:34+00:00",
          "2015-10-01T16:24:52+00:00",
          "2015-10-01T17:29:40+00:00",
          "2015-10-01T20:04:40+00:00",
          "2015-10-01T20:20:41+00:00",
          "2015-10-01T21:22:43+00:00",
          "2015-10-01T22:03:44+00:00",
          "2015-10-01T22:11:38+00:00",
          "2015-10-01T22:24:32+00:00",
          "2015-10-01T22:54:31+00:00",
          "2015-10-01T23:02:35+00:00",
          "2015-10-01T23:59:38+00:00",
          "2015-10-02T00:44:49+00:00",
          "2015-10-02T00:57:48+00:00",
          "2015-10-02T02:13:46+00:00",
          "2015-10-02T02:16:44+00:00",
          "2015-10-02T02:33:31+00:00",
          "2015-10-02T02:54:36+00:00",
          "2015-10-02T03:34:32+00:00",
          "2015-10-02T04:07:40+00:00",
          "2015-10-02T04:57:49+00:00",
          "2015-10-02T05:01:51+00:00",
          "2015-10-02T06:14:44+00:00",
          "2015-10-02T06:24:44+00:00",
          "2015-10-02T07:15:34+00:00",
          "2015-10-02T08:35:41+00:00",
          "2015-10-02T08:50:46+00:00",
          "2015-10-02T09:24:51+00:00",
          "2015-10-02T10:44:41+00:00",
          "2015-10-02T11:13:39+00:00",
          "2015-10-02T11:17:37+00:00",
          "2015-10-02T12:07:29+00:00",
          "2015-10-02T13:53:46+00:00",
          "2015-10-02T14:05:45+00:00",
          "2015-10-02T14:44:46+00:00",
          "2015-10-02T15:17:35+00:00",
          "2015-10-02T15:43:31+00:00",
          "2015-10-02T16:24:31+00:00",
          "2015-10-02T16:44:40+00:00",
          "2015-10-02T16:53:40+00:00",
          "2015-10-02T18:26:42+00:00",
          "2015-10-02T19:34:40+00:00",
          "2015-10-02T20:30:31+00:00",
          "2015-10-02T20:42:34+00:00",
          "2015-10-02T23:35:34+00:00",
          "2015-10-03T00:34:34+00:00",
          "2015-10-03T01:14:42+00:00",
          "2015-10-03T01:53:48+00:00",
          "2015-10-03T02:29:47+00:00",
          "2015-10-03T03:04:44+00:00",
          "2015-10-03T03:45:32+00:00",
          "2015-10-03T04:04:38+00:00",
          "2015-10-03T04:22:33+00:00",
          "2015-10-03T04:56:30+00:00",
          "2015-10-03T04:59:31+00:00",
          "2015-10-03T05:19:41+00:00",
          "2015-10-03T05:49:46+00:00",
          "2015-10-03T07:03:44+00:00",
          "2015-10-03T07:32:47+00:00",
          "2015-10-03T08:24:38+00:00",
          "2015-10-03T08:36:37+00:00",
          "2015-10-03T09:47:42+00:00",
          "2015-10-03T10:53:47+00:00",
          "2015-10-03T11:36:43+00:00",
          "2015-10-03T13:18:31+00:00",
          "2015-10-03T14:03:42+00:00",
          "2015-10-03T14:54:56+00:00",
          "2015-10-03T15:01:49+00:00",
          "2015-10-03T15:16:47+00:00",
          "2015-10-03T15:49:44+00:00",
          "2015-10-03T15:57:48+00:00",
          "2015-10-03T16:01:48+00:00",
          "2015-10-03T16:09:42+00:00",
          "2015-10-03T16:24:34+00:00",
          "2015-10-03T16:56:33+00:00",
          "2015-10-03T16:59:35+00:00",
          "2015-10-03T17:25:35+00:00",
          "2015-10-03T17:46:36+00:00",
          "2015-10-03T17:57:42+00:00",
          "2015-10-03T18:07:41+00:00",
          "2015-10-03T18:47:53+00:00",
          "2015-10-03T19:12:48+00:00",
          "2015-10-03T20:17:46+00:00",
          "2015-10-03T20:48:41+00:00",
          "2015-10-03T21:04:36+00:00",
          "2015-10-03T21:33:34+00:00",
          "2015-10-03T22:25:41+00:00",
          "2015-10-03T22:29:43+00:00",
          "2015-10-03T23:13:54+00:00",
          "2015-10-03T23:19:57+00:00",
          "2015-10-04T00:08:45+00:00",
          "2015-10-04T00:09:44+00:00",
          "2015-10-04T00:17:48+00:00",
          "2015-10-04T01:49:36+00:00",
          "2015-10-04T02:33:41+00:00",
          "2015-10-04T02:52:46+00:00",
          "2015-10-04T04:14:49+00:00",
          "2015-10-04T05:55:35+00:00",
          "2015-10-04T06:49:41+00:00",
          "2015-10-04T07:39:55+00:00",
          "2015-10-04T07:50:50+00:00",
          "2015-10-04T08:03:46+00:00",
          "2015-10-04T08:05:48+00:00",
          "2015-10-04T08:14:44+00:00",
          "2015-10-04T08:37:46+00:00",
          "2015-10-04T09:25:42+00:00",
          "2015-10-04T10:12:34+00:00",
          "2015-10-04T12:03:49+00:00",
          "2015-10-04T13:40:39+00:00",
          "2015-10-04T15:17:43+00:00",
          "2015-10-04T15:27:48+00:00",
          "2015-10-04T16:43:46+00:00",
          "2015-10-04T16:54:44+00:00",
          "2015-10-04T17:15:47+00:00",
          "2015-10-04T17:34:35+00:00",
          "2015-10-04T18:29:32+00:00",
          "2015-10-04T18:32:36+00:00",
          "2015-10-04T18:35:36+00:00",
          "2015-10-04T18:54:37+00:00",
          "2015-10-04T19:44:45+00:00",
          "2015-10-04T20:21:55+00:00",
          "2015-10-04T20:37:43+00:00",
          "2015-10-04T20:45:48+00:00",
          "2015-10-04T21:10:45+00:00",
          "2015-10-04T21:24:48+00:00",
          "2015-10-04T21:49:38+00:00",
          "2015-10-04T22:37:33+00:00",
          "2015-10-04T22:49:37+00:00",
          "2015-10-05T00:24:55+00:00",
          "2015-10-05T01:06:46+00:00",
          "2015-10-05T01:44:45+00:00",
          "2015-10-05T02:48:34+00:00",
          "2015-10-05T06:09:35+00:00",
          "2015-10-05T06:59:35+00:00",
          "2015-10-05T07:16:36+00:00",
          "2015-10-05T07:35:40+00:00",
          "2015-10-05T07:37:41+00:00",
          "2015-10-05T09:20:50+00:00",
          "2015-10-05T09:42:46+00:00",
          "2015-10-05T09:47:44+00:00",
          "2015-10-05T10:15:41+00:00",
          "2015-10-05T10:27:37+00:00",
          "2015-10-05T10:43:42+00:00",
          "2015-10-05T10:53:38+00:00",
          "2015-10-05T11:13:34+00:00",
          "2015-10-05T11:57:44+00:00",
          "2015-10-05T12:07:44+00:00",
          "2015-10-05T12:09:42+00:00",
          "2015-10-05T13:14:51+00:00",
          "2015-10-05T13:49:50+00:00",
          "2015-10-05T14:17:48+00:00",
          "2015-10-05T14:42:40+00:00",
          "2015-10-05T14:57:42+00:00",
          "2015-10-05T16:35:48+00:00",
          "2015-10-05T16:50:50+00:00",
          "2015-10-05T17:04:55+00:00",
          "2015-10-05T18:23:50+00:00",
          "2015-10-05T20:36:44+00:00",
          "2015-10-05T21:44:48+00:00",
          "2015-10-05T22:43:48+00:00",
          "2015-10-05T22:59:38+00:00",
          "2015-10-05T23:50:34+00:00",
          "2015-10-06T02:50:50+00:00",
          "2015-10-06T02:59:43+00:00",
          "2015-10-06T03:07:36+00:00",
          "2015-10-06T03:10:37+00:00",
          "2015-10-06T03:27:43+00:00",
          "2015-10-06T04:52:46+00:00",
          "2015-10-06T06:25:46+00:00",
          "2015-10-06T07:45:42+00:00",
          "2015-10-06T08:11:36+00:00",
          "2015-10-06T08:40:38+00:00",
          "2015-10-06T08:49:42+00:00",
          "2015-10-06T09:00:44+00:00",
          "2015-10-06T09:06:45+00:00",
          "2015-10-06T09:56:52+00:00",
          "2015-10-06T10:27:48+00:00",
          "2015-10-06T10:32:51+00:00",
          "2015-10-06T14:34:50+00:00",
          "2015-10-06T16:29:37+00:00",
          "2015-10-06T17:11:42+00:00",
          "2015-10-06T19:06:47+00:00",
          "2015-10-06T19:30:50+00:00",
          "2015-10-06T19:59:39+00:00",
          "2015-10-06T21:44:44+00:00",
          "2015-10-06T21:47:47+00:00",
          "2015-10-06T22:45:57+00:00",
          "2015-10-06T22:47:55+00:00",
          "2015-10-06T23:12:49+00:00",
          "2015-10-06T23:37:49+00:00",
          "2015-10-07T00:38:43+00:00",
          "2015-10-07T01:28:40+00:00",
          "2015-10-07T02:04:47+00:00",
          "2015-10-07T02:54:00+00:00",
          "2015-10-07T03:14:48+00:00",
          "2015-10-07T03:22:49+00:00",
          "2015-10-07T03:33:49+00:00",
          "2015-10-07T04:09:47+00:00",
          "2015-10-07T04:17:40+00:00",
          "2015-10-07T05:02:42+00:00",
          "2015-10-07T05:52:44+00:00",
          "2015-10-07T06:26:52+00:00",
          "2015-10-07T08:06:51+00:00",
          "2015-10-07T08:09:53+00:00",
          "2015-10-07T08:17:50+00:00",
          "2015-10-07T08:24:46+00:00",
          "2015-10-07T08:29:40+00:00",
          "2015-10-07T08:50:44+00:00",
          "2015-10-07T09:27:35+00:00",
          "2015-10-07T09:57:39+00:00",
          "2015-10-07T10:35:50+00:00",
          "2015-10-07T11:39:50+00:00",
          "2015-10-07T12:51:39+00:00",
          "2015-10-07T13:20:38+00:00",
          "2015-10-07T13:23:40+00:00",
          "2015-10-07T13:26:42+00:00",
          "2015-10-07T13:27:41+00:00",
          "2015-10-07T14:07:39+00:00",
          "2015-10-07T14:09:39+00:00",
          "2015-10-07T16:04:47+00:00",
          "2015-10-07T16:15:50+00:00",
          "2015-10-07T17:07:43+00:00",
          "2015-10-07T19:27:56+00:00",
          "2015-10-07T20:17:48+00:00",
          "2015-10-07T20:37:50+00:00",
          "2015-10-07T20:45:54+00:00",
          "2015-10-07T20:56:48+00:00",
          "2015-10-07T21:20:45+00:00",
          "2015-10-07T21:24:45+00:00",
          "2015-10-07T21:34:45+00:00",
          "2015-10-07T22:14:40+00:00",
          "2015-10-07T22:29:42+00:00",
          "2015-10-07T23:03:48+00:00",
          "2015-10-08T00:27:50+00:00"
         ],
         "y": [
          93470,
          93470,
          93470,
          93470,
          93470,
          93470,
          93470,
          93470,
          93470,
          93470,
          93470,
          93472,
          93472,
          93472,
          93472,
          93472,
          93472,
          93474,
          93474,
          93474,
          93474,
          93474,
          93476,
          93476,
          93476,
          93476,
          93476,
          93476,
          93482,
          93482,
          93484,
          93484,
          93484,
          93484,
          93484,
          93484,
          93484,
          93484,
          93484,
          93484,
          93484,
          93486,
          93486,
          93486,
          93486,
          93486,
          93486,
          93486,
          93488,
          93488,
          93488,
          93488,
          93488,
          93488,
          93488,
          93488,
          93488,
          93490,
          93490,
          93490,
          93508,
          93510,
          93516,
          93520,
          93522,
          93522,
          93522,
          93522,
          93522,
          93522,
          93522,
          93522,
          93522,
          93522,
          93522,
          93524,
          93524,
          93524,
          93524,
          93524,
          93524,
          93526,
          93526,
          93526,
          93526,
          93526,
          93526,
          93526,
          93526,
          93526,
          93526,
          93526,
          93532,
          93532,
          93532,
          93532,
          93532,
          93532,
          93532,
          93532,
          93532,
          93532,
          93534,
          93534,
          93538,
          93542,
          93548,
          93548,
          93548,
          93548,
          93548,
          93548,
          93550,
          93550,
          93550,
          93550,
          93550,
          93550,
          93550,
          93550,
          93550,
          93552,
          93552,
          93552,
          93560,
          93568,
          93568,
          93568,
          93568,
          93568,
          93568,
          93570,
          93570,
          93570,
          93570,
          93570,
          93570,
          93570,
          93570,
          93570,
          93570,
          93570,
          93570,
          93570,
          93588,
          93588,
          93588,
          93588,
          93590,
          93590,
          93590,
          93590,
          93590,
          93590,
          93592,
          93592,
          93592,
          93592,
          93592,
          93592,
          93592,
          93592,
          93592,
          93592,
          93592,
          93592,
          93592,
          93592,
          93592,
          93594,
          93594,
          93596,
          93600,
          93602,
          93608,
          93608,
          93608,
          93614,
          93624,
          93624,
          93624,
          93624,
          93624,
          93624,
          93624,
          93626,
          93626,
          93626,
          93626,
          93626,
          93626,
          93626,
          93626,
          93626,
          93632,
          93636,
          93636,
          93636,
          93636,
          93636,
          93638,
          93638,
          93638,
          93638,
          93638,
          93638,
          93638,
          93648,
          93654,
          93656,
          93656,
          93656,
          93656,
          93656,
          93656,
          93656,
          93656,
          93656,
          93656,
          93656,
          93658,
          93658,
          93658,
          93658,
          93658,
          93658,
          93658,
          93658,
          93658,
          93668,
          93670,
          93670,
          93670,
          93670,
          93670,
          93670,
          93670,
          93678,
          93678,
          93678,
          93680,
          93680,
          93680,
          93680,
          93680,
          93680,
          93680,
          93680,
          93680,
          93686
         ]
        },
        {
         "name": "imputed",
         "type": "scatter",
         "x": [
          "2015-10-01T05:00:00+00:00",
          "2015-10-01T06:00:00+00:00",
          "2015-10-01T07:00:00+00:00",
          "2015-10-01T08:00:00+00:00",
          "2015-10-01T09:00:00+00:00",
          "2015-10-01T10:00:00+00:00",
          "2015-10-01T11:00:00+00:00",
          "2015-10-01T12:00:00+00:00",
          "2015-10-01T13:00:00+00:00",
          "2015-10-01T14:00:00+00:00",
          "2015-10-01T15:00:00+00:00",
          "2015-10-01T16:00:00+00:00",
          "2015-10-01T17:00:00+00:00",
          "2015-10-01T18:00:00+00:00",
          "2015-10-01T19:00:00+00:00",
          "2015-10-01T20:00:00+00:00",
          "2015-10-01T21:00:00+00:00",
          "2015-10-01T22:00:00+00:00",
          "2015-10-01T23:00:00+00:00",
          "2015-10-02T00:00:00+00:00",
          "2015-10-02T01:00:00+00:00",
          "2015-10-02T02:00:00+00:00",
          "2015-10-02T03:00:00+00:00",
          "2015-10-02T04:00:00+00:00",
          "2015-10-02T05:00:00+00:00",
          "2015-10-02T06:00:00+00:00",
          "2015-10-02T07:00:00+00:00",
          "2015-10-02T08:00:00+00:00",
          "2015-10-02T09:00:00+00:00",
          "2015-10-02T10:00:00+00:00",
          "2015-10-02T11:00:00+00:00",
          "2015-10-02T12:00:00+00:00",
          "2015-10-02T13:00:00+00:00",
          "2015-10-02T14:00:00+00:00",
          "2015-10-02T15:00:00+00:00",
          "2015-10-02T16:00:00+00:00",
          "2015-10-02T17:00:00+00:00",
          "2015-10-02T18:00:00+00:00",
          "2015-10-02T19:00:00+00:00",
          "2015-10-02T20:00:00+00:00",
          "2015-10-02T21:00:00+00:00",
          "2015-10-02T22:00:00+00:00",
          "2015-10-02T23:00:00+00:00",
          "2015-10-03T00:00:00+00:00",
          "2015-10-03T01:00:00+00:00",
          "2015-10-03T02:00:00+00:00",
          "2015-10-03T03:00:00+00:00",
          "2015-10-03T04:00:00+00:00",
          "2015-10-03T05:00:00+00:00",
          "2015-10-03T06:00:00+00:00",
          "2015-10-03T07:00:00+00:00",
          "2015-10-03T08:00:00+00:00",
          "2015-10-03T09:00:00+00:00",
          "2015-10-03T10:00:00+00:00",
          "2015-10-03T11:00:00+00:00",
          "2015-10-03T12:00:00+00:00",
          "2015-10-03T13:00:00+00:00",
          "2015-10-03T14:00:00+00:00",
          "2015-10-03T15:00:00+00:00",
          "2015-10-03T16:00:00+00:00",
          "2015-10-03T17:00:00+00:00",
          "2015-10-03T18:00:00+00:00",
          "2015-10-03T19:00:00+00:00",
          "2015-10-03T20:00:00+00:00",
          "2015-10-03T21:00:00+00:00",
          "2015-10-03T22:00:00+00:00",
          "2015-10-03T23:00:00+00:00",
          "2015-10-04T00:00:00+00:00",
          "2015-10-04T01:00:00+00:00",
          "2015-10-04T02:00:00+00:00",
          "2015-10-04T03:00:00+00:00",
          "2015-10-04T04:00:00+00:00",
          "2015-10-04T05:00:00+00:00",
          "2015-10-04T06:00:00+00:00",
          "2015-10-04T07:00:00+00:00",
          "2015-10-04T08:00:00+00:00",
          "2015-10-04T09:00:00+00:00",
          "2015-10-04T10:00:00+00:00",
          "2015-10-04T11:00:00+00:00",
          "2015-10-04T12:00:00+00:00",
          "2015-10-04T13:00:00+00:00",
          "2015-10-04T14:00:00+00:00",
          "2015-10-04T15:00:00+00:00",
          "2015-10-04T16:00:00+00:00",
          "2015-10-04T17:00:00+00:00",
          "2015-10-04T18:00:00+00:00",
          "2015-10-04T19:00:00+00:00",
          "2015-10-04T20:00:00+00:00",
          "2015-10-04T21:00:00+00:00",
          "2015-10-04T22:00:00+00:00",
          "2015-10-04T23:00:00+00:00",
          "2015-10-05T00:00:00+00:00",
          "2015-10-05T01:00:00+00:00",
          "2015-10-05T02:00:00+00:00",
          "2015-10-05T03:00:00+00:00",
          "2015-10-05T04:00:00+00:00",
          "2015-10-05T05:00:00+00:00",
          "2015-10-05T06:00:00+00:00",
          "2015-10-05T07:00:00+00:00",
          "2015-10-05T08:00:00+00:00",
          "2015-10-05T09:00:00+00:00",
          "2015-10-05T10:00:00+00:00",
          "2015-10-05T11:00:00+00:00",
          "2015-10-05T12:00:00+00:00",
          "2015-10-05T13:00:00+00:00",
          "2015-10-05T14:00:00+00:00",
          "2015-10-05T15:00:00+00:00",
          "2015-10-05T16:00:00+00:00",
          "2015-10-05T17:00:00+00:00",
          "2015-10-05T18:00:00+00:00",
          "2015-10-05T19:00:00+00:00",
          "2015-10-05T20:00:00+00:00",
          "2015-10-05T21:00:00+00:00",
          "2015-10-05T22:00:00+00:00",
          "2015-10-05T23:00:00+00:00",
          "2015-10-06T00:00:00+00:00",
          "2015-10-06T01:00:00+00:00",
          "2015-10-06T02:00:00+00:00",
          "2015-10-06T03:00:00+00:00",
          "2015-10-06T04:00:00+00:00",
          "2015-10-06T05:00:00+00:00",
          "2015-10-06T06:00:00+00:00",
          "2015-10-06T07:00:00+00:00",
          "2015-10-06T08:00:00+00:00",
          "2015-10-06T09:00:00+00:00",
          "2015-10-06T10:00:00+00:00",
          "2015-10-06T11:00:00+00:00",
          "2015-10-06T12:00:00+00:00",
          "2015-10-06T13:00:00+00:00",
          "2015-10-06T14:00:00+00:00",
          "2015-10-06T15:00:00+00:00",
          "2015-10-06T16:00:00+00:00",
          "2015-10-06T17:00:00+00:00",
          "2015-10-06T18:00:00+00:00",
          "2015-10-06T19:00:00+00:00",
          "2015-10-06T20:00:00+00:00",
          "2015-10-06T21:00:00+00:00",
          "2015-10-06T22:00:00+00:00",
          "2015-10-06T23:00:00+00:00",
          "2015-10-07T00:00:00+00:00",
          "2015-10-07T01:00:00+00:00",
          "2015-10-07T02:00:00+00:00",
          "2015-10-07T03:00:00+00:00",
          "2015-10-07T04:00:00+00:00",
          "2015-10-07T05:00:00+00:00",
          "2015-10-07T06:00:00+00:00",
          "2015-10-07T07:00:00+00:00",
          "2015-10-07T08:00:00+00:00",
          "2015-10-07T09:00:00+00:00",
          "2015-10-07T10:00:00+00:00",
          "2015-10-07T11:00:00+00:00",
          "2015-10-07T12:00:00+00:00",
          "2015-10-07T13:00:00+00:00",
          "2015-10-07T14:00:00+00:00",
          "2015-10-07T15:00:00+00:00",
          "2015-10-07T16:00:00+00:00",
          "2015-10-07T17:00:00+00:00",
          "2015-10-07T18:00:00+00:00",
          "2015-10-07T19:00:00+00:00",
          "2015-10-07T20:00:00+00:00",
          "2015-10-07T21:00:00+00:00",
          "2015-10-07T22:00:00+00:00",
          "2015-10-07T23:00:00+00:00",
          "2015-10-08T00:00:00+00:00",
          "2015-10-08T01:00:00+00:00",
          "2015-10-08T02:00:00+00:00",
          "2015-10-08T03:00:00+00:00",
          "2015-10-08T04:00:00+00:00",
          "2015-10-08T05:00:00+00:00",
          "2015-10-08T06:00:00+00:00",
          "2015-10-08T07:00:00+00:00",
          "2015-10-08T08:00:00+00:00",
          "2015-10-08T09:00:00+00:00",
          "2015-10-08T10:00:00+00:00",
          "2015-10-08T11:00:00+00:00",
          "2015-10-08T12:00:00+00:00",
          "2015-10-08T13:00:00+00:00",
          "2015-10-08T14:00:00+00:00",
          "2015-10-08T15:00:00+00:00",
          "2015-10-08T16:00:00+00:00",
          "2015-10-08T17:00:00+00:00",
          "2015-10-08T18:00:00+00:00",
          "2015-10-08T19:00:00+00:00",
          "2015-10-08T20:00:00+00:00",
          "2015-10-08T21:00:00+00:00",
          "2015-10-08T22:00:00+00:00",
          "2015-10-08T23:00:00+00:00",
          "2015-10-09T00:00:00+00:00",
          "2015-10-09T01:00:00+00:00",
          "2015-10-09T02:00:00+00:00",
          "2015-10-09T03:00:00+00:00",
          "2015-10-09T04:00:00+00:00",
          "2015-10-09T05:00:00+00:00",
          "2015-10-09T06:00:00+00:00",
          "2015-10-09T07:00:00+00:00",
          "2015-10-09T08:00:00+00:00",
          "2015-10-09T09:00:00+00:00",
          "2015-10-09T10:00:00+00:00",
          "2015-10-09T11:00:00+00:00",
          "2015-10-09T12:00:00+00:00",
          "2015-10-09T13:00:00+00:00",
          "2015-10-09T14:00:00+00:00",
          "2015-10-09T15:00:00+00:00",
          "2015-10-09T16:00:00+00:00",
          "2015-10-09T17:00:00+00:00",
          "2015-10-09T18:00:00+00:00",
          "2015-10-09T19:00:00+00:00",
          "2015-10-09T20:00:00+00:00",
          "2015-10-09T21:00:00+00:00",
          "2015-10-09T22:00:00+00:00",
          "2015-10-09T23:00:00+00:00",
          "2015-10-10T00:00:00+00:00",
          "2015-10-10T01:00:00+00:00",
          "2015-10-10T02:00:00+00:00",
          "2015-10-10T03:00:00+00:00",
          "2015-10-10T04:00:00+00:00",
          "2015-10-10T05:00:00+00:00",
          "2015-10-10T06:00:00+00:00",
          "2015-10-10T07:00:00+00:00",
          "2015-10-10T08:00:00+00:00",
          "2015-10-10T09:00:00+00:00",
          "2015-10-10T10:00:00+00:00",
          "2015-10-10T11:00:00+00:00",
          "2015-10-10T12:00:00+00:00",
          "2015-10-10T13:00:00+00:00",
          "2015-10-10T14:00:00+00:00",
          "2015-10-10T15:00:00+00:00",
          "2015-10-10T16:00:00+00:00",
          "2015-10-10T17:00:00+00:00",
          "2015-10-10T18:00:00+00:00",
          "2015-10-10T19:00:00+00:00",
          "2015-10-10T20:00:00+00:00",
          "2015-10-10T21:00:00+00:00",
          "2015-10-10T22:00:00+00:00",
          "2015-10-10T23:00:00+00:00",
          "2015-10-11T00:00:00+00:00",
          "2015-10-11T01:00:00+00:00",
          "2015-10-11T02:00:00+00:00",
          "2015-10-11T03:00:00+00:00",
          "2015-10-11T04:00:00+00:00",
          "2015-10-11T05:00:00+00:00",
          "2015-10-11T06:00:00+00:00",
          "2015-10-11T07:00:00+00:00",
          "2015-10-11T08:00:00+00:00",
          "2015-10-11T09:00:00+00:00",
          "2015-10-11T10:00:00+00:00",
          "2015-10-11T11:00:00+00:00",
          "2015-10-11T12:00:00+00:00",
          "2015-10-11T13:00:00+00:00",
          "2015-10-11T14:00:00+00:00"
         ],
         "y": [
          93470,
          93470,
          93470,
          93470,
          93470,
          93470,
          93472,
          93472,
          93472,
          93472,
          93473,
          93474,
          93474,
          93474,
          93474,
          93474,
          93474,
          93476,
          93476,
          93482,
          93483,
          93484,
          93484,
          93484,
          93484,
          93484,
          93484,
          93486,
          93486,
          93486,
          93486,
          93486,
          93488,
          93488,
          93488,
          93488,
          93488,
          93488,
          93490,
          93490,
          93496,
          93502,
          93508,
          93510,
          93518,
          93522,
          93522,
          93522,
          93522,
          93522,
          93522,
          93524,
          93524,
          93524,
          93524,
          93524,
          93524,
          93526,
          93526,
          93526,
          93532,
          93532,
          93532,
          93532,
          93532,
          93534,
          93540,
          93548,
          93548,
          93548,
          93549,
          93550,
          93550,
          93550,
          93550,
          93550,
          93552,
          93552,
          93552,
          93552,
          93560,
          93564,
          93568,
          93568,
          93568,
          93570,
          93570,
          93570,
          93570,
          93570,
          93579,
          93588,
          93588,
          93588,
          93588.5,
          93589,
          93589.5,
          93590,
          93590,
          93590.66666666666,
          93591.33333333333,
          93592,
          93592,
          93592,
          93592,
          93592,
          93593,
          93594,
          93596,
          93600,
          93601,
          93602,
          93608,
          93608,
          93614,
          93617.33333333333,
          93620.66666666667,
          93624,
          93624,
          93624,
          93624,
          93624,
          93626,
          93626,
          93626,
          93626,
          93627.5,
          93629,
          93630.5,
          93632,
          93634,
          93636,
          93636,
          93636,
          93636,
          93637,
          93638,
          93638,
          93638,
          93638,
          93648,
          93655,
          93656,
          93656,
          93656,
          93656,
          93656.66666666666,
          93657.33333333333,
          93658,
          93658,
          93658,
          93658,
          93669.5,
          93670,
          93670,
          93670,
          93678,
          93678,
          93678,
          93679.5,
          93680,
          93680,
          93680,
          93686,
          93700,
          93702,
          93702,
          93702,
          93702,
          93702,
          93702,
          93703,
          93703.5,
          93704,
          93704,
          93708,
          93712,
          93712,
          93712,
          93714,
          93714,
          93714,
          93714,
          93714,
          93714,
          93716,
          93716,
          93716,
          93716,
          93716,
          93717.33333333333,
          93718,
          93718,
          93718,
          93718,
          93718,
          93719,
          93720,
          93720,
          93720,
          93720,
          93720,
          93722,
          93722,
          93722,
          93722,
          93722,
          93723,
          93724,
          93724,
          93724,
          93724,
          93724,
          93726,
          93726,
          93726,
          93726,
          93726,
          93726.66666666667,
          93728,
          93728,
          93728,
          93728,
          93728,
          93730,
          93730,
          93730,
          93730,
          93730,
          93730,
          93731,
          93732,
          93732,
          93732,
          93732,
          93733,
          93734,
          93734,
          93734,
          93734,
          93734,
          93735,
          93736,
          93736,
          93736,
          93736,
          93736,
          93738,
          93738,
          93738
         ]
        },
        {
         "name": "long_term_prediction",
         "type": "scatter",
         "x": [
          "2015-10-02T01:00:00+00:00",
          "2015-10-02T02:00:00+00:00",
          "2015-10-02T03:00:00+00:00",
          "2015-10-02T04:00:00+00:00",
          "2015-10-02T05:00:00+00:00",
          "2015-10-02T06:00:00+00:00",
          "2015-10-02T07:00:00+00:00",
          "2015-10-02T08:00:00+00:00",
          "2015-10-02T09:00:00+00:00",
          "2015-10-02T10:00:00+00:00",
          "2015-10-02T11:00:00+00:00",
          "2015-10-02T12:00:00+00:00",
          "2015-10-02T13:00:00+00:00",
          "2015-10-02T14:00:00+00:00",
          "2015-10-02T15:00:00+00:00",
          "2015-10-02T16:00:00+00:00",
          "2015-10-02T17:00:00+00:00",
          "2015-10-02T18:00:00+00:00",
          "2015-10-02T19:00:00+00:00",
          "2015-10-02T20:00:00+00:00",
          "2015-10-02T21:00:00+00:00",
          "2015-10-02T22:00:00+00:00",
          "2015-10-02T23:00:00+00:00",
          "2015-10-03T00:00:00+00:00",
          "2015-10-03T01:00:00+00:00",
          "2015-10-03T02:00:00+00:00",
          "2015-10-03T03:00:00+00:00",
          "2015-10-03T04:00:00+00:00",
          "2015-10-03T05:00:00+00:00",
          "2015-10-03T06:00:00+00:00",
          "2015-10-03T07:00:00+00:00",
          "2015-10-03T08:00:00+00:00",
          "2015-10-03T09:00:00+00:00",
          "2015-10-03T10:00:00+00:00",
          "2015-10-03T11:00:00+00:00",
          "2015-10-03T12:00:00+00:00",
          "2015-10-03T13:00:00+00:00",
          "2015-10-03T14:00:00+00:00",
          "2015-10-03T15:00:00+00:00",
          "2015-10-03T16:00:00+00:00",
          "2015-10-03T17:00:00+00:00",
          "2015-10-03T18:00:00+00:00",
          "2015-10-03T19:00:00+00:00",
          "2015-10-03T20:00:00+00:00",
          "2015-10-03T21:00:00+00:00",
          "2015-10-03T22:00:00+00:00",
          "2015-10-03T23:00:00+00:00",
          "2015-10-04T00:00:00+00:00",
          "2015-10-04T01:00:00+00:00",
          "2015-10-04T02:00:00+00:00",
          "2015-10-04T03:00:00+00:00",
          "2015-10-04T04:00:00+00:00",
          "2015-10-04T05:00:00+00:00",
          "2015-10-04T06:00:00+00:00",
          "2015-10-04T07:00:00+00:00",
          "2015-10-04T08:00:00+00:00",
          "2015-10-04T09:00:00+00:00",
          "2015-10-04T10:00:00+00:00",
          "2015-10-04T11:00:00+00:00",
          "2015-10-04T12:00:00+00:00",
          "2015-10-04T13:00:00+00:00",
          "2015-10-04T14:00:00+00:00",
          "2015-10-04T15:00:00+00:00",
          "2015-10-04T16:00:00+00:00",
          "2015-10-04T17:00:00+00:00",
          "2015-10-04T18:00:00+00:00",
          "2015-10-04T19:00:00+00:00",
          "2015-10-04T20:00:00+00:00",
          "2015-10-04T21:00:00+00:00",
          "2015-10-04T22:00:00+00:00",
          "2015-10-04T23:00:00+00:00",
          "2015-10-05T00:00:00+00:00",
          "2015-10-05T01:00:00+00:00",
          "2015-10-05T02:00:00+00:00",
          "2015-10-05T03:00:00+00:00",
          "2015-10-05T04:00:00+00:00",
          "2015-10-05T05:00:00+00:00",
          "2015-10-05T06:00:00+00:00",
          "2015-10-05T07:00:00+00:00",
          "2015-10-05T08:00:00+00:00",
          "2015-10-05T09:00:00+00:00",
          "2015-10-05T10:00:00+00:00",
          "2015-10-05T11:00:00+00:00",
          "2015-10-05T12:00:00+00:00",
          "2015-10-05T13:00:00+00:00",
          "2015-10-05T14:00:00+00:00",
          "2015-10-05T15:00:00+00:00",
          "2015-10-05T16:00:00+00:00",
          "2015-10-05T17:00:00+00:00",
          "2015-10-05T18:00:00+00:00",
          "2015-10-05T19:00:00+00:00",
          "2015-10-05T20:00:00+00:00",
          "2015-10-05T21:00:00+00:00",
          "2015-10-05T22:00:00+00:00",
          "2015-10-05T23:00:00+00:00",
          "2015-10-06T00:00:00+00:00",
          "2015-10-06T01:00:00+00:00",
          "2015-10-06T02:00:00+00:00",
          "2015-10-06T03:00:00+00:00",
          "2015-10-06T04:00:00+00:00",
          "2015-10-06T05:00:00+00:00",
          "2015-10-06T06:00:00+00:00",
          "2015-10-06T07:00:00+00:00",
          "2015-10-06T08:00:00+00:00",
          "2015-10-06T09:00:00+00:00",
          "2015-10-06T10:00:00+00:00",
          "2015-10-06T11:00:00+00:00",
          "2015-10-06T12:00:00+00:00",
          "2015-10-06T13:00:00+00:00",
          "2015-10-06T14:00:00+00:00",
          "2015-10-06T15:00:00+00:00",
          "2015-10-06T16:00:00+00:00",
          "2015-10-06T17:00:00+00:00",
          "2015-10-06T18:00:00+00:00",
          "2015-10-06T19:00:00+00:00",
          "2015-10-06T20:00:00+00:00",
          "2015-10-06T21:00:00+00:00",
          "2015-10-06T22:00:00+00:00",
          "2015-10-06T23:00:00+00:00",
          "2015-10-07T00:00:00+00:00",
          "2015-10-07T01:00:00+00:00",
          "2015-10-07T02:00:00+00:00",
          "2015-10-07T03:00:00+00:00",
          "2015-10-07T04:00:00+00:00",
          "2015-10-07T05:00:00+00:00",
          "2015-10-07T06:00:00+00:00",
          "2015-10-07T07:00:00+00:00",
          "2015-10-07T08:00:00+00:00",
          "2015-10-07T09:00:00+00:00",
          "2015-10-07T10:00:00+00:00",
          "2015-10-07T11:00:00+00:00",
          "2015-10-07T12:00:00+00:00",
          "2015-10-07T13:00:00+00:00",
          "2015-10-07T14:00:00+00:00",
          "2015-10-07T15:00:00+00:00",
          "2015-10-07T16:00:00+00:00",
          "2015-10-07T17:00:00+00:00",
          "2015-10-07T18:00:00+00:00",
          "2015-10-07T19:00:00+00:00",
          "2015-10-07T20:00:00+00:00",
          "2015-10-07T21:00:00+00:00",
          "2015-10-07T22:00:00+00:00",
          "2015-10-07T23:00:00+00:00",
          "2015-10-08T00:00:00+00:00"
         ],
         "y": [
          93486.54980432859,
          93491.0144536644,
          93495.605310156,
          93500.21427367018,
          93504.9844295227,
          93509.7415668704,
          93514.30334739666,
          93518.74060509284,
          93523.05904482775,
          93527.25370854873,
          93531.32193606332,
          93535.26427233403,
          93539.08053033093,
          93542.77038440244,
          93546.3336159582,
          93549.7700887369,
          93553.07968836471,
          93556.26232278251,
          93559.31792096596,
          93562.24642804988,
          93565.0478011791,
          93567.72200692553,
          93570.2690192621,
          93573.68138528356,
          93577.4329685458,
          93581.39229850245,
          93585.49556905581,
          93589.69447354341,
          93593.93591013705,
          93598.18170140863,
          93602.40299236031,
          93606.57720791182,
          93610.68656655042,
          93614.71725770204,
          93618.65853908904,
          93622.50204040372,
          93626.2412389424,
          93629.8710543763,
          93633.3875296113,
          93636.78758220449,
          93640.06881103896,
          93643.2293457635,
          93646.26772946453,
          93649.18282727274,
          93651.97375517679,
          93654.6398245727,
          93657.18049906983,
          93660.58792820685,
          93664.33566586353,
          93668.2920002708,
          93672.39293742938,
          93676.59002431006,
          93680.83004507175,
          93685.07473347554,
          93689.29516534408,
          93693.46871170944,
          93697.5775490829,
          93701.60783419301,
          93705.5487992924,
          93709.39205423363,
          93713.13106085875,
          93716.76072680086,
          93720.27708558863,
          93723.6770474748,
          93726.9582056527,
          93730.11868533902,
          93733.15702616783,
          93736.07209058056,
          93738.86299247107,
          93741.52904160363,
          93744.06970031654,
          93747.47711715839,
          93751.2248452377,
          93755.18117218462,
          93759.28210353195,
          93763.47918588594,
          93767.71920312154,
          93771.96388877867,
          93776.18431850769,
          93780.35786320646,
          93784.46669928172,
          93788.49698338061,
          93792.4379476923,
          93796.28120201995,
          93800.02020816712,
          93803.64987373691,
          93807.16623223468,
          93810.56619389495,
          93813.84735189687,
          93817.00783144611,
          93820.04617216813,
          93822.9612364977,
          93825.7521383234,
          93828.41818740549,
          93830.95884607908,
          93834.3662628903,
          93838.11399094574,
          93842.07031787408,
          93846.17124920693,
          93850.36833154965,
          93854.60834877647,
          93858.85303442676,
          93863.07346415045,
          93867.24700884508,
          93871.35584491711,
          93875.38612901348,
          93879.32709332321,
          93883.17034764933,
          93886.9093537953,
          93890.53901936417,
          93894.05537786121,
          93897.45533952092,
          93900.7364975224,
          93903.8969770713,
          93906.93531779306,
          93909.85038212241,
          93912.64128394796,
          93915.30733302992,
          93917.84799170341,
          93921.25540851455,
          93925.00313656994,
          93928.95946349823,
          93933.06039483105,
          93937.25747717373,
          93941.49749440052,
          93945.74218005079,
          93949.96260977446,
          93954.13615446907,
          93958.24499054109,
          93962.27527463745,
          93966.21623894718,
          93970.0594932733,
          93973.79849941927,
          93977.42816498813,
          93980.94452348517,
          93984.34448514489,
          93987.62564314637,
          93990.78612269527,
          93993.82446341703,
          93996.73952774638,
          93999.53042957193,
          94002.19647865389,
          94004.73713732738,
          94008.14455413852
         ]
        }
       ],
       "layout": {
        "legend": {
         "title": {
          "text": "Data Category"
         },
         "tracegroupgap": 0
        },
        "margin": {
         "t": 60
        },
        "template": {
         "data": {
          "bar": [
           {
            "error_x": {
             "color": "#2a3f5f"
            },
            "error_y": {
             "color": "#2a3f5f"
            },
            "marker": {
             "line": {
              "color": "#E5ECF6",
              "width": 0.5
             }
            },
            "type": "bar"
           }
          ],
          "barpolar": [
           {
            "marker": {
             "line": {
              "color": "#E5ECF6",
              "width": 0.5
             }
            },
            "type": "barpolar"
           }
          ],
          "carpet": [
           {
            "aaxis": {
             "endlinecolor": "#2a3f5f",
             "gridcolor": "white",
             "linecolor": "white",
             "minorgridcolor": "white",
             "startlinecolor": "#2a3f5f"
            },
            "baxis": {
             "endlinecolor": "#2a3f5f",
             "gridcolor": "white",
             "linecolor": "white",
             "minorgridcolor": "white",
             "startlinecolor": "#2a3f5f"
            },
            "type": "carpet"
           }
          ],
          "choropleth": [
           {
            "colorbar": {
             "outlinewidth": 0,
             "ticks": ""
            },
            "type": "choropleth"
           }
          ],
          "contour": [
           {
            "colorbar": {
             "outlinewidth": 0,
             "ticks": ""
            },
            "colorscale": [
             [
              0,
              "#0d0887"
             ],
             [
              0.1111111111111111,
              "#46039f"
             ],
             [
              0.2222222222222222,
              "#7201a8"
             ],
             [
              0.3333333333333333,
              "#9c179e"
             ],
             [
              0.4444444444444444,
              "#bd3786"
             ],
             [
              0.5555555555555556,
              "#d8576b"
             ],
             [
              0.6666666666666666,
              "#ed7953"
             ],
             [
              0.7777777777777778,
              "#fb9f3a"
             ],
             [
              0.8888888888888888,
              "#fdca26"
             ],
             [
              1,
              "#f0f921"
             ]
            ],
            "type": "contour"
           }
          ],
          "contourcarpet": [
           {
            "colorbar": {
             "outlinewidth": 0,
             "ticks": ""
            },
            "type": "contourcarpet"
           }
          ],
          "heatmap": [
           {
            "colorbar": {
             "outlinewidth": 0,
             "ticks": ""
            },
            "colorscale": [
             [
              0,
              "#0d0887"
             ],
             [
              0.1111111111111111,
              "#46039f"
             ],
             [
              0.2222222222222222,
              "#7201a8"
             ],
             [
              0.3333333333333333,
              "#9c179e"
             ],
             [
              0.4444444444444444,
              "#bd3786"
             ],
             [
              0.5555555555555556,
              "#d8576b"
             ],
             [
              0.6666666666666666,
              "#ed7953"
             ],
             [
              0.7777777777777778,
              "#fb9f3a"
             ],
             [
              0.8888888888888888,
              "#fdca26"
             ],
             [
              1,
              "#f0f921"
             ]
            ],
            "type": "heatmap"
           }
          ],
          "heatmapgl": [
           {
            "colorbar": {
             "outlinewidth": 0,
             "ticks": ""
            },
            "colorscale": [
             [
              0,
              "#0d0887"
             ],
             [
              0.1111111111111111,
              "#46039f"
             ],
             [
              0.2222222222222222,
              "#7201a8"
             ],
             [
              0.3333333333333333,
              "#9c179e"
             ],
             [
              0.4444444444444444,
              "#bd3786"
             ],
             [
              0.5555555555555556,
              "#d8576b"
             ],
             [
              0.6666666666666666,
              "#ed7953"
             ],
             [
              0.7777777777777778,
              "#fb9f3a"
             ],
             [
              0.8888888888888888,
              "#fdca26"
             ],
             [
              1,
              "#f0f921"
             ]
            ],
            "type": "heatmapgl"
           }
          ],
          "histogram": [
           {
            "marker": {
             "colorbar": {
              "outlinewidth": 0,
              "ticks": ""
             }
            },
            "type": "histogram"
           }
          ],
          "histogram2d": [
           {
            "colorbar": {
             "outlinewidth": 0,
             "ticks": ""
            },
            "colorscale": [
             [
              0,
              "#0d0887"
             ],
             [
              0.1111111111111111,
              "#46039f"
             ],
             [
              0.2222222222222222,
              "#7201a8"
             ],
             [
              0.3333333333333333,
              "#9c179e"
             ],
             [
              0.4444444444444444,
              "#bd3786"
             ],
             [
              0.5555555555555556,
              "#d8576b"
             ],
             [
              0.6666666666666666,
              "#ed7953"
             ],
             [
              0.7777777777777778,
              "#fb9f3a"
             ],
             [
              0.8888888888888888,
              "#fdca26"
             ],
             [
              1,
              "#f0f921"
             ]
            ],
            "type": "histogram2d"
           }
          ],
          "histogram2dcontour": [
           {
            "colorbar": {
             "outlinewidth": 0,
             "ticks": ""
            },
            "colorscale": [
             [
              0,
              "#0d0887"
             ],
             [
              0.1111111111111111,
              "#46039f"
             ],
             [
              0.2222222222222222,
              "#7201a8"
             ],
             [
              0.3333333333333333,
              "#9c179e"
             ],
             [
              0.4444444444444444,
              "#bd3786"
             ],
             [
              0.5555555555555556,
              "#d8576b"
             ],
             [
              0.6666666666666666,
              "#ed7953"
             ],
             [
              0.7777777777777778,
              "#fb9f3a"
             ],
             [
              0.8888888888888888,
              "#fdca26"
             ],
             [
              1,
              "#f0f921"
             ]
            ],
            "type": "histogram2dcontour"
           }
          ],
          "mesh3d": [
           {
            "colorbar": {
             "outlinewidth": 0,
             "ticks": ""
            },
            "type": "mesh3d"
           }
          ],
          "parcoords": [
           {
            "line": {
             "colorbar": {
              "outlinewidth": 0,
              "ticks": ""
             }
            },
            "type": "parcoords"
           }
          ],
          "pie": [
           {
            "automargin": true,
            "type": "pie"
           }
          ],
          "scatter": [
           {
            "marker": {
             "colorbar": {
              "outlinewidth": 0,
              "ticks": ""
             }
            },
            "type": "scatter"
           }
          ],
          "scatter3d": [
           {
            "line": {
             "colorbar": {
              "outlinewidth": 0,
              "ticks": ""
             }
            },
            "marker": {
             "colorbar": {
              "outlinewidth": 0,
              "ticks": ""
             }
            },
            "type": "scatter3d"
           }
          ],
          "scattercarpet": [
           {
            "marker": {
             "colorbar": {
              "outlinewidth": 0,
              "ticks": ""
             }
            },
            "type": "scattercarpet"
           }
          ],
          "scattergeo": [
           {
            "marker": {
             "colorbar": {
              "outlinewidth": 0,
              "ticks": ""
             }
            },
            "type": "scattergeo"
           }
          ],
          "scattergl": [
           {
            "marker": {
             "colorbar": {
              "outlinewidth": 0,
              "ticks": ""
             }
            },
            "type": "scattergl"
           }
          ],
          "scattermapbox": [
           {
            "marker": {
             "colorbar": {
              "outlinewidth": 0,
              "ticks": ""
             }
            },
            "type": "scattermapbox"
           }
          ],
          "scatterpolar": [
           {
            "marker": {
             "colorbar": {
              "outlinewidth": 0,
              "ticks": ""
             }
            },
            "type": "scatterpolar"
           }
          ],
          "scatterpolargl": [
           {
            "marker": {
             "colorbar": {
              "outlinewidth": 0,
              "ticks": ""
             }
            },
            "type": "scatterpolargl"
           }
          ],
          "scatterternary": [
           {
            "marker": {
             "colorbar": {
              "outlinewidth": 0,
              "ticks": ""
             }
            },
            "type": "scatterternary"
           }
          ],
          "surface": [
           {
            "colorbar": {
             "outlinewidth": 0,
             "ticks": ""
            },
            "colorscale": [
             [
              0,
              "#0d0887"
             ],
             [
              0.1111111111111111,
              "#46039f"
             ],
             [
              0.2222222222222222,
              "#7201a8"
             ],
             [
              0.3333333333333333,
              "#9c179e"
             ],
             [
              0.4444444444444444,
              "#bd3786"
             ],
             [
              0.5555555555555556,
              "#d8576b"
             ],
             [
              0.6666666666666666,
              "#ed7953"
             ],
             [
              0.7777777777777778,
              "#fb9f3a"
             ],
             [
              0.8888888888888888,
              "#fdca26"
             ],
             [
              1,
              "#f0f921"
             ]
            ],
            "type": "surface"
           }
          ],
          "table": [
           {
            "cells": {
             "fill": {
              "color": "#EBF0F8"
             },
             "line": {
              "color": "white"
             }
            },
            "header": {
             "fill": {
              "color": "#C8D4E3"
             },
             "line": {
              "color": "white"
             }
            },
            "type": "table"
           }
          ]
         },
         "layout": {
          "annotationdefaults": {
           "arrowcolor": "#2a3f5f",
           "arrowhead": 0,
           "arrowwidth": 1
          },
          "coloraxis": {
           "colorbar": {
            "outlinewidth": 0,
            "ticks": ""
           }
          },
          "colorscale": {
           "diverging": [
            [
             0,
             "#8e0152"
            ],
            [
             0.1,
             "#c51b7d"
            ],
            [
             0.2,
             "#de77ae"
            ],
            [
             0.3,
             "#f1b6da"
            ],
            [
             0.4,
             "#fde0ef"
            ],
            [
             0.5,
             "#f7f7f7"
            ],
            [
             0.6,
             "#e6f5d0"
            ],
            [
             0.7,
             "#b8e186"
            ],
            [
             0.8,
             "#7fbc41"
            ],
            [
             0.9,
             "#4d9221"
            ],
            [
             1,
             "#276419"
            ]
           ],
           "sequential": [
            [
             0,
             "#0d0887"
            ],
            [
             0.1111111111111111,
             "#46039f"
            ],
            [
             0.2222222222222222,
             "#7201a8"
            ],
            [
             0.3333333333333333,
             "#9c179e"
            ],
            [
             0.4444444444444444,
             "#bd3786"
            ],
            [
             0.5555555555555556,
             "#d8576b"
            ],
            [
             0.6666666666666666,
             "#ed7953"
            ],
            [
             0.7777777777777778,
             "#fb9f3a"
            ],
            [
             0.8888888888888888,
             "#fdca26"
            ],
            [
             1,
             "#f0f921"
            ]
           ],
           "sequentialminus": [
            [
             0,
             "#0d0887"
            ],
            [
             0.1111111111111111,
             "#46039f"
            ],
            [
             0.2222222222222222,
             "#7201a8"
            ],
            [
             0.3333333333333333,
             "#9c179e"
            ],
            [
             0.4444444444444444,
             "#bd3786"
            ],
            [
             0.5555555555555556,
             "#d8576b"
            ],
            [
             0.6666666666666666,
             "#ed7953"
            ],
            [
             0.7777777777777778,
             "#fb9f3a"
            ],
            [
             0.8888888888888888,
             "#fdca26"
            ],
            [
             1,
             "#f0f921"
            ]
           ]
          },
          "colorway": [
           "#636efa",
           "#EF553B",
           "#00cc96",
           "#ab63fa",
           "#FFA15A",
           "#19d3f3",
           "#FF6692",
           "#B6E880",
           "#FF97FF",
           "#FECB52"
          ],
          "font": {
           "color": "#2a3f5f"
          },
          "geo": {
           "bgcolor": "white",
           "lakecolor": "white",
           "landcolor": "#E5ECF6",
           "showlakes": true,
           "showland": true,
           "subunitcolor": "white"
          },
          "hoverlabel": {
           "align": "left"
          },
          "hovermode": "closest",
          "mapbox": {
           "style": "light"
          },
          "paper_bgcolor": "white",
          "plot_bgcolor": "#E5ECF6",
          "polar": {
           "angularaxis": {
            "gridcolor": "white",
            "linecolor": "white",
            "ticks": ""
           },
           "bgcolor": "#E5ECF6",
           "radialaxis": {
            "gridcolor": "white",
            "linecolor": "white",
            "ticks": ""
           }
          },
          "scene": {
           "xaxis": {
            "backgroundcolor": "#E5ECF6",
            "gridcolor": "white",
            "gridwidth": 2,
            "linecolor": "white",
            "showbackground": true,
            "ticks": "",
            "zerolinecolor": "white"
           },
           "yaxis": {
            "backgroundcolor": "#E5ECF6",
            "gridcolor": "white",
            "gridwidth": 2,
            "linecolor": "white",
            "showbackground": true,
            "ticks": "",
            "zerolinecolor": "white"
           },
           "zaxis": {
            "backgroundcolor": "#E5ECF6",
            "gridcolor": "white",
            "gridwidth": 2,
            "linecolor": "white",
            "showbackground": true,
            "ticks": "",
            "zerolinecolor": "white"
           }
          },
          "shapedefaults": {
           "line": {
            "color": "#2a3f5f"
           }
          },
          "ternary": {
           "aaxis": {
            "gridcolor": "white",
            "linecolor": "white",
            "ticks": ""
           },
           "baxis": {
            "gridcolor": "white",
            "linecolor": "white",
            "ticks": ""
           },
           "bgcolor": "#E5ECF6",
           "caxis": {
            "gridcolor": "white",
            "linecolor": "white",
            "ticks": ""
           }
          },
          "title": {
           "x": 0.05
          },
          "xaxis": {
           "automargin": true,
           "gridcolor": "white",
           "linecolor": "white",
           "ticks": "",
           "title": {
            "standoff": 15
           },
           "zerolinecolor": "white",
           "zerolinewidth": 2
          },
          "yaxis": {
           "automargin": true,
           "gridcolor": "white",
           "linecolor": "white",
           "ticks": "",
           "title": {
            "standoff": 15
           },
           "zerolinecolor": "white",
           "zerolinewidth": 2
          }
         }
        },
        "title": {
         "text": "Single house prediction with linear regression model"
        },
        "xaxis": {
         "anchor": "y",
         "domain": [
          0,
          1
         ],
         "title": {
          "text": "Date and time"
         }
        },
        "yaxis": {
         "anchor": "x",
         "domain": [
          0,
          1
         ],
         "title": {
          "text": "meter value reading"
         }
        }
       }
      },
      "text/html": [
       "<div>                            <div id=\"51d56daa-e23e-41af-9f71-ae1ce9912755\" class=\"plotly-graph-div\" style=\"height:525px; width:100%;\"></div>            <script type=\"text/javascript\">                require([\"plotly\"], function(Plotly) {                    window.PLOTLYENV=window.PLOTLYENV || {};                                    if (document.getElementById(\"51d56daa-e23e-41af-9f71-ae1ce9912755\")) {                    Plotly.newPlot(                        \"51d56daa-e23e-41af-9f71-ae1ce9912755\",                        [{\"name\": \"predictions\", \"type\": \"scatter\", \"x\": [\"2015-10-01T12:00:00+00:00\", \"2015-10-01T13:00:00+00:00\", \"2015-10-01T14:00:00+00:00\", \"2015-10-01T15:00:00+00:00\", \"2015-10-01T16:00:00+00:00\", \"2015-10-01T17:00:00+00:00\", \"2015-10-01T18:00:00+00:00\", \"2015-10-01T19:00:00+00:00\", \"2015-10-01T20:00:00+00:00\", \"2015-10-01T21:00:00+00:00\", \"2015-10-01T22:00:00+00:00\", \"2015-10-01T23:00:00+00:00\", \"2015-10-02T00:00:00+00:00\", \"2015-10-02T01:00:00+00:00\", \"2015-10-02T02:00:00+00:00\", \"2015-10-02T03:00:00+00:00\", \"2015-10-02T04:00:00+00:00\", \"2015-10-02T05:00:00+00:00\", \"2015-10-02T06:00:00+00:00\", \"2015-10-02T07:00:00+00:00\", \"2015-10-02T08:00:00+00:00\", \"2015-10-02T09:00:00+00:00\", \"2015-10-02T10:00:00+00:00\", \"2015-10-02T11:00:00+00:00\", \"2015-10-02T12:00:00+00:00\", \"2015-10-02T13:00:00+00:00\", \"2015-10-02T14:00:00+00:00\", \"2015-10-02T15:00:00+00:00\", \"2015-10-02T16:00:00+00:00\", \"2015-10-02T17:00:00+00:00\", \"2015-10-02T18:00:00+00:00\", \"2015-10-02T19:00:00+00:00\", \"2015-10-02T20:00:00+00:00\", \"2015-10-02T21:00:00+00:00\", \"2015-10-02T22:00:00+00:00\", \"2015-10-02T23:00:00+00:00\", \"2015-10-03T00:00:00+00:00\", \"2015-10-03T01:00:00+00:00\", \"2015-10-03T02:00:00+00:00\", \"2015-10-03T03:00:00+00:00\", \"2015-10-03T04:00:00+00:00\", \"2015-10-03T05:00:00+00:00\", \"2015-10-03T06:00:00+00:00\", \"2015-10-03T07:00:00+00:00\", \"2015-10-03T08:00:00+00:00\", \"2015-10-03T09:00:00+00:00\", \"2015-10-03T10:00:00+00:00\", \"2015-10-03T11:00:00+00:00\", \"2015-10-03T12:00:00+00:00\", \"2015-10-03T13:00:00+00:00\", \"2015-10-03T14:00:00+00:00\", \"2015-10-03T15:00:00+00:00\", \"2015-10-03T16:00:00+00:00\", \"2015-10-03T17:00:00+00:00\", \"2015-10-03T18:00:00+00:00\", \"2015-10-03T19:00:00+00:00\", \"2015-10-03T20:00:00+00:00\", \"2015-10-03T21:00:00+00:00\", \"2015-10-03T22:00:00+00:00\", \"2015-10-03T23:00:00+00:00\", \"2015-10-04T00:00:00+00:00\", \"2015-10-04T01:00:00+00:00\", \"2015-10-04T02:00:00+00:00\", \"2015-10-04T03:00:00+00:00\", \"2015-10-04T04:00:00+00:00\", \"2015-10-04T05:00:00+00:00\", \"2015-10-04T06:00:00+00:00\", \"2015-10-04T07:00:00+00:00\", \"2015-10-04T08:00:00+00:00\", \"2015-10-04T09:00:00+00:00\", \"2015-10-04T10:00:00+00:00\", \"2015-10-04T11:00:00+00:00\", \"2015-10-04T12:00:00+00:00\", \"2015-10-04T13:00:00+00:00\", \"2015-10-04T14:00:00+00:00\", \"2015-10-04T15:00:00+00:00\", \"2015-10-04T16:00:00+00:00\", \"2015-10-04T17:00:00+00:00\", \"2015-10-04T18:00:00+00:00\", \"2015-10-04T19:00:00+00:00\", \"2015-10-04T20:00:00+00:00\", \"2015-10-04T21:00:00+00:00\", \"2015-10-04T22:00:00+00:00\", \"2015-10-04T23:00:00+00:00\", \"2015-10-05T00:00:00+00:00\", \"2015-10-05T01:00:00+00:00\", \"2015-10-05T02:00:00+00:00\", \"2015-10-05T03:00:00+00:00\", \"2015-10-05T04:00:00+00:00\", \"2015-10-05T05:00:00+00:00\", \"2015-10-05T06:00:00+00:00\", \"2015-10-05T07:00:00+00:00\", \"2015-10-05T08:00:00+00:00\", \"2015-10-05T09:00:00+00:00\", \"2015-10-05T10:00:00+00:00\", \"2015-10-05T11:00:00+00:00\", \"2015-10-05T12:00:00+00:00\", \"2015-10-05T13:00:00+00:00\", \"2015-10-05T14:00:00+00:00\", \"2015-10-05T15:00:00+00:00\", \"2015-10-05T16:00:00+00:00\", \"2015-10-05T17:00:00+00:00\", \"2015-10-05T18:00:00+00:00\", \"2015-10-05T19:00:00+00:00\", \"2015-10-05T20:00:00+00:00\", \"2015-10-05T21:00:00+00:00\", \"2015-10-05T22:00:00+00:00\", \"2015-10-05T23:00:00+00:00\", \"2015-10-06T00:00:00+00:00\", \"2015-10-06T01:00:00+00:00\", \"2015-10-06T02:00:00+00:00\", \"2015-10-06T03:00:00+00:00\", \"2015-10-06T04:00:00+00:00\", \"2015-10-06T05:00:00+00:00\", \"2015-10-06T06:00:00+00:00\", \"2015-10-06T07:00:00+00:00\", \"2015-10-06T08:00:00+00:00\", \"2015-10-06T09:00:00+00:00\", \"2015-10-06T10:00:00+00:00\", \"2015-10-06T11:00:00+00:00\", \"2015-10-06T12:00:00+00:00\", \"2015-10-06T13:00:00+00:00\", \"2015-10-06T14:00:00+00:00\", \"2015-10-06T15:00:00+00:00\", \"2015-10-06T16:00:00+00:00\", \"2015-10-06T17:00:00+00:00\", \"2015-10-06T18:00:00+00:00\", \"2015-10-06T19:00:00+00:00\", \"2015-10-06T20:00:00+00:00\", \"2015-10-06T21:00:00+00:00\", \"2015-10-06T22:00:00+00:00\", \"2015-10-06T23:00:00+00:00\", \"2015-10-07T00:00:00+00:00\", \"2015-10-07T01:00:00+00:00\", \"2015-10-07T02:00:00+00:00\", \"2015-10-07T03:00:00+00:00\", \"2015-10-07T04:00:00+00:00\", \"2015-10-07T05:00:00+00:00\", \"2015-10-07T06:00:00+00:00\", \"2015-10-07T07:00:00+00:00\", \"2015-10-07T08:00:00+00:00\", \"2015-10-07T09:00:00+00:00\", \"2015-10-07T10:00:00+00:00\", \"2015-10-07T11:00:00+00:00\", \"2015-10-07T12:00:00+00:00\", \"2015-10-07T13:00:00+00:00\", \"2015-10-07T14:00:00+00:00\", \"2015-10-07T15:00:00+00:00\", \"2015-10-07T16:00:00+00:00\", \"2015-10-07T17:00:00+00:00\", \"2015-10-07T18:00:00+00:00\", \"2015-10-07T19:00:00+00:00\", \"2015-10-07T20:00:00+00:00\", \"2015-10-07T21:00:00+00:00\", \"2015-10-07T22:00:00+00:00\", \"2015-10-07T23:00:00+00:00\", \"2015-10-08T00:00:00+00:00\"], \"y\": [93474.0955205866, 93473.34759187172, 93473.19252608504, 93473.08895309873, 93473.06555276334, 93475.53544984873, 93475.08395259795, 93474.95463321146, 93474.89114655061, 93474.78342862942, 93474.74207165599, 93477.64059387888, 93477.88523252629, 93486.54980432859, 93484.3265161179, 93486.54858266837, 93485.83509811216, 93485.7596486398, 93485.47014417862, 93485.36242625742, 93485.321069284, 93488.21959150689, 93487.471662792, 93487.31659700532, 93487.21302401902, 93487.18962368363, 93490.01280663974, 93489.26487792486, 93489.10981213818, 93489.00623915187, 93488.98283881649, 93488.86614257627, 93491.76466479918, 93491.01673608429, 93490.86167029761, 93490.75809731129, 93513.60562021664, 93513.78131347, 93526.31899697614, 93526.46044100488, 93524.48888928266, 93523.98920726925, 93523.81990555544, 93523.51310479098, 93523.321069284, 93526.21959150689, 93525.471662792, 93525.31659700532, 93525.21302401902, 93525.18962368363, 93525.07292744343, 93527.97144966632, 93527.22352095143, 93527.06845516476, 93535.78451976742, 93533.64140420765, 93533.1835815277, 93532.95557651564, 93532.96808945634, 93535.64059387888, 93546.70487011527, 93554.18960588952, 93550.91861949762, 93550.2537358706, 93549.94204549301, 93552.33309059699, 93551.5802362791, 93551.4509168926, 93551.38743023176, 93551.27971231057, 93554.17823453347, 93553.43030581858, 93553.2752400319, 93553.1716670456, 93564.90778349551, 93561.96480028945, 93571.81498136542, 93569.88419923106, 93569.56281915754, 93572.07146556364, 93571.05809305771, 93570.90302727104, 93570.79945428473, 93570.77605394935, 93571.65192507142, 93594.88990802836, 93591.15728855875, 93590.32426986775, 93590.08374570754, 93589.44514020428, 93589.40378323085, 93591.69996823781, 93591.442476282, 93591.27971231057, 93593.6294175542, 93593.62792679465, 93593.29240429869, 93593.19839126256, 93593.09205498634, 93593.05668355891, 93592.99021349657, 93595.53544984873, 93598.02383179427, 93603.06769905897, 93601.47736010196, 93603.666601867, 93611.92826681747, 93609.6398062159, 93618.89671953302, 93616.48263834881, 93616.15402484976, 93627.85464419203, 93626.39632952008, 93625.86567443285, 93625.40378323085, 93625.36242625742, 93628.26094848033, 93627.51301976544, 93627.35795397876, 93627.25438099244, 93627.23098065706, 93627.11428441685, 93627.07292744343, 93634.04419641115, 93633.35443449057, 93638.12204317433, 93637.26040564619, 93637.04312384663, 93636.95750749836, 93636.78342862942, 93639.32866498159, 93638.87716773081, 93639.7404157066, 93639.67692904576, 93654.26860710619, 93661.9839686126, 93659.371006076, 93658.26730232107, 93658.04111808614, 93657.65480500551, 93657.35873891738, 93659.67077452764, 93659.66928376807, 93659.33376127211, 93659.239748236, 93659.13341195976, 93676.50234591123, 93672.60805813456, 93671.73623254959, 93671.30870629879, 93683.11456277617, 93679.81820721243, 93679.30318016933, 93681.71786854161, 93681.45337911334, 93680.8487405275, 93681.72486170338]}, {\"name\": \"actual\", \"type\": \"scatter\", \"x\": [\"2015-10-01T05:14:44+00:00\", \"2015-10-01T05:42:34+00:00\", \"2015-10-01T07:02:37+00:00\", \"2015-10-01T07:12:38+00:00\", \"2015-10-01T07:20:36+00:00\", \"2015-10-01T07:23:39+00:00\", \"2015-10-01T08:59:41+00:00\", \"2015-10-01T09:30:40+00:00\", \"2015-10-01T09:34:37+00:00\", \"2015-10-01T10:14:35+00:00\", \"2015-10-01T10:17:32+00:00\", \"2015-10-01T11:23:36+00:00\", \"2015-10-01T12:26:51+00:00\", \"2015-10-01T13:19:40+00:00\", \"2015-10-01T13:44:40+00:00\", \"2015-10-01T13:54:30+00:00\", \"2015-10-01T14:36:34+00:00\", \"2015-10-01T16:24:52+00:00\", \"2015-10-01T17:29:40+00:00\", \"2015-10-01T20:04:40+00:00\", \"2015-10-01T20:20:41+00:00\", \"2015-10-01T21:22:43+00:00\", \"2015-10-01T22:03:44+00:00\", \"2015-10-01T22:11:38+00:00\", \"2015-10-01T22:24:32+00:00\", \"2015-10-01T22:54:31+00:00\", \"2015-10-01T23:02:35+00:00\", \"2015-10-01T23:59:38+00:00\", \"2015-10-02T00:44:49+00:00\", \"2015-10-02T00:57:48+00:00\", \"2015-10-02T02:13:46+00:00\", \"2015-10-02T02:16:44+00:00\", \"2015-10-02T02:33:31+00:00\", \"2015-10-02T02:54:36+00:00\", \"2015-10-02T03:34:32+00:00\", \"2015-10-02T04:07:40+00:00\", \"2015-10-02T04:57:49+00:00\", \"2015-10-02T05:01:51+00:00\", \"2015-10-02T06:14:44+00:00\", \"2015-10-02T06:24:44+00:00\", \"2015-10-02T07:15:34+00:00\", \"2015-10-02T08:35:41+00:00\", \"2015-10-02T08:50:46+00:00\", \"2015-10-02T09:24:51+00:00\", \"2015-10-02T10:44:41+00:00\", \"2015-10-02T11:13:39+00:00\", \"2015-10-02T11:17:37+00:00\", \"2015-10-02T12:07:29+00:00\", \"2015-10-02T13:53:46+00:00\", \"2015-10-02T14:05:45+00:00\", \"2015-10-02T14:44:46+00:00\", \"2015-10-02T15:17:35+00:00\", \"2015-10-02T15:43:31+00:00\", \"2015-10-02T16:24:31+00:00\", \"2015-10-02T16:44:40+00:00\", \"2015-10-02T16:53:40+00:00\", \"2015-10-02T18:26:42+00:00\", \"2015-10-02T19:34:40+00:00\", \"2015-10-02T20:30:31+00:00\", \"2015-10-02T20:42:34+00:00\", \"2015-10-02T23:35:34+00:00\", \"2015-10-03T00:34:34+00:00\", \"2015-10-03T01:14:42+00:00\", \"2015-10-03T01:53:48+00:00\", \"2015-10-03T02:29:47+00:00\", \"2015-10-03T03:04:44+00:00\", \"2015-10-03T03:45:32+00:00\", \"2015-10-03T04:04:38+00:00\", \"2015-10-03T04:22:33+00:00\", \"2015-10-03T04:56:30+00:00\", \"2015-10-03T04:59:31+00:00\", \"2015-10-03T05:19:41+00:00\", \"2015-10-03T05:49:46+00:00\", \"2015-10-03T07:03:44+00:00\", \"2015-10-03T07:32:47+00:00\", \"2015-10-03T08:24:38+00:00\", \"2015-10-03T08:36:37+00:00\", \"2015-10-03T09:47:42+00:00\", \"2015-10-03T10:53:47+00:00\", \"2015-10-03T11:36:43+00:00\", \"2015-10-03T13:18:31+00:00\", \"2015-10-03T14:03:42+00:00\", \"2015-10-03T14:54:56+00:00\", \"2015-10-03T15:01:49+00:00\", \"2015-10-03T15:16:47+00:00\", \"2015-10-03T15:49:44+00:00\", \"2015-10-03T15:57:48+00:00\", \"2015-10-03T16:01:48+00:00\", \"2015-10-03T16:09:42+00:00\", \"2015-10-03T16:24:34+00:00\", \"2015-10-03T16:56:33+00:00\", \"2015-10-03T16:59:35+00:00\", \"2015-10-03T17:25:35+00:00\", \"2015-10-03T17:46:36+00:00\", \"2015-10-03T17:57:42+00:00\", \"2015-10-03T18:07:41+00:00\", \"2015-10-03T18:47:53+00:00\", \"2015-10-03T19:12:48+00:00\", \"2015-10-03T20:17:46+00:00\", \"2015-10-03T20:48:41+00:00\", \"2015-10-03T21:04:36+00:00\", \"2015-10-03T21:33:34+00:00\", \"2015-10-03T22:25:41+00:00\", \"2015-10-03T22:29:43+00:00\", \"2015-10-03T23:13:54+00:00\", \"2015-10-03T23:19:57+00:00\", \"2015-10-04T00:08:45+00:00\", \"2015-10-04T00:09:44+00:00\", \"2015-10-04T00:17:48+00:00\", \"2015-10-04T01:49:36+00:00\", \"2015-10-04T02:33:41+00:00\", \"2015-10-04T02:52:46+00:00\", \"2015-10-04T04:14:49+00:00\", \"2015-10-04T05:55:35+00:00\", \"2015-10-04T06:49:41+00:00\", \"2015-10-04T07:39:55+00:00\", \"2015-10-04T07:50:50+00:00\", \"2015-10-04T08:03:46+00:00\", \"2015-10-04T08:05:48+00:00\", \"2015-10-04T08:14:44+00:00\", \"2015-10-04T08:37:46+00:00\", \"2015-10-04T09:25:42+00:00\", \"2015-10-04T10:12:34+00:00\", \"2015-10-04T12:03:49+00:00\", \"2015-10-04T13:40:39+00:00\", \"2015-10-04T15:17:43+00:00\", \"2015-10-04T15:27:48+00:00\", \"2015-10-04T16:43:46+00:00\", \"2015-10-04T16:54:44+00:00\", \"2015-10-04T17:15:47+00:00\", \"2015-10-04T17:34:35+00:00\", \"2015-10-04T18:29:32+00:00\", \"2015-10-04T18:32:36+00:00\", \"2015-10-04T18:35:36+00:00\", \"2015-10-04T18:54:37+00:00\", \"2015-10-04T19:44:45+00:00\", \"2015-10-04T20:21:55+00:00\", \"2015-10-04T20:37:43+00:00\", \"2015-10-04T20:45:48+00:00\", \"2015-10-04T21:10:45+00:00\", \"2015-10-04T21:24:48+00:00\", \"2015-10-04T21:49:38+00:00\", \"2015-10-04T22:37:33+00:00\", \"2015-10-04T22:49:37+00:00\", \"2015-10-05T00:24:55+00:00\", \"2015-10-05T01:06:46+00:00\", \"2015-10-05T01:44:45+00:00\", \"2015-10-05T02:48:34+00:00\", \"2015-10-05T06:09:35+00:00\", \"2015-10-05T06:59:35+00:00\", \"2015-10-05T07:16:36+00:00\", \"2015-10-05T07:35:40+00:00\", \"2015-10-05T07:37:41+00:00\", \"2015-10-05T09:20:50+00:00\", \"2015-10-05T09:42:46+00:00\", \"2015-10-05T09:47:44+00:00\", \"2015-10-05T10:15:41+00:00\", \"2015-10-05T10:27:37+00:00\", \"2015-10-05T10:43:42+00:00\", \"2015-10-05T10:53:38+00:00\", \"2015-10-05T11:13:34+00:00\", \"2015-10-05T11:57:44+00:00\", \"2015-10-05T12:07:44+00:00\", \"2015-10-05T12:09:42+00:00\", \"2015-10-05T13:14:51+00:00\", \"2015-10-05T13:49:50+00:00\", \"2015-10-05T14:17:48+00:00\", \"2015-10-05T14:42:40+00:00\", \"2015-10-05T14:57:42+00:00\", \"2015-10-05T16:35:48+00:00\", \"2015-10-05T16:50:50+00:00\", \"2015-10-05T17:04:55+00:00\", \"2015-10-05T18:23:50+00:00\", \"2015-10-05T20:36:44+00:00\", \"2015-10-05T21:44:48+00:00\", \"2015-10-05T22:43:48+00:00\", \"2015-10-05T22:59:38+00:00\", \"2015-10-05T23:50:34+00:00\", \"2015-10-06T02:50:50+00:00\", \"2015-10-06T02:59:43+00:00\", \"2015-10-06T03:07:36+00:00\", \"2015-10-06T03:10:37+00:00\", \"2015-10-06T03:27:43+00:00\", \"2015-10-06T04:52:46+00:00\", \"2015-10-06T06:25:46+00:00\", \"2015-10-06T07:45:42+00:00\", \"2015-10-06T08:11:36+00:00\", \"2015-10-06T08:40:38+00:00\", \"2015-10-06T08:49:42+00:00\", \"2015-10-06T09:00:44+00:00\", \"2015-10-06T09:06:45+00:00\", \"2015-10-06T09:56:52+00:00\", \"2015-10-06T10:27:48+00:00\", \"2015-10-06T10:32:51+00:00\", \"2015-10-06T14:34:50+00:00\", \"2015-10-06T16:29:37+00:00\", \"2015-10-06T17:11:42+00:00\", \"2015-10-06T19:06:47+00:00\", \"2015-10-06T19:30:50+00:00\", \"2015-10-06T19:59:39+00:00\", \"2015-10-06T21:44:44+00:00\", \"2015-10-06T21:47:47+00:00\", \"2015-10-06T22:45:57+00:00\", \"2015-10-06T22:47:55+00:00\", \"2015-10-06T23:12:49+00:00\", \"2015-10-06T23:37:49+00:00\", \"2015-10-07T00:38:43+00:00\", \"2015-10-07T01:28:40+00:00\", \"2015-10-07T02:04:47+00:00\", \"2015-10-07T02:54:00+00:00\", \"2015-10-07T03:14:48+00:00\", \"2015-10-07T03:22:49+00:00\", \"2015-10-07T03:33:49+00:00\", \"2015-10-07T04:09:47+00:00\", \"2015-10-07T04:17:40+00:00\", \"2015-10-07T05:02:42+00:00\", \"2015-10-07T05:52:44+00:00\", \"2015-10-07T06:26:52+00:00\", \"2015-10-07T08:06:51+00:00\", \"2015-10-07T08:09:53+00:00\", \"2015-10-07T08:17:50+00:00\", \"2015-10-07T08:24:46+00:00\", \"2015-10-07T08:29:40+00:00\", \"2015-10-07T08:50:44+00:00\", \"2015-10-07T09:27:35+00:00\", \"2015-10-07T09:57:39+00:00\", \"2015-10-07T10:35:50+00:00\", \"2015-10-07T11:39:50+00:00\", \"2015-10-07T12:51:39+00:00\", \"2015-10-07T13:20:38+00:00\", \"2015-10-07T13:23:40+00:00\", \"2015-10-07T13:26:42+00:00\", \"2015-10-07T13:27:41+00:00\", \"2015-10-07T14:07:39+00:00\", \"2015-10-07T14:09:39+00:00\", \"2015-10-07T16:04:47+00:00\", \"2015-10-07T16:15:50+00:00\", \"2015-10-07T17:07:43+00:00\", \"2015-10-07T19:27:56+00:00\", \"2015-10-07T20:17:48+00:00\", \"2015-10-07T20:37:50+00:00\", \"2015-10-07T20:45:54+00:00\", \"2015-10-07T20:56:48+00:00\", \"2015-10-07T21:20:45+00:00\", \"2015-10-07T21:24:45+00:00\", \"2015-10-07T21:34:45+00:00\", \"2015-10-07T22:14:40+00:00\", \"2015-10-07T22:29:42+00:00\", \"2015-10-07T23:03:48+00:00\", \"2015-10-08T00:27:50+00:00\"], \"y\": [93470, 93470, 93470, 93470, 93470, 93470, 93470, 93470, 93470, 93470, 93470, 93472, 93472, 93472, 93472, 93472, 93472, 93474, 93474, 93474, 93474, 93474, 93476, 93476, 93476, 93476, 93476, 93476, 93482, 93482, 93484, 93484, 93484, 93484, 93484, 93484, 93484, 93484, 93484, 93484, 93484, 93486, 93486, 93486, 93486, 93486, 93486, 93486, 93488, 93488, 93488, 93488, 93488, 93488, 93488, 93488, 93488, 93490, 93490, 93490, 93508, 93510, 93516, 93520, 93522, 93522, 93522, 93522, 93522, 93522, 93522, 93522, 93522, 93522, 93522, 93524, 93524, 93524, 93524, 93524, 93524, 93526, 93526, 93526, 93526, 93526, 93526, 93526, 93526, 93526, 93526, 93526, 93532, 93532, 93532, 93532, 93532, 93532, 93532, 93532, 93532, 93532, 93534, 93534, 93538, 93542, 93548, 93548, 93548, 93548, 93548, 93548, 93550, 93550, 93550, 93550, 93550, 93550, 93550, 93550, 93550, 93552, 93552, 93552, 93560, 93568, 93568, 93568, 93568, 93568, 93568, 93570, 93570, 93570, 93570, 93570, 93570, 93570, 93570, 93570, 93570, 93570, 93570, 93570, 93588, 93588, 93588, 93588, 93590, 93590, 93590, 93590, 93590, 93590, 93592, 93592, 93592, 93592, 93592, 93592, 93592, 93592, 93592, 93592, 93592, 93592, 93592, 93592, 93592, 93594, 93594, 93596, 93600, 93602, 93608, 93608, 93608, 93614, 93624, 93624, 93624, 93624, 93624, 93624, 93624, 93626, 93626, 93626, 93626, 93626, 93626, 93626, 93626, 93626, 93632, 93636, 93636, 93636, 93636, 93636, 93638, 93638, 93638, 93638, 93638, 93638, 93638, 93648, 93654, 93656, 93656, 93656, 93656, 93656, 93656, 93656, 93656, 93656, 93656, 93656, 93658, 93658, 93658, 93658, 93658, 93658, 93658, 93658, 93658, 93668, 93670, 93670, 93670, 93670, 93670, 93670, 93670, 93678, 93678, 93678, 93680, 93680, 93680, 93680, 93680, 93680, 93680, 93680, 93680, 93686]}, {\"name\": \"imputed\", \"type\": \"scatter\", \"x\": [\"2015-10-01T05:00:00+00:00\", \"2015-10-01T06:00:00+00:00\", \"2015-10-01T07:00:00+00:00\", \"2015-10-01T08:00:00+00:00\", \"2015-10-01T09:00:00+00:00\", \"2015-10-01T10:00:00+00:00\", \"2015-10-01T11:00:00+00:00\", \"2015-10-01T12:00:00+00:00\", \"2015-10-01T13:00:00+00:00\", \"2015-10-01T14:00:00+00:00\", \"2015-10-01T15:00:00+00:00\", \"2015-10-01T16:00:00+00:00\", \"2015-10-01T17:00:00+00:00\", \"2015-10-01T18:00:00+00:00\", \"2015-10-01T19:00:00+00:00\", \"2015-10-01T20:00:00+00:00\", \"2015-10-01T21:00:00+00:00\", \"2015-10-01T22:00:00+00:00\", \"2015-10-01T23:00:00+00:00\", \"2015-10-02T00:00:00+00:00\", \"2015-10-02T01:00:00+00:00\", \"2015-10-02T02:00:00+00:00\", \"2015-10-02T03:00:00+00:00\", \"2015-10-02T04:00:00+00:00\", \"2015-10-02T05:00:00+00:00\", \"2015-10-02T06:00:00+00:00\", \"2015-10-02T07:00:00+00:00\", \"2015-10-02T08:00:00+00:00\", \"2015-10-02T09:00:00+00:00\", \"2015-10-02T10:00:00+00:00\", \"2015-10-02T11:00:00+00:00\", \"2015-10-02T12:00:00+00:00\", \"2015-10-02T13:00:00+00:00\", \"2015-10-02T14:00:00+00:00\", \"2015-10-02T15:00:00+00:00\", \"2015-10-02T16:00:00+00:00\", \"2015-10-02T17:00:00+00:00\", \"2015-10-02T18:00:00+00:00\", \"2015-10-02T19:00:00+00:00\", \"2015-10-02T20:00:00+00:00\", \"2015-10-02T21:00:00+00:00\", \"2015-10-02T22:00:00+00:00\", \"2015-10-02T23:00:00+00:00\", \"2015-10-03T00:00:00+00:00\", \"2015-10-03T01:00:00+00:00\", \"2015-10-03T02:00:00+00:00\", \"2015-10-03T03:00:00+00:00\", \"2015-10-03T04:00:00+00:00\", \"2015-10-03T05:00:00+00:00\", \"2015-10-03T06:00:00+00:00\", \"2015-10-03T07:00:00+00:00\", \"2015-10-03T08:00:00+00:00\", \"2015-10-03T09:00:00+00:00\", \"2015-10-03T10:00:00+00:00\", \"2015-10-03T11:00:00+00:00\", \"2015-10-03T12:00:00+00:00\", \"2015-10-03T13:00:00+00:00\", \"2015-10-03T14:00:00+00:00\", \"2015-10-03T15:00:00+00:00\", \"2015-10-03T16:00:00+00:00\", \"2015-10-03T17:00:00+00:00\", \"2015-10-03T18:00:00+00:00\", \"2015-10-03T19:00:00+00:00\", \"2015-10-03T20:00:00+00:00\", \"2015-10-03T21:00:00+00:00\", \"2015-10-03T22:00:00+00:00\", \"2015-10-03T23:00:00+00:00\", \"2015-10-04T00:00:00+00:00\", \"2015-10-04T01:00:00+00:00\", \"2015-10-04T02:00:00+00:00\", \"2015-10-04T03:00:00+00:00\", \"2015-10-04T04:00:00+00:00\", \"2015-10-04T05:00:00+00:00\", \"2015-10-04T06:00:00+00:00\", \"2015-10-04T07:00:00+00:00\", \"2015-10-04T08:00:00+00:00\", \"2015-10-04T09:00:00+00:00\", \"2015-10-04T10:00:00+00:00\", \"2015-10-04T11:00:00+00:00\", \"2015-10-04T12:00:00+00:00\", \"2015-10-04T13:00:00+00:00\", \"2015-10-04T14:00:00+00:00\", \"2015-10-04T15:00:00+00:00\", \"2015-10-04T16:00:00+00:00\", \"2015-10-04T17:00:00+00:00\", \"2015-10-04T18:00:00+00:00\", \"2015-10-04T19:00:00+00:00\", \"2015-10-04T20:00:00+00:00\", \"2015-10-04T21:00:00+00:00\", \"2015-10-04T22:00:00+00:00\", \"2015-10-04T23:00:00+00:00\", \"2015-10-05T00:00:00+00:00\", \"2015-10-05T01:00:00+00:00\", \"2015-10-05T02:00:00+00:00\", \"2015-10-05T03:00:00+00:00\", \"2015-10-05T04:00:00+00:00\", \"2015-10-05T05:00:00+00:00\", \"2015-10-05T06:00:00+00:00\", \"2015-10-05T07:00:00+00:00\", \"2015-10-05T08:00:00+00:00\", \"2015-10-05T09:00:00+00:00\", \"2015-10-05T10:00:00+00:00\", \"2015-10-05T11:00:00+00:00\", \"2015-10-05T12:00:00+00:00\", \"2015-10-05T13:00:00+00:00\", \"2015-10-05T14:00:00+00:00\", \"2015-10-05T15:00:00+00:00\", \"2015-10-05T16:00:00+00:00\", \"2015-10-05T17:00:00+00:00\", \"2015-10-05T18:00:00+00:00\", \"2015-10-05T19:00:00+00:00\", \"2015-10-05T20:00:00+00:00\", \"2015-10-05T21:00:00+00:00\", \"2015-10-05T22:00:00+00:00\", \"2015-10-05T23:00:00+00:00\", \"2015-10-06T00:00:00+00:00\", \"2015-10-06T01:00:00+00:00\", \"2015-10-06T02:00:00+00:00\", \"2015-10-06T03:00:00+00:00\", \"2015-10-06T04:00:00+00:00\", \"2015-10-06T05:00:00+00:00\", \"2015-10-06T06:00:00+00:00\", \"2015-10-06T07:00:00+00:00\", \"2015-10-06T08:00:00+00:00\", \"2015-10-06T09:00:00+00:00\", \"2015-10-06T10:00:00+00:00\", \"2015-10-06T11:00:00+00:00\", \"2015-10-06T12:00:00+00:00\", \"2015-10-06T13:00:00+00:00\", \"2015-10-06T14:00:00+00:00\", \"2015-10-06T15:00:00+00:00\", \"2015-10-06T16:00:00+00:00\", \"2015-10-06T17:00:00+00:00\", \"2015-10-06T18:00:00+00:00\", \"2015-10-06T19:00:00+00:00\", \"2015-10-06T20:00:00+00:00\", \"2015-10-06T21:00:00+00:00\", \"2015-10-06T22:00:00+00:00\", \"2015-10-06T23:00:00+00:00\", \"2015-10-07T00:00:00+00:00\", \"2015-10-07T01:00:00+00:00\", \"2015-10-07T02:00:00+00:00\", \"2015-10-07T03:00:00+00:00\", \"2015-10-07T04:00:00+00:00\", \"2015-10-07T05:00:00+00:00\", \"2015-10-07T06:00:00+00:00\", \"2015-10-07T07:00:00+00:00\", \"2015-10-07T08:00:00+00:00\", \"2015-10-07T09:00:00+00:00\", \"2015-10-07T10:00:00+00:00\", \"2015-10-07T11:00:00+00:00\", \"2015-10-07T12:00:00+00:00\", \"2015-10-07T13:00:00+00:00\", \"2015-10-07T14:00:00+00:00\", \"2015-10-07T15:00:00+00:00\", \"2015-10-07T16:00:00+00:00\", \"2015-10-07T17:00:00+00:00\", \"2015-10-07T18:00:00+00:00\", \"2015-10-07T19:00:00+00:00\", \"2015-10-07T20:00:00+00:00\", \"2015-10-07T21:00:00+00:00\", \"2015-10-07T22:00:00+00:00\", \"2015-10-07T23:00:00+00:00\", \"2015-10-08T00:00:00+00:00\", \"2015-10-08T01:00:00+00:00\", \"2015-10-08T02:00:00+00:00\", \"2015-10-08T03:00:00+00:00\", \"2015-10-08T04:00:00+00:00\", \"2015-10-08T05:00:00+00:00\", \"2015-10-08T06:00:00+00:00\", \"2015-10-08T07:00:00+00:00\", \"2015-10-08T08:00:00+00:00\", \"2015-10-08T09:00:00+00:00\", \"2015-10-08T10:00:00+00:00\", \"2015-10-08T11:00:00+00:00\", \"2015-10-08T12:00:00+00:00\", \"2015-10-08T13:00:00+00:00\", \"2015-10-08T14:00:00+00:00\", \"2015-10-08T15:00:00+00:00\", \"2015-10-08T16:00:00+00:00\", \"2015-10-08T17:00:00+00:00\", \"2015-10-08T18:00:00+00:00\", \"2015-10-08T19:00:00+00:00\", \"2015-10-08T20:00:00+00:00\", \"2015-10-08T21:00:00+00:00\", \"2015-10-08T22:00:00+00:00\", \"2015-10-08T23:00:00+00:00\", \"2015-10-09T00:00:00+00:00\", \"2015-10-09T01:00:00+00:00\", \"2015-10-09T02:00:00+00:00\", \"2015-10-09T03:00:00+00:00\", \"2015-10-09T04:00:00+00:00\", \"2015-10-09T05:00:00+00:00\", \"2015-10-09T06:00:00+00:00\", \"2015-10-09T07:00:00+00:00\", \"2015-10-09T08:00:00+00:00\", \"2015-10-09T09:00:00+00:00\", \"2015-10-09T10:00:00+00:00\", \"2015-10-09T11:00:00+00:00\", \"2015-10-09T12:00:00+00:00\", \"2015-10-09T13:00:00+00:00\", \"2015-10-09T14:00:00+00:00\", \"2015-10-09T15:00:00+00:00\", \"2015-10-09T16:00:00+00:00\", \"2015-10-09T17:00:00+00:00\", \"2015-10-09T18:00:00+00:00\", \"2015-10-09T19:00:00+00:00\", \"2015-10-09T20:00:00+00:00\", \"2015-10-09T21:00:00+00:00\", \"2015-10-09T22:00:00+00:00\", \"2015-10-09T23:00:00+00:00\", \"2015-10-10T00:00:00+00:00\", \"2015-10-10T01:00:00+00:00\", \"2015-10-10T02:00:00+00:00\", \"2015-10-10T03:00:00+00:00\", \"2015-10-10T04:00:00+00:00\", \"2015-10-10T05:00:00+00:00\", \"2015-10-10T06:00:00+00:00\", \"2015-10-10T07:00:00+00:00\", \"2015-10-10T08:00:00+00:00\", \"2015-10-10T09:00:00+00:00\", \"2015-10-10T10:00:00+00:00\", \"2015-10-10T11:00:00+00:00\", \"2015-10-10T12:00:00+00:00\", \"2015-10-10T13:00:00+00:00\", \"2015-10-10T14:00:00+00:00\", \"2015-10-10T15:00:00+00:00\", \"2015-10-10T16:00:00+00:00\", \"2015-10-10T17:00:00+00:00\", \"2015-10-10T18:00:00+00:00\", \"2015-10-10T19:00:00+00:00\", \"2015-10-10T20:00:00+00:00\", \"2015-10-10T21:00:00+00:00\", \"2015-10-10T22:00:00+00:00\", \"2015-10-10T23:00:00+00:00\", \"2015-10-11T00:00:00+00:00\", \"2015-10-11T01:00:00+00:00\", \"2015-10-11T02:00:00+00:00\", \"2015-10-11T03:00:00+00:00\", \"2015-10-11T04:00:00+00:00\", \"2015-10-11T05:00:00+00:00\", \"2015-10-11T06:00:00+00:00\", \"2015-10-11T07:00:00+00:00\", \"2015-10-11T08:00:00+00:00\", \"2015-10-11T09:00:00+00:00\", \"2015-10-11T10:00:00+00:00\", \"2015-10-11T11:00:00+00:00\", \"2015-10-11T12:00:00+00:00\", \"2015-10-11T13:00:00+00:00\", \"2015-10-11T14:00:00+00:00\"], \"y\": [93470.0, 93470.0, 93470.0, 93470.0, 93470.0, 93470.0, 93472.0, 93472.0, 93472.0, 93472.0, 93473.0, 93474.0, 93474.0, 93474.0, 93474.0, 93474.0, 93474.0, 93476.0, 93476.0, 93482.0, 93483.0, 93484.0, 93484.0, 93484.0, 93484.0, 93484.0, 93484.0, 93486.0, 93486.0, 93486.0, 93486.0, 93486.0, 93488.0, 93488.0, 93488.0, 93488.0, 93488.0, 93488.0, 93490.0, 93490.0, 93496.0, 93502.0, 93508.0, 93510.0, 93518.0, 93522.0, 93522.0, 93522.0, 93522.0, 93522.0, 93522.0, 93524.0, 93524.0, 93524.0, 93524.0, 93524.0, 93524.0, 93526.0, 93526.0, 93526.0, 93532.0, 93532.0, 93532.0, 93532.0, 93532.0, 93534.0, 93540.0, 93548.0, 93548.0, 93548.0, 93549.0, 93550.0, 93550.0, 93550.0, 93550.0, 93550.0, 93552.0, 93552.0, 93552.0, 93552.0, 93560.0, 93564.0, 93568.0, 93568.0, 93568.0, 93570.0, 93570.0, 93570.0, 93570.0, 93570.0, 93579.0, 93588.0, 93588.0, 93588.0, 93588.5, 93589.0, 93589.5, 93590.0, 93590.0, 93590.66666666666, 93591.33333333333, 93592.0, 93592.0, 93592.0, 93592.0, 93592.0, 93593.0, 93594.0, 93596.0, 93600.0, 93601.0, 93602.0, 93608.0, 93608.0, 93614.0, 93617.33333333333, 93620.66666666667, 93624.0, 93624.0, 93624.0, 93624.0, 93624.0, 93626.0, 93626.0, 93626.0, 93626.0, 93627.5, 93629.0, 93630.5, 93632.0, 93634.0, 93636.0, 93636.0, 93636.0, 93636.0, 93637.0, 93638.0, 93638.0, 93638.0, 93638.0, 93648.0, 93655.0, 93656.0, 93656.0, 93656.0, 93656.0, 93656.66666666666, 93657.33333333333, 93658.0, 93658.0, 93658.0, 93658.0, 93669.5, 93670.0, 93670.0, 93670.0, 93678.0, 93678.0, 93678.0, 93679.5, 93680.0, 93680.0, 93680.0, 93686.0, 93700.0, 93702.0, 93702.0, 93702.0, 93702.0, 93702.0, 93702.0, 93703.0, 93703.5, 93704.0, 93704.0, 93708.0, 93712.0, 93712.0, 93712.0, 93714.0, 93714.0, 93714.0, 93714.0, 93714.0, 93714.0, 93716.0, 93716.0, 93716.0, 93716.0, 93716.0, 93717.33333333333, 93718.0, 93718.0, 93718.0, 93718.0, 93718.0, 93719.0, 93720.0, 93720.0, 93720.0, 93720.0, 93720.0, 93722.0, 93722.0, 93722.0, 93722.0, 93722.0, 93723.0, 93724.0, 93724.0, 93724.0, 93724.0, 93724.0, 93726.0, 93726.0, 93726.0, 93726.0, 93726.0, 93726.66666666667, 93728.0, 93728.0, 93728.0, 93728.0, 93728.0, 93730.0, 93730.0, 93730.0, 93730.0, 93730.0, 93730.0, 93731.0, 93732.0, 93732.0, 93732.0, 93732.0, 93733.0, 93734.0, 93734.0, 93734.0, 93734.0, 93734.0, 93735.0, 93736.0, 93736.0, 93736.0, 93736.0, 93736.0, 93738.0, 93738.0, 93738.0]}, {\"name\": \"long_term_prediction\", \"type\": \"scatter\", \"x\": [\"2015-10-02T01:00:00+00:00\", \"2015-10-02T02:00:00+00:00\", \"2015-10-02T03:00:00+00:00\", \"2015-10-02T04:00:00+00:00\", \"2015-10-02T05:00:00+00:00\", \"2015-10-02T06:00:00+00:00\", \"2015-10-02T07:00:00+00:00\", \"2015-10-02T08:00:00+00:00\", \"2015-10-02T09:00:00+00:00\", \"2015-10-02T10:00:00+00:00\", \"2015-10-02T11:00:00+00:00\", \"2015-10-02T12:00:00+00:00\", \"2015-10-02T13:00:00+00:00\", \"2015-10-02T14:00:00+00:00\", \"2015-10-02T15:00:00+00:00\", \"2015-10-02T16:00:00+00:00\", \"2015-10-02T17:00:00+00:00\", \"2015-10-02T18:00:00+00:00\", \"2015-10-02T19:00:00+00:00\", \"2015-10-02T20:00:00+00:00\", \"2015-10-02T21:00:00+00:00\", \"2015-10-02T22:00:00+00:00\", \"2015-10-02T23:00:00+00:00\", \"2015-10-03T00:00:00+00:00\", \"2015-10-03T01:00:00+00:00\", \"2015-10-03T02:00:00+00:00\", \"2015-10-03T03:00:00+00:00\", \"2015-10-03T04:00:00+00:00\", \"2015-10-03T05:00:00+00:00\", \"2015-10-03T06:00:00+00:00\", \"2015-10-03T07:00:00+00:00\", \"2015-10-03T08:00:00+00:00\", \"2015-10-03T09:00:00+00:00\", \"2015-10-03T10:00:00+00:00\", \"2015-10-03T11:00:00+00:00\", \"2015-10-03T12:00:00+00:00\", \"2015-10-03T13:00:00+00:00\", \"2015-10-03T14:00:00+00:00\", \"2015-10-03T15:00:00+00:00\", \"2015-10-03T16:00:00+00:00\", \"2015-10-03T17:00:00+00:00\", \"2015-10-03T18:00:00+00:00\", \"2015-10-03T19:00:00+00:00\", \"2015-10-03T20:00:00+00:00\", \"2015-10-03T21:00:00+00:00\", \"2015-10-03T22:00:00+00:00\", \"2015-10-03T23:00:00+00:00\", \"2015-10-04T00:00:00+00:00\", \"2015-10-04T01:00:00+00:00\", \"2015-10-04T02:00:00+00:00\", \"2015-10-04T03:00:00+00:00\", \"2015-10-04T04:00:00+00:00\", \"2015-10-04T05:00:00+00:00\", \"2015-10-04T06:00:00+00:00\", \"2015-10-04T07:00:00+00:00\", \"2015-10-04T08:00:00+00:00\", \"2015-10-04T09:00:00+00:00\", \"2015-10-04T10:00:00+00:00\", \"2015-10-04T11:00:00+00:00\", \"2015-10-04T12:00:00+00:00\", \"2015-10-04T13:00:00+00:00\", \"2015-10-04T14:00:00+00:00\", \"2015-10-04T15:00:00+00:00\", \"2015-10-04T16:00:00+00:00\", \"2015-10-04T17:00:00+00:00\", \"2015-10-04T18:00:00+00:00\", \"2015-10-04T19:00:00+00:00\", \"2015-10-04T20:00:00+00:00\", \"2015-10-04T21:00:00+00:00\", \"2015-10-04T22:00:00+00:00\", \"2015-10-04T23:00:00+00:00\", \"2015-10-05T00:00:00+00:00\", \"2015-10-05T01:00:00+00:00\", \"2015-10-05T02:00:00+00:00\", \"2015-10-05T03:00:00+00:00\", \"2015-10-05T04:00:00+00:00\", \"2015-10-05T05:00:00+00:00\", \"2015-10-05T06:00:00+00:00\", \"2015-10-05T07:00:00+00:00\", \"2015-10-05T08:00:00+00:00\", \"2015-10-05T09:00:00+00:00\", \"2015-10-05T10:00:00+00:00\", \"2015-10-05T11:00:00+00:00\", \"2015-10-05T12:00:00+00:00\", \"2015-10-05T13:00:00+00:00\", \"2015-10-05T14:00:00+00:00\", \"2015-10-05T15:00:00+00:00\", \"2015-10-05T16:00:00+00:00\", \"2015-10-05T17:00:00+00:00\", \"2015-10-05T18:00:00+00:00\", \"2015-10-05T19:00:00+00:00\", \"2015-10-05T20:00:00+00:00\", \"2015-10-05T21:00:00+00:00\", \"2015-10-05T22:00:00+00:00\", \"2015-10-05T23:00:00+00:00\", \"2015-10-06T00:00:00+00:00\", \"2015-10-06T01:00:00+00:00\", \"2015-10-06T02:00:00+00:00\", \"2015-10-06T03:00:00+00:00\", \"2015-10-06T04:00:00+00:00\", \"2015-10-06T05:00:00+00:00\", \"2015-10-06T06:00:00+00:00\", \"2015-10-06T07:00:00+00:00\", \"2015-10-06T08:00:00+00:00\", \"2015-10-06T09:00:00+00:00\", \"2015-10-06T10:00:00+00:00\", \"2015-10-06T11:00:00+00:00\", \"2015-10-06T12:00:00+00:00\", \"2015-10-06T13:00:00+00:00\", \"2015-10-06T14:00:00+00:00\", \"2015-10-06T15:00:00+00:00\", \"2015-10-06T16:00:00+00:00\", \"2015-10-06T17:00:00+00:00\", \"2015-10-06T18:00:00+00:00\", \"2015-10-06T19:00:00+00:00\", \"2015-10-06T20:00:00+00:00\", \"2015-10-06T21:00:00+00:00\", \"2015-10-06T22:00:00+00:00\", \"2015-10-06T23:00:00+00:00\", \"2015-10-07T00:00:00+00:00\", \"2015-10-07T01:00:00+00:00\", \"2015-10-07T02:00:00+00:00\", \"2015-10-07T03:00:00+00:00\", \"2015-10-07T04:00:00+00:00\", \"2015-10-07T05:00:00+00:00\", \"2015-10-07T06:00:00+00:00\", \"2015-10-07T07:00:00+00:00\", \"2015-10-07T08:00:00+00:00\", \"2015-10-07T09:00:00+00:00\", \"2015-10-07T10:00:00+00:00\", \"2015-10-07T11:00:00+00:00\", \"2015-10-07T12:00:00+00:00\", \"2015-10-07T13:00:00+00:00\", \"2015-10-07T14:00:00+00:00\", \"2015-10-07T15:00:00+00:00\", \"2015-10-07T16:00:00+00:00\", \"2015-10-07T17:00:00+00:00\", \"2015-10-07T18:00:00+00:00\", \"2015-10-07T19:00:00+00:00\", \"2015-10-07T20:00:00+00:00\", \"2015-10-07T21:00:00+00:00\", \"2015-10-07T22:00:00+00:00\", \"2015-10-07T23:00:00+00:00\", \"2015-10-08T00:00:00+00:00\"], \"y\": [93486.54980432859, 93491.0144536644, 93495.605310156, 93500.21427367018, 93504.9844295227, 93509.7415668704, 93514.30334739666, 93518.74060509284, 93523.05904482775, 93527.25370854873, 93531.32193606332, 93535.26427233403, 93539.08053033093, 93542.77038440244, 93546.3336159582, 93549.7700887369, 93553.07968836471, 93556.26232278251, 93559.31792096596, 93562.24642804988, 93565.0478011791, 93567.72200692553, 93570.2690192621, 93573.68138528356, 93577.4329685458, 93581.39229850245, 93585.49556905581, 93589.69447354341, 93593.93591013705, 93598.18170140863, 93602.40299236031, 93606.57720791182, 93610.68656655042, 93614.71725770204, 93618.65853908904, 93622.50204040372, 93626.2412389424, 93629.8710543763, 93633.3875296113, 93636.78758220449, 93640.06881103896, 93643.2293457635, 93646.26772946453, 93649.18282727274, 93651.97375517679, 93654.6398245727, 93657.18049906983, 93660.58792820685, 93664.33566586353, 93668.2920002708, 93672.39293742938, 93676.59002431006, 93680.83004507175, 93685.07473347554, 93689.29516534408, 93693.46871170944, 93697.5775490829, 93701.60783419301, 93705.5487992924, 93709.39205423363, 93713.13106085875, 93716.76072680086, 93720.27708558863, 93723.6770474748, 93726.9582056527, 93730.11868533902, 93733.15702616783, 93736.07209058056, 93738.86299247107, 93741.52904160363, 93744.06970031654, 93747.47711715839, 93751.2248452377, 93755.18117218462, 93759.28210353195, 93763.47918588594, 93767.71920312154, 93771.96388877867, 93776.18431850769, 93780.35786320646, 93784.46669928172, 93788.49698338061, 93792.4379476923, 93796.28120201995, 93800.02020816712, 93803.64987373691, 93807.16623223468, 93810.56619389495, 93813.84735189687, 93817.00783144611, 93820.04617216813, 93822.9612364977, 93825.7521383234, 93828.41818740549, 93830.95884607908, 93834.3662628903, 93838.11399094574, 93842.07031787408, 93846.17124920693, 93850.36833154965, 93854.60834877647, 93858.85303442676, 93863.07346415045, 93867.24700884508, 93871.35584491711, 93875.38612901348, 93879.32709332321, 93883.17034764933, 93886.9093537953, 93890.53901936417, 93894.05537786121, 93897.45533952092, 93900.7364975224, 93903.8969770713, 93906.93531779306, 93909.85038212241, 93912.64128394796, 93915.30733302992, 93917.84799170341, 93921.25540851455, 93925.00313656994, 93928.95946349823, 93933.06039483105, 93937.25747717373, 93941.49749440052, 93945.74218005079, 93949.96260977446, 93954.13615446907, 93958.24499054109, 93962.27527463745, 93966.21623894718, 93970.0594932733, 93973.79849941927, 93977.42816498813, 93980.94452348517, 93984.34448514489, 93987.62564314637, 93990.78612269527, 93993.82446341703, 93996.73952774638, 93999.53042957193, 94002.19647865389, 94004.73713732738, 94008.14455413852]}],                        {\"legend\": {\"title\": {\"text\": \"Data Category\"}, \"tracegroupgap\": 0}, \"margin\": {\"t\": 60}, \"template\": {\"data\": {\"bar\": [{\"error_x\": {\"color\": \"#2a3f5f\"}, \"error_y\": {\"color\": \"#2a3f5f\"}, \"marker\": {\"line\": {\"color\": \"#E5ECF6\", \"width\": 0.5}}, \"type\": \"bar\"}], \"barpolar\": [{\"marker\": {\"line\": {\"color\": \"#E5ECF6\", \"width\": 0.5}}, \"type\": \"barpolar\"}], \"carpet\": [{\"aaxis\": {\"endlinecolor\": \"#2a3f5f\", \"gridcolor\": \"white\", \"linecolor\": \"white\", \"minorgridcolor\": \"white\", \"startlinecolor\": \"#2a3f5f\"}, \"baxis\": {\"endlinecolor\": \"#2a3f5f\", \"gridcolor\": \"white\", \"linecolor\": \"white\", \"minorgridcolor\": \"white\", \"startlinecolor\": \"#2a3f5f\"}, \"type\": \"carpet\"}], \"choropleth\": [{\"colorbar\": {\"outlinewidth\": 0, \"ticks\": \"\"}, \"type\": \"choropleth\"}], \"contour\": [{\"colorbar\": {\"outlinewidth\": 0, \"ticks\": \"\"}, \"colorscale\": [[0.0, \"#0d0887\"], [0.1111111111111111, \"#46039f\"], [0.2222222222222222, \"#7201a8\"], [0.3333333333333333, \"#9c179e\"], [0.4444444444444444, \"#bd3786\"], [0.5555555555555556, \"#d8576b\"], [0.6666666666666666, \"#ed7953\"], [0.7777777777777778, \"#fb9f3a\"], [0.8888888888888888, \"#fdca26\"], [1.0, \"#f0f921\"]], \"type\": \"contour\"}], \"contourcarpet\": [{\"colorbar\": {\"outlinewidth\": 0, \"ticks\": \"\"}, \"type\": \"contourcarpet\"}], \"heatmap\": [{\"colorbar\": {\"outlinewidth\": 0, \"ticks\": \"\"}, \"colorscale\": [[0.0, \"#0d0887\"], [0.1111111111111111, \"#46039f\"], [0.2222222222222222, \"#7201a8\"], [0.3333333333333333, \"#9c179e\"], [0.4444444444444444, \"#bd3786\"], [0.5555555555555556, \"#d8576b\"], [0.6666666666666666, \"#ed7953\"], [0.7777777777777778, \"#fb9f3a\"], [0.8888888888888888, \"#fdca26\"], [1.0, \"#f0f921\"]], \"type\": \"heatmap\"}], \"heatmapgl\": [{\"colorbar\": {\"outlinewidth\": 0, \"ticks\": \"\"}, \"colorscale\": [[0.0, \"#0d0887\"], [0.1111111111111111, \"#46039f\"], [0.2222222222222222, \"#7201a8\"], [0.3333333333333333, \"#9c179e\"], [0.4444444444444444, \"#bd3786\"], [0.5555555555555556, \"#d8576b\"], [0.6666666666666666, \"#ed7953\"], [0.7777777777777778, \"#fb9f3a\"], [0.8888888888888888, \"#fdca26\"], [1.0, \"#f0f921\"]], \"type\": \"heatmapgl\"}], \"histogram\": [{\"marker\": {\"colorbar\": {\"outlinewidth\": 0, \"ticks\": \"\"}}, \"type\": \"histogram\"}], \"histogram2d\": [{\"colorbar\": {\"outlinewidth\": 0, \"ticks\": \"\"}, \"colorscale\": [[0.0, \"#0d0887\"], [0.1111111111111111, \"#46039f\"], [0.2222222222222222, \"#7201a8\"], [0.3333333333333333, \"#9c179e\"], [0.4444444444444444, \"#bd3786\"], [0.5555555555555556, \"#d8576b\"], [0.6666666666666666, \"#ed7953\"], [0.7777777777777778, \"#fb9f3a\"], [0.8888888888888888, \"#fdca26\"], [1.0, \"#f0f921\"]], \"type\": \"histogram2d\"}], \"histogram2dcontour\": [{\"colorbar\": {\"outlinewidth\": 0, \"ticks\": \"\"}, \"colorscale\": [[0.0, \"#0d0887\"], [0.1111111111111111, \"#46039f\"], [0.2222222222222222, \"#7201a8\"], [0.3333333333333333, \"#9c179e\"], [0.4444444444444444, \"#bd3786\"], [0.5555555555555556, \"#d8576b\"], [0.6666666666666666, \"#ed7953\"], [0.7777777777777778, \"#fb9f3a\"], [0.8888888888888888, \"#fdca26\"], [1.0, \"#f0f921\"]], \"type\": \"histogram2dcontour\"}], \"mesh3d\": [{\"colorbar\": {\"outlinewidth\": 0, \"ticks\": \"\"}, \"type\": \"mesh3d\"}], \"parcoords\": [{\"line\": {\"colorbar\": {\"outlinewidth\": 0, \"ticks\": \"\"}}, \"type\": \"parcoords\"}], \"pie\": [{\"automargin\": true, \"type\": \"pie\"}], \"scatter\": [{\"marker\": {\"colorbar\": {\"outlinewidth\": 0, \"ticks\": \"\"}}, \"type\": \"scatter\"}], \"scatter3d\": [{\"line\": {\"colorbar\": {\"outlinewidth\": 0, \"ticks\": \"\"}}, \"marker\": {\"colorbar\": {\"outlinewidth\": 0, \"ticks\": \"\"}}, \"type\": \"scatter3d\"}], \"scattercarpet\": [{\"marker\": {\"colorbar\": {\"outlinewidth\": 0, \"ticks\": \"\"}}, \"type\": \"scattercarpet\"}], \"scattergeo\": [{\"marker\": {\"colorbar\": {\"outlinewidth\": 0, \"ticks\": \"\"}}, \"type\": \"scattergeo\"}], \"scattergl\": [{\"marker\": {\"colorbar\": {\"outlinewidth\": 0, \"ticks\": \"\"}}, \"type\": \"scattergl\"}], \"scattermapbox\": [{\"marker\": {\"colorbar\": {\"outlinewidth\": 0, \"ticks\": \"\"}}, \"type\": \"scattermapbox\"}], \"scatterpolar\": [{\"marker\": {\"colorbar\": {\"outlinewidth\": 0, \"ticks\": \"\"}}, \"type\": \"scatterpolar\"}], \"scatterpolargl\": [{\"marker\": {\"colorbar\": {\"outlinewidth\": 0, \"ticks\": \"\"}}, \"type\": \"scatterpolargl\"}], \"scatterternary\": [{\"marker\": {\"colorbar\": {\"outlinewidth\": 0, \"ticks\": \"\"}}, \"type\": \"scatterternary\"}], \"surface\": [{\"colorbar\": {\"outlinewidth\": 0, \"ticks\": \"\"}, \"colorscale\": [[0.0, \"#0d0887\"], [0.1111111111111111, \"#46039f\"], [0.2222222222222222, \"#7201a8\"], [0.3333333333333333, \"#9c179e\"], [0.4444444444444444, \"#bd3786\"], [0.5555555555555556, \"#d8576b\"], [0.6666666666666666, \"#ed7953\"], [0.7777777777777778, \"#fb9f3a\"], [0.8888888888888888, \"#fdca26\"], [1.0, \"#f0f921\"]], \"type\": \"surface\"}], \"table\": [{\"cells\": {\"fill\": {\"color\": \"#EBF0F8\"}, \"line\": {\"color\": \"white\"}}, \"header\": {\"fill\": {\"color\": \"#C8D4E3\"}, \"line\": {\"color\": \"white\"}}, \"type\": \"table\"}]}, \"layout\": {\"annotationdefaults\": {\"arrowcolor\": \"#2a3f5f\", \"arrowhead\": 0, \"arrowwidth\": 1}, \"coloraxis\": {\"colorbar\": {\"outlinewidth\": 0, \"ticks\": \"\"}}, \"colorscale\": {\"diverging\": [[0, \"#8e0152\"], [0.1, \"#c51b7d\"], [0.2, \"#de77ae\"], [0.3, \"#f1b6da\"], [0.4, \"#fde0ef\"], [0.5, \"#f7f7f7\"], [0.6, \"#e6f5d0\"], [0.7, \"#b8e186\"], [0.8, \"#7fbc41\"], [0.9, \"#4d9221\"], [1, \"#276419\"]], \"sequential\": [[0.0, \"#0d0887\"], [0.1111111111111111, \"#46039f\"], [0.2222222222222222, \"#7201a8\"], [0.3333333333333333, \"#9c179e\"], [0.4444444444444444, \"#bd3786\"], [0.5555555555555556, \"#d8576b\"], [0.6666666666666666, \"#ed7953\"], [0.7777777777777778, \"#fb9f3a\"], [0.8888888888888888, \"#fdca26\"], [1.0, \"#f0f921\"]], \"sequentialminus\": [[0.0, \"#0d0887\"], [0.1111111111111111, \"#46039f\"], [0.2222222222222222, \"#7201a8\"], [0.3333333333333333, \"#9c179e\"], [0.4444444444444444, \"#bd3786\"], [0.5555555555555556, \"#d8576b\"], [0.6666666666666666, \"#ed7953\"], [0.7777777777777778, \"#fb9f3a\"], [0.8888888888888888, \"#fdca26\"], [1.0, \"#f0f921\"]]}, \"colorway\": [\"#636efa\", \"#EF553B\", \"#00cc96\", \"#ab63fa\", \"#FFA15A\", \"#19d3f3\", \"#FF6692\", \"#B6E880\", \"#FF97FF\", \"#FECB52\"], \"font\": {\"color\": \"#2a3f5f\"}, \"geo\": {\"bgcolor\": \"white\", \"lakecolor\": \"white\", \"landcolor\": \"#E5ECF6\", \"showlakes\": true, \"showland\": true, \"subunitcolor\": \"white\"}, \"hoverlabel\": {\"align\": \"left\"}, \"hovermode\": \"closest\", \"mapbox\": {\"style\": \"light\"}, \"paper_bgcolor\": \"white\", \"plot_bgcolor\": \"#E5ECF6\", \"polar\": {\"angularaxis\": {\"gridcolor\": \"white\", \"linecolor\": \"white\", \"ticks\": \"\"}, \"bgcolor\": \"#E5ECF6\", \"radialaxis\": {\"gridcolor\": \"white\", \"linecolor\": \"white\", \"ticks\": \"\"}}, \"scene\": {\"xaxis\": {\"backgroundcolor\": \"#E5ECF6\", \"gridcolor\": \"white\", \"gridwidth\": 2, \"linecolor\": \"white\", \"showbackground\": true, \"ticks\": \"\", \"zerolinecolor\": \"white\"}, \"yaxis\": {\"backgroundcolor\": \"#E5ECF6\", \"gridcolor\": \"white\", \"gridwidth\": 2, \"linecolor\": \"white\", \"showbackground\": true, \"ticks\": \"\", \"zerolinecolor\": \"white\"}, \"zaxis\": {\"backgroundcolor\": \"#E5ECF6\", \"gridcolor\": \"white\", \"gridwidth\": 2, \"linecolor\": \"white\", \"showbackground\": true, \"ticks\": \"\", \"zerolinecolor\": \"white\"}}, \"shapedefaults\": {\"line\": {\"color\": \"#2a3f5f\"}}, \"ternary\": {\"aaxis\": {\"gridcolor\": \"white\", \"linecolor\": \"white\", \"ticks\": \"\"}, \"baxis\": {\"gridcolor\": \"white\", \"linecolor\": \"white\", \"ticks\": \"\"}, \"bgcolor\": \"#E5ECF6\", \"caxis\": {\"gridcolor\": \"white\", \"linecolor\": \"white\", \"ticks\": \"\"}}, \"title\": {\"x\": 0.05}, \"xaxis\": {\"automargin\": true, \"gridcolor\": \"white\", \"linecolor\": \"white\", \"ticks\": \"\", \"title\": {\"standoff\": 15}, \"zerolinecolor\": \"white\", \"zerolinewidth\": 2}, \"yaxis\": {\"automargin\": true, \"gridcolor\": \"white\", \"linecolor\": \"white\", \"ticks\": \"\", \"title\": {\"standoff\": 15}, \"zerolinecolor\": \"white\", \"zerolinewidth\": 2}}}, \"title\": {\"text\": \"Single house prediction with linear regression model\"}, \"xaxis\": {\"anchor\": \"y\", \"domain\": [0.0, 1.0], \"title\": {\"text\": \"Date and time\"}}, \"yaxis\": {\"anchor\": \"x\", \"domain\": [0.0, 1.0], \"title\": {\"text\": \"meter value reading\"}}},                        {\"responsive\": true}                    ).then(function(){\n",
       "                            \n",
       "var gd = document.getElementById('51d56daa-e23e-41af-9f71-ae1ce9912755');\n",
       "var x = new MutationObserver(function (mutations, observer) {{\n",
       "        var display = window.getComputedStyle(gd).display;\n",
       "        if (!display || display === 'none') {{\n",
       "            console.log([gd, 'removed!']);\n",
       "            Plotly.purge(gd);\n",
       "            observer.disconnect();\n",
       "        }}\n",
       "}});\n",
       "\n",
       "// Listen for the removal of the full notebook cells\n",
       "var notebookContainer = gd.closest('#notebook-container');\n",
       "if (notebookContainer) {{\n",
       "    x.observe(notebookContainer, {childList: true});\n",
       "}}\n",
       "\n",
       "// Listen for the clearing of the current output cell\n",
       "var outputEl = gd.closest('.output');\n",
       "if (outputEl) {{\n",
       "    x.observe(outputEl, {childList: true});\n",
       "}}\n",
       "\n",
       "                        })                };                });            </script>        </div>"
      ]
     },
     "metadata": {},
     "output_type": "display_data"
    }
   ],
   "source": [
    "# before plotting actual, need to take to utc because plotly doesn't do it for us.\n",
    "actual = merged_df[merged_df['dataid'] == 35][:250]\n",
    "imputed_actual = clean_df[clean_df['dataid'] == 35][:250]\n",
    "\n",
    "fig = px.scatter()\n",
    "fig.add_scatter(x=timestamps, y=predictions, name='predictions')\n",
    "fig.add_scatter(x=actual.index, y=actual['meter_value'].tolist(), name='actual')\n",
    "fig.add_scatter(x=imputed_actual.index, y=imputed_actual['meter_value'].tolist(), name='imputed')\n",
    "fig.add_scatter(x=ltp_timestamps, y=ltp_predictions, name='long_term_prediction')\n",
    "fig.update_layout(\n",
    "    title='Single house prediction with linear regression model',\n",
    "    xaxis_title='Date and time',\n",
    "    yaxis_title='meter value reading',\n",
    "    legend_title='Data Category',\n",
    ")\n",
    "fig.show()"
   ]
  },
  {
   "cell_type": "markdown",
   "metadata": {},
   "source": [
    "In this initial scenario we carry out predictions using data from a single house with *dataid* 35. It could be observed that the model predicts the meter value usage in a pessimistic manner by using hourly simulation. This is likely because the model learns incremental increase in hourly window, if we increase LOOKBACK period, it would cause the model to be more optimistic.\n",
    "\n",
    "One noticable issue with the model is that imperfections that exist in imputation is also carried over by the model, largely due to the fact that the input data fed into the model was imputed."
   ]
  },
  {
   "cell_type": "code",
   "execution_count": 92,
   "metadata": {},
   "outputs": [],
   "source": [
    "mean_data = mean_readings_for_area(clean_df)\n",
    "mean_timestamps, mean_predictions = simulate_operation(mean_data[:259], lin_model)\n",
    "mean_ltp_timestamps, mean_ltp_predictions = long_term_prediction(mean_data[:250], pd.Timestamp('2015-10-02 01:00:00+00:00'), 6, lin_model)"
   ]
  },
  {
   "cell_type": "code",
   "execution_count": 93,
   "metadata": {
    "scrolled": false
   },
   "outputs": [
    {
     "data": {
      "application/vnd.plotly.v1+json": {
       "config": {
        "plotlyServerURL": "https://plot.ly"
       },
       "data": [
        {
         "name": "predictions",
         "type": "scatter",
         "x": [
          "2015-10-01T12:00:00+00:00",
          "2015-10-01T13:00:00+00:00",
          "2015-10-01T14:00:00+00:00",
          "2015-10-01T15:00:00+00:00",
          "2015-10-01T16:00:00+00:00",
          "2015-10-01T17:00:00+00:00",
          "2015-10-01T18:00:00+00:00",
          "2015-10-01T19:00:00+00:00",
          "2015-10-01T20:00:00+00:00",
          "2015-10-01T21:00:00+00:00",
          "2015-10-01T22:00:00+00:00",
          "2015-10-01T23:00:00+00:00",
          "2015-10-02T00:00:00+00:00",
          "2015-10-02T01:00:00+00:00",
          "2015-10-02T02:00:00+00:00",
          "2015-10-02T03:00:00+00:00",
          "2015-10-02T04:00:00+00:00",
          "2015-10-02T05:00:00+00:00",
          "2015-10-02T06:00:00+00:00",
          "2015-10-02T07:00:00+00:00",
          "2015-10-02T08:00:00+00:00",
          "2015-10-02T09:00:00+00:00",
          "2015-10-02T10:00:00+00:00",
          "2015-10-02T11:00:00+00:00",
          "2015-10-02T12:00:00+00:00",
          "2015-10-02T13:00:00+00:00",
          "2015-10-02T14:00:00+00:00",
          "2015-10-02T15:00:00+00:00",
          "2015-10-02T16:00:00+00:00",
          "2015-10-02T17:00:00+00:00",
          "2015-10-02T18:00:00+00:00",
          "2015-10-02T19:00:00+00:00",
          "2015-10-02T20:00:00+00:00",
          "2015-10-02T21:00:00+00:00",
          "2015-10-02T22:00:00+00:00",
          "2015-10-02T23:00:00+00:00",
          "2015-10-03T00:00:00+00:00",
          "2015-10-03T01:00:00+00:00",
          "2015-10-03T02:00:00+00:00",
          "2015-10-03T03:00:00+00:00",
          "2015-10-03T04:00:00+00:00",
          "2015-10-03T05:00:00+00:00",
          "2015-10-03T06:00:00+00:00",
          "2015-10-03T07:00:00+00:00",
          "2015-10-03T08:00:00+00:00",
          "2015-10-03T09:00:00+00:00",
          "2015-10-03T10:00:00+00:00",
          "2015-10-03T11:00:00+00:00",
          "2015-10-03T12:00:00+00:00",
          "2015-10-03T13:00:00+00:00",
          "2015-10-03T14:00:00+00:00",
          "2015-10-03T15:00:00+00:00",
          "2015-10-03T16:00:00+00:00",
          "2015-10-03T17:00:00+00:00",
          "2015-10-03T18:00:00+00:00",
          "2015-10-03T19:00:00+00:00",
          "2015-10-03T20:00:00+00:00",
          "2015-10-03T21:00:00+00:00",
          "2015-10-03T22:00:00+00:00",
          "2015-10-03T23:00:00+00:00",
          "2015-10-04T00:00:00+00:00",
          "2015-10-04T01:00:00+00:00",
          "2015-10-04T02:00:00+00:00",
          "2015-10-04T03:00:00+00:00",
          "2015-10-04T04:00:00+00:00",
          "2015-10-04T05:00:00+00:00",
          "2015-10-04T06:00:00+00:00",
          "2015-10-04T07:00:00+00:00",
          "2015-10-04T08:00:00+00:00",
          "2015-10-04T09:00:00+00:00",
          "2015-10-04T10:00:00+00:00",
          "2015-10-04T11:00:00+00:00",
          "2015-10-04T12:00:00+00:00",
          "2015-10-04T13:00:00+00:00",
          "2015-10-04T14:00:00+00:00",
          "2015-10-04T15:00:00+00:00",
          "2015-10-04T16:00:00+00:00",
          "2015-10-04T17:00:00+00:00",
          "2015-10-04T18:00:00+00:00",
          "2015-10-04T19:00:00+00:00",
          "2015-10-04T20:00:00+00:00",
          "2015-10-04T21:00:00+00:00",
          "2015-10-04T22:00:00+00:00",
          "2015-10-04T23:00:00+00:00",
          "2015-10-05T00:00:00+00:00",
          "2015-10-05T01:00:00+00:00",
          "2015-10-05T02:00:00+00:00",
          "2015-10-05T03:00:00+00:00",
          "2015-10-05T04:00:00+00:00",
          "2015-10-05T05:00:00+00:00",
          "2015-10-05T06:00:00+00:00",
          "2015-10-05T07:00:00+00:00",
          "2015-10-05T08:00:00+00:00",
          "2015-10-05T09:00:00+00:00",
          "2015-10-05T10:00:00+00:00",
          "2015-10-05T11:00:00+00:00",
          "2015-10-05T12:00:00+00:00",
          "2015-10-05T13:00:00+00:00",
          "2015-10-05T14:00:00+00:00",
          "2015-10-05T15:00:00+00:00",
          "2015-10-05T16:00:00+00:00",
          "2015-10-05T17:00:00+00:00",
          "2015-10-05T18:00:00+00:00",
          "2015-10-05T19:00:00+00:00",
          "2015-10-05T20:00:00+00:00",
          "2015-10-05T21:00:00+00:00",
          "2015-10-05T22:00:00+00:00",
          "2015-10-05T23:00:00+00:00",
          "2015-10-06T00:00:00+00:00",
          "2015-10-06T01:00:00+00:00",
          "2015-10-06T02:00:00+00:00",
          "2015-10-06T03:00:00+00:00",
          "2015-10-06T04:00:00+00:00",
          "2015-10-06T05:00:00+00:00",
          "2015-10-06T06:00:00+00:00",
          "2015-10-06T07:00:00+00:00",
          "2015-10-06T08:00:00+00:00",
          "2015-10-06T09:00:00+00:00",
          "2015-10-06T10:00:00+00:00",
          "2015-10-06T11:00:00+00:00",
          "2015-10-06T12:00:00+00:00",
          "2015-10-06T13:00:00+00:00",
          "2015-10-06T14:00:00+00:00",
          "2015-10-06T15:00:00+00:00",
          "2015-10-06T16:00:00+00:00",
          "2015-10-06T17:00:00+00:00",
          "2015-10-06T18:00:00+00:00",
          "2015-10-06T19:00:00+00:00",
          "2015-10-06T20:00:00+00:00",
          "2015-10-06T21:00:00+00:00",
          "2015-10-06T22:00:00+00:00",
          "2015-10-06T23:00:00+00:00",
          "2015-10-07T00:00:00+00:00",
          "2015-10-07T01:00:00+00:00",
          "2015-10-07T02:00:00+00:00",
          "2015-10-07T03:00:00+00:00",
          "2015-10-07T04:00:00+00:00",
          "2015-10-07T05:00:00+00:00",
          "2015-10-07T06:00:00+00:00",
          "2015-10-07T07:00:00+00:00",
          "2015-10-07T08:00:00+00:00",
          "2015-10-07T09:00:00+00:00",
          "2015-10-07T10:00:00+00:00",
          "2015-10-07T11:00:00+00:00",
          "2015-10-07T12:00:00+00:00",
          "2015-10-07T13:00:00+00:00",
          "2015-10-07T14:00:00+00:00",
          "2015-10-07T15:00:00+00:00",
          "2015-10-07T16:00:00+00:00",
          "2015-10-07T17:00:00+00:00",
          "2015-10-07T18:00:00+00:00",
          "2015-10-07T19:00:00+00:00",
          "2015-10-07T20:00:00+00:00",
          "2015-10-07T21:00:00+00:00",
          "2015-10-07T22:00:00+00:00",
          "2015-10-07T23:00:00+00:00",
          "2015-10-08T00:00:00+00:00",
          "2015-10-08T01:00:00+00:00",
          "2015-10-08T02:00:00+00:00",
          "2015-10-08T03:00:00+00:00",
          "2015-10-08T04:00:00+00:00",
          "2015-10-08T05:00:00+00:00",
          "2015-10-08T06:00:00+00:00",
          "2015-10-08T07:00:00+00:00",
          "2015-10-08T08:00:00+00:00",
          "2015-10-08T09:00:00+00:00",
          "2015-10-08T10:00:00+00:00",
          "2015-10-08T11:00:00+00:00",
          "2015-10-08T12:00:00+00:00",
          "2015-10-08T13:00:00+00:00",
          "2015-10-08T14:00:00+00:00",
          "2015-10-08T15:00:00+00:00",
          "2015-10-08T16:00:00+00:00",
          "2015-10-08T17:00:00+00:00",
          "2015-10-08T18:00:00+00:00",
          "2015-10-08T19:00:00+00:00",
          "2015-10-08T20:00:00+00:00",
          "2015-10-08T21:00:00+00:00",
          "2015-10-08T22:00:00+00:00",
          "2015-10-08T23:00:00+00:00",
          "2015-10-09T00:00:00+00:00",
          "2015-10-09T01:00:00+00:00",
          "2015-10-09T02:00:00+00:00",
          "2015-10-09T03:00:00+00:00",
          "2015-10-09T04:00:00+00:00",
          "2015-10-09T05:00:00+00:00",
          "2015-10-09T06:00:00+00:00",
          "2015-10-09T07:00:00+00:00",
          "2015-10-09T08:00:00+00:00",
          "2015-10-09T09:00:00+00:00",
          "2015-10-09T10:00:00+00:00",
          "2015-10-09T11:00:00+00:00",
          "2015-10-09T12:00:00+00:00",
          "2015-10-09T13:00:00+00:00",
          "2015-10-09T14:00:00+00:00",
          "2015-10-09T15:00:00+00:00",
          "2015-10-09T16:00:00+00:00",
          "2015-10-09T17:00:00+00:00",
          "2015-10-09T18:00:00+00:00",
          "2015-10-09T19:00:00+00:00",
          "2015-10-09T20:00:00+00:00",
          "2015-10-09T21:00:00+00:00",
          "2015-10-09T22:00:00+00:00",
          "2015-10-09T23:00:00+00:00",
          "2015-10-10T00:00:00+00:00",
          "2015-10-10T01:00:00+00:00",
          "2015-10-10T02:00:00+00:00",
          "2015-10-10T03:00:00+00:00",
          "2015-10-10T04:00:00+00:00",
          "2015-10-10T05:00:00+00:00",
          "2015-10-10T06:00:00+00:00",
          "2015-10-10T07:00:00+00:00",
          "2015-10-10T08:00:00+00:00",
          "2015-10-10T09:00:00+00:00",
          "2015-10-10T10:00:00+00:00",
          "2015-10-10T11:00:00+00:00",
          "2015-10-10T12:00:00+00:00",
          "2015-10-10T13:00:00+00:00",
          "2015-10-10T14:00:00+00:00",
          "2015-10-10T15:00:00+00:00",
          "2015-10-10T16:00:00+00:00",
          "2015-10-10T17:00:00+00:00",
          "2015-10-10T18:00:00+00:00",
          "2015-10-10T19:00:00+00:00",
          "2015-10-10T20:00:00+00:00",
          "2015-10-10T21:00:00+00:00",
          "2015-10-10T22:00:00+00:00",
          "2015-10-10T23:00:00+00:00",
          "2015-10-11T00:00:00+00:00",
          "2015-10-11T01:00:00+00:00",
          "2015-10-11T02:00:00+00:00",
          "2015-10-11T03:00:00+00:00",
          "2015-10-11T04:00:00+00:00",
          "2015-10-11T05:00:00+00:00",
          "2015-10-11T06:00:00+00:00",
          "2015-10-11T07:00:00+00:00",
          "2015-10-11T08:00:00+00:00",
          "2015-10-11T09:00:00+00:00",
          "2015-10-11T10:00:00+00:00",
          "2015-10-11T11:00:00+00:00",
          "2015-10-11T12:00:00+00:00",
          "2015-10-11T13:00:00+00:00",
          "2015-10-11T14:00:00+00:00",
          "2015-10-11T15:00:00+00:00",
          "2015-10-11T16:00:00+00:00",
          "2015-10-11T17:00:00+00:00",
          "2015-10-11T18:00:00+00:00",
          "2015-10-11T19:00:00+00:00",
          "2015-10-11T20:00:00+00:00",
          "2015-10-11T21:00:00+00:00",
          "2015-10-11T22:00:00+00:00",
          "2015-10-11T23:00:00+00:00"
         ],
         "y": [
          4.044934387720931,
          5.514264777399092,
          6.238310281636578,
          8.613346009616452,
          9.937234316647569,
          10.025946468709718,
          10.259122145334132,
          11.11698272848763,
          11.123487946772464,
          11.84698526331805,
          12.12520194698398,
          13.402170702717259,
          15.361074412553416,
          16.425261751223218,
          17.40774747303907,
          20.11633610449481,
          20.647238403926874,
          21.276652236610765,
          23.90486894259119,
          25.030349081440065,
          24.815342407916965,
          25.752833629182295,
          26.088575863242742,
          26.625710774058913,
          28.328726466075864,
          29.74363913010518,
          31.835169382179917,
          33.13450480360625,
          34.03452866224352,
          34.71362988377281,
          36.339771361561745,
          36.46041959401096,
          37.134279827376666,
          38.42574687050304,
          39.13212720139808,
          40.09343270817578,
          42.221720942586884,
          42.26878113555507,
          43.35840672857104,
          44.7156340132483,
          44.92868738157698,
          46.01032331319609,
          46.38666041985162,
          47.005884910468666,
          47.22673151666084,
          47.59085745635184,
          47.69214023128625,
          48.483255239691616,
          48.499606176887234,
          49.601756767902096,
          51.44776868309644,
          52.3773662907724,
          53.67002901405746,
          55.476176086552286,
          56.37813871510794,
          57.857473129080134,
          59.44244086843254,
          59.616578272967196,
          60.4902032338944,
          60.99373972538539,
          63.39968207137378,
          63.912059649706904,
          65.10982446869049,
          66.02801125619497,
          67.04131411409253,
          67.55890296397179,
          69.09846045172517,
          69.42992461689168,
          70.17684773064371,
          70.41274590846264,
          70.43239237661481,
          70.86322153173826,
          71.02269007607526,
          71.81669886975796,
          72.95351479735224,
          74.26606575851332,
          75.72149727635572,
          77.52937205397704,
          77.94671643068382,
          79.44589006977789,
          80.45984258100415,
          80.71188196965522,
          81.93465300377154,
          82.30360021647256,
          84.86647093663385,
          87.87674233131905,
          90.11171398331987,
          92.19579780809762,
          93.21605680978335,
          94.53445785341697,
          94.6502256401167,
          95.53529065074044,
          95.71047055409238,
          95.89604808637576,
          96.13635788203878,
          96.88788184990024,
          97.52754341711969,
          99.568551496487,
          101.91079831539209,
          102.37928670452789,
          103.42536757456416,
          104.79538916991487,
          105.6332239218616,
          105.6435571355588,
          105.86788755318804,
          106.84477885396403,
          107.53099313062113,
          108.32476367679686,
          110.85547511240732,
          112.19029590268688,
          114.1683980855663,
          114.76397948503745,
          116.79727234875037,
          117.78191227442042,
          118.14132604919845,
          118.4423750144675,
          118.61937908081929,
          119.20544585776763,
          119.71993932763559,
          121.21801082212514,
          121.995395413886,
          124.23321578068531,
          126.62786704430712,
          127.64240872510403,
          128.4390682976112,
          128.6780451660898,
          129.2569223519088,
          130.18510652872064,
          130.31999831457352,
          130.58175917782168,
          131.1281695881507,
          132.65314544195337,
          134.18738362689112,
          136.7795508055862,
          137.95212483029934,
          139.38986845056306,
          140.2498519211387,
          140.95131788910155,
          141.17930429761037,
          141.84843071257623,
          142.00917078750314,
          142.16739048813022,
          143.08357680455316,
          143.3838903599896,
          145.3353767372988,
          147.10377833599478,
          148.83641896214044,
          151.4611174149224,
          151.42565627354932,
          152.67880939397378,
          153.09676325101648,
          153.29809487937305,
          153.44187966362796,
          153.68432950617478,
          154.88351528618966,
          155.23983174770618,
          157.68960846045533,
          158.32093248047207,
          160.2070143977051,
          162.28064367385355,
          163.66897834390204,
          163.6065600008972,
          163.80109163342505,
          163.7708381183406,
          163.86579748484115,
          164.1955177781642,
          164.8384595925968,
          165.2316279939467,
          166.85652020587682,
          168.36537069803106,
          170.4733558680753,
          171.84382635251762,
          173.13752659748607,
          174.32896755169568,
          174.89434187989278,
          175.58680693332337,
          175.9549722980127,
          177.02034875264656,
          177.2374628838648,
          178.1476916444602,
          180.20271026075852,
          182.31468477663077,
          183.06565250196073,
          184.97657846259216,
          185.73179369233017,
          186.27843668847657,
          187.60137861097203,
          187.81439165033404,
          188.0490808687471,
          188.3253737226478,
          188.47818111814865,
          188.82329447558345,
          190.88608533185925,
          192.08624143018028,
          193.53583342616366,
          193.89710653687962,
          195.02149814407488,
          196.58878645845095,
          196.9192897930477,
          197.15427661209563,
          197.8880657076772,
          198.7478666132144,
          199.75441276716407,
          200.06048616969292,
          202.98267196053783,
          204.6528804510036,
          205.68350140150284,
          206.21578745977777,
          206.67726326864593,
          207.8917582336346,
          208.95162526527093,
          209.04675302844234,
          209.58373857493532,
          210.19358730964316,
          210.29332295005665,
          210.66505499058388,
          211.29330073952147,
          211.81112403061772,
          213.07904199981306,
          214.4924833462024,
          215.62129832850997,
          217.7832268934722,
          219.57561682000406,
          220.14902554208112,
          220.70124495965035,
          221.13009885724406,
          222.04663761472378,
          223.0410660881826,
          225.91665249478598,
          226.89425701251318,
          228.02189699621036,
          228.4453157087373,
          229.15315175013808,
          230.07022859271356,
          231.13475956506096,
          231.99313432974793,
          232.02812112239604,
          232.52565172941274,
          232.57326027900612,
          232.73378570367987,
          233.0926414101347,
          233.59555723100925,
          234.2935988360023,
          235.5633136584034,
          238.6445484728969,
          239.55086609354234,
          241.14987845209893,
          242.15531107046962,
          243.86844409081095,
          245.73943922806563,
          248.67249651833643,
          248.60921009886644
         ]
        },
        {
         "name": "mean",
         "type": "scatter",
         "x": [
          "2015-10-01T05:00:00+00:00",
          "2015-10-01T06:00:00+00:00",
          "2015-10-01T07:00:00+00:00",
          "2015-10-01T08:00:00+00:00",
          "2015-10-01T09:00:00+00:00",
          "2015-10-01T10:00:00+00:00",
          "2015-10-01T11:00:00+00:00",
          "2015-10-01T12:00:00+00:00",
          "2015-10-01T13:00:00+00:00",
          "2015-10-01T14:00:00+00:00",
          "2015-10-01T15:00:00+00:00",
          "2015-10-01T16:00:00+00:00",
          "2015-10-01T17:00:00+00:00",
          "2015-10-01T18:00:00+00:00",
          "2015-10-01T19:00:00+00:00",
          "2015-10-01T20:00:00+00:00",
          "2015-10-01T21:00:00+00:00",
          "2015-10-01T22:00:00+00:00",
          "2015-10-01T23:00:00+00:00",
          "2015-10-02T00:00:00+00:00",
          "2015-10-02T01:00:00+00:00",
          "2015-10-02T02:00:00+00:00",
          "2015-10-02T03:00:00+00:00",
          "2015-10-02T04:00:00+00:00",
          "2015-10-02T05:00:00+00:00",
          "2015-10-02T06:00:00+00:00",
          "2015-10-02T07:00:00+00:00",
          "2015-10-02T08:00:00+00:00",
          "2015-10-02T09:00:00+00:00",
          "2015-10-02T10:00:00+00:00",
          "2015-10-02T11:00:00+00:00",
          "2015-10-02T12:00:00+00:00",
          "2015-10-02T13:00:00+00:00",
          "2015-10-02T14:00:00+00:00",
          "2015-10-02T15:00:00+00:00",
          "2015-10-02T16:00:00+00:00",
          "2015-10-02T17:00:00+00:00",
          "2015-10-02T18:00:00+00:00",
          "2015-10-02T19:00:00+00:00",
          "2015-10-02T20:00:00+00:00",
          "2015-10-02T21:00:00+00:00",
          "2015-10-02T22:00:00+00:00",
          "2015-10-02T23:00:00+00:00",
          "2015-10-03T00:00:00+00:00",
          "2015-10-03T01:00:00+00:00",
          "2015-10-03T02:00:00+00:00",
          "2015-10-03T03:00:00+00:00",
          "2015-10-03T04:00:00+00:00",
          "2015-10-03T05:00:00+00:00",
          "2015-10-03T06:00:00+00:00",
          "2015-10-03T07:00:00+00:00",
          "2015-10-03T08:00:00+00:00",
          "2015-10-03T09:00:00+00:00",
          "2015-10-03T10:00:00+00:00",
          "2015-10-03T11:00:00+00:00",
          "2015-10-03T12:00:00+00:00",
          "2015-10-03T13:00:00+00:00",
          "2015-10-03T14:00:00+00:00",
          "2015-10-03T15:00:00+00:00",
          "2015-10-03T16:00:00+00:00",
          "2015-10-03T17:00:00+00:00",
          "2015-10-03T18:00:00+00:00",
          "2015-10-03T19:00:00+00:00",
          "2015-10-03T20:00:00+00:00",
          "2015-10-03T21:00:00+00:00",
          "2015-10-03T22:00:00+00:00",
          "2015-10-03T23:00:00+00:00",
          "2015-10-04T00:00:00+00:00",
          "2015-10-04T01:00:00+00:00",
          "2015-10-04T02:00:00+00:00",
          "2015-10-04T03:00:00+00:00",
          "2015-10-04T04:00:00+00:00",
          "2015-10-04T05:00:00+00:00",
          "2015-10-04T06:00:00+00:00",
          "2015-10-04T07:00:00+00:00",
          "2015-10-04T08:00:00+00:00",
          "2015-10-04T09:00:00+00:00",
          "2015-10-04T10:00:00+00:00",
          "2015-10-04T11:00:00+00:00",
          "2015-10-04T12:00:00+00:00",
          "2015-10-04T13:00:00+00:00",
          "2015-10-04T14:00:00+00:00",
          "2015-10-04T15:00:00+00:00",
          "2015-10-04T16:00:00+00:00",
          "2015-10-04T17:00:00+00:00",
          "2015-10-04T18:00:00+00:00",
          "2015-10-04T19:00:00+00:00",
          "2015-10-04T20:00:00+00:00",
          "2015-10-04T21:00:00+00:00",
          "2015-10-04T22:00:00+00:00",
          "2015-10-04T23:00:00+00:00",
          "2015-10-05T00:00:00+00:00",
          "2015-10-05T01:00:00+00:00",
          "2015-10-05T02:00:00+00:00",
          "2015-10-05T03:00:00+00:00",
          "2015-10-05T04:00:00+00:00",
          "2015-10-05T05:00:00+00:00",
          "2015-10-05T06:00:00+00:00",
          "2015-10-05T07:00:00+00:00",
          "2015-10-05T08:00:00+00:00",
          "2015-10-05T09:00:00+00:00",
          "2015-10-05T10:00:00+00:00",
          "2015-10-05T11:00:00+00:00",
          "2015-10-05T12:00:00+00:00",
          "2015-10-05T13:00:00+00:00",
          "2015-10-05T14:00:00+00:00",
          "2015-10-05T15:00:00+00:00",
          "2015-10-05T16:00:00+00:00",
          "2015-10-05T17:00:00+00:00",
          "2015-10-05T18:00:00+00:00",
          "2015-10-05T19:00:00+00:00",
          "2015-10-05T20:00:00+00:00",
          "2015-10-05T21:00:00+00:00",
          "2015-10-05T22:00:00+00:00",
          "2015-10-05T23:00:00+00:00",
          "2015-10-06T00:00:00+00:00",
          "2015-10-06T01:00:00+00:00",
          "2015-10-06T02:00:00+00:00",
          "2015-10-06T03:00:00+00:00",
          "2015-10-06T04:00:00+00:00",
          "2015-10-06T05:00:00+00:00",
          "2015-10-06T06:00:00+00:00",
          "2015-10-06T07:00:00+00:00",
          "2015-10-06T08:00:00+00:00",
          "2015-10-06T09:00:00+00:00",
          "2015-10-06T10:00:00+00:00",
          "2015-10-06T11:00:00+00:00",
          "2015-10-06T12:00:00+00:00",
          "2015-10-06T13:00:00+00:00",
          "2015-10-06T14:00:00+00:00",
          "2015-10-06T15:00:00+00:00",
          "2015-10-06T16:00:00+00:00",
          "2015-10-06T17:00:00+00:00",
          "2015-10-06T18:00:00+00:00",
          "2015-10-06T19:00:00+00:00",
          "2015-10-06T20:00:00+00:00",
          "2015-10-06T21:00:00+00:00",
          "2015-10-06T22:00:00+00:00",
          "2015-10-06T23:00:00+00:00",
          "2015-10-07T00:00:00+00:00",
          "2015-10-07T01:00:00+00:00",
          "2015-10-07T02:00:00+00:00",
          "2015-10-07T03:00:00+00:00",
          "2015-10-07T04:00:00+00:00",
          "2015-10-07T05:00:00+00:00",
          "2015-10-07T06:00:00+00:00",
          "2015-10-07T07:00:00+00:00",
          "2015-10-07T08:00:00+00:00",
          "2015-10-07T09:00:00+00:00",
          "2015-10-07T10:00:00+00:00",
          "2015-10-07T11:00:00+00:00",
          "2015-10-07T12:00:00+00:00",
          "2015-10-07T13:00:00+00:00",
          "2015-10-07T14:00:00+00:00",
          "2015-10-07T15:00:00+00:00",
          "2015-10-07T16:00:00+00:00",
          "2015-10-07T17:00:00+00:00",
          "2015-10-07T18:00:00+00:00",
          "2015-10-07T19:00:00+00:00",
          "2015-10-07T20:00:00+00:00",
          "2015-10-07T21:00:00+00:00",
          "2015-10-07T22:00:00+00:00",
          "2015-10-07T23:00:00+00:00",
          "2015-10-08T00:00:00+00:00",
          "2015-10-08T01:00:00+00:00",
          "2015-10-08T02:00:00+00:00",
          "2015-10-08T03:00:00+00:00",
          "2015-10-08T04:00:00+00:00",
          "2015-10-08T05:00:00+00:00",
          "2015-10-08T06:00:00+00:00",
          "2015-10-08T07:00:00+00:00",
          "2015-10-08T08:00:00+00:00",
          "2015-10-08T09:00:00+00:00",
          "2015-10-08T10:00:00+00:00",
          "2015-10-08T11:00:00+00:00",
          "2015-10-08T12:00:00+00:00",
          "2015-10-08T13:00:00+00:00",
          "2015-10-08T14:00:00+00:00",
          "2015-10-08T15:00:00+00:00",
          "2015-10-08T16:00:00+00:00",
          "2015-10-08T17:00:00+00:00",
          "2015-10-08T18:00:00+00:00",
          "2015-10-08T19:00:00+00:00",
          "2015-10-08T20:00:00+00:00",
          "2015-10-08T21:00:00+00:00",
          "2015-10-08T22:00:00+00:00",
          "2015-10-08T23:00:00+00:00",
          "2015-10-09T00:00:00+00:00",
          "2015-10-09T01:00:00+00:00",
          "2015-10-09T02:00:00+00:00",
          "2015-10-09T03:00:00+00:00",
          "2015-10-09T04:00:00+00:00",
          "2015-10-09T05:00:00+00:00",
          "2015-10-09T06:00:00+00:00",
          "2015-10-09T07:00:00+00:00",
          "2015-10-09T08:00:00+00:00",
          "2015-10-09T09:00:00+00:00",
          "2015-10-09T10:00:00+00:00",
          "2015-10-09T11:00:00+00:00",
          "2015-10-09T12:00:00+00:00",
          "2015-10-09T13:00:00+00:00",
          "2015-10-09T14:00:00+00:00",
          "2015-10-09T15:00:00+00:00",
          "2015-10-09T16:00:00+00:00",
          "2015-10-09T17:00:00+00:00",
          "2015-10-09T18:00:00+00:00",
          "2015-10-09T19:00:00+00:00",
          "2015-10-09T20:00:00+00:00",
          "2015-10-09T21:00:00+00:00",
          "2015-10-09T22:00:00+00:00",
          "2015-10-09T23:00:00+00:00",
          "2015-10-10T00:00:00+00:00",
          "2015-10-10T01:00:00+00:00",
          "2015-10-10T02:00:00+00:00",
          "2015-10-10T03:00:00+00:00",
          "2015-10-10T04:00:00+00:00",
          "2015-10-10T05:00:00+00:00",
          "2015-10-10T06:00:00+00:00",
          "2015-10-10T07:00:00+00:00",
          "2015-10-10T08:00:00+00:00",
          "2015-10-10T09:00:00+00:00",
          "2015-10-10T10:00:00+00:00",
          "2015-10-10T11:00:00+00:00",
          "2015-10-10T12:00:00+00:00",
          "2015-10-10T13:00:00+00:00",
          "2015-10-10T14:00:00+00:00",
          "2015-10-10T15:00:00+00:00",
          "2015-10-10T16:00:00+00:00",
          "2015-10-10T17:00:00+00:00",
          "2015-10-10T18:00:00+00:00",
          "2015-10-10T19:00:00+00:00",
          "2015-10-10T20:00:00+00:00",
          "2015-10-10T21:00:00+00:00",
          "2015-10-10T22:00:00+00:00",
          "2015-10-10T23:00:00+00:00",
          "2015-10-11T00:00:00+00:00",
          "2015-10-11T01:00:00+00:00",
          "2015-10-11T02:00:00+00:00",
          "2015-10-11T03:00:00+00:00",
          "2015-10-11T04:00:00+00:00",
          "2015-10-11T05:00:00+00:00",
          "2015-10-11T06:00:00+00:00",
          "2015-10-11T07:00:00+00:00",
          "2015-10-11T08:00:00+00:00",
          "2015-10-11T09:00:00+00:00",
          "2015-10-11T10:00:00+00:00",
          "2015-10-11T11:00:00+00:00",
          "2015-10-11T12:00:00+00:00",
          "2015-10-11T13:00:00+00:00",
          "2015-10-11T14:00:00+00:00"
         ],
         "y": [
          0.21360544217687075,
          0.617831871704505,
          0.7380667935066665,
          0.9987810792209522,
          1.0944450358605187,
          1.5407107331506706,
          2.413755335607038,
          3.6756779410780305,
          4.54475140463939,
          6.473492264279127,
          7.943183622303819,
          8.502518914606144,
          8.938339869250628,
          9.745206286229404,
          10.029069800991795,
          10.668972799228127,
          11.076734804664552,
          12.118100094467342,
          13.08877028847087,
          14.135560854226954,
          15.151207971659787,
          17.347453174646564,
          18.34499012045937,
          19.167936374984574,
          21.286720302697073,
          22.6855575119994,
          23.02245760537008,
          23.884345299515836,
          24.432022184034825,
          25.024968501138446,
          26.400173157593102,
          27.77273802510179,
          29.63005270355049,
          31.082278411675073,
          32.19945517711809,
          33.08035153566151,
          34.53666154937893,
          35.08294331784969,
          35.797574503657344,
          36.94519214782671,
          37.79732343389629,
          38.75441026863018,
          39.85639726663794,
          40.25885119840222,
          41.20449447708121,
          42.44079605495142,
          42.97760668618066,
          43.94628167132623,
          44.528634812012704,
          45.19094928325575,
          45.58200930879853,
          46.00869540907596,
          46.24879178095805,
          46.91053420520048,
          47.13478564820192,
          48.005614973255504,
          49.526251901862075,
          50.60360697432584,
          51.85169415221694,
          53.49936540279201,
          54.63786202749553,
          56.05718549472597,
          57.60796024907216,
          58.23842574317401,
          59.12465409815237,
          59.7932488693942,
          61.0214825486588,
          61.75030324169574,
          62.847395973525316,
          63.83108166767612,
          64.8668170434115,
          65.57148719210339,
          66.8986356846365,
          67.53960790685872,
          68.31638693307595,
          68.75832696834931,
          68.97555693167303,
          69.39503745115354,
          69.66539361014607,
          70.32811847787093,
          71.31248340663814,
          72.50967183224762,
          73.87304530424178,
          75.53882385317823,
          76.34851428900502,
          77.70778809648299,
          78.84558465177955,
          79.42086389928102,
          80.50769098293206,
          81.12089028363137,
          82.44109865187895,
          84.89236737038904,
          87.1153463294145,
          89.230273930549,
          90.6244188075452,
          92.06122289493068,
          92.65550717274436,
          93.5549400396191,
          93.99902457265712,
          94.33554915918171,
          94.65585801699056,
          95.31220807216415,
          95.96143113587523,
          97.57283223477633,
          99.62693571791208,
          100.55634393047247,
          101.64572475167147,
          102.97857860194105,
          103.99892884348695,
          104.37207243042364,
          104.73143641383825,
          105.57256195496379,
          106.31139733930479,
          107.1045281548494,
          108.42307578162487,
          109.73892011132463,
          111.51121367294404,
          112.46475594839643,
          114.22744722537342,
          115.44915029880063,
          116.1383692171372,
          116.64012360310211,
          116.99618420916272,
          117.56643510522007,
          118.11947743326239,
          119.33905415283911,
          120.22956618398082,
          122.06412201516586,
          124.23330402789627,
          125.58658133882064,
          126.6220369401299,
          127.19566608875905,
          127.86650582250202,
          128.75782881323678,
          129.15024889315686,
          129.510642345858,
          130.04425247875076,
          131.27771835744136,
          132.00672934645235,
          134.03956193209393,
          135.41868673321872,
          136.87450793079026,
          137.94817414146058,
          138.83673470370536,
          139.3327812953549,
          140.02084852224564,
          140.38265260963112,
          140.65983514931366,
          141.41610755074737,
          141.8621166856454,
          143.36722120065343,
          144.9988033262573,
          146.68020387015784,
          149.00169416032284,
          149.69259280416267,
          150.89651916454065,
          151.60701105360397,
          152.04937137527463,
          152.34808469898795,
          152.66859607426977,
          153.62435232312947,
          154.1519490853416,
          155.3478068674063,
          156.13973356815652,
          157.71737633570123,
          159.60160876993368,
          161.12820637867415,
          161.60250454238408,
          162.00668754892004,
          162.19881248937034,
          162.39319157433766,
          162.71759494874104,
          163.28056392421,
          163.73188667553276,
          165.00634104061214,
          166.40295235522345,
          168.27064515624957,
          169.76979193969868,
          171.16500758547613,
          172.46377647303814,
          173.31082773095895,
          174.1226494363853,
          174.68384171632758,
          175.6463056412915,
          176.1088820860108,
          176.93237005637377,
          177.9304220044257,
          179.69563211919723,
          180.72396086116234,
          182.40471786944744,
          183.447190987727,
          184.21898112940352,
          185.42856807024046,
          185.97704778201805,
          186.38012927568778,
          186.7549799327965,
          187.0279690535384,
          187.3902295899369,
          188.93510652947674,
          190.17810963110054,
          191.56389384054773,
          192.25870473141126,
          193.32881352399195,
          194.7608281760066,
          195.44111830833847,
          195.88421203631592,
          196.5955421239065,
          197.43904714496256,
          198.4048323824087,
          198.9296339697103,
          200.4657095281388,
          202.05646976205693,
          203.2574299130171,
          204.04059713339362,
          204.6809989430708,
          205.776026138098,
          206.85315284736757,
          207.2760730998059,
          207.84849917309404,
          208.48961780623395,
          208.79180444073765,
          209.19062278288933,
          209.77843457427255,
          210.33445429529226,
          211.39586193527134,
          212.68239036895886,
          213.85195661189468,
          215.71502145710238,
          217.50346970295803,
          218.47345357529485,
          219.2418196898566,
          219.85810382846162,
          220.74303298199544,
          221.71939237423717,
          223.32547123989195,
          224.47319675286136,
          225.64436542005274,
          226.33946964648226,
          227.11714349379895,
          228.03014509893538,
          229.06956085114183,
          229.9968004059676,
          230.3462936169066,
          230.87257756587096,
          231.11301684235676,
          231.35399512333504,
          231.71143565954145,
          232.19229319152257,
          232.8344935199298,
          233.91162908099793
         ]
        },
        {
         "name": "long_term_prediction",
         "type": "scatter",
         "x": [
          "2015-10-02T01:00:00+00:00",
          "2015-10-02T02:00:00+00:00",
          "2015-10-02T03:00:00+00:00",
          "2015-10-02T04:00:00+00:00",
          "2015-10-02T05:00:00+00:00",
          "2015-10-02T06:00:00+00:00",
          "2015-10-02T07:00:00+00:00",
          "2015-10-02T08:00:00+00:00",
          "2015-10-02T09:00:00+00:00",
          "2015-10-02T10:00:00+00:00",
          "2015-10-02T11:00:00+00:00",
          "2015-10-02T12:00:00+00:00",
          "2015-10-02T13:00:00+00:00",
          "2015-10-02T14:00:00+00:00",
          "2015-10-02T15:00:00+00:00",
          "2015-10-02T16:00:00+00:00",
          "2015-10-02T17:00:00+00:00",
          "2015-10-02T18:00:00+00:00",
          "2015-10-02T19:00:00+00:00",
          "2015-10-02T20:00:00+00:00",
          "2015-10-02T21:00:00+00:00",
          "2015-10-02T22:00:00+00:00",
          "2015-10-02T23:00:00+00:00",
          "2015-10-03T00:00:00+00:00",
          "2015-10-03T01:00:00+00:00",
          "2015-10-03T02:00:00+00:00",
          "2015-10-03T03:00:00+00:00",
          "2015-10-03T04:00:00+00:00",
          "2015-10-03T05:00:00+00:00",
          "2015-10-03T06:00:00+00:00",
          "2015-10-03T07:00:00+00:00",
          "2015-10-03T08:00:00+00:00",
          "2015-10-03T09:00:00+00:00",
          "2015-10-03T10:00:00+00:00",
          "2015-10-03T11:00:00+00:00",
          "2015-10-03T12:00:00+00:00",
          "2015-10-03T13:00:00+00:00",
          "2015-10-03T14:00:00+00:00",
          "2015-10-03T15:00:00+00:00",
          "2015-10-03T16:00:00+00:00",
          "2015-10-03T17:00:00+00:00",
          "2015-10-03T18:00:00+00:00",
          "2015-10-03T19:00:00+00:00",
          "2015-10-03T20:00:00+00:00",
          "2015-10-03T21:00:00+00:00",
          "2015-10-03T22:00:00+00:00",
          "2015-10-03T23:00:00+00:00",
          "2015-10-04T00:00:00+00:00",
          "2015-10-04T01:00:00+00:00",
          "2015-10-04T02:00:00+00:00",
          "2015-10-04T03:00:00+00:00",
          "2015-10-04T04:00:00+00:00",
          "2015-10-04T05:00:00+00:00",
          "2015-10-04T06:00:00+00:00",
          "2015-10-04T07:00:00+00:00",
          "2015-10-04T08:00:00+00:00",
          "2015-10-04T09:00:00+00:00",
          "2015-10-04T10:00:00+00:00",
          "2015-10-04T11:00:00+00:00",
          "2015-10-04T12:00:00+00:00",
          "2015-10-04T13:00:00+00:00",
          "2015-10-04T14:00:00+00:00",
          "2015-10-04T15:00:00+00:00",
          "2015-10-04T16:00:00+00:00",
          "2015-10-04T17:00:00+00:00",
          "2015-10-04T18:00:00+00:00",
          "2015-10-04T19:00:00+00:00",
          "2015-10-04T20:00:00+00:00",
          "2015-10-04T21:00:00+00:00",
          "2015-10-04T22:00:00+00:00",
          "2015-10-04T23:00:00+00:00",
          "2015-10-05T00:00:00+00:00",
          "2015-10-05T01:00:00+00:00",
          "2015-10-05T02:00:00+00:00",
          "2015-10-05T03:00:00+00:00",
          "2015-10-05T04:00:00+00:00",
          "2015-10-05T05:00:00+00:00",
          "2015-10-05T06:00:00+00:00",
          "2015-10-05T07:00:00+00:00",
          "2015-10-05T08:00:00+00:00",
          "2015-10-05T09:00:00+00:00",
          "2015-10-05T10:00:00+00:00",
          "2015-10-05T11:00:00+00:00",
          "2015-10-05T12:00:00+00:00",
          "2015-10-05T13:00:00+00:00",
          "2015-10-05T14:00:00+00:00",
          "2015-10-05T15:00:00+00:00",
          "2015-10-05T16:00:00+00:00",
          "2015-10-05T17:00:00+00:00",
          "2015-10-05T18:00:00+00:00",
          "2015-10-05T19:00:00+00:00",
          "2015-10-05T20:00:00+00:00",
          "2015-10-05T21:00:00+00:00",
          "2015-10-05T22:00:00+00:00",
          "2015-10-05T23:00:00+00:00",
          "2015-10-06T00:00:00+00:00",
          "2015-10-06T01:00:00+00:00",
          "2015-10-06T02:00:00+00:00",
          "2015-10-06T03:00:00+00:00",
          "2015-10-06T04:00:00+00:00",
          "2015-10-06T05:00:00+00:00",
          "2015-10-06T06:00:00+00:00",
          "2015-10-06T07:00:00+00:00",
          "2015-10-06T08:00:00+00:00",
          "2015-10-06T09:00:00+00:00",
          "2015-10-06T10:00:00+00:00",
          "2015-10-06T11:00:00+00:00",
          "2015-10-06T12:00:00+00:00",
          "2015-10-06T13:00:00+00:00",
          "2015-10-06T14:00:00+00:00",
          "2015-10-06T15:00:00+00:00",
          "2015-10-06T16:00:00+00:00",
          "2015-10-06T17:00:00+00:00",
          "2015-10-06T18:00:00+00:00",
          "2015-10-06T19:00:00+00:00",
          "2015-10-06T20:00:00+00:00",
          "2015-10-06T21:00:00+00:00",
          "2015-10-06T22:00:00+00:00",
          "2015-10-06T23:00:00+00:00",
          "2015-10-07T00:00:00+00:00",
          "2015-10-07T01:00:00+00:00",
          "2015-10-07T02:00:00+00:00",
          "2015-10-07T03:00:00+00:00",
          "2015-10-07T04:00:00+00:00",
          "2015-10-07T05:00:00+00:00",
          "2015-10-07T06:00:00+00:00",
          "2015-10-07T07:00:00+00:00",
          "2015-10-07T08:00:00+00:00",
          "2015-10-07T09:00:00+00:00",
          "2015-10-07T10:00:00+00:00",
          "2015-10-07T11:00:00+00:00",
          "2015-10-07T12:00:00+00:00",
          "2015-10-07T13:00:00+00:00",
          "2015-10-07T14:00:00+00:00",
          "2015-10-07T15:00:00+00:00",
          "2015-10-07T16:00:00+00:00",
          "2015-10-07T17:00:00+00:00",
          "2015-10-07T18:00:00+00:00",
          "2015-10-07T19:00:00+00:00",
          "2015-10-07T20:00:00+00:00",
          "2015-10-07T21:00:00+00:00",
          "2015-10-07T22:00:00+00:00",
          "2015-10-07T23:00:00+00:00",
          "2015-10-08T00:00:00+00:00"
         ],
         "y": [
          16.425261751223218,
          19.280529573808533,
          22.507736451027846,
          26.010859921828203,
          29.715159878483583,
          33.543298919043124,
          37.43891690768645,
          41.35928187033032,
          45.27096862428669,
          49.14769529902255,
          52.969039441308226,
          56.71911301379315,
          60.385536592864796,
          63.9586638881446,
          67.43098157903205,
          70.79663745313634,
          74.05107284371717,
          77.19073671415063,
          80.21286298087576,
          83.11529699719665,
          85.89636039163425,
          88.55474578957538,
          91.0894348066486,
          94.492201530761,
          98.23630738283015,
          102.18981278180158,
          106.28854627340692,
          110.48391659915382,
          114.72260024371917,
          118.96624709493722,
          123.18586764206194,
          127.3587820254583,
          131.46712711411612,
          135.49702875708505,
          139.43769515325818,
          143.28071741845196,
          147.0195427996763,
          150.6490675611375,
          154.16531637570532,
          157.56519259782348,
          160.84628404736608,
          164.00671175537687,
          167.04501209547516,
          169.96004496937095,
          172.75092229257342,
          175.4169522883461,
          177.95759609457332,
          181.36500132479767,
          185.11272035918964,
          189.0690402605442,
          193.16996611969705,
          197.36704419864805,
          201.60705810419503,
          205.85174116736403,
          210.0721688758068,
          214.24571200064233,
          218.35454684988272,
          222.3848299937569,
          226.3257935615398,
          230.16904730971154,
          233.90805300549934,
          237.53771822368913,
          241.05407644757037,
          244.45403789449756,
          247.7351957302357,
          250.89567515003094,
          253.93401577122432,
          256.8490800222354,
          259.6399817867635,
          262.30603082120155,
          264.846689457671,
          268.25410623997004,
          272.0018342728954,
          275.9581611836924,
          280.05909250287766,
          284.25617483494204,
          288.49619205346823,
          292.7408776972952,
          296.9613074159515,
          301.1348521066507,
          305.2436881756267,
          309.27397226961864,
          313.21493657749943,
          317.05819090217335,
          320.7971970470297,
          324.4268626150232,
          327.9432211113854,
          331.3431827705627,
          334.62434077163385,
          337.78482032021594,
          340.8231610417283,
          343.73822537088324,
          346.52912719628176,
          349.1951762781351,
          351.73583495153883,
          355.143251762608,
          358.8909798179439,
          362.8473067461978,
          366.9482380789811,
          371.14532042163773,
          375.3853376484148,
          379.63002329866885,
          383.8504530223315,
          388.0239977169304,
          392.1328337889441,
          396.16311788530226,
          400.10408219502625,
          403.9473365211359,
          407.6863426671107,
          411.31600823597535,
          414.83236673301616,
          418.2323283927221,
          421.513486394205,
          424.6739659431078,
          427.71230666487,
          430.6273709942196,
          433.4182728197697,
          436.08432190174113,
          438.6249805752369,
          442.03239738637774,
          445.7801254417695,
          449.73645237006684,
          453.83738370288404,
          458.0344660455671,
          462.27448327236476,
          466.51916892263483,
          470.73959864631,
          474.9131433409187,
          479.0219794129399,
          483.052263509304,
          486.9932278190326,
          490.83648214514585,
          494.5754882911234,
          498.2051538599903,
          501.7215123570328,
          505.12147401674,
          508.402632018224,
          511.5631115671276,
          514.6014522888904,
          517.5165166182404,
          520.3074184437909,
          522.9734675257625,
          525.5141261992585,
          528.9215430103994
         ]
        }
       ],
       "layout": {
        "legend": {
         "title": {
          "text": "Data Category"
         },
         "tracegroupgap": 0
        },
        "margin": {
         "t": 60
        },
        "template": {
         "data": {
          "bar": [
           {
            "error_x": {
             "color": "#2a3f5f"
            },
            "error_y": {
             "color": "#2a3f5f"
            },
            "marker": {
             "line": {
              "color": "#E5ECF6",
              "width": 0.5
             }
            },
            "type": "bar"
           }
          ],
          "barpolar": [
           {
            "marker": {
             "line": {
              "color": "#E5ECF6",
              "width": 0.5
             }
            },
            "type": "barpolar"
           }
          ],
          "carpet": [
           {
            "aaxis": {
             "endlinecolor": "#2a3f5f",
             "gridcolor": "white",
             "linecolor": "white",
             "minorgridcolor": "white",
             "startlinecolor": "#2a3f5f"
            },
            "baxis": {
             "endlinecolor": "#2a3f5f",
             "gridcolor": "white",
             "linecolor": "white",
             "minorgridcolor": "white",
             "startlinecolor": "#2a3f5f"
            },
            "type": "carpet"
           }
          ],
          "choropleth": [
           {
            "colorbar": {
             "outlinewidth": 0,
             "ticks": ""
            },
            "type": "choropleth"
           }
          ],
          "contour": [
           {
            "colorbar": {
             "outlinewidth": 0,
             "ticks": ""
            },
            "colorscale": [
             [
              0,
              "#0d0887"
             ],
             [
              0.1111111111111111,
              "#46039f"
             ],
             [
              0.2222222222222222,
              "#7201a8"
             ],
             [
              0.3333333333333333,
              "#9c179e"
             ],
             [
              0.4444444444444444,
              "#bd3786"
             ],
             [
              0.5555555555555556,
              "#d8576b"
             ],
             [
              0.6666666666666666,
              "#ed7953"
             ],
             [
              0.7777777777777778,
              "#fb9f3a"
             ],
             [
              0.8888888888888888,
              "#fdca26"
             ],
             [
              1,
              "#f0f921"
             ]
            ],
            "type": "contour"
           }
          ],
          "contourcarpet": [
           {
            "colorbar": {
             "outlinewidth": 0,
             "ticks": ""
            },
            "type": "contourcarpet"
           }
          ],
          "heatmap": [
           {
            "colorbar": {
             "outlinewidth": 0,
             "ticks": ""
            },
            "colorscale": [
             [
              0,
              "#0d0887"
             ],
             [
              0.1111111111111111,
              "#46039f"
             ],
             [
              0.2222222222222222,
              "#7201a8"
             ],
             [
              0.3333333333333333,
              "#9c179e"
             ],
             [
              0.4444444444444444,
              "#bd3786"
             ],
             [
              0.5555555555555556,
              "#d8576b"
             ],
             [
              0.6666666666666666,
              "#ed7953"
             ],
             [
              0.7777777777777778,
              "#fb9f3a"
             ],
             [
              0.8888888888888888,
              "#fdca26"
             ],
             [
              1,
              "#f0f921"
             ]
            ],
            "type": "heatmap"
           }
          ],
          "heatmapgl": [
           {
            "colorbar": {
             "outlinewidth": 0,
             "ticks": ""
            },
            "colorscale": [
             [
              0,
              "#0d0887"
             ],
             [
              0.1111111111111111,
              "#46039f"
             ],
             [
              0.2222222222222222,
              "#7201a8"
             ],
             [
              0.3333333333333333,
              "#9c179e"
             ],
             [
              0.4444444444444444,
              "#bd3786"
             ],
             [
              0.5555555555555556,
              "#d8576b"
             ],
             [
              0.6666666666666666,
              "#ed7953"
             ],
             [
              0.7777777777777778,
              "#fb9f3a"
             ],
             [
              0.8888888888888888,
              "#fdca26"
             ],
             [
              1,
              "#f0f921"
             ]
            ],
            "type": "heatmapgl"
           }
          ],
          "histogram": [
           {
            "marker": {
             "colorbar": {
              "outlinewidth": 0,
              "ticks": ""
             }
            },
            "type": "histogram"
           }
          ],
          "histogram2d": [
           {
            "colorbar": {
             "outlinewidth": 0,
             "ticks": ""
            },
            "colorscale": [
             [
              0,
              "#0d0887"
             ],
             [
              0.1111111111111111,
              "#46039f"
             ],
             [
              0.2222222222222222,
              "#7201a8"
             ],
             [
              0.3333333333333333,
              "#9c179e"
             ],
             [
              0.4444444444444444,
              "#bd3786"
             ],
             [
              0.5555555555555556,
              "#d8576b"
             ],
             [
              0.6666666666666666,
              "#ed7953"
             ],
             [
              0.7777777777777778,
              "#fb9f3a"
             ],
             [
              0.8888888888888888,
              "#fdca26"
             ],
             [
              1,
              "#f0f921"
             ]
            ],
            "type": "histogram2d"
           }
          ],
          "histogram2dcontour": [
           {
            "colorbar": {
             "outlinewidth": 0,
             "ticks": ""
            },
            "colorscale": [
             [
              0,
              "#0d0887"
             ],
             [
              0.1111111111111111,
              "#46039f"
             ],
             [
              0.2222222222222222,
              "#7201a8"
             ],
             [
              0.3333333333333333,
              "#9c179e"
             ],
             [
              0.4444444444444444,
              "#bd3786"
             ],
             [
              0.5555555555555556,
              "#d8576b"
             ],
             [
              0.6666666666666666,
              "#ed7953"
             ],
             [
              0.7777777777777778,
              "#fb9f3a"
             ],
             [
              0.8888888888888888,
              "#fdca26"
             ],
             [
              1,
              "#f0f921"
             ]
            ],
            "type": "histogram2dcontour"
           }
          ],
          "mesh3d": [
           {
            "colorbar": {
             "outlinewidth": 0,
             "ticks": ""
            },
            "type": "mesh3d"
           }
          ],
          "parcoords": [
           {
            "line": {
             "colorbar": {
              "outlinewidth": 0,
              "ticks": ""
             }
            },
            "type": "parcoords"
           }
          ],
          "pie": [
           {
            "automargin": true,
            "type": "pie"
           }
          ],
          "scatter": [
           {
            "marker": {
             "colorbar": {
              "outlinewidth": 0,
              "ticks": ""
             }
            },
            "type": "scatter"
           }
          ],
          "scatter3d": [
           {
            "line": {
             "colorbar": {
              "outlinewidth": 0,
              "ticks": ""
             }
            },
            "marker": {
             "colorbar": {
              "outlinewidth": 0,
              "ticks": ""
             }
            },
            "type": "scatter3d"
           }
          ],
          "scattercarpet": [
           {
            "marker": {
             "colorbar": {
              "outlinewidth": 0,
              "ticks": ""
             }
            },
            "type": "scattercarpet"
           }
          ],
          "scattergeo": [
           {
            "marker": {
             "colorbar": {
              "outlinewidth": 0,
              "ticks": ""
             }
            },
            "type": "scattergeo"
           }
          ],
          "scattergl": [
           {
            "marker": {
             "colorbar": {
              "outlinewidth": 0,
              "ticks": ""
             }
            },
            "type": "scattergl"
           }
          ],
          "scattermapbox": [
           {
            "marker": {
             "colorbar": {
              "outlinewidth": 0,
              "ticks": ""
             }
            },
            "type": "scattermapbox"
           }
          ],
          "scatterpolar": [
           {
            "marker": {
             "colorbar": {
              "outlinewidth": 0,
              "ticks": ""
             }
            },
            "type": "scatterpolar"
           }
          ],
          "scatterpolargl": [
           {
            "marker": {
             "colorbar": {
              "outlinewidth": 0,
              "ticks": ""
             }
            },
            "type": "scatterpolargl"
           }
          ],
          "scatterternary": [
           {
            "marker": {
             "colorbar": {
              "outlinewidth": 0,
              "ticks": ""
             }
            },
            "type": "scatterternary"
           }
          ],
          "surface": [
           {
            "colorbar": {
             "outlinewidth": 0,
             "ticks": ""
            },
            "colorscale": [
             [
              0,
              "#0d0887"
             ],
             [
              0.1111111111111111,
              "#46039f"
             ],
             [
              0.2222222222222222,
              "#7201a8"
             ],
             [
              0.3333333333333333,
              "#9c179e"
             ],
             [
              0.4444444444444444,
              "#bd3786"
             ],
             [
              0.5555555555555556,
              "#d8576b"
             ],
             [
              0.6666666666666666,
              "#ed7953"
             ],
             [
              0.7777777777777778,
              "#fb9f3a"
             ],
             [
              0.8888888888888888,
              "#fdca26"
             ],
             [
              1,
              "#f0f921"
             ]
            ],
            "type": "surface"
           }
          ],
          "table": [
           {
            "cells": {
             "fill": {
              "color": "#EBF0F8"
             },
             "line": {
              "color": "white"
             }
            },
            "header": {
             "fill": {
              "color": "#C8D4E3"
             },
             "line": {
              "color": "white"
             }
            },
            "type": "table"
           }
          ]
         },
         "layout": {
          "annotationdefaults": {
           "arrowcolor": "#2a3f5f",
           "arrowhead": 0,
           "arrowwidth": 1
          },
          "coloraxis": {
           "colorbar": {
            "outlinewidth": 0,
            "ticks": ""
           }
          },
          "colorscale": {
           "diverging": [
            [
             0,
             "#8e0152"
            ],
            [
             0.1,
             "#c51b7d"
            ],
            [
             0.2,
             "#de77ae"
            ],
            [
             0.3,
             "#f1b6da"
            ],
            [
             0.4,
             "#fde0ef"
            ],
            [
             0.5,
             "#f7f7f7"
            ],
            [
             0.6,
             "#e6f5d0"
            ],
            [
             0.7,
             "#b8e186"
            ],
            [
             0.8,
             "#7fbc41"
            ],
            [
             0.9,
             "#4d9221"
            ],
            [
             1,
             "#276419"
            ]
           ],
           "sequential": [
            [
             0,
             "#0d0887"
            ],
            [
             0.1111111111111111,
             "#46039f"
            ],
            [
             0.2222222222222222,
             "#7201a8"
            ],
            [
             0.3333333333333333,
             "#9c179e"
            ],
            [
             0.4444444444444444,
             "#bd3786"
            ],
            [
             0.5555555555555556,
             "#d8576b"
            ],
            [
             0.6666666666666666,
             "#ed7953"
            ],
            [
             0.7777777777777778,
             "#fb9f3a"
            ],
            [
             0.8888888888888888,
             "#fdca26"
            ],
            [
             1,
             "#f0f921"
            ]
           ],
           "sequentialminus": [
            [
             0,
             "#0d0887"
            ],
            [
             0.1111111111111111,
             "#46039f"
            ],
            [
             0.2222222222222222,
             "#7201a8"
            ],
            [
             0.3333333333333333,
             "#9c179e"
            ],
            [
             0.4444444444444444,
             "#bd3786"
            ],
            [
             0.5555555555555556,
             "#d8576b"
            ],
            [
             0.6666666666666666,
             "#ed7953"
            ],
            [
             0.7777777777777778,
             "#fb9f3a"
            ],
            [
             0.8888888888888888,
             "#fdca26"
            ],
            [
             1,
             "#f0f921"
            ]
           ]
          },
          "colorway": [
           "#636efa",
           "#EF553B",
           "#00cc96",
           "#ab63fa",
           "#FFA15A",
           "#19d3f3",
           "#FF6692",
           "#B6E880",
           "#FF97FF",
           "#FECB52"
          ],
          "font": {
           "color": "#2a3f5f"
          },
          "geo": {
           "bgcolor": "white",
           "lakecolor": "white",
           "landcolor": "#E5ECF6",
           "showlakes": true,
           "showland": true,
           "subunitcolor": "white"
          },
          "hoverlabel": {
           "align": "left"
          },
          "hovermode": "closest",
          "mapbox": {
           "style": "light"
          },
          "paper_bgcolor": "white",
          "plot_bgcolor": "#E5ECF6",
          "polar": {
           "angularaxis": {
            "gridcolor": "white",
            "linecolor": "white",
            "ticks": ""
           },
           "bgcolor": "#E5ECF6",
           "radialaxis": {
            "gridcolor": "white",
            "linecolor": "white",
            "ticks": ""
           }
          },
          "scene": {
           "xaxis": {
            "backgroundcolor": "#E5ECF6",
            "gridcolor": "white",
            "gridwidth": 2,
            "linecolor": "white",
            "showbackground": true,
            "ticks": "",
            "zerolinecolor": "white"
           },
           "yaxis": {
            "backgroundcolor": "#E5ECF6",
            "gridcolor": "white",
            "gridwidth": 2,
            "linecolor": "white",
            "showbackground": true,
            "ticks": "",
            "zerolinecolor": "white"
           },
           "zaxis": {
            "backgroundcolor": "#E5ECF6",
            "gridcolor": "white",
            "gridwidth": 2,
            "linecolor": "white",
            "showbackground": true,
            "ticks": "",
            "zerolinecolor": "white"
           }
          },
          "shapedefaults": {
           "line": {
            "color": "#2a3f5f"
           }
          },
          "ternary": {
           "aaxis": {
            "gridcolor": "white",
            "linecolor": "white",
            "ticks": ""
           },
           "baxis": {
            "gridcolor": "white",
            "linecolor": "white",
            "ticks": ""
           },
           "bgcolor": "#E5ECF6",
           "caxis": {
            "gridcolor": "white",
            "linecolor": "white",
            "ticks": ""
           }
          },
          "title": {
           "x": 0.05
          },
          "xaxis": {
           "automargin": true,
           "gridcolor": "white",
           "linecolor": "white",
           "ticks": "",
           "title": {
            "standoff": 15
           },
           "zerolinecolor": "white",
           "zerolinewidth": 2
          },
          "yaxis": {
           "automargin": true,
           "gridcolor": "white",
           "linecolor": "white",
           "ticks": "",
           "title": {
            "standoff": 15
           },
           "zerolinecolor": "white",
           "zerolinewidth": 2
          }
         }
        },
        "title": {
         "text": "Mean predictions with linear regression model"
        },
        "xaxis": {
         "anchor": "y",
         "domain": [
          0,
          1
         ],
         "title": {
          "text": "Date and time"
         }
        },
        "yaxis": {
         "anchor": "x",
         "domain": [
          0,
          1
         ],
         "title": {
          "text": "meter value reading"
         }
        }
       }
      },
      "text/html": [
       "<div>                            <div id=\"9745e6be-5c13-40b5-9671-8f50621046f8\" class=\"plotly-graph-div\" style=\"height:525px; width:100%;\"></div>            <script type=\"text/javascript\">                require([\"plotly\"], function(Plotly) {                    window.PLOTLYENV=window.PLOTLYENV || {};                                    if (document.getElementById(\"9745e6be-5c13-40b5-9671-8f50621046f8\")) {                    Plotly.newPlot(                        \"9745e6be-5c13-40b5-9671-8f50621046f8\",                        [{\"name\": \"predictions\", \"type\": \"scatter\", \"x\": [\"2015-10-01T12:00:00+00:00\", \"2015-10-01T13:00:00+00:00\", \"2015-10-01T14:00:00+00:00\", \"2015-10-01T15:00:00+00:00\", \"2015-10-01T16:00:00+00:00\", \"2015-10-01T17:00:00+00:00\", \"2015-10-01T18:00:00+00:00\", \"2015-10-01T19:00:00+00:00\", \"2015-10-01T20:00:00+00:00\", \"2015-10-01T21:00:00+00:00\", \"2015-10-01T22:00:00+00:00\", \"2015-10-01T23:00:00+00:00\", \"2015-10-02T00:00:00+00:00\", \"2015-10-02T01:00:00+00:00\", \"2015-10-02T02:00:00+00:00\", \"2015-10-02T03:00:00+00:00\", \"2015-10-02T04:00:00+00:00\", \"2015-10-02T05:00:00+00:00\", \"2015-10-02T06:00:00+00:00\", \"2015-10-02T07:00:00+00:00\", \"2015-10-02T08:00:00+00:00\", \"2015-10-02T09:00:00+00:00\", \"2015-10-02T10:00:00+00:00\", \"2015-10-02T11:00:00+00:00\", \"2015-10-02T12:00:00+00:00\", \"2015-10-02T13:00:00+00:00\", \"2015-10-02T14:00:00+00:00\", \"2015-10-02T15:00:00+00:00\", \"2015-10-02T16:00:00+00:00\", \"2015-10-02T17:00:00+00:00\", \"2015-10-02T18:00:00+00:00\", \"2015-10-02T19:00:00+00:00\", \"2015-10-02T20:00:00+00:00\", \"2015-10-02T21:00:00+00:00\", \"2015-10-02T22:00:00+00:00\", \"2015-10-02T23:00:00+00:00\", \"2015-10-03T00:00:00+00:00\", \"2015-10-03T01:00:00+00:00\", \"2015-10-03T02:00:00+00:00\", \"2015-10-03T03:00:00+00:00\", \"2015-10-03T04:00:00+00:00\", \"2015-10-03T05:00:00+00:00\", \"2015-10-03T06:00:00+00:00\", \"2015-10-03T07:00:00+00:00\", \"2015-10-03T08:00:00+00:00\", \"2015-10-03T09:00:00+00:00\", \"2015-10-03T10:00:00+00:00\", \"2015-10-03T11:00:00+00:00\", \"2015-10-03T12:00:00+00:00\", \"2015-10-03T13:00:00+00:00\", \"2015-10-03T14:00:00+00:00\", \"2015-10-03T15:00:00+00:00\", \"2015-10-03T16:00:00+00:00\", \"2015-10-03T17:00:00+00:00\", \"2015-10-03T18:00:00+00:00\", \"2015-10-03T19:00:00+00:00\", \"2015-10-03T20:00:00+00:00\", \"2015-10-03T21:00:00+00:00\", \"2015-10-03T22:00:00+00:00\", \"2015-10-03T23:00:00+00:00\", \"2015-10-04T00:00:00+00:00\", \"2015-10-04T01:00:00+00:00\", \"2015-10-04T02:00:00+00:00\", \"2015-10-04T03:00:00+00:00\", \"2015-10-04T04:00:00+00:00\", \"2015-10-04T05:00:00+00:00\", \"2015-10-04T06:00:00+00:00\", \"2015-10-04T07:00:00+00:00\", \"2015-10-04T08:00:00+00:00\", \"2015-10-04T09:00:00+00:00\", \"2015-10-04T10:00:00+00:00\", \"2015-10-04T11:00:00+00:00\", \"2015-10-04T12:00:00+00:00\", \"2015-10-04T13:00:00+00:00\", \"2015-10-04T14:00:00+00:00\", \"2015-10-04T15:00:00+00:00\", \"2015-10-04T16:00:00+00:00\", \"2015-10-04T17:00:00+00:00\", \"2015-10-04T18:00:00+00:00\", \"2015-10-04T19:00:00+00:00\", \"2015-10-04T20:00:00+00:00\", \"2015-10-04T21:00:00+00:00\", \"2015-10-04T22:00:00+00:00\", \"2015-10-04T23:00:00+00:00\", \"2015-10-05T00:00:00+00:00\", \"2015-10-05T01:00:00+00:00\", \"2015-10-05T02:00:00+00:00\", \"2015-10-05T03:00:00+00:00\", \"2015-10-05T04:00:00+00:00\", \"2015-10-05T05:00:00+00:00\", \"2015-10-05T06:00:00+00:00\", \"2015-10-05T07:00:00+00:00\", \"2015-10-05T08:00:00+00:00\", \"2015-10-05T09:00:00+00:00\", \"2015-10-05T10:00:00+00:00\", \"2015-10-05T11:00:00+00:00\", \"2015-10-05T12:00:00+00:00\", \"2015-10-05T13:00:00+00:00\", \"2015-10-05T14:00:00+00:00\", \"2015-10-05T15:00:00+00:00\", \"2015-10-05T16:00:00+00:00\", \"2015-10-05T17:00:00+00:00\", \"2015-10-05T18:00:00+00:00\", \"2015-10-05T19:00:00+00:00\", \"2015-10-05T20:00:00+00:00\", \"2015-10-05T21:00:00+00:00\", \"2015-10-05T22:00:00+00:00\", \"2015-10-05T23:00:00+00:00\", \"2015-10-06T00:00:00+00:00\", \"2015-10-06T01:00:00+00:00\", \"2015-10-06T02:00:00+00:00\", \"2015-10-06T03:00:00+00:00\", \"2015-10-06T04:00:00+00:00\", \"2015-10-06T05:00:00+00:00\", \"2015-10-06T06:00:00+00:00\", \"2015-10-06T07:00:00+00:00\", \"2015-10-06T08:00:00+00:00\", \"2015-10-06T09:00:00+00:00\", \"2015-10-06T10:00:00+00:00\", \"2015-10-06T11:00:00+00:00\", \"2015-10-06T12:00:00+00:00\", \"2015-10-06T13:00:00+00:00\", \"2015-10-06T14:00:00+00:00\", \"2015-10-06T15:00:00+00:00\", \"2015-10-06T16:00:00+00:00\", \"2015-10-06T17:00:00+00:00\", \"2015-10-06T18:00:00+00:00\", \"2015-10-06T19:00:00+00:00\", \"2015-10-06T20:00:00+00:00\", \"2015-10-06T21:00:00+00:00\", \"2015-10-06T22:00:00+00:00\", \"2015-10-06T23:00:00+00:00\", \"2015-10-07T00:00:00+00:00\", \"2015-10-07T01:00:00+00:00\", \"2015-10-07T02:00:00+00:00\", \"2015-10-07T03:00:00+00:00\", \"2015-10-07T04:00:00+00:00\", \"2015-10-07T05:00:00+00:00\", \"2015-10-07T06:00:00+00:00\", \"2015-10-07T07:00:00+00:00\", \"2015-10-07T08:00:00+00:00\", \"2015-10-07T09:00:00+00:00\", \"2015-10-07T10:00:00+00:00\", \"2015-10-07T11:00:00+00:00\", \"2015-10-07T12:00:00+00:00\", \"2015-10-07T13:00:00+00:00\", \"2015-10-07T14:00:00+00:00\", \"2015-10-07T15:00:00+00:00\", \"2015-10-07T16:00:00+00:00\", \"2015-10-07T17:00:00+00:00\", \"2015-10-07T18:00:00+00:00\", \"2015-10-07T19:00:00+00:00\", \"2015-10-07T20:00:00+00:00\", \"2015-10-07T21:00:00+00:00\", \"2015-10-07T22:00:00+00:00\", \"2015-10-07T23:00:00+00:00\", \"2015-10-08T00:00:00+00:00\", \"2015-10-08T01:00:00+00:00\", \"2015-10-08T02:00:00+00:00\", \"2015-10-08T03:00:00+00:00\", \"2015-10-08T04:00:00+00:00\", \"2015-10-08T05:00:00+00:00\", \"2015-10-08T06:00:00+00:00\", \"2015-10-08T07:00:00+00:00\", \"2015-10-08T08:00:00+00:00\", \"2015-10-08T09:00:00+00:00\", \"2015-10-08T10:00:00+00:00\", \"2015-10-08T11:00:00+00:00\", \"2015-10-08T12:00:00+00:00\", \"2015-10-08T13:00:00+00:00\", \"2015-10-08T14:00:00+00:00\", \"2015-10-08T15:00:00+00:00\", \"2015-10-08T16:00:00+00:00\", \"2015-10-08T17:00:00+00:00\", \"2015-10-08T18:00:00+00:00\", \"2015-10-08T19:00:00+00:00\", \"2015-10-08T20:00:00+00:00\", \"2015-10-08T21:00:00+00:00\", \"2015-10-08T22:00:00+00:00\", \"2015-10-08T23:00:00+00:00\", \"2015-10-09T00:00:00+00:00\", \"2015-10-09T01:00:00+00:00\", \"2015-10-09T02:00:00+00:00\", \"2015-10-09T03:00:00+00:00\", \"2015-10-09T04:00:00+00:00\", \"2015-10-09T05:00:00+00:00\", \"2015-10-09T06:00:00+00:00\", \"2015-10-09T07:00:00+00:00\", \"2015-10-09T08:00:00+00:00\", \"2015-10-09T09:00:00+00:00\", \"2015-10-09T10:00:00+00:00\", \"2015-10-09T11:00:00+00:00\", \"2015-10-09T12:00:00+00:00\", \"2015-10-09T13:00:00+00:00\", \"2015-10-09T14:00:00+00:00\", \"2015-10-09T15:00:00+00:00\", \"2015-10-09T16:00:00+00:00\", \"2015-10-09T17:00:00+00:00\", \"2015-10-09T18:00:00+00:00\", \"2015-10-09T19:00:00+00:00\", \"2015-10-09T20:00:00+00:00\", \"2015-10-09T21:00:00+00:00\", \"2015-10-09T22:00:00+00:00\", \"2015-10-09T23:00:00+00:00\", \"2015-10-10T00:00:00+00:00\", \"2015-10-10T01:00:00+00:00\", \"2015-10-10T02:00:00+00:00\", \"2015-10-10T03:00:00+00:00\", \"2015-10-10T04:00:00+00:00\", \"2015-10-10T05:00:00+00:00\", \"2015-10-10T06:00:00+00:00\", \"2015-10-10T07:00:00+00:00\", \"2015-10-10T08:00:00+00:00\", \"2015-10-10T09:00:00+00:00\", \"2015-10-10T10:00:00+00:00\", \"2015-10-10T11:00:00+00:00\", \"2015-10-10T12:00:00+00:00\", \"2015-10-10T13:00:00+00:00\", \"2015-10-10T14:00:00+00:00\", \"2015-10-10T15:00:00+00:00\", \"2015-10-10T16:00:00+00:00\", \"2015-10-10T17:00:00+00:00\", \"2015-10-10T18:00:00+00:00\", \"2015-10-10T19:00:00+00:00\", \"2015-10-10T20:00:00+00:00\", \"2015-10-10T21:00:00+00:00\", \"2015-10-10T22:00:00+00:00\", \"2015-10-10T23:00:00+00:00\", \"2015-10-11T00:00:00+00:00\", \"2015-10-11T01:00:00+00:00\", \"2015-10-11T02:00:00+00:00\", \"2015-10-11T03:00:00+00:00\", \"2015-10-11T04:00:00+00:00\", \"2015-10-11T05:00:00+00:00\", \"2015-10-11T06:00:00+00:00\", \"2015-10-11T07:00:00+00:00\", \"2015-10-11T08:00:00+00:00\", \"2015-10-11T09:00:00+00:00\", \"2015-10-11T10:00:00+00:00\", \"2015-10-11T11:00:00+00:00\", \"2015-10-11T12:00:00+00:00\", \"2015-10-11T13:00:00+00:00\", \"2015-10-11T14:00:00+00:00\", \"2015-10-11T15:00:00+00:00\", \"2015-10-11T16:00:00+00:00\", \"2015-10-11T17:00:00+00:00\", \"2015-10-11T18:00:00+00:00\", \"2015-10-11T19:00:00+00:00\", \"2015-10-11T20:00:00+00:00\", \"2015-10-11T21:00:00+00:00\", \"2015-10-11T22:00:00+00:00\", \"2015-10-11T23:00:00+00:00\"], \"y\": [4.044934387720931, 5.514264777399092, 6.238310281636578, 8.613346009616452, 9.937234316647569, 10.025946468709718, 10.259122145334132, 11.11698272848763, 11.123487946772464, 11.84698526331805, 12.12520194698398, 13.402170702717259, 15.361074412553416, 16.425261751223218, 17.40774747303907, 20.11633610449481, 20.647238403926874, 21.276652236610765, 23.90486894259119, 25.030349081440065, 24.815342407916965, 25.752833629182295, 26.088575863242742, 26.625710774058913, 28.328726466075864, 29.74363913010518, 31.835169382179917, 33.13450480360625, 34.03452866224352, 34.71362988377281, 36.339771361561745, 36.46041959401096, 37.134279827376666, 38.42574687050304, 39.13212720139808, 40.09343270817578, 42.221720942586884, 42.26878113555507, 43.35840672857104, 44.7156340132483, 44.92868738157698, 46.01032331319609, 46.38666041985162, 47.005884910468666, 47.22673151666084, 47.59085745635184, 47.69214023128625, 48.483255239691616, 48.499606176887234, 49.601756767902096, 51.44776868309644, 52.3773662907724, 53.67002901405746, 55.476176086552286, 56.37813871510794, 57.857473129080134, 59.44244086843254, 59.616578272967196, 60.4902032338944, 60.99373972538539, 63.39968207137378, 63.912059649706904, 65.10982446869049, 66.02801125619497, 67.04131411409253, 67.55890296397179, 69.09846045172517, 69.42992461689168, 70.17684773064371, 70.41274590846264, 70.43239237661481, 70.86322153173826, 71.02269007607526, 71.81669886975796, 72.95351479735224, 74.26606575851332, 75.72149727635572, 77.52937205397704, 77.94671643068382, 79.44589006977789, 80.45984258100415, 80.71188196965522, 81.93465300377154, 82.30360021647256, 84.86647093663385, 87.87674233131905, 90.11171398331987, 92.19579780809762, 93.21605680978335, 94.53445785341697, 94.6502256401167, 95.53529065074044, 95.71047055409238, 95.89604808637576, 96.13635788203878, 96.88788184990024, 97.52754341711969, 99.568551496487, 101.91079831539209, 102.37928670452789, 103.42536757456416, 104.79538916991487, 105.6332239218616, 105.6435571355588, 105.86788755318804, 106.84477885396403, 107.53099313062113, 108.32476367679686, 110.85547511240732, 112.19029590268688, 114.1683980855663, 114.76397948503745, 116.79727234875037, 117.78191227442042, 118.14132604919845, 118.4423750144675, 118.61937908081929, 119.20544585776763, 119.71993932763559, 121.21801082212514, 121.995395413886, 124.23321578068531, 126.62786704430712, 127.64240872510403, 128.4390682976112, 128.6780451660898, 129.2569223519088, 130.18510652872064, 130.31999831457352, 130.58175917782168, 131.1281695881507, 132.65314544195337, 134.18738362689112, 136.7795508055862, 137.95212483029934, 139.38986845056306, 140.2498519211387, 140.95131788910155, 141.17930429761037, 141.84843071257623, 142.00917078750314, 142.16739048813022, 143.08357680455316, 143.3838903599896, 145.3353767372988, 147.10377833599478, 148.83641896214044, 151.4611174149224, 151.42565627354932, 152.67880939397378, 153.09676325101648, 153.29809487937305, 153.44187966362796, 153.68432950617478, 154.88351528618966, 155.23983174770618, 157.68960846045533, 158.32093248047207, 160.2070143977051, 162.28064367385355, 163.66897834390204, 163.6065600008972, 163.80109163342505, 163.7708381183406, 163.86579748484115, 164.1955177781642, 164.8384595925968, 165.2316279939467, 166.85652020587682, 168.36537069803106, 170.4733558680753, 171.84382635251762, 173.13752659748607, 174.32896755169568, 174.89434187989278, 175.58680693332337, 175.9549722980127, 177.02034875264656, 177.2374628838648, 178.1476916444602, 180.20271026075852, 182.31468477663077, 183.06565250196073, 184.97657846259216, 185.73179369233017, 186.27843668847657, 187.60137861097203, 187.81439165033404, 188.0490808687471, 188.3253737226478, 188.47818111814865, 188.82329447558345, 190.88608533185925, 192.08624143018028, 193.53583342616366, 193.89710653687962, 195.02149814407488, 196.58878645845095, 196.9192897930477, 197.15427661209563, 197.8880657076772, 198.7478666132144, 199.75441276716407, 200.06048616969292, 202.98267196053783, 204.6528804510036, 205.68350140150284, 206.21578745977777, 206.67726326864593, 207.8917582336346, 208.95162526527093, 209.04675302844234, 209.58373857493532, 210.19358730964316, 210.29332295005665, 210.66505499058388, 211.29330073952147, 211.81112403061772, 213.07904199981306, 214.4924833462024, 215.62129832850997, 217.7832268934722, 219.57561682000406, 220.14902554208112, 220.70124495965035, 221.13009885724406, 222.04663761472378, 223.0410660881826, 225.91665249478598, 226.89425701251318, 228.02189699621036, 228.4453157087373, 229.15315175013808, 230.07022859271356, 231.13475956506096, 231.99313432974793, 232.02812112239604, 232.52565172941274, 232.57326027900612, 232.73378570367987, 233.0926414101347, 233.59555723100925, 234.2935988360023, 235.5633136584034, 238.6445484728969, 239.55086609354234, 241.14987845209893, 242.15531107046962, 243.86844409081095, 245.73943922806563, 248.67249651833643, 248.60921009886644]}, {\"name\": \"mean\", \"type\": \"scatter\", \"x\": [\"2015-10-01T05:00:00+00:00\", \"2015-10-01T06:00:00+00:00\", \"2015-10-01T07:00:00+00:00\", \"2015-10-01T08:00:00+00:00\", \"2015-10-01T09:00:00+00:00\", \"2015-10-01T10:00:00+00:00\", \"2015-10-01T11:00:00+00:00\", \"2015-10-01T12:00:00+00:00\", \"2015-10-01T13:00:00+00:00\", \"2015-10-01T14:00:00+00:00\", \"2015-10-01T15:00:00+00:00\", \"2015-10-01T16:00:00+00:00\", \"2015-10-01T17:00:00+00:00\", \"2015-10-01T18:00:00+00:00\", \"2015-10-01T19:00:00+00:00\", \"2015-10-01T20:00:00+00:00\", \"2015-10-01T21:00:00+00:00\", \"2015-10-01T22:00:00+00:00\", \"2015-10-01T23:00:00+00:00\", \"2015-10-02T00:00:00+00:00\", \"2015-10-02T01:00:00+00:00\", \"2015-10-02T02:00:00+00:00\", \"2015-10-02T03:00:00+00:00\", \"2015-10-02T04:00:00+00:00\", \"2015-10-02T05:00:00+00:00\", \"2015-10-02T06:00:00+00:00\", \"2015-10-02T07:00:00+00:00\", \"2015-10-02T08:00:00+00:00\", \"2015-10-02T09:00:00+00:00\", \"2015-10-02T10:00:00+00:00\", \"2015-10-02T11:00:00+00:00\", \"2015-10-02T12:00:00+00:00\", \"2015-10-02T13:00:00+00:00\", \"2015-10-02T14:00:00+00:00\", \"2015-10-02T15:00:00+00:00\", \"2015-10-02T16:00:00+00:00\", \"2015-10-02T17:00:00+00:00\", \"2015-10-02T18:00:00+00:00\", \"2015-10-02T19:00:00+00:00\", \"2015-10-02T20:00:00+00:00\", \"2015-10-02T21:00:00+00:00\", \"2015-10-02T22:00:00+00:00\", \"2015-10-02T23:00:00+00:00\", \"2015-10-03T00:00:00+00:00\", \"2015-10-03T01:00:00+00:00\", \"2015-10-03T02:00:00+00:00\", \"2015-10-03T03:00:00+00:00\", \"2015-10-03T04:00:00+00:00\", \"2015-10-03T05:00:00+00:00\", \"2015-10-03T06:00:00+00:00\", \"2015-10-03T07:00:00+00:00\", \"2015-10-03T08:00:00+00:00\", \"2015-10-03T09:00:00+00:00\", \"2015-10-03T10:00:00+00:00\", \"2015-10-03T11:00:00+00:00\", \"2015-10-03T12:00:00+00:00\", \"2015-10-03T13:00:00+00:00\", \"2015-10-03T14:00:00+00:00\", \"2015-10-03T15:00:00+00:00\", \"2015-10-03T16:00:00+00:00\", \"2015-10-03T17:00:00+00:00\", \"2015-10-03T18:00:00+00:00\", \"2015-10-03T19:00:00+00:00\", \"2015-10-03T20:00:00+00:00\", \"2015-10-03T21:00:00+00:00\", \"2015-10-03T22:00:00+00:00\", \"2015-10-03T23:00:00+00:00\", \"2015-10-04T00:00:00+00:00\", \"2015-10-04T01:00:00+00:00\", \"2015-10-04T02:00:00+00:00\", \"2015-10-04T03:00:00+00:00\", \"2015-10-04T04:00:00+00:00\", \"2015-10-04T05:00:00+00:00\", \"2015-10-04T06:00:00+00:00\", \"2015-10-04T07:00:00+00:00\", \"2015-10-04T08:00:00+00:00\", \"2015-10-04T09:00:00+00:00\", \"2015-10-04T10:00:00+00:00\", \"2015-10-04T11:00:00+00:00\", \"2015-10-04T12:00:00+00:00\", \"2015-10-04T13:00:00+00:00\", \"2015-10-04T14:00:00+00:00\", \"2015-10-04T15:00:00+00:00\", \"2015-10-04T16:00:00+00:00\", \"2015-10-04T17:00:00+00:00\", \"2015-10-04T18:00:00+00:00\", \"2015-10-04T19:00:00+00:00\", \"2015-10-04T20:00:00+00:00\", \"2015-10-04T21:00:00+00:00\", \"2015-10-04T22:00:00+00:00\", \"2015-10-04T23:00:00+00:00\", \"2015-10-05T00:00:00+00:00\", \"2015-10-05T01:00:00+00:00\", \"2015-10-05T02:00:00+00:00\", \"2015-10-05T03:00:00+00:00\", \"2015-10-05T04:00:00+00:00\", \"2015-10-05T05:00:00+00:00\", \"2015-10-05T06:00:00+00:00\", \"2015-10-05T07:00:00+00:00\", \"2015-10-05T08:00:00+00:00\", \"2015-10-05T09:00:00+00:00\", \"2015-10-05T10:00:00+00:00\", \"2015-10-05T11:00:00+00:00\", \"2015-10-05T12:00:00+00:00\", \"2015-10-05T13:00:00+00:00\", \"2015-10-05T14:00:00+00:00\", \"2015-10-05T15:00:00+00:00\", \"2015-10-05T16:00:00+00:00\", \"2015-10-05T17:00:00+00:00\", \"2015-10-05T18:00:00+00:00\", \"2015-10-05T19:00:00+00:00\", \"2015-10-05T20:00:00+00:00\", \"2015-10-05T21:00:00+00:00\", \"2015-10-05T22:00:00+00:00\", \"2015-10-05T23:00:00+00:00\", \"2015-10-06T00:00:00+00:00\", \"2015-10-06T01:00:00+00:00\", \"2015-10-06T02:00:00+00:00\", \"2015-10-06T03:00:00+00:00\", \"2015-10-06T04:00:00+00:00\", \"2015-10-06T05:00:00+00:00\", \"2015-10-06T06:00:00+00:00\", \"2015-10-06T07:00:00+00:00\", \"2015-10-06T08:00:00+00:00\", \"2015-10-06T09:00:00+00:00\", \"2015-10-06T10:00:00+00:00\", \"2015-10-06T11:00:00+00:00\", \"2015-10-06T12:00:00+00:00\", \"2015-10-06T13:00:00+00:00\", \"2015-10-06T14:00:00+00:00\", \"2015-10-06T15:00:00+00:00\", \"2015-10-06T16:00:00+00:00\", \"2015-10-06T17:00:00+00:00\", \"2015-10-06T18:00:00+00:00\", \"2015-10-06T19:00:00+00:00\", \"2015-10-06T20:00:00+00:00\", \"2015-10-06T21:00:00+00:00\", \"2015-10-06T22:00:00+00:00\", \"2015-10-06T23:00:00+00:00\", \"2015-10-07T00:00:00+00:00\", \"2015-10-07T01:00:00+00:00\", \"2015-10-07T02:00:00+00:00\", \"2015-10-07T03:00:00+00:00\", \"2015-10-07T04:00:00+00:00\", \"2015-10-07T05:00:00+00:00\", \"2015-10-07T06:00:00+00:00\", \"2015-10-07T07:00:00+00:00\", \"2015-10-07T08:00:00+00:00\", \"2015-10-07T09:00:00+00:00\", \"2015-10-07T10:00:00+00:00\", \"2015-10-07T11:00:00+00:00\", \"2015-10-07T12:00:00+00:00\", \"2015-10-07T13:00:00+00:00\", \"2015-10-07T14:00:00+00:00\", \"2015-10-07T15:00:00+00:00\", \"2015-10-07T16:00:00+00:00\", \"2015-10-07T17:00:00+00:00\", \"2015-10-07T18:00:00+00:00\", \"2015-10-07T19:00:00+00:00\", \"2015-10-07T20:00:00+00:00\", \"2015-10-07T21:00:00+00:00\", \"2015-10-07T22:00:00+00:00\", \"2015-10-07T23:00:00+00:00\", \"2015-10-08T00:00:00+00:00\", \"2015-10-08T01:00:00+00:00\", \"2015-10-08T02:00:00+00:00\", \"2015-10-08T03:00:00+00:00\", \"2015-10-08T04:00:00+00:00\", \"2015-10-08T05:00:00+00:00\", \"2015-10-08T06:00:00+00:00\", \"2015-10-08T07:00:00+00:00\", \"2015-10-08T08:00:00+00:00\", \"2015-10-08T09:00:00+00:00\", \"2015-10-08T10:00:00+00:00\", \"2015-10-08T11:00:00+00:00\", \"2015-10-08T12:00:00+00:00\", \"2015-10-08T13:00:00+00:00\", \"2015-10-08T14:00:00+00:00\", \"2015-10-08T15:00:00+00:00\", \"2015-10-08T16:00:00+00:00\", \"2015-10-08T17:00:00+00:00\", \"2015-10-08T18:00:00+00:00\", \"2015-10-08T19:00:00+00:00\", \"2015-10-08T20:00:00+00:00\", \"2015-10-08T21:00:00+00:00\", \"2015-10-08T22:00:00+00:00\", \"2015-10-08T23:00:00+00:00\", \"2015-10-09T00:00:00+00:00\", \"2015-10-09T01:00:00+00:00\", \"2015-10-09T02:00:00+00:00\", \"2015-10-09T03:00:00+00:00\", \"2015-10-09T04:00:00+00:00\", \"2015-10-09T05:00:00+00:00\", \"2015-10-09T06:00:00+00:00\", \"2015-10-09T07:00:00+00:00\", \"2015-10-09T08:00:00+00:00\", \"2015-10-09T09:00:00+00:00\", \"2015-10-09T10:00:00+00:00\", \"2015-10-09T11:00:00+00:00\", \"2015-10-09T12:00:00+00:00\", \"2015-10-09T13:00:00+00:00\", \"2015-10-09T14:00:00+00:00\", \"2015-10-09T15:00:00+00:00\", \"2015-10-09T16:00:00+00:00\", \"2015-10-09T17:00:00+00:00\", \"2015-10-09T18:00:00+00:00\", \"2015-10-09T19:00:00+00:00\", \"2015-10-09T20:00:00+00:00\", \"2015-10-09T21:00:00+00:00\", \"2015-10-09T22:00:00+00:00\", \"2015-10-09T23:00:00+00:00\", \"2015-10-10T00:00:00+00:00\", \"2015-10-10T01:00:00+00:00\", \"2015-10-10T02:00:00+00:00\", \"2015-10-10T03:00:00+00:00\", \"2015-10-10T04:00:00+00:00\", \"2015-10-10T05:00:00+00:00\", \"2015-10-10T06:00:00+00:00\", \"2015-10-10T07:00:00+00:00\", \"2015-10-10T08:00:00+00:00\", \"2015-10-10T09:00:00+00:00\", \"2015-10-10T10:00:00+00:00\", \"2015-10-10T11:00:00+00:00\", \"2015-10-10T12:00:00+00:00\", \"2015-10-10T13:00:00+00:00\", \"2015-10-10T14:00:00+00:00\", \"2015-10-10T15:00:00+00:00\", \"2015-10-10T16:00:00+00:00\", \"2015-10-10T17:00:00+00:00\", \"2015-10-10T18:00:00+00:00\", \"2015-10-10T19:00:00+00:00\", \"2015-10-10T20:00:00+00:00\", \"2015-10-10T21:00:00+00:00\", \"2015-10-10T22:00:00+00:00\", \"2015-10-10T23:00:00+00:00\", \"2015-10-11T00:00:00+00:00\", \"2015-10-11T01:00:00+00:00\", \"2015-10-11T02:00:00+00:00\", \"2015-10-11T03:00:00+00:00\", \"2015-10-11T04:00:00+00:00\", \"2015-10-11T05:00:00+00:00\", \"2015-10-11T06:00:00+00:00\", \"2015-10-11T07:00:00+00:00\", \"2015-10-11T08:00:00+00:00\", \"2015-10-11T09:00:00+00:00\", \"2015-10-11T10:00:00+00:00\", \"2015-10-11T11:00:00+00:00\", \"2015-10-11T12:00:00+00:00\", \"2015-10-11T13:00:00+00:00\", \"2015-10-11T14:00:00+00:00\"], \"y\": [0.21360544217687075, 0.617831871704505, 0.7380667935066665, 0.9987810792209522, 1.0944450358605187, 1.5407107331506706, 2.413755335607038, 3.6756779410780305, 4.54475140463939, 6.473492264279127, 7.943183622303819, 8.502518914606144, 8.938339869250628, 9.745206286229404, 10.029069800991795, 10.668972799228127, 11.076734804664552, 12.118100094467342, 13.08877028847087, 14.135560854226954, 15.151207971659787, 17.347453174646564, 18.34499012045937, 19.167936374984574, 21.286720302697073, 22.6855575119994, 23.02245760537008, 23.884345299515836, 24.432022184034825, 25.024968501138446, 26.400173157593102, 27.77273802510179, 29.63005270355049, 31.082278411675073, 32.19945517711809, 33.08035153566151, 34.53666154937893, 35.08294331784969, 35.797574503657344, 36.94519214782671, 37.79732343389629, 38.75441026863018, 39.85639726663794, 40.25885119840222, 41.20449447708121, 42.44079605495142, 42.97760668618066, 43.94628167132623, 44.528634812012704, 45.19094928325575, 45.58200930879853, 46.00869540907596, 46.24879178095805, 46.91053420520048, 47.13478564820192, 48.005614973255504, 49.526251901862075, 50.60360697432584, 51.85169415221694, 53.49936540279201, 54.63786202749553, 56.05718549472597, 57.60796024907216, 58.23842574317401, 59.12465409815237, 59.7932488693942, 61.0214825486588, 61.75030324169574, 62.847395973525316, 63.83108166767612, 64.8668170434115, 65.57148719210339, 66.8986356846365, 67.53960790685872, 68.31638693307595, 68.75832696834931, 68.97555693167303, 69.39503745115354, 69.66539361014607, 70.32811847787093, 71.31248340663814, 72.50967183224762, 73.87304530424178, 75.53882385317823, 76.34851428900502, 77.70778809648299, 78.84558465177955, 79.42086389928102, 80.50769098293206, 81.12089028363137, 82.44109865187895, 84.89236737038904, 87.1153463294145, 89.230273930549, 90.6244188075452, 92.06122289493068, 92.65550717274436, 93.5549400396191, 93.99902457265712, 94.33554915918171, 94.65585801699056, 95.31220807216415, 95.96143113587523, 97.57283223477633, 99.62693571791208, 100.55634393047247, 101.64572475167147, 102.97857860194105, 103.99892884348695, 104.37207243042364, 104.73143641383825, 105.57256195496379, 106.31139733930479, 107.1045281548494, 108.42307578162487, 109.73892011132463, 111.51121367294404, 112.46475594839643, 114.22744722537342, 115.44915029880063, 116.1383692171372, 116.64012360310211, 116.99618420916272, 117.56643510522007, 118.11947743326239, 119.33905415283911, 120.22956618398082, 122.06412201516586, 124.23330402789627, 125.58658133882064, 126.6220369401299, 127.19566608875905, 127.86650582250202, 128.75782881323678, 129.15024889315686, 129.510642345858, 130.04425247875076, 131.27771835744136, 132.00672934645235, 134.03956193209393, 135.41868673321872, 136.87450793079026, 137.94817414146058, 138.83673470370536, 139.3327812953549, 140.02084852224564, 140.38265260963112, 140.65983514931366, 141.41610755074737, 141.8621166856454, 143.36722120065343, 144.9988033262573, 146.68020387015784, 149.00169416032284, 149.69259280416267, 150.89651916454065, 151.60701105360397, 152.04937137527463, 152.34808469898795, 152.66859607426977, 153.62435232312947, 154.1519490853416, 155.3478068674063, 156.13973356815652, 157.71737633570123, 159.60160876993368, 161.12820637867415, 161.60250454238408, 162.00668754892004, 162.19881248937034, 162.39319157433766, 162.71759494874104, 163.28056392421, 163.73188667553276, 165.00634104061214, 166.40295235522345, 168.27064515624957, 169.76979193969868, 171.16500758547613, 172.46377647303814, 173.31082773095895, 174.1226494363853, 174.68384171632758, 175.6463056412915, 176.1088820860108, 176.93237005637377, 177.9304220044257, 179.69563211919723, 180.72396086116234, 182.40471786944744, 183.447190987727, 184.21898112940352, 185.42856807024046, 185.97704778201805, 186.38012927568778, 186.7549799327965, 187.0279690535384, 187.3902295899369, 188.93510652947674, 190.17810963110054, 191.56389384054773, 192.25870473141126, 193.32881352399195, 194.7608281760066, 195.44111830833847, 195.88421203631592, 196.5955421239065, 197.43904714496256, 198.4048323824087, 198.9296339697103, 200.4657095281388, 202.05646976205693, 203.2574299130171, 204.04059713339362, 204.6809989430708, 205.776026138098, 206.85315284736757, 207.2760730998059, 207.84849917309404, 208.48961780623395, 208.79180444073765, 209.19062278288933, 209.77843457427255, 210.33445429529226, 211.39586193527134, 212.68239036895886, 213.85195661189468, 215.71502145710238, 217.50346970295803, 218.47345357529485, 219.2418196898566, 219.85810382846162, 220.74303298199544, 221.71939237423717, 223.32547123989195, 224.47319675286136, 225.64436542005274, 226.33946964648226, 227.11714349379895, 228.03014509893538, 229.06956085114183, 229.9968004059676, 230.3462936169066, 230.87257756587096, 231.11301684235676, 231.35399512333504, 231.71143565954145, 232.19229319152257, 232.8344935199298, 233.91162908099793]}, {\"name\": \"long_term_prediction\", \"type\": \"scatter\", \"x\": [\"2015-10-02T01:00:00+00:00\", \"2015-10-02T02:00:00+00:00\", \"2015-10-02T03:00:00+00:00\", \"2015-10-02T04:00:00+00:00\", \"2015-10-02T05:00:00+00:00\", \"2015-10-02T06:00:00+00:00\", \"2015-10-02T07:00:00+00:00\", \"2015-10-02T08:00:00+00:00\", \"2015-10-02T09:00:00+00:00\", \"2015-10-02T10:00:00+00:00\", \"2015-10-02T11:00:00+00:00\", \"2015-10-02T12:00:00+00:00\", \"2015-10-02T13:00:00+00:00\", \"2015-10-02T14:00:00+00:00\", \"2015-10-02T15:00:00+00:00\", \"2015-10-02T16:00:00+00:00\", \"2015-10-02T17:00:00+00:00\", \"2015-10-02T18:00:00+00:00\", \"2015-10-02T19:00:00+00:00\", \"2015-10-02T20:00:00+00:00\", \"2015-10-02T21:00:00+00:00\", \"2015-10-02T22:00:00+00:00\", \"2015-10-02T23:00:00+00:00\", \"2015-10-03T00:00:00+00:00\", \"2015-10-03T01:00:00+00:00\", \"2015-10-03T02:00:00+00:00\", \"2015-10-03T03:00:00+00:00\", \"2015-10-03T04:00:00+00:00\", \"2015-10-03T05:00:00+00:00\", \"2015-10-03T06:00:00+00:00\", \"2015-10-03T07:00:00+00:00\", \"2015-10-03T08:00:00+00:00\", \"2015-10-03T09:00:00+00:00\", \"2015-10-03T10:00:00+00:00\", \"2015-10-03T11:00:00+00:00\", \"2015-10-03T12:00:00+00:00\", \"2015-10-03T13:00:00+00:00\", \"2015-10-03T14:00:00+00:00\", \"2015-10-03T15:00:00+00:00\", \"2015-10-03T16:00:00+00:00\", \"2015-10-03T17:00:00+00:00\", \"2015-10-03T18:00:00+00:00\", \"2015-10-03T19:00:00+00:00\", \"2015-10-03T20:00:00+00:00\", \"2015-10-03T21:00:00+00:00\", \"2015-10-03T22:00:00+00:00\", \"2015-10-03T23:00:00+00:00\", \"2015-10-04T00:00:00+00:00\", \"2015-10-04T01:00:00+00:00\", \"2015-10-04T02:00:00+00:00\", \"2015-10-04T03:00:00+00:00\", \"2015-10-04T04:00:00+00:00\", \"2015-10-04T05:00:00+00:00\", \"2015-10-04T06:00:00+00:00\", \"2015-10-04T07:00:00+00:00\", \"2015-10-04T08:00:00+00:00\", \"2015-10-04T09:00:00+00:00\", \"2015-10-04T10:00:00+00:00\", \"2015-10-04T11:00:00+00:00\", \"2015-10-04T12:00:00+00:00\", \"2015-10-04T13:00:00+00:00\", \"2015-10-04T14:00:00+00:00\", \"2015-10-04T15:00:00+00:00\", \"2015-10-04T16:00:00+00:00\", \"2015-10-04T17:00:00+00:00\", \"2015-10-04T18:00:00+00:00\", \"2015-10-04T19:00:00+00:00\", \"2015-10-04T20:00:00+00:00\", \"2015-10-04T21:00:00+00:00\", \"2015-10-04T22:00:00+00:00\", \"2015-10-04T23:00:00+00:00\", \"2015-10-05T00:00:00+00:00\", \"2015-10-05T01:00:00+00:00\", \"2015-10-05T02:00:00+00:00\", \"2015-10-05T03:00:00+00:00\", \"2015-10-05T04:00:00+00:00\", \"2015-10-05T05:00:00+00:00\", \"2015-10-05T06:00:00+00:00\", \"2015-10-05T07:00:00+00:00\", \"2015-10-05T08:00:00+00:00\", \"2015-10-05T09:00:00+00:00\", \"2015-10-05T10:00:00+00:00\", \"2015-10-05T11:00:00+00:00\", \"2015-10-05T12:00:00+00:00\", \"2015-10-05T13:00:00+00:00\", \"2015-10-05T14:00:00+00:00\", \"2015-10-05T15:00:00+00:00\", \"2015-10-05T16:00:00+00:00\", \"2015-10-05T17:00:00+00:00\", \"2015-10-05T18:00:00+00:00\", \"2015-10-05T19:00:00+00:00\", \"2015-10-05T20:00:00+00:00\", \"2015-10-05T21:00:00+00:00\", \"2015-10-05T22:00:00+00:00\", \"2015-10-05T23:00:00+00:00\", \"2015-10-06T00:00:00+00:00\", \"2015-10-06T01:00:00+00:00\", \"2015-10-06T02:00:00+00:00\", \"2015-10-06T03:00:00+00:00\", \"2015-10-06T04:00:00+00:00\", \"2015-10-06T05:00:00+00:00\", \"2015-10-06T06:00:00+00:00\", \"2015-10-06T07:00:00+00:00\", \"2015-10-06T08:00:00+00:00\", \"2015-10-06T09:00:00+00:00\", \"2015-10-06T10:00:00+00:00\", \"2015-10-06T11:00:00+00:00\", \"2015-10-06T12:00:00+00:00\", \"2015-10-06T13:00:00+00:00\", \"2015-10-06T14:00:00+00:00\", \"2015-10-06T15:00:00+00:00\", \"2015-10-06T16:00:00+00:00\", \"2015-10-06T17:00:00+00:00\", \"2015-10-06T18:00:00+00:00\", \"2015-10-06T19:00:00+00:00\", \"2015-10-06T20:00:00+00:00\", \"2015-10-06T21:00:00+00:00\", \"2015-10-06T22:00:00+00:00\", \"2015-10-06T23:00:00+00:00\", \"2015-10-07T00:00:00+00:00\", \"2015-10-07T01:00:00+00:00\", \"2015-10-07T02:00:00+00:00\", \"2015-10-07T03:00:00+00:00\", \"2015-10-07T04:00:00+00:00\", \"2015-10-07T05:00:00+00:00\", \"2015-10-07T06:00:00+00:00\", \"2015-10-07T07:00:00+00:00\", \"2015-10-07T08:00:00+00:00\", \"2015-10-07T09:00:00+00:00\", \"2015-10-07T10:00:00+00:00\", \"2015-10-07T11:00:00+00:00\", \"2015-10-07T12:00:00+00:00\", \"2015-10-07T13:00:00+00:00\", \"2015-10-07T14:00:00+00:00\", \"2015-10-07T15:00:00+00:00\", \"2015-10-07T16:00:00+00:00\", \"2015-10-07T17:00:00+00:00\", \"2015-10-07T18:00:00+00:00\", \"2015-10-07T19:00:00+00:00\", \"2015-10-07T20:00:00+00:00\", \"2015-10-07T21:00:00+00:00\", \"2015-10-07T22:00:00+00:00\", \"2015-10-07T23:00:00+00:00\", \"2015-10-08T00:00:00+00:00\"], \"y\": [16.425261751223218, 19.280529573808533, 22.507736451027846, 26.010859921828203, 29.715159878483583, 33.543298919043124, 37.43891690768645, 41.35928187033032, 45.27096862428669, 49.14769529902255, 52.969039441308226, 56.71911301379315, 60.385536592864796, 63.9586638881446, 67.43098157903205, 70.79663745313634, 74.05107284371717, 77.19073671415063, 80.21286298087576, 83.11529699719665, 85.89636039163425, 88.55474578957538, 91.0894348066486, 94.492201530761, 98.23630738283015, 102.18981278180158, 106.28854627340692, 110.48391659915382, 114.72260024371917, 118.96624709493722, 123.18586764206194, 127.3587820254583, 131.46712711411612, 135.49702875708505, 139.43769515325818, 143.28071741845196, 147.0195427996763, 150.6490675611375, 154.16531637570532, 157.56519259782348, 160.84628404736608, 164.00671175537687, 167.04501209547516, 169.96004496937095, 172.75092229257342, 175.4169522883461, 177.95759609457332, 181.36500132479767, 185.11272035918964, 189.0690402605442, 193.16996611969705, 197.36704419864805, 201.60705810419503, 205.85174116736403, 210.0721688758068, 214.24571200064233, 218.35454684988272, 222.3848299937569, 226.3257935615398, 230.16904730971154, 233.90805300549934, 237.53771822368913, 241.05407644757037, 244.45403789449756, 247.7351957302357, 250.89567515003094, 253.93401577122432, 256.8490800222354, 259.6399817867635, 262.30603082120155, 264.846689457671, 268.25410623997004, 272.0018342728954, 275.9581611836924, 280.05909250287766, 284.25617483494204, 288.49619205346823, 292.7408776972952, 296.9613074159515, 301.1348521066507, 305.2436881756267, 309.27397226961864, 313.21493657749943, 317.05819090217335, 320.7971970470297, 324.4268626150232, 327.9432211113854, 331.3431827705627, 334.62434077163385, 337.78482032021594, 340.8231610417283, 343.73822537088324, 346.52912719628176, 349.1951762781351, 351.73583495153883, 355.143251762608, 358.8909798179439, 362.8473067461978, 366.9482380789811, 371.14532042163773, 375.3853376484148, 379.63002329866885, 383.8504530223315, 388.0239977169304, 392.1328337889441, 396.16311788530226, 400.10408219502625, 403.9473365211359, 407.6863426671107, 411.31600823597535, 414.83236673301616, 418.2323283927221, 421.513486394205, 424.6739659431078, 427.71230666487, 430.6273709942196, 433.4182728197697, 436.08432190174113, 438.6249805752369, 442.03239738637774, 445.7801254417695, 449.73645237006684, 453.83738370288404, 458.0344660455671, 462.27448327236476, 466.51916892263483, 470.73959864631, 474.9131433409187, 479.0219794129399, 483.052263509304, 486.9932278190326, 490.83648214514585, 494.5754882911234, 498.2051538599903, 501.7215123570328, 505.12147401674, 508.402632018224, 511.5631115671276, 514.6014522888904, 517.5165166182404, 520.3074184437909, 522.9734675257625, 525.5141261992585, 528.9215430103994]}],                        {\"legend\": {\"title\": {\"text\": \"Data Category\"}, \"tracegroupgap\": 0}, \"margin\": {\"t\": 60}, \"template\": {\"data\": {\"bar\": [{\"error_x\": {\"color\": \"#2a3f5f\"}, \"error_y\": {\"color\": \"#2a3f5f\"}, \"marker\": {\"line\": {\"color\": \"#E5ECF6\", \"width\": 0.5}}, \"type\": \"bar\"}], \"barpolar\": [{\"marker\": {\"line\": {\"color\": \"#E5ECF6\", \"width\": 0.5}}, \"type\": \"barpolar\"}], \"carpet\": [{\"aaxis\": {\"endlinecolor\": \"#2a3f5f\", \"gridcolor\": \"white\", \"linecolor\": \"white\", \"minorgridcolor\": \"white\", \"startlinecolor\": \"#2a3f5f\"}, \"baxis\": {\"endlinecolor\": \"#2a3f5f\", \"gridcolor\": \"white\", \"linecolor\": \"white\", \"minorgridcolor\": \"white\", \"startlinecolor\": \"#2a3f5f\"}, \"type\": \"carpet\"}], \"choropleth\": [{\"colorbar\": {\"outlinewidth\": 0, \"ticks\": \"\"}, \"type\": \"choropleth\"}], \"contour\": [{\"colorbar\": {\"outlinewidth\": 0, \"ticks\": \"\"}, \"colorscale\": [[0.0, \"#0d0887\"], [0.1111111111111111, \"#46039f\"], [0.2222222222222222, \"#7201a8\"], [0.3333333333333333, \"#9c179e\"], [0.4444444444444444, \"#bd3786\"], [0.5555555555555556, \"#d8576b\"], [0.6666666666666666, \"#ed7953\"], [0.7777777777777778, \"#fb9f3a\"], [0.8888888888888888, \"#fdca26\"], [1.0, \"#f0f921\"]], \"type\": \"contour\"}], \"contourcarpet\": [{\"colorbar\": {\"outlinewidth\": 0, \"ticks\": \"\"}, \"type\": \"contourcarpet\"}], \"heatmap\": [{\"colorbar\": {\"outlinewidth\": 0, \"ticks\": \"\"}, \"colorscale\": [[0.0, \"#0d0887\"], [0.1111111111111111, \"#46039f\"], [0.2222222222222222, \"#7201a8\"], [0.3333333333333333, \"#9c179e\"], [0.4444444444444444, \"#bd3786\"], [0.5555555555555556, \"#d8576b\"], [0.6666666666666666, \"#ed7953\"], [0.7777777777777778, \"#fb9f3a\"], [0.8888888888888888, \"#fdca26\"], [1.0, \"#f0f921\"]], \"type\": \"heatmap\"}], \"heatmapgl\": [{\"colorbar\": {\"outlinewidth\": 0, \"ticks\": \"\"}, \"colorscale\": [[0.0, \"#0d0887\"], [0.1111111111111111, \"#46039f\"], [0.2222222222222222, \"#7201a8\"], [0.3333333333333333, \"#9c179e\"], [0.4444444444444444, \"#bd3786\"], [0.5555555555555556, \"#d8576b\"], [0.6666666666666666, \"#ed7953\"], [0.7777777777777778, \"#fb9f3a\"], [0.8888888888888888, \"#fdca26\"], [1.0, \"#f0f921\"]], \"type\": \"heatmapgl\"}], \"histogram\": [{\"marker\": {\"colorbar\": {\"outlinewidth\": 0, \"ticks\": \"\"}}, \"type\": \"histogram\"}], \"histogram2d\": [{\"colorbar\": {\"outlinewidth\": 0, \"ticks\": \"\"}, \"colorscale\": [[0.0, \"#0d0887\"], [0.1111111111111111, \"#46039f\"], [0.2222222222222222, \"#7201a8\"], [0.3333333333333333, \"#9c179e\"], [0.4444444444444444, \"#bd3786\"], [0.5555555555555556, \"#d8576b\"], [0.6666666666666666, \"#ed7953\"], [0.7777777777777778, \"#fb9f3a\"], [0.8888888888888888, \"#fdca26\"], [1.0, \"#f0f921\"]], \"type\": \"histogram2d\"}], \"histogram2dcontour\": [{\"colorbar\": {\"outlinewidth\": 0, \"ticks\": \"\"}, \"colorscale\": [[0.0, \"#0d0887\"], [0.1111111111111111, \"#46039f\"], [0.2222222222222222, \"#7201a8\"], [0.3333333333333333, \"#9c179e\"], [0.4444444444444444, \"#bd3786\"], [0.5555555555555556, \"#d8576b\"], [0.6666666666666666, \"#ed7953\"], [0.7777777777777778, \"#fb9f3a\"], [0.8888888888888888, \"#fdca26\"], [1.0, \"#f0f921\"]], \"type\": \"histogram2dcontour\"}], \"mesh3d\": [{\"colorbar\": {\"outlinewidth\": 0, \"ticks\": \"\"}, \"type\": \"mesh3d\"}], \"parcoords\": [{\"line\": {\"colorbar\": {\"outlinewidth\": 0, \"ticks\": \"\"}}, \"type\": \"parcoords\"}], \"pie\": [{\"automargin\": true, \"type\": \"pie\"}], \"scatter\": [{\"marker\": {\"colorbar\": {\"outlinewidth\": 0, \"ticks\": \"\"}}, \"type\": \"scatter\"}], \"scatter3d\": [{\"line\": {\"colorbar\": {\"outlinewidth\": 0, \"ticks\": \"\"}}, \"marker\": {\"colorbar\": {\"outlinewidth\": 0, \"ticks\": \"\"}}, \"type\": \"scatter3d\"}], \"scattercarpet\": [{\"marker\": {\"colorbar\": {\"outlinewidth\": 0, \"ticks\": \"\"}}, \"type\": \"scattercarpet\"}], \"scattergeo\": [{\"marker\": {\"colorbar\": {\"outlinewidth\": 0, \"ticks\": \"\"}}, \"type\": \"scattergeo\"}], \"scattergl\": [{\"marker\": {\"colorbar\": {\"outlinewidth\": 0, \"ticks\": \"\"}}, \"type\": \"scattergl\"}], \"scattermapbox\": [{\"marker\": {\"colorbar\": {\"outlinewidth\": 0, \"ticks\": \"\"}}, \"type\": \"scattermapbox\"}], \"scatterpolar\": [{\"marker\": {\"colorbar\": {\"outlinewidth\": 0, \"ticks\": \"\"}}, \"type\": \"scatterpolar\"}], \"scatterpolargl\": [{\"marker\": {\"colorbar\": {\"outlinewidth\": 0, \"ticks\": \"\"}}, \"type\": \"scatterpolargl\"}], \"scatterternary\": [{\"marker\": {\"colorbar\": {\"outlinewidth\": 0, \"ticks\": \"\"}}, \"type\": \"scatterternary\"}], \"surface\": [{\"colorbar\": {\"outlinewidth\": 0, \"ticks\": \"\"}, \"colorscale\": [[0.0, \"#0d0887\"], [0.1111111111111111, \"#46039f\"], [0.2222222222222222, \"#7201a8\"], [0.3333333333333333, \"#9c179e\"], [0.4444444444444444, \"#bd3786\"], [0.5555555555555556, \"#d8576b\"], [0.6666666666666666, \"#ed7953\"], [0.7777777777777778, \"#fb9f3a\"], [0.8888888888888888, \"#fdca26\"], [1.0, \"#f0f921\"]], \"type\": \"surface\"}], \"table\": [{\"cells\": {\"fill\": {\"color\": \"#EBF0F8\"}, \"line\": {\"color\": \"white\"}}, \"header\": {\"fill\": {\"color\": \"#C8D4E3\"}, \"line\": {\"color\": \"white\"}}, \"type\": \"table\"}]}, \"layout\": {\"annotationdefaults\": {\"arrowcolor\": \"#2a3f5f\", \"arrowhead\": 0, \"arrowwidth\": 1}, \"coloraxis\": {\"colorbar\": {\"outlinewidth\": 0, \"ticks\": \"\"}}, \"colorscale\": {\"diverging\": [[0, \"#8e0152\"], [0.1, \"#c51b7d\"], [0.2, \"#de77ae\"], [0.3, \"#f1b6da\"], [0.4, \"#fde0ef\"], [0.5, \"#f7f7f7\"], [0.6, \"#e6f5d0\"], [0.7, \"#b8e186\"], [0.8, \"#7fbc41\"], [0.9, \"#4d9221\"], [1, \"#276419\"]], \"sequential\": [[0.0, \"#0d0887\"], [0.1111111111111111, \"#46039f\"], [0.2222222222222222, \"#7201a8\"], [0.3333333333333333, \"#9c179e\"], [0.4444444444444444, \"#bd3786\"], [0.5555555555555556, \"#d8576b\"], [0.6666666666666666, \"#ed7953\"], [0.7777777777777778, \"#fb9f3a\"], [0.8888888888888888, \"#fdca26\"], [1.0, \"#f0f921\"]], \"sequentialminus\": [[0.0, \"#0d0887\"], [0.1111111111111111, \"#46039f\"], [0.2222222222222222, \"#7201a8\"], [0.3333333333333333, \"#9c179e\"], [0.4444444444444444, \"#bd3786\"], [0.5555555555555556, \"#d8576b\"], [0.6666666666666666, \"#ed7953\"], [0.7777777777777778, \"#fb9f3a\"], [0.8888888888888888, \"#fdca26\"], [1.0, \"#f0f921\"]]}, \"colorway\": [\"#636efa\", \"#EF553B\", \"#00cc96\", \"#ab63fa\", \"#FFA15A\", \"#19d3f3\", \"#FF6692\", \"#B6E880\", \"#FF97FF\", \"#FECB52\"], \"font\": {\"color\": \"#2a3f5f\"}, \"geo\": {\"bgcolor\": \"white\", \"lakecolor\": \"white\", \"landcolor\": \"#E5ECF6\", \"showlakes\": true, \"showland\": true, \"subunitcolor\": \"white\"}, \"hoverlabel\": {\"align\": \"left\"}, \"hovermode\": \"closest\", \"mapbox\": {\"style\": \"light\"}, \"paper_bgcolor\": \"white\", \"plot_bgcolor\": \"#E5ECF6\", \"polar\": {\"angularaxis\": {\"gridcolor\": \"white\", \"linecolor\": \"white\", \"ticks\": \"\"}, \"bgcolor\": \"#E5ECF6\", \"radialaxis\": {\"gridcolor\": \"white\", \"linecolor\": \"white\", \"ticks\": \"\"}}, \"scene\": {\"xaxis\": {\"backgroundcolor\": \"#E5ECF6\", \"gridcolor\": \"white\", \"gridwidth\": 2, \"linecolor\": \"white\", \"showbackground\": true, \"ticks\": \"\", \"zerolinecolor\": \"white\"}, \"yaxis\": {\"backgroundcolor\": \"#E5ECF6\", \"gridcolor\": \"white\", \"gridwidth\": 2, \"linecolor\": \"white\", \"showbackground\": true, \"ticks\": \"\", \"zerolinecolor\": \"white\"}, \"zaxis\": {\"backgroundcolor\": \"#E5ECF6\", \"gridcolor\": \"white\", \"gridwidth\": 2, \"linecolor\": \"white\", \"showbackground\": true, \"ticks\": \"\", \"zerolinecolor\": \"white\"}}, \"shapedefaults\": {\"line\": {\"color\": \"#2a3f5f\"}}, \"ternary\": {\"aaxis\": {\"gridcolor\": \"white\", \"linecolor\": \"white\", \"ticks\": \"\"}, \"baxis\": {\"gridcolor\": \"white\", \"linecolor\": \"white\", \"ticks\": \"\"}, \"bgcolor\": \"#E5ECF6\", \"caxis\": {\"gridcolor\": \"white\", \"linecolor\": \"white\", \"ticks\": \"\"}}, \"title\": {\"x\": 0.05}, \"xaxis\": {\"automargin\": true, \"gridcolor\": \"white\", \"linecolor\": \"white\", \"ticks\": \"\", \"title\": {\"standoff\": 15}, \"zerolinecolor\": \"white\", \"zerolinewidth\": 2}, \"yaxis\": {\"automargin\": true, \"gridcolor\": \"white\", \"linecolor\": \"white\", \"ticks\": \"\", \"title\": {\"standoff\": 15}, \"zerolinecolor\": \"white\", \"zerolinewidth\": 2}}}, \"title\": {\"text\": \"Mean predictions with linear regression model\"}, \"xaxis\": {\"anchor\": \"y\", \"domain\": [0.0, 1.0], \"title\": {\"text\": \"Date and time\"}}, \"yaxis\": {\"anchor\": \"x\", \"domain\": [0.0, 1.0], \"title\": {\"text\": \"meter value reading\"}}},                        {\"responsive\": true}                    ).then(function(){\n",
       "                            \n",
       "var gd = document.getElementById('9745e6be-5c13-40b5-9671-8f50621046f8');\n",
       "var x = new MutationObserver(function (mutations, observer) {{\n",
       "        var display = window.getComputedStyle(gd).display;\n",
       "        if (!display || display === 'none') {{\n",
       "            console.log([gd, 'removed!']);\n",
       "            Plotly.purge(gd);\n",
       "            observer.disconnect();\n",
       "        }}\n",
       "}});\n",
       "\n",
       "// Listen for the removal of the full notebook cells\n",
       "var notebookContainer = gd.closest('#notebook-container');\n",
       "if (notebookContainer) {{\n",
       "    x.observe(notebookContainer, {childList: true});\n",
       "}}\n",
       "\n",
       "// Listen for the clearing of the current output cell\n",
       "var outputEl = gd.closest('.output');\n",
       "if (outputEl) {{\n",
       "    x.observe(outputEl, {childList: true});\n",
       "}}\n",
       "\n",
       "                        })                };                });            </script>        </div>"
      ]
     },
     "metadata": {},
     "output_type": "display_data"
    }
   ],
   "source": [
    "truth = mean_data[:250]\n",
    "fig = px.scatter()\n",
    "fig.add_scatter(x=mean_timestamps, y=mean_predictions, name='predictions')\n",
    "fig.add_scatter(x=truth.index, y=truth['meter_value'].tolist(), name='mean')\n",
    "fig.add_scatter(x=mean_ltp_timestamps, y=mean_ltp_predictions, name='long_term_prediction')\n",
    "fig.update_layout(\n",
    "    title='Mean predictions with linear regression model',\n",
    "    xaxis_title='Date and time',\n",
    "    yaxis_title='meter value reading',\n",
    "    legend_title='Data Category',\n",
    ")\n",
    "fig.show()"
   ]
  },
  {
   "cell_type": "markdown",
   "metadata": {},
   "source": [
    "In this scenario we made use of mean readings from the increase (val_diff) of meter value reading for each houses in the dataframe as seen in how the dataframe is processed with function *mean_readings_for_area*. The model generally does well on \"mean\" data for the entire area, capable of predicting better compared to using actual cumulative meter value reading previously. \n",
    "It could be theorized that doing linear regression with mean data will give our model better ability of generalization, for which the theory is confirmed in the result that was obtained above. Customizing prediction with linear regression by only using reading of single house leads to results that is akin to overfitting. It could be argued that there is lower deviation in the mean hourly val_diff dataset as compared to using cumulative meter value reading, hence prediciton error with linear regression is less drastic and results in lower changes in next data point. One can use this model to better predict the average gas usage of the entire area over the next hour.\n",
    "\n",
    "However, it must be kept in mind that long term predictions are still very poor and unreliable. Our group attempted to predict multiple hours in front in an attempt to improve the prediction but did not see any considerable impact on the prediction results."
   ]
  },
  {
   "cell_type": "markdown",
   "metadata": {},
   "source": [
    "## Question 2.2 (b) - Scatter plot of actual vs predicted meter readings (along with the line showing how good the fit is) with linear regression"
   ]
  },
  {
   "cell_type": "code",
   "execution_count": 94,
   "metadata": {
    "scrolled": true
   },
   "outputs": [
    {
     "data": {
      "application/vnd.plotly.v1+json": {
       "config": {
        "plotlyServerURL": "https://plot.ly"
       },
       "data": [
        {
         "mode": "markers",
         "name": "actual",
         "type": "scatter",
         "x": [
          "2015-10-01T05:14:44+00:00",
          "2015-10-01T05:42:34+00:00",
          "2015-10-01T07:02:37+00:00",
          "2015-10-01T07:12:38+00:00",
          "2015-10-01T07:20:36+00:00",
          "2015-10-01T07:23:39+00:00",
          "2015-10-01T08:59:41+00:00",
          "2015-10-01T09:30:40+00:00",
          "2015-10-01T09:34:37+00:00",
          "2015-10-01T10:14:35+00:00",
          "2015-10-01T10:17:32+00:00",
          "2015-10-01T11:23:36+00:00",
          "2015-10-01T12:26:51+00:00",
          "2015-10-01T13:19:40+00:00",
          "2015-10-01T13:44:40+00:00",
          "2015-10-01T13:54:30+00:00",
          "2015-10-01T14:36:34+00:00",
          "2015-10-01T16:24:52+00:00",
          "2015-10-01T17:29:40+00:00",
          "2015-10-01T20:04:40+00:00",
          "2015-10-01T20:20:41+00:00",
          "2015-10-01T21:22:43+00:00",
          "2015-10-01T22:03:44+00:00",
          "2015-10-01T22:11:38+00:00",
          "2015-10-01T22:24:32+00:00",
          "2015-10-01T22:54:31+00:00",
          "2015-10-01T23:02:35+00:00",
          "2015-10-01T23:59:38+00:00",
          "2015-10-02T00:44:49+00:00",
          "2015-10-02T00:57:48+00:00",
          "2015-10-02T02:13:46+00:00",
          "2015-10-02T02:16:44+00:00",
          "2015-10-02T02:33:31+00:00",
          "2015-10-02T02:54:36+00:00",
          "2015-10-02T03:34:32+00:00",
          "2015-10-02T04:07:40+00:00",
          "2015-10-02T04:57:49+00:00",
          "2015-10-02T05:01:51+00:00",
          "2015-10-02T06:14:44+00:00",
          "2015-10-02T06:24:44+00:00",
          "2015-10-02T07:15:34+00:00",
          "2015-10-02T08:35:41+00:00",
          "2015-10-02T08:50:46+00:00",
          "2015-10-02T09:24:51+00:00",
          "2015-10-02T10:44:41+00:00",
          "2015-10-02T11:13:39+00:00",
          "2015-10-02T11:17:37+00:00",
          "2015-10-02T12:07:29+00:00",
          "2015-10-02T13:53:46+00:00",
          "2015-10-02T14:05:45+00:00",
          "2015-10-02T14:44:46+00:00",
          "2015-10-02T15:17:35+00:00",
          "2015-10-02T15:43:31+00:00",
          "2015-10-02T16:24:31+00:00",
          "2015-10-02T16:44:40+00:00",
          "2015-10-02T16:53:40+00:00",
          "2015-10-02T18:26:42+00:00",
          "2015-10-02T19:34:40+00:00",
          "2015-10-02T20:30:31+00:00",
          "2015-10-02T20:42:34+00:00",
          "2015-10-02T23:35:34+00:00",
          "2015-10-03T00:34:34+00:00",
          "2015-10-03T01:14:42+00:00",
          "2015-10-03T01:53:48+00:00",
          "2015-10-03T02:29:47+00:00",
          "2015-10-03T03:04:44+00:00",
          "2015-10-03T03:45:32+00:00",
          "2015-10-03T04:04:38+00:00",
          "2015-10-03T04:22:33+00:00",
          "2015-10-03T04:56:30+00:00",
          "2015-10-03T04:59:31+00:00",
          "2015-10-03T05:19:41+00:00",
          "2015-10-03T05:49:46+00:00",
          "2015-10-03T07:03:44+00:00",
          "2015-10-03T07:32:47+00:00",
          "2015-10-03T08:24:38+00:00",
          "2015-10-03T08:36:37+00:00",
          "2015-10-03T09:47:42+00:00",
          "2015-10-03T10:53:47+00:00",
          "2015-10-03T11:36:43+00:00",
          "2015-10-03T13:18:31+00:00",
          "2015-10-03T14:03:42+00:00",
          "2015-10-03T14:54:56+00:00",
          "2015-10-03T15:01:49+00:00",
          "2015-10-03T15:16:47+00:00",
          "2015-10-03T15:49:44+00:00",
          "2015-10-03T15:57:48+00:00",
          "2015-10-03T16:01:48+00:00",
          "2015-10-03T16:09:42+00:00",
          "2015-10-03T16:24:34+00:00",
          "2015-10-03T16:56:33+00:00",
          "2015-10-03T16:59:35+00:00",
          "2015-10-03T17:25:35+00:00",
          "2015-10-03T17:46:36+00:00",
          "2015-10-03T17:57:42+00:00",
          "2015-10-03T18:07:41+00:00",
          "2015-10-03T18:47:53+00:00",
          "2015-10-03T19:12:48+00:00",
          "2015-10-03T20:17:46+00:00",
          "2015-10-03T20:48:41+00:00",
          "2015-10-03T21:04:36+00:00",
          "2015-10-03T21:33:34+00:00",
          "2015-10-03T22:25:41+00:00",
          "2015-10-03T22:29:43+00:00",
          "2015-10-03T23:13:54+00:00",
          "2015-10-03T23:19:57+00:00",
          "2015-10-04T00:08:45+00:00",
          "2015-10-04T00:09:44+00:00",
          "2015-10-04T00:17:48+00:00",
          "2015-10-04T01:49:36+00:00",
          "2015-10-04T02:33:41+00:00",
          "2015-10-04T02:52:46+00:00",
          "2015-10-04T04:14:49+00:00",
          "2015-10-04T05:55:35+00:00",
          "2015-10-04T06:49:41+00:00",
          "2015-10-04T07:39:55+00:00",
          "2015-10-04T07:50:50+00:00",
          "2015-10-04T08:03:46+00:00",
          "2015-10-04T08:05:48+00:00",
          "2015-10-04T08:14:44+00:00",
          "2015-10-04T08:37:46+00:00",
          "2015-10-04T09:25:42+00:00",
          "2015-10-04T10:12:34+00:00",
          "2015-10-04T12:03:49+00:00",
          "2015-10-04T13:40:39+00:00",
          "2015-10-04T15:17:43+00:00",
          "2015-10-04T15:27:48+00:00",
          "2015-10-04T16:43:46+00:00",
          "2015-10-04T16:54:44+00:00",
          "2015-10-04T17:15:47+00:00",
          "2015-10-04T17:34:35+00:00",
          "2015-10-04T18:29:32+00:00",
          "2015-10-04T18:32:36+00:00",
          "2015-10-04T18:35:36+00:00",
          "2015-10-04T18:54:37+00:00",
          "2015-10-04T19:44:45+00:00",
          "2015-10-04T20:21:55+00:00",
          "2015-10-04T20:37:43+00:00",
          "2015-10-04T20:45:48+00:00",
          "2015-10-04T21:10:45+00:00",
          "2015-10-04T21:24:48+00:00",
          "2015-10-04T21:49:38+00:00",
          "2015-10-04T22:37:33+00:00",
          "2015-10-04T22:49:37+00:00",
          "2015-10-05T00:24:55+00:00",
          "2015-10-05T01:06:46+00:00",
          "2015-10-05T01:44:45+00:00",
          "2015-10-05T02:48:34+00:00",
          "2015-10-05T06:09:35+00:00",
          "2015-10-05T06:59:35+00:00",
          "2015-10-05T07:16:36+00:00",
          "2015-10-05T07:35:40+00:00",
          "2015-10-05T07:37:41+00:00",
          "2015-10-05T09:20:50+00:00",
          "2015-10-05T09:42:46+00:00",
          "2015-10-05T09:47:44+00:00",
          "2015-10-05T10:15:41+00:00",
          "2015-10-05T10:27:37+00:00",
          "2015-10-05T10:43:42+00:00",
          "2015-10-05T10:53:38+00:00",
          "2015-10-05T11:13:34+00:00",
          "2015-10-05T11:57:44+00:00",
          "2015-10-05T12:07:44+00:00",
          "2015-10-05T12:09:42+00:00",
          "2015-10-05T13:14:51+00:00",
          "2015-10-05T13:49:50+00:00",
          "2015-10-05T14:17:48+00:00",
          "2015-10-05T14:42:40+00:00",
          "2015-10-05T14:57:42+00:00",
          "2015-10-05T16:35:48+00:00",
          "2015-10-05T16:50:50+00:00",
          "2015-10-05T17:04:55+00:00",
          "2015-10-05T18:23:50+00:00",
          "2015-10-05T20:36:44+00:00",
          "2015-10-05T21:44:48+00:00",
          "2015-10-05T22:43:48+00:00",
          "2015-10-05T22:59:38+00:00",
          "2015-10-05T23:50:34+00:00",
          "2015-10-06T02:50:50+00:00",
          "2015-10-06T02:59:43+00:00",
          "2015-10-06T03:07:36+00:00",
          "2015-10-06T03:10:37+00:00",
          "2015-10-06T03:27:43+00:00",
          "2015-10-06T04:52:46+00:00",
          "2015-10-06T06:25:46+00:00",
          "2015-10-06T07:45:42+00:00",
          "2015-10-06T08:11:36+00:00",
          "2015-10-06T08:40:38+00:00",
          "2015-10-06T08:49:42+00:00",
          "2015-10-06T09:00:44+00:00",
          "2015-10-06T09:06:45+00:00",
          "2015-10-06T09:56:52+00:00",
          "2015-10-06T10:27:48+00:00",
          "2015-10-06T10:32:51+00:00",
          "2015-10-06T14:34:50+00:00",
          "2015-10-06T16:29:37+00:00",
          "2015-10-06T17:11:42+00:00",
          "2015-10-06T19:06:47+00:00",
          "2015-10-06T19:30:50+00:00",
          "2015-10-06T19:59:39+00:00",
          "2015-10-06T21:44:44+00:00",
          "2015-10-06T21:47:47+00:00",
          "2015-10-06T22:45:57+00:00",
          "2015-10-06T22:47:55+00:00",
          "2015-10-06T23:12:49+00:00",
          "2015-10-06T23:37:49+00:00",
          "2015-10-07T00:38:43+00:00",
          "2015-10-07T01:28:40+00:00",
          "2015-10-07T02:04:47+00:00",
          "2015-10-07T02:54:00+00:00",
          "2015-10-07T03:14:48+00:00",
          "2015-10-07T03:22:49+00:00",
          "2015-10-07T03:33:49+00:00",
          "2015-10-07T04:09:47+00:00",
          "2015-10-07T04:17:40+00:00",
          "2015-10-07T05:02:42+00:00",
          "2015-10-07T05:52:44+00:00",
          "2015-10-07T06:26:52+00:00",
          "2015-10-07T08:06:51+00:00",
          "2015-10-07T08:09:53+00:00",
          "2015-10-07T08:17:50+00:00",
          "2015-10-07T08:24:46+00:00",
          "2015-10-07T08:29:40+00:00",
          "2015-10-07T08:50:44+00:00",
          "2015-10-07T09:27:35+00:00",
          "2015-10-07T09:57:39+00:00",
          "2015-10-07T10:35:50+00:00",
          "2015-10-07T11:39:50+00:00",
          "2015-10-07T12:51:39+00:00",
          "2015-10-07T13:20:38+00:00",
          "2015-10-07T13:23:40+00:00",
          "2015-10-07T13:26:42+00:00",
          "2015-10-07T13:27:41+00:00",
          "2015-10-07T14:07:39+00:00",
          "2015-10-07T14:09:39+00:00",
          "2015-10-07T16:04:47+00:00",
          "2015-10-07T16:15:50+00:00",
          "2015-10-07T17:07:43+00:00",
          "2015-10-07T19:27:56+00:00",
          "2015-10-07T20:17:48+00:00",
          "2015-10-07T20:37:50+00:00",
          "2015-10-07T20:45:54+00:00",
          "2015-10-07T20:56:48+00:00",
          "2015-10-07T21:20:45+00:00",
          "2015-10-07T21:24:45+00:00",
          "2015-10-07T21:34:45+00:00",
          "2015-10-07T22:14:40+00:00",
          "2015-10-07T22:29:42+00:00",
          "2015-10-07T23:03:48+00:00",
          "2015-10-08T00:27:50+00:00"
         ],
         "y": [
          93470,
          93470,
          93470,
          93470,
          93470,
          93470,
          93470,
          93470,
          93470,
          93470,
          93470,
          93472,
          93472,
          93472,
          93472,
          93472,
          93472,
          93474,
          93474,
          93474,
          93474,
          93474,
          93476,
          93476,
          93476,
          93476,
          93476,
          93476,
          93482,
          93482,
          93484,
          93484,
          93484,
          93484,
          93484,
          93484,
          93484,
          93484,
          93484,
          93484,
          93484,
          93486,
          93486,
          93486,
          93486,
          93486,
          93486,
          93486,
          93488,
          93488,
          93488,
          93488,
          93488,
          93488,
          93488,
          93488,
          93488,
          93490,
          93490,
          93490,
          93508,
          93510,
          93516,
          93520,
          93522,
          93522,
          93522,
          93522,
          93522,
          93522,
          93522,
          93522,
          93522,
          93522,
          93522,
          93524,
          93524,
          93524,
          93524,
          93524,
          93524,
          93526,
          93526,
          93526,
          93526,
          93526,
          93526,
          93526,
          93526,
          93526,
          93526,
          93526,
          93532,
          93532,
          93532,
          93532,
          93532,
          93532,
          93532,
          93532,
          93532,
          93532,
          93534,
          93534,
          93538,
          93542,
          93548,
          93548,
          93548,
          93548,
          93548,
          93548,
          93550,
          93550,
          93550,
          93550,
          93550,
          93550,
          93550,
          93550,
          93550,
          93552,
          93552,
          93552,
          93560,
          93568,
          93568,
          93568,
          93568,
          93568,
          93568,
          93570,
          93570,
          93570,
          93570,
          93570,
          93570,
          93570,
          93570,
          93570,
          93570,
          93570,
          93570,
          93570,
          93588,
          93588,
          93588,
          93588,
          93590,
          93590,
          93590,
          93590,
          93590,
          93590,
          93592,
          93592,
          93592,
          93592,
          93592,
          93592,
          93592,
          93592,
          93592,
          93592,
          93592,
          93592,
          93592,
          93592,
          93592,
          93594,
          93594,
          93596,
          93600,
          93602,
          93608,
          93608,
          93608,
          93614,
          93624,
          93624,
          93624,
          93624,
          93624,
          93624,
          93624,
          93626,
          93626,
          93626,
          93626,
          93626,
          93626,
          93626,
          93626,
          93626,
          93632,
          93636,
          93636,
          93636,
          93636,
          93636,
          93638,
          93638,
          93638,
          93638,
          93638,
          93638,
          93638,
          93648,
          93654,
          93656,
          93656,
          93656,
          93656,
          93656,
          93656,
          93656,
          93656,
          93656,
          93656,
          93656,
          93658,
          93658,
          93658,
          93658,
          93658,
          93658,
          93658,
          93658,
          93658,
          93668,
          93670,
          93670,
          93670,
          93670,
          93670,
          93670,
          93670,
          93678,
          93678,
          93678,
          93680,
          93680,
          93680,
          93680,
          93680,
          93680,
          93680,
          93680,
          93680,
          93686
         ]
        },
        {
         "mode": "markers",
         "name": "predictions",
         "type": "scatter",
         "x": [
          "2015-10-01T12:00:00+00:00",
          "2015-10-01T13:00:00+00:00",
          "2015-10-01T14:00:00+00:00",
          "2015-10-01T15:00:00+00:00",
          "2015-10-01T16:00:00+00:00",
          "2015-10-01T17:00:00+00:00",
          "2015-10-01T18:00:00+00:00",
          "2015-10-01T19:00:00+00:00",
          "2015-10-01T20:00:00+00:00",
          "2015-10-01T21:00:00+00:00",
          "2015-10-01T22:00:00+00:00",
          "2015-10-01T23:00:00+00:00",
          "2015-10-02T00:00:00+00:00",
          "2015-10-02T01:00:00+00:00",
          "2015-10-02T02:00:00+00:00",
          "2015-10-02T03:00:00+00:00",
          "2015-10-02T04:00:00+00:00",
          "2015-10-02T05:00:00+00:00",
          "2015-10-02T06:00:00+00:00",
          "2015-10-02T07:00:00+00:00",
          "2015-10-02T08:00:00+00:00",
          "2015-10-02T09:00:00+00:00",
          "2015-10-02T10:00:00+00:00",
          "2015-10-02T11:00:00+00:00",
          "2015-10-02T12:00:00+00:00",
          "2015-10-02T13:00:00+00:00",
          "2015-10-02T14:00:00+00:00",
          "2015-10-02T15:00:00+00:00",
          "2015-10-02T16:00:00+00:00",
          "2015-10-02T17:00:00+00:00",
          "2015-10-02T18:00:00+00:00",
          "2015-10-02T19:00:00+00:00",
          "2015-10-02T20:00:00+00:00",
          "2015-10-02T21:00:00+00:00",
          "2015-10-02T22:00:00+00:00",
          "2015-10-02T23:00:00+00:00",
          "2015-10-03T00:00:00+00:00",
          "2015-10-03T01:00:00+00:00",
          "2015-10-03T02:00:00+00:00",
          "2015-10-03T03:00:00+00:00",
          "2015-10-03T04:00:00+00:00",
          "2015-10-03T05:00:00+00:00",
          "2015-10-03T06:00:00+00:00",
          "2015-10-03T07:00:00+00:00",
          "2015-10-03T08:00:00+00:00",
          "2015-10-03T09:00:00+00:00",
          "2015-10-03T10:00:00+00:00",
          "2015-10-03T11:00:00+00:00",
          "2015-10-03T12:00:00+00:00",
          "2015-10-03T13:00:00+00:00",
          "2015-10-03T14:00:00+00:00",
          "2015-10-03T15:00:00+00:00",
          "2015-10-03T16:00:00+00:00",
          "2015-10-03T17:00:00+00:00",
          "2015-10-03T18:00:00+00:00",
          "2015-10-03T19:00:00+00:00",
          "2015-10-03T20:00:00+00:00",
          "2015-10-03T21:00:00+00:00",
          "2015-10-03T22:00:00+00:00",
          "2015-10-03T23:00:00+00:00",
          "2015-10-04T00:00:00+00:00",
          "2015-10-04T01:00:00+00:00",
          "2015-10-04T02:00:00+00:00",
          "2015-10-04T03:00:00+00:00",
          "2015-10-04T04:00:00+00:00",
          "2015-10-04T05:00:00+00:00",
          "2015-10-04T06:00:00+00:00",
          "2015-10-04T07:00:00+00:00",
          "2015-10-04T08:00:00+00:00",
          "2015-10-04T09:00:00+00:00",
          "2015-10-04T10:00:00+00:00",
          "2015-10-04T11:00:00+00:00",
          "2015-10-04T12:00:00+00:00",
          "2015-10-04T13:00:00+00:00",
          "2015-10-04T14:00:00+00:00",
          "2015-10-04T15:00:00+00:00",
          "2015-10-04T16:00:00+00:00",
          "2015-10-04T17:00:00+00:00",
          "2015-10-04T18:00:00+00:00",
          "2015-10-04T19:00:00+00:00",
          "2015-10-04T20:00:00+00:00",
          "2015-10-04T21:00:00+00:00",
          "2015-10-04T22:00:00+00:00",
          "2015-10-04T23:00:00+00:00",
          "2015-10-05T00:00:00+00:00",
          "2015-10-05T01:00:00+00:00",
          "2015-10-05T02:00:00+00:00",
          "2015-10-05T03:00:00+00:00",
          "2015-10-05T04:00:00+00:00",
          "2015-10-05T05:00:00+00:00",
          "2015-10-05T06:00:00+00:00",
          "2015-10-05T07:00:00+00:00",
          "2015-10-05T08:00:00+00:00",
          "2015-10-05T09:00:00+00:00",
          "2015-10-05T10:00:00+00:00",
          "2015-10-05T11:00:00+00:00",
          "2015-10-05T12:00:00+00:00",
          "2015-10-05T13:00:00+00:00",
          "2015-10-05T14:00:00+00:00",
          "2015-10-05T15:00:00+00:00",
          "2015-10-05T16:00:00+00:00",
          "2015-10-05T17:00:00+00:00",
          "2015-10-05T18:00:00+00:00",
          "2015-10-05T19:00:00+00:00",
          "2015-10-05T20:00:00+00:00",
          "2015-10-05T21:00:00+00:00",
          "2015-10-05T22:00:00+00:00",
          "2015-10-05T23:00:00+00:00",
          "2015-10-06T00:00:00+00:00",
          "2015-10-06T01:00:00+00:00",
          "2015-10-06T02:00:00+00:00",
          "2015-10-06T03:00:00+00:00",
          "2015-10-06T04:00:00+00:00",
          "2015-10-06T05:00:00+00:00",
          "2015-10-06T06:00:00+00:00",
          "2015-10-06T07:00:00+00:00",
          "2015-10-06T08:00:00+00:00",
          "2015-10-06T09:00:00+00:00",
          "2015-10-06T10:00:00+00:00",
          "2015-10-06T11:00:00+00:00",
          "2015-10-06T12:00:00+00:00",
          "2015-10-06T13:00:00+00:00",
          "2015-10-06T14:00:00+00:00",
          "2015-10-06T15:00:00+00:00",
          "2015-10-06T16:00:00+00:00",
          "2015-10-06T17:00:00+00:00",
          "2015-10-06T18:00:00+00:00",
          "2015-10-06T19:00:00+00:00",
          "2015-10-06T20:00:00+00:00",
          "2015-10-06T21:00:00+00:00",
          "2015-10-06T22:00:00+00:00",
          "2015-10-06T23:00:00+00:00",
          "2015-10-07T00:00:00+00:00",
          "2015-10-07T01:00:00+00:00",
          "2015-10-07T02:00:00+00:00",
          "2015-10-07T03:00:00+00:00",
          "2015-10-07T04:00:00+00:00",
          "2015-10-07T05:00:00+00:00",
          "2015-10-07T06:00:00+00:00",
          "2015-10-07T07:00:00+00:00",
          "2015-10-07T08:00:00+00:00",
          "2015-10-07T09:00:00+00:00",
          "2015-10-07T10:00:00+00:00",
          "2015-10-07T11:00:00+00:00",
          "2015-10-07T12:00:00+00:00",
          "2015-10-07T13:00:00+00:00",
          "2015-10-07T14:00:00+00:00",
          "2015-10-07T15:00:00+00:00",
          "2015-10-07T16:00:00+00:00",
          "2015-10-07T17:00:00+00:00",
          "2015-10-07T18:00:00+00:00",
          "2015-10-07T19:00:00+00:00",
          "2015-10-07T20:00:00+00:00",
          "2015-10-07T21:00:00+00:00",
          "2015-10-07T22:00:00+00:00",
          "2015-10-07T23:00:00+00:00",
          "2015-10-08T00:00:00+00:00"
         ],
         "y": [
          93474.0955205866,
          93473.34759187172,
          93473.19252608504,
          93473.08895309873,
          93473.06555276334,
          93475.53544984873,
          93475.08395259795,
          93474.95463321146,
          93474.89114655061,
          93474.78342862942,
          93474.74207165599,
          93477.64059387888,
          93477.88523252629,
          93486.54980432859,
          93484.3265161179,
          93486.54858266837,
          93485.83509811216,
          93485.7596486398,
          93485.47014417862,
          93485.36242625742,
          93485.321069284,
          93488.21959150689,
          93487.471662792,
          93487.31659700532,
          93487.21302401902,
          93487.18962368363,
          93490.01280663974,
          93489.26487792486,
          93489.10981213818,
          93489.00623915187,
          93488.98283881649,
          93488.86614257627,
          93491.76466479918,
          93491.01673608429,
          93490.86167029761,
          93490.75809731129,
          93513.60562021664,
          93513.78131347,
          93526.31899697614,
          93526.46044100488,
          93524.48888928266,
          93523.98920726925,
          93523.81990555544,
          93523.51310479098,
          93523.321069284,
          93526.21959150689,
          93525.471662792,
          93525.31659700532,
          93525.21302401902,
          93525.18962368363,
          93525.07292744343,
          93527.97144966632,
          93527.22352095143,
          93527.06845516476,
          93535.78451976742,
          93533.64140420765,
          93533.1835815277,
          93532.95557651564,
          93532.96808945634,
          93535.64059387888,
          93546.70487011527,
          93554.18960588952,
          93550.91861949762,
          93550.2537358706,
          93549.94204549301,
          93552.33309059699,
          93551.5802362791,
          93551.4509168926,
          93551.38743023176,
          93551.27971231057,
          93554.17823453347,
          93553.43030581858,
          93553.2752400319,
          93553.1716670456,
          93564.90778349551,
          93561.96480028945,
          93571.81498136542,
          93569.88419923106,
          93569.56281915754,
          93572.07146556364,
          93571.05809305771,
          93570.90302727104,
          93570.79945428473,
          93570.77605394935,
          93571.65192507142,
          93594.88990802836,
          93591.15728855875,
          93590.32426986775,
          93590.08374570754,
          93589.44514020428,
          93589.40378323085,
          93591.69996823781,
          93591.442476282,
          93591.27971231057,
          93593.6294175542,
          93593.62792679465,
          93593.29240429869,
          93593.19839126256,
          93593.09205498634,
          93593.05668355891,
          93592.99021349657,
          93595.53544984873,
          93598.02383179427,
          93603.06769905897,
          93601.47736010196,
          93603.666601867,
          93611.92826681747,
          93609.6398062159,
          93618.89671953302,
          93616.48263834881,
          93616.15402484976,
          93627.85464419203,
          93626.39632952008,
          93625.86567443285,
          93625.40378323085,
          93625.36242625742,
          93628.26094848033,
          93627.51301976544,
          93627.35795397876,
          93627.25438099244,
          93627.23098065706,
          93627.11428441685,
          93627.07292744343,
          93634.04419641115,
          93633.35443449057,
          93638.12204317433,
          93637.26040564619,
          93637.04312384663,
          93636.95750749836,
          93636.78342862942,
          93639.32866498159,
          93638.87716773081,
          93639.7404157066,
          93639.67692904576,
          93654.26860710619,
          93661.9839686126,
          93659.371006076,
          93658.26730232107,
          93658.04111808614,
          93657.65480500551,
          93657.35873891738,
          93659.67077452764,
          93659.66928376807,
          93659.33376127211,
          93659.239748236,
          93659.13341195976,
          93676.50234591123,
          93672.60805813456,
          93671.73623254959,
          93671.30870629879,
          93683.11456277617,
          93679.81820721243,
          93679.30318016933,
          93681.71786854161,
          93681.45337911334,
          93680.8487405275,
          93681.72486170338
         ]
        },
        {
         "hovertemplate": "<b>OLS trendline</b><br>y = 0.000394991 * x + -476790<br>R<sup>2</sup>=0.990452<br><br>x=%{x}<br>y=%{y} <b>(trend)</b><extra></extra>",
         "legendgroup": "",
         "line": {
          "color": "Yellow"
         },
         "marker": {
          "color": "#636efa",
          "symbol": "circle"
         },
         "mode": "lines",
         "name": "predictions",
         "showlegend": false,
         "type": "scatter",
         "x": [
          "2015-10-01T12:00:00+00:00",
          "2015-10-01T13:00:00+00:00",
          "2015-10-01T14:00:00+00:00",
          "2015-10-01T15:00:00+00:00",
          "2015-10-01T16:00:00+00:00",
          "2015-10-01T17:00:00+00:00",
          "2015-10-01T18:00:00+00:00",
          "2015-10-01T19:00:00+00:00",
          "2015-10-01T20:00:00+00:00",
          "2015-10-01T21:00:00+00:00",
          "2015-10-01T22:00:00+00:00",
          "2015-10-01T23:00:00+00:00",
          "2015-10-02T00:00:00+00:00",
          "2015-10-02T01:00:00+00:00",
          "2015-10-02T02:00:00+00:00",
          "2015-10-02T03:00:00+00:00",
          "2015-10-02T04:00:00+00:00",
          "2015-10-02T05:00:00+00:00",
          "2015-10-02T06:00:00+00:00",
          "2015-10-02T07:00:00+00:00",
          "2015-10-02T08:00:00+00:00",
          "2015-10-02T09:00:00+00:00",
          "2015-10-02T10:00:00+00:00",
          "2015-10-02T11:00:00+00:00",
          "2015-10-02T12:00:00+00:00",
          "2015-10-02T13:00:00+00:00",
          "2015-10-02T14:00:00+00:00",
          "2015-10-02T15:00:00+00:00",
          "2015-10-02T16:00:00+00:00",
          "2015-10-02T17:00:00+00:00",
          "2015-10-02T18:00:00+00:00",
          "2015-10-02T19:00:00+00:00",
          "2015-10-02T20:00:00+00:00",
          "2015-10-02T21:00:00+00:00",
          "2015-10-02T22:00:00+00:00",
          "2015-10-02T23:00:00+00:00",
          "2015-10-03T00:00:00+00:00",
          "2015-10-03T01:00:00+00:00",
          "2015-10-03T02:00:00+00:00",
          "2015-10-03T03:00:00+00:00",
          "2015-10-03T04:00:00+00:00",
          "2015-10-03T05:00:00+00:00",
          "2015-10-03T06:00:00+00:00",
          "2015-10-03T07:00:00+00:00",
          "2015-10-03T08:00:00+00:00",
          "2015-10-03T09:00:00+00:00",
          "2015-10-03T10:00:00+00:00",
          "2015-10-03T11:00:00+00:00",
          "2015-10-03T12:00:00+00:00",
          "2015-10-03T13:00:00+00:00",
          "2015-10-03T14:00:00+00:00",
          "2015-10-03T15:00:00+00:00",
          "2015-10-03T16:00:00+00:00",
          "2015-10-03T17:00:00+00:00",
          "2015-10-03T18:00:00+00:00",
          "2015-10-03T19:00:00+00:00",
          "2015-10-03T20:00:00+00:00",
          "2015-10-03T21:00:00+00:00",
          "2015-10-03T22:00:00+00:00",
          "2015-10-03T23:00:00+00:00",
          "2015-10-04T00:00:00+00:00",
          "2015-10-04T01:00:00+00:00",
          "2015-10-04T02:00:00+00:00",
          "2015-10-04T03:00:00+00:00",
          "2015-10-04T04:00:00+00:00",
          "2015-10-04T05:00:00+00:00",
          "2015-10-04T06:00:00+00:00",
          "2015-10-04T07:00:00+00:00",
          "2015-10-04T08:00:00+00:00",
          "2015-10-04T09:00:00+00:00",
          "2015-10-04T10:00:00+00:00",
          "2015-10-04T11:00:00+00:00",
          "2015-10-04T12:00:00+00:00",
          "2015-10-04T13:00:00+00:00",
          "2015-10-04T14:00:00+00:00",
          "2015-10-04T15:00:00+00:00",
          "2015-10-04T16:00:00+00:00",
          "2015-10-04T17:00:00+00:00",
          "2015-10-04T18:00:00+00:00",
          "2015-10-04T19:00:00+00:00",
          "2015-10-04T20:00:00+00:00",
          "2015-10-04T21:00:00+00:00",
          "2015-10-04T22:00:00+00:00",
          "2015-10-04T23:00:00+00:00",
          "2015-10-05T00:00:00+00:00",
          "2015-10-05T01:00:00+00:00",
          "2015-10-05T02:00:00+00:00",
          "2015-10-05T03:00:00+00:00",
          "2015-10-05T04:00:00+00:00",
          "2015-10-05T05:00:00+00:00",
          "2015-10-05T06:00:00+00:00",
          "2015-10-05T07:00:00+00:00",
          "2015-10-05T08:00:00+00:00",
          "2015-10-05T09:00:00+00:00",
          "2015-10-05T10:00:00+00:00",
          "2015-10-05T11:00:00+00:00",
          "2015-10-05T12:00:00+00:00",
          "2015-10-05T13:00:00+00:00",
          "2015-10-05T14:00:00+00:00",
          "2015-10-05T15:00:00+00:00",
          "2015-10-05T16:00:00+00:00",
          "2015-10-05T17:00:00+00:00",
          "2015-10-05T18:00:00+00:00",
          "2015-10-05T19:00:00+00:00",
          "2015-10-05T20:00:00+00:00",
          "2015-10-05T21:00:00+00:00",
          "2015-10-05T22:00:00+00:00",
          "2015-10-05T23:00:00+00:00",
          "2015-10-06T00:00:00+00:00",
          "2015-10-06T01:00:00+00:00",
          "2015-10-06T02:00:00+00:00",
          "2015-10-06T03:00:00+00:00",
          "2015-10-06T04:00:00+00:00",
          "2015-10-06T05:00:00+00:00",
          "2015-10-06T06:00:00+00:00",
          "2015-10-06T07:00:00+00:00",
          "2015-10-06T08:00:00+00:00",
          "2015-10-06T09:00:00+00:00",
          "2015-10-06T10:00:00+00:00",
          "2015-10-06T11:00:00+00:00",
          "2015-10-06T12:00:00+00:00",
          "2015-10-06T13:00:00+00:00",
          "2015-10-06T14:00:00+00:00",
          "2015-10-06T15:00:00+00:00",
          "2015-10-06T16:00:00+00:00",
          "2015-10-06T17:00:00+00:00",
          "2015-10-06T18:00:00+00:00",
          "2015-10-06T19:00:00+00:00",
          "2015-10-06T20:00:00+00:00",
          "2015-10-06T21:00:00+00:00",
          "2015-10-06T22:00:00+00:00",
          "2015-10-06T23:00:00+00:00",
          "2015-10-07T00:00:00+00:00",
          "2015-10-07T01:00:00+00:00",
          "2015-10-07T02:00:00+00:00",
          "2015-10-07T03:00:00+00:00",
          "2015-10-07T04:00:00+00:00",
          "2015-10-07T05:00:00+00:00",
          "2015-10-07T06:00:00+00:00",
          "2015-10-07T07:00:00+00:00",
          "2015-10-07T08:00:00+00:00",
          "2015-10-07T09:00:00+00:00",
          "2015-10-07T10:00:00+00:00",
          "2015-10-07T11:00:00+00:00",
          "2015-10-07T12:00:00+00:00",
          "2015-10-07T13:00:00+00:00",
          "2015-10-07T14:00:00+00:00",
          "2015-10-07T15:00:00+00:00",
          "2015-10-07T16:00:00+00:00",
          "2015-10-07T17:00:00+00:00",
          "2015-10-07T18:00:00+00:00",
          "2015-10-07T19:00:00+00:00",
          "2015-10-07T20:00:00+00:00",
          "2015-10-07T21:00:00+00:00",
          "2015-10-07T22:00:00+00:00",
          "2015-10-07T23:00:00+00:00",
          "2015-10-08T00:00:00+00:00"
         ],
         "xaxis": "x",
         "y": [
          93458.9446561453,
          93460.36662437127,
          93461.78859259712,
          93463.21056082309,
          93464.63252904895,
          93466.05449727492,
          93467.47646550077,
          93468.89843372663,
          93470.3204019526,
          93471.74237017846,
          93473.16433840443,
          93474.58630663028,
          93476.00827485626,
          93477.43024308211,
          93478.85221130808,
          93480.27417953394,
          93481.69614775991,
          93483.11811598577,
          93484.54008421174,
          93485.9620524376,
          93487.38402066345,
          93488.80598888942,
          93490.22795711528,
          93491.64992534125,
          93493.0718935671,
          93494.49386179307,
          93495.91583001893,
          93497.3377982449,
          93498.75976647076,
          93500.18173469673,
          93501.60370292258,
          93503.02567114844,
          93504.44763937441,
          93505.86960760027,
          93507.29157582624,
          93508.7135440521,
          93510.13551227807,
          93511.55748050392,
          93512.9794487299,
          93514.40141695575,
          93515.82338518172,
          93517.24535340758,
          93518.66732163343,
          93520.0892898594,
          93521.51125808526,
          93522.93322631123,
          93524.35519453709,
          93525.77716276306,
          93527.19913098891,
          93528.62109921488,
          93530.04306744074,
          93531.46503566671,
          93532.88700389257,
          93534.30897211842,
          93535.7309403444,
          93537.15290857025,
          93538.57487679622,
          93539.99684502208,
          93541.41881324805,
          93542.8407814739,
          93544.26274969988,
          93545.68471792573,
          93547.1066861517,
          93548.52865437756,
          93549.95062260341,
          93551.37259082939,
          93552.79455905524,
          93554.21652728121,
          93555.63849550707,
          93557.06046373304,
          93558.4824319589,
          93559.90440018487,
          93561.32636841072,
          93562.7483366367,
          93564.17030486255,
          93565.59227308852,
          93567.01424131438,
          93568.43620954023,
          93569.8581777662,
          93571.28014599206,
          93572.70211421803,
          93574.12408244389,
          93575.54605066986,
          93576.96801889571,
          93578.38998712169,
          93579.81195534754,
          93581.23392357351,
          93582.65589179937,
          93584.07786002522,
          93585.4998282512,
          93586.92179647705,
          93588.34376470302,
          93589.76573292888,
          93591.18770115485,
          93592.6096693807,
          93594.03163760668,
          93595.45360583253,
          93596.8755740585,
          93598.29754228436,
          93599.71951051021,
          93601.14147873619,
          93602.56344696204,
          93603.98541518801,
          93605.40738341387,
          93606.82935163984,
          93608.2513198657,
          93609.67328809167,
          93611.09525631752,
          93612.5172245435,
          93613.93919276935,
          93615.3611609952,
          93616.78312922118,
          93618.20509744703,
          93619.627065673,
          93621.04903389886,
          93622.47100212483,
          93623.89297035069,
          93625.31493857666,
          93626.73690680251,
          93628.15887502849,
          93629.58084325434,
          93631.0028114802,
          93632.42477970617,
          93633.84674793202,
          93635.268716158,
          93636.69068438385,
          93638.11265260982,
          93639.53462083568,
          93640.95658906165,
          93642.3785572875,
          93643.80052551348,
          93645.22249373933,
          93646.6444619653,
          93648.06643019116,
          93649.48839841702,
          93650.91036664299,
          93652.33233486884,
          93653.75430309481,
          93655.17627132067,
          93656.59823954664,
          93658.0202077725,
          93659.44217599847,
          93660.86414422432,
          93662.2861124503,
          93663.70808067615,
          93665.130048902,
          93666.55201712798,
          93667.97398535383,
          93669.3959535798,
          93670.81792180566,
          93672.23989003163,
          93673.66185825749,
          93675.08382648346,
          93676.50579470932,
          93677.92776293529,
          93679.34973116114,
          93680.771699387
         ],
         "yaxis": "y"
        }
       ],
       "layout": {
        "legend": {
         "title": {
          "text": "Data Category"
         },
         "tracegroupgap": 0
        },
        "margin": {
         "t": 60
        },
        "showlegend": true,
        "template": {
         "data": {
          "bar": [
           {
            "error_x": {
             "color": "#2a3f5f"
            },
            "error_y": {
             "color": "#2a3f5f"
            },
            "marker": {
             "line": {
              "color": "#E5ECF6",
              "width": 0.5
             }
            },
            "type": "bar"
           }
          ],
          "barpolar": [
           {
            "marker": {
             "line": {
              "color": "#E5ECF6",
              "width": 0.5
             }
            },
            "type": "barpolar"
           }
          ],
          "carpet": [
           {
            "aaxis": {
             "endlinecolor": "#2a3f5f",
             "gridcolor": "white",
             "linecolor": "white",
             "minorgridcolor": "white",
             "startlinecolor": "#2a3f5f"
            },
            "baxis": {
             "endlinecolor": "#2a3f5f",
             "gridcolor": "white",
             "linecolor": "white",
             "minorgridcolor": "white",
             "startlinecolor": "#2a3f5f"
            },
            "type": "carpet"
           }
          ],
          "choropleth": [
           {
            "colorbar": {
             "outlinewidth": 0,
             "ticks": ""
            },
            "type": "choropleth"
           }
          ],
          "contour": [
           {
            "colorbar": {
             "outlinewidth": 0,
             "ticks": ""
            },
            "colorscale": [
             [
              0,
              "#0d0887"
             ],
             [
              0.1111111111111111,
              "#46039f"
             ],
             [
              0.2222222222222222,
              "#7201a8"
             ],
             [
              0.3333333333333333,
              "#9c179e"
             ],
             [
              0.4444444444444444,
              "#bd3786"
             ],
             [
              0.5555555555555556,
              "#d8576b"
             ],
             [
              0.6666666666666666,
              "#ed7953"
             ],
             [
              0.7777777777777778,
              "#fb9f3a"
             ],
             [
              0.8888888888888888,
              "#fdca26"
             ],
             [
              1,
              "#f0f921"
             ]
            ],
            "type": "contour"
           }
          ],
          "contourcarpet": [
           {
            "colorbar": {
             "outlinewidth": 0,
             "ticks": ""
            },
            "type": "contourcarpet"
           }
          ],
          "heatmap": [
           {
            "colorbar": {
             "outlinewidth": 0,
             "ticks": ""
            },
            "colorscale": [
             [
              0,
              "#0d0887"
             ],
             [
              0.1111111111111111,
              "#46039f"
             ],
             [
              0.2222222222222222,
              "#7201a8"
             ],
             [
              0.3333333333333333,
              "#9c179e"
             ],
             [
              0.4444444444444444,
              "#bd3786"
             ],
             [
              0.5555555555555556,
              "#d8576b"
             ],
             [
              0.6666666666666666,
              "#ed7953"
             ],
             [
              0.7777777777777778,
              "#fb9f3a"
             ],
             [
              0.8888888888888888,
              "#fdca26"
             ],
             [
              1,
              "#f0f921"
             ]
            ],
            "type": "heatmap"
           }
          ],
          "heatmapgl": [
           {
            "colorbar": {
             "outlinewidth": 0,
             "ticks": ""
            },
            "colorscale": [
             [
              0,
              "#0d0887"
             ],
             [
              0.1111111111111111,
              "#46039f"
             ],
             [
              0.2222222222222222,
              "#7201a8"
             ],
             [
              0.3333333333333333,
              "#9c179e"
             ],
             [
              0.4444444444444444,
              "#bd3786"
             ],
             [
              0.5555555555555556,
              "#d8576b"
             ],
             [
              0.6666666666666666,
              "#ed7953"
             ],
             [
              0.7777777777777778,
              "#fb9f3a"
             ],
             [
              0.8888888888888888,
              "#fdca26"
             ],
             [
              1,
              "#f0f921"
             ]
            ],
            "type": "heatmapgl"
           }
          ],
          "histogram": [
           {
            "marker": {
             "colorbar": {
              "outlinewidth": 0,
              "ticks": ""
             }
            },
            "type": "histogram"
           }
          ],
          "histogram2d": [
           {
            "colorbar": {
             "outlinewidth": 0,
             "ticks": ""
            },
            "colorscale": [
             [
              0,
              "#0d0887"
             ],
             [
              0.1111111111111111,
              "#46039f"
             ],
             [
              0.2222222222222222,
              "#7201a8"
             ],
             [
              0.3333333333333333,
              "#9c179e"
             ],
             [
              0.4444444444444444,
              "#bd3786"
             ],
             [
              0.5555555555555556,
              "#d8576b"
             ],
             [
              0.6666666666666666,
              "#ed7953"
             ],
             [
              0.7777777777777778,
              "#fb9f3a"
             ],
             [
              0.8888888888888888,
              "#fdca26"
             ],
             [
              1,
              "#f0f921"
             ]
            ],
            "type": "histogram2d"
           }
          ],
          "histogram2dcontour": [
           {
            "colorbar": {
             "outlinewidth": 0,
             "ticks": ""
            },
            "colorscale": [
             [
              0,
              "#0d0887"
             ],
             [
              0.1111111111111111,
              "#46039f"
             ],
             [
              0.2222222222222222,
              "#7201a8"
             ],
             [
              0.3333333333333333,
              "#9c179e"
             ],
             [
              0.4444444444444444,
              "#bd3786"
             ],
             [
              0.5555555555555556,
              "#d8576b"
             ],
             [
              0.6666666666666666,
              "#ed7953"
             ],
             [
              0.7777777777777778,
              "#fb9f3a"
             ],
             [
              0.8888888888888888,
              "#fdca26"
             ],
             [
              1,
              "#f0f921"
             ]
            ],
            "type": "histogram2dcontour"
           }
          ],
          "mesh3d": [
           {
            "colorbar": {
             "outlinewidth": 0,
             "ticks": ""
            },
            "type": "mesh3d"
           }
          ],
          "parcoords": [
           {
            "line": {
             "colorbar": {
              "outlinewidth": 0,
              "ticks": ""
             }
            },
            "type": "parcoords"
           }
          ],
          "pie": [
           {
            "automargin": true,
            "type": "pie"
           }
          ],
          "scatter": [
           {
            "marker": {
             "colorbar": {
              "outlinewidth": 0,
              "ticks": ""
             }
            },
            "type": "scatter"
           }
          ],
          "scatter3d": [
           {
            "line": {
             "colorbar": {
              "outlinewidth": 0,
              "ticks": ""
             }
            },
            "marker": {
             "colorbar": {
              "outlinewidth": 0,
              "ticks": ""
             }
            },
            "type": "scatter3d"
           }
          ],
          "scattercarpet": [
           {
            "marker": {
             "colorbar": {
              "outlinewidth": 0,
              "ticks": ""
             }
            },
            "type": "scattercarpet"
           }
          ],
          "scattergeo": [
           {
            "marker": {
             "colorbar": {
              "outlinewidth": 0,
              "ticks": ""
             }
            },
            "type": "scattergeo"
           }
          ],
          "scattergl": [
           {
            "marker": {
             "colorbar": {
              "outlinewidth": 0,
              "ticks": ""
             }
            },
            "type": "scattergl"
           }
          ],
          "scattermapbox": [
           {
            "marker": {
             "colorbar": {
              "outlinewidth": 0,
              "ticks": ""
             }
            },
            "type": "scattermapbox"
           }
          ],
          "scatterpolar": [
           {
            "marker": {
             "colorbar": {
              "outlinewidth": 0,
              "ticks": ""
             }
            },
            "type": "scatterpolar"
           }
          ],
          "scatterpolargl": [
           {
            "marker": {
             "colorbar": {
              "outlinewidth": 0,
              "ticks": ""
             }
            },
            "type": "scatterpolargl"
           }
          ],
          "scatterternary": [
           {
            "marker": {
             "colorbar": {
              "outlinewidth": 0,
              "ticks": ""
             }
            },
            "type": "scatterternary"
           }
          ],
          "surface": [
           {
            "colorbar": {
             "outlinewidth": 0,
             "ticks": ""
            },
            "colorscale": [
             [
              0,
              "#0d0887"
             ],
             [
              0.1111111111111111,
              "#46039f"
             ],
             [
              0.2222222222222222,
              "#7201a8"
             ],
             [
              0.3333333333333333,
              "#9c179e"
             ],
             [
              0.4444444444444444,
              "#bd3786"
             ],
             [
              0.5555555555555556,
              "#d8576b"
             ],
             [
              0.6666666666666666,
              "#ed7953"
             ],
             [
              0.7777777777777778,
              "#fb9f3a"
             ],
             [
              0.8888888888888888,
              "#fdca26"
             ],
             [
              1,
              "#f0f921"
             ]
            ],
            "type": "surface"
           }
          ],
          "table": [
           {
            "cells": {
             "fill": {
              "color": "#EBF0F8"
             },
             "line": {
              "color": "white"
             }
            },
            "header": {
             "fill": {
              "color": "#C8D4E3"
             },
             "line": {
              "color": "white"
             }
            },
            "type": "table"
           }
          ]
         },
         "layout": {
          "annotationdefaults": {
           "arrowcolor": "#2a3f5f",
           "arrowhead": 0,
           "arrowwidth": 1
          },
          "coloraxis": {
           "colorbar": {
            "outlinewidth": 0,
            "ticks": ""
           }
          },
          "colorscale": {
           "diverging": [
            [
             0,
             "#8e0152"
            ],
            [
             0.1,
             "#c51b7d"
            ],
            [
             0.2,
             "#de77ae"
            ],
            [
             0.3,
             "#f1b6da"
            ],
            [
             0.4,
             "#fde0ef"
            ],
            [
             0.5,
             "#f7f7f7"
            ],
            [
             0.6,
             "#e6f5d0"
            ],
            [
             0.7,
             "#b8e186"
            ],
            [
             0.8,
             "#7fbc41"
            ],
            [
             0.9,
             "#4d9221"
            ],
            [
             1,
             "#276419"
            ]
           ],
           "sequential": [
            [
             0,
             "#0d0887"
            ],
            [
             0.1111111111111111,
             "#46039f"
            ],
            [
             0.2222222222222222,
             "#7201a8"
            ],
            [
             0.3333333333333333,
             "#9c179e"
            ],
            [
             0.4444444444444444,
             "#bd3786"
            ],
            [
             0.5555555555555556,
             "#d8576b"
            ],
            [
             0.6666666666666666,
             "#ed7953"
            ],
            [
             0.7777777777777778,
             "#fb9f3a"
            ],
            [
             0.8888888888888888,
             "#fdca26"
            ],
            [
             1,
             "#f0f921"
            ]
           ],
           "sequentialminus": [
            [
             0,
             "#0d0887"
            ],
            [
             0.1111111111111111,
             "#46039f"
            ],
            [
             0.2222222222222222,
             "#7201a8"
            ],
            [
             0.3333333333333333,
             "#9c179e"
            ],
            [
             0.4444444444444444,
             "#bd3786"
            ],
            [
             0.5555555555555556,
             "#d8576b"
            ],
            [
             0.6666666666666666,
             "#ed7953"
            ],
            [
             0.7777777777777778,
             "#fb9f3a"
            ],
            [
             0.8888888888888888,
             "#fdca26"
            ],
            [
             1,
             "#f0f921"
            ]
           ]
          },
          "colorway": [
           "#636efa",
           "#EF553B",
           "#00cc96",
           "#ab63fa",
           "#FFA15A",
           "#19d3f3",
           "#FF6692",
           "#B6E880",
           "#FF97FF",
           "#FECB52"
          ],
          "font": {
           "color": "#2a3f5f"
          },
          "geo": {
           "bgcolor": "white",
           "lakecolor": "white",
           "landcolor": "#E5ECF6",
           "showlakes": true,
           "showland": true,
           "subunitcolor": "white"
          },
          "hoverlabel": {
           "align": "left"
          },
          "hovermode": "closest",
          "mapbox": {
           "style": "light"
          },
          "paper_bgcolor": "white",
          "plot_bgcolor": "#E5ECF6",
          "polar": {
           "angularaxis": {
            "gridcolor": "white",
            "linecolor": "white",
            "ticks": ""
           },
           "bgcolor": "#E5ECF6",
           "radialaxis": {
            "gridcolor": "white",
            "linecolor": "white",
            "ticks": ""
           }
          },
          "scene": {
           "xaxis": {
            "backgroundcolor": "#E5ECF6",
            "gridcolor": "white",
            "gridwidth": 2,
            "linecolor": "white",
            "showbackground": true,
            "ticks": "",
            "zerolinecolor": "white"
           },
           "yaxis": {
            "backgroundcolor": "#E5ECF6",
            "gridcolor": "white",
            "gridwidth": 2,
            "linecolor": "white",
            "showbackground": true,
            "ticks": "",
            "zerolinecolor": "white"
           },
           "zaxis": {
            "backgroundcolor": "#E5ECF6",
            "gridcolor": "white",
            "gridwidth": 2,
            "linecolor": "white",
            "showbackground": true,
            "ticks": "",
            "zerolinecolor": "white"
           }
          },
          "shapedefaults": {
           "line": {
            "color": "#2a3f5f"
           }
          },
          "ternary": {
           "aaxis": {
            "gridcolor": "white",
            "linecolor": "white",
            "ticks": ""
           },
           "baxis": {
            "gridcolor": "white",
            "linecolor": "white",
            "ticks": ""
           },
           "bgcolor": "#E5ECF6",
           "caxis": {
            "gridcolor": "white",
            "linecolor": "white",
            "ticks": ""
           }
          },
          "title": {
           "x": 0.05
          },
          "xaxis": {
           "automargin": true,
           "gridcolor": "white",
           "linecolor": "white",
           "ticks": "",
           "title": {
            "standoff": 15
           },
           "zerolinecolor": "white",
           "zerolinewidth": 2
          },
          "yaxis": {
           "automargin": true,
           "gridcolor": "white",
           "linecolor": "white",
           "ticks": "",
           "title": {
            "standoff": 15
           },
           "zerolinecolor": "white",
           "zerolinewidth": 2
          }
         }
        },
        "title": {
         "text": "Single house prediction with linear regression model"
        },
        "xaxis": {
         "anchor": "y",
         "domain": [
          0,
          1
         ],
         "title": {
          "text": "Date and time"
         }
        },
        "yaxis": {
         "anchor": "x",
         "domain": [
          0,
          1
         ],
         "title": {
          "text": "meter value reading"
         }
        }
       }
      },
      "text/html": [
       "<div>                            <div id=\"6239788a-3ffd-4720-9424-d5803433fbea\" class=\"plotly-graph-div\" style=\"height:525px; width:100%;\"></div>            <script type=\"text/javascript\">                require([\"plotly\"], function(Plotly) {                    window.PLOTLYENV=window.PLOTLYENV || {};                                    if (document.getElementById(\"6239788a-3ffd-4720-9424-d5803433fbea\")) {                    Plotly.newPlot(                        \"6239788a-3ffd-4720-9424-d5803433fbea\",                        [{\"mode\": \"markers\", \"name\": \"actual\", \"type\": \"scatter\", \"x\": [\"2015-10-01T05:14:44+00:00\", \"2015-10-01T05:42:34+00:00\", \"2015-10-01T07:02:37+00:00\", \"2015-10-01T07:12:38+00:00\", \"2015-10-01T07:20:36+00:00\", \"2015-10-01T07:23:39+00:00\", \"2015-10-01T08:59:41+00:00\", \"2015-10-01T09:30:40+00:00\", \"2015-10-01T09:34:37+00:00\", \"2015-10-01T10:14:35+00:00\", \"2015-10-01T10:17:32+00:00\", \"2015-10-01T11:23:36+00:00\", \"2015-10-01T12:26:51+00:00\", \"2015-10-01T13:19:40+00:00\", \"2015-10-01T13:44:40+00:00\", \"2015-10-01T13:54:30+00:00\", \"2015-10-01T14:36:34+00:00\", \"2015-10-01T16:24:52+00:00\", \"2015-10-01T17:29:40+00:00\", \"2015-10-01T20:04:40+00:00\", \"2015-10-01T20:20:41+00:00\", \"2015-10-01T21:22:43+00:00\", \"2015-10-01T22:03:44+00:00\", \"2015-10-01T22:11:38+00:00\", \"2015-10-01T22:24:32+00:00\", \"2015-10-01T22:54:31+00:00\", \"2015-10-01T23:02:35+00:00\", \"2015-10-01T23:59:38+00:00\", \"2015-10-02T00:44:49+00:00\", \"2015-10-02T00:57:48+00:00\", \"2015-10-02T02:13:46+00:00\", \"2015-10-02T02:16:44+00:00\", \"2015-10-02T02:33:31+00:00\", \"2015-10-02T02:54:36+00:00\", \"2015-10-02T03:34:32+00:00\", \"2015-10-02T04:07:40+00:00\", \"2015-10-02T04:57:49+00:00\", \"2015-10-02T05:01:51+00:00\", \"2015-10-02T06:14:44+00:00\", \"2015-10-02T06:24:44+00:00\", \"2015-10-02T07:15:34+00:00\", \"2015-10-02T08:35:41+00:00\", \"2015-10-02T08:50:46+00:00\", \"2015-10-02T09:24:51+00:00\", \"2015-10-02T10:44:41+00:00\", \"2015-10-02T11:13:39+00:00\", \"2015-10-02T11:17:37+00:00\", \"2015-10-02T12:07:29+00:00\", \"2015-10-02T13:53:46+00:00\", \"2015-10-02T14:05:45+00:00\", \"2015-10-02T14:44:46+00:00\", \"2015-10-02T15:17:35+00:00\", \"2015-10-02T15:43:31+00:00\", \"2015-10-02T16:24:31+00:00\", \"2015-10-02T16:44:40+00:00\", \"2015-10-02T16:53:40+00:00\", \"2015-10-02T18:26:42+00:00\", \"2015-10-02T19:34:40+00:00\", \"2015-10-02T20:30:31+00:00\", \"2015-10-02T20:42:34+00:00\", \"2015-10-02T23:35:34+00:00\", \"2015-10-03T00:34:34+00:00\", \"2015-10-03T01:14:42+00:00\", \"2015-10-03T01:53:48+00:00\", \"2015-10-03T02:29:47+00:00\", \"2015-10-03T03:04:44+00:00\", \"2015-10-03T03:45:32+00:00\", \"2015-10-03T04:04:38+00:00\", \"2015-10-03T04:22:33+00:00\", \"2015-10-03T04:56:30+00:00\", \"2015-10-03T04:59:31+00:00\", \"2015-10-03T05:19:41+00:00\", \"2015-10-03T05:49:46+00:00\", \"2015-10-03T07:03:44+00:00\", \"2015-10-03T07:32:47+00:00\", \"2015-10-03T08:24:38+00:00\", \"2015-10-03T08:36:37+00:00\", \"2015-10-03T09:47:42+00:00\", \"2015-10-03T10:53:47+00:00\", \"2015-10-03T11:36:43+00:00\", \"2015-10-03T13:18:31+00:00\", \"2015-10-03T14:03:42+00:00\", \"2015-10-03T14:54:56+00:00\", \"2015-10-03T15:01:49+00:00\", \"2015-10-03T15:16:47+00:00\", \"2015-10-03T15:49:44+00:00\", \"2015-10-03T15:57:48+00:00\", \"2015-10-03T16:01:48+00:00\", \"2015-10-03T16:09:42+00:00\", \"2015-10-03T16:24:34+00:00\", \"2015-10-03T16:56:33+00:00\", \"2015-10-03T16:59:35+00:00\", \"2015-10-03T17:25:35+00:00\", \"2015-10-03T17:46:36+00:00\", \"2015-10-03T17:57:42+00:00\", \"2015-10-03T18:07:41+00:00\", \"2015-10-03T18:47:53+00:00\", \"2015-10-03T19:12:48+00:00\", \"2015-10-03T20:17:46+00:00\", \"2015-10-03T20:48:41+00:00\", \"2015-10-03T21:04:36+00:00\", \"2015-10-03T21:33:34+00:00\", \"2015-10-03T22:25:41+00:00\", \"2015-10-03T22:29:43+00:00\", \"2015-10-03T23:13:54+00:00\", \"2015-10-03T23:19:57+00:00\", \"2015-10-04T00:08:45+00:00\", \"2015-10-04T00:09:44+00:00\", \"2015-10-04T00:17:48+00:00\", \"2015-10-04T01:49:36+00:00\", \"2015-10-04T02:33:41+00:00\", \"2015-10-04T02:52:46+00:00\", \"2015-10-04T04:14:49+00:00\", \"2015-10-04T05:55:35+00:00\", \"2015-10-04T06:49:41+00:00\", \"2015-10-04T07:39:55+00:00\", \"2015-10-04T07:50:50+00:00\", \"2015-10-04T08:03:46+00:00\", \"2015-10-04T08:05:48+00:00\", \"2015-10-04T08:14:44+00:00\", \"2015-10-04T08:37:46+00:00\", \"2015-10-04T09:25:42+00:00\", \"2015-10-04T10:12:34+00:00\", \"2015-10-04T12:03:49+00:00\", \"2015-10-04T13:40:39+00:00\", \"2015-10-04T15:17:43+00:00\", \"2015-10-04T15:27:48+00:00\", \"2015-10-04T16:43:46+00:00\", \"2015-10-04T16:54:44+00:00\", \"2015-10-04T17:15:47+00:00\", \"2015-10-04T17:34:35+00:00\", \"2015-10-04T18:29:32+00:00\", \"2015-10-04T18:32:36+00:00\", \"2015-10-04T18:35:36+00:00\", \"2015-10-04T18:54:37+00:00\", \"2015-10-04T19:44:45+00:00\", \"2015-10-04T20:21:55+00:00\", \"2015-10-04T20:37:43+00:00\", \"2015-10-04T20:45:48+00:00\", \"2015-10-04T21:10:45+00:00\", \"2015-10-04T21:24:48+00:00\", \"2015-10-04T21:49:38+00:00\", \"2015-10-04T22:37:33+00:00\", \"2015-10-04T22:49:37+00:00\", \"2015-10-05T00:24:55+00:00\", \"2015-10-05T01:06:46+00:00\", \"2015-10-05T01:44:45+00:00\", \"2015-10-05T02:48:34+00:00\", \"2015-10-05T06:09:35+00:00\", \"2015-10-05T06:59:35+00:00\", \"2015-10-05T07:16:36+00:00\", \"2015-10-05T07:35:40+00:00\", \"2015-10-05T07:37:41+00:00\", \"2015-10-05T09:20:50+00:00\", \"2015-10-05T09:42:46+00:00\", \"2015-10-05T09:47:44+00:00\", \"2015-10-05T10:15:41+00:00\", \"2015-10-05T10:27:37+00:00\", \"2015-10-05T10:43:42+00:00\", \"2015-10-05T10:53:38+00:00\", \"2015-10-05T11:13:34+00:00\", \"2015-10-05T11:57:44+00:00\", \"2015-10-05T12:07:44+00:00\", \"2015-10-05T12:09:42+00:00\", \"2015-10-05T13:14:51+00:00\", \"2015-10-05T13:49:50+00:00\", \"2015-10-05T14:17:48+00:00\", \"2015-10-05T14:42:40+00:00\", \"2015-10-05T14:57:42+00:00\", \"2015-10-05T16:35:48+00:00\", \"2015-10-05T16:50:50+00:00\", \"2015-10-05T17:04:55+00:00\", \"2015-10-05T18:23:50+00:00\", \"2015-10-05T20:36:44+00:00\", \"2015-10-05T21:44:48+00:00\", \"2015-10-05T22:43:48+00:00\", \"2015-10-05T22:59:38+00:00\", \"2015-10-05T23:50:34+00:00\", \"2015-10-06T02:50:50+00:00\", \"2015-10-06T02:59:43+00:00\", \"2015-10-06T03:07:36+00:00\", \"2015-10-06T03:10:37+00:00\", \"2015-10-06T03:27:43+00:00\", \"2015-10-06T04:52:46+00:00\", \"2015-10-06T06:25:46+00:00\", \"2015-10-06T07:45:42+00:00\", \"2015-10-06T08:11:36+00:00\", \"2015-10-06T08:40:38+00:00\", \"2015-10-06T08:49:42+00:00\", \"2015-10-06T09:00:44+00:00\", \"2015-10-06T09:06:45+00:00\", \"2015-10-06T09:56:52+00:00\", \"2015-10-06T10:27:48+00:00\", \"2015-10-06T10:32:51+00:00\", \"2015-10-06T14:34:50+00:00\", \"2015-10-06T16:29:37+00:00\", \"2015-10-06T17:11:42+00:00\", \"2015-10-06T19:06:47+00:00\", \"2015-10-06T19:30:50+00:00\", \"2015-10-06T19:59:39+00:00\", \"2015-10-06T21:44:44+00:00\", \"2015-10-06T21:47:47+00:00\", \"2015-10-06T22:45:57+00:00\", \"2015-10-06T22:47:55+00:00\", \"2015-10-06T23:12:49+00:00\", \"2015-10-06T23:37:49+00:00\", \"2015-10-07T00:38:43+00:00\", \"2015-10-07T01:28:40+00:00\", \"2015-10-07T02:04:47+00:00\", \"2015-10-07T02:54:00+00:00\", \"2015-10-07T03:14:48+00:00\", \"2015-10-07T03:22:49+00:00\", \"2015-10-07T03:33:49+00:00\", \"2015-10-07T04:09:47+00:00\", \"2015-10-07T04:17:40+00:00\", \"2015-10-07T05:02:42+00:00\", \"2015-10-07T05:52:44+00:00\", \"2015-10-07T06:26:52+00:00\", \"2015-10-07T08:06:51+00:00\", \"2015-10-07T08:09:53+00:00\", \"2015-10-07T08:17:50+00:00\", \"2015-10-07T08:24:46+00:00\", \"2015-10-07T08:29:40+00:00\", \"2015-10-07T08:50:44+00:00\", \"2015-10-07T09:27:35+00:00\", \"2015-10-07T09:57:39+00:00\", \"2015-10-07T10:35:50+00:00\", \"2015-10-07T11:39:50+00:00\", \"2015-10-07T12:51:39+00:00\", \"2015-10-07T13:20:38+00:00\", \"2015-10-07T13:23:40+00:00\", \"2015-10-07T13:26:42+00:00\", \"2015-10-07T13:27:41+00:00\", \"2015-10-07T14:07:39+00:00\", \"2015-10-07T14:09:39+00:00\", \"2015-10-07T16:04:47+00:00\", \"2015-10-07T16:15:50+00:00\", \"2015-10-07T17:07:43+00:00\", \"2015-10-07T19:27:56+00:00\", \"2015-10-07T20:17:48+00:00\", \"2015-10-07T20:37:50+00:00\", \"2015-10-07T20:45:54+00:00\", \"2015-10-07T20:56:48+00:00\", \"2015-10-07T21:20:45+00:00\", \"2015-10-07T21:24:45+00:00\", \"2015-10-07T21:34:45+00:00\", \"2015-10-07T22:14:40+00:00\", \"2015-10-07T22:29:42+00:00\", \"2015-10-07T23:03:48+00:00\", \"2015-10-08T00:27:50+00:00\"], \"y\": [93470, 93470, 93470, 93470, 93470, 93470, 93470, 93470, 93470, 93470, 93470, 93472, 93472, 93472, 93472, 93472, 93472, 93474, 93474, 93474, 93474, 93474, 93476, 93476, 93476, 93476, 93476, 93476, 93482, 93482, 93484, 93484, 93484, 93484, 93484, 93484, 93484, 93484, 93484, 93484, 93484, 93486, 93486, 93486, 93486, 93486, 93486, 93486, 93488, 93488, 93488, 93488, 93488, 93488, 93488, 93488, 93488, 93490, 93490, 93490, 93508, 93510, 93516, 93520, 93522, 93522, 93522, 93522, 93522, 93522, 93522, 93522, 93522, 93522, 93522, 93524, 93524, 93524, 93524, 93524, 93524, 93526, 93526, 93526, 93526, 93526, 93526, 93526, 93526, 93526, 93526, 93526, 93532, 93532, 93532, 93532, 93532, 93532, 93532, 93532, 93532, 93532, 93534, 93534, 93538, 93542, 93548, 93548, 93548, 93548, 93548, 93548, 93550, 93550, 93550, 93550, 93550, 93550, 93550, 93550, 93550, 93552, 93552, 93552, 93560, 93568, 93568, 93568, 93568, 93568, 93568, 93570, 93570, 93570, 93570, 93570, 93570, 93570, 93570, 93570, 93570, 93570, 93570, 93570, 93588, 93588, 93588, 93588, 93590, 93590, 93590, 93590, 93590, 93590, 93592, 93592, 93592, 93592, 93592, 93592, 93592, 93592, 93592, 93592, 93592, 93592, 93592, 93592, 93592, 93594, 93594, 93596, 93600, 93602, 93608, 93608, 93608, 93614, 93624, 93624, 93624, 93624, 93624, 93624, 93624, 93626, 93626, 93626, 93626, 93626, 93626, 93626, 93626, 93626, 93632, 93636, 93636, 93636, 93636, 93636, 93638, 93638, 93638, 93638, 93638, 93638, 93638, 93648, 93654, 93656, 93656, 93656, 93656, 93656, 93656, 93656, 93656, 93656, 93656, 93656, 93658, 93658, 93658, 93658, 93658, 93658, 93658, 93658, 93658, 93668, 93670, 93670, 93670, 93670, 93670, 93670, 93670, 93678, 93678, 93678, 93680, 93680, 93680, 93680, 93680, 93680, 93680, 93680, 93680, 93686]}, {\"mode\": \"markers\", \"name\": \"predictions\", \"type\": \"scatter\", \"x\": [\"2015-10-01T12:00:00+00:00\", \"2015-10-01T13:00:00+00:00\", \"2015-10-01T14:00:00+00:00\", \"2015-10-01T15:00:00+00:00\", \"2015-10-01T16:00:00+00:00\", \"2015-10-01T17:00:00+00:00\", \"2015-10-01T18:00:00+00:00\", \"2015-10-01T19:00:00+00:00\", \"2015-10-01T20:00:00+00:00\", \"2015-10-01T21:00:00+00:00\", \"2015-10-01T22:00:00+00:00\", \"2015-10-01T23:00:00+00:00\", \"2015-10-02T00:00:00+00:00\", \"2015-10-02T01:00:00+00:00\", \"2015-10-02T02:00:00+00:00\", \"2015-10-02T03:00:00+00:00\", \"2015-10-02T04:00:00+00:00\", \"2015-10-02T05:00:00+00:00\", \"2015-10-02T06:00:00+00:00\", \"2015-10-02T07:00:00+00:00\", \"2015-10-02T08:00:00+00:00\", \"2015-10-02T09:00:00+00:00\", \"2015-10-02T10:00:00+00:00\", \"2015-10-02T11:00:00+00:00\", \"2015-10-02T12:00:00+00:00\", \"2015-10-02T13:00:00+00:00\", \"2015-10-02T14:00:00+00:00\", \"2015-10-02T15:00:00+00:00\", \"2015-10-02T16:00:00+00:00\", \"2015-10-02T17:00:00+00:00\", \"2015-10-02T18:00:00+00:00\", \"2015-10-02T19:00:00+00:00\", \"2015-10-02T20:00:00+00:00\", \"2015-10-02T21:00:00+00:00\", \"2015-10-02T22:00:00+00:00\", \"2015-10-02T23:00:00+00:00\", \"2015-10-03T00:00:00+00:00\", \"2015-10-03T01:00:00+00:00\", \"2015-10-03T02:00:00+00:00\", \"2015-10-03T03:00:00+00:00\", \"2015-10-03T04:00:00+00:00\", \"2015-10-03T05:00:00+00:00\", \"2015-10-03T06:00:00+00:00\", \"2015-10-03T07:00:00+00:00\", \"2015-10-03T08:00:00+00:00\", \"2015-10-03T09:00:00+00:00\", \"2015-10-03T10:00:00+00:00\", \"2015-10-03T11:00:00+00:00\", \"2015-10-03T12:00:00+00:00\", \"2015-10-03T13:00:00+00:00\", \"2015-10-03T14:00:00+00:00\", \"2015-10-03T15:00:00+00:00\", \"2015-10-03T16:00:00+00:00\", \"2015-10-03T17:00:00+00:00\", \"2015-10-03T18:00:00+00:00\", \"2015-10-03T19:00:00+00:00\", \"2015-10-03T20:00:00+00:00\", \"2015-10-03T21:00:00+00:00\", \"2015-10-03T22:00:00+00:00\", \"2015-10-03T23:00:00+00:00\", \"2015-10-04T00:00:00+00:00\", \"2015-10-04T01:00:00+00:00\", \"2015-10-04T02:00:00+00:00\", \"2015-10-04T03:00:00+00:00\", \"2015-10-04T04:00:00+00:00\", \"2015-10-04T05:00:00+00:00\", \"2015-10-04T06:00:00+00:00\", \"2015-10-04T07:00:00+00:00\", \"2015-10-04T08:00:00+00:00\", \"2015-10-04T09:00:00+00:00\", \"2015-10-04T10:00:00+00:00\", \"2015-10-04T11:00:00+00:00\", \"2015-10-04T12:00:00+00:00\", \"2015-10-04T13:00:00+00:00\", \"2015-10-04T14:00:00+00:00\", \"2015-10-04T15:00:00+00:00\", \"2015-10-04T16:00:00+00:00\", \"2015-10-04T17:00:00+00:00\", \"2015-10-04T18:00:00+00:00\", \"2015-10-04T19:00:00+00:00\", \"2015-10-04T20:00:00+00:00\", \"2015-10-04T21:00:00+00:00\", \"2015-10-04T22:00:00+00:00\", \"2015-10-04T23:00:00+00:00\", \"2015-10-05T00:00:00+00:00\", \"2015-10-05T01:00:00+00:00\", \"2015-10-05T02:00:00+00:00\", \"2015-10-05T03:00:00+00:00\", \"2015-10-05T04:00:00+00:00\", \"2015-10-05T05:00:00+00:00\", \"2015-10-05T06:00:00+00:00\", \"2015-10-05T07:00:00+00:00\", \"2015-10-05T08:00:00+00:00\", \"2015-10-05T09:00:00+00:00\", \"2015-10-05T10:00:00+00:00\", \"2015-10-05T11:00:00+00:00\", \"2015-10-05T12:00:00+00:00\", \"2015-10-05T13:00:00+00:00\", \"2015-10-05T14:00:00+00:00\", \"2015-10-05T15:00:00+00:00\", \"2015-10-05T16:00:00+00:00\", \"2015-10-05T17:00:00+00:00\", \"2015-10-05T18:00:00+00:00\", \"2015-10-05T19:00:00+00:00\", \"2015-10-05T20:00:00+00:00\", \"2015-10-05T21:00:00+00:00\", \"2015-10-05T22:00:00+00:00\", \"2015-10-05T23:00:00+00:00\", \"2015-10-06T00:00:00+00:00\", \"2015-10-06T01:00:00+00:00\", \"2015-10-06T02:00:00+00:00\", \"2015-10-06T03:00:00+00:00\", \"2015-10-06T04:00:00+00:00\", \"2015-10-06T05:00:00+00:00\", \"2015-10-06T06:00:00+00:00\", \"2015-10-06T07:00:00+00:00\", \"2015-10-06T08:00:00+00:00\", \"2015-10-06T09:00:00+00:00\", \"2015-10-06T10:00:00+00:00\", \"2015-10-06T11:00:00+00:00\", \"2015-10-06T12:00:00+00:00\", \"2015-10-06T13:00:00+00:00\", \"2015-10-06T14:00:00+00:00\", \"2015-10-06T15:00:00+00:00\", \"2015-10-06T16:00:00+00:00\", \"2015-10-06T17:00:00+00:00\", \"2015-10-06T18:00:00+00:00\", \"2015-10-06T19:00:00+00:00\", \"2015-10-06T20:00:00+00:00\", \"2015-10-06T21:00:00+00:00\", \"2015-10-06T22:00:00+00:00\", \"2015-10-06T23:00:00+00:00\", \"2015-10-07T00:00:00+00:00\", \"2015-10-07T01:00:00+00:00\", \"2015-10-07T02:00:00+00:00\", \"2015-10-07T03:00:00+00:00\", \"2015-10-07T04:00:00+00:00\", \"2015-10-07T05:00:00+00:00\", \"2015-10-07T06:00:00+00:00\", \"2015-10-07T07:00:00+00:00\", \"2015-10-07T08:00:00+00:00\", \"2015-10-07T09:00:00+00:00\", \"2015-10-07T10:00:00+00:00\", \"2015-10-07T11:00:00+00:00\", \"2015-10-07T12:00:00+00:00\", \"2015-10-07T13:00:00+00:00\", \"2015-10-07T14:00:00+00:00\", \"2015-10-07T15:00:00+00:00\", \"2015-10-07T16:00:00+00:00\", \"2015-10-07T17:00:00+00:00\", \"2015-10-07T18:00:00+00:00\", \"2015-10-07T19:00:00+00:00\", \"2015-10-07T20:00:00+00:00\", \"2015-10-07T21:00:00+00:00\", \"2015-10-07T22:00:00+00:00\", \"2015-10-07T23:00:00+00:00\", \"2015-10-08T00:00:00+00:00\"], \"y\": [93474.0955205866, 93473.34759187172, 93473.19252608504, 93473.08895309873, 93473.06555276334, 93475.53544984873, 93475.08395259795, 93474.95463321146, 93474.89114655061, 93474.78342862942, 93474.74207165599, 93477.64059387888, 93477.88523252629, 93486.54980432859, 93484.3265161179, 93486.54858266837, 93485.83509811216, 93485.7596486398, 93485.47014417862, 93485.36242625742, 93485.321069284, 93488.21959150689, 93487.471662792, 93487.31659700532, 93487.21302401902, 93487.18962368363, 93490.01280663974, 93489.26487792486, 93489.10981213818, 93489.00623915187, 93488.98283881649, 93488.86614257627, 93491.76466479918, 93491.01673608429, 93490.86167029761, 93490.75809731129, 93513.60562021664, 93513.78131347, 93526.31899697614, 93526.46044100488, 93524.48888928266, 93523.98920726925, 93523.81990555544, 93523.51310479098, 93523.321069284, 93526.21959150689, 93525.471662792, 93525.31659700532, 93525.21302401902, 93525.18962368363, 93525.07292744343, 93527.97144966632, 93527.22352095143, 93527.06845516476, 93535.78451976742, 93533.64140420765, 93533.1835815277, 93532.95557651564, 93532.96808945634, 93535.64059387888, 93546.70487011527, 93554.18960588952, 93550.91861949762, 93550.2537358706, 93549.94204549301, 93552.33309059699, 93551.5802362791, 93551.4509168926, 93551.38743023176, 93551.27971231057, 93554.17823453347, 93553.43030581858, 93553.2752400319, 93553.1716670456, 93564.90778349551, 93561.96480028945, 93571.81498136542, 93569.88419923106, 93569.56281915754, 93572.07146556364, 93571.05809305771, 93570.90302727104, 93570.79945428473, 93570.77605394935, 93571.65192507142, 93594.88990802836, 93591.15728855875, 93590.32426986775, 93590.08374570754, 93589.44514020428, 93589.40378323085, 93591.69996823781, 93591.442476282, 93591.27971231057, 93593.6294175542, 93593.62792679465, 93593.29240429869, 93593.19839126256, 93593.09205498634, 93593.05668355891, 93592.99021349657, 93595.53544984873, 93598.02383179427, 93603.06769905897, 93601.47736010196, 93603.666601867, 93611.92826681747, 93609.6398062159, 93618.89671953302, 93616.48263834881, 93616.15402484976, 93627.85464419203, 93626.39632952008, 93625.86567443285, 93625.40378323085, 93625.36242625742, 93628.26094848033, 93627.51301976544, 93627.35795397876, 93627.25438099244, 93627.23098065706, 93627.11428441685, 93627.07292744343, 93634.04419641115, 93633.35443449057, 93638.12204317433, 93637.26040564619, 93637.04312384663, 93636.95750749836, 93636.78342862942, 93639.32866498159, 93638.87716773081, 93639.7404157066, 93639.67692904576, 93654.26860710619, 93661.9839686126, 93659.371006076, 93658.26730232107, 93658.04111808614, 93657.65480500551, 93657.35873891738, 93659.67077452764, 93659.66928376807, 93659.33376127211, 93659.239748236, 93659.13341195976, 93676.50234591123, 93672.60805813456, 93671.73623254959, 93671.30870629879, 93683.11456277617, 93679.81820721243, 93679.30318016933, 93681.71786854161, 93681.45337911334, 93680.8487405275, 93681.72486170338]}, {\"hovertemplate\": \"<b>OLS trendline</b><br>y = 0.000394991 * x + -476790<br>R<sup>2</sup>=0.990452<br><br>x=%{x}<br>y=%{y} <b>(trend)</b><extra></extra>\", \"legendgroup\": \"\", \"line\": {\"color\": \"Yellow\"}, \"marker\": {\"color\": \"#636efa\", \"symbol\": \"circle\"}, \"mode\": \"lines\", \"name\": \"predictions\", \"showlegend\": false, \"type\": \"scatter\", \"x\": [\"2015-10-01T12:00:00+00:00\", \"2015-10-01T13:00:00+00:00\", \"2015-10-01T14:00:00+00:00\", \"2015-10-01T15:00:00+00:00\", \"2015-10-01T16:00:00+00:00\", \"2015-10-01T17:00:00+00:00\", \"2015-10-01T18:00:00+00:00\", \"2015-10-01T19:00:00+00:00\", \"2015-10-01T20:00:00+00:00\", \"2015-10-01T21:00:00+00:00\", \"2015-10-01T22:00:00+00:00\", \"2015-10-01T23:00:00+00:00\", \"2015-10-02T00:00:00+00:00\", \"2015-10-02T01:00:00+00:00\", \"2015-10-02T02:00:00+00:00\", \"2015-10-02T03:00:00+00:00\", \"2015-10-02T04:00:00+00:00\", \"2015-10-02T05:00:00+00:00\", \"2015-10-02T06:00:00+00:00\", \"2015-10-02T07:00:00+00:00\", \"2015-10-02T08:00:00+00:00\", \"2015-10-02T09:00:00+00:00\", \"2015-10-02T10:00:00+00:00\", \"2015-10-02T11:00:00+00:00\", \"2015-10-02T12:00:00+00:00\", \"2015-10-02T13:00:00+00:00\", \"2015-10-02T14:00:00+00:00\", \"2015-10-02T15:00:00+00:00\", \"2015-10-02T16:00:00+00:00\", \"2015-10-02T17:00:00+00:00\", \"2015-10-02T18:00:00+00:00\", \"2015-10-02T19:00:00+00:00\", \"2015-10-02T20:00:00+00:00\", \"2015-10-02T21:00:00+00:00\", \"2015-10-02T22:00:00+00:00\", \"2015-10-02T23:00:00+00:00\", \"2015-10-03T00:00:00+00:00\", \"2015-10-03T01:00:00+00:00\", \"2015-10-03T02:00:00+00:00\", \"2015-10-03T03:00:00+00:00\", \"2015-10-03T04:00:00+00:00\", \"2015-10-03T05:00:00+00:00\", \"2015-10-03T06:00:00+00:00\", \"2015-10-03T07:00:00+00:00\", \"2015-10-03T08:00:00+00:00\", \"2015-10-03T09:00:00+00:00\", \"2015-10-03T10:00:00+00:00\", \"2015-10-03T11:00:00+00:00\", \"2015-10-03T12:00:00+00:00\", \"2015-10-03T13:00:00+00:00\", \"2015-10-03T14:00:00+00:00\", \"2015-10-03T15:00:00+00:00\", \"2015-10-03T16:00:00+00:00\", \"2015-10-03T17:00:00+00:00\", \"2015-10-03T18:00:00+00:00\", \"2015-10-03T19:00:00+00:00\", \"2015-10-03T20:00:00+00:00\", \"2015-10-03T21:00:00+00:00\", \"2015-10-03T22:00:00+00:00\", \"2015-10-03T23:00:00+00:00\", \"2015-10-04T00:00:00+00:00\", \"2015-10-04T01:00:00+00:00\", \"2015-10-04T02:00:00+00:00\", \"2015-10-04T03:00:00+00:00\", \"2015-10-04T04:00:00+00:00\", \"2015-10-04T05:00:00+00:00\", \"2015-10-04T06:00:00+00:00\", \"2015-10-04T07:00:00+00:00\", \"2015-10-04T08:00:00+00:00\", \"2015-10-04T09:00:00+00:00\", \"2015-10-04T10:00:00+00:00\", \"2015-10-04T11:00:00+00:00\", \"2015-10-04T12:00:00+00:00\", \"2015-10-04T13:00:00+00:00\", \"2015-10-04T14:00:00+00:00\", \"2015-10-04T15:00:00+00:00\", \"2015-10-04T16:00:00+00:00\", \"2015-10-04T17:00:00+00:00\", \"2015-10-04T18:00:00+00:00\", \"2015-10-04T19:00:00+00:00\", \"2015-10-04T20:00:00+00:00\", \"2015-10-04T21:00:00+00:00\", \"2015-10-04T22:00:00+00:00\", \"2015-10-04T23:00:00+00:00\", \"2015-10-05T00:00:00+00:00\", \"2015-10-05T01:00:00+00:00\", \"2015-10-05T02:00:00+00:00\", \"2015-10-05T03:00:00+00:00\", \"2015-10-05T04:00:00+00:00\", \"2015-10-05T05:00:00+00:00\", \"2015-10-05T06:00:00+00:00\", \"2015-10-05T07:00:00+00:00\", \"2015-10-05T08:00:00+00:00\", \"2015-10-05T09:00:00+00:00\", \"2015-10-05T10:00:00+00:00\", \"2015-10-05T11:00:00+00:00\", \"2015-10-05T12:00:00+00:00\", \"2015-10-05T13:00:00+00:00\", \"2015-10-05T14:00:00+00:00\", \"2015-10-05T15:00:00+00:00\", \"2015-10-05T16:00:00+00:00\", \"2015-10-05T17:00:00+00:00\", \"2015-10-05T18:00:00+00:00\", \"2015-10-05T19:00:00+00:00\", \"2015-10-05T20:00:00+00:00\", \"2015-10-05T21:00:00+00:00\", \"2015-10-05T22:00:00+00:00\", \"2015-10-05T23:00:00+00:00\", \"2015-10-06T00:00:00+00:00\", \"2015-10-06T01:00:00+00:00\", \"2015-10-06T02:00:00+00:00\", \"2015-10-06T03:00:00+00:00\", \"2015-10-06T04:00:00+00:00\", \"2015-10-06T05:00:00+00:00\", \"2015-10-06T06:00:00+00:00\", \"2015-10-06T07:00:00+00:00\", \"2015-10-06T08:00:00+00:00\", \"2015-10-06T09:00:00+00:00\", \"2015-10-06T10:00:00+00:00\", \"2015-10-06T11:00:00+00:00\", \"2015-10-06T12:00:00+00:00\", \"2015-10-06T13:00:00+00:00\", \"2015-10-06T14:00:00+00:00\", \"2015-10-06T15:00:00+00:00\", \"2015-10-06T16:00:00+00:00\", \"2015-10-06T17:00:00+00:00\", \"2015-10-06T18:00:00+00:00\", \"2015-10-06T19:00:00+00:00\", \"2015-10-06T20:00:00+00:00\", \"2015-10-06T21:00:00+00:00\", \"2015-10-06T22:00:00+00:00\", \"2015-10-06T23:00:00+00:00\", \"2015-10-07T00:00:00+00:00\", \"2015-10-07T01:00:00+00:00\", \"2015-10-07T02:00:00+00:00\", \"2015-10-07T03:00:00+00:00\", \"2015-10-07T04:00:00+00:00\", \"2015-10-07T05:00:00+00:00\", \"2015-10-07T06:00:00+00:00\", \"2015-10-07T07:00:00+00:00\", \"2015-10-07T08:00:00+00:00\", \"2015-10-07T09:00:00+00:00\", \"2015-10-07T10:00:00+00:00\", \"2015-10-07T11:00:00+00:00\", \"2015-10-07T12:00:00+00:00\", \"2015-10-07T13:00:00+00:00\", \"2015-10-07T14:00:00+00:00\", \"2015-10-07T15:00:00+00:00\", \"2015-10-07T16:00:00+00:00\", \"2015-10-07T17:00:00+00:00\", \"2015-10-07T18:00:00+00:00\", \"2015-10-07T19:00:00+00:00\", \"2015-10-07T20:00:00+00:00\", \"2015-10-07T21:00:00+00:00\", \"2015-10-07T22:00:00+00:00\", \"2015-10-07T23:00:00+00:00\", \"2015-10-08T00:00:00+00:00\"], \"xaxis\": \"x\", \"y\": [93458.9446561453, 93460.36662437127, 93461.78859259712, 93463.21056082309, 93464.63252904895, 93466.05449727492, 93467.47646550077, 93468.89843372663, 93470.3204019526, 93471.74237017846, 93473.16433840443, 93474.58630663028, 93476.00827485626, 93477.43024308211, 93478.85221130808, 93480.27417953394, 93481.69614775991, 93483.11811598577, 93484.54008421174, 93485.9620524376, 93487.38402066345, 93488.80598888942, 93490.22795711528, 93491.64992534125, 93493.0718935671, 93494.49386179307, 93495.91583001893, 93497.3377982449, 93498.75976647076, 93500.18173469673, 93501.60370292258, 93503.02567114844, 93504.44763937441, 93505.86960760027, 93507.29157582624, 93508.7135440521, 93510.13551227807, 93511.55748050392, 93512.9794487299, 93514.40141695575, 93515.82338518172, 93517.24535340758, 93518.66732163343, 93520.0892898594, 93521.51125808526, 93522.93322631123, 93524.35519453709, 93525.77716276306, 93527.19913098891, 93528.62109921488, 93530.04306744074, 93531.46503566671, 93532.88700389257, 93534.30897211842, 93535.7309403444, 93537.15290857025, 93538.57487679622, 93539.99684502208, 93541.41881324805, 93542.8407814739, 93544.26274969988, 93545.68471792573, 93547.1066861517, 93548.52865437756, 93549.95062260341, 93551.37259082939, 93552.79455905524, 93554.21652728121, 93555.63849550707, 93557.06046373304, 93558.4824319589, 93559.90440018487, 93561.32636841072, 93562.7483366367, 93564.17030486255, 93565.59227308852, 93567.01424131438, 93568.43620954023, 93569.8581777662, 93571.28014599206, 93572.70211421803, 93574.12408244389, 93575.54605066986, 93576.96801889571, 93578.38998712169, 93579.81195534754, 93581.23392357351, 93582.65589179937, 93584.07786002522, 93585.4998282512, 93586.92179647705, 93588.34376470302, 93589.76573292888, 93591.18770115485, 93592.6096693807, 93594.03163760668, 93595.45360583253, 93596.8755740585, 93598.29754228436, 93599.71951051021, 93601.14147873619, 93602.56344696204, 93603.98541518801, 93605.40738341387, 93606.82935163984, 93608.2513198657, 93609.67328809167, 93611.09525631752, 93612.5172245435, 93613.93919276935, 93615.3611609952, 93616.78312922118, 93618.20509744703, 93619.627065673, 93621.04903389886, 93622.47100212483, 93623.89297035069, 93625.31493857666, 93626.73690680251, 93628.15887502849, 93629.58084325434, 93631.0028114802, 93632.42477970617, 93633.84674793202, 93635.268716158, 93636.69068438385, 93638.11265260982, 93639.53462083568, 93640.95658906165, 93642.3785572875, 93643.80052551348, 93645.22249373933, 93646.6444619653, 93648.06643019116, 93649.48839841702, 93650.91036664299, 93652.33233486884, 93653.75430309481, 93655.17627132067, 93656.59823954664, 93658.0202077725, 93659.44217599847, 93660.86414422432, 93662.2861124503, 93663.70808067615, 93665.130048902, 93666.55201712798, 93667.97398535383, 93669.3959535798, 93670.81792180566, 93672.23989003163, 93673.66185825749, 93675.08382648346, 93676.50579470932, 93677.92776293529, 93679.34973116114, 93680.771699387], \"yaxis\": \"y\"}],                        {\"legend\": {\"title\": {\"text\": \"Data Category\"}, \"tracegroupgap\": 0}, \"margin\": {\"t\": 60}, \"showlegend\": true, \"template\": {\"data\": {\"bar\": [{\"error_x\": {\"color\": \"#2a3f5f\"}, \"error_y\": {\"color\": \"#2a3f5f\"}, \"marker\": {\"line\": {\"color\": \"#E5ECF6\", \"width\": 0.5}}, \"type\": \"bar\"}], \"barpolar\": [{\"marker\": {\"line\": {\"color\": \"#E5ECF6\", \"width\": 0.5}}, \"type\": \"barpolar\"}], \"carpet\": [{\"aaxis\": {\"endlinecolor\": \"#2a3f5f\", \"gridcolor\": \"white\", \"linecolor\": \"white\", \"minorgridcolor\": \"white\", \"startlinecolor\": \"#2a3f5f\"}, \"baxis\": {\"endlinecolor\": \"#2a3f5f\", \"gridcolor\": \"white\", \"linecolor\": \"white\", \"minorgridcolor\": \"white\", \"startlinecolor\": \"#2a3f5f\"}, \"type\": \"carpet\"}], \"choropleth\": [{\"colorbar\": {\"outlinewidth\": 0, \"ticks\": \"\"}, \"type\": \"choropleth\"}], \"contour\": [{\"colorbar\": {\"outlinewidth\": 0, \"ticks\": \"\"}, \"colorscale\": [[0.0, \"#0d0887\"], [0.1111111111111111, \"#46039f\"], [0.2222222222222222, \"#7201a8\"], [0.3333333333333333, \"#9c179e\"], [0.4444444444444444, \"#bd3786\"], [0.5555555555555556, \"#d8576b\"], [0.6666666666666666, \"#ed7953\"], [0.7777777777777778, \"#fb9f3a\"], [0.8888888888888888, \"#fdca26\"], [1.0, \"#f0f921\"]], \"type\": \"contour\"}], \"contourcarpet\": [{\"colorbar\": {\"outlinewidth\": 0, \"ticks\": \"\"}, \"type\": \"contourcarpet\"}], \"heatmap\": [{\"colorbar\": {\"outlinewidth\": 0, \"ticks\": \"\"}, \"colorscale\": [[0.0, \"#0d0887\"], [0.1111111111111111, \"#46039f\"], [0.2222222222222222, \"#7201a8\"], [0.3333333333333333, \"#9c179e\"], [0.4444444444444444, \"#bd3786\"], [0.5555555555555556, \"#d8576b\"], [0.6666666666666666, \"#ed7953\"], [0.7777777777777778, \"#fb9f3a\"], [0.8888888888888888, \"#fdca26\"], [1.0, \"#f0f921\"]], \"type\": \"heatmap\"}], \"heatmapgl\": [{\"colorbar\": {\"outlinewidth\": 0, \"ticks\": \"\"}, \"colorscale\": [[0.0, \"#0d0887\"], [0.1111111111111111, \"#46039f\"], [0.2222222222222222, \"#7201a8\"], [0.3333333333333333, \"#9c179e\"], [0.4444444444444444, \"#bd3786\"], [0.5555555555555556, \"#d8576b\"], [0.6666666666666666, \"#ed7953\"], [0.7777777777777778, \"#fb9f3a\"], [0.8888888888888888, \"#fdca26\"], [1.0, \"#f0f921\"]], \"type\": \"heatmapgl\"}], \"histogram\": [{\"marker\": {\"colorbar\": {\"outlinewidth\": 0, \"ticks\": \"\"}}, \"type\": \"histogram\"}], \"histogram2d\": [{\"colorbar\": {\"outlinewidth\": 0, \"ticks\": \"\"}, \"colorscale\": [[0.0, \"#0d0887\"], [0.1111111111111111, \"#46039f\"], [0.2222222222222222, \"#7201a8\"], [0.3333333333333333, \"#9c179e\"], [0.4444444444444444, \"#bd3786\"], [0.5555555555555556, \"#d8576b\"], [0.6666666666666666, \"#ed7953\"], [0.7777777777777778, \"#fb9f3a\"], [0.8888888888888888, \"#fdca26\"], [1.0, \"#f0f921\"]], \"type\": \"histogram2d\"}], \"histogram2dcontour\": [{\"colorbar\": {\"outlinewidth\": 0, \"ticks\": \"\"}, \"colorscale\": [[0.0, \"#0d0887\"], [0.1111111111111111, \"#46039f\"], [0.2222222222222222, \"#7201a8\"], [0.3333333333333333, \"#9c179e\"], [0.4444444444444444, \"#bd3786\"], [0.5555555555555556, \"#d8576b\"], [0.6666666666666666, \"#ed7953\"], [0.7777777777777778, \"#fb9f3a\"], [0.8888888888888888, \"#fdca26\"], [1.0, \"#f0f921\"]], \"type\": \"histogram2dcontour\"}], \"mesh3d\": [{\"colorbar\": {\"outlinewidth\": 0, \"ticks\": \"\"}, \"type\": \"mesh3d\"}], \"parcoords\": [{\"line\": {\"colorbar\": {\"outlinewidth\": 0, \"ticks\": \"\"}}, \"type\": \"parcoords\"}], \"pie\": [{\"automargin\": true, \"type\": \"pie\"}], \"scatter\": [{\"marker\": {\"colorbar\": {\"outlinewidth\": 0, \"ticks\": \"\"}}, \"type\": \"scatter\"}], \"scatter3d\": [{\"line\": {\"colorbar\": {\"outlinewidth\": 0, \"ticks\": \"\"}}, \"marker\": {\"colorbar\": {\"outlinewidth\": 0, \"ticks\": \"\"}}, \"type\": \"scatter3d\"}], \"scattercarpet\": [{\"marker\": {\"colorbar\": {\"outlinewidth\": 0, \"ticks\": \"\"}}, \"type\": \"scattercarpet\"}], \"scattergeo\": [{\"marker\": {\"colorbar\": {\"outlinewidth\": 0, \"ticks\": \"\"}}, \"type\": \"scattergeo\"}], \"scattergl\": [{\"marker\": {\"colorbar\": {\"outlinewidth\": 0, \"ticks\": \"\"}}, \"type\": \"scattergl\"}], \"scattermapbox\": [{\"marker\": {\"colorbar\": {\"outlinewidth\": 0, \"ticks\": \"\"}}, \"type\": \"scattermapbox\"}], \"scatterpolar\": [{\"marker\": {\"colorbar\": {\"outlinewidth\": 0, \"ticks\": \"\"}}, \"type\": \"scatterpolar\"}], \"scatterpolargl\": [{\"marker\": {\"colorbar\": {\"outlinewidth\": 0, \"ticks\": \"\"}}, \"type\": \"scatterpolargl\"}], \"scatterternary\": [{\"marker\": {\"colorbar\": {\"outlinewidth\": 0, \"ticks\": \"\"}}, \"type\": \"scatterternary\"}], \"surface\": [{\"colorbar\": {\"outlinewidth\": 0, \"ticks\": \"\"}, \"colorscale\": [[0.0, \"#0d0887\"], [0.1111111111111111, \"#46039f\"], [0.2222222222222222, \"#7201a8\"], [0.3333333333333333, \"#9c179e\"], [0.4444444444444444, \"#bd3786\"], [0.5555555555555556, \"#d8576b\"], [0.6666666666666666, \"#ed7953\"], [0.7777777777777778, \"#fb9f3a\"], [0.8888888888888888, \"#fdca26\"], [1.0, \"#f0f921\"]], \"type\": \"surface\"}], \"table\": [{\"cells\": {\"fill\": {\"color\": \"#EBF0F8\"}, \"line\": {\"color\": \"white\"}}, \"header\": {\"fill\": {\"color\": \"#C8D4E3\"}, \"line\": {\"color\": \"white\"}}, \"type\": \"table\"}]}, \"layout\": {\"annotationdefaults\": {\"arrowcolor\": \"#2a3f5f\", \"arrowhead\": 0, \"arrowwidth\": 1}, \"coloraxis\": {\"colorbar\": {\"outlinewidth\": 0, \"ticks\": \"\"}}, \"colorscale\": {\"diverging\": [[0, \"#8e0152\"], [0.1, \"#c51b7d\"], [0.2, \"#de77ae\"], [0.3, \"#f1b6da\"], [0.4, \"#fde0ef\"], [0.5, \"#f7f7f7\"], [0.6, \"#e6f5d0\"], [0.7, \"#b8e186\"], [0.8, \"#7fbc41\"], [0.9, \"#4d9221\"], [1, \"#276419\"]], \"sequential\": [[0.0, \"#0d0887\"], [0.1111111111111111, \"#46039f\"], [0.2222222222222222, \"#7201a8\"], [0.3333333333333333, \"#9c179e\"], [0.4444444444444444, \"#bd3786\"], [0.5555555555555556, \"#d8576b\"], [0.6666666666666666, \"#ed7953\"], [0.7777777777777778, \"#fb9f3a\"], [0.8888888888888888, \"#fdca26\"], [1.0, \"#f0f921\"]], \"sequentialminus\": [[0.0, \"#0d0887\"], [0.1111111111111111, \"#46039f\"], [0.2222222222222222, \"#7201a8\"], [0.3333333333333333, \"#9c179e\"], [0.4444444444444444, \"#bd3786\"], [0.5555555555555556, \"#d8576b\"], [0.6666666666666666, \"#ed7953\"], [0.7777777777777778, \"#fb9f3a\"], [0.8888888888888888, \"#fdca26\"], [1.0, \"#f0f921\"]]}, \"colorway\": [\"#636efa\", \"#EF553B\", \"#00cc96\", \"#ab63fa\", \"#FFA15A\", \"#19d3f3\", \"#FF6692\", \"#B6E880\", \"#FF97FF\", \"#FECB52\"], \"font\": {\"color\": \"#2a3f5f\"}, \"geo\": {\"bgcolor\": \"white\", \"lakecolor\": \"white\", \"landcolor\": \"#E5ECF6\", \"showlakes\": true, \"showland\": true, \"subunitcolor\": \"white\"}, \"hoverlabel\": {\"align\": \"left\"}, \"hovermode\": \"closest\", \"mapbox\": {\"style\": \"light\"}, \"paper_bgcolor\": \"white\", \"plot_bgcolor\": \"#E5ECF6\", \"polar\": {\"angularaxis\": {\"gridcolor\": \"white\", \"linecolor\": \"white\", \"ticks\": \"\"}, \"bgcolor\": \"#E5ECF6\", \"radialaxis\": {\"gridcolor\": \"white\", \"linecolor\": \"white\", \"ticks\": \"\"}}, \"scene\": {\"xaxis\": {\"backgroundcolor\": \"#E5ECF6\", \"gridcolor\": \"white\", \"gridwidth\": 2, \"linecolor\": \"white\", \"showbackground\": true, \"ticks\": \"\", \"zerolinecolor\": \"white\"}, \"yaxis\": {\"backgroundcolor\": \"#E5ECF6\", \"gridcolor\": \"white\", \"gridwidth\": 2, \"linecolor\": \"white\", \"showbackground\": true, \"ticks\": \"\", \"zerolinecolor\": \"white\"}, \"zaxis\": {\"backgroundcolor\": \"#E5ECF6\", \"gridcolor\": \"white\", \"gridwidth\": 2, \"linecolor\": \"white\", \"showbackground\": true, \"ticks\": \"\", \"zerolinecolor\": \"white\"}}, \"shapedefaults\": {\"line\": {\"color\": \"#2a3f5f\"}}, \"ternary\": {\"aaxis\": {\"gridcolor\": \"white\", \"linecolor\": \"white\", \"ticks\": \"\"}, \"baxis\": {\"gridcolor\": \"white\", \"linecolor\": \"white\", \"ticks\": \"\"}, \"bgcolor\": \"#E5ECF6\", \"caxis\": {\"gridcolor\": \"white\", \"linecolor\": \"white\", \"ticks\": \"\"}}, \"title\": {\"x\": 0.05}, \"xaxis\": {\"automargin\": true, \"gridcolor\": \"white\", \"linecolor\": \"white\", \"ticks\": \"\", \"title\": {\"standoff\": 15}, \"zerolinecolor\": \"white\", \"zerolinewidth\": 2}, \"yaxis\": {\"automargin\": true, \"gridcolor\": \"white\", \"linecolor\": \"white\", \"ticks\": \"\", \"title\": {\"standoff\": 15}, \"zerolinecolor\": \"white\", \"zerolinewidth\": 2}}}, \"title\": {\"text\": \"Single house prediction with linear regression model\"}, \"xaxis\": {\"anchor\": \"y\", \"domain\": [0.0, 1.0], \"title\": {\"text\": \"Date and time\"}}, \"yaxis\": {\"anchor\": \"x\", \"domain\": [0.0, 1.0], \"title\": {\"text\": \"meter value reading\"}}},                        {\"responsive\": true}                    ).then(function(){\n",
       "                            \n",
       "var gd = document.getElementById('6239788a-3ffd-4720-9424-d5803433fbea');\n",
       "var x = new MutationObserver(function (mutations, observer) {{\n",
       "        var display = window.getComputedStyle(gd).display;\n",
       "        if (!display || display === 'none') {{\n",
       "            console.log([gd, 'removed!']);\n",
       "            Plotly.purge(gd);\n",
       "            observer.disconnect();\n",
       "        }}\n",
       "}});\n",
       "\n",
       "// Listen for the removal of the full notebook cells\n",
       "var notebookContainer = gd.closest('#notebook-container');\n",
       "if (notebookContainer) {{\n",
       "    x.observe(notebookContainer, {childList: true});\n",
       "}}\n",
       "\n",
       "// Listen for the clearing of the current output cell\n",
       "var outputEl = gd.closest('.output');\n",
       "if (outputEl) {{\n",
       "    x.observe(outputEl, {childList: true});\n",
       "}}\n",
       "\n",
       "                        })                };                });            </script>        </div>"
      ]
     },
     "metadata": {},
     "output_type": "display_data"
    }
   ],
   "source": [
    "# before plotting actual, need to take to utc because plotly doesn't do it for us.\n",
    "actual = merged_df[merged_df['dataid'] == 35][:250]\n",
    "\n",
    "fig = px.scatter()\n",
    "# plot points form actual dataset\n",
    "fig.add_trace(go.Scatter(x=actual.index, y=actual['meter_value'].tolist(),\n",
    "                           mode='markers',\n",
    "                           name='actual'))\n",
    "# plot points from hourly linear regression prediction \n",
    "fig.add_trace(go.Scatter(x=timestamps, y=predictions,\n",
    "                           mode='markers',\n",
    "                           name='predictions'))\n",
    "# get ols trendline from predictions\n",
    "fig_t = px.scatter(x=timestamps, y=predictions, trendline='ols')\n",
    "trendline = fig_t.data[1]\n",
    "# overlay ols trendline with scattered results\n",
    "fig.add_trace(go.Scatter(trendline,\n",
    "                          mode='lines',\n",
    "                          line=dict(color=\"Yellow\"),\n",
    "                          name='predictions'))\n",
    "fig.update_layout(\n",
    "    title='Single house prediction with linear regression model',\n",
    "    xaxis_title='Date and time',\n",
    "    yaxis_title='meter value reading',\n",
    "    legend_title='Data Category',\n",
    "    showlegend=True\n",
    ")\n",
    "fig.show()"
   ]
  },
  {
   "cell_type": "markdown",
   "metadata": {},
   "source": [
    "In the graph above, scatter plot of the actual data of a single house (dataid 35) is plotted along with the hourly prediction result with linear regression from Q2.2(a). In initial view one could evidently see that between the scattered plots of actual and prediction results the accuracy is relatively satisfactory. The trendline is taken by fitting results of linear regression prediction of a single house with ordinary least squares method. The linear regression model fares generally well as compared to the scattered plot of actual data."
   ]
  },
  {
   "cell_type": "code",
   "execution_count": 95,
   "metadata": {
    "scrolled": true
   },
   "outputs": [
    {
     "data": {
      "application/vnd.plotly.v1+json": {
       "config": {
        "plotlyServerURL": "https://plot.ly"
       },
       "data": [
        {
         "mode": "markers",
         "name": "mean actual",
         "type": "scatter",
         "x": [
          "2015-10-01T05:00:00+00:00",
          "2015-10-01T06:00:00+00:00",
          "2015-10-01T07:00:00+00:00",
          "2015-10-01T08:00:00+00:00",
          "2015-10-01T09:00:00+00:00",
          "2015-10-01T10:00:00+00:00",
          "2015-10-01T11:00:00+00:00",
          "2015-10-01T12:00:00+00:00",
          "2015-10-01T13:00:00+00:00",
          "2015-10-01T14:00:00+00:00",
          "2015-10-01T15:00:00+00:00",
          "2015-10-01T16:00:00+00:00",
          "2015-10-01T17:00:00+00:00",
          "2015-10-01T18:00:00+00:00",
          "2015-10-01T19:00:00+00:00",
          "2015-10-01T20:00:00+00:00",
          "2015-10-01T21:00:00+00:00",
          "2015-10-01T22:00:00+00:00",
          "2015-10-01T23:00:00+00:00",
          "2015-10-02T00:00:00+00:00",
          "2015-10-02T01:00:00+00:00",
          "2015-10-02T02:00:00+00:00",
          "2015-10-02T03:00:00+00:00",
          "2015-10-02T04:00:00+00:00",
          "2015-10-02T05:00:00+00:00",
          "2015-10-02T06:00:00+00:00",
          "2015-10-02T07:00:00+00:00",
          "2015-10-02T08:00:00+00:00",
          "2015-10-02T09:00:00+00:00",
          "2015-10-02T10:00:00+00:00",
          "2015-10-02T11:00:00+00:00",
          "2015-10-02T12:00:00+00:00",
          "2015-10-02T13:00:00+00:00",
          "2015-10-02T14:00:00+00:00",
          "2015-10-02T15:00:00+00:00",
          "2015-10-02T16:00:00+00:00",
          "2015-10-02T17:00:00+00:00",
          "2015-10-02T18:00:00+00:00",
          "2015-10-02T19:00:00+00:00",
          "2015-10-02T20:00:00+00:00",
          "2015-10-02T21:00:00+00:00",
          "2015-10-02T22:00:00+00:00",
          "2015-10-02T23:00:00+00:00",
          "2015-10-03T00:00:00+00:00",
          "2015-10-03T01:00:00+00:00",
          "2015-10-03T02:00:00+00:00",
          "2015-10-03T03:00:00+00:00",
          "2015-10-03T04:00:00+00:00",
          "2015-10-03T05:00:00+00:00",
          "2015-10-03T06:00:00+00:00",
          "2015-10-03T07:00:00+00:00",
          "2015-10-03T08:00:00+00:00",
          "2015-10-03T09:00:00+00:00",
          "2015-10-03T10:00:00+00:00",
          "2015-10-03T11:00:00+00:00",
          "2015-10-03T12:00:00+00:00",
          "2015-10-03T13:00:00+00:00",
          "2015-10-03T14:00:00+00:00",
          "2015-10-03T15:00:00+00:00",
          "2015-10-03T16:00:00+00:00",
          "2015-10-03T17:00:00+00:00",
          "2015-10-03T18:00:00+00:00",
          "2015-10-03T19:00:00+00:00",
          "2015-10-03T20:00:00+00:00",
          "2015-10-03T21:00:00+00:00",
          "2015-10-03T22:00:00+00:00",
          "2015-10-03T23:00:00+00:00",
          "2015-10-04T00:00:00+00:00",
          "2015-10-04T01:00:00+00:00",
          "2015-10-04T02:00:00+00:00",
          "2015-10-04T03:00:00+00:00",
          "2015-10-04T04:00:00+00:00",
          "2015-10-04T05:00:00+00:00",
          "2015-10-04T06:00:00+00:00",
          "2015-10-04T07:00:00+00:00",
          "2015-10-04T08:00:00+00:00",
          "2015-10-04T09:00:00+00:00",
          "2015-10-04T10:00:00+00:00",
          "2015-10-04T11:00:00+00:00",
          "2015-10-04T12:00:00+00:00",
          "2015-10-04T13:00:00+00:00",
          "2015-10-04T14:00:00+00:00",
          "2015-10-04T15:00:00+00:00",
          "2015-10-04T16:00:00+00:00",
          "2015-10-04T17:00:00+00:00",
          "2015-10-04T18:00:00+00:00",
          "2015-10-04T19:00:00+00:00",
          "2015-10-04T20:00:00+00:00",
          "2015-10-04T21:00:00+00:00",
          "2015-10-04T22:00:00+00:00",
          "2015-10-04T23:00:00+00:00",
          "2015-10-05T00:00:00+00:00",
          "2015-10-05T01:00:00+00:00",
          "2015-10-05T02:00:00+00:00",
          "2015-10-05T03:00:00+00:00",
          "2015-10-05T04:00:00+00:00",
          "2015-10-05T05:00:00+00:00",
          "2015-10-05T06:00:00+00:00",
          "2015-10-05T07:00:00+00:00",
          "2015-10-05T08:00:00+00:00",
          "2015-10-05T09:00:00+00:00",
          "2015-10-05T10:00:00+00:00",
          "2015-10-05T11:00:00+00:00",
          "2015-10-05T12:00:00+00:00",
          "2015-10-05T13:00:00+00:00",
          "2015-10-05T14:00:00+00:00",
          "2015-10-05T15:00:00+00:00",
          "2015-10-05T16:00:00+00:00",
          "2015-10-05T17:00:00+00:00",
          "2015-10-05T18:00:00+00:00",
          "2015-10-05T19:00:00+00:00",
          "2015-10-05T20:00:00+00:00",
          "2015-10-05T21:00:00+00:00",
          "2015-10-05T22:00:00+00:00",
          "2015-10-05T23:00:00+00:00",
          "2015-10-06T00:00:00+00:00",
          "2015-10-06T01:00:00+00:00",
          "2015-10-06T02:00:00+00:00",
          "2015-10-06T03:00:00+00:00",
          "2015-10-06T04:00:00+00:00",
          "2015-10-06T05:00:00+00:00",
          "2015-10-06T06:00:00+00:00",
          "2015-10-06T07:00:00+00:00",
          "2015-10-06T08:00:00+00:00",
          "2015-10-06T09:00:00+00:00",
          "2015-10-06T10:00:00+00:00",
          "2015-10-06T11:00:00+00:00",
          "2015-10-06T12:00:00+00:00",
          "2015-10-06T13:00:00+00:00",
          "2015-10-06T14:00:00+00:00",
          "2015-10-06T15:00:00+00:00",
          "2015-10-06T16:00:00+00:00",
          "2015-10-06T17:00:00+00:00",
          "2015-10-06T18:00:00+00:00",
          "2015-10-06T19:00:00+00:00",
          "2015-10-06T20:00:00+00:00",
          "2015-10-06T21:00:00+00:00",
          "2015-10-06T22:00:00+00:00",
          "2015-10-06T23:00:00+00:00",
          "2015-10-07T00:00:00+00:00",
          "2015-10-07T01:00:00+00:00",
          "2015-10-07T02:00:00+00:00",
          "2015-10-07T03:00:00+00:00",
          "2015-10-07T04:00:00+00:00",
          "2015-10-07T05:00:00+00:00",
          "2015-10-07T06:00:00+00:00",
          "2015-10-07T07:00:00+00:00",
          "2015-10-07T08:00:00+00:00",
          "2015-10-07T09:00:00+00:00",
          "2015-10-07T10:00:00+00:00",
          "2015-10-07T11:00:00+00:00",
          "2015-10-07T12:00:00+00:00",
          "2015-10-07T13:00:00+00:00",
          "2015-10-07T14:00:00+00:00",
          "2015-10-07T15:00:00+00:00",
          "2015-10-07T16:00:00+00:00",
          "2015-10-07T17:00:00+00:00",
          "2015-10-07T18:00:00+00:00",
          "2015-10-07T19:00:00+00:00",
          "2015-10-07T20:00:00+00:00",
          "2015-10-07T21:00:00+00:00",
          "2015-10-07T22:00:00+00:00",
          "2015-10-07T23:00:00+00:00",
          "2015-10-08T00:00:00+00:00",
          "2015-10-08T01:00:00+00:00",
          "2015-10-08T02:00:00+00:00",
          "2015-10-08T03:00:00+00:00",
          "2015-10-08T04:00:00+00:00",
          "2015-10-08T05:00:00+00:00",
          "2015-10-08T06:00:00+00:00",
          "2015-10-08T07:00:00+00:00",
          "2015-10-08T08:00:00+00:00",
          "2015-10-08T09:00:00+00:00",
          "2015-10-08T10:00:00+00:00",
          "2015-10-08T11:00:00+00:00",
          "2015-10-08T12:00:00+00:00",
          "2015-10-08T13:00:00+00:00",
          "2015-10-08T14:00:00+00:00",
          "2015-10-08T15:00:00+00:00",
          "2015-10-08T16:00:00+00:00",
          "2015-10-08T17:00:00+00:00",
          "2015-10-08T18:00:00+00:00",
          "2015-10-08T19:00:00+00:00",
          "2015-10-08T20:00:00+00:00",
          "2015-10-08T21:00:00+00:00",
          "2015-10-08T22:00:00+00:00",
          "2015-10-08T23:00:00+00:00",
          "2015-10-09T00:00:00+00:00",
          "2015-10-09T01:00:00+00:00",
          "2015-10-09T02:00:00+00:00",
          "2015-10-09T03:00:00+00:00",
          "2015-10-09T04:00:00+00:00",
          "2015-10-09T05:00:00+00:00",
          "2015-10-09T06:00:00+00:00",
          "2015-10-09T07:00:00+00:00",
          "2015-10-09T08:00:00+00:00",
          "2015-10-09T09:00:00+00:00",
          "2015-10-09T10:00:00+00:00",
          "2015-10-09T11:00:00+00:00",
          "2015-10-09T12:00:00+00:00",
          "2015-10-09T13:00:00+00:00",
          "2015-10-09T14:00:00+00:00",
          "2015-10-09T15:00:00+00:00",
          "2015-10-09T16:00:00+00:00",
          "2015-10-09T17:00:00+00:00",
          "2015-10-09T18:00:00+00:00",
          "2015-10-09T19:00:00+00:00",
          "2015-10-09T20:00:00+00:00",
          "2015-10-09T21:00:00+00:00",
          "2015-10-09T22:00:00+00:00",
          "2015-10-09T23:00:00+00:00",
          "2015-10-10T00:00:00+00:00",
          "2015-10-10T01:00:00+00:00",
          "2015-10-10T02:00:00+00:00",
          "2015-10-10T03:00:00+00:00",
          "2015-10-10T04:00:00+00:00",
          "2015-10-10T05:00:00+00:00",
          "2015-10-10T06:00:00+00:00",
          "2015-10-10T07:00:00+00:00",
          "2015-10-10T08:00:00+00:00",
          "2015-10-10T09:00:00+00:00",
          "2015-10-10T10:00:00+00:00",
          "2015-10-10T11:00:00+00:00",
          "2015-10-10T12:00:00+00:00",
          "2015-10-10T13:00:00+00:00",
          "2015-10-10T14:00:00+00:00",
          "2015-10-10T15:00:00+00:00",
          "2015-10-10T16:00:00+00:00",
          "2015-10-10T17:00:00+00:00",
          "2015-10-10T18:00:00+00:00",
          "2015-10-10T19:00:00+00:00",
          "2015-10-10T20:00:00+00:00",
          "2015-10-10T21:00:00+00:00",
          "2015-10-10T22:00:00+00:00",
          "2015-10-10T23:00:00+00:00",
          "2015-10-11T00:00:00+00:00",
          "2015-10-11T01:00:00+00:00",
          "2015-10-11T02:00:00+00:00",
          "2015-10-11T03:00:00+00:00",
          "2015-10-11T04:00:00+00:00",
          "2015-10-11T05:00:00+00:00",
          "2015-10-11T06:00:00+00:00",
          "2015-10-11T07:00:00+00:00",
          "2015-10-11T08:00:00+00:00",
          "2015-10-11T09:00:00+00:00",
          "2015-10-11T10:00:00+00:00",
          "2015-10-11T11:00:00+00:00",
          "2015-10-11T12:00:00+00:00",
          "2015-10-11T13:00:00+00:00",
          "2015-10-11T14:00:00+00:00"
         ],
         "y": [
          0.21360544217687075,
          0.617831871704505,
          0.7380667935066665,
          0.9987810792209522,
          1.0944450358605187,
          1.5407107331506706,
          2.413755335607038,
          3.6756779410780305,
          4.54475140463939,
          6.473492264279127,
          7.943183622303819,
          8.502518914606144,
          8.938339869250628,
          9.745206286229404,
          10.029069800991795,
          10.668972799228127,
          11.076734804664552,
          12.118100094467342,
          13.08877028847087,
          14.135560854226954,
          15.151207971659787,
          17.347453174646564,
          18.34499012045937,
          19.167936374984574,
          21.286720302697073,
          22.6855575119994,
          23.02245760537008,
          23.884345299515836,
          24.432022184034825,
          25.024968501138446,
          26.400173157593102,
          27.77273802510179,
          29.63005270355049,
          31.082278411675073,
          32.19945517711809,
          33.08035153566151,
          34.53666154937893,
          35.08294331784969,
          35.797574503657344,
          36.94519214782671,
          37.79732343389629,
          38.75441026863018,
          39.85639726663794,
          40.25885119840222,
          41.20449447708121,
          42.44079605495142,
          42.97760668618066,
          43.94628167132623,
          44.528634812012704,
          45.19094928325575,
          45.58200930879853,
          46.00869540907596,
          46.24879178095805,
          46.91053420520048,
          47.13478564820192,
          48.005614973255504,
          49.526251901862075,
          50.60360697432584,
          51.85169415221694,
          53.49936540279201,
          54.63786202749553,
          56.05718549472597,
          57.60796024907216,
          58.23842574317401,
          59.12465409815237,
          59.7932488693942,
          61.0214825486588,
          61.75030324169574,
          62.847395973525316,
          63.83108166767612,
          64.8668170434115,
          65.57148719210339,
          66.8986356846365,
          67.53960790685872,
          68.31638693307595,
          68.75832696834931,
          68.97555693167303,
          69.39503745115354,
          69.66539361014607,
          70.32811847787093,
          71.31248340663814,
          72.50967183224762,
          73.87304530424178,
          75.53882385317823,
          76.34851428900502,
          77.70778809648299,
          78.84558465177955,
          79.42086389928102,
          80.50769098293206,
          81.12089028363137,
          82.44109865187895,
          84.89236737038904,
          87.1153463294145,
          89.230273930549,
          90.6244188075452,
          92.06122289493068,
          92.65550717274436,
          93.5549400396191,
          93.99902457265712,
          94.33554915918171,
          94.65585801699056,
          95.31220807216415,
          95.96143113587523,
          97.57283223477633,
          99.62693571791208,
          100.55634393047247,
          101.64572475167147,
          102.97857860194105,
          103.99892884348695,
          104.37207243042364,
          104.73143641383825,
          105.57256195496379,
          106.31139733930479,
          107.1045281548494,
          108.42307578162487,
          109.73892011132463,
          111.51121367294404,
          112.46475594839643,
          114.22744722537342,
          115.44915029880063,
          116.1383692171372,
          116.64012360310211,
          116.99618420916272,
          117.56643510522007,
          118.11947743326239,
          119.33905415283911,
          120.22956618398082,
          122.06412201516586,
          124.23330402789627,
          125.58658133882064,
          126.6220369401299,
          127.19566608875905,
          127.86650582250202,
          128.75782881323678,
          129.15024889315686,
          129.510642345858,
          130.04425247875076,
          131.27771835744136,
          132.00672934645235,
          134.03956193209393,
          135.41868673321872,
          136.87450793079026,
          137.94817414146058,
          138.83673470370536,
          139.3327812953549,
          140.02084852224564,
          140.38265260963112,
          140.65983514931366,
          141.41610755074737,
          141.8621166856454,
          143.36722120065343,
          144.9988033262573,
          146.68020387015784,
          149.00169416032284,
          149.69259280416267,
          150.89651916454065,
          151.60701105360397,
          152.04937137527463,
          152.34808469898795,
          152.66859607426977,
          153.62435232312947,
          154.1519490853416,
          155.3478068674063,
          156.13973356815652,
          157.71737633570123,
          159.60160876993368,
          161.12820637867415,
          161.60250454238408,
          162.00668754892004,
          162.19881248937034,
          162.39319157433766,
          162.71759494874104,
          163.28056392421,
          163.73188667553276,
          165.00634104061214,
          166.40295235522345,
          168.27064515624957,
          169.76979193969868,
          171.16500758547613,
          172.46377647303814,
          173.31082773095895,
          174.1226494363853,
          174.68384171632758,
          175.6463056412915,
          176.1088820860108,
          176.93237005637377,
          177.9304220044257,
          179.69563211919723,
          180.72396086116234,
          182.40471786944744,
          183.447190987727,
          184.21898112940352,
          185.42856807024046,
          185.97704778201805,
          186.38012927568778,
          186.7549799327965,
          187.0279690535384,
          187.3902295899369,
          188.93510652947674,
          190.17810963110054,
          191.56389384054773,
          192.25870473141126,
          193.32881352399195,
          194.7608281760066,
          195.44111830833847,
          195.88421203631592,
          196.5955421239065,
          197.43904714496256,
          198.4048323824087,
          198.9296339697103,
          200.4657095281388,
          202.05646976205693,
          203.2574299130171,
          204.04059713339362,
          204.6809989430708,
          205.776026138098,
          206.85315284736757,
          207.2760730998059,
          207.84849917309404,
          208.48961780623395,
          208.79180444073765,
          209.19062278288933,
          209.77843457427255,
          210.33445429529226,
          211.39586193527134,
          212.68239036895886,
          213.85195661189468,
          215.71502145710238,
          217.50346970295803,
          218.47345357529485,
          219.2418196898566,
          219.85810382846162,
          220.74303298199544,
          221.71939237423717,
          223.32547123989195,
          224.47319675286136,
          225.64436542005274,
          226.33946964648226,
          227.11714349379895,
          228.03014509893538,
          229.06956085114183,
          229.9968004059676,
          230.3462936169066,
          230.87257756587096,
          231.11301684235676,
          231.35399512333504,
          231.71143565954145,
          232.19229319152257,
          232.8344935199298,
          233.91162908099793
         ]
        },
        {
         "mode": "markers",
         "name": "mean predictions",
         "type": "scatter",
         "x": [
          "2015-10-01T12:00:00+00:00",
          "2015-10-01T13:00:00+00:00",
          "2015-10-01T14:00:00+00:00",
          "2015-10-01T15:00:00+00:00",
          "2015-10-01T16:00:00+00:00",
          "2015-10-01T17:00:00+00:00",
          "2015-10-01T18:00:00+00:00",
          "2015-10-01T19:00:00+00:00",
          "2015-10-01T20:00:00+00:00",
          "2015-10-01T21:00:00+00:00",
          "2015-10-01T22:00:00+00:00",
          "2015-10-01T23:00:00+00:00",
          "2015-10-02T00:00:00+00:00",
          "2015-10-02T01:00:00+00:00",
          "2015-10-02T02:00:00+00:00",
          "2015-10-02T03:00:00+00:00",
          "2015-10-02T04:00:00+00:00",
          "2015-10-02T05:00:00+00:00",
          "2015-10-02T06:00:00+00:00",
          "2015-10-02T07:00:00+00:00",
          "2015-10-02T08:00:00+00:00",
          "2015-10-02T09:00:00+00:00",
          "2015-10-02T10:00:00+00:00",
          "2015-10-02T11:00:00+00:00",
          "2015-10-02T12:00:00+00:00",
          "2015-10-02T13:00:00+00:00",
          "2015-10-02T14:00:00+00:00",
          "2015-10-02T15:00:00+00:00",
          "2015-10-02T16:00:00+00:00",
          "2015-10-02T17:00:00+00:00",
          "2015-10-02T18:00:00+00:00",
          "2015-10-02T19:00:00+00:00",
          "2015-10-02T20:00:00+00:00",
          "2015-10-02T21:00:00+00:00",
          "2015-10-02T22:00:00+00:00",
          "2015-10-02T23:00:00+00:00",
          "2015-10-03T00:00:00+00:00",
          "2015-10-03T01:00:00+00:00",
          "2015-10-03T02:00:00+00:00",
          "2015-10-03T03:00:00+00:00",
          "2015-10-03T04:00:00+00:00",
          "2015-10-03T05:00:00+00:00",
          "2015-10-03T06:00:00+00:00",
          "2015-10-03T07:00:00+00:00",
          "2015-10-03T08:00:00+00:00",
          "2015-10-03T09:00:00+00:00",
          "2015-10-03T10:00:00+00:00",
          "2015-10-03T11:00:00+00:00",
          "2015-10-03T12:00:00+00:00",
          "2015-10-03T13:00:00+00:00",
          "2015-10-03T14:00:00+00:00",
          "2015-10-03T15:00:00+00:00",
          "2015-10-03T16:00:00+00:00",
          "2015-10-03T17:00:00+00:00",
          "2015-10-03T18:00:00+00:00",
          "2015-10-03T19:00:00+00:00",
          "2015-10-03T20:00:00+00:00",
          "2015-10-03T21:00:00+00:00",
          "2015-10-03T22:00:00+00:00",
          "2015-10-03T23:00:00+00:00",
          "2015-10-04T00:00:00+00:00",
          "2015-10-04T01:00:00+00:00",
          "2015-10-04T02:00:00+00:00",
          "2015-10-04T03:00:00+00:00",
          "2015-10-04T04:00:00+00:00",
          "2015-10-04T05:00:00+00:00",
          "2015-10-04T06:00:00+00:00",
          "2015-10-04T07:00:00+00:00",
          "2015-10-04T08:00:00+00:00",
          "2015-10-04T09:00:00+00:00",
          "2015-10-04T10:00:00+00:00",
          "2015-10-04T11:00:00+00:00",
          "2015-10-04T12:00:00+00:00",
          "2015-10-04T13:00:00+00:00",
          "2015-10-04T14:00:00+00:00",
          "2015-10-04T15:00:00+00:00",
          "2015-10-04T16:00:00+00:00",
          "2015-10-04T17:00:00+00:00",
          "2015-10-04T18:00:00+00:00",
          "2015-10-04T19:00:00+00:00",
          "2015-10-04T20:00:00+00:00",
          "2015-10-04T21:00:00+00:00",
          "2015-10-04T22:00:00+00:00",
          "2015-10-04T23:00:00+00:00",
          "2015-10-05T00:00:00+00:00",
          "2015-10-05T01:00:00+00:00",
          "2015-10-05T02:00:00+00:00",
          "2015-10-05T03:00:00+00:00",
          "2015-10-05T04:00:00+00:00",
          "2015-10-05T05:00:00+00:00",
          "2015-10-05T06:00:00+00:00",
          "2015-10-05T07:00:00+00:00",
          "2015-10-05T08:00:00+00:00",
          "2015-10-05T09:00:00+00:00",
          "2015-10-05T10:00:00+00:00",
          "2015-10-05T11:00:00+00:00",
          "2015-10-05T12:00:00+00:00",
          "2015-10-05T13:00:00+00:00",
          "2015-10-05T14:00:00+00:00",
          "2015-10-05T15:00:00+00:00",
          "2015-10-05T16:00:00+00:00",
          "2015-10-05T17:00:00+00:00",
          "2015-10-05T18:00:00+00:00",
          "2015-10-05T19:00:00+00:00",
          "2015-10-05T20:00:00+00:00",
          "2015-10-05T21:00:00+00:00",
          "2015-10-05T22:00:00+00:00",
          "2015-10-05T23:00:00+00:00",
          "2015-10-06T00:00:00+00:00",
          "2015-10-06T01:00:00+00:00",
          "2015-10-06T02:00:00+00:00",
          "2015-10-06T03:00:00+00:00",
          "2015-10-06T04:00:00+00:00",
          "2015-10-06T05:00:00+00:00",
          "2015-10-06T06:00:00+00:00",
          "2015-10-06T07:00:00+00:00",
          "2015-10-06T08:00:00+00:00",
          "2015-10-06T09:00:00+00:00",
          "2015-10-06T10:00:00+00:00",
          "2015-10-06T11:00:00+00:00",
          "2015-10-06T12:00:00+00:00",
          "2015-10-06T13:00:00+00:00",
          "2015-10-06T14:00:00+00:00",
          "2015-10-06T15:00:00+00:00",
          "2015-10-06T16:00:00+00:00",
          "2015-10-06T17:00:00+00:00",
          "2015-10-06T18:00:00+00:00",
          "2015-10-06T19:00:00+00:00",
          "2015-10-06T20:00:00+00:00",
          "2015-10-06T21:00:00+00:00",
          "2015-10-06T22:00:00+00:00",
          "2015-10-06T23:00:00+00:00",
          "2015-10-07T00:00:00+00:00",
          "2015-10-07T01:00:00+00:00",
          "2015-10-07T02:00:00+00:00",
          "2015-10-07T03:00:00+00:00",
          "2015-10-07T04:00:00+00:00",
          "2015-10-07T05:00:00+00:00",
          "2015-10-07T06:00:00+00:00",
          "2015-10-07T07:00:00+00:00",
          "2015-10-07T08:00:00+00:00",
          "2015-10-07T09:00:00+00:00",
          "2015-10-07T10:00:00+00:00",
          "2015-10-07T11:00:00+00:00",
          "2015-10-07T12:00:00+00:00",
          "2015-10-07T13:00:00+00:00",
          "2015-10-07T14:00:00+00:00",
          "2015-10-07T15:00:00+00:00",
          "2015-10-07T16:00:00+00:00",
          "2015-10-07T17:00:00+00:00",
          "2015-10-07T18:00:00+00:00",
          "2015-10-07T19:00:00+00:00",
          "2015-10-07T20:00:00+00:00",
          "2015-10-07T21:00:00+00:00",
          "2015-10-07T22:00:00+00:00",
          "2015-10-07T23:00:00+00:00",
          "2015-10-08T00:00:00+00:00",
          "2015-10-08T01:00:00+00:00",
          "2015-10-08T02:00:00+00:00",
          "2015-10-08T03:00:00+00:00",
          "2015-10-08T04:00:00+00:00",
          "2015-10-08T05:00:00+00:00",
          "2015-10-08T06:00:00+00:00",
          "2015-10-08T07:00:00+00:00",
          "2015-10-08T08:00:00+00:00",
          "2015-10-08T09:00:00+00:00",
          "2015-10-08T10:00:00+00:00",
          "2015-10-08T11:00:00+00:00",
          "2015-10-08T12:00:00+00:00",
          "2015-10-08T13:00:00+00:00",
          "2015-10-08T14:00:00+00:00",
          "2015-10-08T15:00:00+00:00",
          "2015-10-08T16:00:00+00:00",
          "2015-10-08T17:00:00+00:00",
          "2015-10-08T18:00:00+00:00",
          "2015-10-08T19:00:00+00:00",
          "2015-10-08T20:00:00+00:00",
          "2015-10-08T21:00:00+00:00",
          "2015-10-08T22:00:00+00:00",
          "2015-10-08T23:00:00+00:00",
          "2015-10-09T00:00:00+00:00",
          "2015-10-09T01:00:00+00:00",
          "2015-10-09T02:00:00+00:00",
          "2015-10-09T03:00:00+00:00",
          "2015-10-09T04:00:00+00:00",
          "2015-10-09T05:00:00+00:00",
          "2015-10-09T06:00:00+00:00",
          "2015-10-09T07:00:00+00:00",
          "2015-10-09T08:00:00+00:00",
          "2015-10-09T09:00:00+00:00",
          "2015-10-09T10:00:00+00:00",
          "2015-10-09T11:00:00+00:00",
          "2015-10-09T12:00:00+00:00",
          "2015-10-09T13:00:00+00:00",
          "2015-10-09T14:00:00+00:00",
          "2015-10-09T15:00:00+00:00",
          "2015-10-09T16:00:00+00:00",
          "2015-10-09T17:00:00+00:00",
          "2015-10-09T18:00:00+00:00",
          "2015-10-09T19:00:00+00:00",
          "2015-10-09T20:00:00+00:00",
          "2015-10-09T21:00:00+00:00",
          "2015-10-09T22:00:00+00:00",
          "2015-10-09T23:00:00+00:00",
          "2015-10-10T00:00:00+00:00",
          "2015-10-10T01:00:00+00:00",
          "2015-10-10T02:00:00+00:00",
          "2015-10-10T03:00:00+00:00",
          "2015-10-10T04:00:00+00:00",
          "2015-10-10T05:00:00+00:00",
          "2015-10-10T06:00:00+00:00",
          "2015-10-10T07:00:00+00:00",
          "2015-10-10T08:00:00+00:00",
          "2015-10-10T09:00:00+00:00",
          "2015-10-10T10:00:00+00:00",
          "2015-10-10T11:00:00+00:00",
          "2015-10-10T12:00:00+00:00",
          "2015-10-10T13:00:00+00:00",
          "2015-10-10T14:00:00+00:00",
          "2015-10-10T15:00:00+00:00",
          "2015-10-10T16:00:00+00:00",
          "2015-10-10T17:00:00+00:00",
          "2015-10-10T18:00:00+00:00",
          "2015-10-10T19:00:00+00:00",
          "2015-10-10T20:00:00+00:00",
          "2015-10-10T21:00:00+00:00",
          "2015-10-10T22:00:00+00:00",
          "2015-10-10T23:00:00+00:00",
          "2015-10-11T00:00:00+00:00",
          "2015-10-11T01:00:00+00:00",
          "2015-10-11T02:00:00+00:00",
          "2015-10-11T03:00:00+00:00",
          "2015-10-11T04:00:00+00:00",
          "2015-10-11T05:00:00+00:00",
          "2015-10-11T06:00:00+00:00",
          "2015-10-11T07:00:00+00:00",
          "2015-10-11T08:00:00+00:00",
          "2015-10-11T09:00:00+00:00",
          "2015-10-11T10:00:00+00:00",
          "2015-10-11T11:00:00+00:00",
          "2015-10-11T12:00:00+00:00",
          "2015-10-11T13:00:00+00:00",
          "2015-10-11T14:00:00+00:00",
          "2015-10-11T15:00:00+00:00",
          "2015-10-11T16:00:00+00:00",
          "2015-10-11T17:00:00+00:00",
          "2015-10-11T18:00:00+00:00",
          "2015-10-11T19:00:00+00:00",
          "2015-10-11T20:00:00+00:00",
          "2015-10-11T21:00:00+00:00",
          "2015-10-11T22:00:00+00:00",
          "2015-10-11T23:00:00+00:00"
         ],
         "y": [
          4.044934387720931,
          5.514264777399092,
          6.238310281636578,
          8.613346009616452,
          9.937234316647569,
          10.025946468709718,
          10.259122145334132,
          11.11698272848763,
          11.123487946772464,
          11.84698526331805,
          12.12520194698398,
          13.402170702717259,
          15.361074412553416,
          16.425261751223218,
          17.40774747303907,
          20.11633610449481,
          20.647238403926874,
          21.276652236610765,
          23.90486894259119,
          25.030349081440065,
          24.815342407916965,
          25.752833629182295,
          26.088575863242742,
          26.625710774058913,
          28.328726466075864,
          29.74363913010518,
          31.835169382179917,
          33.13450480360625,
          34.03452866224352,
          34.71362988377281,
          36.339771361561745,
          36.46041959401096,
          37.134279827376666,
          38.42574687050304,
          39.13212720139808,
          40.09343270817578,
          42.221720942586884,
          42.26878113555507,
          43.35840672857104,
          44.7156340132483,
          44.92868738157698,
          46.01032331319609,
          46.38666041985162,
          47.005884910468666,
          47.22673151666084,
          47.59085745635184,
          47.69214023128625,
          48.483255239691616,
          48.499606176887234,
          49.601756767902096,
          51.44776868309644,
          52.3773662907724,
          53.67002901405746,
          55.476176086552286,
          56.37813871510794,
          57.857473129080134,
          59.44244086843254,
          59.616578272967196,
          60.4902032338944,
          60.99373972538539,
          63.39968207137378,
          63.912059649706904,
          65.10982446869049,
          66.02801125619497,
          67.04131411409253,
          67.55890296397179,
          69.09846045172517,
          69.42992461689168,
          70.17684773064371,
          70.41274590846264,
          70.43239237661481,
          70.86322153173826,
          71.02269007607526,
          71.81669886975796,
          72.95351479735224,
          74.26606575851332,
          75.72149727635572,
          77.52937205397704,
          77.94671643068382,
          79.44589006977789,
          80.45984258100415,
          80.71188196965522,
          81.93465300377154,
          82.30360021647256,
          84.86647093663385,
          87.87674233131905,
          90.11171398331987,
          92.19579780809762,
          93.21605680978335,
          94.53445785341697,
          94.6502256401167,
          95.53529065074044,
          95.71047055409238,
          95.89604808637576,
          96.13635788203878,
          96.88788184990024,
          97.52754341711969,
          99.568551496487,
          101.91079831539209,
          102.37928670452789,
          103.42536757456416,
          104.79538916991487,
          105.6332239218616,
          105.6435571355588,
          105.86788755318804,
          106.84477885396403,
          107.53099313062113,
          108.32476367679686,
          110.85547511240732,
          112.19029590268688,
          114.1683980855663,
          114.76397948503745,
          116.79727234875037,
          117.78191227442042,
          118.14132604919845,
          118.4423750144675,
          118.61937908081929,
          119.20544585776763,
          119.71993932763559,
          121.21801082212514,
          121.995395413886,
          124.23321578068531,
          126.62786704430712,
          127.64240872510403,
          128.4390682976112,
          128.6780451660898,
          129.2569223519088,
          130.18510652872064,
          130.31999831457352,
          130.58175917782168,
          131.1281695881507,
          132.65314544195337,
          134.18738362689112,
          136.7795508055862,
          137.95212483029934,
          139.38986845056306,
          140.2498519211387,
          140.95131788910155,
          141.17930429761037,
          141.84843071257623,
          142.00917078750314,
          142.16739048813022,
          143.08357680455316,
          143.3838903599896,
          145.3353767372988,
          147.10377833599478,
          148.83641896214044,
          151.4611174149224,
          151.42565627354932,
          152.67880939397378,
          153.09676325101648,
          153.29809487937305,
          153.44187966362796,
          153.68432950617478,
          154.88351528618966,
          155.23983174770618,
          157.68960846045533,
          158.32093248047207,
          160.2070143977051,
          162.28064367385355,
          163.66897834390204,
          163.6065600008972,
          163.80109163342505,
          163.7708381183406,
          163.86579748484115,
          164.1955177781642,
          164.8384595925968,
          165.2316279939467,
          166.85652020587682,
          168.36537069803106,
          170.4733558680753,
          171.84382635251762,
          173.13752659748607,
          174.32896755169568,
          174.89434187989278,
          175.58680693332337,
          175.9549722980127,
          177.02034875264656,
          177.2374628838648,
          178.1476916444602,
          180.20271026075852,
          182.31468477663077,
          183.06565250196073,
          184.97657846259216,
          185.73179369233017,
          186.27843668847657,
          187.60137861097203,
          187.81439165033404,
          188.0490808687471,
          188.3253737226478,
          188.47818111814865,
          188.82329447558345,
          190.88608533185925,
          192.08624143018028,
          193.53583342616366,
          193.89710653687962,
          195.02149814407488,
          196.58878645845095,
          196.9192897930477,
          197.15427661209563,
          197.8880657076772,
          198.7478666132144,
          199.75441276716407,
          200.06048616969292,
          202.98267196053783,
          204.6528804510036,
          205.68350140150284,
          206.21578745977777,
          206.67726326864593,
          207.8917582336346,
          208.95162526527093,
          209.04675302844234,
          209.58373857493532,
          210.19358730964316,
          210.29332295005665,
          210.66505499058388,
          211.29330073952147,
          211.81112403061772,
          213.07904199981306,
          214.4924833462024,
          215.62129832850997,
          217.7832268934722,
          219.57561682000406,
          220.14902554208112,
          220.70124495965035,
          221.13009885724406,
          222.04663761472378,
          223.0410660881826,
          225.91665249478598,
          226.89425701251318,
          228.02189699621036,
          228.4453157087373,
          229.15315175013808,
          230.07022859271356,
          231.13475956506096,
          231.99313432974793,
          232.02812112239604,
          232.52565172941274,
          232.57326027900612,
          232.73378570367987,
          233.0926414101347,
          233.59555723100925,
          234.2935988360023,
          235.5633136584034,
          238.6445484728969,
          239.55086609354234,
          241.14987845209893,
          242.15531107046962,
          243.86844409081095,
          245.73943922806563,
          248.67249651833643,
          248.60921009886644
         ]
        },
        {
         "hovertemplate": "<b>OLS trendline</b><br>y = 0.000268261 * x + -387283<br>R<sup>2</sup>=0.999309<br><br>x=%{x}<br>y=%{y} <b>(trend)</b><extra></extra>",
         "legendgroup": "",
         "line": {
          "color": "Yellow"
         },
         "marker": {
          "color": "#636efa",
          "symbol": "circle"
         },
         "mode": "lines",
         "name": "predictions",
         "showlegend": false,
         "type": "scatter",
         "x": [
          "2015-10-01T12:00:00+00:00",
          "2015-10-01T13:00:00+00:00",
          "2015-10-01T14:00:00+00:00",
          "2015-10-01T15:00:00+00:00",
          "2015-10-01T16:00:00+00:00",
          "2015-10-01T17:00:00+00:00",
          "2015-10-01T18:00:00+00:00",
          "2015-10-01T19:00:00+00:00",
          "2015-10-01T20:00:00+00:00",
          "2015-10-01T21:00:00+00:00",
          "2015-10-01T22:00:00+00:00",
          "2015-10-01T23:00:00+00:00",
          "2015-10-02T00:00:00+00:00",
          "2015-10-02T01:00:00+00:00",
          "2015-10-02T02:00:00+00:00",
          "2015-10-02T03:00:00+00:00",
          "2015-10-02T04:00:00+00:00",
          "2015-10-02T05:00:00+00:00",
          "2015-10-02T06:00:00+00:00",
          "2015-10-02T07:00:00+00:00",
          "2015-10-02T08:00:00+00:00",
          "2015-10-02T09:00:00+00:00",
          "2015-10-02T10:00:00+00:00",
          "2015-10-02T11:00:00+00:00",
          "2015-10-02T12:00:00+00:00",
          "2015-10-02T13:00:00+00:00",
          "2015-10-02T14:00:00+00:00",
          "2015-10-02T15:00:00+00:00",
          "2015-10-02T16:00:00+00:00",
          "2015-10-02T17:00:00+00:00",
          "2015-10-02T18:00:00+00:00",
          "2015-10-02T19:00:00+00:00",
          "2015-10-02T20:00:00+00:00",
          "2015-10-02T21:00:00+00:00",
          "2015-10-02T22:00:00+00:00",
          "2015-10-02T23:00:00+00:00",
          "2015-10-03T00:00:00+00:00",
          "2015-10-03T01:00:00+00:00",
          "2015-10-03T02:00:00+00:00",
          "2015-10-03T03:00:00+00:00",
          "2015-10-03T04:00:00+00:00",
          "2015-10-03T05:00:00+00:00",
          "2015-10-03T06:00:00+00:00",
          "2015-10-03T07:00:00+00:00",
          "2015-10-03T08:00:00+00:00",
          "2015-10-03T09:00:00+00:00",
          "2015-10-03T10:00:00+00:00",
          "2015-10-03T11:00:00+00:00",
          "2015-10-03T12:00:00+00:00",
          "2015-10-03T13:00:00+00:00",
          "2015-10-03T14:00:00+00:00",
          "2015-10-03T15:00:00+00:00",
          "2015-10-03T16:00:00+00:00",
          "2015-10-03T17:00:00+00:00",
          "2015-10-03T18:00:00+00:00",
          "2015-10-03T19:00:00+00:00",
          "2015-10-03T20:00:00+00:00",
          "2015-10-03T21:00:00+00:00",
          "2015-10-03T22:00:00+00:00",
          "2015-10-03T23:00:00+00:00",
          "2015-10-04T00:00:00+00:00",
          "2015-10-04T01:00:00+00:00",
          "2015-10-04T02:00:00+00:00",
          "2015-10-04T03:00:00+00:00",
          "2015-10-04T04:00:00+00:00",
          "2015-10-04T05:00:00+00:00",
          "2015-10-04T06:00:00+00:00",
          "2015-10-04T07:00:00+00:00",
          "2015-10-04T08:00:00+00:00",
          "2015-10-04T09:00:00+00:00",
          "2015-10-04T10:00:00+00:00",
          "2015-10-04T11:00:00+00:00",
          "2015-10-04T12:00:00+00:00",
          "2015-10-04T13:00:00+00:00",
          "2015-10-04T14:00:00+00:00",
          "2015-10-04T15:00:00+00:00",
          "2015-10-04T16:00:00+00:00",
          "2015-10-04T17:00:00+00:00",
          "2015-10-04T18:00:00+00:00",
          "2015-10-04T19:00:00+00:00",
          "2015-10-04T20:00:00+00:00",
          "2015-10-04T21:00:00+00:00",
          "2015-10-04T22:00:00+00:00",
          "2015-10-04T23:00:00+00:00",
          "2015-10-05T00:00:00+00:00",
          "2015-10-05T01:00:00+00:00",
          "2015-10-05T02:00:00+00:00",
          "2015-10-05T03:00:00+00:00",
          "2015-10-05T04:00:00+00:00",
          "2015-10-05T05:00:00+00:00",
          "2015-10-05T06:00:00+00:00",
          "2015-10-05T07:00:00+00:00",
          "2015-10-05T08:00:00+00:00",
          "2015-10-05T09:00:00+00:00",
          "2015-10-05T10:00:00+00:00",
          "2015-10-05T11:00:00+00:00",
          "2015-10-05T12:00:00+00:00",
          "2015-10-05T13:00:00+00:00",
          "2015-10-05T14:00:00+00:00",
          "2015-10-05T15:00:00+00:00",
          "2015-10-05T16:00:00+00:00",
          "2015-10-05T17:00:00+00:00",
          "2015-10-05T18:00:00+00:00",
          "2015-10-05T19:00:00+00:00",
          "2015-10-05T20:00:00+00:00",
          "2015-10-05T21:00:00+00:00",
          "2015-10-05T22:00:00+00:00",
          "2015-10-05T23:00:00+00:00",
          "2015-10-06T00:00:00+00:00",
          "2015-10-06T01:00:00+00:00",
          "2015-10-06T02:00:00+00:00",
          "2015-10-06T03:00:00+00:00",
          "2015-10-06T04:00:00+00:00",
          "2015-10-06T05:00:00+00:00",
          "2015-10-06T06:00:00+00:00",
          "2015-10-06T07:00:00+00:00",
          "2015-10-06T08:00:00+00:00",
          "2015-10-06T09:00:00+00:00",
          "2015-10-06T10:00:00+00:00",
          "2015-10-06T11:00:00+00:00",
          "2015-10-06T12:00:00+00:00",
          "2015-10-06T13:00:00+00:00",
          "2015-10-06T14:00:00+00:00",
          "2015-10-06T15:00:00+00:00",
          "2015-10-06T16:00:00+00:00",
          "2015-10-06T17:00:00+00:00",
          "2015-10-06T18:00:00+00:00",
          "2015-10-06T19:00:00+00:00",
          "2015-10-06T20:00:00+00:00",
          "2015-10-06T21:00:00+00:00",
          "2015-10-06T22:00:00+00:00",
          "2015-10-06T23:00:00+00:00",
          "2015-10-07T00:00:00+00:00",
          "2015-10-07T01:00:00+00:00",
          "2015-10-07T02:00:00+00:00",
          "2015-10-07T03:00:00+00:00",
          "2015-10-07T04:00:00+00:00",
          "2015-10-07T05:00:00+00:00",
          "2015-10-07T06:00:00+00:00",
          "2015-10-07T07:00:00+00:00",
          "2015-10-07T08:00:00+00:00",
          "2015-10-07T09:00:00+00:00",
          "2015-10-07T10:00:00+00:00",
          "2015-10-07T11:00:00+00:00",
          "2015-10-07T12:00:00+00:00",
          "2015-10-07T13:00:00+00:00",
          "2015-10-07T14:00:00+00:00",
          "2015-10-07T15:00:00+00:00",
          "2015-10-07T16:00:00+00:00",
          "2015-10-07T17:00:00+00:00",
          "2015-10-07T18:00:00+00:00",
          "2015-10-07T19:00:00+00:00",
          "2015-10-07T20:00:00+00:00",
          "2015-10-07T21:00:00+00:00",
          "2015-10-07T22:00:00+00:00",
          "2015-10-07T23:00:00+00:00",
          "2015-10-08T00:00:00+00:00",
          "2015-10-08T01:00:00+00:00",
          "2015-10-08T02:00:00+00:00",
          "2015-10-08T03:00:00+00:00",
          "2015-10-08T04:00:00+00:00",
          "2015-10-08T05:00:00+00:00",
          "2015-10-08T06:00:00+00:00",
          "2015-10-08T07:00:00+00:00",
          "2015-10-08T08:00:00+00:00",
          "2015-10-08T09:00:00+00:00",
          "2015-10-08T10:00:00+00:00",
          "2015-10-08T11:00:00+00:00",
          "2015-10-08T12:00:00+00:00",
          "2015-10-08T13:00:00+00:00",
          "2015-10-08T14:00:00+00:00",
          "2015-10-08T15:00:00+00:00",
          "2015-10-08T16:00:00+00:00",
          "2015-10-08T17:00:00+00:00",
          "2015-10-08T18:00:00+00:00",
          "2015-10-08T19:00:00+00:00",
          "2015-10-08T20:00:00+00:00",
          "2015-10-08T21:00:00+00:00",
          "2015-10-08T22:00:00+00:00",
          "2015-10-08T23:00:00+00:00",
          "2015-10-09T00:00:00+00:00",
          "2015-10-09T01:00:00+00:00",
          "2015-10-09T02:00:00+00:00",
          "2015-10-09T03:00:00+00:00",
          "2015-10-09T04:00:00+00:00",
          "2015-10-09T05:00:00+00:00",
          "2015-10-09T06:00:00+00:00",
          "2015-10-09T07:00:00+00:00",
          "2015-10-09T08:00:00+00:00",
          "2015-10-09T09:00:00+00:00",
          "2015-10-09T10:00:00+00:00",
          "2015-10-09T11:00:00+00:00",
          "2015-10-09T12:00:00+00:00",
          "2015-10-09T13:00:00+00:00",
          "2015-10-09T14:00:00+00:00",
          "2015-10-09T15:00:00+00:00",
          "2015-10-09T16:00:00+00:00",
          "2015-10-09T17:00:00+00:00",
          "2015-10-09T18:00:00+00:00",
          "2015-10-09T19:00:00+00:00",
          "2015-10-09T20:00:00+00:00",
          "2015-10-09T21:00:00+00:00",
          "2015-10-09T22:00:00+00:00",
          "2015-10-09T23:00:00+00:00",
          "2015-10-10T00:00:00+00:00",
          "2015-10-10T01:00:00+00:00",
          "2015-10-10T02:00:00+00:00",
          "2015-10-10T03:00:00+00:00",
          "2015-10-10T04:00:00+00:00",
          "2015-10-10T05:00:00+00:00",
          "2015-10-10T06:00:00+00:00",
          "2015-10-10T07:00:00+00:00",
          "2015-10-10T08:00:00+00:00",
          "2015-10-10T09:00:00+00:00",
          "2015-10-10T10:00:00+00:00",
          "2015-10-10T11:00:00+00:00",
          "2015-10-10T12:00:00+00:00",
          "2015-10-10T13:00:00+00:00",
          "2015-10-10T14:00:00+00:00",
          "2015-10-10T15:00:00+00:00",
          "2015-10-10T16:00:00+00:00",
          "2015-10-10T17:00:00+00:00",
          "2015-10-10T18:00:00+00:00",
          "2015-10-10T19:00:00+00:00",
          "2015-10-10T20:00:00+00:00",
          "2015-10-10T21:00:00+00:00",
          "2015-10-10T22:00:00+00:00",
          "2015-10-10T23:00:00+00:00",
          "2015-10-11T00:00:00+00:00",
          "2015-10-11T01:00:00+00:00",
          "2015-10-11T02:00:00+00:00",
          "2015-10-11T03:00:00+00:00",
          "2015-10-11T04:00:00+00:00",
          "2015-10-11T05:00:00+00:00",
          "2015-10-11T06:00:00+00:00",
          "2015-10-11T07:00:00+00:00",
          "2015-10-11T08:00:00+00:00",
          "2015-10-11T09:00:00+00:00",
          "2015-10-11T10:00:00+00:00",
          "2015-10-11T11:00:00+00:00",
          "2015-10-11T12:00:00+00:00",
          "2015-10-11T13:00:00+00:00",
          "2015-10-11T14:00:00+00:00",
          "2015-10-11T15:00:00+00:00",
          "2015-10-11T16:00:00+00:00",
          "2015-10-11T17:00:00+00:00",
          "2015-10-11T18:00:00+00:00",
          "2015-10-11T19:00:00+00:00",
          "2015-10-11T20:00:00+00:00",
          "2015-10-11T21:00:00+00:00",
          "2015-10-11T22:00:00+00:00",
          "2015-10-11T23:00:00+00:00"
         ],
         "xaxis": "x",
         "y": [
          5.523177140858024,
          6.488915675028693,
          7.4546542091993615,
          8.42039274337003,
          9.386131277540699,
          10.351869811711367,
          11.317608345940243,
          12.283346880110912,
          13.24908541428158,
          14.21482394845225,
          15.180562482622918,
          16.146301016793586,
          17.112039550964255,
          18.077778085134923,
          19.043516619305592,
          20.00925515353447,
          20.974993687705137,
          21.940732221875805,
          22.906470756046474,
          23.872209290217143,
          24.83794782438781,
          25.80368635855848,
          26.76942489272915,
          27.735163426899817,
          28.700901961128693,
          29.66664049529936,
          30.63237902947003,
          31.5981175636407,
          32.56385609781137,
          33.529594631982036,
          34.495333166152705,
          35.46107170032337,
          36.42681023449404,
          37.39254876872292,
          38.35828730289359,
          39.324025837064255,
          40.289764371234924,
          41.25550290540559,
          42.22124143957626,
          43.18697997374693,
          44.1527185079176,
          45.11845704208827,
          46.08419557631714,
          47.04993411048781,
          48.01567264465848,
          48.98141117882915,
          49.94714971299982,
          50.912888247170486,
          51.878626781341154,
          52.84436531551182,
          53.81010384968249,
          54.77584238385316,
          55.741580918082036,
          56.707319452252705,
          57.67305798642337,
          58.63879652059404,
          59.60453505476471,
          60.57027358893538,
          61.53601212310605,
          62.501750657276716,
          63.467489191447385,
          64.43322772567626,
          65.39896625984693,
          66.3647047940176,
          67.33044332818827,
          68.29618186235894,
          69.2619203965296,
          70.22765893070027,
          71.19339746487094,
          72.15913599904161,
          73.12487453327049,
          74.09061306744115,
          75.05635160161182,
          76.02209013578249,
          76.98782866995316,
          77.95356720412383,
          78.9193057382945,
          79.88504427246517,
          80.85078280663583,
          81.81652134086471,
          82.78225987503538,
          83.74799840920605,
          84.71373694337672,
          85.67947547754738,
          86.64521401171805,
          87.61095254588872,
          88.57669108005939,
          89.54242961423006,
          90.50816814845894,
          91.4739066826296,
          92.43964521680027,
          93.40538375097094,
          94.37112228514161,
          95.33686081931228,
          96.30259935348295,
          97.26833788765362,
          98.23407642182428,
          99.19981495605316,
          100.16555349022383,
          101.1312920243945,
          102.09703055856517,
          103.06276909273583,
          104.0285076269065,
          104.99424616107717,
          105.95998469524784,
          106.92572322941851,
          107.89146176364738,
          108.85720029781805,
          109.82293883198872,
          110.78867736615939,
          111.75441590033006,
          112.72015443450073,
          113.6858929686714,
          114.65163150284206,
          115.61737003701273,
          116.58310857124161,
          117.54884710541228,
          118.51458563958295,
          119.48032417375362,
          120.44606270792428,
          121.41180124209495,
          122.37753977626562,
          123.34327831043629,
          124.30901684460696,
          125.27475537883583,
          126.2404939130065,
          127.20623244717717,
          128.17197098134784,
          129.1377095155185,
          130.10344804968918,
          131.06918658385985,
          132.03492511803051,
          133.00066365220118,
          133.96640218643006,
          134.93214072060073,
          135.8978792547714,
          136.86361778894207,
          137.82935632311273,
          138.7950948572834,
          139.76083339145407,
          140.72657192562474,
          141.6923104597954,
          142.65804899402428,
          143.62378752819495,
          144.58952606236562,
          145.5552645965363,
          146.52100313070696,
          147.48674166487763,
          148.4524801990483,
          149.41821873321896,
          150.38395726738963,
          151.3496958016185,
          152.31543433578918,
          153.28117286995985,
          154.24691140413051,
          155.21264993830118,
          156.17838847247185,
          157.14412700664252,
          158.1098655408132,
          159.07560407498386,
          160.04134260921273,
          161.0070811433834,
          161.97281967755407,
          162.93855821172474,
          163.9042967458954,
          164.87003528006608,
          165.83577381423675,
          166.8015123484074,
          167.76725088257808,
          168.73298941674875,
          169.69872795097763,
          170.6644664851483,
          171.63020501931896,
          172.59594355348963,
          173.5616820876603,
          174.52742062183097,
          175.49315915600164,
          176.4588976901723,
          177.42463622434298,
          178.39037475857185,
          179.35611329274252,
          180.3218518269132,
          181.28759036108386,
          182.25332889525453,
          183.2190674294252,
          184.18480596359586,
          185.15054449776653,
          186.1162830319372,
          187.08202156616608,
          188.04776010033675,
          189.0134986345074,
          189.97923716867808,
          190.94497570284875,
          191.91071423701942,
          192.8764527711901,
          193.84219130536076,
          194.80792983953143,
          195.7736683737603,
          196.73940690793097,
          197.70514544210164,
          198.6708839762723,
          199.63662251044298,
          200.60236104461364,
          201.5680995787843,
          202.53383811295498,
          203.49957664712565,
          204.46531518135453,
          205.4310537155252,
          206.39679224969586,
          207.36253078386653,
          208.3282693180372,
          209.29400785220787,
          210.25974638637854,
          211.2254849205492,
          212.19122345471988,
          213.15696198894875,
          214.12270052311942,
          215.0884390572901,
          216.05417759146076,
          217.01991612563143,
          217.9856546598021,
          218.95139319397276,
          219.91713172814343,
          220.8828702623141,
          221.84860879654298,
          222.81434733071364,
          223.7800858648843,
          224.74582439905498,
          225.71156293322565,
          226.67730146739632,
          227.643040001567,
          228.60877853573766,
          229.57451706990832,
          230.5402556041372,
          231.50599413830787,
          232.47173267247854,
          233.4374712066492,
          234.40320974081988,
          235.36894827499054,
          236.3346868091612,
          237.30042534333188,
          238.26616387750255,
          239.23190241173143,
          240.1976409459021,
          241.16337948007276,
          242.12911801424343,
          243.0948565484141,
          244.06059508258477,
          245.02633361675544,
          245.9920721509261,
          246.95781068509677,
          247.92354921932565
         ],
         "yaxis": "y"
        }
       ],
       "layout": {
        "legend": {
         "title": {
          "text": "Data Category"
         },
         "tracegroupgap": 0
        },
        "margin": {
         "t": 60
        },
        "showlegend": true,
        "template": {
         "data": {
          "bar": [
           {
            "error_x": {
             "color": "#2a3f5f"
            },
            "error_y": {
             "color": "#2a3f5f"
            },
            "marker": {
             "line": {
              "color": "#E5ECF6",
              "width": 0.5
             }
            },
            "type": "bar"
           }
          ],
          "barpolar": [
           {
            "marker": {
             "line": {
              "color": "#E5ECF6",
              "width": 0.5
             }
            },
            "type": "barpolar"
           }
          ],
          "carpet": [
           {
            "aaxis": {
             "endlinecolor": "#2a3f5f",
             "gridcolor": "white",
             "linecolor": "white",
             "minorgridcolor": "white",
             "startlinecolor": "#2a3f5f"
            },
            "baxis": {
             "endlinecolor": "#2a3f5f",
             "gridcolor": "white",
             "linecolor": "white",
             "minorgridcolor": "white",
             "startlinecolor": "#2a3f5f"
            },
            "type": "carpet"
           }
          ],
          "choropleth": [
           {
            "colorbar": {
             "outlinewidth": 0,
             "ticks": ""
            },
            "type": "choropleth"
           }
          ],
          "contour": [
           {
            "colorbar": {
             "outlinewidth": 0,
             "ticks": ""
            },
            "colorscale": [
             [
              0,
              "#0d0887"
             ],
             [
              0.1111111111111111,
              "#46039f"
             ],
             [
              0.2222222222222222,
              "#7201a8"
             ],
             [
              0.3333333333333333,
              "#9c179e"
             ],
             [
              0.4444444444444444,
              "#bd3786"
             ],
             [
              0.5555555555555556,
              "#d8576b"
             ],
             [
              0.6666666666666666,
              "#ed7953"
             ],
             [
              0.7777777777777778,
              "#fb9f3a"
             ],
             [
              0.8888888888888888,
              "#fdca26"
             ],
             [
              1,
              "#f0f921"
             ]
            ],
            "type": "contour"
           }
          ],
          "contourcarpet": [
           {
            "colorbar": {
             "outlinewidth": 0,
             "ticks": ""
            },
            "type": "contourcarpet"
           }
          ],
          "heatmap": [
           {
            "colorbar": {
             "outlinewidth": 0,
             "ticks": ""
            },
            "colorscale": [
             [
              0,
              "#0d0887"
             ],
             [
              0.1111111111111111,
              "#46039f"
             ],
             [
              0.2222222222222222,
              "#7201a8"
             ],
             [
              0.3333333333333333,
              "#9c179e"
             ],
             [
              0.4444444444444444,
              "#bd3786"
             ],
             [
              0.5555555555555556,
              "#d8576b"
             ],
             [
              0.6666666666666666,
              "#ed7953"
             ],
             [
              0.7777777777777778,
              "#fb9f3a"
             ],
             [
              0.8888888888888888,
              "#fdca26"
             ],
             [
              1,
              "#f0f921"
             ]
            ],
            "type": "heatmap"
           }
          ],
          "heatmapgl": [
           {
            "colorbar": {
             "outlinewidth": 0,
             "ticks": ""
            },
            "colorscale": [
             [
              0,
              "#0d0887"
             ],
             [
              0.1111111111111111,
              "#46039f"
             ],
             [
              0.2222222222222222,
              "#7201a8"
             ],
             [
              0.3333333333333333,
              "#9c179e"
             ],
             [
              0.4444444444444444,
              "#bd3786"
             ],
             [
              0.5555555555555556,
              "#d8576b"
             ],
             [
              0.6666666666666666,
              "#ed7953"
             ],
             [
              0.7777777777777778,
              "#fb9f3a"
             ],
             [
              0.8888888888888888,
              "#fdca26"
             ],
             [
              1,
              "#f0f921"
             ]
            ],
            "type": "heatmapgl"
           }
          ],
          "histogram": [
           {
            "marker": {
             "colorbar": {
              "outlinewidth": 0,
              "ticks": ""
             }
            },
            "type": "histogram"
           }
          ],
          "histogram2d": [
           {
            "colorbar": {
             "outlinewidth": 0,
             "ticks": ""
            },
            "colorscale": [
             [
              0,
              "#0d0887"
             ],
             [
              0.1111111111111111,
              "#46039f"
             ],
             [
              0.2222222222222222,
              "#7201a8"
             ],
             [
              0.3333333333333333,
              "#9c179e"
             ],
             [
              0.4444444444444444,
              "#bd3786"
             ],
             [
              0.5555555555555556,
              "#d8576b"
             ],
             [
              0.6666666666666666,
              "#ed7953"
             ],
             [
              0.7777777777777778,
              "#fb9f3a"
             ],
             [
              0.8888888888888888,
              "#fdca26"
             ],
             [
              1,
              "#f0f921"
             ]
            ],
            "type": "histogram2d"
           }
          ],
          "histogram2dcontour": [
           {
            "colorbar": {
             "outlinewidth": 0,
             "ticks": ""
            },
            "colorscale": [
             [
              0,
              "#0d0887"
             ],
             [
              0.1111111111111111,
              "#46039f"
             ],
             [
              0.2222222222222222,
              "#7201a8"
             ],
             [
              0.3333333333333333,
              "#9c179e"
             ],
             [
              0.4444444444444444,
              "#bd3786"
             ],
             [
              0.5555555555555556,
              "#d8576b"
             ],
             [
              0.6666666666666666,
              "#ed7953"
             ],
             [
              0.7777777777777778,
              "#fb9f3a"
             ],
             [
              0.8888888888888888,
              "#fdca26"
             ],
             [
              1,
              "#f0f921"
             ]
            ],
            "type": "histogram2dcontour"
           }
          ],
          "mesh3d": [
           {
            "colorbar": {
             "outlinewidth": 0,
             "ticks": ""
            },
            "type": "mesh3d"
           }
          ],
          "parcoords": [
           {
            "line": {
             "colorbar": {
              "outlinewidth": 0,
              "ticks": ""
             }
            },
            "type": "parcoords"
           }
          ],
          "pie": [
           {
            "automargin": true,
            "type": "pie"
           }
          ],
          "scatter": [
           {
            "marker": {
             "colorbar": {
              "outlinewidth": 0,
              "ticks": ""
             }
            },
            "type": "scatter"
           }
          ],
          "scatter3d": [
           {
            "line": {
             "colorbar": {
              "outlinewidth": 0,
              "ticks": ""
             }
            },
            "marker": {
             "colorbar": {
              "outlinewidth": 0,
              "ticks": ""
             }
            },
            "type": "scatter3d"
           }
          ],
          "scattercarpet": [
           {
            "marker": {
             "colorbar": {
              "outlinewidth": 0,
              "ticks": ""
             }
            },
            "type": "scattercarpet"
           }
          ],
          "scattergeo": [
           {
            "marker": {
             "colorbar": {
              "outlinewidth": 0,
              "ticks": ""
             }
            },
            "type": "scattergeo"
           }
          ],
          "scattergl": [
           {
            "marker": {
             "colorbar": {
              "outlinewidth": 0,
              "ticks": ""
             }
            },
            "type": "scattergl"
           }
          ],
          "scattermapbox": [
           {
            "marker": {
             "colorbar": {
              "outlinewidth": 0,
              "ticks": ""
             }
            },
            "type": "scattermapbox"
           }
          ],
          "scatterpolar": [
           {
            "marker": {
             "colorbar": {
              "outlinewidth": 0,
              "ticks": ""
             }
            },
            "type": "scatterpolar"
           }
          ],
          "scatterpolargl": [
           {
            "marker": {
             "colorbar": {
              "outlinewidth": 0,
              "ticks": ""
             }
            },
            "type": "scatterpolargl"
           }
          ],
          "scatterternary": [
           {
            "marker": {
             "colorbar": {
              "outlinewidth": 0,
              "ticks": ""
             }
            },
            "type": "scatterternary"
           }
          ],
          "surface": [
           {
            "colorbar": {
             "outlinewidth": 0,
             "ticks": ""
            },
            "colorscale": [
             [
              0,
              "#0d0887"
             ],
             [
              0.1111111111111111,
              "#46039f"
             ],
             [
              0.2222222222222222,
              "#7201a8"
             ],
             [
              0.3333333333333333,
              "#9c179e"
             ],
             [
              0.4444444444444444,
              "#bd3786"
             ],
             [
              0.5555555555555556,
              "#d8576b"
             ],
             [
              0.6666666666666666,
              "#ed7953"
             ],
             [
              0.7777777777777778,
              "#fb9f3a"
             ],
             [
              0.8888888888888888,
              "#fdca26"
             ],
             [
              1,
              "#f0f921"
             ]
            ],
            "type": "surface"
           }
          ],
          "table": [
           {
            "cells": {
             "fill": {
              "color": "#EBF0F8"
             },
             "line": {
              "color": "white"
             }
            },
            "header": {
             "fill": {
              "color": "#C8D4E3"
             },
             "line": {
              "color": "white"
             }
            },
            "type": "table"
           }
          ]
         },
         "layout": {
          "annotationdefaults": {
           "arrowcolor": "#2a3f5f",
           "arrowhead": 0,
           "arrowwidth": 1
          },
          "coloraxis": {
           "colorbar": {
            "outlinewidth": 0,
            "ticks": ""
           }
          },
          "colorscale": {
           "diverging": [
            [
             0,
             "#8e0152"
            ],
            [
             0.1,
             "#c51b7d"
            ],
            [
             0.2,
             "#de77ae"
            ],
            [
             0.3,
             "#f1b6da"
            ],
            [
             0.4,
             "#fde0ef"
            ],
            [
             0.5,
             "#f7f7f7"
            ],
            [
             0.6,
             "#e6f5d0"
            ],
            [
             0.7,
             "#b8e186"
            ],
            [
             0.8,
             "#7fbc41"
            ],
            [
             0.9,
             "#4d9221"
            ],
            [
             1,
             "#276419"
            ]
           ],
           "sequential": [
            [
             0,
             "#0d0887"
            ],
            [
             0.1111111111111111,
             "#46039f"
            ],
            [
             0.2222222222222222,
             "#7201a8"
            ],
            [
             0.3333333333333333,
             "#9c179e"
            ],
            [
             0.4444444444444444,
             "#bd3786"
            ],
            [
             0.5555555555555556,
             "#d8576b"
            ],
            [
             0.6666666666666666,
             "#ed7953"
            ],
            [
             0.7777777777777778,
             "#fb9f3a"
            ],
            [
             0.8888888888888888,
             "#fdca26"
            ],
            [
             1,
             "#f0f921"
            ]
           ],
           "sequentialminus": [
            [
             0,
             "#0d0887"
            ],
            [
             0.1111111111111111,
             "#46039f"
            ],
            [
             0.2222222222222222,
             "#7201a8"
            ],
            [
             0.3333333333333333,
             "#9c179e"
            ],
            [
             0.4444444444444444,
             "#bd3786"
            ],
            [
             0.5555555555555556,
             "#d8576b"
            ],
            [
             0.6666666666666666,
             "#ed7953"
            ],
            [
             0.7777777777777778,
             "#fb9f3a"
            ],
            [
             0.8888888888888888,
             "#fdca26"
            ],
            [
             1,
             "#f0f921"
            ]
           ]
          },
          "colorway": [
           "#636efa",
           "#EF553B",
           "#00cc96",
           "#ab63fa",
           "#FFA15A",
           "#19d3f3",
           "#FF6692",
           "#B6E880",
           "#FF97FF",
           "#FECB52"
          ],
          "font": {
           "color": "#2a3f5f"
          },
          "geo": {
           "bgcolor": "white",
           "lakecolor": "white",
           "landcolor": "#E5ECF6",
           "showlakes": true,
           "showland": true,
           "subunitcolor": "white"
          },
          "hoverlabel": {
           "align": "left"
          },
          "hovermode": "closest",
          "mapbox": {
           "style": "light"
          },
          "paper_bgcolor": "white",
          "plot_bgcolor": "#E5ECF6",
          "polar": {
           "angularaxis": {
            "gridcolor": "white",
            "linecolor": "white",
            "ticks": ""
           },
           "bgcolor": "#E5ECF6",
           "radialaxis": {
            "gridcolor": "white",
            "linecolor": "white",
            "ticks": ""
           }
          },
          "scene": {
           "xaxis": {
            "backgroundcolor": "#E5ECF6",
            "gridcolor": "white",
            "gridwidth": 2,
            "linecolor": "white",
            "showbackground": true,
            "ticks": "",
            "zerolinecolor": "white"
           },
           "yaxis": {
            "backgroundcolor": "#E5ECF6",
            "gridcolor": "white",
            "gridwidth": 2,
            "linecolor": "white",
            "showbackground": true,
            "ticks": "",
            "zerolinecolor": "white"
           },
           "zaxis": {
            "backgroundcolor": "#E5ECF6",
            "gridcolor": "white",
            "gridwidth": 2,
            "linecolor": "white",
            "showbackground": true,
            "ticks": "",
            "zerolinecolor": "white"
           }
          },
          "shapedefaults": {
           "line": {
            "color": "#2a3f5f"
           }
          },
          "ternary": {
           "aaxis": {
            "gridcolor": "white",
            "linecolor": "white",
            "ticks": ""
           },
           "baxis": {
            "gridcolor": "white",
            "linecolor": "white",
            "ticks": ""
           },
           "bgcolor": "#E5ECF6",
           "caxis": {
            "gridcolor": "white",
            "linecolor": "white",
            "ticks": ""
           }
          },
          "title": {
           "x": 0.05
          },
          "xaxis": {
           "automargin": true,
           "gridcolor": "white",
           "linecolor": "white",
           "ticks": "",
           "title": {
            "standoff": 15
           },
           "zerolinecolor": "white",
           "zerolinewidth": 2
          },
          "yaxis": {
           "automargin": true,
           "gridcolor": "white",
           "linecolor": "white",
           "ticks": "",
           "title": {
            "standoff": 15
           },
           "zerolinecolor": "white",
           "zerolinewidth": 2
          }
         }
        },
        "title": {
         "text": "Mean predictions with linear regression model"
        },
        "xaxis": {
         "anchor": "y",
         "domain": [
          0,
          1
         ],
         "title": {
          "text": "Date and time"
         }
        },
        "yaxis": {
         "anchor": "x",
         "domain": [
          0,
          1
         ],
         "title": {
          "text": "meter value reading"
         }
        }
       }
      },
      "text/html": [
       "<div>                            <div id=\"749d9030-6afc-42b2-aca6-7bc920f7f261\" class=\"plotly-graph-div\" style=\"height:525px; width:100%;\"></div>            <script type=\"text/javascript\">                require([\"plotly\"], function(Plotly) {                    window.PLOTLYENV=window.PLOTLYENV || {};                                    if (document.getElementById(\"749d9030-6afc-42b2-aca6-7bc920f7f261\")) {                    Plotly.newPlot(                        \"749d9030-6afc-42b2-aca6-7bc920f7f261\",                        [{\"mode\": \"markers\", \"name\": \"mean actual\", \"type\": \"scatter\", \"x\": [\"2015-10-01T05:00:00+00:00\", \"2015-10-01T06:00:00+00:00\", \"2015-10-01T07:00:00+00:00\", \"2015-10-01T08:00:00+00:00\", \"2015-10-01T09:00:00+00:00\", \"2015-10-01T10:00:00+00:00\", \"2015-10-01T11:00:00+00:00\", \"2015-10-01T12:00:00+00:00\", \"2015-10-01T13:00:00+00:00\", \"2015-10-01T14:00:00+00:00\", \"2015-10-01T15:00:00+00:00\", \"2015-10-01T16:00:00+00:00\", \"2015-10-01T17:00:00+00:00\", \"2015-10-01T18:00:00+00:00\", \"2015-10-01T19:00:00+00:00\", \"2015-10-01T20:00:00+00:00\", \"2015-10-01T21:00:00+00:00\", \"2015-10-01T22:00:00+00:00\", \"2015-10-01T23:00:00+00:00\", \"2015-10-02T00:00:00+00:00\", \"2015-10-02T01:00:00+00:00\", \"2015-10-02T02:00:00+00:00\", \"2015-10-02T03:00:00+00:00\", \"2015-10-02T04:00:00+00:00\", \"2015-10-02T05:00:00+00:00\", \"2015-10-02T06:00:00+00:00\", \"2015-10-02T07:00:00+00:00\", \"2015-10-02T08:00:00+00:00\", \"2015-10-02T09:00:00+00:00\", \"2015-10-02T10:00:00+00:00\", \"2015-10-02T11:00:00+00:00\", \"2015-10-02T12:00:00+00:00\", \"2015-10-02T13:00:00+00:00\", \"2015-10-02T14:00:00+00:00\", \"2015-10-02T15:00:00+00:00\", \"2015-10-02T16:00:00+00:00\", \"2015-10-02T17:00:00+00:00\", \"2015-10-02T18:00:00+00:00\", \"2015-10-02T19:00:00+00:00\", \"2015-10-02T20:00:00+00:00\", \"2015-10-02T21:00:00+00:00\", \"2015-10-02T22:00:00+00:00\", \"2015-10-02T23:00:00+00:00\", \"2015-10-03T00:00:00+00:00\", \"2015-10-03T01:00:00+00:00\", \"2015-10-03T02:00:00+00:00\", \"2015-10-03T03:00:00+00:00\", \"2015-10-03T04:00:00+00:00\", \"2015-10-03T05:00:00+00:00\", \"2015-10-03T06:00:00+00:00\", \"2015-10-03T07:00:00+00:00\", \"2015-10-03T08:00:00+00:00\", \"2015-10-03T09:00:00+00:00\", \"2015-10-03T10:00:00+00:00\", \"2015-10-03T11:00:00+00:00\", \"2015-10-03T12:00:00+00:00\", \"2015-10-03T13:00:00+00:00\", \"2015-10-03T14:00:00+00:00\", \"2015-10-03T15:00:00+00:00\", \"2015-10-03T16:00:00+00:00\", \"2015-10-03T17:00:00+00:00\", \"2015-10-03T18:00:00+00:00\", \"2015-10-03T19:00:00+00:00\", \"2015-10-03T20:00:00+00:00\", \"2015-10-03T21:00:00+00:00\", \"2015-10-03T22:00:00+00:00\", \"2015-10-03T23:00:00+00:00\", \"2015-10-04T00:00:00+00:00\", \"2015-10-04T01:00:00+00:00\", \"2015-10-04T02:00:00+00:00\", \"2015-10-04T03:00:00+00:00\", \"2015-10-04T04:00:00+00:00\", \"2015-10-04T05:00:00+00:00\", \"2015-10-04T06:00:00+00:00\", \"2015-10-04T07:00:00+00:00\", \"2015-10-04T08:00:00+00:00\", \"2015-10-04T09:00:00+00:00\", \"2015-10-04T10:00:00+00:00\", \"2015-10-04T11:00:00+00:00\", \"2015-10-04T12:00:00+00:00\", \"2015-10-04T13:00:00+00:00\", \"2015-10-04T14:00:00+00:00\", \"2015-10-04T15:00:00+00:00\", \"2015-10-04T16:00:00+00:00\", \"2015-10-04T17:00:00+00:00\", \"2015-10-04T18:00:00+00:00\", \"2015-10-04T19:00:00+00:00\", \"2015-10-04T20:00:00+00:00\", \"2015-10-04T21:00:00+00:00\", \"2015-10-04T22:00:00+00:00\", \"2015-10-04T23:00:00+00:00\", \"2015-10-05T00:00:00+00:00\", \"2015-10-05T01:00:00+00:00\", \"2015-10-05T02:00:00+00:00\", \"2015-10-05T03:00:00+00:00\", \"2015-10-05T04:00:00+00:00\", \"2015-10-05T05:00:00+00:00\", \"2015-10-05T06:00:00+00:00\", \"2015-10-05T07:00:00+00:00\", \"2015-10-05T08:00:00+00:00\", \"2015-10-05T09:00:00+00:00\", \"2015-10-05T10:00:00+00:00\", \"2015-10-05T11:00:00+00:00\", \"2015-10-05T12:00:00+00:00\", \"2015-10-05T13:00:00+00:00\", \"2015-10-05T14:00:00+00:00\", \"2015-10-05T15:00:00+00:00\", \"2015-10-05T16:00:00+00:00\", \"2015-10-05T17:00:00+00:00\", \"2015-10-05T18:00:00+00:00\", \"2015-10-05T19:00:00+00:00\", \"2015-10-05T20:00:00+00:00\", \"2015-10-05T21:00:00+00:00\", \"2015-10-05T22:00:00+00:00\", \"2015-10-05T23:00:00+00:00\", \"2015-10-06T00:00:00+00:00\", \"2015-10-06T01:00:00+00:00\", \"2015-10-06T02:00:00+00:00\", \"2015-10-06T03:00:00+00:00\", \"2015-10-06T04:00:00+00:00\", \"2015-10-06T05:00:00+00:00\", \"2015-10-06T06:00:00+00:00\", \"2015-10-06T07:00:00+00:00\", \"2015-10-06T08:00:00+00:00\", \"2015-10-06T09:00:00+00:00\", \"2015-10-06T10:00:00+00:00\", \"2015-10-06T11:00:00+00:00\", \"2015-10-06T12:00:00+00:00\", \"2015-10-06T13:00:00+00:00\", \"2015-10-06T14:00:00+00:00\", \"2015-10-06T15:00:00+00:00\", \"2015-10-06T16:00:00+00:00\", \"2015-10-06T17:00:00+00:00\", \"2015-10-06T18:00:00+00:00\", \"2015-10-06T19:00:00+00:00\", \"2015-10-06T20:00:00+00:00\", \"2015-10-06T21:00:00+00:00\", \"2015-10-06T22:00:00+00:00\", \"2015-10-06T23:00:00+00:00\", \"2015-10-07T00:00:00+00:00\", \"2015-10-07T01:00:00+00:00\", \"2015-10-07T02:00:00+00:00\", \"2015-10-07T03:00:00+00:00\", \"2015-10-07T04:00:00+00:00\", \"2015-10-07T05:00:00+00:00\", \"2015-10-07T06:00:00+00:00\", \"2015-10-07T07:00:00+00:00\", \"2015-10-07T08:00:00+00:00\", \"2015-10-07T09:00:00+00:00\", \"2015-10-07T10:00:00+00:00\", \"2015-10-07T11:00:00+00:00\", \"2015-10-07T12:00:00+00:00\", \"2015-10-07T13:00:00+00:00\", \"2015-10-07T14:00:00+00:00\", \"2015-10-07T15:00:00+00:00\", \"2015-10-07T16:00:00+00:00\", \"2015-10-07T17:00:00+00:00\", \"2015-10-07T18:00:00+00:00\", \"2015-10-07T19:00:00+00:00\", \"2015-10-07T20:00:00+00:00\", \"2015-10-07T21:00:00+00:00\", \"2015-10-07T22:00:00+00:00\", \"2015-10-07T23:00:00+00:00\", \"2015-10-08T00:00:00+00:00\", \"2015-10-08T01:00:00+00:00\", \"2015-10-08T02:00:00+00:00\", \"2015-10-08T03:00:00+00:00\", \"2015-10-08T04:00:00+00:00\", \"2015-10-08T05:00:00+00:00\", \"2015-10-08T06:00:00+00:00\", \"2015-10-08T07:00:00+00:00\", \"2015-10-08T08:00:00+00:00\", \"2015-10-08T09:00:00+00:00\", \"2015-10-08T10:00:00+00:00\", \"2015-10-08T11:00:00+00:00\", \"2015-10-08T12:00:00+00:00\", \"2015-10-08T13:00:00+00:00\", \"2015-10-08T14:00:00+00:00\", \"2015-10-08T15:00:00+00:00\", \"2015-10-08T16:00:00+00:00\", \"2015-10-08T17:00:00+00:00\", \"2015-10-08T18:00:00+00:00\", \"2015-10-08T19:00:00+00:00\", \"2015-10-08T20:00:00+00:00\", \"2015-10-08T21:00:00+00:00\", \"2015-10-08T22:00:00+00:00\", \"2015-10-08T23:00:00+00:00\", \"2015-10-09T00:00:00+00:00\", \"2015-10-09T01:00:00+00:00\", \"2015-10-09T02:00:00+00:00\", \"2015-10-09T03:00:00+00:00\", \"2015-10-09T04:00:00+00:00\", \"2015-10-09T05:00:00+00:00\", \"2015-10-09T06:00:00+00:00\", \"2015-10-09T07:00:00+00:00\", \"2015-10-09T08:00:00+00:00\", \"2015-10-09T09:00:00+00:00\", \"2015-10-09T10:00:00+00:00\", \"2015-10-09T11:00:00+00:00\", \"2015-10-09T12:00:00+00:00\", \"2015-10-09T13:00:00+00:00\", \"2015-10-09T14:00:00+00:00\", \"2015-10-09T15:00:00+00:00\", \"2015-10-09T16:00:00+00:00\", \"2015-10-09T17:00:00+00:00\", \"2015-10-09T18:00:00+00:00\", \"2015-10-09T19:00:00+00:00\", \"2015-10-09T20:00:00+00:00\", \"2015-10-09T21:00:00+00:00\", \"2015-10-09T22:00:00+00:00\", \"2015-10-09T23:00:00+00:00\", \"2015-10-10T00:00:00+00:00\", \"2015-10-10T01:00:00+00:00\", \"2015-10-10T02:00:00+00:00\", \"2015-10-10T03:00:00+00:00\", \"2015-10-10T04:00:00+00:00\", \"2015-10-10T05:00:00+00:00\", \"2015-10-10T06:00:00+00:00\", \"2015-10-10T07:00:00+00:00\", \"2015-10-10T08:00:00+00:00\", \"2015-10-10T09:00:00+00:00\", \"2015-10-10T10:00:00+00:00\", \"2015-10-10T11:00:00+00:00\", \"2015-10-10T12:00:00+00:00\", \"2015-10-10T13:00:00+00:00\", \"2015-10-10T14:00:00+00:00\", \"2015-10-10T15:00:00+00:00\", \"2015-10-10T16:00:00+00:00\", \"2015-10-10T17:00:00+00:00\", \"2015-10-10T18:00:00+00:00\", \"2015-10-10T19:00:00+00:00\", \"2015-10-10T20:00:00+00:00\", \"2015-10-10T21:00:00+00:00\", \"2015-10-10T22:00:00+00:00\", \"2015-10-10T23:00:00+00:00\", \"2015-10-11T00:00:00+00:00\", \"2015-10-11T01:00:00+00:00\", \"2015-10-11T02:00:00+00:00\", \"2015-10-11T03:00:00+00:00\", \"2015-10-11T04:00:00+00:00\", \"2015-10-11T05:00:00+00:00\", \"2015-10-11T06:00:00+00:00\", \"2015-10-11T07:00:00+00:00\", \"2015-10-11T08:00:00+00:00\", \"2015-10-11T09:00:00+00:00\", \"2015-10-11T10:00:00+00:00\", \"2015-10-11T11:00:00+00:00\", \"2015-10-11T12:00:00+00:00\", \"2015-10-11T13:00:00+00:00\", \"2015-10-11T14:00:00+00:00\"], \"y\": [0.21360544217687075, 0.617831871704505, 0.7380667935066665, 0.9987810792209522, 1.0944450358605187, 1.5407107331506706, 2.413755335607038, 3.6756779410780305, 4.54475140463939, 6.473492264279127, 7.943183622303819, 8.502518914606144, 8.938339869250628, 9.745206286229404, 10.029069800991795, 10.668972799228127, 11.076734804664552, 12.118100094467342, 13.08877028847087, 14.135560854226954, 15.151207971659787, 17.347453174646564, 18.34499012045937, 19.167936374984574, 21.286720302697073, 22.6855575119994, 23.02245760537008, 23.884345299515836, 24.432022184034825, 25.024968501138446, 26.400173157593102, 27.77273802510179, 29.63005270355049, 31.082278411675073, 32.19945517711809, 33.08035153566151, 34.53666154937893, 35.08294331784969, 35.797574503657344, 36.94519214782671, 37.79732343389629, 38.75441026863018, 39.85639726663794, 40.25885119840222, 41.20449447708121, 42.44079605495142, 42.97760668618066, 43.94628167132623, 44.528634812012704, 45.19094928325575, 45.58200930879853, 46.00869540907596, 46.24879178095805, 46.91053420520048, 47.13478564820192, 48.005614973255504, 49.526251901862075, 50.60360697432584, 51.85169415221694, 53.49936540279201, 54.63786202749553, 56.05718549472597, 57.60796024907216, 58.23842574317401, 59.12465409815237, 59.7932488693942, 61.0214825486588, 61.75030324169574, 62.847395973525316, 63.83108166767612, 64.8668170434115, 65.57148719210339, 66.8986356846365, 67.53960790685872, 68.31638693307595, 68.75832696834931, 68.97555693167303, 69.39503745115354, 69.66539361014607, 70.32811847787093, 71.31248340663814, 72.50967183224762, 73.87304530424178, 75.53882385317823, 76.34851428900502, 77.70778809648299, 78.84558465177955, 79.42086389928102, 80.50769098293206, 81.12089028363137, 82.44109865187895, 84.89236737038904, 87.1153463294145, 89.230273930549, 90.6244188075452, 92.06122289493068, 92.65550717274436, 93.5549400396191, 93.99902457265712, 94.33554915918171, 94.65585801699056, 95.31220807216415, 95.96143113587523, 97.57283223477633, 99.62693571791208, 100.55634393047247, 101.64572475167147, 102.97857860194105, 103.99892884348695, 104.37207243042364, 104.73143641383825, 105.57256195496379, 106.31139733930479, 107.1045281548494, 108.42307578162487, 109.73892011132463, 111.51121367294404, 112.46475594839643, 114.22744722537342, 115.44915029880063, 116.1383692171372, 116.64012360310211, 116.99618420916272, 117.56643510522007, 118.11947743326239, 119.33905415283911, 120.22956618398082, 122.06412201516586, 124.23330402789627, 125.58658133882064, 126.6220369401299, 127.19566608875905, 127.86650582250202, 128.75782881323678, 129.15024889315686, 129.510642345858, 130.04425247875076, 131.27771835744136, 132.00672934645235, 134.03956193209393, 135.41868673321872, 136.87450793079026, 137.94817414146058, 138.83673470370536, 139.3327812953549, 140.02084852224564, 140.38265260963112, 140.65983514931366, 141.41610755074737, 141.8621166856454, 143.36722120065343, 144.9988033262573, 146.68020387015784, 149.00169416032284, 149.69259280416267, 150.89651916454065, 151.60701105360397, 152.04937137527463, 152.34808469898795, 152.66859607426977, 153.62435232312947, 154.1519490853416, 155.3478068674063, 156.13973356815652, 157.71737633570123, 159.60160876993368, 161.12820637867415, 161.60250454238408, 162.00668754892004, 162.19881248937034, 162.39319157433766, 162.71759494874104, 163.28056392421, 163.73188667553276, 165.00634104061214, 166.40295235522345, 168.27064515624957, 169.76979193969868, 171.16500758547613, 172.46377647303814, 173.31082773095895, 174.1226494363853, 174.68384171632758, 175.6463056412915, 176.1088820860108, 176.93237005637377, 177.9304220044257, 179.69563211919723, 180.72396086116234, 182.40471786944744, 183.447190987727, 184.21898112940352, 185.42856807024046, 185.97704778201805, 186.38012927568778, 186.7549799327965, 187.0279690535384, 187.3902295899369, 188.93510652947674, 190.17810963110054, 191.56389384054773, 192.25870473141126, 193.32881352399195, 194.7608281760066, 195.44111830833847, 195.88421203631592, 196.5955421239065, 197.43904714496256, 198.4048323824087, 198.9296339697103, 200.4657095281388, 202.05646976205693, 203.2574299130171, 204.04059713339362, 204.6809989430708, 205.776026138098, 206.85315284736757, 207.2760730998059, 207.84849917309404, 208.48961780623395, 208.79180444073765, 209.19062278288933, 209.77843457427255, 210.33445429529226, 211.39586193527134, 212.68239036895886, 213.85195661189468, 215.71502145710238, 217.50346970295803, 218.47345357529485, 219.2418196898566, 219.85810382846162, 220.74303298199544, 221.71939237423717, 223.32547123989195, 224.47319675286136, 225.64436542005274, 226.33946964648226, 227.11714349379895, 228.03014509893538, 229.06956085114183, 229.9968004059676, 230.3462936169066, 230.87257756587096, 231.11301684235676, 231.35399512333504, 231.71143565954145, 232.19229319152257, 232.8344935199298, 233.91162908099793]}, {\"mode\": \"markers\", \"name\": \"mean predictions\", \"type\": \"scatter\", \"x\": [\"2015-10-01T12:00:00+00:00\", \"2015-10-01T13:00:00+00:00\", \"2015-10-01T14:00:00+00:00\", \"2015-10-01T15:00:00+00:00\", \"2015-10-01T16:00:00+00:00\", \"2015-10-01T17:00:00+00:00\", \"2015-10-01T18:00:00+00:00\", \"2015-10-01T19:00:00+00:00\", \"2015-10-01T20:00:00+00:00\", \"2015-10-01T21:00:00+00:00\", \"2015-10-01T22:00:00+00:00\", \"2015-10-01T23:00:00+00:00\", \"2015-10-02T00:00:00+00:00\", \"2015-10-02T01:00:00+00:00\", \"2015-10-02T02:00:00+00:00\", \"2015-10-02T03:00:00+00:00\", \"2015-10-02T04:00:00+00:00\", \"2015-10-02T05:00:00+00:00\", \"2015-10-02T06:00:00+00:00\", \"2015-10-02T07:00:00+00:00\", \"2015-10-02T08:00:00+00:00\", \"2015-10-02T09:00:00+00:00\", \"2015-10-02T10:00:00+00:00\", \"2015-10-02T11:00:00+00:00\", \"2015-10-02T12:00:00+00:00\", \"2015-10-02T13:00:00+00:00\", \"2015-10-02T14:00:00+00:00\", \"2015-10-02T15:00:00+00:00\", \"2015-10-02T16:00:00+00:00\", \"2015-10-02T17:00:00+00:00\", \"2015-10-02T18:00:00+00:00\", \"2015-10-02T19:00:00+00:00\", \"2015-10-02T20:00:00+00:00\", \"2015-10-02T21:00:00+00:00\", \"2015-10-02T22:00:00+00:00\", \"2015-10-02T23:00:00+00:00\", \"2015-10-03T00:00:00+00:00\", \"2015-10-03T01:00:00+00:00\", \"2015-10-03T02:00:00+00:00\", \"2015-10-03T03:00:00+00:00\", \"2015-10-03T04:00:00+00:00\", \"2015-10-03T05:00:00+00:00\", \"2015-10-03T06:00:00+00:00\", \"2015-10-03T07:00:00+00:00\", \"2015-10-03T08:00:00+00:00\", \"2015-10-03T09:00:00+00:00\", \"2015-10-03T10:00:00+00:00\", \"2015-10-03T11:00:00+00:00\", \"2015-10-03T12:00:00+00:00\", \"2015-10-03T13:00:00+00:00\", \"2015-10-03T14:00:00+00:00\", \"2015-10-03T15:00:00+00:00\", \"2015-10-03T16:00:00+00:00\", \"2015-10-03T17:00:00+00:00\", \"2015-10-03T18:00:00+00:00\", \"2015-10-03T19:00:00+00:00\", \"2015-10-03T20:00:00+00:00\", \"2015-10-03T21:00:00+00:00\", \"2015-10-03T22:00:00+00:00\", \"2015-10-03T23:00:00+00:00\", \"2015-10-04T00:00:00+00:00\", \"2015-10-04T01:00:00+00:00\", \"2015-10-04T02:00:00+00:00\", \"2015-10-04T03:00:00+00:00\", \"2015-10-04T04:00:00+00:00\", \"2015-10-04T05:00:00+00:00\", \"2015-10-04T06:00:00+00:00\", \"2015-10-04T07:00:00+00:00\", \"2015-10-04T08:00:00+00:00\", \"2015-10-04T09:00:00+00:00\", \"2015-10-04T10:00:00+00:00\", \"2015-10-04T11:00:00+00:00\", \"2015-10-04T12:00:00+00:00\", \"2015-10-04T13:00:00+00:00\", \"2015-10-04T14:00:00+00:00\", \"2015-10-04T15:00:00+00:00\", \"2015-10-04T16:00:00+00:00\", \"2015-10-04T17:00:00+00:00\", \"2015-10-04T18:00:00+00:00\", \"2015-10-04T19:00:00+00:00\", \"2015-10-04T20:00:00+00:00\", \"2015-10-04T21:00:00+00:00\", \"2015-10-04T22:00:00+00:00\", \"2015-10-04T23:00:00+00:00\", \"2015-10-05T00:00:00+00:00\", \"2015-10-05T01:00:00+00:00\", \"2015-10-05T02:00:00+00:00\", \"2015-10-05T03:00:00+00:00\", \"2015-10-05T04:00:00+00:00\", \"2015-10-05T05:00:00+00:00\", \"2015-10-05T06:00:00+00:00\", \"2015-10-05T07:00:00+00:00\", \"2015-10-05T08:00:00+00:00\", \"2015-10-05T09:00:00+00:00\", \"2015-10-05T10:00:00+00:00\", \"2015-10-05T11:00:00+00:00\", \"2015-10-05T12:00:00+00:00\", \"2015-10-05T13:00:00+00:00\", \"2015-10-05T14:00:00+00:00\", \"2015-10-05T15:00:00+00:00\", \"2015-10-05T16:00:00+00:00\", \"2015-10-05T17:00:00+00:00\", \"2015-10-05T18:00:00+00:00\", \"2015-10-05T19:00:00+00:00\", \"2015-10-05T20:00:00+00:00\", \"2015-10-05T21:00:00+00:00\", \"2015-10-05T22:00:00+00:00\", \"2015-10-05T23:00:00+00:00\", \"2015-10-06T00:00:00+00:00\", \"2015-10-06T01:00:00+00:00\", \"2015-10-06T02:00:00+00:00\", \"2015-10-06T03:00:00+00:00\", \"2015-10-06T04:00:00+00:00\", \"2015-10-06T05:00:00+00:00\", \"2015-10-06T06:00:00+00:00\", \"2015-10-06T07:00:00+00:00\", \"2015-10-06T08:00:00+00:00\", \"2015-10-06T09:00:00+00:00\", \"2015-10-06T10:00:00+00:00\", \"2015-10-06T11:00:00+00:00\", \"2015-10-06T12:00:00+00:00\", \"2015-10-06T13:00:00+00:00\", \"2015-10-06T14:00:00+00:00\", \"2015-10-06T15:00:00+00:00\", \"2015-10-06T16:00:00+00:00\", \"2015-10-06T17:00:00+00:00\", \"2015-10-06T18:00:00+00:00\", \"2015-10-06T19:00:00+00:00\", \"2015-10-06T20:00:00+00:00\", \"2015-10-06T21:00:00+00:00\", \"2015-10-06T22:00:00+00:00\", \"2015-10-06T23:00:00+00:00\", \"2015-10-07T00:00:00+00:00\", \"2015-10-07T01:00:00+00:00\", \"2015-10-07T02:00:00+00:00\", \"2015-10-07T03:00:00+00:00\", \"2015-10-07T04:00:00+00:00\", \"2015-10-07T05:00:00+00:00\", \"2015-10-07T06:00:00+00:00\", \"2015-10-07T07:00:00+00:00\", \"2015-10-07T08:00:00+00:00\", \"2015-10-07T09:00:00+00:00\", \"2015-10-07T10:00:00+00:00\", \"2015-10-07T11:00:00+00:00\", \"2015-10-07T12:00:00+00:00\", \"2015-10-07T13:00:00+00:00\", \"2015-10-07T14:00:00+00:00\", \"2015-10-07T15:00:00+00:00\", \"2015-10-07T16:00:00+00:00\", \"2015-10-07T17:00:00+00:00\", \"2015-10-07T18:00:00+00:00\", \"2015-10-07T19:00:00+00:00\", \"2015-10-07T20:00:00+00:00\", \"2015-10-07T21:00:00+00:00\", \"2015-10-07T22:00:00+00:00\", \"2015-10-07T23:00:00+00:00\", \"2015-10-08T00:00:00+00:00\", \"2015-10-08T01:00:00+00:00\", \"2015-10-08T02:00:00+00:00\", \"2015-10-08T03:00:00+00:00\", \"2015-10-08T04:00:00+00:00\", \"2015-10-08T05:00:00+00:00\", \"2015-10-08T06:00:00+00:00\", \"2015-10-08T07:00:00+00:00\", \"2015-10-08T08:00:00+00:00\", \"2015-10-08T09:00:00+00:00\", \"2015-10-08T10:00:00+00:00\", \"2015-10-08T11:00:00+00:00\", \"2015-10-08T12:00:00+00:00\", \"2015-10-08T13:00:00+00:00\", \"2015-10-08T14:00:00+00:00\", \"2015-10-08T15:00:00+00:00\", \"2015-10-08T16:00:00+00:00\", \"2015-10-08T17:00:00+00:00\", \"2015-10-08T18:00:00+00:00\", \"2015-10-08T19:00:00+00:00\", \"2015-10-08T20:00:00+00:00\", \"2015-10-08T21:00:00+00:00\", \"2015-10-08T22:00:00+00:00\", \"2015-10-08T23:00:00+00:00\", \"2015-10-09T00:00:00+00:00\", \"2015-10-09T01:00:00+00:00\", \"2015-10-09T02:00:00+00:00\", \"2015-10-09T03:00:00+00:00\", \"2015-10-09T04:00:00+00:00\", \"2015-10-09T05:00:00+00:00\", \"2015-10-09T06:00:00+00:00\", \"2015-10-09T07:00:00+00:00\", \"2015-10-09T08:00:00+00:00\", \"2015-10-09T09:00:00+00:00\", \"2015-10-09T10:00:00+00:00\", \"2015-10-09T11:00:00+00:00\", \"2015-10-09T12:00:00+00:00\", \"2015-10-09T13:00:00+00:00\", \"2015-10-09T14:00:00+00:00\", \"2015-10-09T15:00:00+00:00\", \"2015-10-09T16:00:00+00:00\", \"2015-10-09T17:00:00+00:00\", \"2015-10-09T18:00:00+00:00\", \"2015-10-09T19:00:00+00:00\", \"2015-10-09T20:00:00+00:00\", \"2015-10-09T21:00:00+00:00\", \"2015-10-09T22:00:00+00:00\", \"2015-10-09T23:00:00+00:00\", \"2015-10-10T00:00:00+00:00\", \"2015-10-10T01:00:00+00:00\", \"2015-10-10T02:00:00+00:00\", \"2015-10-10T03:00:00+00:00\", \"2015-10-10T04:00:00+00:00\", \"2015-10-10T05:00:00+00:00\", \"2015-10-10T06:00:00+00:00\", \"2015-10-10T07:00:00+00:00\", \"2015-10-10T08:00:00+00:00\", \"2015-10-10T09:00:00+00:00\", \"2015-10-10T10:00:00+00:00\", \"2015-10-10T11:00:00+00:00\", \"2015-10-10T12:00:00+00:00\", \"2015-10-10T13:00:00+00:00\", \"2015-10-10T14:00:00+00:00\", \"2015-10-10T15:00:00+00:00\", \"2015-10-10T16:00:00+00:00\", \"2015-10-10T17:00:00+00:00\", \"2015-10-10T18:00:00+00:00\", \"2015-10-10T19:00:00+00:00\", \"2015-10-10T20:00:00+00:00\", \"2015-10-10T21:00:00+00:00\", \"2015-10-10T22:00:00+00:00\", \"2015-10-10T23:00:00+00:00\", \"2015-10-11T00:00:00+00:00\", \"2015-10-11T01:00:00+00:00\", \"2015-10-11T02:00:00+00:00\", \"2015-10-11T03:00:00+00:00\", \"2015-10-11T04:00:00+00:00\", \"2015-10-11T05:00:00+00:00\", \"2015-10-11T06:00:00+00:00\", \"2015-10-11T07:00:00+00:00\", \"2015-10-11T08:00:00+00:00\", \"2015-10-11T09:00:00+00:00\", \"2015-10-11T10:00:00+00:00\", \"2015-10-11T11:00:00+00:00\", \"2015-10-11T12:00:00+00:00\", \"2015-10-11T13:00:00+00:00\", \"2015-10-11T14:00:00+00:00\", \"2015-10-11T15:00:00+00:00\", \"2015-10-11T16:00:00+00:00\", \"2015-10-11T17:00:00+00:00\", \"2015-10-11T18:00:00+00:00\", \"2015-10-11T19:00:00+00:00\", \"2015-10-11T20:00:00+00:00\", \"2015-10-11T21:00:00+00:00\", \"2015-10-11T22:00:00+00:00\", \"2015-10-11T23:00:00+00:00\"], \"y\": [4.044934387720931, 5.514264777399092, 6.238310281636578, 8.613346009616452, 9.937234316647569, 10.025946468709718, 10.259122145334132, 11.11698272848763, 11.123487946772464, 11.84698526331805, 12.12520194698398, 13.402170702717259, 15.361074412553416, 16.425261751223218, 17.40774747303907, 20.11633610449481, 20.647238403926874, 21.276652236610765, 23.90486894259119, 25.030349081440065, 24.815342407916965, 25.752833629182295, 26.088575863242742, 26.625710774058913, 28.328726466075864, 29.74363913010518, 31.835169382179917, 33.13450480360625, 34.03452866224352, 34.71362988377281, 36.339771361561745, 36.46041959401096, 37.134279827376666, 38.42574687050304, 39.13212720139808, 40.09343270817578, 42.221720942586884, 42.26878113555507, 43.35840672857104, 44.7156340132483, 44.92868738157698, 46.01032331319609, 46.38666041985162, 47.005884910468666, 47.22673151666084, 47.59085745635184, 47.69214023128625, 48.483255239691616, 48.499606176887234, 49.601756767902096, 51.44776868309644, 52.3773662907724, 53.67002901405746, 55.476176086552286, 56.37813871510794, 57.857473129080134, 59.44244086843254, 59.616578272967196, 60.4902032338944, 60.99373972538539, 63.39968207137378, 63.912059649706904, 65.10982446869049, 66.02801125619497, 67.04131411409253, 67.55890296397179, 69.09846045172517, 69.42992461689168, 70.17684773064371, 70.41274590846264, 70.43239237661481, 70.86322153173826, 71.02269007607526, 71.81669886975796, 72.95351479735224, 74.26606575851332, 75.72149727635572, 77.52937205397704, 77.94671643068382, 79.44589006977789, 80.45984258100415, 80.71188196965522, 81.93465300377154, 82.30360021647256, 84.86647093663385, 87.87674233131905, 90.11171398331987, 92.19579780809762, 93.21605680978335, 94.53445785341697, 94.6502256401167, 95.53529065074044, 95.71047055409238, 95.89604808637576, 96.13635788203878, 96.88788184990024, 97.52754341711969, 99.568551496487, 101.91079831539209, 102.37928670452789, 103.42536757456416, 104.79538916991487, 105.6332239218616, 105.6435571355588, 105.86788755318804, 106.84477885396403, 107.53099313062113, 108.32476367679686, 110.85547511240732, 112.19029590268688, 114.1683980855663, 114.76397948503745, 116.79727234875037, 117.78191227442042, 118.14132604919845, 118.4423750144675, 118.61937908081929, 119.20544585776763, 119.71993932763559, 121.21801082212514, 121.995395413886, 124.23321578068531, 126.62786704430712, 127.64240872510403, 128.4390682976112, 128.6780451660898, 129.2569223519088, 130.18510652872064, 130.31999831457352, 130.58175917782168, 131.1281695881507, 132.65314544195337, 134.18738362689112, 136.7795508055862, 137.95212483029934, 139.38986845056306, 140.2498519211387, 140.95131788910155, 141.17930429761037, 141.84843071257623, 142.00917078750314, 142.16739048813022, 143.08357680455316, 143.3838903599896, 145.3353767372988, 147.10377833599478, 148.83641896214044, 151.4611174149224, 151.42565627354932, 152.67880939397378, 153.09676325101648, 153.29809487937305, 153.44187966362796, 153.68432950617478, 154.88351528618966, 155.23983174770618, 157.68960846045533, 158.32093248047207, 160.2070143977051, 162.28064367385355, 163.66897834390204, 163.6065600008972, 163.80109163342505, 163.7708381183406, 163.86579748484115, 164.1955177781642, 164.8384595925968, 165.2316279939467, 166.85652020587682, 168.36537069803106, 170.4733558680753, 171.84382635251762, 173.13752659748607, 174.32896755169568, 174.89434187989278, 175.58680693332337, 175.9549722980127, 177.02034875264656, 177.2374628838648, 178.1476916444602, 180.20271026075852, 182.31468477663077, 183.06565250196073, 184.97657846259216, 185.73179369233017, 186.27843668847657, 187.60137861097203, 187.81439165033404, 188.0490808687471, 188.3253737226478, 188.47818111814865, 188.82329447558345, 190.88608533185925, 192.08624143018028, 193.53583342616366, 193.89710653687962, 195.02149814407488, 196.58878645845095, 196.9192897930477, 197.15427661209563, 197.8880657076772, 198.7478666132144, 199.75441276716407, 200.06048616969292, 202.98267196053783, 204.6528804510036, 205.68350140150284, 206.21578745977777, 206.67726326864593, 207.8917582336346, 208.95162526527093, 209.04675302844234, 209.58373857493532, 210.19358730964316, 210.29332295005665, 210.66505499058388, 211.29330073952147, 211.81112403061772, 213.07904199981306, 214.4924833462024, 215.62129832850997, 217.7832268934722, 219.57561682000406, 220.14902554208112, 220.70124495965035, 221.13009885724406, 222.04663761472378, 223.0410660881826, 225.91665249478598, 226.89425701251318, 228.02189699621036, 228.4453157087373, 229.15315175013808, 230.07022859271356, 231.13475956506096, 231.99313432974793, 232.02812112239604, 232.52565172941274, 232.57326027900612, 232.73378570367987, 233.0926414101347, 233.59555723100925, 234.2935988360023, 235.5633136584034, 238.6445484728969, 239.55086609354234, 241.14987845209893, 242.15531107046962, 243.86844409081095, 245.73943922806563, 248.67249651833643, 248.60921009886644]}, {\"hovertemplate\": \"<b>OLS trendline</b><br>y = 0.000268261 * x + -387283<br>R<sup>2</sup>=0.999309<br><br>x=%{x}<br>y=%{y} <b>(trend)</b><extra></extra>\", \"legendgroup\": \"\", \"line\": {\"color\": \"Yellow\"}, \"marker\": {\"color\": \"#636efa\", \"symbol\": \"circle\"}, \"mode\": \"lines\", \"name\": \"predictions\", \"showlegend\": false, \"type\": \"scatter\", \"x\": [\"2015-10-01T12:00:00+00:00\", \"2015-10-01T13:00:00+00:00\", \"2015-10-01T14:00:00+00:00\", \"2015-10-01T15:00:00+00:00\", \"2015-10-01T16:00:00+00:00\", \"2015-10-01T17:00:00+00:00\", \"2015-10-01T18:00:00+00:00\", \"2015-10-01T19:00:00+00:00\", \"2015-10-01T20:00:00+00:00\", \"2015-10-01T21:00:00+00:00\", \"2015-10-01T22:00:00+00:00\", \"2015-10-01T23:00:00+00:00\", \"2015-10-02T00:00:00+00:00\", \"2015-10-02T01:00:00+00:00\", \"2015-10-02T02:00:00+00:00\", \"2015-10-02T03:00:00+00:00\", \"2015-10-02T04:00:00+00:00\", \"2015-10-02T05:00:00+00:00\", \"2015-10-02T06:00:00+00:00\", \"2015-10-02T07:00:00+00:00\", \"2015-10-02T08:00:00+00:00\", \"2015-10-02T09:00:00+00:00\", \"2015-10-02T10:00:00+00:00\", \"2015-10-02T11:00:00+00:00\", \"2015-10-02T12:00:00+00:00\", \"2015-10-02T13:00:00+00:00\", \"2015-10-02T14:00:00+00:00\", \"2015-10-02T15:00:00+00:00\", \"2015-10-02T16:00:00+00:00\", \"2015-10-02T17:00:00+00:00\", \"2015-10-02T18:00:00+00:00\", \"2015-10-02T19:00:00+00:00\", \"2015-10-02T20:00:00+00:00\", \"2015-10-02T21:00:00+00:00\", \"2015-10-02T22:00:00+00:00\", \"2015-10-02T23:00:00+00:00\", \"2015-10-03T00:00:00+00:00\", \"2015-10-03T01:00:00+00:00\", \"2015-10-03T02:00:00+00:00\", \"2015-10-03T03:00:00+00:00\", \"2015-10-03T04:00:00+00:00\", \"2015-10-03T05:00:00+00:00\", \"2015-10-03T06:00:00+00:00\", \"2015-10-03T07:00:00+00:00\", \"2015-10-03T08:00:00+00:00\", \"2015-10-03T09:00:00+00:00\", \"2015-10-03T10:00:00+00:00\", \"2015-10-03T11:00:00+00:00\", \"2015-10-03T12:00:00+00:00\", \"2015-10-03T13:00:00+00:00\", \"2015-10-03T14:00:00+00:00\", \"2015-10-03T15:00:00+00:00\", \"2015-10-03T16:00:00+00:00\", \"2015-10-03T17:00:00+00:00\", \"2015-10-03T18:00:00+00:00\", \"2015-10-03T19:00:00+00:00\", \"2015-10-03T20:00:00+00:00\", \"2015-10-03T21:00:00+00:00\", \"2015-10-03T22:00:00+00:00\", \"2015-10-03T23:00:00+00:00\", \"2015-10-04T00:00:00+00:00\", \"2015-10-04T01:00:00+00:00\", \"2015-10-04T02:00:00+00:00\", \"2015-10-04T03:00:00+00:00\", \"2015-10-04T04:00:00+00:00\", \"2015-10-04T05:00:00+00:00\", \"2015-10-04T06:00:00+00:00\", \"2015-10-04T07:00:00+00:00\", \"2015-10-04T08:00:00+00:00\", \"2015-10-04T09:00:00+00:00\", \"2015-10-04T10:00:00+00:00\", \"2015-10-04T11:00:00+00:00\", \"2015-10-04T12:00:00+00:00\", \"2015-10-04T13:00:00+00:00\", \"2015-10-04T14:00:00+00:00\", \"2015-10-04T15:00:00+00:00\", \"2015-10-04T16:00:00+00:00\", \"2015-10-04T17:00:00+00:00\", \"2015-10-04T18:00:00+00:00\", \"2015-10-04T19:00:00+00:00\", \"2015-10-04T20:00:00+00:00\", \"2015-10-04T21:00:00+00:00\", \"2015-10-04T22:00:00+00:00\", \"2015-10-04T23:00:00+00:00\", \"2015-10-05T00:00:00+00:00\", \"2015-10-05T01:00:00+00:00\", \"2015-10-05T02:00:00+00:00\", \"2015-10-05T03:00:00+00:00\", \"2015-10-05T04:00:00+00:00\", \"2015-10-05T05:00:00+00:00\", \"2015-10-05T06:00:00+00:00\", \"2015-10-05T07:00:00+00:00\", \"2015-10-05T08:00:00+00:00\", \"2015-10-05T09:00:00+00:00\", \"2015-10-05T10:00:00+00:00\", \"2015-10-05T11:00:00+00:00\", \"2015-10-05T12:00:00+00:00\", \"2015-10-05T13:00:00+00:00\", \"2015-10-05T14:00:00+00:00\", \"2015-10-05T15:00:00+00:00\", \"2015-10-05T16:00:00+00:00\", \"2015-10-05T17:00:00+00:00\", \"2015-10-05T18:00:00+00:00\", \"2015-10-05T19:00:00+00:00\", \"2015-10-05T20:00:00+00:00\", \"2015-10-05T21:00:00+00:00\", \"2015-10-05T22:00:00+00:00\", \"2015-10-05T23:00:00+00:00\", \"2015-10-06T00:00:00+00:00\", \"2015-10-06T01:00:00+00:00\", \"2015-10-06T02:00:00+00:00\", \"2015-10-06T03:00:00+00:00\", \"2015-10-06T04:00:00+00:00\", \"2015-10-06T05:00:00+00:00\", \"2015-10-06T06:00:00+00:00\", \"2015-10-06T07:00:00+00:00\", \"2015-10-06T08:00:00+00:00\", \"2015-10-06T09:00:00+00:00\", \"2015-10-06T10:00:00+00:00\", \"2015-10-06T11:00:00+00:00\", \"2015-10-06T12:00:00+00:00\", \"2015-10-06T13:00:00+00:00\", \"2015-10-06T14:00:00+00:00\", \"2015-10-06T15:00:00+00:00\", \"2015-10-06T16:00:00+00:00\", \"2015-10-06T17:00:00+00:00\", \"2015-10-06T18:00:00+00:00\", \"2015-10-06T19:00:00+00:00\", \"2015-10-06T20:00:00+00:00\", \"2015-10-06T21:00:00+00:00\", \"2015-10-06T22:00:00+00:00\", \"2015-10-06T23:00:00+00:00\", \"2015-10-07T00:00:00+00:00\", \"2015-10-07T01:00:00+00:00\", \"2015-10-07T02:00:00+00:00\", \"2015-10-07T03:00:00+00:00\", \"2015-10-07T04:00:00+00:00\", \"2015-10-07T05:00:00+00:00\", \"2015-10-07T06:00:00+00:00\", \"2015-10-07T07:00:00+00:00\", \"2015-10-07T08:00:00+00:00\", \"2015-10-07T09:00:00+00:00\", \"2015-10-07T10:00:00+00:00\", \"2015-10-07T11:00:00+00:00\", \"2015-10-07T12:00:00+00:00\", \"2015-10-07T13:00:00+00:00\", \"2015-10-07T14:00:00+00:00\", \"2015-10-07T15:00:00+00:00\", \"2015-10-07T16:00:00+00:00\", \"2015-10-07T17:00:00+00:00\", \"2015-10-07T18:00:00+00:00\", \"2015-10-07T19:00:00+00:00\", \"2015-10-07T20:00:00+00:00\", \"2015-10-07T21:00:00+00:00\", \"2015-10-07T22:00:00+00:00\", \"2015-10-07T23:00:00+00:00\", \"2015-10-08T00:00:00+00:00\", \"2015-10-08T01:00:00+00:00\", \"2015-10-08T02:00:00+00:00\", \"2015-10-08T03:00:00+00:00\", \"2015-10-08T04:00:00+00:00\", \"2015-10-08T05:00:00+00:00\", \"2015-10-08T06:00:00+00:00\", \"2015-10-08T07:00:00+00:00\", \"2015-10-08T08:00:00+00:00\", \"2015-10-08T09:00:00+00:00\", \"2015-10-08T10:00:00+00:00\", \"2015-10-08T11:00:00+00:00\", \"2015-10-08T12:00:00+00:00\", \"2015-10-08T13:00:00+00:00\", \"2015-10-08T14:00:00+00:00\", \"2015-10-08T15:00:00+00:00\", \"2015-10-08T16:00:00+00:00\", \"2015-10-08T17:00:00+00:00\", \"2015-10-08T18:00:00+00:00\", \"2015-10-08T19:00:00+00:00\", \"2015-10-08T20:00:00+00:00\", \"2015-10-08T21:00:00+00:00\", \"2015-10-08T22:00:00+00:00\", \"2015-10-08T23:00:00+00:00\", \"2015-10-09T00:00:00+00:00\", \"2015-10-09T01:00:00+00:00\", \"2015-10-09T02:00:00+00:00\", \"2015-10-09T03:00:00+00:00\", \"2015-10-09T04:00:00+00:00\", \"2015-10-09T05:00:00+00:00\", \"2015-10-09T06:00:00+00:00\", \"2015-10-09T07:00:00+00:00\", \"2015-10-09T08:00:00+00:00\", \"2015-10-09T09:00:00+00:00\", \"2015-10-09T10:00:00+00:00\", \"2015-10-09T11:00:00+00:00\", \"2015-10-09T12:00:00+00:00\", \"2015-10-09T13:00:00+00:00\", \"2015-10-09T14:00:00+00:00\", \"2015-10-09T15:00:00+00:00\", \"2015-10-09T16:00:00+00:00\", \"2015-10-09T17:00:00+00:00\", \"2015-10-09T18:00:00+00:00\", \"2015-10-09T19:00:00+00:00\", \"2015-10-09T20:00:00+00:00\", \"2015-10-09T21:00:00+00:00\", \"2015-10-09T22:00:00+00:00\", \"2015-10-09T23:00:00+00:00\", \"2015-10-10T00:00:00+00:00\", \"2015-10-10T01:00:00+00:00\", \"2015-10-10T02:00:00+00:00\", \"2015-10-10T03:00:00+00:00\", \"2015-10-10T04:00:00+00:00\", \"2015-10-10T05:00:00+00:00\", \"2015-10-10T06:00:00+00:00\", \"2015-10-10T07:00:00+00:00\", \"2015-10-10T08:00:00+00:00\", \"2015-10-10T09:00:00+00:00\", \"2015-10-10T10:00:00+00:00\", \"2015-10-10T11:00:00+00:00\", \"2015-10-10T12:00:00+00:00\", \"2015-10-10T13:00:00+00:00\", \"2015-10-10T14:00:00+00:00\", \"2015-10-10T15:00:00+00:00\", \"2015-10-10T16:00:00+00:00\", \"2015-10-10T17:00:00+00:00\", \"2015-10-10T18:00:00+00:00\", \"2015-10-10T19:00:00+00:00\", \"2015-10-10T20:00:00+00:00\", \"2015-10-10T21:00:00+00:00\", \"2015-10-10T22:00:00+00:00\", \"2015-10-10T23:00:00+00:00\", \"2015-10-11T00:00:00+00:00\", \"2015-10-11T01:00:00+00:00\", \"2015-10-11T02:00:00+00:00\", \"2015-10-11T03:00:00+00:00\", \"2015-10-11T04:00:00+00:00\", \"2015-10-11T05:00:00+00:00\", \"2015-10-11T06:00:00+00:00\", \"2015-10-11T07:00:00+00:00\", \"2015-10-11T08:00:00+00:00\", \"2015-10-11T09:00:00+00:00\", \"2015-10-11T10:00:00+00:00\", \"2015-10-11T11:00:00+00:00\", \"2015-10-11T12:00:00+00:00\", \"2015-10-11T13:00:00+00:00\", \"2015-10-11T14:00:00+00:00\", \"2015-10-11T15:00:00+00:00\", \"2015-10-11T16:00:00+00:00\", \"2015-10-11T17:00:00+00:00\", \"2015-10-11T18:00:00+00:00\", \"2015-10-11T19:00:00+00:00\", \"2015-10-11T20:00:00+00:00\", \"2015-10-11T21:00:00+00:00\", \"2015-10-11T22:00:00+00:00\", \"2015-10-11T23:00:00+00:00\"], \"xaxis\": \"x\", \"y\": [5.523177140858024, 6.488915675028693, 7.4546542091993615, 8.42039274337003, 9.386131277540699, 10.351869811711367, 11.317608345940243, 12.283346880110912, 13.24908541428158, 14.21482394845225, 15.180562482622918, 16.146301016793586, 17.112039550964255, 18.077778085134923, 19.043516619305592, 20.00925515353447, 20.974993687705137, 21.940732221875805, 22.906470756046474, 23.872209290217143, 24.83794782438781, 25.80368635855848, 26.76942489272915, 27.735163426899817, 28.700901961128693, 29.66664049529936, 30.63237902947003, 31.5981175636407, 32.56385609781137, 33.529594631982036, 34.495333166152705, 35.46107170032337, 36.42681023449404, 37.39254876872292, 38.35828730289359, 39.324025837064255, 40.289764371234924, 41.25550290540559, 42.22124143957626, 43.18697997374693, 44.1527185079176, 45.11845704208827, 46.08419557631714, 47.04993411048781, 48.01567264465848, 48.98141117882915, 49.94714971299982, 50.912888247170486, 51.878626781341154, 52.84436531551182, 53.81010384968249, 54.77584238385316, 55.741580918082036, 56.707319452252705, 57.67305798642337, 58.63879652059404, 59.60453505476471, 60.57027358893538, 61.53601212310605, 62.501750657276716, 63.467489191447385, 64.43322772567626, 65.39896625984693, 66.3647047940176, 67.33044332818827, 68.29618186235894, 69.2619203965296, 70.22765893070027, 71.19339746487094, 72.15913599904161, 73.12487453327049, 74.09061306744115, 75.05635160161182, 76.02209013578249, 76.98782866995316, 77.95356720412383, 78.9193057382945, 79.88504427246517, 80.85078280663583, 81.81652134086471, 82.78225987503538, 83.74799840920605, 84.71373694337672, 85.67947547754738, 86.64521401171805, 87.61095254588872, 88.57669108005939, 89.54242961423006, 90.50816814845894, 91.4739066826296, 92.43964521680027, 93.40538375097094, 94.37112228514161, 95.33686081931228, 96.30259935348295, 97.26833788765362, 98.23407642182428, 99.19981495605316, 100.16555349022383, 101.1312920243945, 102.09703055856517, 103.06276909273583, 104.0285076269065, 104.99424616107717, 105.95998469524784, 106.92572322941851, 107.89146176364738, 108.85720029781805, 109.82293883198872, 110.78867736615939, 111.75441590033006, 112.72015443450073, 113.6858929686714, 114.65163150284206, 115.61737003701273, 116.58310857124161, 117.54884710541228, 118.51458563958295, 119.48032417375362, 120.44606270792428, 121.41180124209495, 122.37753977626562, 123.34327831043629, 124.30901684460696, 125.27475537883583, 126.2404939130065, 127.20623244717717, 128.17197098134784, 129.1377095155185, 130.10344804968918, 131.06918658385985, 132.03492511803051, 133.00066365220118, 133.96640218643006, 134.93214072060073, 135.8978792547714, 136.86361778894207, 137.82935632311273, 138.7950948572834, 139.76083339145407, 140.72657192562474, 141.6923104597954, 142.65804899402428, 143.62378752819495, 144.58952606236562, 145.5552645965363, 146.52100313070696, 147.48674166487763, 148.4524801990483, 149.41821873321896, 150.38395726738963, 151.3496958016185, 152.31543433578918, 153.28117286995985, 154.24691140413051, 155.21264993830118, 156.17838847247185, 157.14412700664252, 158.1098655408132, 159.07560407498386, 160.04134260921273, 161.0070811433834, 161.97281967755407, 162.93855821172474, 163.9042967458954, 164.87003528006608, 165.83577381423675, 166.8015123484074, 167.76725088257808, 168.73298941674875, 169.69872795097763, 170.6644664851483, 171.63020501931896, 172.59594355348963, 173.5616820876603, 174.52742062183097, 175.49315915600164, 176.4588976901723, 177.42463622434298, 178.39037475857185, 179.35611329274252, 180.3218518269132, 181.28759036108386, 182.25332889525453, 183.2190674294252, 184.18480596359586, 185.15054449776653, 186.1162830319372, 187.08202156616608, 188.04776010033675, 189.0134986345074, 189.97923716867808, 190.94497570284875, 191.91071423701942, 192.8764527711901, 193.84219130536076, 194.80792983953143, 195.7736683737603, 196.73940690793097, 197.70514544210164, 198.6708839762723, 199.63662251044298, 200.60236104461364, 201.5680995787843, 202.53383811295498, 203.49957664712565, 204.46531518135453, 205.4310537155252, 206.39679224969586, 207.36253078386653, 208.3282693180372, 209.29400785220787, 210.25974638637854, 211.2254849205492, 212.19122345471988, 213.15696198894875, 214.12270052311942, 215.0884390572901, 216.05417759146076, 217.01991612563143, 217.9856546598021, 218.95139319397276, 219.91713172814343, 220.8828702623141, 221.84860879654298, 222.81434733071364, 223.7800858648843, 224.74582439905498, 225.71156293322565, 226.67730146739632, 227.643040001567, 228.60877853573766, 229.57451706990832, 230.5402556041372, 231.50599413830787, 232.47173267247854, 233.4374712066492, 234.40320974081988, 235.36894827499054, 236.3346868091612, 237.30042534333188, 238.26616387750255, 239.23190241173143, 240.1976409459021, 241.16337948007276, 242.12911801424343, 243.0948565484141, 244.06059508258477, 245.02633361675544, 245.9920721509261, 246.95781068509677, 247.92354921932565], \"yaxis\": \"y\"}],                        {\"legend\": {\"title\": {\"text\": \"Data Category\"}, \"tracegroupgap\": 0}, \"margin\": {\"t\": 60}, \"showlegend\": true, \"template\": {\"data\": {\"bar\": [{\"error_x\": {\"color\": \"#2a3f5f\"}, \"error_y\": {\"color\": \"#2a3f5f\"}, \"marker\": {\"line\": {\"color\": \"#E5ECF6\", \"width\": 0.5}}, \"type\": \"bar\"}], \"barpolar\": [{\"marker\": {\"line\": {\"color\": \"#E5ECF6\", \"width\": 0.5}}, \"type\": \"barpolar\"}], \"carpet\": [{\"aaxis\": {\"endlinecolor\": \"#2a3f5f\", \"gridcolor\": \"white\", \"linecolor\": \"white\", \"minorgridcolor\": \"white\", \"startlinecolor\": \"#2a3f5f\"}, \"baxis\": {\"endlinecolor\": \"#2a3f5f\", \"gridcolor\": \"white\", \"linecolor\": \"white\", \"minorgridcolor\": \"white\", \"startlinecolor\": \"#2a3f5f\"}, \"type\": \"carpet\"}], \"choropleth\": [{\"colorbar\": {\"outlinewidth\": 0, \"ticks\": \"\"}, \"type\": \"choropleth\"}], \"contour\": [{\"colorbar\": {\"outlinewidth\": 0, \"ticks\": \"\"}, \"colorscale\": [[0.0, \"#0d0887\"], [0.1111111111111111, \"#46039f\"], [0.2222222222222222, \"#7201a8\"], [0.3333333333333333, \"#9c179e\"], [0.4444444444444444, \"#bd3786\"], [0.5555555555555556, \"#d8576b\"], [0.6666666666666666, \"#ed7953\"], [0.7777777777777778, \"#fb9f3a\"], [0.8888888888888888, \"#fdca26\"], [1.0, \"#f0f921\"]], \"type\": \"contour\"}], \"contourcarpet\": [{\"colorbar\": {\"outlinewidth\": 0, \"ticks\": \"\"}, \"type\": \"contourcarpet\"}], \"heatmap\": [{\"colorbar\": {\"outlinewidth\": 0, \"ticks\": \"\"}, \"colorscale\": [[0.0, \"#0d0887\"], [0.1111111111111111, \"#46039f\"], [0.2222222222222222, \"#7201a8\"], [0.3333333333333333, \"#9c179e\"], [0.4444444444444444, \"#bd3786\"], [0.5555555555555556, \"#d8576b\"], [0.6666666666666666, \"#ed7953\"], [0.7777777777777778, \"#fb9f3a\"], [0.8888888888888888, \"#fdca26\"], [1.0, \"#f0f921\"]], \"type\": \"heatmap\"}], \"heatmapgl\": [{\"colorbar\": {\"outlinewidth\": 0, \"ticks\": \"\"}, \"colorscale\": [[0.0, \"#0d0887\"], [0.1111111111111111, \"#46039f\"], [0.2222222222222222, \"#7201a8\"], [0.3333333333333333, \"#9c179e\"], [0.4444444444444444, \"#bd3786\"], [0.5555555555555556, \"#d8576b\"], [0.6666666666666666, \"#ed7953\"], [0.7777777777777778, \"#fb9f3a\"], [0.8888888888888888, \"#fdca26\"], [1.0, \"#f0f921\"]], \"type\": \"heatmapgl\"}], \"histogram\": [{\"marker\": {\"colorbar\": {\"outlinewidth\": 0, \"ticks\": \"\"}}, \"type\": \"histogram\"}], \"histogram2d\": [{\"colorbar\": {\"outlinewidth\": 0, \"ticks\": \"\"}, \"colorscale\": [[0.0, \"#0d0887\"], [0.1111111111111111, \"#46039f\"], [0.2222222222222222, \"#7201a8\"], [0.3333333333333333, \"#9c179e\"], [0.4444444444444444, \"#bd3786\"], [0.5555555555555556, \"#d8576b\"], [0.6666666666666666, \"#ed7953\"], [0.7777777777777778, \"#fb9f3a\"], [0.8888888888888888, \"#fdca26\"], [1.0, \"#f0f921\"]], \"type\": \"histogram2d\"}], \"histogram2dcontour\": [{\"colorbar\": {\"outlinewidth\": 0, \"ticks\": \"\"}, \"colorscale\": [[0.0, \"#0d0887\"], [0.1111111111111111, \"#46039f\"], [0.2222222222222222, \"#7201a8\"], [0.3333333333333333, \"#9c179e\"], [0.4444444444444444, \"#bd3786\"], [0.5555555555555556, \"#d8576b\"], [0.6666666666666666, \"#ed7953\"], [0.7777777777777778, \"#fb9f3a\"], [0.8888888888888888, \"#fdca26\"], [1.0, \"#f0f921\"]], \"type\": \"histogram2dcontour\"}], \"mesh3d\": [{\"colorbar\": {\"outlinewidth\": 0, \"ticks\": \"\"}, \"type\": \"mesh3d\"}], \"parcoords\": [{\"line\": {\"colorbar\": {\"outlinewidth\": 0, \"ticks\": \"\"}}, \"type\": \"parcoords\"}], \"pie\": [{\"automargin\": true, \"type\": \"pie\"}], \"scatter\": [{\"marker\": {\"colorbar\": {\"outlinewidth\": 0, \"ticks\": \"\"}}, \"type\": \"scatter\"}], \"scatter3d\": [{\"line\": {\"colorbar\": {\"outlinewidth\": 0, \"ticks\": \"\"}}, \"marker\": {\"colorbar\": {\"outlinewidth\": 0, \"ticks\": \"\"}}, \"type\": \"scatter3d\"}], \"scattercarpet\": [{\"marker\": {\"colorbar\": {\"outlinewidth\": 0, \"ticks\": \"\"}}, \"type\": \"scattercarpet\"}], \"scattergeo\": [{\"marker\": {\"colorbar\": {\"outlinewidth\": 0, \"ticks\": \"\"}}, \"type\": \"scattergeo\"}], \"scattergl\": [{\"marker\": {\"colorbar\": {\"outlinewidth\": 0, \"ticks\": \"\"}}, \"type\": \"scattergl\"}], \"scattermapbox\": [{\"marker\": {\"colorbar\": {\"outlinewidth\": 0, \"ticks\": \"\"}}, \"type\": \"scattermapbox\"}], \"scatterpolar\": [{\"marker\": {\"colorbar\": {\"outlinewidth\": 0, \"ticks\": \"\"}}, \"type\": \"scatterpolar\"}], \"scatterpolargl\": [{\"marker\": {\"colorbar\": {\"outlinewidth\": 0, \"ticks\": \"\"}}, \"type\": \"scatterpolargl\"}], \"scatterternary\": [{\"marker\": {\"colorbar\": {\"outlinewidth\": 0, \"ticks\": \"\"}}, \"type\": \"scatterternary\"}], \"surface\": [{\"colorbar\": {\"outlinewidth\": 0, \"ticks\": \"\"}, \"colorscale\": [[0.0, \"#0d0887\"], [0.1111111111111111, \"#46039f\"], [0.2222222222222222, \"#7201a8\"], [0.3333333333333333, \"#9c179e\"], [0.4444444444444444, \"#bd3786\"], [0.5555555555555556, \"#d8576b\"], [0.6666666666666666, \"#ed7953\"], [0.7777777777777778, \"#fb9f3a\"], [0.8888888888888888, \"#fdca26\"], [1.0, \"#f0f921\"]], \"type\": \"surface\"}], \"table\": [{\"cells\": {\"fill\": {\"color\": \"#EBF0F8\"}, \"line\": {\"color\": \"white\"}}, \"header\": {\"fill\": {\"color\": \"#C8D4E3\"}, \"line\": {\"color\": \"white\"}}, \"type\": \"table\"}]}, \"layout\": {\"annotationdefaults\": {\"arrowcolor\": \"#2a3f5f\", \"arrowhead\": 0, \"arrowwidth\": 1}, \"coloraxis\": {\"colorbar\": {\"outlinewidth\": 0, \"ticks\": \"\"}}, \"colorscale\": {\"diverging\": [[0, \"#8e0152\"], [0.1, \"#c51b7d\"], [0.2, \"#de77ae\"], [0.3, \"#f1b6da\"], [0.4, \"#fde0ef\"], [0.5, \"#f7f7f7\"], [0.6, \"#e6f5d0\"], [0.7, \"#b8e186\"], [0.8, \"#7fbc41\"], [0.9, \"#4d9221\"], [1, \"#276419\"]], \"sequential\": [[0.0, \"#0d0887\"], [0.1111111111111111, \"#46039f\"], [0.2222222222222222, \"#7201a8\"], [0.3333333333333333, \"#9c179e\"], [0.4444444444444444, \"#bd3786\"], [0.5555555555555556, \"#d8576b\"], [0.6666666666666666, \"#ed7953\"], [0.7777777777777778, \"#fb9f3a\"], [0.8888888888888888, \"#fdca26\"], [1.0, \"#f0f921\"]], \"sequentialminus\": [[0.0, \"#0d0887\"], [0.1111111111111111, \"#46039f\"], [0.2222222222222222, \"#7201a8\"], [0.3333333333333333, \"#9c179e\"], [0.4444444444444444, \"#bd3786\"], [0.5555555555555556, \"#d8576b\"], [0.6666666666666666, \"#ed7953\"], [0.7777777777777778, \"#fb9f3a\"], [0.8888888888888888, \"#fdca26\"], [1.0, \"#f0f921\"]]}, \"colorway\": [\"#636efa\", \"#EF553B\", \"#00cc96\", \"#ab63fa\", \"#FFA15A\", \"#19d3f3\", \"#FF6692\", \"#B6E880\", \"#FF97FF\", \"#FECB52\"], \"font\": {\"color\": \"#2a3f5f\"}, \"geo\": {\"bgcolor\": \"white\", \"lakecolor\": \"white\", \"landcolor\": \"#E5ECF6\", \"showlakes\": true, \"showland\": true, \"subunitcolor\": \"white\"}, \"hoverlabel\": {\"align\": \"left\"}, \"hovermode\": \"closest\", \"mapbox\": {\"style\": \"light\"}, \"paper_bgcolor\": \"white\", \"plot_bgcolor\": \"#E5ECF6\", \"polar\": {\"angularaxis\": {\"gridcolor\": \"white\", \"linecolor\": \"white\", \"ticks\": \"\"}, \"bgcolor\": \"#E5ECF6\", \"radialaxis\": {\"gridcolor\": \"white\", \"linecolor\": \"white\", \"ticks\": \"\"}}, \"scene\": {\"xaxis\": {\"backgroundcolor\": \"#E5ECF6\", \"gridcolor\": \"white\", \"gridwidth\": 2, \"linecolor\": \"white\", \"showbackground\": true, \"ticks\": \"\", \"zerolinecolor\": \"white\"}, \"yaxis\": {\"backgroundcolor\": \"#E5ECF6\", \"gridcolor\": \"white\", \"gridwidth\": 2, \"linecolor\": \"white\", \"showbackground\": true, \"ticks\": \"\", \"zerolinecolor\": \"white\"}, \"zaxis\": {\"backgroundcolor\": \"#E5ECF6\", \"gridcolor\": \"white\", \"gridwidth\": 2, \"linecolor\": \"white\", \"showbackground\": true, \"ticks\": \"\", \"zerolinecolor\": \"white\"}}, \"shapedefaults\": {\"line\": {\"color\": \"#2a3f5f\"}}, \"ternary\": {\"aaxis\": {\"gridcolor\": \"white\", \"linecolor\": \"white\", \"ticks\": \"\"}, \"baxis\": {\"gridcolor\": \"white\", \"linecolor\": \"white\", \"ticks\": \"\"}, \"bgcolor\": \"#E5ECF6\", \"caxis\": {\"gridcolor\": \"white\", \"linecolor\": \"white\", \"ticks\": \"\"}}, \"title\": {\"x\": 0.05}, \"xaxis\": {\"automargin\": true, \"gridcolor\": \"white\", \"linecolor\": \"white\", \"ticks\": \"\", \"title\": {\"standoff\": 15}, \"zerolinecolor\": \"white\", \"zerolinewidth\": 2}, \"yaxis\": {\"automargin\": true, \"gridcolor\": \"white\", \"linecolor\": \"white\", \"ticks\": \"\", \"title\": {\"standoff\": 15}, \"zerolinecolor\": \"white\", \"zerolinewidth\": 2}}}, \"title\": {\"text\": \"Mean predictions with linear regression model\"}, \"xaxis\": {\"anchor\": \"y\", \"domain\": [0.0, 1.0], \"title\": {\"text\": \"Date and time\"}}, \"yaxis\": {\"anchor\": \"x\", \"domain\": [0.0, 1.0], \"title\": {\"text\": \"meter value reading\"}}},                        {\"responsive\": true}                    ).then(function(){\n",
       "                            \n",
       "var gd = document.getElementById('749d9030-6afc-42b2-aca6-7bc920f7f261');\n",
       "var x = new MutationObserver(function (mutations, observer) {{\n",
       "        var display = window.getComputedStyle(gd).display;\n",
       "        if (!display || display === 'none') {{\n",
       "            console.log([gd, 'removed!']);\n",
       "            Plotly.purge(gd);\n",
       "            observer.disconnect();\n",
       "        }}\n",
       "}});\n",
       "\n",
       "// Listen for the removal of the full notebook cells\n",
       "var notebookContainer = gd.closest('#notebook-container');\n",
       "if (notebookContainer) {{\n",
       "    x.observe(notebookContainer, {childList: true});\n",
       "}}\n",
       "\n",
       "// Listen for the clearing of the current output cell\n",
       "var outputEl = gd.closest('.output');\n",
       "if (outputEl) {{\n",
       "    x.observe(outputEl, {childList: true});\n",
       "}}\n",
       "\n",
       "                        })                };                });            </script>        </div>"
      ]
     },
     "metadata": {},
     "output_type": "display_data"
    }
   ],
   "source": [
    "fig = px.scatter()\n",
    "# plot points form actual dataset\n",
    "fig.add_trace(go.Scatter(x=truth.index, y=truth['meter_value'].tolist(),\n",
    "                           mode='markers',\n",
    "                           name='mean actual'))\n",
    "# plot points from hourly linear regression prediction \n",
    "fig.add_trace(go.Scatter(x=mean_timestamps, y=mean_predictions,\n",
    "                           mode='markers',\n",
    "                           name='mean predictions'))\n",
    "# get ols trendline from predictions\n",
    "fig_t = px.scatter(x=mean_timestamps, y=mean_predictions, trendline='ols')\n",
    "trendline = fig_t.data[1]\n",
    "# overlay ols trendline with scattered results\n",
    "fig.add_trace(go.Scatter(trendline,\n",
    "                          mode='lines',\n",
    "                          line=dict(color=\"Yellow\"),\n",
    "                          name='predictions'))\n",
    "fig.update_layout(\n",
    "    title='Mean predictions with linear regression model',\n",
    "    xaxis_title='Date and time',\n",
    "    yaxis_title='meter value reading',\n",
    "    legend_title='Data Category',\n",
    "    showlegend=True\n",
    ")\n",
    "fig.show()"
   ]
  },
  {
   "cell_type": "markdown",
   "metadata": {},
   "source": [
    "We now attempt to extract trendline by fitting results of linear regression prediction of mean houses with ordinary least squares method. Scattered actual mean data points are plotted as well as the prediction of mean houses from hourly linear regression. With the same argument previously, by using mean value of val_diff we can extract general trends that affects all houses instead of a single house. This shows that the mean change in meter value for houses tend to have linear relationship."
   ]
  },
  {
   "cell_type": "markdown",
   "metadata": {},
   "source": [
    "## Question 2.3\n",
    "\n",
    "Do the same as Question 2.2 above but use support vector regression (SVR).\n",
    "\n",
    "Generate two plots: \n",
    "\n",
    "**1. Time series plot of the actual and predicted hourly meter readings**\n",
    "\n",
    "**2. Scatter plot of actual vs predicted meter readings (along with the line showing how good the fit is)**"
   ]
  },
  {
   "cell_type": "code",
   "execution_count": 75,
   "metadata": {},
   "outputs": [
    {
     "name": "stdout",
     "output_type": "stream",
     "text": [
      "[LibLinear]"
     ]
    },
    {
     "data": {
      "text/plain": [
       "LinearSVR(verbose=True)"
      ]
     },
     "execution_count": 75,
     "metadata": {},
     "output_type": "execute_result"
    }
   ],
   "source": [
    "# Create and train linear SVR model\n",
    "svr_lin = LinearSVR(verbose=True)\n",
    "svr_lin.fit(X_train, Y_train)"
   ]
  },
  {
   "cell_type": "code",
   "execution_count": 109,
   "metadata": {},
   "outputs": [
    {
     "name": "stdout",
     "output_type": "stream",
     "text": [
      "Train and test result for linear SVR\n",
      "MSE error in train set is: 59.74622021127509\n",
      "MSE error in test set is: 51.31677639453743\n"
     ]
    }
   ],
   "source": [
    "## Calculate MSE in predictions train set\n",
    "print('Train and test result for linear SVR')\n",
    "predictions_test = svr_lin.predict(X_train)\n",
    "print(\"MSE error in train set is: {}\".format(mean_squared_error(Y_train, predictions_test)))\n",
    "## Calculate MSE in predictions test set\n",
    "predictions_test = svr_lin.predict(X_test)\n",
    "mean_squared_error(Y_test, predictions_test)\n",
    "print(\"MSE error in test set is: {}\".format(mean_squared_error(Y_test, predictions_test)))"
   ]
  },
  {
   "cell_type": "markdown",
   "metadata": {},
   "source": [
    "## Question 2.3 (a) - Time series plot of the actual and predicted hourly meter readings with SVR"
   ]
  },
  {
   "cell_type": "code",
   "execution_count": 88,
   "metadata": {},
   "outputs": [],
   "source": [
    "# Produce predictions with linear SVR\n",
    "timestamps, predictions = simulate_operation(merged_df[merged_df['dataid'] == 35][:250], svr_lin)\n",
    "ltp_timestamps, ltp_predictions = long_term_prediction(merged_df[merged_df['dataid'] == 35][:250], pd.Timestamp('2015-10-02 01:00:00+00:00'), 6, svr_lin)"
   ]
  },
  {
   "cell_type": "markdown",
   "metadata": {},
   "source": [
    "SVR model with RBF kernel was also explored but later abandoned as model training time is considerably long and unrealistic given the project timeline. This is because the added complexity in using Radial Basis Function calculation for RBF SVR. Theoretically, SVR with RBF kernel would be able to project data into higher dimensions, therefore allowing better generalizability than SVR with linear kernel. RBF kernel SVR would be better in doing regression where data points are clustered and can be separated by circular shapes. This would allow an input data with relationship that is nonlinear to be identified, however in the case of our project it could be argued that using RBF is unnecessary as the meter value usage likely has a linear relationship as predictionability was demonstrated with linear regression. For the same reason, the approach of using polynomial kernel was foregone as our data points can be regressed linearly."
   ]
  },
  {
   "cell_type": "code",
   "execution_count": 89,
   "metadata": {
    "scrolled": true
   },
   "outputs": [
    {
     "data": {
      "application/vnd.plotly.v1+json": {
       "config": {
        "plotlyServerURL": "https://plot.ly"
       },
       "data": [
        {
         "name": "predictions",
         "type": "scatter",
         "x": [
          "2015-10-01T12:00:00+00:00",
          "2015-10-01T13:00:00+00:00",
          "2015-10-01T14:00:00+00:00",
          "2015-10-01T15:00:00+00:00",
          "2015-10-01T16:00:00+00:00",
          "2015-10-01T17:00:00+00:00",
          "2015-10-01T18:00:00+00:00",
          "2015-10-01T19:00:00+00:00",
          "2015-10-01T20:00:00+00:00",
          "2015-10-01T21:00:00+00:00",
          "2015-10-01T22:00:00+00:00",
          "2015-10-01T23:00:00+00:00",
          "2015-10-02T00:00:00+00:00",
          "2015-10-02T01:00:00+00:00",
          "2015-10-02T02:00:00+00:00",
          "2015-10-02T03:00:00+00:00",
          "2015-10-02T04:00:00+00:00",
          "2015-10-02T05:00:00+00:00",
          "2015-10-02T06:00:00+00:00",
          "2015-10-02T07:00:00+00:00",
          "2015-10-02T08:00:00+00:00",
          "2015-10-02T09:00:00+00:00",
          "2015-10-02T10:00:00+00:00",
          "2015-10-02T11:00:00+00:00",
          "2015-10-02T12:00:00+00:00",
          "2015-10-02T13:00:00+00:00",
          "2015-10-02T14:00:00+00:00",
          "2015-10-02T15:00:00+00:00",
          "2015-10-02T16:00:00+00:00",
          "2015-10-02T17:00:00+00:00",
          "2015-10-02T18:00:00+00:00",
          "2015-10-02T19:00:00+00:00",
          "2015-10-02T20:00:00+00:00",
          "2015-10-02T21:00:00+00:00",
          "2015-10-02T22:00:00+00:00",
          "2015-10-02T23:00:00+00:00",
          "2015-10-03T00:00:00+00:00",
          "2015-10-03T01:00:00+00:00",
          "2015-10-03T02:00:00+00:00",
          "2015-10-03T03:00:00+00:00",
          "2015-10-03T04:00:00+00:00",
          "2015-10-03T05:00:00+00:00",
          "2015-10-03T06:00:00+00:00",
          "2015-10-03T07:00:00+00:00",
          "2015-10-03T08:00:00+00:00",
          "2015-10-03T09:00:00+00:00",
          "2015-10-03T10:00:00+00:00",
          "2015-10-03T11:00:00+00:00",
          "2015-10-03T12:00:00+00:00",
          "2015-10-03T13:00:00+00:00",
          "2015-10-03T14:00:00+00:00",
          "2015-10-03T15:00:00+00:00",
          "2015-10-03T16:00:00+00:00",
          "2015-10-03T17:00:00+00:00",
          "2015-10-03T18:00:00+00:00",
          "2015-10-03T19:00:00+00:00",
          "2015-10-03T20:00:00+00:00",
          "2015-10-03T21:00:00+00:00",
          "2015-10-03T22:00:00+00:00",
          "2015-10-03T23:00:00+00:00",
          "2015-10-04T00:00:00+00:00",
          "2015-10-04T01:00:00+00:00",
          "2015-10-04T02:00:00+00:00",
          "2015-10-04T03:00:00+00:00",
          "2015-10-04T04:00:00+00:00",
          "2015-10-04T05:00:00+00:00",
          "2015-10-04T06:00:00+00:00",
          "2015-10-04T07:00:00+00:00",
          "2015-10-04T08:00:00+00:00",
          "2015-10-04T09:00:00+00:00",
          "2015-10-04T10:00:00+00:00",
          "2015-10-04T11:00:00+00:00",
          "2015-10-04T12:00:00+00:00",
          "2015-10-04T13:00:00+00:00",
          "2015-10-04T14:00:00+00:00",
          "2015-10-04T15:00:00+00:00",
          "2015-10-04T16:00:00+00:00",
          "2015-10-04T17:00:00+00:00",
          "2015-10-04T18:00:00+00:00",
          "2015-10-04T19:00:00+00:00",
          "2015-10-04T20:00:00+00:00",
          "2015-10-04T21:00:00+00:00",
          "2015-10-04T22:00:00+00:00",
          "2015-10-04T23:00:00+00:00",
          "2015-10-05T00:00:00+00:00",
          "2015-10-05T01:00:00+00:00",
          "2015-10-05T02:00:00+00:00",
          "2015-10-05T03:00:00+00:00",
          "2015-10-05T04:00:00+00:00",
          "2015-10-05T05:00:00+00:00",
          "2015-10-05T06:00:00+00:00",
          "2015-10-05T07:00:00+00:00",
          "2015-10-05T08:00:00+00:00",
          "2015-10-05T09:00:00+00:00",
          "2015-10-05T10:00:00+00:00",
          "2015-10-05T11:00:00+00:00",
          "2015-10-05T12:00:00+00:00",
          "2015-10-05T13:00:00+00:00",
          "2015-10-05T14:00:00+00:00",
          "2015-10-05T15:00:00+00:00",
          "2015-10-05T16:00:00+00:00",
          "2015-10-05T17:00:00+00:00",
          "2015-10-05T18:00:00+00:00",
          "2015-10-05T19:00:00+00:00",
          "2015-10-05T20:00:00+00:00",
          "2015-10-05T21:00:00+00:00",
          "2015-10-05T22:00:00+00:00",
          "2015-10-05T23:00:00+00:00",
          "2015-10-06T00:00:00+00:00",
          "2015-10-06T01:00:00+00:00",
          "2015-10-06T02:00:00+00:00",
          "2015-10-06T03:00:00+00:00",
          "2015-10-06T04:00:00+00:00",
          "2015-10-06T05:00:00+00:00",
          "2015-10-06T06:00:00+00:00",
          "2015-10-06T07:00:00+00:00",
          "2015-10-06T08:00:00+00:00",
          "2015-10-06T09:00:00+00:00",
          "2015-10-06T10:00:00+00:00",
          "2015-10-06T11:00:00+00:00",
          "2015-10-06T12:00:00+00:00",
          "2015-10-06T13:00:00+00:00",
          "2015-10-06T14:00:00+00:00",
          "2015-10-06T15:00:00+00:00",
          "2015-10-06T16:00:00+00:00",
          "2015-10-06T17:00:00+00:00",
          "2015-10-06T18:00:00+00:00",
          "2015-10-06T19:00:00+00:00",
          "2015-10-06T20:00:00+00:00",
          "2015-10-06T21:00:00+00:00",
          "2015-10-06T22:00:00+00:00",
          "2015-10-06T23:00:00+00:00",
          "2015-10-07T00:00:00+00:00",
          "2015-10-07T01:00:00+00:00",
          "2015-10-07T02:00:00+00:00",
          "2015-10-07T03:00:00+00:00",
          "2015-10-07T04:00:00+00:00",
          "2015-10-07T05:00:00+00:00",
          "2015-10-07T06:00:00+00:00",
          "2015-10-07T07:00:00+00:00",
          "2015-10-07T08:00:00+00:00",
          "2015-10-07T09:00:00+00:00",
          "2015-10-07T10:00:00+00:00",
          "2015-10-07T11:00:00+00:00",
          "2015-10-07T12:00:00+00:00",
          "2015-10-07T13:00:00+00:00",
          "2015-10-07T14:00:00+00:00",
          "2015-10-07T15:00:00+00:00",
          "2015-10-07T16:00:00+00:00",
          "2015-10-07T17:00:00+00:00",
          "2015-10-07T18:00:00+00:00",
          "2015-10-07T19:00:00+00:00",
          "2015-10-07T20:00:00+00:00",
          "2015-10-07T21:00:00+00:00",
          "2015-10-07T22:00:00+00:00",
          "2015-10-07T23:00:00+00:00",
          "2015-10-08T00:00:00+00:00"
         ],
         "y": [
          93473.89383714886,
          93472.19818938943,
          93472.11820998485,
          93472.15521139278,
          93472.20628070728,
          93475.08011193191,
          93474.19229834991,
          93474.17080935158,
          93474.2148447128,
          93474.18654283807,
          93474.19412031869,
          93477.97718943562,
          93476.09968214143,
          93487.34617764584,
          93482.2735033336,
          93484.98578100886,
          93484.12861393648,
          93484.23760043985,
          93484.10875998418,
          93484.08045810946,
          93484.08803559007,
          93487.87110470701,
          93486.17545694757,
          93486.095477543,
          93486.13247895092,
          93486.18354826544,
          93489.9089921101,
          93488.21334435066,
          93488.13336494609,
          93488.17036635401,
          93488.22143566851,
          93488.17138787684,
          93491.95445699379,
          93490.25880923435,
          93490.17882982978,
          93490.2158312377,
          93513.58244364854,
          93512.0238128994,
          93527.38620831334,
          93525.87490655587,
          93522.15522994293,
          93522.14888119629,
          93522.33164859482,
          93522.19570865405,
          93522.08803559007,
          93525.87110470701,
          93524.17545694757,
          93524.095477543,
          93524.13247895092,
          93524.18354826544,
          93524.13350047376,
          93527.91656959071,
          93526.22092183126,
          93526.14094242669,
          93537.50441874361,
          93532.44581233797,
          93532.13309389072,
          93532.22894315327,
          93532.36699613556,
          93535.97718943562,
          93547.42615705042,
          93555.33846847102,
          93548.29989826317,
          93548.08901181884,
          93548.28713523809,
          93551.21968325372,
          93550.10136858252,
          93550.0798795842,
          93550.12391494542,
          93550.09561307068,
          93553.87868218763,
          93552.18303442819,
          93552.10305502362,
          93552.14005643154,
          93567.29309229138,
          93560.43014353949,
          93571.78300954457,
          93568.32671848395,
          93568.39199738439,
          93572.09039693455,
          93570.25123175373,
          93570.17125234916,
          93570.20825375708,
          93570.2593230716,
          93570.02741574515,
          93596.3499043725,
          93588.29896228954,
          93588.0449414597,
          93588.38063986573,
          93588.06530314822,
          93588.07288062884,
          93590.54210835497,
          93590.12021924458,
          93590.09561307068,
          93592.71910989551,
          93592.72159054648,
          93592.14204862778,
          93592.14474573373,
          93592.1382116199,
          93592.16028637848,
          93592.148655435,
          93595.08011193191,
          93597.96778998624,
          93603.79405902053,
          93600.34408701645,
          93603.09397431495,
          93613.63497533045,
          93608.53316900747,
          93619.34389854276,
          93614.2941927298,
          93614.16957505653,
          93627.14666107502,
          93624.34911706077,
          93624.1594168512,
          93624.07288062884,
          93624.08045810946,
          93627.8635272264,
          93626.16787946696,
          93626.08790006238,
          93626.1249014703,
          93626.17597078483,
          93626.12592299315,
          93626.13350047376,
          93633.52602869095,
          93632.24520639854,
          93638.00399094821,
          93636.22078630359,
          93636.17023082633,
          93636.25072406814,
          93636.18654283807,
          93639.117999335,
          93638.23018575298,
          93638.02683721989,
          93638.07087258111,
          93656.92002888804,
          93662.62570089554,
          93657.1219514282,
          93656.11858682717,
          93656.40282878025,
          93656.28921328169,
          93656.11684822621,
          93658.71153241489,
          93658.71401306587,
          93658.13447114718,
          93658.13716825312,
          93658.13063413928,
          93680.36178580676,
          93671.00048264206,
          93670.07880172283,
          93670.23367756417,
          93685.60065561684,
          93678.47485978002,
          93678.11780340181,
          93681.57469531891,
          93680.92269411415,
          93680.20829653168,
          93680.03419320172
         ]
        },
        {
         "name": "actual",
         "type": "scatter",
         "x": [
          "2015-10-01T05:14:44+00:00",
          "2015-10-01T05:42:34+00:00",
          "2015-10-01T07:02:37+00:00",
          "2015-10-01T07:12:38+00:00",
          "2015-10-01T07:20:36+00:00",
          "2015-10-01T07:23:39+00:00",
          "2015-10-01T08:59:41+00:00",
          "2015-10-01T09:30:40+00:00",
          "2015-10-01T09:34:37+00:00",
          "2015-10-01T10:14:35+00:00",
          "2015-10-01T10:17:32+00:00",
          "2015-10-01T11:23:36+00:00",
          "2015-10-01T12:26:51+00:00",
          "2015-10-01T13:19:40+00:00",
          "2015-10-01T13:44:40+00:00",
          "2015-10-01T13:54:30+00:00",
          "2015-10-01T14:36:34+00:00",
          "2015-10-01T16:24:52+00:00",
          "2015-10-01T17:29:40+00:00",
          "2015-10-01T20:04:40+00:00",
          "2015-10-01T20:20:41+00:00",
          "2015-10-01T21:22:43+00:00",
          "2015-10-01T22:03:44+00:00",
          "2015-10-01T22:11:38+00:00",
          "2015-10-01T22:24:32+00:00",
          "2015-10-01T22:54:31+00:00",
          "2015-10-01T23:02:35+00:00",
          "2015-10-01T23:59:38+00:00",
          "2015-10-02T00:44:49+00:00",
          "2015-10-02T00:57:48+00:00",
          "2015-10-02T02:13:46+00:00",
          "2015-10-02T02:16:44+00:00",
          "2015-10-02T02:33:31+00:00",
          "2015-10-02T02:54:36+00:00",
          "2015-10-02T03:34:32+00:00",
          "2015-10-02T04:07:40+00:00",
          "2015-10-02T04:57:49+00:00",
          "2015-10-02T05:01:51+00:00",
          "2015-10-02T06:14:44+00:00",
          "2015-10-02T06:24:44+00:00",
          "2015-10-02T07:15:34+00:00",
          "2015-10-02T08:35:41+00:00",
          "2015-10-02T08:50:46+00:00",
          "2015-10-02T09:24:51+00:00",
          "2015-10-02T10:44:41+00:00",
          "2015-10-02T11:13:39+00:00",
          "2015-10-02T11:17:37+00:00",
          "2015-10-02T12:07:29+00:00",
          "2015-10-02T13:53:46+00:00",
          "2015-10-02T14:05:45+00:00",
          "2015-10-02T14:44:46+00:00",
          "2015-10-02T15:17:35+00:00",
          "2015-10-02T15:43:31+00:00",
          "2015-10-02T16:24:31+00:00",
          "2015-10-02T16:44:40+00:00",
          "2015-10-02T16:53:40+00:00",
          "2015-10-02T18:26:42+00:00",
          "2015-10-02T19:34:40+00:00",
          "2015-10-02T20:30:31+00:00",
          "2015-10-02T20:42:34+00:00",
          "2015-10-02T23:35:34+00:00",
          "2015-10-03T00:34:34+00:00",
          "2015-10-03T01:14:42+00:00",
          "2015-10-03T01:53:48+00:00",
          "2015-10-03T02:29:47+00:00",
          "2015-10-03T03:04:44+00:00",
          "2015-10-03T03:45:32+00:00",
          "2015-10-03T04:04:38+00:00",
          "2015-10-03T04:22:33+00:00",
          "2015-10-03T04:56:30+00:00",
          "2015-10-03T04:59:31+00:00",
          "2015-10-03T05:19:41+00:00",
          "2015-10-03T05:49:46+00:00",
          "2015-10-03T07:03:44+00:00",
          "2015-10-03T07:32:47+00:00",
          "2015-10-03T08:24:38+00:00",
          "2015-10-03T08:36:37+00:00",
          "2015-10-03T09:47:42+00:00",
          "2015-10-03T10:53:47+00:00",
          "2015-10-03T11:36:43+00:00",
          "2015-10-03T13:18:31+00:00",
          "2015-10-03T14:03:42+00:00",
          "2015-10-03T14:54:56+00:00",
          "2015-10-03T15:01:49+00:00",
          "2015-10-03T15:16:47+00:00",
          "2015-10-03T15:49:44+00:00",
          "2015-10-03T15:57:48+00:00",
          "2015-10-03T16:01:48+00:00",
          "2015-10-03T16:09:42+00:00",
          "2015-10-03T16:24:34+00:00",
          "2015-10-03T16:56:33+00:00",
          "2015-10-03T16:59:35+00:00",
          "2015-10-03T17:25:35+00:00",
          "2015-10-03T17:46:36+00:00",
          "2015-10-03T17:57:42+00:00",
          "2015-10-03T18:07:41+00:00",
          "2015-10-03T18:47:53+00:00",
          "2015-10-03T19:12:48+00:00",
          "2015-10-03T20:17:46+00:00",
          "2015-10-03T20:48:41+00:00",
          "2015-10-03T21:04:36+00:00",
          "2015-10-03T21:33:34+00:00",
          "2015-10-03T22:25:41+00:00",
          "2015-10-03T22:29:43+00:00",
          "2015-10-03T23:13:54+00:00",
          "2015-10-03T23:19:57+00:00",
          "2015-10-04T00:08:45+00:00",
          "2015-10-04T00:09:44+00:00",
          "2015-10-04T00:17:48+00:00",
          "2015-10-04T01:49:36+00:00",
          "2015-10-04T02:33:41+00:00",
          "2015-10-04T02:52:46+00:00",
          "2015-10-04T04:14:49+00:00",
          "2015-10-04T05:55:35+00:00",
          "2015-10-04T06:49:41+00:00",
          "2015-10-04T07:39:55+00:00",
          "2015-10-04T07:50:50+00:00",
          "2015-10-04T08:03:46+00:00",
          "2015-10-04T08:05:48+00:00",
          "2015-10-04T08:14:44+00:00",
          "2015-10-04T08:37:46+00:00",
          "2015-10-04T09:25:42+00:00",
          "2015-10-04T10:12:34+00:00",
          "2015-10-04T12:03:49+00:00",
          "2015-10-04T13:40:39+00:00",
          "2015-10-04T15:17:43+00:00",
          "2015-10-04T15:27:48+00:00",
          "2015-10-04T16:43:46+00:00",
          "2015-10-04T16:54:44+00:00",
          "2015-10-04T17:15:47+00:00",
          "2015-10-04T17:34:35+00:00",
          "2015-10-04T18:29:32+00:00",
          "2015-10-04T18:32:36+00:00",
          "2015-10-04T18:35:36+00:00",
          "2015-10-04T18:54:37+00:00",
          "2015-10-04T19:44:45+00:00",
          "2015-10-04T20:21:55+00:00",
          "2015-10-04T20:37:43+00:00",
          "2015-10-04T20:45:48+00:00",
          "2015-10-04T21:10:45+00:00",
          "2015-10-04T21:24:48+00:00",
          "2015-10-04T21:49:38+00:00",
          "2015-10-04T22:37:33+00:00",
          "2015-10-04T22:49:37+00:00",
          "2015-10-05T00:24:55+00:00",
          "2015-10-05T01:06:46+00:00",
          "2015-10-05T01:44:45+00:00",
          "2015-10-05T02:48:34+00:00",
          "2015-10-05T06:09:35+00:00",
          "2015-10-05T06:59:35+00:00",
          "2015-10-05T07:16:36+00:00",
          "2015-10-05T07:35:40+00:00",
          "2015-10-05T07:37:41+00:00",
          "2015-10-05T09:20:50+00:00",
          "2015-10-05T09:42:46+00:00",
          "2015-10-05T09:47:44+00:00",
          "2015-10-05T10:15:41+00:00",
          "2015-10-05T10:27:37+00:00",
          "2015-10-05T10:43:42+00:00",
          "2015-10-05T10:53:38+00:00",
          "2015-10-05T11:13:34+00:00",
          "2015-10-05T11:57:44+00:00",
          "2015-10-05T12:07:44+00:00",
          "2015-10-05T12:09:42+00:00",
          "2015-10-05T13:14:51+00:00",
          "2015-10-05T13:49:50+00:00",
          "2015-10-05T14:17:48+00:00",
          "2015-10-05T14:42:40+00:00",
          "2015-10-05T14:57:42+00:00",
          "2015-10-05T16:35:48+00:00",
          "2015-10-05T16:50:50+00:00",
          "2015-10-05T17:04:55+00:00",
          "2015-10-05T18:23:50+00:00",
          "2015-10-05T20:36:44+00:00",
          "2015-10-05T21:44:48+00:00",
          "2015-10-05T22:43:48+00:00",
          "2015-10-05T22:59:38+00:00",
          "2015-10-05T23:50:34+00:00",
          "2015-10-06T02:50:50+00:00",
          "2015-10-06T02:59:43+00:00",
          "2015-10-06T03:07:36+00:00",
          "2015-10-06T03:10:37+00:00",
          "2015-10-06T03:27:43+00:00",
          "2015-10-06T04:52:46+00:00",
          "2015-10-06T06:25:46+00:00",
          "2015-10-06T07:45:42+00:00",
          "2015-10-06T08:11:36+00:00",
          "2015-10-06T08:40:38+00:00",
          "2015-10-06T08:49:42+00:00",
          "2015-10-06T09:00:44+00:00",
          "2015-10-06T09:06:45+00:00",
          "2015-10-06T09:56:52+00:00",
          "2015-10-06T10:27:48+00:00",
          "2015-10-06T10:32:51+00:00",
          "2015-10-06T14:34:50+00:00",
          "2015-10-06T16:29:37+00:00",
          "2015-10-06T17:11:42+00:00",
          "2015-10-06T19:06:47+00:00",
          "2015-10-06T19:30:50+00:00",
          "2015-10-06T19:59:39+00:00",
          "2015-10-06T21:44:44+00:00",
          "2015-10-06T21:47:47+00:00",
          "2015-10-06T22:45:57+00:00",
          "2015-10-06T22:47:55+00:00",
          "2015-10-06T23:12:49+00:00",
          "2015-10-06T23:37:49+00:00",
          "2015-10-07T00:38:43+00:00",
          "2015-10-07T01:28:40+00:00",
          "2015-10-07T02:04:47+00:00",
          "2015-10-07T02:54:00+00:00",
          "2015-10-07T03:14:48+00:00",
          "2015-10-07T03:22:49+00:00",
          "2015-10-07T03:33:49+00:00",
          "2015-10-07T04:09:47+00:00",
          "2015-10-07T04:17:40+00:00",
          "2015-10-07T05:02:42+00:00",
          "2015-10-07T05:52:44+00:00",
          "2015-10-07T06:26:52+00:00",
          "2015-10-07T08:06:51+00:00",
          "2015-10-07T08:09:53+00:00",
          "2015-10-07T08:17:50+00:00",
          "2015-10-07T08:24:46+00:00",
          "2015-10-07T08:29:40+00:00",
          "2015-10-07T08:50:44+00:00",
          "2015-10-07T09:27:35+00:00",
          "2015-10-07T09:57:39+00:00",
          "2015-10-07T10:35:50+00:00",
          "2015-10-07T11:39:50+00:00",
          "2015-10-07T12:51:39+00:00",
          "2015-10-07T13:20:38+00:00",
          "2015-10-07T13:23:40+00:00",
          "2015-10-07T13:26:42+00:00",
          "2015-10-07T13:27:41+00:00",
          "2015-10-07T14:07:39+00:00",
          "2015-10-07T14:09:39+00:00",
          "2015-10-07T16:04:47+00:00",
          "2015-10-07T16:15:50+00:00",
          "2015-10-07T17:07:43+00:00",
          "2015-10-07T19:27:56+00:00",
          "2015-10-07T20:17:48+00:00",
          "2015-10-07T20:37:50+00:00",
          "2015-10-07T20:45:54+00:00",
          "2015-10-07T20:56:48+00:00",
          "2015-10-07T21:20:45+00:00",
          "2015-10-07T21:24:45+00:00",
          "2015-10-07T21:34:45+00:00",
          "2015-10-07T22:14:40+00:00",
          "2015-10-07T22:29:42+00:00",
          "2015-10-07T23:03:48+00:00",
          "2015-10-08T00:27:50+00:00"
         ],
         "y": [
          93470,
          93470,
          93470,
          93470,
          93470,
          93470,
          93470,
          93470,
          93470,
          93470,
          93470,
          93472,
          93472,
          93472,
          93472,
          93472,
          93472,
          93474,
          93474,
          93474,
          93474,
          93474,
          93476,
          93476,
          93476,
          93476,
          93476,
          93476,
          93482,
          93482,
          93484,
          93484,
          93484,
          93484,
          93484,
          93484,
          93484,
          93484,
          93484,
          93484,
          93484,
          93486,
          93486,
          93486,
          93486,
          93486,
          93486,
          93486,
          93488,
          93488,
          93488,
          93488,
          93488,
          93488,
          93488,
          93488,
          93488,
          93490,
          93490,
          93490,
          93508,
          93510,
          93516,
          93520,
          93522,
          93522,
          93522,
          93522,
          93522,
          93522,
          93522,
          93522,
          93522,
          93522,
          93522,
          93524,
          93524,
          93524,
          93524,
          93524,
          93524,
          93526,
          93526,
          93526,
          93526,
          93526,
          93526,
          93526,
          93526,
          93526,
          93526,
          93526,
          93532,
          93532,
          93532,
          93532,
          93532,
          93532,
          93532,
          93532,
          93532,
          93532,
          93534,
          93534,
          93538,
          93542,
          93548,
          93548,
          93548,
          93548,
          93548,
          93548,
          93550,
          93550,
          93550,
          93550,
          93550,
          93550,
          93550,
          93550,
          93550,
          93552,
          93552,
          93552,
          93560,
          93568,
          93568,
          93568,
          93568,
          93568,
          93568,
          93570,
          93570,
          93570,
          93570,
          93570,
          93570,
          93570,
          93570,
          93570,
          93570,
          93570,
          93570,
          93570,
          93588,
          93588,
          93588,
          93588,
          93590,
          93590,
          93590,
          93590,
          93590,
          93590,
          93592,
          93592,
          93592,
          93592,
          93592,
          93592,
          93592,
          93592,
          93592,
          93592,
          93592,
          93592,
          93592,
          93592,
          93592,
          93594,
          93594,
          93596,
          93600,
          93602,
          93608,
          93608,
          93608,
          93614,
          93624,
          93624,
          93624,
          93624,
          93624,
          93624,
          93624,
          93626,
          93626,
          93626,
          93626,
          93626,
          93626,
          93626,
          93626,
          93626,
          93632,
          93636,
          93636,
          93636,
          93636,
          93636,
          93638,
          93638,
          93638,
          93638,
          93638,
          93638,
          93638,
          93648,
          93654,
          93656,
          93656,
          93656,
          93656,
          93656,
          93656,
          93656,
          93656,
          93656,
          93656,
          93656,
          93658,
          93658,
          93658,
          93658,
          93658,
          93658,
          93658,
          93658,
          93658,
          93668,
          93670,
          93670,
          93670,
          93670,
          93670,
          93670,
          93670,
          93678,
          93678,
          93678,
          93680,
          93680,
          93680,
          93680,
          93680,
          93680,
          93680,
          93680,
          93680,
          93686
         ]
        },
        {
         "name": "imputed",
         "type": "scatter",
         "x": [
          "2015-10-01T05:00:00+00:00",
          "2015-10-01T06:00:00+00:00",
          "2015-10-01T07:00:00+00:00",
          "2015-10-01T08:00:00+00:00",
          "2015-10-01T09:00:00+00:00",
          "2015-10-01T10:00:00+00:00",
          "2015-10-01T11:00:00+00:00",
          "2015-10-01T12:00:00+00:00",
          "2015-10-01T13:00:00+00:00",
          "2015-10-01T14:00:00+00:00",
          "2015-10-01T15:00:00+00:00",
          "2015-10-01T16:00:00+00:00",
          "2015-10-01T17:00:00+00:00",
          "2015-10-01T18:00:00+00:00",
          "2015-10-01T19:00:00+00:00",
          "2015-10-01T20:00:00+00:00",
          "2015-10-01T21:00:00+00:00",
          "2015-10-01T22:00:00+00:00",
          "2015-10-01T23:00:00+00:00",
          "2015-10-02T00:00:00+00:00",
          "2015-10-02T01:00:00+00:00",
          "2015-10-02T02:00:00+00:00",
          "2015-10-02T03:00:00+00:00",
          "2015-10-02T04:00:00+00:00",
          "2015-10-02T05:00:00+00:00",
          "2015-10-02T06:00:00+00:00",
          "2015-10-02T07:00:00+00:00",
          "2015-10-02T08:00:00+00:00",
          "2015-10-02T09:00:00+00:00",
          "2015-10-02T10:00:00+00:00",
          "2015-10-02T11:00:00+00:00",
          "2015-10-02T12:00:00+00:00",
          "2015-10-02T13:00:00+00:00",
          "2015-10-02T14:00:00+00:00",
          "2015-10-02T15:00:00+00:00",
          "2015-10-02T16:00:00+00:00",
          "2015-10-02T17:00:00+00:00",
          "2015-10-02T18:00:00+00:00",
          "2015-10-02T19:00:00+00:00",
          "2015-10-02T20:00:00+00:00",
          "2015-10-02T21:00:00+00:00",
          "2015-10-02T22:00:00+00:00",
          "2015-10-02T23:00:00+00:00",
          "2015-10-03T00:00:00+00:00",
          "2015-10-03T01:00:00+00:00",
          "2015-10-03T02:00:00+00:00",
          "2015-10-03T03:00:00+00:00",
          "2015-10-03T04:00:00+00:00",
          "2015-10-03T05:00:00+00:00",
          "2015-10-03T06:00:00+00:00",
          "2015-10-03T07:00:00+00:00",
          "2015-10-03T08:00:00+00:00",
          "2015-10-03T09:00:00+00:00",
          "2015-10-03T10:00:00+00:00",
          "2015-10-03T11:00:00+00:00",
          "2015-10-03T12:00:00+00:00",
          "2015-10-03T13:00:00+00:00",
          "2015-10-03T14:00:00+00:00",
          "2015-10-03T15:00:00+00:00",
          "2015-10-03T16:00:00+00:00",
          "2015-10-03T17:00:00+00:00",
          "2015-10-03T18:00:00+00:00",
          "2015-10-03T19:00:00+00:00",
          "2015-10-03T20:00:00+00:00",
          "2015-10-03T21:00:00+00:00",
          "2015-10-03T22:00:00+00:00",
          "2015-10-03T23:00:00+00:00",
          "2015-10-04T00:00:00+00:00",
          "2015-10-04T01:00:00+00:00",
          "2015-10-04T02:00:00+00:00",
          "2015-10-04T03:00:00+00:00",
          "2015-10-04T04:00:00+00:00",
          "2015-10-04T05:00:00+00:00",
          "2015-10-04T06:00:00+00:00",
          "2015-10-04T07:00:00+00:00",
          "2015-10-04T08:00:00+00:00",
          "2015-10-04T09:00:00+00:00",
          "2015-10-04T10:00:00+00:00",
          "2015-10-04T11:00:00+00:00",
          "2015-10-04T12:00:00+00:00",
          "2015-10-04T13:00:00+00:00",
          "2015-10-04T14:00:00+00:00",
          "2015-10-04T15:00:00+00:00",
          "2015-10-04T16:00:00+00:00",
          "2015-10-04T17:00:00+00:00",
          "2015-10-04T18:00:00+00:00",
          "2015-10-04T19:00:00+00:00",
          "2015-10-04T20:00:00+00:00",
          "2015-10-04T21:00:00+00:00",
          "2015-10-04T22:00:00+00:00",
          "2015-10-04T23:00:00+00:00",
          "2015-10-05T00:00:00+00:00",
          "2015-10-05T01:00:00+00:00",
          "2015-10-05T02:00:00+00:00",
          "2015-10-05T03:00:00+00:00",
          "2015-10-05T04:00:00+00:00",
          "2015-10-05T05:00:00+00:00",
          "2015-10-05T06:00:00+00:00",
          "2015-10-05T07:00:00+00:00",
          "2015-10-05T08:00:00+00:00",
          "2015-10-05T09:00:00+00:00",
          "2015-10-05T10:00:00+00:00",
          "2015-10-05T11:00:00+00:00",
          "2015-10-05T12:00:00+00:00",
          "2015-10-05T13:00:00+00:00",
          "2015-10-05T14:00:00+00:00",
          "2015-10-05T15:00:00+00:00",
          "2015-10-05T16:00:00+00:00",
          "2015-10-05T17:00:00+00:00",
          "2015-10-05T18:00:00+00:00",
          "2015-10-05T19:00:00+00:00",
          "2015-10-05T20:00:00+00:00",
          "2015-10-05T21:00:00+00:00",
          "2015-10-05T22:00:00+00:00",
          "2015-10-05T23:00:00+00:00",
          "2015-10-06T00:00:00+00:00",
          "2015-10-06T01:00:00+00:00",
          "2015-10-06T02:00:00+00:00",
          "2015-10-06T03:00:00+00:00",
          "2015-10-06T04:00:00+00:00",
          "2015-10-06T05:00:00+00:00",
          "2015-10-06T06:00:00+00:00",
          "2015-10-06T07:00:00+00:00",
          "2015-10-06T08:00:00+00:00",
          "2015-10-06T09:00:00+00:00",
          "2015-10-06T10:00:00+00:00",
          "2015-10-06T11:00:00+00:00",
          "2015-10-06T12:00:00+00:00",
          "2015-10-06T13:00:00+00:00",
          "2015-10-06T14:00:00+00:00",
          "2015-10-06T15:00:00+00:00",
          "2015-10-06T16:00:00+00:00",
          "2015-10-06T17:00:00+00:00",
          "2015-10-06T18:00:00+00:00",
          "2015-10-06T19:00:00+00:00",
          "2015-10-06T20:00:00+00:00",
          "2015-10-06T21:00:00+00:00",
          "2015-10-06T22:00:00+00:00",
          "2015-10-06T23:00:00+00:00",
          "2015-10-07T00:00:00+00:00",
          "2015-10-07T01:00:00+00:00",
          "2015-10-07T02:00:00+00:00",
          "2015-10-07T03:00:00+00:00",
          "2015-10-07T04:00:00+00:00",
          "2015-10-07T05:00:00+00:00",
          "2015-10-07T06:00:00+00:00",
          "2015-10-07T07:00:00+00:00",
          "2015-10-07T08:00:00+00:00",
          "2015-10-07T09:00:00+00:00",
          "2015-10-07T10:00:00+00:00",
          "2015-10-07T11:00:00+00:00",
          "2015-10-07T12:00:00+00:00",
          "2015-10-07T13:00:00+00:00",
          "2015-10-07T14:00:00+00:00",
          "2015-10-07T15:00:00+00:00",
          "2015-10-07T16:00:00+00:00",
          "2015-10-07T17:00:00+00:00",
          "2015-10-07T18:00:00+00:00",
          "2015-10-07T19:00:00+00:00",
          "2015-10-07T20:00:00+00:00",
          "2015-10-07T21:00:00+00:00",
          "2015-10-07T22:00:00+00:00",
          "2015-10-07T23:00:00+00:00",
          "2015-10-08T00:00:00+00:00",
          "2015-10-08T01:00:00+00:00",
          "2015-10-08T02:00:00+00:00",
          "2015-10-08T03:00:00+00:00",
          "2015-10-08T04:00:00+00:00",
          "2015-10-08T05:00:00+00:00",
          "2015-10-08T06:00:00+00:00",
          "2015-10-08T07:00:00+00:00",
          "2015-10-08T08:00:00+00:00",
          "2015-10-08T09:00:00+00:00",
          "2015-10-08T10:00:00+00:00",
          "2015-10-08T11:00:00+00:00",
          "2015-10-08T12:00:00+00:00",
          "2015-10-08T13:00:00+00:00",
          "2015-10-08T14:00:00+00:00",
          "2015-10-08T15:00:00+00:00",
          "2015-10-08T16:00:00+00:00",
          "2015-10-08T17:00:00+00:00",
          "2015-10-08T18:00:00+00:00",
          "2015-10-08T19:00:00+00:00",
          "2015-10-08T20:00:00+00:00",
          "2015-10-08T21:00:00+00:00",
          "2015-10-08T22:00:00+00:00",
          "2015-10-08T23:00:00+00:00",
          "2015-10-09T00:00:00+00:00",
          "2015-10-09T01:00:00+00:00",
          "2015-10-09T02:00:00+00:00",
          "2015-10-09T03:00:00+00:00",
          "2015-10-09T04:00:00+00:00",
          "2015-10-09T05:00:00+00:00",
          "2015-10-09T06:00:00+00:00",
          "2015-10-09T07:00:00+00:00",
          "2015-10-09T08:00:00+00:00",
          "2015-10-09T09:00:00+00:00",
          "2015-10-09T10:00:00+00:00",
          "2015-10-09T11:00:00+00:00",
          "2015-10-09T12:00:00+00:00",
          "2015-10-09T13:00:00+00:00",
          "2015-10-09T14:00:00+00:00",
          "2015-10-09T15:00:00+00:00",
          "2015-10-09T16:00:00+00:00",
          "2015-10-09T17:00:00+00:00",
          "2015-10-09T18:00:00+00:00",
          "2015-10-09T19:00:00+00:00",
          "2015-10-09T20:00:00+00:00",
          "2015-10-09T21:00:00+00:00",
          "2015-10-09T22:00:00+00:00",
          "2015-10-09T23:00:00+00:00",
          "2015-10-10T00:00:00+00:00",
          "2015-10-10T01:00:00+00:00",
          "2015-10-10T02:00:00+00:00",
          "2015-10-10T03:00:00+00:00",
          "2015-10-10T04:00:00+00:00",
          "2015-10-10T05:00:00+00:00",
          "2015-10-10T06:00:00+00:00",
          "2015-10-10T07:00:00+00:00",
          "2015-10-10T08:00:00+00:00",
          "2015-10-10T09:00:00+00:00",
          "2015-10-10T10:00:00+00:00",
          "2015-10-10T11:00:00+00:00",
          "2015-10-10T12:00:00+00:00",
          "2015-10-10T13:00:00+00:00",
          "2015-10-10T14:00:00+00:00",
          "2015-10-10T15:00:00+00:00",
          "2015-10-10T16:00:00+00:00",
          "2015-10-10T17:00:00+00:00",
          "2015-10-10T18:00:00+00:00",
          "2015-10-10T19:00:00+00:00",
          "2015-10-10T20:00:00+00:00",
          "2015-10-10T21:00:00+00:00",
          "2015-10-10T22:00:00+00:00",
          "2015-10-10T23:00:00+00:00",
          "2015-10-11T00:00:00+00:00",
          "2015-10-11T01:00:00+00:00",
          "2015-10-11T02:00:00+00:00",
          "2015-10-11T03:00:00+00:00",
          "2015-10-11T04:00:00+00:00",
          "2015-10-11T05:00:00+00:00",
          "2015-10-11T06:00:00+00:00",
          "2015-10-11T07:00:00+00:00",
          "2015-10-11T08:00:00+00:00",
          "2015-10-11T09:00:00+00:00",
          "2015-10-11T10:00:00+00:00",
          "2015-10-11T11:00:00+00:00",
          "2015-10-11T12:00:00+00:00",
          "2015-10-11T13:00:00+00:00",
          "2015-10-11T14:00:00+00:00"
         ],
         "y": [
          93470,
          93470,
          93470,
          93470,
          93470,
          93470,
          93472,
          93472,
          93472,
          93472,
          93473,
          93474,
          93474,
          93474,
          93474,
          93474,
          93474,
          93476,
          93476,
          93482,
          93483,
          93484,
          93484,
          93484,
          93484,
          93484,
          93484,
          93486,
          93486,
          93486,
          93486,
          93486,
          93488,
          93488,
          93488,
          93488,
          93488,
          93488,
          93490,
          93490,
          93496,
          93502,
          93508,
          93510,
          93518,
          93522,
          93522,
          93522,
          93522,
          93522,
          93522,
          93524,
          93524,
          93524,
          93524,
          93524,
          93524,
          93526,
          93526,
          93526,
          93532,
          93532,
          93532,
          93532,
          93532,
          93534,
          93540,
          93548,
          93548,
          93548,
          93549,
          93550,
          93550,
          93550,
          93550,
          93550,
          93552,
          93552,
          93552,
          93552,
          93560,
          93564,
          93568,
          93568,
          93568,
          93570,
          93570,
          93570,
          93570,
          93570,
          93579,
          93588,
          93588,
          93588,
          93588.5,
          93589,
          93589.5,
          93590,
          93590,
          93590.66666666666,
          93591.33333333333,
          93592,
          93592,
          93592,
          93592,
          93592,
          93593,
          93594,
          93596,
          93600,
          93601,
          93602,
          93608,
          93608,
          93614,
          93617.33333333333,
          93620.66666666667,
          93624,
          93624,
          93624,
          93624,
          93624,
          93626,
          93626,
          93626,
          93626,
          93627.5,
          93629,
          93630.5,
          93632,
          93634,
          93636,
          93636,
          93636,
          93636,
          93637,
          93638,
          93638,
          93638,
          93638,
          93648,
          93655,
          93656,
          93656,
          93656,
          93656,
          93656.66666666666,
          93657.33333333333,
          93658,
          93658,
          93658,
          93658,
          93669.5,
          93670,
          93670,
          93670,
          93678,
          93678,
          93678,
          93679.5,
          93680,
          93680,
          93680,
          93686,
          93700,
          93702,
          93702,
          93702,
          93702,
          93702,
          93702,
          93703,
          93703.5,
          93704,
          93704,
          93708,
          93712,
          93712,
          93712,
          93714,
          93714,
          93714,
          93714,
          93714,
          93714,
          93716,
          93716,
          93716,
          93716,
          93716,
          93717.33333333333,
          93718,
          93718,
          93718,
          93718,
          93718,
          93719,
          93720,
          93720,
          93720,
          93720,
          93720,
          93722,
          93722,
          93722,
          93722,
          93722,
          93723,
          93724,
          93724,
          93724,
          93724,
          93724,
          93726,
          93726,
          93726,
          93726,
          93726,
          93726.66666666667,
          93728,
          93728,
          93728,
          93728,
          93728,
          93730,
          93730,
          93730,
          93730,
          93730,
          93730,
          93731,
          93732,
          93732,
          93732,
          93732,
          93733,
          93734,
          93734,
          93734,
          93734,
          93734,
          93735,
          93736,
          93736,
          93736,
          93736,
          93736,
          93738,
          93738,
          93738
         ]
        },
        {
         "name": "long_term_prediction",
         "type": "scatter",
         "x": [
          "2015-10-02T01:00:00+00:00",
          "2015-10-02T02:00:00+00:00",
          "2015-10-02T03:00:00+00:00",
          "2015-10-02T04:00:00+00:00",
          "2015-10-02T05:00:00+00:00",
          "2015-10-02T06:00:00+00:00",
          "2015-10-02T07:00:00+00:00",
          "2015-10-02T08:00:00+00:00",
          "2015-10-02T09:00:00+00:00",
          "2015-10-02T10:00:00+00:00",
          "2015-10-02T11:00:00+00:00",
          "2015-10-02T12:00:00+00:00",
          "2015-10-02T13:00:00+00:00",
          "2015-10-02T14:00:00+00:00",
          "2015-10-02T15:00:00+00:00",
          "2015-10-02T16:00:00+00:00",
          "2015-10-02T17:00:00+00:00",
          "2015-10-02T18:00:00+00:00",
          "2015-10-02T19:00:00+00:00",
          "2015-10-02T20:00:00+00:00",
          "2015-10-02T21:00:00+00:00",
          "2015-10-02T22:00:00+00:00",
          "2015-10-02T23:00:00+00:00",
          "2015-10-03T00:00:00+00:00",
          "2015-10-03T01:00:00+00:00",
          "2015-10-03T02:00:00+00:00",
          "2015-10-03T03:00:00+00:00",
          "2015-10-03T04:00:00+00:00",
          "2015-10-03T05:00:00+00:00",
          "2015-10-03T06:00:00+00:00",
          "2015-10-03T07:00:00+00:00",
          "2015-10-03T08:00:00+00:00",
          "2015-10-03T09:00:00+00:00",
          "2015-10-03T10:00:00+00:00",
          "2015-10-03T11:00:00+00:00",
          "2015-10-03T12:00:00+00:00",
          "2015-10-03T13:00:00+00:00",
          "2015-10-03T14:00:00+00:00",
          "2015-10-03T15:00:00+00:00",
          "2015-10-03T16:00:00+00:00",
          "2015-10-03T17:00:00+00:00",
          "2015-10-03T18:00:00+00:00",
          "2015-10-03T19:00:00+00:00",
          "2015-10-03T20:00:00+00:00",
          "2015-10-03T21:00:00+00:00",
          "2015-10-03T22:00:00+00:00",
          "2015-10-03T23:00:00+00:00",
          "2015-10-04T00:00:00+00:00",
          "2015-10-04T01:00:00+00:00",
          "2015-10-04T02:00:00+00:00",
          "2015-10-04T03:00:00+00:00",
          "2015-10-04T04:00:00+00:00",
          "2015-10-04T05:00:00+00:00",
          "2015-10-04T06:00:00+00:00",
          "2015-10-04T07:00:00+00:00",
          "2015-10-04T08:00:00+00:00",
          "2015-10-04T09:00:00+00:00",
          "2015-10-04T10:00:00+00:00",
          "2015-10-04T11:00:00+00:00",
          "2015-10-04T12:00:00+00:00",
          "2015-10-04T13:00:00+00:00",
          "2015-10-04T14:00:00+00:00",
          "2015-10-04T15:00:00+00:00",
          "2015-10-04T16:00:00+00:00",
          "2015-10-04T17:00:00+00:00",
          "2015-10-04T18:00:00+00:00",
          "2015-10-04T19:00:00+00:00",
          "2015-10-04T20:00:00+00:00",
          "2015-10-04T21:00:00+00:00",
          "2015-10-04T22:00:00+00:00",
          "2015-10-04T23:00:00+00:00",
          "2015-10-05T00:00:00+00:00",
          "2015-10-05T01:00:00+00:00",
          "2015-10-05T02:00:00+00:00",
          "2015-10-05T03:00:00+00:00",
          "2015-10-05T04:00:00+00:00",
          "2015-10-05T05:00:00+00:00",
          "2015-10-05T06:00:00+00:00",
          "2015-10-05T07:00:00+00:00",
          "2015-10-05T08:00:00+00:00",
          "2015-10-05T09:00:00+00:00",
          "2015-10-05T10:00:00+00:00",
          "2015-10-05T11:00:00+00:00",
          "2015-10-05T12:00:00+00:00",
          "2015-10-05T13:00:00+00:00",
          "2015-10-05T14:00:00+00:00",
          "2015-10-05T15:00:00+00:00",
          "2015-10-05T16:00:00+00:00",
          "2015-10-05T17:00:00+00:00",
          "2015-10-05T18:00:00+00:00",
          "2015-10-05T19:00:00+00:00",
          "2015-10-05T20:00:00+00:00",
          "2015-10-05T21:00:00+00:00",
          "2015-10-05T22:00:00+00:00",
          "2015-10-05T23:00:00+00:00",
          "2015-10-06T00:00:00+00:00",
          "2015-10-06T01:00:00+00:00",
          "2015-10-06T02:00:00+00:00",
          "2015-10-06T03:00:00+00:00",
          "2015-10-06T04:00:00+00:00",
          "2015-10-06T05:00:00+00:00",
          "2015-10-06T06:00:00+00:00",
          "2015-10-06T07:00:00+00:00",
          "2015-10-06T08:00:00+00:00",
          "2015-10-06T09:00:00+00:00",
          "2015-10-06T10:00:00+00:00",
          "2015-10-06T11:00:00+00:00",
          "2015-10-06T12:00:00+00:00",
          "2015-10-06T13:00:00+00:00",
          "2015-10-06T14:00:00+00:00",
          "2015-10-06T15:00:00+00:00",
          "2015-10-06T16:00:00+00:00",
          "2015-10-06T17:00:00+00:00",
          "2015-10-06T18:00:00+00:00",
          "2015-10-06T19:00:00+00:00",
          "2015-10-06T20:00:00+00:00",
          "2015-10-06T21:00:00+00:00",
          "2015-10-06T22:00:00+00:00",
          "2015-10-06T23:00:00+00:00",
          "2015-10-07T00:00:00+00:00",
          "2015-10-07T01:00:00+00:00",
          "2015-10-07T02:00:00+00:00",
          "2015-10-07T03:00:00+00:00",
          "2015-10-07T04:00:00+00:00",
          "2015-10-07T05:00:00+00:00",
          "2015-10-07T06:00:00+00:00",
          "2015-10-07T07:00:00+00:00",
          "2015-10-07T08:00:00+00:00",
          "2015-10-07T09:00:00+00:00",
          "2015-10-07T10:00:00+00:00",
          "2015-10-07T11:00:00+00:00",
          "2015-10-07T12:00:00+00:00",
          "2015-10-07T13:00:00+00:00",
          "2015-10-07T14:00:00+00:00",
          "2015-10-07T15:00:00+00:00",
          "2015-10-07T16:00:00+00:00",
          "2015-10-07T17:00:00+00:00",
          "2015-10-07T18:00:00+00:00",
          "2015-10-07T19:00:00+00:00",
          "2015-10-07T20:00:00+00:00",
          "2015-10-07T21:00:00+00:00",
          "2015-10-07T22:00:00+00:00",
          "2015-10-07T23:00:00+00:00",
          "2015-10-08T00:00:00+00:00"
         ],
         "y": [
          93487.34617764584,
          93492.36572782772,
          93497.0768889995,
          93501.49982817753,
          93505.83408647006,
          93510.06799295473,
          93514.06317245601,
          93517.8490157281,
          93521.44811368057,
          93524.88255871773,
          93528.17157700294,
          93531.33306973474,
          93534.38361407182,
          93537.33858227712,
          93540.21221900542,
          93543.01772510476,
          93545.76733389913,
          93548.4723821872,
          93551.14337593298,
          93553.7900511568,
          93556.42143036093,
          93559.04587482092,
          93561.67113304445,
          93564.12252614417,
          93566.42712301694,
          93568.60264210345,
          93570.66718118046,
          93572.63600534255,
          93574.52337587063,
          93576.34249158323,
          93578.10559616848,
          93579.82403466801,
          93581.50832087098,
          93583.16819794873,
          93584.81269504479,
          93586.45017958725,
          93588.08840578631,
          93589.73455957384,
          93591.39530025059,
          93593.07679908109,
          93594.78477506006,
          93596.5245280577,
          93598.3009695357,
          93600.11865101244,
          93601.98179044183,
          93603.89429665913,
          93605.85979203509,
          93607.69977393515,
          93609.43776773768,
          93611.0882080566,
          93612.66614950176,
          93614.18403702363,
          93615.6535184372,
          93617.0853706266,
          93618.48959284046,
          93619.87545016778,
          93621.25152887736,
          93622.62578588122,
          93624.0055949721,
          93625.397789542,
          93626.80870218901,
          93628.24420141775,
          93629.70972565124,
          93631.21031474999,
          93632.75063922128,
          93634.33502728769,
          93635.9674899719,
          93637.65174434318,
          93639.39123506015,
          93641.18915433476,
          93643.04846043323,
          93644.79003528632,
          93646.43683394068,
          93648.00276247608,
          93649.50238570261,
          93650.9476946666,
          93652.34991654394,
          93653.7194384068,
          93655.06589825972,
          93656.39822642195,
          93657.72469892657,
          93659.05298518595,
          93660.39019256299,
          93661.74290754556,
          93663.11723392231,
          93664.51882815704,
          93665.95293217167,
          93667.42440372649,
          93668.93774457398,
          93670.4971265494,
          93672.10641574915,
          93673.76919493735,
          93675.48878431022,
          93677.26826073871,
          93679.11047560097,
          93680.83621177313,
          93682.46833250656,
          93684.0206588131,
          93685.50767666924,
          93686.94130406513,
          93688.33270047452,
          93689.69219022906,
          93691.02935319084,
          93692.35306579767,
          93693.67155414997,
          93694.99244138687,
          93696.3227919892,
          93697.6691527054,
          93699.03759049714,
          93700.4337277001,
          93701.86277460921,
          93703.32955967559,
          93704.83855749056,
          93706.39391471868,
          93707.99947413041,
          93709.65879687337,
          93711.37518311144,
          93713.15169115136,
          93714.99115516759,
          93716.71434209333,
          93718.34410040543,
          93719.89423742403,
          93721.37922643726,
          93722.81097367685,
          93724.20062771985,
          93725.55850279976,
          93726.8941694206,
          93728.21649534794,
          93729.53369864551,
          93730.85339500471,
          93732.1826420045,
          93733.52797999723,
          93734.89547001723,
          93736.29072890723,
          93737.71896187177,
          93739.18499264464,
          93740.69329144555,
          93742.24800088786,
          93743.85295998768,
          93745.51172641342,
          93747.22759710476,
          93749.00362738055,
          93750.84264864624,
          93752.56542526904
         ]
        }
       ],
       "layout": {
        "legend": {
         "title": {
          "text": "Data Category"
         },
         "tracegroupgap": 0
        },
        "margin": {
         "t": 60
        },
        "template": {
         "data": {
          "bar": [
           {
            "error_x": {
             "color": "#2a3f5f"
            },
            "error_y": {
             "color": "#2a3f5f"
            },
            "marker": {
             "line": {
              "color": "#E5ECF6",
              "width": 0.5
             }
            },
            "type": "bar"
           }
          ],
          "barpolar": [
           {
            "marker": {
             "line": {
              "color": "#E5ECF6",
              "width": 0.5
             }
            },
            "type": "barpolar"
           }
          ],
          "carpet": [
           {
            "aaxis": {
             "endlinecolor": "#2a3f5f",
             "gridcolor": "white",
             "linecolor": "white",
             "minorgridcolor": "white",
             "startlinecolor": "#2a3f5f"
            },
            "baxis": {
             "endlinecolor": "#2a3f5f",
             "gridcolor": "white",
             "linecolor": "white",
             "minorgridcolor": "white",
             "startlinecolor": "#2a3f5f"
            },
            "type": "carpet"
           }
          ],
          "choropleth": [
           {
            "colorbar": {
             "outlinewidth": 0,
             "ticks": ""
            },
            "type": "choropleth"
           }
          ],
          "contour": [
           {
            "colorbar": {
             "outlinewidth": 0,
             "ticks": ""
            },
            "colorscale": [
             [
              0,
              "#0d0887"
             ],
             [
              0.1111111111111111,
              "#46039f"
             ],
             [
              0.2222222222222222,
              "#7201a8"
             ],
             [
              0.3333333333333333,
              "#9c179e"
             ],
             [
              0.4444444444444444,
              "#bd3786"
             ],
             [
              0.5555555555555556,
              "#d8576b"
             ],
             [
              0.6666666666666666,
              "#ed7953"
             ],
             [
              0.7777777777777778,
              "#fb9f3a"
             ],
             [
              0.8888888888888888,
              "#fdca26"
             ],
             [
              1,
              "#f0f921"
             ]
            ],
            "type": "contour"
           }
          ],
          "contourcarpet": [
           {
            "colorbar": {
             "outlinewidth": 0,
             "ticks": ""
            },
            "type": "contourcarpet"
           }
          ],
          "heatmap": [
           {
            "colorbar": {
             "outlinewidth": 0,
             "ticks": ""
            },
            "colorscale": [
             [
              0,
              "#0d0887"
             ],
             [
              0.1111111111111111,
              "#46039f"
             ],
             [
              0.2222222222222222,
              "#7201a8"
             ],
             [
              0.3333333333333333,
              "#9c179e"
             ],
             [
              0.4444444444444444,
              "#bd3786"
             ],
             [
              0.5555555555555556,
              "#d8576b"
             ],
             [
              0.6666666666666666,
              "#ed7953"
             ],
             [
              0.7777777777777778,
              "#fb9f3a"
             ],
             [
              0.8888888888888888,
              "#fdca26"
             ],
             [
              1,
              "#f0f921"
             ]
            ],
            "type": "heatmap"
           }
          ],
          "heatmapgl": [
           {
            "colorbar": {
             "outlinewidth": 0,
             "ticks": ""
            },
            "colorscale": [
             [
              0,
              "#0d0887"
             ],
             [
              0.1111111111111111,
              "#46039f"
             ],
             [
              0.2222222222222222,
              "#7201a8"
             ],
             [
              0.3333333333333333,
              "#9c179e"
             ],
             [
              0.4444444444444444,
              "#bd3786"
             ],
             [
              0.5555555555555556,
              "#d8576b"
             ],
             [
              0.6666666666666666,
              "#ed7953"
             ],
             [
              0.7777777777777778,
              "#fb9f3a"
             ],
             [
              0.8888888888888888,
              "#fdca26"
             ],
             [
              1,
              "#f0f921"
             ]
            ],
            "type": "heatmapgl"
           }
          ],
          "histogram": [
           {
            "marker": {
             "colorbar": {
              "outlinewidth": 0,
              "ticks": ""
             }
            },
            "type": "histogram"
           }
          ],
          "histogram2d": [
           {
            "colorbar": {
             "outlinewidth": 0,
             "ticks": ""
            },
            "colorscale": [
             [
              0,
              "#0d0887"
             ],
             [
              0.1111111111111111,
              "#46039f"
             ],
             [
              0.2222222222222222,
              "#7201a8"
             ],
             [
              0.3333333333333333,
              "#9c179e"
             ],
             [
              0.4444444444444444,
              "#bd3786"
             ],
             [
              0.5555555555555556,
              "#d8576b"
             ],
             [
              0.6666666666666666,
              "#ed7953"
             ],
             [
              0.7777777777777778,
              "#fb9f3a"
             ],
             [
              0.8888888888888888,
              "#fdca26"
             ],
             [
              1,
              "#f0f921"
             ]
            ],
            "type": "histogram2d"
           }
          ],
          "histogram2dcontour": [
           {
            "colorbar": {
             "outlinewidth": 0,
             "ticks": ""
            },
            "colorscale": [
             [
              0,
              "#0d0887"
             ],
             [
              0.1111111111111111,
              "#46039f"
             ],
             [
              0.2222222222222222,
              "#7201a8"
             ],
             [
              0.3333333333333333,
              "#9c179e"
             ],
             [
              0.4444444444444444,
              "#bd3786"
             ],
             [
              0.5555555555555556,
              "#d8576b"
             ],
             [
              0.6666666666666666,
              "#ed7953"
             ],
             [
              0.7777777777777778,
              "#fb9f3a"
             ],
             [
              0.8888888888888888,
              "#fdca26"
             ],
             [
              1,
              "#f0f921"
             ]
            ],
            "type": "histogram2dcontour"
           }
          ],
          "mesh3d": [
           {
            "colorbar": {
             "outlinewidth": 0,
             "ticks": ""
            },
            "type": "mesh3d"
           }
          ],
          "parcoords": [
           {
            "line": {
             "colorbar": {
              "outlinewidth": 0,
              "ticks": ""
             }
            },
            "type": "parcoords"
           }
          ],
          "pie": [
           {
            "automargin": true,
            "type": "pie"
           }
          ],
          "scatter": [
           {
            "marker": {
             "colorbar": {
              "outlinewidth": 0,
              "ticks": ""
             }
            },
            "type": "scatter"
           }
          ],
          "scatter3d": [
           {
            "line": {
             "colorbar": {
              "outlinewidth": 0,
              "ticks": ""
             }
            },
            "marker": {
             "colorbar": {
              "outlinewidth": 0,
              "ticks": ""
             }
            },
            "type": "scatter3d"
           }
          ],
          "scattercarpet": [
           {
            "marker": {
             "colorbar": {
              "outlinewidth": 0,
              "ticks": ""
             }
            },
            "type": "scattercarpet"
           }
          ],
          "scattergeo": [
           {
            "marker": {
             "colorbar": {
              "outlinewidth": 0,
              "ticks": ""
             }
            },
            "type": "scattergeo"
           }
          ],
          "scattergl": [
           {
            "marker": {
             "colorbar": {
              "outlinewidth": 0,
              "ticks": ""
             }
            },
            "type": "scattergl"
           }
          ],
          "scattermapbox": [
           {
            "marker": {
             "colorbar": {
              "outlinewidth": 0,
              "ticks": ""
             }
            },
            "type": "scattermapbox"
           }
          ],
          "scatterpolar": [
           {
            "marker": {
             "colorbar": {
              "outlinewidth": 0,
              "ticks": ""
             }
            },
            "type": "scatterpolar"
           }
          ],
          "scatterpolargl": [
           {
            "marker": {
             "colorbar": {
              "outlinewidth": 0,
              "ticks": ""
             }
            },
            "type": "scatterpolargl"
           }
          ],
          "scatterternary": [
           {
            "marker": {
             "colorbar": {
              "outlinewidth": 0,
              "ticks": ""
             }
            },
            "type": "scatterternary"
           }
          ],
          "surface": [
           {
            "colorbar": {
             "outlinewidth": 0,
             "ticks": ""
            },
            "colorscale": [
             [
              0,
              "#0d0887"
             ],
             [
              0.1111111111111111,
              "#46039f"
             ],
             [
              0.2222222222222222,
              "#7201a8"
             ],
             [
              0.3333333333333333,
              "#9c179e"
             ],
             [
              0.4444444444444444,
              "#bd3786"
             ],
             [
              0.5555555555555556,
              "#d8576b"
             ],
             [
              0.6666666666666666,
              "#ed7953"
             ],
             [
              0.7777777777777778,
              "#fb9f3a"
             ],
             [
              0.8888888888888888,
              "#fdca26"
             ],
             [
              1,
              "#f0f921"
             ]
            ],
            "type": "surface"
           }
          ],
          "table": [
           {
            "cells": {
             "fill": {
              "color": "#EBF0F8"
             },
             "line": {
              "color": "white"
             }
            },
            "header": {
             "fill": {
              "color": "#C8D4E3"
             },
             "line": {
              "color": "white"
             }
            },
            "type": "table"
           }
          ]
         },
         "layout": {
          "annotationdefaults": {
           "arrowcolor": "#2a3f5f",
           "arrowhead": 0,
           "arrowwidth": 1
          },
          "coloraxis": {
           "colorbar": {
            "outlinewidth": 0,
            "ticks": ""
           }
          },
          "colorscale": {
           "diverging": [
            [
             0,
             "#8e0152"
            ],
            [
             0.1,
             "#c51b7d"
            ],
            [
             0.2,
             "#de77ae"
            ],
            [
             0.3,
             "#f1b6da"
            ],
            [
             0.4,
             "#fde0ef"
            ],
            [
             0.5,
             "#f7f7f7"
            ],
            [
             0.6,
             "#e6f5d0"
            ],
            [
             0.7,
             "#b8e186"
            ],
            [
             0.8,
             "#7fbc41"
            ],
            [
             0.9,
             "#4d9221"
            ],
            [
             1,
             "#276419"
            ]
           ],
           "sequential": [
            [
             0,
             "#0d0887"
            ],
            [
             0.1111111111111111,
             "#46039f"
            ],
            [
             0.2222222222222222,
             "#7201a8"
            ],
            [
             0.3333333333333333,
             "#9c179e"
            ],
            [
             0.4444444444444444,
             "#bd3786"
            ],
            [
             0.5555555555555556,
             "#d8576b"
            ],
            [
             0.6666666666666666,
             "#ed7953"
            ],
            [
             0.7777777777777778,
             "#fb9f3a"
            ],
            [
             0.8888888888888888,
             "#fdca26"
            ],
            [
             1,
             "#f0f921"
            ]
           ],
           "sequentialminus": [
            [
             0,
             "#0d0887"
            ],
            [
             0.1111111111111111,
             "#46039f"
            ],
            [
             0.2222222222222222,
             "#7201a8"
            ],
            [
             0.3333333333333333,
             "#9c179e"
            ],
            [
             0.4444444444444444,
             "#bd3786"
            ],
            [
             0.5555555555555556,
             "#d8576b"
            ],
            [
             0.6666666666666666,
             "#ed7953"
            ],
            [
             0.7777777777777778,
             "#fb9f3a"
            ],
            [
             0.8888888888888888,
             "#fdca26"
            ],
            [
             1,
             "#f0f921"
            ]
           ]
          },
          "colorway": [
           "#636efa",
           "#EF553B",
           "#00cc96",
           "#ab63fa",
           "#FFA15A",
           "#19d3f3",
           "#FF6692",
           "#B6E880",
           "#FF97FF",
           "#FECB52"
          ],
          "font": {
           "color": "#2a3f5f"
          },
          "geo": {
           "bgcolor": "white",
           "lakecolor": "white",
           "landcolor": "#E5ECF6",
           "showlakes": true,
           "showland": true,
           "subunitcolor": "white"
          },
          "hoverlabel": {
           "align": "left"
          },
          "hovermode": "closest",
          "mapbox": {
           "style": "light"
          },
          "paper_bgcolor": "white",
          "plot_bgcolor": "#E5ECF6",
          "polar": {
           "angularaxis": {
            "gridcolor": "white",
            "linecolor": "white",
            "ticks": ""
           },
           "bgcolor": "#E5ECF6",
           "radialaxis": {
            "gridcolor": "white",
            "linecolor": "white",
            "ticks": ""
           }
          },
          "scene": {
           "xaxis": {
            "backgroundcolor": "#E5ECF6",
            "gridcolor": "white",
            "gridwidth": 2,
            "linecolor": "white",
            "showbackground": true,
            "ticks": "",
            "zerolinecolor": "white"
           },
           "yaxis": {
            "backgroundcolor": "#E5ECF6",
            "gridcolor": "white",
            "gridwidth": 2,
            "linecolor": "white",
            "showbackground": true,
            "ticks": "",
            "zerolinecolor": "white"
           },
           "zaxis": {
            "backgroundcolor": "#E5ECF6",
            "gridcolor": "white",
            "gridwidth": 2,
            "linecolor": "white",
            "showbackground": true,
            "ticks": "",
            "zerolinecolor": "white"
           }
          },
          "shapedefaults": {
           "line": {
            "color": "#2a3f5f"
           }
          },
          "ternary": {
           "aaxis": {
            "gridcolor": "white",
            "linecolor": "white",
            "ticks": ""
           },
           "baxis": {
            "gridcolor": "white",
            "linecolor": "white",
            "ticks": ""
           },
           "bgcolor": "#E5ECF6",
           "caxis": {
            "gridcolor": "white",
            "linecolor": "white",
            "ticks": ""
           }
          },
          "title": {
           "x": 0.05
          },
          "xaxis": {
           "automargin": true,
           "gridcolor": "white",
           "linecolor": "white",
           "ticks": "",
           "title": {
            "standoff": 15
           },
           "zerolinecolor": "white",
           "zerolinewidth": 2
          },
          "yaxis": {
           "automargin": true,
           "gridcolor": "white",
           "linecolor": "white",
           "ticks": "",
           "title": {
            "standoff": 15
           },
           "zerolinecolor": "white",
           "zerolinewidth": 2
          }
         }
        },
        "title": {
         "text": "Predictions with linear kernel SVR"
        },
        "xaxis": {
         "anchor": "y",
         "domain": [
          0,
          1
         ],
         "title": {
          "text": "Date and time"
         }
        },
        "yaxis": {
         "anchor": "x",
         "domain": [
          0,
          1
         ],
         "title": {
          "text": "meter value reading"
         }
        }
       }
      },
      "text/html": [
       "<div>                            <div id=\"d5e10c77-1c8c-4af6-ae71-857f512cf276\" class=\"plotly-graph-div\" style=\"height:525px; width:100%;\"></div>            <script type=\"text/javascript\">                require([\"plotly\"], function(Plotly) {                    window.PLOTLYENV=window.PLOTLYENV || {};                                    if (document.getElementById(\"d5e10c77-1c8c-4af6-ae71-857f512cf276\")) {                    Plotly.newPlot(                        \"d5e10c77-1c8c-4af6-ae71-857f512cf276\",                        [{\"name\": \"predictions\", \"type\": \"scatter\", \"x\": [\"2015-10-01T12:00:00+00:00\", \"2015-10-01T13:00:00+00:00\", \"2015-10-01T14:00:00+00:00\", \"2015-10-01T15:00:00+00:00\", \"2015-10-01T16:00:00+00:00\", \"2015-10-01T17:00:00+00:00\", \"2015-10-01T18:00:00+00:00\", \"2015-10-01T19:00:00+00:00\", \"2015-10-01T20:00:00+00:00\", \"2015-10-01T21:00:00+00:00\", \"2015-10-01T22:00:00+00:00\", \"2015-10-01T23:00:00+00:00\", \"2015-10-02T00:00:00+00:00\", \"2015-10-02T01:00:00+00:00\", \"2015-10-02T02:00:00+00:00\", \"2015-10-02T03:00:00+00:00\", \"2015-10-02T04:00:00+00:00\", \"2015-10-02T05:00:00+00:00\", \"2015-10-02T06:00:00+00:00\", \"2015-10-02T07:00:00+00:00\", \"2015-10-02T08:00:00+00:00\", \"2015-10-02T09:00:00+00:00\", \"2015-10-02T10:00:00+00:00\", \"2015-10-02T11:00:00+00:00\", \"2015-10-02T12:00:00+00:00\", \"2015-10-02T13:00:00+00:00\", \"2015-10-02T14:00:00+00:00\", \"2015-10-02T15:00:00+00:00\", \"2015-10-02T16:00:00+00:00\", \"2015-10-02T17:00:00+00:00\", \"2015-10-02T18:00:00+00:00\", \"2015-10-02T19:00:00+00:00\", \"2015-10-02T20:00:00+00:00\", \"2015-10-02T21:00:00+00:00\", \"2015-10-02T22:00:00+00:00\", \"2015-10-02T23:00:00+00:00\", \"2015-10-03T00:00:00+00:00\", \"2015-10-03T01:00:00+00:00\", \"2015-10-03T02:00:00+00:00\", \"2015-10-03T03:00:00+00:00\", \"2015-10-03T04:00:00+00:00\", \"2015-10-03T05:00:00+00:00\", \"2015-10-03T06:00:00+00:00\", \"2015-10-03T07:00:00+00:00\", \"2015-10-03T08:00:00+00:00\", \"2015-10-03T09:00:00+00:00\", \"2015-10-03T10:00:00+00:00\", \"2015-10-03T11:00:00+00:00\", \"2015-10-03T12:00:00+00:00\", \"2015-10-03T13:00:00+00:00\", \"2015-10-03T14:00:00+00:00\", \"2015-10-03T15:00:00+00:00\", \"2015-10-03T16:00:00+00:00\", \"2015-10-03T17:00:00+00:00\", \"2015-10-03T18:00:00+00:00\", \"2015-10-03T19:00:00+00:00\", \"2015-10-03T20:00:00+00:00\", \"2015-10-03T21:00:00+00:00\", \"2015-10-03T22:00:00+00:00\", \"2015-10-03T23:00:00+00:00\", \"2015-10-04T00:00:00+00:00\", \"2015-10-04T01:00:00+00:00\", \"2015-10-04T02:00:00+00:00\", \"2015-10-04T03:00:00+00:00\", \"2015-10-04T04:00:00+00:00\", \"2015-10-04T05:00:00+00:00\", \"2015-10-04T06:00:00+00:00\", \"2015-10-04T07:00:00+00:00\", \"2015-10-04T08:00:00+00:00\", \"2015-10-04T09:00:00+00:00\", \"2015-10-04T10:00:00+00:00\", \"2015-10-04T11:00:00+00:00\", \"2015-10-04T12:00:00+00:00\", \"2015-10-04T13:00:00+00:00\", \"2015-10-04T14:00:00+00:00\", \"2015-10-04T15:00:00+00:00\", \"2015-10-04T16:00:00+00:00\", \"2015-10-04T17:00:00+00:00\", \"2015-10-04T18:00:00+00:00\", \"2015-10-04T19:00:00+00:00\", \"2015-10-04T20:00:00+00:00\", \"2015-10-04T21:00:00+00:00\", \"2015-10-04T22:00:00+00:00\", \"2015-10-04T23:00:00+00:00\", \"2015-10-05T00:00:00+00:00\", \"2015-10-05T01:00:00+00:00\", \"2015-10-05T02:00:00+00:00\", \"2015-10-05T03:00:00+00:00\", \"2015-10-05T04:00:00+00:00\", \"2015-10-05T05:00:00+00:00\", \"2015-10-05T06:00:00+00:00\", \"2015-10-05T07:00:00+00:00\", \"2015-10-05T08:00:00+00:00\", \"2015-10-05T09:00:00+00:00\", \"2015-10-05T10:00:00+00:00\", \"2015-10-05T11:00:00+00:00\", \"2015-10-05T12:00:00+00:00\", \"2015-10-05T13:00:00+00:00\", \"2015-10-05T14:00:00+00:00\", \"2015-10-05T15:00:00+00:00\", \"2015-10-05T16:00:00+00:00\", \"2015-10-05T17:00:00+00:00\", \"2015-10-05T18:00:00+00:00\", \"2015-10-05T19:00:00+00:00\", \"2015-10-05T20:00:00+00:00\", \"2015-10-05T21:00:00+00:00\", \"2015-10-05T22:00:00+00:00\", \"2015-10-05T23:00:00+00:00\", \"2015-10-06T00:00:00+00:00\", \"2015-10-06T01:00:00+00:00\", \"2015-10-06T02:00:00+00:00\", \"2015-10-06T03:00:00+00:00\", \"2015-10-06T04:00:00+00:00\", \"2015-10-06T05:00:00+00:00\", \"2015-10-06T06:00:00+00:00\", \"2015-10-06T07:00:00+00:00\", \"2015-10-06T08:00:00+00:00\", \"2015-10-06T09:00:00+00:00\", \"2015-10-06T10:00:00+00:00\", \"2015-10-06T11:00:00+00:00\", \"2015-10-06T12:00:00+00:00\", \"2015-10-06T13:00:00+00:00\", \"2015-10-06T14:00:00+00:00\", \"2015-10-06T15:00:00+00:00\", \"2015-10-06T16:00:00+00:00\", \"2015-10-06T17:00:00+00:00\", \"2015-10-06T18:00:00+00:00\", \"2015-10-06T19:00:00+00:00\", \"2015-10-06T20:00:00+00:00\", \"2015-10-06T21:00:00+00:00\", \"2015-10-06T22:00:00+00:00\", \"2015-10-06T23:00:00+00:00\", \"2015-10-07T00:00:00+00:00\", \"2015-10-07T01:00:00+00:00\", \"2015-10-07T02:00:00+00:00\", \"2015-10-07T03:00:00+00:00\", \"2015-10-07T04:00:00+00:00\", \"2015-10-07T05:00:00+00:00\", \"2015-10-07T06:00:00+00:00\", \"2015-10-07T07:00:00+00:00\", \"2015-10-07T08:00:00+00:00\", \"2015-10-07T09:00:00+00:00\", \"2015-10-07T10:00:00+00:00\", \"2015-10-07T11:00:00+00:00\", \"2015-10-07T12:00:00+00:00\", \"2015-10-07T13:00:00+00:00\", \"2015-10-07T14:00:00+00:00\", \"2015-10-07T15:00:00+00:00\", \"2015-10-07T16:00:00+00:00\", \"2015-10-07T17:00:00+00:00\", \"2015-10-07T18:00:00+00:00\", \"2015-10-07T19:00:00+00:00\", \"2015-10-07T20:00:00+00:00\", \"2015-10-07T21:00:00+00:00\", \"2015-10-07T22:00:00+00:00\", \"2015-10-07T23:00:00+00:00\", \"2015-10-08T00:00:00+00:00\"], \"y\": [93473.89383714886, 93472.19818938943, 93472.11820998485, 93472.15521139278, 93472.20628070728, 93475.08011193191, 93474.19229834991, 93474.17080935158, 93474.2148447128, 93474.18654283807, 93474.19412031869, 93477.97718943562, 93476.09968214143, 93487.34617764584, 93482.2735033336, 93484.98578100886, 93484.12861393648, 93484.23760043985, 93484.10875998418, 93484.08045810946, 93484.08803559007, 93487.87110470701, 93486.17545694757, 93486.095477543, 93486.13247895092, 93486.18354826544, 93489.9089921101, 93488.21334435066, 93488.13336494609, 93488.17036635401, 93488.22143566851, 93488.17138787684, 93491.95445699379, 93490.25880923435, 93490.17882982978, 93490.2158312377, 93513.58244364854, 93512.0238128994, 93527.38620831334, 93525.87490655587, 93522.15522994293, 93522.14888119629, 93522.33164859482, 93522.19570865405, 93522.08803559007, 93525.87110470701, 93524.17545694757, 93524.095477543, 93524.13247895092, 93524.18354826544, 93524.13350047376, 93527.91656959071, 93526.22092183126, 93526.14094242669, 93537.50441874361, 93532.44581233797, 93532.13309389072, 93532.22894315327, 93532.36699613556, 93535.97718943562, 93547.42615705042, 93555.33846847102, 93548.29989826317, 93548.08901181884, 93548.28713523809, 93551.21968325372, 93550.10136858252, 93550.0798795842, 93550.12391494542, 93550.09561307068, 93553.87868218763, 93552.18303442819, 93552.10305502362, 93552.14005643154, 93567.29309229138, 93560.43014353949, 93571.78300954457, 93568.32671848395, 93568.39199738439, 93572.09039693455, 93570.25123175373, 93570.17125234916, 93570.20825375708, 93570.2593230716, 93570.02741574515, 93596.3499043725, 93588.29896228954, 93588.0449414597, 93588.38063986573, 93588.06530314822, 93588.07288062884, 93590.54210835497, 93590.12021924458, 93590.09561307068, 93592.71910989551, 93592.72159054648, 93592.14204862778, 93592.14474573373, 93592.1382116199, 93592.16028637848, 93592.148655435, 93595.08011193191, 93597.96778998624, 93603.79405902053, 93600.34408701645, 93603.09397431495, 93613.63497533045, 93608.53316900747, 93619.34389854276, 93614.2941927298, 93614.16957505653, 93627.14666107502, 93624.34911706077, 93624.1594168512, 93624.07288062884, 93624.08045810946, 93627.8635272264, 93626.16787946696, 93626.08790006238, 93626.1249014703, 93626.17597078483, 93626.12592299315, 93626.13350047376, 93633.52602869095, 93632.24520639854, 93638.00399094821, 93636.22078630359, 93636.17023082633, 93636.25072406814, 93636.18654283807, 93639.117999335, 93638.23018575298, 93638.02683721989, 93638.07087258111, 93656.92002888804, 93662.62570089554, 93657.1219514282, 93656.11858682717, 93656.40282878025, 93656.28921328169, 93656.11684822621, 93658.71153241489, 93658.71401306587, 93658.13447114718, 93658.13716825312, 93658.13063413928, 93680.36178580676, 93671.00048264206, 93670.07880172283, 93670.23367756417, 93685.60065561684, 93678.47485978002, 93678.11780340181, 93681.57469531891, 93680.92269411415, 93680.20829653168, 93680.03419320172]}, {\"name\": \"actual\", \"type\": \"scatter\", \"x\": [\"2015-10-01T05:14:44+00:00\", \"2015-10-01T05:42:34+00:00\", \"2015-10-01T07:02:37+00:00\", \"2015-10-01T07:12:38+00:00\", \"2015-10-01T07:20:36+00:00\", \"2015-10-01T07:23:39+00:00\", \"2015-10-01T08:59:41+00:00\", \"2015-10-01T09:30:40+00:00\", \"2015-10-01T09:34:37+00:00\", \"2015-10-01T10:14:35+00:00\", \"2015-10-01T10:17:32+00:00\", \"2015-10-01T11:23:36+00:00\", \"2015-10-01T12:26:51+00:00\", \"2015-10-01T13:19:40+00:00\", \"2015-10-01T13:44:40+00:00\", \"2015-10-01T13:54:30+00:00\", \"2015-10-01T14:36:34+00:00\", \"2015-10-01T16:24:52+00:00\", \"2015-10-01T17:29:40+00:00\", \"2015-10-01T20:04:40+00:00\", \"2015-10-01T20:20:41+00:00\", \"2015-10-01T21:22:43+00:00\", \"2015-10-01T22:03:44+00:00\", \"2015-10-01T22:11:38+00:00\", \"2015-10-01T22:24:32+00:00\", \"2015-10-01T22:54:31+00:00\", \"2015-10-01T23:02:35+00:00\", \"2015-10-01T23:59:38+00:00\", \"2015-10-02T00:44:49+00:00\", \"2015-10-02T00:57:48+00:00\", \"2015-10-02T02:13:46+00:00\", \"2015-10-02T02:16:44+00:00\", \"2015-10-02T02:33:31+00:00\", \"2015-10-02T02:54:36+00:00\", \"2015-10-02T03:34:32+00:00\", \"2015-10-02T04:07:40+00:00\", \"2015-10-02T04:57:49+00:00\", \"2015-10-02T05:01:51+00:00\", \"2015-10-02T06:14:44+00:00\", \"2015-10-02T06:24:44+00:00\", \"2015-10-02T07:15:34+00:00\", \"2015-10-02T08:35:41+00:00\", \"2015-10-02T08:50:46+00:00\", \"2015-10-02T09:24:51+00:00\", \"2015-10-02T10:44:41+00:00\", \"2015-10-02T11:13:39+00:00\", \"2015-10-02T11:17:37+00:00\", \"2015-10-02T12:07:29+00:00\", \"2015-10-02T13:53:46+00:00\", \"2015-10-02T14:05:45+00:00\", \"2015-10-02T14:44:46+00:00\", \"2015-10-02T15:17:35+00:00\", \"2015-10-02T15:43:31+00:00\", \"2015-10-02T16:24:31+00:00\", \"2015-10-02T16:44:40+00:00\", \"2015-10-02T16:53:40+00:00\", \"2015-10-02T18:26:42+00:00\", \"2015-10-02T19:34:40+00:00\", \"2015-10-02T20:30:31+00:00\", \"2015-10-02T20:42:34+00:00\", \"2015-10-02T23:35:34+00:00\", \"2015-10-03T00:34:34+00:00\", \"2015-10-03T01:14:42+00:00\", \"2015-10-03T01:53:48+00:00\", \"2015-10-03T02:29:47+00:00\", \"2015-10-03T03:04:44+00:00\", \"2015-10-03T03:45:32+00:00\", \"2015-10-03T04:04:38+00:00\", \"2015-10-03T04:22:33+00:00\", \"2015-10-03T04:56:30+00:00\", \"2015-10-03T04:59:31+00:00\", \"2015-10-03T05:19:41+00:00\", \"2015-10-03T05:49:46+00:00\", \"2015-10-03T07:03:44+00:00\", \"2015-10-03T07:32:47+00:00\", \"2015-10-03T08:24:38+00:00\", \"2015-10-03T08:36:37+00:00\", \"2015-10-03T09:47:42+00:00\", \"2015-10-03T10:53:47+00:00\", \"2015-10-03T11:36:43+00:00\", \"2015-10-03T13:18:31+00:00\", \"2015-10-03T14:03:42+00:00\", \"2015-10-03T14:54:56+00:00\", \"2015-10-03T15:01:49+00:00\", \"2015-10-03T15:16:47+00:00\", \"2015-10-03T15:49:44+00:00\", \"2015-10-03T15:57:48+00:00\", \"2015-10-03T16:01:48+00:00\", \"2015-10-03T16:09:42+00:00\", \"2015-10-03T16:24:34+00:00\", \"2015-10-03T16:56:33+00:00\", \"2015-10-03T16:59:35+00:00\", \"2015-10-03T17:25:35+00:00\", \"2015-10-03T17:46:36+00:00\", \"2015-10-03T17:57:42+00:00\", \"2015-10-03T18:07:41+00:00\", \"2015-10-03T18:47:53+00:00\", \"2015-10-03T19:12:48+00:00\", \"2015-10-03T20:17:46+00:00\", \"2015-10-03T20:48:41+00:00\", \"2015-10-03T21:04:36+00:00\", \"2015-10-03T21:33:34+00:00\", \"2015-10-03T22:25:41+00:00\", \"2015-10-03T22:29:43+00:00\", \"2015-10-03T23:13:54+00:00\", \"2015-10-03T23:19:57+00:00\", \"2015-10-04T00:08:45+00:00\", \"2015-10-04T00:09:44+00:00\", \"2015-10-04T00:17:48+00:00\", \"2015-10-04T01:49:36+00:00\", \"2015-10-04T02:33:41+00:00\", \"2015-10-04T02:52:46+00:00\", \"2015-10-04T04:14:49+00:00\", \"2015-10-04T05:55:35+00:00\", \"2015-10-04T06:49:41+00:00\", \"2015-10-04T07:39:55+00:00\", \"2015-10-04T07:50:50+00:00\", \"2015-10-04T08:03:46+00:00\", \"2015-10-04T08:05:48+00:00\", \"2015-10-04T08:14:44+00:00\", \"2015-10-04T08:37:46+00:00\", \"2015-10-04T09:25:42+00:00\", \"2015-10-04T10:12:34+00:00\", \"2015-10-04T12:03:49+00:00\", \"2015-10-04T13:40:39+00:00\", \"2015-10-04T15:17:43+00:00\", \"2015-10-04T15:27:48+00:00\", \"2015-10-04T16:43:46+00:00\", \"2015-10-04T16:54:44+00:00\", \"2015-10-04T17:15:47+00:00\", \"2015-10-04T17:34:35+00:00\", \"2015-10-04T18:29:32+00:00\", \"2015-10-04T18:32:36+00:00\", \"2015-10-04T18:35:36+00:00\", \"2015-10-04T18:54:37+00:00\", \"2015-10-04T19:44:45+00:00\", \"2015-10-04T20:21:55+00:00\", \"2015-10-04T20:37:43+00:00\", \"2015-10-04T20:45:48+00:00\", \"2015-10-04T21:10:45+00:00\", \"2015-10-04T21:24:48+00:00\", \"2015-10-04T21:49:38+00:00\", \"2015-10-04T22:37:33+00:00\", \"2015-10-04T22:49:37+00:00\", \"2015-10-05T00:24:55+00:00\", \"2015-10-05T01:06:46+00:00\", \"2015-10-05T01:44:45+00:00\", \"2015-10-05T02:48:34+00:00\", \"2015-10-05T06:09:35+00:00\", \"2015-10-05T06:59:35+00:00\", \"2015-10-05T07:16:36+00:00\", \"2015-10-05T07:35:40+00:00\", \"2015-10-05T07:37:41+00:00\", \"2015-10-05T09:20:50+00:00\", \"2015-10-05T09:42:46+00:00\", \"2015-10-05T09:47:44+00:00\", \"2015-10-05T10:15:41+00:00\", \"2015-10-05T10:27:37+00:00\", \"2015-10-05T10:43:42+00:00\", \"2015-10-05T10:53:38+00:00\", \"2015-10-05T11:13:34+00:00\", \"2015-10-05T11:57:44+00:00\", \"2015-10-05T12:07:44+00:00\", \"2015-10-05T12:09:42+00:00\", \"2015-10-05T13:14:51+00:00\", \"2015-10-05T13:49:50+00:00\", \"2015-10-05T14:17:48+00:00\", \"2015-10-05T14:42:40+00:00\", \"2015-10-05T14:57:42+00:00\", \"2015-10-05T16:35:48+00:00\", \"2015-10-05T16:50:50+00:00\", \"2015-10-05T17:04:55+00:00\", \"2015-10-05T18:23:50+00:00\", \"2015-10-05T20:36:44+00:00\", \"2015-10-05T21:44:48+00:00\", \"2015-10-05T22:43:48+00:00\", \"2015-10-05T22:59:38+00:00\", \"2015-10-05T23:50:34+00:00\", \"2015-10-06T02:50:50+00:00\", \"2015-10-06T02:59:43+00:00\", \"2015-10-06T03:07:36+00:00\", \"2015-10-06T03:10:37+00:00\", \"2015-10-06T03:27:43+00:00\", \"2015-10-06T04:52:46+00:00\", \"2015-10-06T06:25:46+00:00\", \"2015-10-06T07:45:42+00:00\", \"2015-10-06T08:11:36+00:00\", \"2015-10-06T08:40:38+00:00\", \"2015-10-06T08:49:42+00:00\", \"2015-10-06T09:00:44+00:00\", \"2015-10-06T09:06:45+00:00\", \"2015-10-06T09:56:52+00:00\", \"2015-10-06T10:27:48+00:00\", \"2015-10-06T10:32:51+00:00\", \"2015-10-06T14:34:50+00:00\", \"2015-10-06T16:29:37+00:00\", \"2015-10-06T17:11:42+00:00\", \"2015-10-06T19:06:47+00:00\", \"2015-10-06T19:30:50+00:00\", \"2015-10-06T19:59:39+00:00\", \"2015-10-06T21:44:44+00:00\", \"2015-10-06T21:47:47+00:00\", \"2015-10-06T22:45:57+00:00\", \"2015-10-06T22:47:55+00:00\", \"2015-10-06T23:12:49+00:00\", \"2015-10-06T23:37:49+00:00\", \"2015-10-07T00:38:43+00:00\", \"2015-10-07T01:28:40+00:00\", \"2015-10-07T02:04:47+00:00\", \"2015-10-07T02:54:00+00:00\", \"2015-10-07T03:14:48+00:00\", \"2015-10-07T03:22:49+00:00\", \"2015-10-07T03:33:49+00:00\", \"2015-10-07T04:09:47+00:00\", \"2015-10-07T04:17:40+00:00\", \"2015-10-07T05:02:42+00:00\", \"2015-10-07T05:52:44+00:00\", \"2015-10-07T06:26:52+00:00\", \"2015-10-07T08:06:51+00:00\", \"2015-10-07T08:09:53+00:00\", \"2015-10-07T08:17:50+00:00\", \"2015-10-07T08:24:46+00:00\", \"2015-10-07T08:29:40+00:00\", \"2015-10-07T08:50:44+00:00\", \"2015-10-07T09:27:35+00:00\", \"2015-10-07T09:57:39+00:00\", \"2015-10-07T10:35:50+00:00\", \"2015-10-07T11:39:50+00:00\", \"2015-10-07T12:51:39+00:00\", \"2015-10-07T13:20:38+00:00\", \"2015-10-07T13:23:40+00:00\", \"2015-10-07T13:26:42+00:00\", \"2015-10-07T13:27:41+00:00\", \"2015-10-07T14:07:39+00:00\", \"2015-10-07T14:09:39+00:00\", \"2015-10-07T16:04:47+00:00\", \"2015-10-07T16:15:50+00:00\", \"2015-10-07T17:07:43+00:00\", \"2015-10-07T19:27:56+00:00\", \"2015-10-07T20:17:48+00:00\", \"2015-10-07T20:37:50+00:00\", \"2015-10-07T20:45:54+00:00\", \"2015-10-07T20:56:48+00:00\", \"2015-10-07T21:20:45+00:00\", \"2015-10-07T21:24:45+00:00\", \"2015-10-07T21:34:45+00:00\", \"2015-10-07T22:14:40+00:00\", \"2015-10-07T22:29:42+00:00\", \"2015-10-07T23:03:48+00:00\", \"2015-10-08T00:27:50+00:00\"], \"y\": [93470, 93470, 93470, 93470, 93470, 93470, 93470, 93470, 93470, 93470, 93470, 93472, 93472, 93472, 93472, 93472, 93472, 93474, 93474, 93474, 93474, 93474, 93476, 93476, 93476, 93476, 93476, 93476, 93482, 93482, 93484, 93484, 93484, 93484, 93484, 93484, 93484, 93484, 93484, 93484, 93484, 93486, 93486, 93486, 93486, 93486, 93486, 93486, 93488, 93488, 93488, 93488, 93488, 93488, 93488, 93488, 93488, 93490, 93490, 93490, 93508, 93510, 93516, 93520, 93522, 93522, 93522, 93522, 93522, 93522, 93522, 93522, 93522, 93522, 93522, 93524, 93524, 93524, 93524, 93524, 93524, 93526, 93526, 93526, 93526, 93526, 93526, 93526, 93526, 93526, 93526, 93526, 93532, 93532, 93532, 93532, 93532, 93532, 93532, 93532, 93532, 93532, 93534, 93534, 93538, 93542, 93548, 93548, 93548, 93548, 93548, 93548, 93550, 93550, 93550, 93550, 93550, 93550, 93550, 93550, 93550, 93552, 93552, 93552, 93560, 93568, 93568, 93568, 93568, 93568, 93568, 93570, 93570, 93570, 93570, 93570, 93570, 93570, 93570, 93570, 93570, 93570, 93570, 93570, 93588, 93588, 93588, 93588, 93590, 93590, 93590, 93590, 93590, 93590, 93592, 93592, 93592, 93592, 93592, 93592, 93592, 93592, 93592, 93592, 93592, 93592, 93592, 93592, 93592, 93594, 93594, 93596, 93600, 93602, 93608, 93608, 93608, 93614, 93624, 93624, 93624, 93624, 93624, 93624, 93624, 93626, 93626, 93626, 93626, 93626, 93626, 93626, 93626, 93626, 93632, 93636, 93636, 93636, 93636, 93636, 93638, 93638, 93638, 93638, 93638, 93638, 93638, 93648, 93654, 93656, 93656, 93656, 93656, 93656, 93656, 93656, 93656, 93656, 93656, 93656, 93658, 93658, 93658, 93658, 93658, 93658, 93658, 93658, 93658, 93668, 93670, 93670, 93670, 93670, 93670, 93670, 93670, 93678, 93678, 93678, 93680, 93680, 93680, 93680, 93680, 93680, 93680, 93680, 93680, 93686]}, {\"name\": \"imputed\", \"type\": \"scatter\", \"x\": [\"2015-10-01T05:00:00+00:00\", \"2015-10-01T06:00:00+00:00\", \"2015-10-01T07:00:00+00:00\", \"2015-10-01T08:00:00+00:00\", \"2015-10-01T09:00:00+00:00\", \"2015-10-01T10:00:00+00:00\", \"2015-10-01T11:00:00+00:00\", \"2015-10-01T12:00:00+00:00\", \"2015-10-01T13:00:00+00:00\", \"2015-10-01T14:00:00+00:00\", \"2015-10-01T15:00:00+00:00\", \"2015-10-01T16:00:00+00:00\", \"2015-10-01T17:00:00+00:00\", \"2015-10-01T18:00:00+00:00\", \"2015-10-01T19:00:00+00:00\", \"2015-10-01T20:00:00+00:00\", \"2015-10-01T21:00:00+00:00\", \"2015-10-01T22:00:00+00:00\", \"2015-10-01T23:00:00+00:00\", \"2015-10-02T00:00:00+00:00\", \"2015-10-02T01:00:00+00:00\", \"2015-10-02T02:00:00+00:00\", \"2015-10-02T03:00:00+00:00\", \"2015-10-02T04:00:00+00:00\", \"2015-10-02T05:00:00+00:00\", \"2015-10-02T06:00:00+00:00\", \"2015-10-02T07:00:00+00:00\", \"2015-10-02T08:00:00+00:00\", \"2015-10-02T09:00:00+00:00\", \"2015-10-02T10:00:00+00:00\", \"2015-10-02T11:00:00+00:00\", \"2015-10-02T12:00:00+00:00\", \"2015-10-02T13:00:00+00:00\", \"2015-10-02T14:00:00+00:00\", \"2015-10-02T15:00:00+00:00\", \"2015-10-02T16:00:00+00:00\", \"2015-10-02T17:00:00+00:00\", \"2015-10-02T18:00:00+00:00\", \"2015-10-02T19:00:00+00:00\", \"2015-10-02T20:00:00+00:00\", \"2015-10-02T21:00:00+00:00\", \"2015-10-02T22:00:00+00:00\", \"2015-10-02T23:00:00+00:00\", \"2015-10-03T00:00:00+00:00\", \"2015-10-03T01:00:00+00:00\", \"2015-10-03T02:00:00+00:00\", \"2015-10-03T03:00:00+00:00\", \"2015-10-03T04:00:00+00:00\", \"2015-10-03T05:00:00+00:00\", \"2015-10-03T06:00:00+00:00\", \"2015-10-03T07:00:00+00:00\", \"2015-10-03T08:00:00+00:00\", \"2015-10-03T09:00:00+00:00\", \"2015-10-03T10:00:00+00:00\", \"2015-10-03T11:00:00+00:00\", \"2015-10-03T12:00:00+00:00\", \"2015-10-03T13:00:00+00:00\", \"2015-10-03T14:00:00+00:00\", \"2015-10-03T15:00:00+00:00\", \"2015-10-03T16:00:00+00:00\", \"2015-10-03T17:00:00+00:00\", \"2015-10-03T18:00:00+00:00\", \"2015-10-03T19:00:00+00:00\", \"2015-10-03T20:00:00+00:00\", \"2015-10-03T21:00:00+00:00\", \"2015-10-03T22:00:00+00:00\", \"2015-10-03T23:00:00+00:00\", \"2015-10-04T00:00:00+00:00\", \"2015-10-04T01:00:00+00:00\", \"2015-10-04T02:00:00+00:00\", \"2015-10-04T03:00:00+00:00\", \"2015-10-04T04:00:00+00:00\", \"2015-10-04T05:00:00+00:00\", \"2015-10-04T06:00:00+00:00\", \"2015-10-04T07:00:00+00:00\", \"2015-10-04T08:00:00+00:00\", \"2015-10-04T09:00:00+00:00\", \"2015-10-04T10:00:00+00:00\", \"2015-10-04T11:00:00+00:00\", \"2015-10-04T12:00:00+00:00\", \"2015-10-04T13:00:00+00:00\", \"2015-10-04T14:00:00+00:00\", \"2015-10-04T15:00:00+00:00\", \"2015-10-04T16:00:00+00:00\", \"2015-10-04T17:00:00+00:00\", \"2015-10-04T18:00:00+00:00\", \"2015-10-04T19:00:00+00:00\", \"2015-10-04T20:00:00+00:00\", \"2015-10-04T21:00:00+00:00\", \"2015-10-04T22:00:00+00:00\", \"2015-10-04T23:00:00+00:00\", \"2015-10-05T00:00:00+00:00\", \"2015-10-05T01:00:00+00:00\", \"2015-10-05T02:00:00+00:00\", \"2015-10-05T03:00:00+00:00\", \"2015-10-05T04:00:00+00:00\", \"2015-10-05T05:00:00+00:00\", \"2015-10-05T06:00:00+00:00\", \"2015-10-05T07:00:00+00:00\", \"2015-10-05T08:00:00+00:00\", \"2015-10-05T09:00:00+00:00\", \"2015-10-05T10:00:00+00:00\", \"2015-10-05T11:00:00+00:00\", \"2015-10-05T12:00:00+00:00\", \"2015-10-05T13:00:00+00:00\", \"2015-10-05T14:00:00+00:00\", \"2015-10-05T15:00:00+00:00\", \"2015-10-05T16:00:00+00:00\", \"2015-10-05T17:00:00+00:00\", \"2015-10-05T18:00:00+00:00\", \"2015-10-05T19:00:00+00:00\", \"2015-10-05T20:00:00+00:00\", \"2015-10-05T21:00:00+00:00\", \"2015-10-05T22:00:00+00:00\", \"2015-10-05T23:00:00+00:00\", \"2015-10-06T00:00:00+00:00\", \"2015-10-06T01:00:00+00:00\", \"2015-10-06T02:00:00+00:00\", \"2015-10-06T03:00:00+00:00\", \"2015-10-06T04:00:00+00:00\", \"2015-10-06T05:00:00+00:00\", \"2015-10-06T06:00:00+00:00\", \"2015-10-06T07:00:00+00:00\", \"2015-10-06T08:00:00+00:00\", \"2015-10-06T09:00:00+00:00\", \"2015-10-06T10:00:00+00:00\", \"2015-10-06T11:00:00+00:00\", \"2015-10-06T12:00:00+00:00\", \"2015-10-06T13:00:00+00:00\", \"2015-10-06T14:00:00+00:00\", \"2015-10-06T15:00:00+00:00\", \"2015-10-06T16:00:00+00:00\", \"2015-10-06T17:00:00+00:00\", \"2015-10-06T18:00:00+00:00\", \"2015-10-06T19:00:00+00:00\", \"2015-10-06T20:00:00+00:00\", \"2015-10-06T21:00:00+00:00\", \"2015-10-06T22:00:00+00:00\", \"2015-10-06T23:00:00+00:00\", \"2015-10-07T00:00:00+00:00\", \"2015-10-07T01:00:00+00:00\", \"2015-10-07T02:00:00+00:00\", \"2015-10-07T03:00:00+00:00\", \"2015-10-07T04:00:00+00:00\", \"2015-10-07T05:00:00+00:00\", \"2015-10-07T06:00:00+00:00\", \"2015-10-07T07:00:00+00:00\", \"2015-10-07T08:00:00+00:00\", \"2015-10-07T09:00:00+00:00\", \"2015-10-07T10:00:00+00:00\", \"2015-10-07T11:00:00+00:00\", \"2015-10-07T12:00:00+00:00\", \"2015-10-07T13:00:00+00:00\", \"2015-10-07T14:00:00+00:00\", \"2015-10-07T15:00:00+00:00\", \"2015-10-07T16:00:00+00:00\", \"2015-10-07T17:00:00+00:00\", \"2015-10-07T18:00:00+00:00\", \"2015-10-07T19:00:00+00:00\", \"2015-10-07T20:00:00+00:00\", \"2015-10-07T21:00:00+00:00\", \"2015-10-07T22:00:00+00:00\", \"2015-10-07T23:00:00+00:00\", \"2015-10-08T00:00:00+00:00\", \"2015-10-08T01:00:00+00:00\", \"2015-10-08T02:00:00+00:00\", \"2015-10-08T03:00:00+00:00\", \"2015-10-08T04:00:00+00:00\", \"2015-10-08T05:00:00+00:00\", \"2015-10-08T06:00:00+00:00\", \"2015-10-08T07:00:00+00:00\", \"2015-10-08T08:00:00+00:00\", \"2015-10-08T09:00:00+00:00\", \"2015-10-08T10:00:00+00:00\", \"2015-10-08T11:00:00+00:00\", \"2015-10-08T12:00:00+00:00\", \"2015-10-08T13:00:00+00:00\", \"2015-10-08T14:00:00+00:00\", \"2015-10-08T15:00:00+00:00\", \"2015-10-08T16:00:00+00:00\", \"2015-10-08T17:00:00+00:00\", \"2015-10-08T18:00:00+00:00\", \"2015-10-08T19:00:00+00:00\", \"2015-10-08T20:00:00+00:00\", \"2015-10-08T21:00:00+00:00\", \"2015-10-08T22:00:00+00:00\", \"2015-10-08T23:00:00+00:00\", \"2015-10-09T00:00:00+00:00\", \"2015-10-09T01:00:00+00:00\", \"2015-10-09T02:00:00+00:00\", \"2015-10-09T03:00:00+00:00\", \"2015-10-09T04:00:00+00:00\", \"2015-10-09T05:00:00+00:00\", \"2015-10-09T06:00:00+00:00\", \"2015-10-09T07:00:00+00:00\", \"2015-10-09T08:00:00+00:00\", \"2015-10-09T09:00:00+00:00\", \"2015-10-09T10:00:00+00:00\", \"2015-10-09T11:00:00+00:00\", \"2015-10-09T12:00:00+00:00\", \"2015-10-09T13:00:00+00:00\", \"2015-10-09T14:00:00+00:00\", \"2015-10-09T15:00:00+00:00\", \"2015-10-09T16:00:00+00:00\", \"2015-10-09T17:00:00+00:00\", \"2015-10-09T18:00:00+00:00\", \"2015-10-09T19:00:00+00:00\", \"2015-10-09T20:00:00+00:00\", \"2015-10-09T21:00:00+00:00\", \"2015-10-09T22:00:00+00:00\", \"2015-10-09T23:00:00+00:00\", \"2015-10-10T00:00:00+00:00\", \"2015-10-10T01:00:00+00:00\", \"2015-10-10T02:00:00+00:00\", \"2015-10-10T03:00:00+00:00\", \"2015-10-10T04:00:00+00:00\", \"2015-10-10T05:00:00+00:00\", \"2015-10-10T06:00:00+00:00\", \"2015-10-10T07:00:00+00:00\", \"2015-10-10T08:00:00+00:00\", \"2015-10-10T09:00:00+00:00\", \"2015-10-10T10:00:00+00:00\", \"2015-10-10T11:00:00+00:00\", \"2015-10-10T12:00:00+00:00\", \"2015-10-10T13:00:00+00:00\", \"2015-10-10T14:00:00+00:00\", \"2015-10-10T15:00:00+00:00\", \"2015-10-10T16:00:00+00:00\", \"2015-10-10T17:00:00+00:00\", \"2015-10-10T18:00:00+00:00\", \"2015-10-10T19:00:00+00:00\", \"2015-10-10T20:00:00+00:00\", \"2015-10-10T21:00:00+00:00\", \"2015-10-10T22:00:00+00:00\", \"2015-10-10T23:00:00+00:00\", \"2015-10-11T00:00:00+00:00\", \"2015-10-11T01:00:00+00:00\", \"2015-10-11T02:00:00+00:00\", \"2015-10-11T03:00:00+00:00\", \"2015-10-11T04:00:00+00:00\", \"2015-10-11T05:00:00+00:00\", \"2015-10-11T06:00:00+00:00\", \"2015-10-11T07:00:00+00:00\", \"2015-10-11T08:00:00+00:00\", \"2015-10-11T09:00:00+00:00\", \"2015-10-11T10:00:00+00:00\", \"2015-10-11T11:00:00+00:00\", \"2015-10-11T12:00:00+00:00\", \"2015-10-11T13:00:00+00:00\", \"2015-10-11T14:00:00+00:00\"], \"y\": [93470.0, 93470.0, 93470.0, 93470.0, 93470.0, 93470.0, 93472.0, 93472.0, 93472.0, 93472.0, 93473.0, 93474.0, 93474.0, 93474.0, 93474.0, 93474.0, 93474.0, 93476.0, 93476.0, 93482.0, 93483.0, 93484.0, 93484.0, 93484.0, 93484.0, 93484.0, 93484.0, 93486.0, 93486.0, 93486.0, 93486.0, 93486.0, 93488.0, 93488.0, 93488.0, 93488.0, 93488.0, 93488.0, 93490.0, 93490.0, 93496.0, 93502.0, 93508.0, 93510.0, 93518.0, 93522.0, 93522.0, 93522.0, 93522.0, 93522.0, 93522.0, 93524.0, 93524.0, 93524.0, 93524.0, 93524.0, 93524.0, 93526.0, 93526.0, 93526.0, 93532.0, 93532.0, 93532.0, 93532.0, 93532.0, 93534.0, 93540.0, 93548.0, 93548.0, 93548.0, 93549.0, 93550.0, 93550.0, 93550.0, 93550.0, 93550.0, 93552.0, 93552.0, 93552.0, 93552.0, 93560.0, 93564.0, 93568.0, 93568.0, 93568.0, 93570.0, 93570.0, 93570.0, 93570.0, 93570.0, 93579.0, 93588.0, 93588.0, 93588.0, 93588.5, 93589.0, 93589.5, 93590.0, 93590.0, 93590.66666666666, 93591.33333333333, 93592.0, 93592.0, 93592.0, 93592.0, 93592.0, 93593.0, 93594.0, 93596.0, 93600.0, 93601.0, 93602.0, 93608.0, 93608.0, 93614.0, 93617.33333333333, 93620.66666666667, 93624.0, 93624.0, 93624.0, 93624.0, 93624.0, 93626.0, 93626.0, 93626.0, 93626.0, 93627.5, 93629.0, 93630.5, 93632.0, 93634.0, 93636.0, 93636.0, 93636.0, 93636.0, 93637.0, 93638.0, 93638.0, 93638.0, 93638.0, 93648.0, 93655.0, 93656.0, 93656.0, 93656.0, 93656.0, 93656.66666666666, 93657.33333333333, 93658.0, 93658.0, 93658.0, 93658.0, 93669.5, 93670.0, 93670.0, 93670.0, 93678.0, 93678.0, 93678.0, 93679.5, 93680.0, 93680.0, 93680.0, 93686.0, 93700.0, 93702.0, 93702.0, 93702.0, 93702.0, 93702.0, 93702.0, 93703.0, 93703.5, 93704.0, 93704.0, 93708.0, 93712.0, 93712.0, 93712.0, 93714.0, 93714.0, 93714.0, 93714.0, 93714.0, 93714.0, 93716.0, 93716.0, 93716.0, 93716.0, 93716.0, 93717.33333333333, 93718.0, 93718.0, 93718.0, 93718.0, 93718.0, 93719.0, 93720.0, 93720.0, 93720.0, 93720.0, 93720.0, 93722.0, 93722.0, 93722.0, 93722.0, 93722.0, 93723.0, 93724.0, 93724.0, 93724.0, 93724.0, 93724.0, 93726.0, 93726.0, 93726.0, 93726.0, 93726.0, 93726.66666666667, 93728.0, 93728.0, 93728.0, 93728.0, 93728.0, 93730.0, 93730.0, 93730.0, 93730.0, 93730.0, 93730.0, 93731.0, 93732.0, 93732.0, 93732.0, 93732.0, 93733.0, 93734.0, 93734.0, 93734.0, 93734.0, 93734.0, 93735.0, 93736.0, 93736.0, 93736.0, 93736.0, 93736.0, 93738.0, 93738.0, 93738.0]}, {\"name\": \"long_term_prediction\", \"type\": \"scatter\", \"x\": [\"2015-10-02T01:00:00+00:00\", \"2015-10-02T02:00:00+00:00\", \"2015-10-02T03:00:00+00:00\", \"2015-10-02T04:00:00+00:00\", \"2015-10-02T05:00:00+00:00\", \"2015-10-02T06:00:00+00:00\", \"2015-10-02T07:00:00+00:00\", \"2015-10-02T08:00:00+00:00\", \"2015-10-02T09:00:00+00:00\", \"2015-10-02T10:00:00+00:00\", \"2015-10-02T11:00:00+00:00\", \"2015-10-02T12:00:00+00:00\", \"2015-10-02T13:00:00+00:00\", \"2015-10-02T14:00:00+00:00\", \"2015-10-02T15:00:00+00:00\", \"2015-10-02T16:00:00+00:00\", \"2015-10-02T17:00:00+00:00\", \"2015-10-02T18:00:00+00:00\", \"2015-10-02T19:00:00+00:00\", \"2015-10-02T20:00:00+00:00\", \"2015-10-02T21:00:00+00:00\", \"2015-10-02T22:00:00+00:00\", \"2015-10-02T23:00:00+00:00\", \"2015-10-03T00:00:00+00:00\", \"2015-10-03T01:00:00+00:00\", \"2015-10-03T02:00:00+00:00\", \"2015-10-03T03:00:00+00:00\", \"2015-10-03T04:00:00+00:00\", \"2015-10-03T05:00:00+00:00\", \"2015-10-03T06:00:00+00:00\", \"2015-10-03T07:00:00+00:00\", \"2015-10-03T08:00:00+00:00\", \"2015-10-03T09:00:00+00:00\", \"2015-10-03T10:00:00+00:00\", \"2015-10-03T11:00:00+00:00\", \"2015-10-03T12:00:00+00:00\", \"2015-10-03T13:00:00+00:00\", \"2015-10-03T14:00:00+00:00\", \"2015-10-03T15:00:00+00:00\", \"2015-10-03T16:00:00+00:00\", \"2015-10-03T17:00:00+00:00\", \"2015-10-03T18:00:00+00:00\", \"2015-10-03T19:00:00+00:00\", \"2015-10-03T20:00:00+00:00\", \"2015-10-03T21:00:00+00:00\", \"2015-10-03T22:00:00+00:00\", \"2015-10-03T23:00:00+00:00\", \"2015-10-04T00:00:00+00:00\", \"2015-10-04T01:00:00+00:00\", \"2015-10-04T02:00:00+00:00\", \"2015-10-04T03:00:00+00:00\", \"2015-10-04T04:00:00+00:00\", \"2015-10-04T05:00:00+00:00\", \"2015-10-04T06:00:00+00:00\", \"2015-10-04T07:00:00+00:00\", \"2015-10-04T08:00:00+00:00\", \"2015-10-04T09:00:00+00:00\", \"2015-10-04T10:00:00+00:00\", \"2015-10-04T11:00:00+00:00\", \"2015-10-04T12:00:00+00:00\", \"2015-10-04T13:00:00+00:00\", \"2015-10-04T14:00:00+00:00\", \"2015-10-04T15:00:00+00:00\", \"2015-10-04T16:00:00+00:00\", \"2015-10-04T17:00:00+00:00\", \"2015-10-04T18:00:00+00:00\", \"2015-10-04T19:00:00+00:00\", \"2015-10-04T20:00:00+00:00\", \"2015-10-04T21:00:00+00:00\", \"2015-10-04T22:00:00+00:00\", \"2015-10-04T23:00:00+00:00\", \"2015-10-05T00:00:00+00:00\", \"2015-10-05T01:00:00+00:00\", \"2015-10-05T02:00:00+00:00\", \"2015-10-05T03:00:00+00:00\", \"2015-10-05T04:00:00+00:00\", \"2015-10-05T05:00:00+00:00\", \"2015-10-05T06:00:00+00:00\", \"2015-10-05T07:00:00+00:00\", \"2015-10-05T08:00:00+00:00\", \"2015-10-05T09:00:00+00:00\", \"2015-10-05T10:00:00+00:00\", \"2015-10-05T11:00:00+00:00\", \"2015-10-05T12:00:00+00:00\", \"2015-10-05T13:00:00+00:00\", \"2015-10-05T14:00:00+00:00\", \"2015-10-05T15:00:00+00:00\", \"2015-10-05T16:00:00+00:00\", \"2015-10-05T17:00:00+00:00\", \"2015-10-05T18:00:00+00:00\", \"2015-10-05T19:00:00+00:00\", \"2015-10-05T20:00:00+00:00\", \"2015-10-05T21:00:00+00:00\", \"2015-10-05T22:00:00+00:00\", \"2015-10-05T23:00:00+00:00\", \"2015-10-06T00:00:00+00:00\", \"2015-10-06T01:00:00+00:00\", \"2015-10-06T02:00:00+00:00\", \"2015-10-06T03:00:00+00:00\", \"2015-10-06T04:00:00+00:00\", \"2015-10-06T05:00:00+00:00\", \"2015-10-06T06:00:00+00:00\", \"2015-10-06T07:00:00+00:00\", \"2015-10-06T08:00:00+00:00\", \"2015-10-06T09:00:00+00:00\", \"2015-10-06T10:00:00+00:00\", \"2015-10-06T11:00:00+00:00\", \"2015-10-06T12:00:00+00:00\", \"2015-10-06T13:00:00+00:00\", \"2015-10-06T14:00:00+00:00\", \"2015-10-06T15:00:00+00:00\", \"2015-10-06T16:00:00+00:00\", \"2015-10-06T17:00:00+00:00\", \"2015-10-06T18:00:00+00:00\", \"2015-10-06T19:00:00+00:00\", \"2015-10-06T20:00:00+00:00\", \"2015-10-06T21:00:00+00:00\", \"2015-10-06T22:00:00+00:00\", \"2015-10-06T23:00:00+00:00\", \"2015-10-07T00:00:00+00:00\", \"2015-10-07T01:00:00+00:00\", \"2015-10-07T02:00:00+00:00\", \"2015-10-07T03:00:00+00:00\", \"2015-10-07T04:00:00+00:00\", \"2015-10-07T05:00:00+00:00\", \"2015-10-07T06:00:00+00:00\", \"2015-10-07T07:00:00+00:00\", \"2015-10-07T08:00:00+00:00\", \"2015-10-07T09:00:00+00:00\", \"2015-10-07T10:00:00+00:00\", \"2015-10-07T11:00:00+00:00\", \"2015-10-07T12:00:00+00:00\", \"2015-10-07T13:00:00+00:00\", \"2015-10-07T14:00:00+00:00\", \"2015-10-07T15:00:00+00:00\", \"2015-10-07T16:00:00+00:00\", \"2015-10-07T17:00:00+00:00\", \"2015-10-07T18:00:00+00:00\", \"2015-10-07T19:00:00+00:00\", \"2015-10-07T20:00:00+00:00\", \"2015-10-07T21:00:00+00:00\", \"2015-10-07T22:00:00+00:00\", \"2015-10-07T23:00:00+00:00\", \"2015-10-08T00:00:00+00:00\"], \"y\": [93487.34617764584, 93492.36572782772, 93497.0768889995, 93501.49982817753, 93505.83408647006, 93510.06799295473, 93514.06317245601, 93517.8490157281, 93521.44811368057, 93524.88255871773, 93528.17157700294, 93531.33306973474, 93534.38361407182, 93537.33858227712, 93540.21221900542, 93543.01772510476, 93545.76733389913, 93548.4723821872, 93551.14337593298, 93553.7900511568, 93556.42143036093, 93559.04587482092, 93561.67113304445, 93564.12252614417, 93566.42712301694, 93568.60264210345, 93570.66718118046, 93572.63600534255, 93574.52337587063, 93576.34249158323, 93578.10559616848, 93579.82403466801, 93581.50832087098, 93583.16819794873, 93584.81269504479, 93586.45017958725, 93588.08840578631, 93589.73455957384, 93591.39530025059, 93593.07679908109, 93594.78477506006, 93596.5245280577, 93598.3009695357, 93600.11865101244, 93601.98179044183, 93603.89429665913, 93605.85979203509, 93607.69977393515, 93609.43776773768, 93611.0882080566, 93612.66614950176, 93614.18403702363, 93615.6535184372, 93617.0853706266, 93618.48959284046, 93619.87545016778, 93621.25152887736, 93622.62578588122, 93624.0055949721, 93625.397789542, 93626.80870218901, 93628.24420141775, 93629.70972565124, 93631.21031474999, 93632.75063922128, 93634.33502728769, 93635.9674899719, 93637.65174434318, 93639.39123506015, 93641.18915433476, 93643.04846043323, 93644.79003528632, 93646.43683394068, 93648.00276247608, 93649.50238570261, 93650.9476946666, 93652.34991654394, 93653.7194384068, 93655.06589825972, 93656.39822642195, 93657.72469892657, 93659.05298518595, 93660.39019256299, 93661.74290754556, 93663.11723392231, 93664.51882815704, 93665.95293217167, 93667.42440372649, 93668.93774457398, 93670.4971265494, 93672.10641574915, 93673.76919493735, 93675.48878431022, 93677.26826073871, 93679.11047560097, 93680.83621177313, 93682.46833250656, 93684.0206588131, 93685.50767666924, 93686.94130406513, 93688.33270047452, 93689.69219022906, 93691.02935319084, 93692.35306579767, 93693.67155414997, 93694.99244138687, 93696.3227919892, 93697.6691527054, 93699.03759049714, 93700.4337277001, 93701.86277460921, 93703.32955967559, 93704.83855749056, 93706.39391471868, 93707.99947413041, 93709.65879687337, 93711.37518311144, 93713.15169115136, 93714.99115516759, 93716.71434209333, 93718.34410040543, 93719.89423742403, 93721.37922643726, 93722.81097367685, 93724.20062771985, 93725.55850279976, 93726.8941694206, 93728.21649534794, 93729.53369864551, 93730.85339500471, 93732.1826420045, 93733.52797999723, 93734.89547001723, 93736.29072890723, 93737.71896187177, 93739.18499264464, 93740.69329144555, 93742.24800088786, 93743.85295998768, 93745.51172641342, 93747.22759710476, 93749.00362738055, 93750.84264864624, 93752.56542526904]}],                        {\"legend\": {\"title\": {\"text\": \"Data Category\"}, \"tracegroupgap\": 0}, \"margin\": {\"t\": 60}, \"template\": {\"data\": {\"bar\": [{\"error_x\": {\"color\": \"#2a3f5f\"}, \"error_y\": {\"color\": \"#2a3f5f\"}, \"marker\": {\"line\": {\"color\": \"#E5ECF6\", \"width\": 0.5}}, \"type\": \"bar\"}], \"barpolar\": [{\"marker\": {\"line\": {\"color\": \"#E5ECF6\", \"width\": 0.5}}, \"type\": \"barpolar\"}], \"carpet\": [{\"aaxis\": {\"endlinecolor\": \"#2a3f5f\", \"gridcolor\": \"white\", \"linecolor\": \"white\", \"minorgridcolor\": \"white\", \"startlinecolor\": \"#2a3f5f\"}, \"baxis\": {\"endlinecolor\": \"#2a3f5f\", \"gridcolor\": \"white\", \"linecolor\": \"white\", \"minorgridcolor\": \"white\", \"startlinecolor\": \"#2a3f5f\"}, \"type\": \"carpet\"}], \"choropleth\": [{\"colorbar\": {\"outlinewidth\": 0, \"ticks\": \"\"}, \"type\": \"choropleth\"}], \"contour\": [{\"colorbar\": {\"outlinewidth\": 0, \"ticks\": \"\"}, \"colorscale\": [[0.0, \"#0d0887\"], [0.1111111111111111, \"#46039f\"], [0.2222222222222222, \"#7201a8\"], [0.3333333333333333, \"#9c179e\"], [0.4444444444444444, \"#bd3786\"], [0.5555555555555556, \"#d8576b\"], [0.6666666666666666, \"#ed7953\"], [0.7777777777777778, \"#fb9f3a\"], [0.8888888888888888, \"#fdca26\"], [1.0, \"#f0f921\"]], \"type\": \"contour\"}], \"contourcarpet\": [{\"colorbar\": {\"outlinewidth\": 0, \"ticks\": \"\"}, \"type\": \"contourcarpet\"}], \"heatmap\": [{\"colorbar\": {\"outlinewidth\": 0, \"ticks\": \"\"}, \"colorscale\": [[0.0, \"#0d0887\"], [0.1111111111111111, \"#46039f\"], [0.2222222222222222, \"#7201a8\"], [0.3333333333333333, \"#9c179e\"], [0.4444444444444444, \"#bd3786\"], [0.5555555555555556, \"#d8576b\"], [0.6666666666666666, \"#ed7953\"], [0.7777777777777778, \"#fb9f3a\"], [0.8888888888888888, \"#fdca26\"], [1.0, \"#f0f921\"]], \"type\": \"heatmap\"}], \"heatmapgl\": [{\"colorbar\": {\"outlinewidth\": 0, \"ticks\": \"\"}, \"colorscale\": [[0.0, \"#0d0887\"], [0.1111111111111111, \"#46039f\"], [0.2222222222222222, \"#7201a8\"], [0.3333333333333333, \"#9c179e\"], [0.4444444444444444, \"#bd3786\"], [0.5555555555555556, \"#d8576b\"], [0.6666666666666666, \"#ed7953\"], [0.7777777777777778, \"#fb9f3a\"], [0.8888888888888888, \"#fdca26\"], [1.0, \"#f0f921\"]], \"type\": \"heatmapgl\"}], \"histogram\": [{\"marker\": {\"colorbar\": {\"outlinewidth\": 0, \"ticks\": \"\"}}, \"type\": \"histogram\"}], \"histogram2d\": [{\"colorbar\": {\"outlinewidth\": 0, \"ticks\": \"\"}, \"colorscale\": [[0.0, \"#0d0887\"], [0.1111111111111111, \"#46039f\"], [0.2222222222222222, \"#7201a8\"], [0.3333333333333333, \"#9c179e\"], [0.4444444444444444, \"#bd3786\"], [0.5555555555555556, \"#d8576b\"], [0.6666666666666666, \"#ed7953\"], [0.7777777777777778, \"#fb9f3a\"], [0.8888888888888888, \"#fdca26\"], [1.0, \"#f0f921\"]], \"type\": \"histogram2d\"}], \"histogram2dcontour\": [{\"colorbar\": {\"outlinewidth\": 0, \"ticks\": \"\"}, \"colorscale\": [[0.0, \"#0d0887\"], [0.1111111111111111, \"#46039f\"], [0.2222222222222222, \"#7201a8\"], [0.3333333333333333, \"#9c179e\"], [0.4444444444444444, \"#bd3786\"], [0.5555555555555556, \"#d8576b\"], [0.6666666666666666, \"#ed7953\"], [0.7777777777777778, \"#fb9f3a\"], [0.8888888888888888, \"#fdca26\"], [1.0, \"#f0f921\"]], \"type\": \"histogram2dcontour\"}], \"mesh3d\": [{\"colorbar\": {\"outlinewidth\": 0, \"ticks\": \"\"}, \"type\": \"mesh3d\"}], \"parcoords\": [{\"line\": {\"colorbar\": {\"outlinewidth\": 0, \"ticks\": \"\"}}, \"type\": \"parcoords\"}], \"pie\": [{\"automargin\": true, \"type\": \"pie\"}], \"scatter\": [{\"marker\": {\"colorbar\": {\"outlinewidth\": 0, \"ticks\": \"\"}}, \"type\": \"scatter\"}], \"scatter3d\": [{\"line\": {\"colorbar\": {\"outlinewidth\": 0, \"ticks\": \"\"}}, \"marker\": {\"colorbar\": {\"outlinewidth\": 0, \"ticks\": \"\"}}, \"type\": \"scatter3d\"}], \"scattercarpet\": [{\"marker\": {\"colorbar\": {\"outlinewidth\": 0, \"ticks\": \"\"}}, \"type\": \"scattercarpet\"}], \"scattergeo\": [{\"marker\": {\"colorbar\": {\"outlinewidth\": 0, \"ticks\": \"\"}}, \"type\": \"scattergeo\"}], \"scattergl\": [{\"marker\": {\"colorbar\": {\"outlinewidth\": 0, \"ticks\": \"\"}}, \"type\": \"scattergl\"}], \"scattermapbox\": [{\"marker\": {\"colorbar\": {\"outlinewidth\": 0, \"ticks\": \"\"}}, \"type\": \"scattermapbox\"}], \"scatterpolar\": [{\"marker\": {\"colorbar\": {\"outlinewidth\": 0, \"ticks\": \"\"}}, \"type\": \"scatterpolar\"}], \"scatterpolargl\": [{\"marker\": {\"colorbar\": {\"outlinewidth\": 0, \"ticks\": \"\"}}, \"type\": \"scatterpolargl\"}], \"scatterternary\": [{\"marker\": {\"colorbar\": {\"outlinewidth\": 0, \"ticks\": \"\"}}, \"type\": \"scatterternary\"}], \"surface\": [{\"colorbar\": {\"outlinewidth\": 0, \"ticks\": \"\"}, \"colorscale\": [[0.0, \"#0d0887\"], [0.1111111111111111, \"#46039f\"], [0.2222222222222222, \"#7201a8\"], [0.3333333333333333, \"#9c179e\"], [0.4444444444444444, \"#bd3786\"], [0.5555555555555556, \"#d8576b\"], [0.6666666666666666, \"#ed7953\"], [0.7777777777777778, \"#fb9f3a\"], [0.8888888888888888, \"#fdca26\"], [1.0, \"#f0f921\"]], \"type\": \"surface\"}], \"table\": [{\"cells\": {\"fill\": {\"color\": \"#EBF0F8\"}, \"line\": {\"color\": \"white\"}}, \"header\": {\"fill\": {\"color\": \"#C8D4E3\"}, \"line\": {\"color\": \"white\"}}, \"type\": \"table\"}]}, \"layout\": {\"annotationdefaults\": {\"arrowcolor\": \"#2a3f5f\", \"arrowhead\": 0, \"arrowwidth\": 1}, \"coloraxis\": {\"colorbar\": {\"outlinewidth\": 0, \"ticks\": \"\"}}, \"colorscale\": {\"diverging\": [[0, \"#8e0152\"], [0.1, \"#c51b7d\"], [0.2, \"#de77ae\"], [0.3, \"#f1b6da\"], [0.4, \"#fde0ef\"], [0.5, \"#f7f7f7\"], [0.6, \"#e6f5d0\"], [0.7, \"#b8e186\"], [0.8, \"#7fbc41\"], [0.9, \"#4d9221\"], [1, \"#276419\"]], \"sequential\": [[0.0, \"#0d0887\"], [0.1111111111111111, \"#46039f\"], [0.2222222222222222, \"#7201a8\"], [0.3333333333333333, \"#9c179e\"], [0.4444444444444444, \"#bd3786\"], [0.5555555555555556, \"#d8576b\"], [0.6666666666666666, \"#ed7953\"], [0.7777777777777778, \"#fb9f3a\"], [0.8888888888888888, \"#fdca26\"], [1.0, \"#f0f921\"]], \"sequentialminus\": [[0.0, \"#0d0887\"], [0.1111111111111111, \"#46039f\"], [0.2222222222222222, \"#7201a8\"], [0.3333333333333333, \"#9c179e\"], [0.4444444444444444, \"#bd3786\"], [0.5555555555555556, \"#d8576b\"], [0.6666666666666666, \"#ed7953\"], [0.7777777777777778, \"#fb9f3a\"], [0.8888888888888888, \"#fdca26\"], [1.0, \"#f0f921\"]]}, \"colorway\": [\"#636efa\", \"#EF553B\", \"#00cc96\", \"#ab63fa\", \"#FFA15A\", \"#19d3f3\", \"#FF6692\", \"#B6E880\", \"#FF97FF\", \"#FECB52\"], \"font\": {\"color\": \"#2a3f5f\"}, \"geo\": {\"bgcolor\": \"white\", \"lakecolor\": \"white\", \"landcolor\": \"#E5ECF6\", \"showlakes\": true, \"showland\": true, \"subunitcolor\": \"white\"}, \"hoverlabel\": {\"align\": \"left\"}, \"hovermode\": \"closest\", \"mapbox\": {\"style\": \"light\"}, \"paper_bgcolor\": \"white\", \"plot_bgcolor\": \"#E5ECF6\", \"polar\": {\"angularaxis\": {\"gridcolor\": \"white\", \"linecolor\": \"white\", \"ticks\": \"\"}, \"bgcolor\": \"#E5ECF6\", \"radialaxis\": {\"gridcolor\": \"white\", \"linecolor\": \"white\", \"ticks\": \"\"}}, \"scene\": {\"xaxis\": {\"backgroundcolor\": \"#E5ECF6\", \"gridcolor\": \"white\", \"gridwidth\": 2, \"linecolor\": \"white\", \"showbackground\": true, \"ticks\": \"\", \"zerolinecolor\": \"white\"}, \"yaxis\": {\"backgroundcolor\": \"#E5ECF6\", \"gridcolor\": \"white\", \"gridwidth\": 2, \"linecolor\": \"white\", \"showbackground\": true, \"ticks\": \"\", \"zerolinecolor\": \"white\"}, \"zaxis\": {\"backgroundcolor\": \"#E5ECF6\", \"gridcolor\": \"white\", \"gridwidth\": 2, \"linecolor\": \"white\", \"showbackground\": true, \"ticks\": \"\", \"zerolinecolor\": \"white\"}}, \"shapedefaults\": {\"line\": {\"color\": \"#2a3f5f\"}}, \"ternary\": {\"aaxis\": {\"gridcolor\": \"white\", \"linecolor\": \"white\", \"ticks\": \"\"}, \"baxis\": {\"gridcolor\": \"white\", \"linecolor\": \"white\", \"ticks\": \"\"}, \"bgcolor\": \"#E5ECF6\", \"caxis\": {\"gridcolor\": \"white\", \"linecolor\": \"white\", \"ticks\": \"\"}}, \"title\": {\"x\": 0.05}, \"xaxis\": {\"automargin\": true, \"gridcolor\": \"white\", \"linecolor\": \"white\", \"ticks\": \"\", \"title\": {\"standoff\": 15}, \"zerolinecolor\": \"white\", \"zerolinewidth\": 2}, \"yaxis\": {\"automargin\": true, \"gridcolor\": \"white\", \"linecolor\": \"white\", \"ticks\": \"\", \"title\": {\"standoff\": 15}, \"zerolinecolor\": \"white\", \"zerolinewidth\": 2}}}, \"title\": {\"text\": \"Predictions with linear kernel SVR\"}, \"xaxis\": {\"anchor\": \"y\", \"domain\": [0.0, 1.0], \"title\": {\"text\": \"Date and time\"}}, \"yaxis\": {\"anchor\": \"x\", \"domain\": [0.0, 1.0], \"title\": {\"text\": \"meter value reading\"}}},                        {\"responsive\": true}                    ).then(function(){\n",
       "                            \n",
       "var gd = document.getElementById('d5e10c77-1c8c-4af6-ae71-857f512cf276');\n",
       "var x = new MutationObserver(function (mutations, observer) {{\n",
       "        var display = window.getComputedStyle(gd).display;\n",
       "        if (!display || display === 'none') {{\n",
       "            console.log([gd, 'removed!']);\n",
       "            Plotly.purge(gd);\n",
       "            observer.disconnect();\n",
       "        }}\n",
       "}});\n",
       "\n",
       "// Listen for the removal of the full notebook cells\n",
       "var notebookContainer = gd.closest('#notebook-container');\n",
       "if (notebookContainer) {{\n",
       "    x.observe(notebookContainer, {childList: true});\n",
       "}}\n",
       "\n",
       "// Listen for the clearing of the current output cell\n",
       "var outputEl = gd.closest('.output');\n",
       "if (outputEl) {{\n",
       "    x.observe(outputEl, {childList: true});\n",
       "}}\n",
       "\n",
       "                        })                };                });            </script>        </div>"
      ]
     },
     "metadata": {},
     "output_type": "display_data"
    }
   ],
   "source": [
    "# before plotting actual, need to take to utc because plotly doesn't do it for us.\n",
    "actual = merged_df[merged_df['dataid'] == 35][:250]\n",
    "imputed_actual = clean_df[clean_df['dataid'] == 35][:250]\n",
    "\n",
    "fig = px.scatter()\n",
    "fig.add_scatter(x=timestamps, y=predictions, name='predictions')\n",
    "fig.add_scatter(x=actual.index, y=actual['meter_value'].tolist(), name='actual')\n",
    "fig.add_scatter(x=imputed_actual.index, y=imputed_actual['meter_value'].tolist(), name='imputed')\n",
    "fig.add_scatter(x=ltp_timestamps, y=ltp_predictions, name='long_term_prediction')\n",
    "fig.update_layout(\n",
    "    title='Predictions with linear kernel SVR',\n",
    "    xaxis_title='Date and time',\n",
    "    yaxis_title='meter value reading',\n",
    "    legend_title='Data Category',\n",
    ")\n",
    "fig.show()"
   ]
  },
  {
   "cell_type": "markdown",
   "metadata": {},
   "source": [
    "In the graph above, time series plot of actual data, data after imputation, predicted data, and data with long term prediction are plotted. Just like in linear regression, prediction is preliminarily done over a single house with dataid 35. Theoretically, SVR is expected to provide better prediction result over the data due to its iterative nature in finding the best pattern. Evidently, as compared to linear regression, using SVR with linear kernel has been shown to provide less overfit and better generalizability to the overall data. Using long term predictor to predict over prediction, the linear SVR has been more accurate in predicting the increase in meter value, although rapidly increasing long term prediction value in around 2nd of October causes the overall error to be subsequently carried into further predictions values."
   ]
  },
  {
   "cell_type": "code",
   "execution_count": 99,
   "metadata": {},
   "outputs": [],
   "source": [
    "mean_data = mean_readings_for_area(clean_df)\n",
    "mean_timestamps, mean_predictions = simulate_operation(mean_data[:259], svr_lin)\n",
    "mean_ltp_timestamps, mean_ltp_predictions = long_term_prediction(mean_data[:250], pd.Timestamp('2015-10-02 01:00:00+00:00'), 6, svr_lin)"
   ]
  },
  {
   "cell_type": "code",
   "execution_count": 100,
   "metadata": {
    "scrolled": true
   },
   "outputs": [
    {
     "data": {
      "application/vnd.plotly.v1+json": {
       "config": {
        "plotlyServerURL": "https://plot.ly"
       },
       "data": [
        {
         "name": "predictions",
         "type": "scatter",
         "x": [
          "2015-10-01T12:00:00+00:00",
          "2015-10-01T13:00:00+00:00",
          "2015-10-01T14:00:00+00:00",
          "2015-10-01T15:00:00+00:00",
          "2015-10-01T16:00:00+00:00",
          "2015-10-01T17:00:00+00:00",
          "2015-10-01T18:00:00+00:00",
          "2015-10-01T19:00:00+00:00",
          "2015-10-01T20:00:00+00:00",
          "2015-10-01T21:00:00+00:00",
          "2015-10-01T22:00:00+00:00",
          "2015-10-01T23:00:00+00:00",
          "2015-10-02T00:00:00+00:00",
          "2015-10-02T01:00:00+00:00",
          "2015-10-02T02:00:00+00:00",
          "2015-10-02T03:00:00+00:00",
          "2015-10-02T04:00:00+00:00",
          "2015-10-02T05:00:00+00:00",
          "2015-10-02T06:00:00+00:00",
          "2015-10-02T07:00:00+00:00",
          "2015-10-02T08:00:00+00:00",
          "2015-10-02T09:00:00+00:00",
          "2015-10-02T10:00:00+00:00",
          "2015-10-02T11:00:00+00:00",
          "2015-10-02T12:00:00+00:00",
          "2015-10-02T13:00:00+00:00",
          "2015-10-02T14:00:00+00:00",
          "2015-10-02T15:00:00+00:00",
          "2015-10-02T16:00:00+00:00",
          "2015-10-02T17:00:00+00:00",
          "2015-10-02T18:00:00+00:00",
          "2015-10-02T19:00:00+00:00",
          "2015-10-02T20:00:00+00:00",
          "2015-10-02T21:00:00+00:00",
          "2015-10-02T22:00:00+00:00",
          "2015-10-02T23:00:00+00:00",
          "2015-10-03T00:00:00+00:00",
          "2015-10-03T01:00:00+00:00",
          "2015-10-03T02:00:00+00:00",
          "2015-10-03T03:00:00+00:00",
          "2015-10-03T04:00:00+00:00",
          "2015-10-03T05:00:00+00:00",
          "2015-10-03T06:00:00+00:00",
          "2015-10-03T07:00:00+00:00",
          "2015-10-03T08:00:00+00:00",
          "2015-10-03T09:00:00+00:00",
          "2015-10-03T10:00:00+00:00",
          "2015-10-03T11:00:00+00:00",
          "2015-10-03T12:00:00+00:00",
          "2015-10-03T13:00:00+00:00",
          "2015-10-03T14:00:00+00:00",
          "2015-10-03T15:00:00+00:00",
          "2015-10-03T16:00:00+00:00",
          "2015-10-03T17:00:00+00:00",
          "2015-10-03T18:00:00+00:00",
          "2015-10-03T19:00:00+00:00",
          "2015-10-03T20:00:00+00:00",
          "2015-10-03T21:00:00+00:00",
          "2015-10-03T22:00:00+00:00",
          "2015-10-03T23:00:00+00:00",
          "2015-10-04T00:00:00+00:00",
          "2015-10-04T01:00:00+00:00",
          "2015-10-04T02:00:00+00:00",
          "2015-10-04T03:00:00+00:00",
          "2015-10-04T04:00:00+00:00",
          "2015-10-04T05:00:00+00:00",
          "2015-10-04T06:00:00+00:00",
          "2015-10-04T07:00:00+00:00",
          "2015-10-04T08:00:00+00:00",
          "2015-10-04T09:00:00+00:00",
          "2015-10-04T10:00:00+00:00",
          "2015-10-04T11:00:00+00:00",
          "2015-10-04T12:00:00+00:00",
          "2015-10-04T13:00:00+00:00",
          "2015-10-04T14:00:00+00:00",
          "2015-10-04T15:00:00+00:00",
          "2015-10-04T16:00:00+00:00",
          "2015-10-04T17:00:00+00:00",
          "2015-10-04T18:00:00+00:00",
          "2015-10-04T19:00:00+00:00",
          "2015-10-04T20:00:00+00:00",
          "2015-10-04T21:00:00+00:00",
          "2015-10-04T22:00:00+00:00",
          "2015-10-04T23:00:00+00:00",
          "2015-10-05T00:00:00+00:00",
          "2015-10-05T01:00:00+00:00",
          "2015-10-05T02:00:00+00:00",
          "2015-10-05T03:00:00+00:00",
          "2015-10-05T04:00:00+00:00",
          "2015-10-05T05:00:00+00:00",
          "2015-10-05T06:00:00+00:00",
          "2015-10-05T07:00:00+00:00",
          "2015-10-05T08:00:00+00:00",
          "2015-10-05T09:00:00+00:00",
          "2015-10-05T10:00:00+00:00",
          "2015-10-05T11:00:00+00:00",
          "2015-10-05T12:00:00+00:00",
          "2015-10-05T13:00:00+00:00",
          "2015-10-05T14:00:00+00:00",
          "2015-10-05T15:00:00+00:00",
          "2015-10-05T16:00:00+00:00",
          "2015-10-05T17:00:00+00:00",
          "2015-10-05T18:00:00+00:00",
          "2015-10-05T19:00:00+00:00",
          "2015-10-05T20:00:00+00:00",
          "2015-10-05T21:00:00+00:00",
          "2015-10-05T22:00:00+00:00",
          "2015-10-05T23:00:00+00:00",
          "2015-10-06T00:00:00+00:00",
          "2015-10-06T01:00:00+00:00",
          "2015-10-06T02:00:00+00:00",
          "2015-10-06T03:00:00+00:00",
          "2015-10-06T04:00:00+00:00",
          "2015-10-06T05:00:00+00:00",
          "2015-10-06T06:00:00+00:00",
          "2015-10-06T07:00:00+00:00",
          "2015-10-06T08:00:00+00:00",
          "2015-10-06T09:00:00+00:00",
          "2015-10-06T10:00:00+00:00",
          "2015-10-06T11:00:00+00:00",
          "2015-10-06T12:00:00+00:00",
          "2015-10-06T13:00:00+00:00",
          "2015-10-06T14:00:00+00:00",
          "2015-10-06T15:00:00+00:00",
          "2015-10-06T16:00:00+00:00",
          "2015-10-06T17:00:00+00:00",
          "2015-10-06T18:00:00+00:00",
          "2015-10-06T19:00:00+00:00",
          "2015-10-06T20:00:00+00:00",
          "2015-10-06T21:00:00+00:00",
          "2015-10-06T22:00:00+00:00",
          "2015-10-06T23:00:00+00:00",
          "2015-10-07T00:00:00+00:00",
          "2015-10-07T01:00:00+00:00",
          "2015-10-07T02:00:00+00:00",
          "2015-10-07T03:00:00+00:00",
          "2015-10-07T04:00:00+00:00",
          "2015-10-07T05:00:00+00:00",
          "2015-10-07T06:00:00+00:00",
          "2015-10-07T07:00:00+00:00",
          "2015-10-07T08:00:00+00:00",
          "2015-10-07T09:00:00+00:00",
          "2015-10-07T10:00:00+00:00",
          "2015-10-07T11:00:00+00:00",
          "2015-10-07T12:00:00+00:00",
          "2015-10-07T13:00:00+00:00",
          "2015-10-07T14:00:00+00:00",
          "2015-10-07T15:00:00+00:00",
          "2015-10-07T16:00:00+00:00",
          "2015-10-07T17:00:00+00:00",
          "2015-10-07T18:00:00+00:00",
          "2015-10-07T19:00:00+00:00",
          "2015-10-07T20:00:00+00:00",
          "2015-10-07T21:00:00+00:00",
          "2015-10-07T22:00:00+00:00",
          "2015-10-07T23:00:00+00:00",
          "2015-10-08T00:00:00+00:00",
          "2015-10-08T01:00:00+00:00",
          "2015-10-08T02:00:00+00:00",
          "2015-10-08T03:00:00+00:00",
          "2015-10-08T04:00:00+00:00",
          "2015-10-08T05:00:00+00:00",
          "2015-10-08T06:00:00+00:00",
          "2015-10-08T07:00:00+00:00",
          "2015-10-08T08:00:00+00:00",
          "2015-10-08T09:00:00+00:00",
          "2015-10-08T10:00:00+00:00",
          "2015-10-08T11:00:00+00:00",
          "2015-10-08T12:00:00+00:00",
          "2015-10-08T13:00:00+00:00",
          "2015-10-08T14:00:00+00:00",
          "2015-10-08T15:00:00+00:00",
          "2015-10-08T16:00:00+00:00",
          "2015-10-08T17:00:00+00:00",
          "2015-10-08T18:00:00+00:00",
          "2015-10-08T19:00:00+00:00",
          "2015-10-08T20:00:00+00:00",
          "2015-10-08T21:00:00+00:00",
          "2015-10-08T22:00:00+00:00",
          "2015-10-08T23:00:00+00:00",
          "2015-10-09T00:00:00+00:00",
          "2015-10-09T01:00:00+00:00",
          "2015-10-09T02:00:00+00:00",
          "2015-10-09T03:00:00+00:00",
          "2015-10-09T04:00:00+00:00",
          "2015-10-09T05:00:00+00:00",
          "2015-10-09T06:00:00+00:00",
          "2015-10-09T07:00:00+00:00",
          "2015-10-09T08:00:00+00:00",
          "2015-10-09T09:00:00+00:00",
          "2015-10-09T10:00:00+00:00",
          "2015-10-09T11:00:00+00:00",
          "2015-10-09T12:00:00+00:00",
          "2015-10-09T13:00:00+00:00",
          "2015-10-09T14:00:00+00:00",
          "2015-10-09T15:00:00+00:00",
          "2015-10-09T16:00:00+00:00",
          "2015-10-09T17:00:00+00:00",
          "2015-10-09T18:00:00+00:00",
          "2015-10-09T19:00:00+00:00",
          "2015-10-09T20:00:00+00:00",
          "2015-10-09T21:00:00+00:00",
          "2015-10-09T22:00:00+00:00",
          "2015-10-09T23:00:00+00:00",
          "2015-10-10T00:00:00+00:00",
          "2015-10-10T01:00:00+00:00",
          "2015-10-10T02:00:00+00:00",
          "2015-10-10T03:00:00+00:00",
          "2015-10-10T04:00:00+00:00",
          "2015-10-10T05:00:00+00:00",
          "2015-10-10T06:00:00+00:00",
          "2015-10-10T07:00:00+00:00",
          "2015-10-10T08:00:00+00:00",
          "2015-10-10T09:00:00+00:00",
          "2015-10-10T10:00:00+00:00",
          "2015-10-10T11:00:00+00:00",
          "2015-10-10T12:00:00+00:00",
          "2015-10-10T13:00:00+00:00",
          "2015-10-10T14:00:00+00:00",
          "2015-10-10T15:00:00+00:00",
          "2015-10-10T16:00:00+00:00",
          "2015-10-10T17:00:00+00:00",
          "2015-10-10T18:00:00+00:00",
          "2015-10-10T19:00:00+00:00",
          "2015-10-10T20:00:00+00:00",
          "2015-10-10T21:00:00+00:00",
          "2015-10-10T22:00:00+00:00",
          "2015-10-10T23:00:00+00:00",
          "2015-10-11T00:00:00+00:00",
          "2015-10-11T01:00:00+00:00",
          "2015-10-11T02:00:00+00:00",
          "2015-10-11T03:00:00+00:00",
          "2015-10-11T04:00:00+00:00",
          "2015-10-11T05:00:00+00:00",
          "2015-10-11T06:00:00+00:00",
          "2015-10-11T07:00:00+00:00",
          "2015-10-11T08:00:00+00:00",
          "2015-10-11T09:00:00+00:00",
          "2015-10-11T10:00:00+00:00",
          "2015-10-11T11:00:00+00:00",
          "2015-10-11T12:00:00+00:00",
          "2015-10-11T13:00:00+00:00",
          "2015-10-11T14:00:00+00:00",
          "2015-10-11T15:00:00+00:00",
          "2015-10-11T16:00:00+00:00",
          "2015-10-11T17:00:00+00:00",
          "2015-10-11T18:00:00+00:00",
          "2015-10-11T19:00:00+00:00",
          "2015-10-11T20:00:00+00:00",
          "2015-10-11T21:00:00+00:00",
          "2015-10-11T22:00:00+00:00",
          "2015-10-11T23:00:00+00:00"
         ],
         "y": [
          3.3243785702163406,
          4.950677563654937,
          5.491844505860401,
          8.354726109034345,
          9.468516363643,
          9.199799848718664,
          9.511652788728743,
          10.654743696560535,
          10.4898091784333,
          11.430754877942926,
          11.659497572744192,
          13.25611308920841,
          14.01692687210452,
          15.129831493065454,
          16.13317707536018,
          19.382863918717685,
          19.367264907755413,
          19.990237280875792,
          23.278172017370107,
          24.08514363197756,
          23.449736215538657,
          24.761547242876468,
          25.059862864290853,
          25.677702900086217,
          27.762679494425676,
          29.166177341084666,
          31.4556480837878,
          32.57889897596181,
          33.38785307879368,
          34.06098617998051,
          36.02685605471753,
          35.79307179496225,
          36.62578081637442,
          38.18246453686589,
          38.78778372379219,
          39.83282441217679,
          40.898275108823135,
          40.68964414334,
          42.09943650116356,
          43.627345487632134,
          43.552169631574586,
          44.88814943940471,
          45.158130878955674,
          45.87680430921966,
          46.043531463209575,
          46.49627930041852,
          46.582235056654326,
          47.61693814856456,
          47.477299987006774,
          48.909353490916914,
          51.04411918928226,
          51.75097488330953,
          53.14179030965164,
          55.16591823338782,
          55.86997510725888,
          57.52593240047405,
          59.217843650732306,
          59.03789049968619,
          60.126474575831125,
          60.626649972565524,
          62.16109596384022,
          62.47783515725012,
          63.885575412013004,
          64.797241755256,
          65.87631899870676,
          66.30001507823702,
          68.1741818043535,
          68.23897242110891,
          69.1119985630301,
          69.27881616409633,
          69.28615208651887,
          69.88815731299896,
          70.04036613492184,
          71.05046960563072,
          72.34469351053309,
          73.7459608954664,
          75.27244566422009,
          77.22091118576411,
          77.28935076096221,
          79.11202160987693,
          80.08932036087081,
          80.15455058638018,
          81.68833105273907,
          81.90986607447044,
          83.65843698504256,
          87.15415974402747,
          89.21416948039925,
          91.22885258360283,
          91.99653706784144,
          93.45195780590312,
          93.31216453188378,
          94.45420661880921,
          94.51940377828402,
          94.74327997466276,
          95.05852203158913,
          96.01778731220284,
          96.6797670201007,
          99.14997389659142,
          101.64185781660325,
          101.58898978884586,
          102.7907391419886,
          104.36481998195099,
          105.11495045614569,
          104.90909383844551,
          105.24452659279538,
          106.52315319943837,
          107.1916977120357,
          108.03312991822308,
          109.64998044228574,
          110.98884944401352,
          113.17020045492487,
          113.42470379155226,
          115.88019831967064,
          116.66794115181254,
          116.86050730754256,
          117.19403197982116,
          117.42180528937111,
          118.18218611423748,
          118.735057574144,
          120.55063597832819,
          121.18232889460108,
          123.84542555598877,
          126.36058535569605,
          126.99967242092714,
          127.73519235645355,
          127.90353306896523,
          128.64822536226075,
          129.74765627166312,
          129.70871482811654,
          130.02922861083104,
          130.72840371132656,
          132.59371919952594,
          132.7243578349031,
          135.899876008102,
          136.76216554690836,
          138.2564977015202,
          139.01546768430694,
          139.7282645479453,
          139.88021118536304,
          140.73085321968307,
          140.8192271452439,
          141.01283397906755,
          142.20278755262976,
          142.3965916420732,
          144.83400957251826,
          146.62947528389617,
          148.35695985502215,
          151.26258209748488,
          150.53714870418045,
          152.14063067428236,
          152.4561825938867,
          152.63481319738193,
          152.81129137889982,
          153.15210390700835,
          154.67936465574914,
          154.85621376925008,
          156.45086208977392,
          156.92368703180028,
          159.18369340900603,
          161.38387801751054,
          162.60278089234913,
          162.1407680967448,
          162.4571619907259,
          162.47159504715793,
          162.66099012681482,
          163.10960670211733,
          163.89512117802616,
          164.26254994142562,
          166.27037425269836,
          167.8152891855162,
          170.10609199307814,
          171.30754567216323,
          172.6020193351731,
          173.82513675766057,
          174.27346029740207,
          175.04526549980343,
          175.39303900912273,
          176.70732877372257,
          176.74987607264435,
          177.87843774027763,
          178.87687439906244,
          181.330719182326,
          181.74139780188096,
          183.97766535810405,
          184.49571135223783,
          185.00152274840462,
          186.60704916961802,
          186.58958904704878,
          186.84202353860195,
          187.20228428002474,
          187.3878434038015,
          187.83243950693705,
          190.43856161217687,
          191.46248434133994,
          192.96328116011617,
          193.06808511294503,
          194.45074859900836,
          196.231473512293,
          196.25732548398705,
          196.47014963163693,
          197.4269168464939,
          198.40153052854475,
          199.4844959674854,
          199.6306970607498,
          201.87430983529876,
          203.56196975234684,
          204.41559217822328,
          204.82808654007383,
          205.3375967974661,
          206.83907420826844,
          207.92245343704752,
          207.76705071675838,
          208.45948842991274,
          209.17944327044324,
          209.18503790112948,
          209.6655027654431,
          210.43523844331142,
          210.97430739488948,
          212.49003774593803,
          214.00383360703685,
          215.0811904892902,
          217.56510741218125,
          219.32243595699254,
          219.56458434336443,
          220.13744010386029,
          220.6247365561743,
          221.745994029869,
          222.82054264615007,
          224.81154537629178,
          225.5839003086524,
          226.76272799858504,
          227.05158683942372,
          227.88951898915823,
          228.93702352568198,
          230.09713473494932,
          230.93648445022697,
          230.7765998124763,
          231.44828160504167,
          231.45255325861535,
          231.68582465741503,
          232.15768571314578,
          232.7578676965196,
          233.55444977570525,
          235.03098403554065,
          238.6757990159729,
          239.01632454755494,
          240.76524060893652,
          241.70055253746875,
          243.66882792996566,
          245.64699870453052,
          248.91990267188015,
          248.05226788490998
         ]
        },
        {
         "name": "mean",
         "type": "scatter",
         "x": [
          "2015-10-01T05:00:00+00:00",
          "2015-10-01T06:00:00+00:00",
          "2015-10-01T07:00:00+00:00",
          "2015-10-01T08:00:00+00:00",
          "2015-10-01T09:00:00+00:00",
          "2015-10-01T10:00:00+00:00",
          "2015-10-01T11:00:00+00:00",
          "2015-10-01T12:00:00+00:00",
          "2015-10-01T13:00:00+00:00",
          "2015-10-01T14:00:00+00:00",
          "2015-10-01T15:00:00+00:00",
          "2015-10-01T16:00:00+00:00",
          "2015-10-01T17:00:00+00:00",
          "2015-10-01T18:00:00+00:00",
          "2015-10-01T19:00:00+00:00",
          "2015-10-01T20:00:00+00:00",
          "2015-10-01T21:00:00+00:00",
          "2015-10-01T22:00:00+00:00",
          "2015-10-01T23:00:00+00:00",
          "2015-10-02T00:00:00+00:00",
          "2015-10-02T01:00:00+00:00",
          "2015-10-02T02:00:00+00:00",
          "2015-10-02T03:00:00+00:00",
          "2015-10-02T04:00:00+00:00",
          "2015-10-02T05:00:00+00:00",
          "2015-10-02T06:00:00+00:00",
          "2015-10-02T07:00:00+00:00",
          "2015-10-02T08:00:00+00:00",
          "2015-10-02T09:00:00+00:00",
          "2015-10-02T10:00:00+00:00",
          "2015-10-02T11:00:00+00:00",
          "2015-10-02T12:00:00+00:00",
          "2015-10-02T13:00:00+00:00",
          "2015-10-02T14:00:00+00:00",
          "2015-10-02T15:00:00+00:00",
          "2015-10-02T16:00:00+00:00",
          "2015-10-02T17:00:00+00:00",
          "2015-10-02T18:00:00+00:00",
          "2015-10-02T19:00:00+00:00",
          "2015-10-02T20:00:00+00:00",
          "2015-10-02T21:00:00+00:00",
          "2015-10-02T22:00:00+00:00",
          "2015-10-02T23:00:00+00:00",
          "2015-10-03T00:00:00+00:00",
          "2015-10-03T01:00:00+00:00",
          "2015-10-03T02:00:00+00:00",
          "2015-10-03T03:00:00+00:00",
          "2015-10-03T04:00:00+00:00",
          "2015-10-03T05:00:00+00:00",
          "2015-10-03T06:00:00+00:00",
          "2015-10-03T07:00:00+00:00",
          "2015-10-03T08:00:00+00:00",
          "2015-10-03T09:00:00+00:00",
          "2015-10-03T10:00:00+00:00",
          "2015-10-03T11:00:00+00:00",
          "2015-10-03T12:00:00+00:00",
          "2015-10-03T13:00:00+00:00",
          "2015-10-03T14:00:00+00:00",
          "2015-10-03T15:00:00+00:00",
          "2015-10-03T16:00:00+00:00",
          "2015-10-03T17:00:00+00:00",
          "2015-10-03T18:00:00+00:00",
          "2015-10-03T19:00:00+00:00",
          "2015-10-03T20:00:00+00:00",
          "2015-10-03T21:00:00+00:00",
          "2015-10-03T22:00:00+00:00",
          "2015-10-03T23:00:00+00:00",
          "2015-10-04T00:00:00+00:00",
          "2015-10-04T01:00:00+00:00",
          "2015-10-04T02:00:00+00:00",
          "2015-10-04T03:00:00+00:00",
          "2015-10-04T04:00:00+00:00",
          "2015-10-04T05:00:00+00:00",
          "2015-10-04T06:00:00+00:00",
          "2015-10-04T07:00:00+00:00",
          "2015-10-04T08:00:00+00:00",
          "2015-10-04T09:00:00+00:00",
          "2015-10-04T10:00:00+00:00",
          "2015-10-04T11:00:00+00:00",
          "2015-10-04T12:00:00+00:00",
          "2015-10-04T13:00:00+00:00",
          "2015-10-04T14:00:00+00:00",
          "2015-10-04T15:00:00+00:00",
          "2015-10-04T16:00:00+00:00",
          "2015-10-04T17:00:00+00:00",
          "2015-10-04T18:00:00+00:00",
          "2015-10-04T19:00:00+00:00",
          "2015-10-04T20:00:00+00:00",
          "2015-10-04T21:00:00+00:00",
          "2015-10-04T22:00:00+00:00",
          "2015-10-04T23:00:00+00:00",
          "2015-10-05T00:00:00+00:00",
          "2015-10-05T01:00:00+00:00",
          "2015-10-05T02:00:00+00:00",
          "2015-10-05T03:00:00+00:00",
          "2015-10-05T04:00:00+00:00",
          "2015-10-05T05:00:00+00:00",
          "2015-10-05T06:00:00+00:00",
          "2015-10-05T07:00:00+00:00",
          "2015-10-05T08:00:00+00:00",
          "2015-10-05T09:00:00+00:00",
          "2015-10-05T10:00:00+00:00",
          "2015-10-05T11:00:00+00:00",
          "2015-10-05T12:00:00+00:00",
          "2015-10-05T13:00:00+00:00",
          "2015-10-05T14:00:00+00:00",
          "2015-10-05T15:00:00+00:00",
          "2015-10-05T16:00:00+00:00",
          "2015-10-05T17:00:00+00:00",
          "2015-10-05T18:00:00+00:00",
          "2015-10-05T19:00:00+00:00",
          "2015-10-05T20:00:00+00:00",
          "2015-10-05T21:00:00+00:00",
          "2015-10-05T22:00:00+00:00",
          "2015-10-05T23:00:00+00:00",
          "2015-10-06T00:00:00+00:00",
          "2015-10-06T01:00:00+00:00",
          "2015-10-06T02:00:00+00:00",
          "2015-10-06T03:00:00+00:00",
          "2015-10-06T04:00:00+00:00",
          "2015-10-06T05:00:00+00:00",
          "2015-10-06T06:00:00+00:00",
          "2015-10-06T07:00:00+00:00",
          "2015-10-06T08:00:00+00:00",
          "2015-10-06T09:00:00+00:00",
          "2015-10-06T10:00:00+00:00",
          "2015-10-06T11:00:00+00:00",
          "2015-10-06T12:00:00+00:00",
          "2015-10-06T13:00:00+00:00",
          "2015-10-06T14:00:00+00:00",
          "2015-10-06T15:00:00+00:00",
          "2015-10-06T16:00:00+00:00",
          "2015-10-06T17:00:00+00:00",
          "2015-10-06T18:00:00+00:00",
          "2015-10-06T19:00:00+00:00",
          "2015-10-06T20:00:00+00:00",
          "2015-10-06T21:00:00+00:00",
          "2015-10-06T22:00:00+00:00",
          "2015-10-06T23:00:00+00:00",
          "2015-10-07T00:00:00+00:00",
          "2015-10-07T01:00:00+00:00",
          "2015-10-07T02:00:00+00:00",
          "2015-10-07T03:00:00+00:00",
          "2015-10-07T04:00:00+00:00",
          "2015-10-07T05:00:00+00:00",
          "2015-10-07T06:00:00+00:00",
          "2015-10-07T07:00:00+00:00",
          "2015-10-07T08:00:00+00:00",
          "2015-10-07T09:00:00+00:00",
          "2015-10-07T10:00:00+00:00",
          "2015-10-07T11:00:00+00:00",
          "2015-10-07T12:00:00+00:00",
          "2015-10-07T13:00:00+00:00",
          "2015-10-07T14:00:00+00:00",
          "2015-10-07T15:00:00+00:00",
          "2015-10-07T16:00:00+00:00",
          "2015-10-07T17:00:00+00:00",
          "2015-10-07T18:00:00+00:00",
          "2015-10-07T19:00:00+00:00",
          "2015-10-07T20:00:00+00:00",
          "2015-10-07T21:00:00+00:00",
          "2015-10-07T22:00:00+00:00",
          "2015-10-07T23:00:00+00:00",
          "2015-10-08T00:00:00+00:00",
          "2015-10-08T01:00:00+00:00",
          "2015-10-08T02:00:00+00:00",
          "2015-10-08T03:00:00+00:00",
          "2015-10-08T04:00:00+00:00",
          "2015-10-08T05:00:00+00:00",
          "2015-10-08T06:00:00+00:00",
          "2015-10-08T07:00:00+00:00",
          "2015-10-08T08:00:00+00:00",
          "2015-10-08T09:00:00+00:00",
          "2015-10-08T10:00:00+00:00",
          "2015-10-08T11:00:00+00:00",
          "2015-10-08T12:00:00+00:00",
          "2015-10-08T13:00:00+00:00",
          "2015-10-08T14:00:00+00:00",
          "2015-10-08T15:00:00+00:00",
          "2015-10-08T16:00:00+00:00",
          "2015-10-08T17:00:00+00:00",
          "2015-10-08T18:00:00+00:00",
          "2015-10-08T19:00:00+00:00",
          "2015-10-08T20:00:00+00:00",
          "2015-10-08T21:00:00+00:00",
          "2015-10-08T22:00:00+00:00",
          "2015-10-08T23:00:00+00:00",
          "2015-10-09T00:00:00+00:00",
          "2015-10-09T01:00:00+00:00",
          "2015-10-09T02:00:00+00:00",
          "2015-10-09T03:00:00+00:00",
          "2015-10-09T04:00:00+00:00",
          "2015-10-09T05:00:00+00:00",
          "2015-10-09T06:00:00+00:00",
          "2015-10-09T07:00:00+00:00",
          "2015-10-09T08:00:00+00:00",
          "2015-10-09T09:00:00+00:00",
          "2015-10-09T10:00:00+00:00",
          "2015-10-09T11:00:00+00:00",
          "2015-10-09T12:00:00+00:00",
          "2015-10-09T13:00:00+00:00",
          "2015-10-09T14:00:00+00:00",
          "2015-10-09T15:00:00+00:00",
          "2015-10-09T16:00:00+00:00",
          "2015-10-09T17:00:00+00:00",
          "2015-10-09T18:00:00+00:00",
          "2015-10-09T19:00:00+00:00",
          "2015-10-09T20:00:00+00:00",
          "2015-10-09T21:00:00+00:00",
          "2015-10-09T22:00:00+00:00",
          "2015-10-09T23:00:00+00:00",
          "2015-10-10T00:00:00+00:00",
          "2015-10-10T01:00:00+00:00",
          "2015-10-10T02:00:00+00:00",
          "2015-10-10T03:00:00+00:00",
          "2015-10-10T04:00:00+00:00",
          "2015-10-10T05:00:00+00:00",
          "2015-10-10T06:00:00+00:00",
          "2015-10-10T07:00:00+00:00",
          "2015-10-10T08:00:00+00:00",
          "2015-10-10T09:00:00+00:00",
          "2015-10-10T10:00:00+00:00",
          "2015-10-10T11:00:00+00:00",
          "2015-10-10T12:00:00+00:00",
          "2015-10-10T13:00:00+00:00",
          "2015-10-10T14:00:00+00:00",
          "2015-10-10T15:00:00+00:00",
          "2015-10-10T16:00:00+00:00",
          "2015-10-10T17:00:00+00:00",
          "2015-10-10T18:00:00+00:00",
          "2015-10-10T19:00:00+00:00",
          "2015-10-10T20:00:00+00:00",
          "2015-10-10T21:00:00+00:00",
          "2015-10-10T22:00:00+00:00",
          "2015-10-10T23:00:00+00:00",
          "2015-10-11T00:00:00+00:00",
          "2015-10-11T01:00:00+00:00",
          "2015-10-11T02:00:00+00:00",
          "2015-10-11T03:00:00+00:00",
          "2015-10-11T04:00:00+00:00",
          "2015-10-11T05:00:00+00:00",
          "2015-10-11T06:00:00+00:00",
          "2015-10-11T07:00:00+00:00",
          "2015-10-11T08:00:00+00:00",
          "2015-10-11T09:00:00+00:00",
          "2015-10-11T10:00:00+00:00",
          "2015-10-11T11:00:00+00:00",
          "2015-10-11T12:00:00+00:00",
          "2015-10-11T13:00:00+00:00",
          "2015-10-11T14:00:00+00:00"
         ],
         "y": [
          0.21360544217687075,
          0.617831871704505,
          0.7380667935066665,
          0.9987810792209522,
          1.0944450358605187,
          1.5407107331506706,
          2.413755335607038,
          3.6756779410780305,
          4.54475140463939,
          6.473492264279127,
          7.943183622303819,
          8.502518914606144,
          8.938339869250628,
          9.745206286229404,
          10.029069800991795,
          10.668972799228127,
          11.076734804664552,
          12.118100094467342,
          13.08877028847087,
          14.135560854226954,
          15.151207971659787,
          17.347453174646564,
          18.34499012045937,
          19.167936374984574,
          21.286720302697073,
          22.6855575119994,
          23.02245760537008,
          23.884345299515836,
          24.432022184034825,
          25.024968501138446,
          26.400173157593102,
          27.77273802510179,
          29.63005270355049,
          31.082278411675073,
          32.19945517711809,
          33.08035153566151,
          34.53666154937893,
          35.08294331784969,
          35.797574503657344,
          36.94519214782671,
          37.79732343389629,
          38.75441026863018,
          39.85639726663794,
          40.25885119840222,
          41.20449447708121,
          42.44079605495142,
          42.97760668618066,
          43.94628167132623,
          44.528634812012704,
          45.19094928325575,
          45.58200930879853,
          46.00869540907596,
          46.24879178095805,
          46.91053420520048,
          47.13478564820192,
          48.005614973255504,
          49.526251901862075,
          50.60360697432584,
          51.85169415221694,
          53.49936540279201,
          54.63786202749553,
          56.05718549472597,
          57.60796024907216,
          58.23842574317401,
          59.12465409815237,
          59.7932488693942,
          61.0214825486588,
          61.75030324169574,
          62.847395973525316,
          63.83108166767612,
          64.8668170434115,
          65.57148719210339,
          66.8986356846365,
          67.53960790685872,
          68.31638693307595,
          68.75832696834931,
          68.97555693167303,
          69.39503745115354,
          69.66539361014607,
          70.32811847787093,
          71.31248340663814,
          72.50967183224762,
          73.87304530424178,
          75.53882385317823,
          76.34851428900502,
          77.70778809648299,
          78.84558465177955,
          79.42086389928102,
          80.50769098293206,
          81.12089028363137,
          82.44109865187895,
          84.89236737038904,
          87.1153463294145,
          89.230273930549,
          90.6244188075452,
          92.06122289493068,
          92.65550717274436,
          93.5549400396191,
          93.99902457265712,
          94.33554915918171,
          94.65585801699056,
          95.31220807216415,
          95.96143113587523,
          97.57283223477633,
          99.62693571791208,
          100.55634393047247,
          101.64572475167147,
          102.97857860194105,
          103.99892884348695,
          104.37207243042364,
          104.73143641383825,
          105.57256195496379,
          106.31139733930479,
          107.1045281548494,
          108.42307578162487,
          109.73892011132463,
          111.51121367294404,
          112.46475594839643,
          114.22744722537342,
          115.44915029880063,
          116.1383692171372,
          116.64012360310211,
          116.99618420916272,
          117.56643510522007,
          118.11947743326239,
          119.33905415283911,
          120.22956618398082,
          122.06412201516586,
          124.23330402789627,
          125.58658133882064,
          126.6220369401299,
          127.19566608875905,
          127.86650582250202,
          128.75782881323678,
          129.15024889315686,
          129.510642345858,
          130.04425247875076,
          131.27771835744136,
          132.00672934645235,
          134.03956193209393,
          135.41868673321872,
          136.87450793079026,
          137.94817414146058,
          138.83673470370536,
          139.3327812953549,
          140.02084852224564,
          140.38265260963112,
          140.65983514931366,
          141.41610755074737,
          141.8621166856454,
          143.36722120065343,
          144.9988033262573,
          146.68020387015784,
          149.00169416032284,
          149.69259280416267,
          150.89651916454065,
          151.60701105360397,
          152.04937137527463,
          152.34808469898795,
          152.66859607426977,
          153.62435232312947,
          154.1519490853416,
          155.3478068674063,
          156.13973356815652,
          157.71737633570123,
          159.60160876993368,
          161.12820637867415,
          161.60250454238408,
          162.00668754892004,
          162.19881248937034,
          162.39319157433766,
          162.71759494874104,
          163.28056392421,
          163.73188667553276,
          165.00634104061214,
          166.40295235522345,
          168.27064515624957,
          169.76979193969868,
          171.16500758547613,
          172.46377647303814,
          173.31082773095895,
          174.1226494363853,
          174.68384171632758,
          175.6463056412915,
          176.1088820860108,
          176.93237005637377,
          177.9304220044257,
          179.69563211919723,
          180.72396086116234,
          182.40471786944744,
          183.447190987727,
          184.21898112940352,
          185.42856807024046,
          185.97704778201805,
          186.38012927568778,
          186.7549799327965,
          187.0279690535384,
          187.3902295899369,
          188.93510652947674,
          190.17810963110054,
          191.56389384054773,
          192.25870473141126,
          193.32881352399195,
          194.7608281760066,
          195.44111830833847,
          195.88421203631592,
          196.5955421239065,
          197.43904714496256,
          198.4048323824087,
          198.9296339697103,
          200.4657095281388,
          202.05646976205693,
          203.2574299130171,
          204.04059713339362,
          204.6809989430708,
          205.776026138098,
          206.85315284736757,
          207.2760730998059,
          207.84849917309404,
          208.48961780623395,
          208.79180444073765,
          209.19062278288933,
          209.77843457427255,
          210.33445429529226,
          211.39586193527134,
          212.68239036895886,
          213.85195661189468,
          215.71502145710238,
          217.50346970295803,
          218.47345357529485,
          219.2418196898566,
          219.85810382846162,
          220.74303298199544,
          221.71939237423717,
          223.32547123989195,
          224.47319675286136,
          225.64436542005274,
          226.33946964648226,
          227.11714349379895,
          228.03014509893538,
          229.06956085114183,
          229.9968004059676,
          230.3462936169066,
          230.87257756587096,
          231.11301684235676,
          231.35399512333504,
          231.71143565954145,
          232.19229319152257,
          232.8344935199298,
          233.91162908099793
         ]
        },
        {
         "name": "long_term_prediction",
         "type": "scatter",
         "x": [
          "2015-10-02T01:00:00+00:00",
          "2015-10-02T02:00:00+00:00",
          "2015-10-02T03:00:00+00:00",
          "2015-10-02T04:00:00+00:00",
          "2015-10-02T05:00:00+00:00",
          "2015-10-02T06:00:00+00:00",
          "2015-10-02T07:00:00+00:00",
          "2015-10-02T08:00:00+00:00",
          "2015-10-02T09:00:00+00:00",
          "2015-10-02T10:00:00+00:00",
          "2015-10-02T11:00:00+00:00",
          "2015-10-02T12:00:00+00:00",
          "2015-10-02T13:00:00+00:00",
          "2015-10-02T14:00:00+00:00",
          "2015-10-02T15:00:00+00:00",
          "2015-10-02T16:00:00+00:00",
          "2015-10-02T17:00:00+00:00",
          "2015-10-02T18:00:00+00:00",
          "2015-10-02T19:00:00+00:00",
          "2015-10-02T20:00:00+00:00",
          "2015-10-02T21:00:00+00:00",
          "2015-10-02T22:00:00+00:00",
          "2015-10-02T23:00:00+00:00",
          "2015-10-03T00:00:00+00:00",
          "2015-10-03T01:00:00+00:00",
          "2015-10-03T02:00:00+00:00",
          "2015-10-03T03:00:00+00:00",
          "2015-10-03T04:00:00+00:00",
          "2015-10-03T05:00:00+00:00",
          "2015-10-03T06:00:00+00:00",
          "2015-10-03T07:00:00+00:00",
          "2015-10-03T08:00:00+00:00",
          "2015-10-03T09:00:00+00:00",
          "2015-10-03T10:00:00+00:00",
          "2015-10-03T11:00:00+00:00",
          "2015-10-03T12:00:00+00:00",
          "2015-10-03T13:00:00+00:00",
          "2015-10-03T14:00:00+00:00",
          "2015-10-03T15:00:00+00:00",
          "2015-10-03T16:00:00+00:00",
          "2015-10-03T17:00:00+00:00",
          "2015-10-03T18:00:00+00:00",
          "2015-10-03T19:00:00+00:00",
          "2015-10-03T20:00:00+00:00",
          "2015-10-03T21:00:00+00:00",
          "2015-10-03T22:00:00+00:00",
          "2015-10-03T23:00:00+00:00",
          "2015-10-04T00:00:00+00:00",
          "2015-10-04T01:00:00+00:00",
          "2015-10-04T02:00:00+00:00",
          "2015-10-04T03:00:00+00:00",
          "2015-10-04T04:00:00+00:00",
          "2015-10-04T05:00:00+00:00",
          "2015-10-04T06:00:00+00:00",
          "2015-10-04T07:00:00+00:00",
          "2015-10-04T08:00:00+00:00",
          "2015-10-04T09:00:00+00:00",
          "2015-10-04T10:00:00+00:00",
          "2015-10-04T11:00:00+00:00",
          "2015-10-04T12:00:00+00:00",
          "2015-10-04T13:00:00+00:00",
          "2015-10-04T14:00:00+00:00",
          "2015-10-04T15:00:00+00:00",
          "2015-10-04T16:00:00+00:00",
          "2015-10-04T17:00:00+00:00",
          "2015-10-04T18:00:00+00:00",
          "2015-10-04T19:00:00+00:00",
          "2015-10-04T20:00:00+00:00",
          "2015-10-04T21:00:00+00:00",
          "2015-10-04T22:00:00+00:00",
          "2015-10-04T23:00:00+00:00",
          "2015-10-05T00:00:00+00:00",
          "2015-10-05T01:00:00+00:00",
          "2015-10-05T02:00:00+00:00",
          "2015-10-05T03:00:00+00:00",
          "2015-10-05T04:00:00+00:00",
          "2015-10-05T05:00:00+00:00",
          "2015-10-05T06:00:00+00:00",
          "2015-10-05T07:00:00+00:00",
          "2015-10-05T08:00:00+00:00",
          "2015-10-05T09:00:00+00:00",
          "2015-10-05T10:00:00+00:00",
          "2015-10-05T11:00:00+00:00",
          "2015-10-05T12:00:00+00:00",
          "2015-10-05T13:00:00+00:00",
          "2015-10-05T14:00:00+00:00",
          "2015-10-05T15:00:00+00:00",
          "2015-10-05T16:00:00+00:00",
          "2015-10-05T17:00:00+00:00",
          "2015-10-05T18:00:00+00:00",
          "2015-10-05T19:00:00+00:00",
          "2015-10-05T20:00:00+00:00",
          "2015-10-05T21:00:00+00:00",
          "2015-10-05T22:00:00+00:00",
          "2015-10-05T23:00:00+00:00",
          "2015-10-06T00:00:00+00:00",
          "2015-10-06T01:00:00+00:00",
          "2015-10-06T02:00:00+00:00",
          "2015-10-06T03:00:00+00:00",
          "2015-10-06T04:00:00+00:00",
          "2015-10-06T05:00:00+00:00",
          "2015-10-06T06:00:00+00:00",
          "2015-10-06T07:00:00+00:00",
          "2015-10-06T08:00:00+00:00",
          "2015-10-06T09:00:00+00:00",
          "2015-10-06T10:00:00+00:00",
          "2015-10-06T11:00:00+00:00",
          "2015-10-06T12:00:00+00:00",
          "2015-10-06T13:00:00+00:00",
          "2015-10-06T14:00:00+00:00",
          "2015-10-06T15:00:00+00:00",
          "2015-10-06T16:00:00+00:00",
          "2015-10-06T17:00:00+00:00",
          "2015-10-06T18:00:00+00:00",
          "2015-10-06T19:00:00+00:00",
          "2015-10-06T20:00:00+00:00",
          "2015-10-06T21:00:00+00:00",
          "2015-10-06T22:00:00+00:00",
          "2015-10-06T23:00:00+00:00",
          "2015-10-07T00:00:00+00:00",
          "2015-10-07T01:00:00+00:00",
          "2015-10-07T02:00:00+00:00",
          "2015-10-07T03:00:00+00:00",
          "2015-10-07T04:00:00+00:00",
          "2015-10-07T05:00:00+00:00",
          "2015-10-07T06:00:00+00:00",
          "2015-10-07T07:00:00+00:00",
          "2015-10-07T08:00:00+00:00",
          "2015-10-07T09:00:00+00:00",
          "2015-10-07T10:00:00+00:00",
          "2015-10-07T11:00:00+00:00",
          "2015-10-07T12:00:00+00:00",
          "2015-10-07T13:00:00+00:00",
          "2015-10-07T14:00:00+00:00",
          "2015-10-07T15:00:00+00:00",
          "2015-10-07T16:00:00+00:00",
          "2015-10-07T17:00:00+00:00",
          "2015-10-07T18:00:00+00:00",
          "2015-10-07T19:00:00+00:00",
          "2015-10-07T20:00:00+00:00",
          "2015-10-07T21:00:00+00:00",
          "2015-10-07T22:00:00+00:00",
          "2015-10-07T23:00:00+00:00",
          "2015-10-08T00:00:00+00:00"
         ],
         "y": [
          15.129831493065454,
          16.092823717286617,
          17.032646886181357,
          17.959288563534333,
          18.880836722992495,
          19.804920421728177,
          20.738585516895355,
          21.688371345725376,
          22.660336596283162,
          23.660096175834266,
          24.69285341086171,
          25.76343030875674,
          26.876295486951538,
          28.035590074703045,
          29.245151712652568,
          30.508536794574585,
          31.829041078918937,
          33.209718789844864,
          34.653400318399584,
          36.1627086264429,
          37.74007444838678,
          39.38775037885416,
          41.10782392790385,
          42.72037008471526,
          44.24759609221419,
          45.70271503030373,
          47.09964949666037,
          48.44979539065429,
          49.763828357400165,
          51.05162435795745,
          52.32234774330909,
          53.584489891478434,
          54.845920062755845,
          56.11393070764085,
          57.39527985334416,
          58.69623025358547,
          60.022585688211926,
          61.37972459876333,
          62.77263126014957,
          64.20592466767859,
          65.68388530709414,
          67.21047996272365,
          68.78938470752777,
          70.42400620829162,
          72.11750146943511,
          73.8727961298705,
          75.6926014189488,
          77.39757033499637,
          79.01044576987294,
          80.54493719663027,
          82.01542722722367,
          83.43373806250894,
          84.81094040698261,
          86.15727632860374,
          87.48224945459599,
          88.79466557488708,
          90.10268531955327,
          91.41387115543557,
          92.73523133755891,
          94.07326050916005,
          95.43397734525387,
          96.82295943365341,
          98.24537560082716,
          99.7060158685212,
          101.20931921500448,
          102.759399301782,
          104.36006831489155,
          106.01485905895714,
          107.72704543204874,
          109.4996614000131,
          111.33551858024408,
          113.05536300203201,
          114.68202377029554,
          116.22929025290017,
          117.71161910141117,
          119.14090113019739,
          120.52827062883063,
          121.88402859042355,
          123.21773324894072,
          124.53824099911895,
          125.85375936719906,
          127.17189427933519,
          128.4996942648886,
          129.84369128987097,
          131.2099386168201,
          132.60404588627665,
          134.03121162840756,
          135.49625339178004,
          137.0036356641424,
          138.5574957469809,
          140.16166773382537,
          141.8197047312705,
          143.53489945149843,
          145.31030329564948,
          147.148744038641,
          148.87098268316004,
          150.4998622101755,
          152.04918484667732,
          153.53341916095616,
          154.9644670107723,
          156.3534729197585,
          157.71074736507086,
          159.04585736966587,
          160.3676674731587,
          161.68439274975958,
          163.0036461204286,
          164.33248259670876,
          165.6774401517376,
          167.04457761493825,
          168.43950978575958,
          169.86743997519895,
          171.33319016228407,
          172.8412289405312,
          174.39569741629768,
          176.00043320913898,
          177.65899269326573,
          179.3746716090042,
          181.15052416371697,
          182.98938073288582,
          184.7120047291761,
          186.34124136691645,
          187.89089494278156,
          189.37543594306715,
          190.80676800297482,
          192.1960372933164,
          193.5535558177112,
          194.88889201370995,
          196.21091173185147,
          197.5278312611968,
          198.8472646485248,
          200.17626794868994,
          201.52138010168085,
          202.8886608329145,
          204.28372577216962,
          205.71177899992142,
          207.17764320828326,
          208.68578765159754,
          210.24035404861812,
          211.84518058641675,
          213.50382416512903,
          215.2195810124631,
          216.99550578744493,
          218.83442928411887,
          220.55711530303793
         ]
        }
       ],
       "layout": {
        "legend": {
         "title": {
          "text": "Data Category"
         },
         "tracegroupgap": 0
        },
        "margin": {
         "t": 60
        },
        "template": {
         "data": {
          "bar": [
           {
            "error_x": {
             "color": "#2a3f5f"
            },
            "error_y": {
             "color": "#2a3f5f"
            },
            "marker": {
             "line": {
              "color": "#E5ECF6",
              "width": 0.5
             }
            },
            "type": "bar"
           }
          ],
          "barpolar": [
           {
            "marker": {
             "line": {
              "color": "#E5ECF6",
              "width": 0.5
             }
            },
            "type": "barpolar"
           }
          ],
          "carpet": [
           {
            "aaxis": {
             "endlinecolor": "#2a3f5f",
             "gridcolor": "white",
             "linecolor": "white",
             "minorgridcolor": "white",
             "startlinecolor": "#2a3f5f"
            },
            "baxis": {
             "endlinecolor": "#2a3f5f",
             "gridcolor": "white",
             "linecolor": "white",
             "minorgridcolor": "white",
             "startlinecolor": "#2a3f5f"
            },
            "type": "carpet"
           }
          ],
          "choropleth": [
           {
            "colorbar": {
             "outlinewidth": 0,
             "ticks": ""
            },
            "type": "choropleth"
           }
          ],
          "contour": [
           {
            "colorbar": {
             "outlinewidth": 0,
             "ticks": ""
            },
            "colorscale": [
             [
              0,
              "#0d0887"
             ],
             [
              0.1111111111111111,
              "#46039f"
             ],
             [
              0.2222222222222222,
              "#7201a8"
             ],
             [
              0.3333333333333333,
              "#9c179e"
             ],
             [
              0.4444444444444444,
              "#bd3786"
             ],
             [
              0.5555555555555556,
              "#d8576b"
             ],
             [
              0.6666666666666666,
              "#ed7953"
             ],
             [
              0.7777777777777778,
              "#fb9f3a"
             ],
             [
              0.8888888888888888,
              "#fdca26"
             ],
             [
              1,
              "#f0f921"
             ]
            ],
            "type": "contour"
           }
          ],
          "contourcarpet": [
           {
            "colorbar": {
             "outlinewidth": 0,
             "ticks": ""
            },
            "type": "contourcarpet"
           }
          ],
          "heatmap": [
           {
            "colorbar": {
             "outlinewidth": 0,
             "ticks": ""
            },
            "colorscale": [
             [
              0,
              "#0d0887"
             ],
             [
              0.1111111111111111,
              "#46039f"
             ],
             [
              0.2222222222222222,
              "#7201a8"
             ],
             [
              0.3333333333333333,
              "#9c179e"
             ],
             [
              0.4444444444444444,
              "#bd3786"
             ],
             [
              0.5555555555555556,
              "#d8576b"
             ],
             [
              0.6666666666666666,
              "#ed7953"
             ],
             [
              0.7777777777777778,
              "#fb9f3a"
             ],
             [
              0.8888888888888888,
              "#fdca26"
             ],
             [
              1,
              "#f0f921"
             ]
            ],
            "type": "heatmap"
           }
          ],
          "heatmapgl": [
           {
            "colorbar": {
             "outlinewidth": 0,
             "ticks": ""
            },
            "colorscale": [
             [
              0,
              "#0d0887"
             ],
             [
              0.1111111111111111,
              "#46039f"
             ],
             [
              0.2222222222222222,
              "#7201a8"
             ],
             [
              0.3333333333333333,
              "#9c179e"
             ],
             [
              0.4444444444444444,
              "#bd3786"
             ],
             [
              0.5555555555555556,
              "#d8576b"
             ],
             [
              0.6666666666666666,
              "#ed7953"
             ],
             [
              0.7777777777777778,
              "#fb9f3a"
             ],
             [
              0.8888888888888888,
              "#fdca26"
             ],
             [
              1,
              "#f0f921"
             ]
            ],
            "type": "heatmapgl"
           }
          ],
          "histogram": [
           {
            "marker": {
             "colorbar": {
              "outlinewidth": 0,
              "ticks": ""
             }
            },
            "type": "histogram"
           }
          ],
          "histogram2d": [
           {
            "colorbar": {
             "outlinewidth": 0,
             "ticks": ""
            },
            "colorscale": [
             [
              0,
              "#0d0887"
             ],
             [
              0.1111111111111111,
              "#46039f"
             ],
             [
              0.2222222222222222,
              "#7201a8"
             ],
             [
              0.3333333333333333,
              "#9c179e"
             ],
             [
              0.4444444444444444,
              "#bd3786"
             ],
             [
              0.5555555555555556,
              "#d8576b"
             ],
             [
              0.6666666666666666,
              "#ed7953"
             ],
             [
              0.7777777777777778,
              "#fb9f3a"
             ],
             [
              0.8888888888888888,
              "#fdca26"
             ],
             [
              1,
              "#f0f921"
             ]
            ],
            "type": "histogram2d"
           }
          ],
          "histogram2dcontour": [
           {
            "colorbar": {
             "outlinewidth": 0,
             "ticks": ""
            },
            "colorscale": [
             [
              0,
              "#0d0887"
             ],
             [
              0.1111111111111111,
              "#46039f"
             ],
             [
              0.2222222222222222,
              "#7201a8"
             ],
             [
              0.3333333333333333,
              "#9c179e"
             ],
             [
              0.4444444444444444,
              "#bd3786"
             ],
             [
              0.5555555555555556,
              "#d8576b"
             ],
             [
              0.6666666666666666,
              "#ed7953"
             ],
             [
              0.7777777777777778,
              "#fb9f3a"
             ],
             [
              0.8888888888888888,
              "#fdca26"
             ],
             [
              1,
              "#f0f921"
             ]
            ],
            "type": "histogram2dcontour"
           }
          ],
          "mesh3d": [
           {
            "colorbar": {
             "outlinewidth": 0,
             "ticks": ""
            },
            "type": "mesh3d"
           }
          ],
          "parcoords": [
           {
            "line": {
             "colorbar": {
              "outlinewidth": 0,
              "ticks": ""
             }
            },
            "type": "parcoords"
           }
          ],
          "pie": [
           {
            "automargin": true,
            "type": "pie"
           }
          ],
          "scatter": [
           {
            "marker": {
             "colorbar": {
              "outlinewidth": 0,
              "ticks": ""
             }
            },
            "type": "scatter"
           }
          ],
          "scatter3d": [
           {
            "line": {
             "colorbar": {
              "outlinewidth": 0,
              "ticks": ""
             }
            },
            "marker": {
             "colorbar": {
              "outlinewidth": 0,
              "ticks": ""
             }
            },
            "type": "scatter3d"
           }
          ],
          "scattercarpet": [
           {
            "marker": {
             "colorbar": {
              "outlinewidth": 0,
              "ticks": ""
             }
            },
            "type": "scattercarpet"
           }
          ],
          "scattergeo": [
           {
            "marker": {
             "colorbar": {
              "outlinewidth": 0,
              "ticks": ""
             }
            },
            "type": "scattergeo"
           }
          ],
          "scattergl": [
           {
            "marker": {
             "colorbar": {
              "outlinewidth": 0,
              "ticks": ""
             }
            },
            "type": "scattergl"
           }
          ],
          "scattermapbox": [
           {
            "marker": {
             "colorbar": {
              "outlinewidth": 0,
              "ticks": ""
             }
            },
            "type": "scattermapbox"
           }
          ],
          "scatterpolar": [
           {
            "marker": {
             "colorbar": {
              "outlinewidth": 0,
              "ticks": ""
             }
            },
            "type": "scatterpolar"
           }
          ],
          "scatterpolargl": [
           {
            "marker": {
             "colorbar": {
              "outlinewidth": 0,
              "ticks": ""
             }
            },
            "type": "scatterpolargl"
           }
          ],
          "scatterternary": [
           {
            "marker": {
             "colorbar": {
              "outlinewidth": 0,
              "ticks": ""
             }
            },
            "type": "scatterternary"
           }
          ],
          "surface": [
           {
            "colorbar": {
             "outlinewidth": 0,
             "ticks": ""
            },
            "colorscale": [
             [
              0,
              "#0d0887"
             ],
             [
              0.1111111111111111,
              "#46039f"
             ],
             [
              0.2222222222222222,
              "#7201a8"
             ],
             [
              0.3333333333333333,
              "#9c179e"
             ],
             [
              0.4444444444444444,
              "#bd3786"
             ],
             [
              0.5555555555555556,
              "#d8576b"
             ],
             [
              0.6666666666666666,
              "#ed7953"
             ],
             [
              0.7777777777777778,
              "#fb9f3a"
             ],
             [
              0.8888888888888888,
              "#fdca26"
             ],
             [
              1,
              "#f0f921"
             ]
            ],
            "type": "surface"
           }
          ],
          "table": [
           {
            "cells": {
             "fill": {
              "color": "#EBF0F8"
             },
             "line": {
              "color": "white"
             }
            },
            "header": {
             "fill": {
              "color": "#C8D4E3"
             },
             "line": {
              "color": "white"
             }
            },
            "type": "table"
           }
          ]
         },
         "layout": {
          "annotationdefaults": {
           "arrowcolor": "#2a3f5f",
           "arrowhead": 0,
           "arrowwidth": 1
          },
          "coloraxis": {
           "colorbar": {
            "outlinewidth": 0,
            "ticks": ""
           }
          },
          "colorscale": {
           "diverging": [
            [
             0,
             "#8e0152"
            ],
            [
             0.1,
             "#c51b7d"
            ],
            [
             0.2,
             "#de77ae"
            ],
            [
             0.3,
             "#f1b6da"
            ],
            [
             0.4,
             "#fde0ef"
            ],
            [
             0.5,
             "#f7f7f7"
            ],
            [
             0.6,
             "#e6f5d0"
            ],
            [
             0.7,
             "#b8e186"
            ],
            [
             0.8,
             "#7fbc41"
            ],
            [
             0.9,
             "#4d9221"
            ],
            [
             1,
             "#276419"
            ]
           ],
           "sequential": [
            [
             0,
             "#0d0887"
            ],
            [
             0.1111111111111111,
             "#46039f"
            ],
            [
             0.2222222222222222,
             "#7201a8"
            ],
            [
             0.3333333333333333,
             "#9c179e"
            ],
            [
             0.4444444444444444,
             "#bd3786"
            ],
            [
             0.5555555555555556,
             "#d8576b"
            ],
            [
             0.6666666666666666,
             "#ed7953"
            ],
            [
             0.7777777777777778,
             "#fb9f3a"
            ],
            [
             0.8888888888888888,
             "#fdca26"
            ],
            [
             1,
             "#f0f921"
            ]
           ],
           "sequentialminus": [
            [
             0,
             "#0d0887"
            ],
            [
             0.1111111111111111,
             "#46039f"
            ],
            [
             0.2222222222222222,
             "#7201a8"
            ],
            [
             0.3333333333333333,
             "#9c179e"
            ],
            [
             0.4444444444444444,
             "#bd3786"
            ],
            [
             0.5555555555555556,
             "#d8576b"
            ],
            [
             0.6666666666666666,
             "#ed7953"
            ],
            [
             0.7777777777777778,
             "#fb9f3a"
            ],
            [
             0.8888888888888888,
             "#fdca26"
            ],
            [
             1,
             "#f0f921"
            ]
           ]
          },
          "colorway": [
           "#636efa",
           "#EF553B",
           "#00cc96",
           "#ab63fa",
           "#FFA15A",
           "#19d3f3",
           "#FF6692",
           "#B6E880",
           "#FF97FF",
           "#FECB52"
          ],
          "font": {
           "color": "#2a3f5f"
          },
          "geo": {
           "bgcolor": "white",
           "lakecolor": "white",
           "landcolor": "#E5ECF6",
           "showlakes": true,
           "showland": true,
           "subunitcolor": "white"
          },
          "hoverlabel": {
           "align": "left"
          },
          "hovermode": "closest",
          "mapbox": {
           "style": "light"
          },
          "paper_bgcolor": "white",
          "plot_bgcolor": "#E5ECF6",
          "polar": {
           "angularaxis": {
            "gridcolor": "white",
            "linecolor": "white",
            "ticks": ""
           },
           "bgcolor": "#E5ECF6",
           "radialaxis": {
            "gridcolor": "white",
            "linecolor": "white",
            "ticks": ""
           }
          },
          "scene": {
           "xaxis": {
            "backgroundcolor": "#E5ECF6",
            "gridcolor": "white",
            "gridwidth": 2,
            "linecolor": "white",
            "showbackground": true,
            "ticks": "",
            "zerolinecolor": "white"
           },
           "yaxis": {
            "backgroundcolor": "#E5ECF6",
            "gridcolor": "white",
            "gridwidth": 2,
            "linecolor": "white",
            "showbackground": true,
            "ticks": "",
            "zerolinecolor": "white"
           },
           "zaxis": {
            "backgroundcolor": "#E5ECF6",
            "gridcolor": "white",
            "gridwidth": 2,
            "linecolor": "white",
            "showbackground": true,
            "ticks": "",
            "zerolinecolor": "white"
           }
          },
          "shapedefaults": {
           "line": {
            "color": "#2a3f5f"
           }
          },
          "ternary": {
           "aaxis": {
            "gridcolor": "white",
            "linecolor": "white",
            "ticks": ""
           },
           "baxis": {
            "gridcolor": "white",
            "linecolor": "white",
            "ticks": ""
           },
           "bgcolor": "#E5ECF6",
           "caxis": {
            "gridcolor": "white",
            "linecolor": "white",
            "ticks": ""
           }
          },
          "title": {
           "x": 0.05
          },
          "xaxis": {
           "automargin": true,
           "gridcolor": "white",
           "linecolor": "white",
           "ticks": "",
           "title": {
            "standoff": 15
           },
           "zerolinecolor": "white",
           "zerolinewidth": 2
          },
          "yaxis": {
           "automargin": true,
           "gridcolor": "white",
           "linecolor": "white",
           "ticks": "",
           "title": {
            "standoff": 15
           },
           "zerolinecolor": "white",
           "zerolinewidth": 2
          }
         }
        },
        "title": {
         "text": "Mean predictions with linear kernel SVR"
        },
        "xaxis": {
         "anchor": "y",
         "domain": [
          0,
          1
         ],
         "title": {
          "text": "Date and time"
         }
        },
        "yaxis": {
         "anchor": "x",
         "domain": [
          0,
          1
         ],
         "title": {
          "text": "meter value reading"
         }
        }
       }
      },
      "text/html": [
       "<div>                            <div id=\"ba6ff2ae-e045-4b84-a245-f204e7bf6e2b\" class=\"plotly-graph-div\" style=\"height:525px; width:100%;\"></div>            <script type=\"text/javascript\">                require([\"plotly\"], function(Plotly) {                    window.PLOTLYENV=window.PLOTLYENV || {};                                    if (document.getElementById(\"ba6ff2ae-e045-4b84-a245-f204e7bf6e2b\")) {                    Plotly.newPlot(                        \"ba6ff2ae-e045-4b84-a245-f204e7bf6e2b\",                        [{\"name\": \"predictions\", \"type\": \"scatter\", \"x\": [\"2015-10-01T12:00:00+00:00\", \"2015-10-01T13:00:00+00:00\", \"2015-10-01T14:00:00+00:00\", \"2015-10-01T15:00:00+00:00\", \"2015-10-01T16:00:00+00:00\", \"2015-10-01T17:00:00+00:00\", \"2015-10-01T18:00:00+00:00\", \"2015-10-01T19:00:00+00:00\", \"2015-10-01T20:00:00+00:00\", \"2015-10-01T21:00:00+00:00\", \"2015-10-01T22:00:00+00:00\", \"2015-10-01T23:00:00+00:00\", \"2015-10-02T00:00:00+00:00\", \"2015-10-02T01:00:00+00:00\", \"2015-10-02T02:00:00+00:00\", \"2015-10-02T03:00:00+00:00\", \"2015-10-02T04:00:00+00:00\", \"2015-10-02T05:00:00+00:00\", \"2015-10-02T06:00:00+00:00\", \"2015-10-02T07:00:00+00:00\", \"2015-10-02T08:00:00+00:00\", \"2015-10-02T09:00:00+00:00\", \"2015-10-02T10:00:00+00:00\", \"2015-10-02T11:00:00+00:00\", \"2015-10-02T12:00:00+00:00\", \"2015-10-02T13:00:00+00:00\", \"2015-10-02T14:00:00+00:00\", \"2015-10-02T15:00:00+00:00\", \"2015-10-02T16:00:00+00:00\", \"2015-10-02T17:00:00+00:00\", \"2015-10-02T18:00:00+00:00\", \"2015-10-02T19:00:00+00:00\", \"2015-10-02T20:00:00+00:00\", \"2015-10-02T21:00:00+00:00\", \"2015-10-02T22:00:00+00:00\", \"2015-10-02T23:00:00+00:00\", \"2015-10-03T00:00:00+00:00\", \"2015-10-03T01:00:00+00:00\", \"2015-10-03T02:00:00+00:00\", \"2015-10-03T03:00:00+00:00\", \"2015-10-03T04:00:00+00:00\", \"2015-10-03T05:00:00+00:00\", \"2015-10-03T06:00:00+00:00\", \"2015-10-03T07:00:00+00:00\", \"2015-10-03T08:00:00+00:00\", \"2015-10-03T09:00:00+00:00\", \"2015-10-03T10:00:00+00:00\", \"2015-10-03T11:00:00+00:00\", \"2015-10-03T12:00:00+00:00\", \"2015-10-03T13:00:00+00:00\", \"2015-10-03T14:00:00+00:00\", \"2015-10-03T15:00:00+00:00\", \"2015-10-03T16:00:00+00:00\", \"2015-10-03T17:00:00+00:00\", \"2015-10-03T18:00:00+00:00\", \"2015-10-03T19:00:00+00:00\", \"2015-10-03T20:00:00+00:00\", \"2015-10-03T21:00:00+00:00\", \"2015-10-03T22:00:00+00:00\", \"2015-10-03T23:00:00+00:00\", \"2015-10-04T00:00:00+00:00\", \"2015-10-04T01:00:00+00:00\", \"2015-10-04T02:00:00+00:00\", \"2015-10-04T03:00:00+00:00\", \"2015-10-04T04:00:00+00:00\", \"2015-10-04T05:00:00+00:00\", \"2015-10-04T06:00:00+00:00\", \"2015-10-04T07:00:00+00:00\", \"2015-10-04T08:00:00+00:00\", \"2015-10-04T09:00:00+00:00\", \"2015-10-04T10:00:00+00:00\", \"2015-10-04T11:00:00+00:00\", \"2015-10-04T12:00:00+00:00\", \"2015-10-04T13:00:00+00:00\", \"2015-10-04T14:00:00+00:00\", \"2015-10-04T15:00:00+00:00\", \"2015-10-04T16:00:00+00:00\", \"2015-10-04T17:00:00+00:00\", \"2015-10-04T18:00:00+00:00\", \"2015-10-04T19:00:00+00:00\", \"2015-10-04T20:00:00+00:00\", \"2015-10-04T21:00:00+00:00\", \"2015-10-04T22:00:00+00:00\", \"2015-10-04T23:00:00+00:00\", \"2015-10-05T00:00:00+00:00\", \"2015-10-05T01:00:00+00:00\", \"2015-10-05T02:00:00+00:00\", \"2015-10-05T03:00:00+00:00\", \"2015-10-05T04:00:00+00:00\", \"2015-10-05T05:00:00+00:00\", \"2015-10-05T06:00:00+00:00\", \"2015-10-05T07:00:00+00:00\", \"2015-10-05T08:00:00+00:00\", \"2015-10-05T09:00:00+00:00\", \"2015-10-05T10:00:00+00:00\", \"2015-10-05T11:00:00+00:00\", \"2015-10-05T12:00:00+00:00\", \"2015-10-05T13:00:00+00:00\", \"2015-10-05T14:00:00+00:00\", \"2015-10-05T15:00:00+00:00\", \"2015-10-05T16:00:00+00:00\", \"2015-10-05T17:00:00+00:00\", \"2015-10-05T18:00:00+00:00\", \"2015-10-05T19:00:00+00:00\", \"2015-10-05T20:00:00+00:00\", \"2015-10-05T21:00:00+00:00\", \"2015-10-05T22:00:00+00:00\", \"2015-10-05T23:00:00+00:00\", \"2015-10-06T00:00:00+00:00\", \"2015-10-06T01:00:00+00:00\", \"2015-10-06T02:00:00+00:00\", \"2015-10-06T03:00:00+00:00\", \"2015-10-06T04:00:00+00:00\", \"2015-10-06T05:00:00+00:00\", \"2015-10-06T06:00:00+00:00\", \"2015-10-06T07:00:00+00:00\", \"2015-10-06T08:00:00+00:00\", \"2015-10-06T09:00:00+00:00\", \"2015-10-06T10:00:00+00:00\", \"2015-10-06T11:00:00+00:00\", \"2015-10-06T12:00:00+00:00\", \"2015-10-06T13:00:00+00:00\", \"2015-10-06T14:00:00+00:00\", \"2015-10-06T15:00:00+00:00\", \"2015-10-06T16:00:00+00:00\", \"2015-10-06T17:00:00+00:00\", \"2015-10-06T18:00:00+00:00\", \"2015-10-06T19:00:00+00:00\", \"2015-10-06T20:00:00+00:00\", \"2015-10-06T21:00:00+00:00\", \"2015-10-06T22:00:00+00:00\", \"2015-10-06T23:00:00+00:00\", \"2015-10-07T00:00:00+00:00\", \"2015-10-07T01:00:00+00:00\", \"2015-10-07T02:00:00+00:00\", \"2015-10-07T03:00:00+00:00\", \"2015-10-07T04:00:00+00:00\", \"2015-10-07T05:00:00+00:00\", \"2015-10-07T06:00:00+00:00\", \"2015-10-07T07:00:00+00:00\", \"2015-10-07T08:00:00+00:00\", \"2015-10-07T09:00:00+00:00\", \"2015-10-07T10:00:00+00:00\", \"2015-10-07T11:00:00+00:00\", \"2015-10-07T12:00:00+00:00\", \"2015-10-07T13:00:00+00:00\", \"2015-10-07T14:00:00+00:00\", \"2015-10-07T15:00:00+00:00\", \"2015-10-07T16:00:00+00:00\", \"2015-10-07T17:00:00+00:00\", \"2015-10-07T18:00:00+00:00\", \"2015-10-07T19:00:00+00:00\", \"2015-10-07T20:00:00+00:00\", \"2015-10-07T21:00:00+00:00\", \"2015-10-07T22:00:00+00:00\", \"2015-10-07T23:00:00+00:00\", \"2015-10-08T00:00:00+00:00\", \"2015-10-08T01:00:00+00:00\", \"2015-10-08T02:00:00+00:00\", \"2015-10-08T03:00:00+00:00\", \"2015-10-08T04:00:00+00:00\", \"2015-10-08T05:00:00+00:00\", \"2015-10-08T06:00:00+00:00\", \"2015-10-08T07:00:00+00:00\", \"2015-10-08T08:00:00+00:00\", \"2015-10-08T09:00:00+00:00\", \"2015-10-08T10:00:00+00:00\", \"2015-10-08T11:00:00+00:00\", \"2015-10-08T12:00:00+00:00\", \"2015-10-08T13:00:00+00:00\", \"2015-10-08T14:00:00+00:00\", \"2015-10-08T15:00:00+00:00\", \"2015-10-08T16:00:00+00:00\", \"2015-10-08T17:00:00+00:00\", \"2015-10-08T18:00:00+00:00\", \"2015-10-08T19:00:00+00:00\", \"2015-10-08T20:00:00+00:00\", \"2015-10-08T21:00:00+00:00\", \"2015-10-08T22:00:00+00:00\", \"2015-10-08T23:00:00+00:00\", \"2015-10-09T00:00:00+00:00\", \"2015-10-09T01:00:00+00:00\", \"2015-10-09T02:00:00+00:00\", \"2015-10-09T03:00:00+00:00\", \"2015-10-09T04:00:00+00:00\", \"2015-10-09T05:00:00+00:00\", \"2015-10-09T06:00:00+00:00\", \"2015-10-09T07:00:00+00:00\", \"2015-10-09T08:00:00+00:00\", \"2015-10-09T09:00:00+00:00\", \"2015-10-09T10:00:00+00:00\", \"2015-10-09T11:00:00+00:00\", \"2015-10-09T12:00:00+00:00\", \"2015-10-09T13:00:00+00:00\", \"2015-10-09T14:00:00+00:00\", \"2015-10-09T15:00:00+00:00\", \"2015-10-09T16:00:00+00:00\", \"2015-10-09T17:00:00+00:00\", \"2015-10-09T18:00:00+00:00\", \"2015-10-09T19:00:00+00:00\", \"2015-10-09T20:00:00+00:00\", \"2015-10-09T21:00:00+00:00\", \"2015-10-09T22:00:00+00:00\", \"2015-10-09T23:00:00+00:00\", \"2015-10-10T00:00:00+00:00\", \"2015-10-10T01:00:00+00:00\", \"2015-10-10T02:00:00+00:00\", \"2015-10-10T03:00:00+00:00\", \"2015-10-10T04:00:00+00:00\", \"2015-10-10T05:00:00+00:00\", \"2015-10-10T06:00:00+00:00\", \"2015-10-10T07:00:00+00:00\", \"2015-10-10T08:00:00+00:00\", \"2015-10-10T09:00:00+00:00\", \"2015-10-10T10:00:00+00:00\", \"2015-10-10T11:00:00+00:00\", \"2015-10-10T12:00:00+00:00\", \"2015-10-10T13:00:00+00:00\", \"2015-10-10T14:00:00+00:00\", \"2015-10-10T15:00:00+00:00\", \"2015-10-10T16:00:00+00:00\", \"2015-10-10T17:00:00+00:00\", \"2015-10-10T18:00:00+00:00\", \"2015-10-10T19:00:00+00:00\", \"2015-10-10T20:00:00+00:00\", \"2015-10-10T21:00:00+00:00\", \"2015-10-10T22:00:00+00:00\", \"2015-10-10T23:00:00+00:00\", \"2015-10-11T00:00:00+00:00\", \"2015-10-11T01:00:00+00:00\", \"2015-10-11T02:00:00+00:00\", \"2015-10-11T03:00:00+00:00\", \"2015-10-11T04:00:00+00:00\", \"2015-10-11T05:00:00+00:00\", \"2015-10-11T06:00:00+00:00\", \"2015-10-11T07:00:00+00:00\", \"2015-10-11T08:00:00+00:00\", \"2015-10-11T09:00:00+00:00\", \"2015-10-11T10:00:00+00:00\", \"2015-10-11T11:00:00+00:00\", \"2015-10-11T12:00:00+00:00\", \"2015-10-11T13:00:00+00:00\", \"2015-10-11T14:00:00+00:00\", \"2015-10-11T15:00:00+00:00\", \"2015-10-11T16:00:00+00:00\", \"2015-10-11T17:00:00+00:00\", \"2015-10-11T18:00:00+00:00\", \"2015-10-11T19:00:00+00:00\", \"2015-10-11T20:00:00+00:00\", \"2015-10-11T21:00:00+00:00\", \"2015-10-11T22:00:00+00:00\", \"2015-10-11T23:00:00+00:00\"], \"y\": [3.3243785702163406, 4.950677563654937, 5.491844505860401, 8.354726109034345, 9.468516363643, 9.199799848718664, 9.511652788728743, 10.654743696560535, 10.4898091784333, 11.430754877942926, 11.659497572744192, 13.25611308920841, 14.01692687210452, 15.129831493065454, 16.13317707536018, 19.382863918717685, 19.367264907755413, 19.990237280875792, 23.278172017370107, 24.08514363197756, 23.449736215538657, 24.761547242876468, 25.059862864290853, 25.677702900086217, 27.762679494425676, 29.166177341084666, 31.4556480837878, 32.57889897596181, 33.38785307879368, 34.06098617998051, 36.02685605471753, 35.79307179496225, 36.62578081637442, 38.18246453686589, 38.78778372379219, 39.83282441217679, 40.898275108823135, 40.68964414334, 42.09943650116356, 43.627345487632134, 43.552169631574586, 44.88814943940471, 45.158130878955674, 45.87680430921966, 46.043531463209575, 46.49627930041852, 46.582235056654326, 47.61693814856456, 47.477299987006774, 48.909353490916914, 51.04411918928226, 51.75097488330953, 53.14179030965164, 55.16591823338782, 55.86997510725888, 57.52593240047405, 59.217843650732306, 59.03789049968619, 60.126474575831125, 60.626649972565524, 62.16109596384022, 62.47783515725012, 63.885575412013004, 64.797241755256, 65.87631899870676, 66.30001507823702, 68.1741818043535, 68.23897242110891, 69.1119985630301, 69.27881616409633, 69.28615208651887, 69.88815731299896, 70.04036613492184, 71.05046960563072, 72.34469351053309, 73.7459608954664, 75.27244566422009, 77.22091118576411, 77.28935076096221, 79.11202160987693, 80.08932036087081, 80.15455058638018, 81.68833105273907, 81.90986607447044, 83.65843698504256, 87.15415974402747, 89.21416948039925, 91.22885258360283, 91.99653706784144, 93.45195780590312, 93.31216453188378, 94.45420661880921, 94.51940377828402, 94.74327997466276, 95.05852203158913, 96.01778731220284, 96.6797670201007, 99.14997389659142, 101.64185781660325, 101.58898978884586, 102.7907391419886, 104.36481998195099, 105.11495045614569, 104.90909383844551, 105.24452659279538, 106.52315319943837, 107.1916977120357, 108.03312991822308, 109.64998044228574, 110.98884944401352, 113.17020045492487, 113.42470379155226, 115.88019831967064, 116.66794115181254, 116.86050730754256, 117.19403197982116, 117.42180528937111, 118.18218611423748, 118.735057574144, 120.55063597832819, 121.18232889460108, 123.84542555598877, 126.36058535569605, 126.99967242092714, 127.73519235645355, 127.90353306896523, 128.64822536226075, 129.74765627166312, 129.70871482811654, 130.02922861083104, 130.72840371132656, 132.59371919952594, 132.7243578349031, 135.899876008102, 136.76216554690836, 138.2564977015202, 139.01546768430694, 139.7282645479453, 139.88021118536304, 140.73085321968307, 140.8192271452439, 141.01283397906755, 142.20278755262976, 142.3965916420732, 144.83400957251826, 146.62947528389617, 148.35695985502215, 151.26258209748488, 150.53714870418045, 152.14063067428236, 152.4561825938867, 152.63481319738193, 152.81129137889982, 153.15210390700835, 154.67936465574914, 154.85621376925008, 156.45086208977392, 156.92368703180028, 159.18369340900603, 161.38387801751054, 162.60278089234913, 162.1407680967448, 162.4571619907259, 162.47159504715793, 162.66099012681482, 163.10960670211733, 163.89512117802616, 164.26254994142562, 166.27037425269836, 167.8152891855162, 170.10609199307814, 171.30754567216323, 172.6020193351731, 173.82513675766057, 174.27346029740207, 175.04526549980343, 175.39303900912273, 176.70732877372257, 176.74987607264435, 177.87843774027763, 178.87687439906244, 181.330719182326, 181.74139780188096, 183.97766535810405, 184.49571135223783, 185.00152274840462, 186.60704916961802, 186.58958904704878, 186.84202353860195, 187.20228428002474, 187.3878434038015, 187.83243950693705, 190.43856161217687, 191.46248434133994, 192.96328116011617, 193.06808511294503, 194.45074859900836, 196.231473512293, 196.25732548398705, 196.47014963163693, 197.4269168464939, 198.40153052854475, 199.4844959674854, 199.6306970607498, 201.87430983529876, 203.56196975234684, 204.41559217822328, 204.82808654007383, 205.3375967974661, 206.83907420826844, 207.92245343704752, 207.76705071675838, 208.45948842991274, 209.17944327044324, 209.18503790112948, 209.6655027654431, 210.43523844331142, 210.97430739488948, 212.49003774593803, 214.00383360703685, 215.0811904892902, 217.56510741218125, 219.32243595699254, 219.56458434336443, 220.13744010386029, 220.6247365561743, 221.745994029869, 222.82054264615007, 224.81154537629178, 225.5839003086524, 226.76272799858504, 227.05158683942372, 227.88951898915823, 228.93702352568198, 230.09713473494932, 230.93648445022697, 230.7765998124763, 231.44828160504167, 231.45255325861535, 231.68582465741503, 232.15768571314578, 232.7578676965196, 233.55444977570525, 235.03098403554065, 238.6757990159729, 239.01632454755494, 240.76524060893652, 241.70055253746875, 243.66882792996566, 245.64699870453052, 248.91990267188015, 248.05226788490998]}, {\"name\": \"mean\", \"type\": \"scatter\", \"x\": [\"2015-10-01T05:00:00+00:00\", \"2015-10-01T06:00:00+00:00\", \"2015-10-01T07:00:00+00:00\", \"2015-10-01T08:00:00+00:00\", \"2015-10-01T09:00:00+00:00\", \"2015-10-01T10:00:00+00:00\", \"2015-10-01T11:00:00+00:00\", \"2015-10-01T12:00:00+00:00\", \"2015-10-01T13:00:00+00:00\", \"2015-10-01T14:00:00+00:00\", \"2015-10-01T15:00:00+00:00\", \"2015-10-01T16:00:00+00:00\", \"2015-10-01T17:00:00+00:00\", \"2015-10-01T18:00:00+00:00\", \"2015-10-01T19:00:00+00:00\", \"2015-10-01T20:00:00+00:00\", \"2015-10-01T21:00:00+00:00\", \"2015-10-01T22:00:00+00:00\", \"2015-10-01T23:00:00+00:00\", \"2015-10-02T00:00:00+00:00\", \"2015-10-02T01:00:00+00:00\", \"2015-10-02T02:00:00+00:00\", \"2015-10-02T03:00:00+00:00\", \"2015-10-02T04:00:00+00:00\", \"2015-10-02T05:00:00+00:00\", \"2015-10-02T06:00:00+00:00\", \"2015-10-02T07:00:00+00:00\", \"2015-10-02T08:00:00+00:00\", \"2015-10-02T09:00:00+00:00\", \"2015-10-02T10:00:00+00:00\", \"2015-10-02T11:00:00+00:00\", \"2015-10-02T12:00:00+00:00\", \"2015-10-02T13:00:00+00:00\", \"2015-10-02T14:00:00+00:00\", \"2015-10-02T15:00:00+00:00\", \"2015-10-02T16:00:00+00:00\", \"2015-10-02T17:00:00+00:00\", \"2015-10-02T18:00:00+00:00\", \"2015-10-02T19:00:00+00:00\", \"2015-10-02T20:00:00+00:00\", \"2015-10-02T21:00:00+00:00\", \"2015-10-02T22:00:00+00:00\", \"2015-10-02T23:00:00+00:00\", \"2015-10-03T00:00:00+00:00\", \"2015-10-03T01:00:00+00:00\", \"2015-10-03T02:00:00+00:00\", \"2015-10-03T03:00:00+00:00\", \"2015-10-03T04:00:00+00:00\", \"2015-10-03T05:00:00+00:00\", \"2015-10-03T06:00:00+00:00\", \"2015-10-03T07:00:00+00:00\", \"2015-10-03T08:00:00+00:00\", \"2015-10-03T09:00:00+00:00\", \"2015-10-03T10:00:00+00:00\", \"2015-10-03T11:00:00+00:00\", \"2015-10-03T12:00:00+00:00\", \"2015-10-03T13:00:00+00:00\", \"2015-10-03T14:00:00+00:00\", \"2015-10-03T15:00:00+00:00\", \"2015-10-03T16:00:00+00:00\", \"2015-10-03T17:00:00+00:00\", \"2015-10-03T18:00:00+00:00\", \"2015-10-03T19:00:00+00:00\", \"2015-10-03T20:00:00+00:00\", \"2015-10-03T21:00:00+00:00\", \"2015-10-03T22:00:00+00:00\", \"2015-10-03T23:00:00+00:00\", \"2015-10-04T00:00:00+00:00\", \"2015-10-04T01:00:00+00:00\", \"2015-10-04T02:00:00+00:00\", \"2015-10-04T03:00:00+00:00\", \"2015-10-04T04:00:00+00:00\", \"2015-10-04T05:00:00+00:00\", \"2015-10-04T06:00:00+00:00\", \"2015-10-04T07:00:00+00:00\", \"2015-10-04T08:00:00+00:00\", \"2015-10-04T09:00:00+00:00\", \"2015-10-04T10:00:00+00:00\", \"2015-10-04T11:00:00+00:00\", \"2015-10-04T12:00:00+00:00\", \"2015-10-04T13:00:00+00:00\", \"2015-10-04T14:00:00+00:00\", \"2015-10-04T15:00:00+00:00\", \"2015-10-04T16:00:00+00:00\", \"2015-10-04T17:00:00+00:00\", \"2015-10-04T18:00:00+00:00\", \"2015-10-04T19:00:00+00:00\", \"2015-10-04T20:00:00+00:00\", \"2015-10-04T21:00:00+00:00\", \"2015-10-04T22:00:00+00:00\", \"2015-10-04T23:00:00+00:00\", \"2015-10-05T00:00:00+00:00\", \"2015-10-05T01:00:00+00:00\", \"2015-10-05T02:00:00+00:00\", \"2015-10-05T03:00:00+00:00\", \"2015-10-05T04:00:00+00:00\", \"2015-10-05T05:00:00+00:00\", \"2015-10-05T06:00:00+00:00\", \"2015-10-05T07:00:00+00:00\", \"2015-10-05T08:00:00+00:00\", \"2015-10-05T09:00:00+00:00\", \"2015-10-05T10:00:00+00:00\", \"2015-10-05T11:00:00+00:00\", \"2015-10-05T12:00:00+00:00\", \"2015-10-05T13:00:00+00:00\", \"2015-10-05T14:00:00+00:00\", \"2015-10-05T15:00:00+00:00\", \"2015-10-05T16:00:00+00:00\", \"2015-10-05T17:00:00+00:00\", \"2015-10-05T18:00:00+00:00\", \"2015-10-05T19:00:00+00:00\", \"2015-10-05T20:00:00+00:00\", \"2015-10-05T21:00:00+00:00\", \"2015-10-05T22:00:00+00:00\", \"2015-10-05T23:00:00+00:00\", \"2015-10-06T00:00:00+00:00\", \"2015-10-06T01:00:00+00:00\", \"2015-10-06T02:00:00+00:00\", \"2015-10-06T03:00:00+00:00\", \"2015-10-06T04:00:00+00:00\", \"2015-10-06T05:00:00+00:00\", \"2015-10-06T06:00:00+00:00\", \"2015-10-06T07:00:00+00:00\", \"2015-10-06T08:00:00+00:00\", \"2015-10-06T09:00:00+00:00\", \"2015-10-06T10:00:00+00:00\", \"2015-10-06T11:00:00+00:00\", \"2015-10-06T12:00:00+00:00\", \"2015-10-06T13:00:00+00:00\", \"2015-10-06T14:00:00+00:00\", \"2015-10-06T15:00:00+00:00\", \"2015-10-06T16:00:00+00:00\", \"2015-10-06T17:00:00+00:00\", \"2015-10-06T18:00:00+00:00\", \"2015-10-06T19:00:00+00:00\", \"2015-10-06T20:00:00+00:00\", \"2015-10-06T21:00:00+00:00\", \"2015-10-06T22:00:00+00:00\", \"2015-10-06T23:00:00+00:00\", \"2015-10-07T00:00:00+00:00\", \"2015-10-07T01:00:00+00:00\", \"2015-10-07T02:00:00+00:00\", \"2015-10-07T03:00:00+00:00\", \"2015-10-07T04:00:00+00:00\", \"2015-10-07T05:00:00+00:00\", \"2015-10-07T06:00:00+00:00\", \"2015-10-07T07:00:00+00:00\", \"2015-10-07T08:00:00+00:00\", \"2015-10-07T09:00:00+00:00\", \"2015-10-07T10:00:00+00:00\", \"2015-10-07T11:00:00+00:00\", \"2015-10-07T12:00:00+00:00\", \"2015-10-07T13:00:00+00:00\", \"2015-10-07T14:00:00+00:00\", \"2015-10-07T15:00:00+00:00\", \"2015-10-07T16:00:00+00:00\", \"2015-10-07T17:00:00+00:00\", \"2015-10-07T18:00:00+00:00\", \"2015-10-07T19:00:00+00:00\", \"2015-10-07T20:00:00+00:00\", \"2015-10-07T21:00:00+00:00\", \"2015-10-07T22:00:00+00:00\", \"2015-10-07T23:00:00+00:00\", \"2015-10-08T00:00:00+00:00\", \"2015-10-08T01:00:00+00:00\", \"2015-10-08T02:00:00+00:00\", \"2015-10-08T03:00:00+00:00\", \"2015-10-08T04:00:00+00:00\", \"2015-10-08T05:00:00+00:00\", \"2015-10-08T06:00:00+00:00\", \"2015-10-08T07:00:00+00:00\", \"2015-10-08T08:00:00+00:00\", \"2015-10-08T09:00:00+00:00\", \"2015-10-08T10:00:00+00:00\", \"2015-10-08T11:00:00+00:00\", \"2015-10-08T12:00:00+00:00\", \"2015-10-08T13:00:00+00:00\", \"2015-10-08T14:00:00+00:00\", \"2015-10-08T15:00:00+00:00\", \"2015-10-08T16:00:00+00:00\", \"2015-10-08T17:00:00+00:00\", \"2015-10-08T18:00:00+00:00\", \"2015-10-08T19:00:00+00:00\", \"2015-10-08T20:00:00+00:00\", \"2015-10-08T21:00:00+00:00\", \"2015-10-08T22:00:00+00:00\", \"2015-10-08T23:00:00+00:00\", \"2015-10-09T00:00:00+00:00\", \"2015-10-09T01:00:00+00:00\", \"2015-10-09T02:00:00+00:00\", \"2015-10-09T03:00:00+00:00\", \"2015-10-09T04:00:00+00:00\", \"2015-10-09T05:00:00+00:00\", \"2015-10-09T06:00:00+00:00\", \"2015-10-09T07:00:00+00:00\", \"2015-10-09T08:00:00+00:00\", \"2015-10-09T09:00:00+00:00\", \"2015-10-09T10:00:00+00:00\", \"2015-10-09T11:00:00+00:00\", \"2015-10-09T12:00:00+00:00\", \"2015-10-09T13:00:00+00:00\", \"2015-10-09T14:00:00+00:00\", \"2015-10-09T15:00:00+00:00\", \"2015-10-09T16:00:00+00:00\", \"2015-10-09T17:00:00+00:00\", \"2015-10-09T18:00:00+00:00\", \"2015-10-09T19:00:00+00:00\", \"2015-10-09T20:00:00+00:00\", \"2015-10-09T21:00:00+00:00\", \"2015-10-09T22:00:00+00:00\", \"2015-10-09T23:00:00+00:00\", \"2015-10-10T00:00:00+00:00\", \"2015-10-10T01:00:00+00:00\", \"2015-10-10T02:00:00+00:00\", \"2015-10-10T03:00:00+00:00\", \"2015-10-10T04:00:00+00:00\", \"2015-10-10T05:00:00+00:00\", \"2015-10-10T06:00:00+00:00\", \"2015-10-10T07:00:00+00:00\", \"2015-10-10T08:00:00+00:00\", \"2015-10-10T09:00:00+00:00\", \"2015-10-10T10:00:00+00:00\", \"2015-10-10T11:00:00+00:00\", \"2015-10-10T12:00:00+00:00\", \"2015-10-10T13:00:00+00:00\", \"2015-10-10T14:00:00+00:00\", \"2015-10-10T15:00:00+00:00\", \"2015-10-10T16:00:00+00:00\", \"2015-10-10T17:00:00+00:00\", \"2015-10-10T18:00:00+00:00\", \"2015-10-10T19:00:00+00:00\", \"2015-10-10T20:00:00+00:00\", \"2015-10-10T21:00:00+00:00\", \"2015-10-10T22:00:00+00:00\", \"2015-10-10T23:00:00+00:00\", \"2015-10-11T00:00:00+00:00\", \"2015-10-11T01:00:00+00:00\", \"2015-10-11T02:00:00+00:00\", \"2015-10-11T03:00:00+00:00\", \"2015-10-11T04:00:00+00:00\", \"2015-10-11T05:00:00+00:00\", \"2015-10-11T06:00:00+00:00\", \"2015-10-11T07:00:00+00:00\", \"2015-10-11T08:00:00+00:00\", \"2015-10-11T09:00:00+00:00\", \"2015-10-11T10:00:00+00:00\", \"2015-10-11T11:00:00+00:00\", \"2015-10-11T12:00:00+00:00\", \"2015-10-11T13:00:00+00:00\", \"2015-10-11T14:00:00+00:00\"], \"y\": [0.21360544217687075, 0.617831871704505, 0.7380667935066665, 0.9987810792209522, 1.0944450358605187, 1.5407107331506706, 2.413755335607038, 3.6756779410780305, 4.54475140463939, 6.473492264279127, 7.943183622303819, 8.502518914606144, 8.938339869250628, 9.745206286229404, 10.029069800991795, 10.668972799228127, 11.076734804664552, 12.118100094467342, 13.08877028847087, 14.135560854226954, 15.151207971659787, 17.347453174646564, 18.34499012045937, 19.167936374984574, 21.286720302697073, 22.6855575119994, 23.02245760537008, 23.884345299515836, 24.432022184034825, 25.024968501138446, 26.400173157593102, 27.77273802510179, 29.63005270355049, 31.082278411675073, 32.19945517711809, 33.08035153566151, 34.53666154937893, 35.08294331784969, 35.797574503657344, 36.94519214782671, 37.79732343389629, 38.75441026863018, 39.85639726663794, 40.25885119840222, 41.20449447708121, 42.44079605495142, 42.97760668618066, 43.94628167132623, 44.528634812012704, 45.19094928325575, 45.58200930879853, 46.00869540907596, 46.24879178095805, 46.91053420520048, 47.13478564820192, 48.005614973255504, 49.526251901862075, 50.60360697432584, 51.85169415221694, 53.49936540279201, 54.63786202749553, 56.05718549472597, 57.60796024907216, 58.23842574317401, 59.12465409815237, 59.7932488693942, 61.0214825486588, 61.75030324169574, 62.847395973525316, 63.83108166767612, 64.8668170434115, 65.57148719210339, 66.8986356846365, 67.53960790685872, 68.31638693307595, 68.75832696834931, 68.97555693167303, 69.39503745115354, 69.66539361014607, 70.32811847787093, 71.31248340663814, 72.50967183224762, 73.87304530424178, 75.53882385317823, 76.34851428900502, 77.70778809648299, 78.84558465177955, 79.42086389928102, 80.50769098293206, 81.12089028363137, 82.44109865187895, 84.89236737038904, 87.1153463294145, 89.230273930549, 90.6244188075452, 92.06122289493068, 92.65550717274436, 93.5549400396191, 93.99902457265712, 94.33554915918171, 94.65585801699056, 95.31220807216415, 95.96143113587523, 97.57283223477633, 99.62693571791208, 100.55634393047247, 101.64572475167147, 102.97857860194105, 103.99892884348695, 104.37207243042364, 104.73143641383825, 105.57256195496379, 106.31139733930479, 107.1045281548494, 108.42307578162487, 109.73892011132463, 111.51121367294404, 112.46475594839643, 114.22744722537342, 115.44915029880063, 116.1383692171372, 116.64012360310211, 116.99618420916272, 117.56643510522007, 118.11947743326239, 119.33905415283911, 120.22956618398082, 122.06412201516586, 124.23330402789627, 125.58658133882064, 126.6220369401299, 127.19566608875905, 127.86650582250202, 128.75782881323678, 129.15024889315686, 129.510642345858, 130.04425247875076, 131.27771835744136, 132.00672934645235, 134.03956193209393, 135.41868673321872, 136.87450793079026, 137.94817414146058, 138.83673470370536, 139.3327812953549, 140.02084852224564, 140.38265260963112, 140.65983514931366, 141.41610755074737, 141.8621166856454, 143.36722120065343, 144.9988033262573, 146.68020387015784, 149.00169416032284, 149.69259280416267, 150.89651916454065, 151.60701105360397, 152.04937137527463, 152.34808469898795, 152.66859607426977, 153.62435232312947, 154.1519490853416, 155.3478068674063, 156.13973356815652, 157.71737633570123, 159.60160876993368, 161.12820637867415, 161.60250454238408, 162.00668754892004, 162.19881248937034, 162.39319157433766, 162.71759494874104, 163.28056392421, 163.73188667553276, 165.00634104061214, 166.40295235522345, 168.27064515624957, 169.76979193969868, 171.16500758547613, 172.46377647303814, 173.31082773095895, 174.1226494363853, 174.68384171632758, 175.6463056412915, 176.1088820860108, 176.93237005637377, 177.9304220044257, 179.69563211919723, 180.72396086116234, 182.40471786944744, 183.447190987727, 184.21898112940352, 185.42856807024046, 185.97704778201805, 186.38012927568778, 186.7549799327965, 187.0279690535384, 187.3902295899369, 188.93510652947674, 190.17810963110054, 191.56389384054773, 192.25870473141126, 193.32881352399195, 194.7608281760066, 195.44111830833847, 195.88421203631592, 196.5955421239065, 197.43904714496256, 198.4048323824087, 198.9296339697103, 200.4657095281388, 202.05646976205693, 203.2574299130171, 204.04059713339362, 204.6809989430708, 205.776026138098, 206.85315284736757, 207.2760730998059, 207.84849917309404, 208.48961780623395, 208.79180444073765, 209.19062278288933, 209.77843457427255, 210.33445429529226, 211.39586193527134, 212.68239036895886, 213.85195661189468, 215.71502145710238, 217.50346970295803, 218.47345357529485, 219.2418196898566, 219.85810382846162, 220.74303298199544, 221.71939237423717, 223.32547123989195, 224.47319675286136, 225.64436542005274, 226.33946964648226, 227.11714349379895, 228.03014509893538, 229.06956085114183, 229.9968004059676, 230.3462936169066, 230.87257756587096, 231.11301684235676, 231.35399512333504, 231.71143565954145, 232.19229319152257, 232.8344935199298, 233.91162908099793]}, {\"name\": \"long_term_prediction\", \"type\": \"scatter\", \"x\": [\"2015-10-02T01:00:00+00:00\", \"2015-10-02T02:00:00+00:00\", \"2015-10-02T03:00:00+00:00\", \"2015-10-02T04:00:00+00:00\", \"2015-10-02T05:00:00+00:00\", \"2015-10-02T06:00:00+00:00\", \"2015-10-02T07:00:00+00:00\", \"2015-10-02T08:00:00+00:00\", \"2015-10-02T09:00:00+00:00\", \"2015-10-02T10:00:00+00:00\", \"2015-10-02T11:00:00+00:00\", \"2015-10-02T12:00:00+00:00\", \"2015-10-02T13:00:00+00:00\", \"2015-10-02T14:00:00+00:00\", \"2015-10-02T15:00:00+00:00\", \"2015-10-02T16:00:00+00:00\", \"2015-10-02T17:00:00+00:00\", \"2015-10-02T18:00:00+00:00\", \"2015-10-02T19:00:00+00:00\", \"2015-10-02T20:00:00+00:00\", \"2015-10-02T21:00:00+00:00\", \"2015-10-02T22:00:00+00:00\", \"2015-10-02T23:00:00+00:00\", \"2015-10-03T00:00:00+00:00\", \"2015-10-03T01:00:00+00:00\", \"2015-10-03T02:00:00+00:00\", \"2015-10-03T03:00:00+00:00\", \"2015-10-03T04:00:00+00:00\", \"2015-10-03T05:00:00+00:00\", \"2015-10-03T06:00:00+00:00\", \"2015-10-03T07:00:00+00:00\", \"2015-10-03T08:00:00+00:00\", \"2015-10-03T09:00:00+00:00\", \"2015-10-03T10:00:00+00:00\", \"2015-10-03T11:00:00+00:00\", \"2015-10-03T12:00:00+00:00\", \"2015-10-03T13:00:00+00:00\", \"2015-10-03T14:00:00+00:00\", \"2015-10-03T15:00:00+00:00\", \"2015-10-03T16:00:00+00:00\", \"2015-10-03T17:00:00+00:00\", \"2015-10-03T18:00:00+00:00\", \"2015-10-03T19:00:00+00:00\", \"2015-10-03T20:00:00+00:00\", \"2015-10-03T21:00:00+00:00\", \"2015-10-03T22:00:00+00:00\", \"2015-10-03T23:00:00+00:00\", \"2015-10-04T00:00:00+00:00\", \"2015-10-04T01:00:00+00:00\", \"2015-10-04T02:00:00+00:00\", \"2015-10-04T03:00:00+00:00\", \"2015-10-04T04:00:00+00:00\", \"2015-10-04T05:00:00+00:00\", \"2015-10-04T06:00:00+00:00\", \"2015-10-04T07:00:00+00:00\", \"2015-10-04T08:00:00+00:00\", \"2015-10-04T09:00:00+00:00\", \"2015-10-04T10:00:00+00:00\", \"2015-10-04T11:00:00+00:00\", \"2015-10-04T12:00:00+00:00\", \"2015-10-04T13:00:00+00:00\", \"2015-10-04T14:00:00+00:00\", \"2015-10-04T15:00:00+00:00\", \"2015-10-04T16:00:00+00:00\", \"2015-10-04T17:00:00+00:00\", \"2015-10-04T18:00:00+00:00\", \"2015-10-04T19:00:00+00:00\", \"2015-10-04T20:00:00+00:00\", \"2015-10-04T21:00:00+00:00\", \"2015-10-04T22:00:00+00:00\", \"2015-10-04T23:00:00+00:00\", \"2015-10-05T00:00:00+00:00\", \"2015-10-05T01:00:00+00:00\", \"2015-10-05T02:00:00+00:00\", \"2015-10-05T03:00:00+00:00\", \"2015-10-05T04:00:00+00:00\", \"2015-10-05T05:00:00+00:00\", \"2015-10-05T06:00:00+00:00\", \"2015-10-05T07:00:00+00:00\", \"2015-10-05T08:00:00+00:00\", \"2015-10-05T09:00:00+00:00\", \"2015-10-05T10:00:00+00:00\", \"2015-10-05T11:00:00+00:00\", \"2015-10-05T12:00:00+00:00\", \"2015-10-05T13:00:00+00:00\", \"2015-10-05T14:00:00+00:00\", \"2015-10-05T15:00:00+00:00\", \"2015-10-05T16:00:00+00:00\", \"2015-10-05T17:00:00+00:00\", \"2015-10-05T18:00:00+00:00\", \"2015-10-05T19:00:00+00:00\", \"2015-10-05T20:00:00+00:00\", \"2015-10-05T21:00:00+00:00\", \"2015-10-05T22:00:00+00:00\", \"2015-10-05T23:00:00+00:00\", \"2015-10-06T00:00:00+00:00\", \"2015-10-06T01:00:00+00:00\", \"2015-10-06T02:00:00+00:00\", \"2015-10-06T03:00:00+00:00\", \"2015-10-06T04:00:00+00:00\", \"2015-10-06T05:00:00+00:00\", \"2015-10-06T06:00:00+00:00\", \"2015-10-06T07:00:00+00:00\", \"2015-10-06T08:00:00+00:00\", \"2015-10-06T09:00:00+00:00\", \"2015-10-06T10:00:00+00:00\", \"2015-10-06T11:00:00+00:00\", \"2015-10-06T12:00:00+00:00\", \"2015-10-06T13:00:00+00:00\", \"2015-10-06T14:00:00+00:00\", \"2015-10-06T15:00:00+00:00\", \"2015-10-06T16:00:00+00:00\", \"2015-10-06T17:00:00+00:00\", \"2015-10-06T18:00:00+00:00\", \"2015-10-06T19:00:00+00:00\", \"2015-10-06T20:00:00+00:00\", \"2015-10-06T21:00:00+00:00\", \"2015-10-06T22:00:00+00:00\", \"2015-10-06T23:00:00+00:00\", \"2015-10-07T00:00:00+00:00\", \"2015-10-07T01:00:00+00:00\", \"2015-10-07T02:00:00+00:00\", \"2015-10-07T03:00:00+00:00\", \"2015-10-07T04:00:00+00:00\", \"2015-10-07T05:00:00+00:00\", \"2015-10-07T06:00:00+00:00\", \"2015-10-07T07:00:00+00:00\", \"2015-10-07T08:00:00+00:00\", \"2015-10-07T09:00:00+00:00\", \"2015-10-07T10:00:00+00:00\", \"2015-10-07T11:00:00+00:00\", \"2015-10-07T12:00:00+00:00\", \"2015-10-07T13:00:00+00:00\", \"2015-10-07T14:00:00+00:00\", \"2015-10-07T15:00:00+00:00\", \"2015-10-07T16:00:00+00:00\", \"2015-10-07T17:00:00+00:00\", \"2015-10-07T18:00:00+00:00\", \"2015-10-07T19:00:00+00:00\", \"2015-10-07T20:00:00+00:00\", \"2015-10-07T21:00:00+00:00\", \"2015-10-07T22:00:00+00:00\", \"2015-10-07T23:00:00+00:00\", \"2015-10-08T00:00:00+00:00\"], \"y\": [15.129831493065454, 16.092823717286617, 17.032646886181357, 17.959288563534333, 18.880836722992495, 19.804920421728177, 20.738585516895355, 21.688371345725376, 22.660336596283162, 23.660096175834266, 24.69285341086171, 25.76343030875674, 26.876295486951538, 28.035590074703045, 29.245151712652568, 30.508536794574585, 31.829041078918937, 33.209718789844864, 34.653400318399584, 36.1627086264429, 37.74007444838678, 39.38775037885416, 41.10782392790385, 42.72037008471526, 44.24759609221419, 45.70271503030373, 47.09964949666037, 48.44979539065429, 49.763828357400165, 51.05162435795745, 52.32234774330909, 53.584489891478434, 54.845920062755845, 56.11393070764085, 57.39527985334416, 58.69623025358547, 60.022585688211926, 61.37972459876333, 62.77263126014957, 64.20592466767859, 65.68388530709414, 67.21047996272365, 68.78938470752777, 70.42400620829162, 72.11750146943511, 73.8727961298705, 75.6926014189488, 77.39757033499637, 79.01044576987294, 80.54493719663027, 82.01542722722367, 83.43373806250894, 84.81094040698261, 86.15727632860374, 87.48224945459599, 88.79466557488708, 90.10268531955327, 91.41387115543557, 92.73523133755891, 94.07326050916005, 95.43397734525387, 96.82295943365341, 98.24537560082716, 99.7060158685212, 101.20931921500448, 102.759399301782, 104.36006831489155, 106.01485905895714, 107.72704543204874, 109.4996614000131, 111.33551858024408, 113.05536300203201, 114.68202377029554, 116.22929025290017, 117.71161910141117, 119.14090113019739, 120.52827062883063, 121.88402859042355, 123.21773324894072, 124.53824099911895, 125.85375936719906, 127.17189427933519, 128.4996942648886, 129.84369128987097, 131.2099386168201, 132.60404588627665, 134.03121162840756, 135.49625339178004, 137.0036356641424, 138.5574957469809, 140.16166773382537, 141.8197047312705, 143.53489945149843, 145.31030329564948, 147.148744038641, 148.87098268316004, 150.4998622101755, 152.04918484667732, 153.53341916095616, 154.9644670107723, 156.3534729197585, 157.71074736507086, 159.04585736966587, 160.3676674731587, 161.68439274975958, 163.0036461204286, 164.33248259670876, 165.6774401517376, 167.04457761493825, 168.43950978575958, 169.86743997519895, 171.33319016228407, 172.8412289405312, 174.39569741629768, 176.00043320913898, 177.65899269326573, 179.3746716090042, 181.15052416371697, 182.98938073288582, 184.7120047291761, 186.34124136691645, 187.89089494278156, 189.37543594306715, 190.80676800297482, 192.1960372933164, 193.5535558177112, 194.88889201370995, 196.21091173185147, 197.5278312611968, 198.8472646485248, 200.17626794868994, 201.52138010168085, 202.8886608329145, 204.28372577216962, 205.71177899992142, 207.17764320828326, 208.68578765159754, 210.24035404861812, 211.84518058641675, 213.50382416512903, 215.2195810124631, 216.99550578744493, 218.83442928411887, 220.55711530303793]}],                        {\"legend\": {\"title\": {\"text\": \"Data Category\"}, \"tracegroupgap\": 0}, \"margin\": {\"t\": 60}, \"template\": {\"data\": {\"bar\": [{\"error_x\": {\"color\": \"#2a3f5f\"}, \"error_y\": {\"color\": \"#2a3f5f\"}, \"marker\": {\"line\": {\"color\": \"#E5ECF6\", \"width\": 0.5}}, \"type\": \"bar\"}], \"barpolar\": [{\"marker\": {\"line\": {\"color\": \"#E5ECF6\", \"width\": 0.5}}, \"type\": \"barpolar\"}], \"carpet\": [{\"aaxis\": {\"endlinecolor\": \"#2a3f5f\", \"gridcolor\": \"white\", \"linecolor\": \"white\", \"minorgridcolor\": \"white\", \"startlinecolor\": \"#2a3f5f\"}, \"baxis\": {\"endlinecolor\": \"#2a3f5f\", \"gridcolor\": \"white\", \"linecolor\": \"white\", \"minorgridcolor\": \"white\", \"startlinecolor\": \"#2a3f5f\"}, \"type\": \"carpet\"}], \"choropleth\": [{\"colorbar\": {\"outlinewidth\": 0, \"ticks\": \"\"}, \"type\": \"choropleth\"}], \"contour\": [{\"colorbar\": {\"outlinewidth\": 0, \"ticks\": \"\"}, \"colorscale\": [[0.0, \"#0d0887\"], [0.1111111111111111, \"#46039f\"], [0.2222222222222222, \"#7201a8\"], [0.3333333333333333, \"#9c179e\"], [0.4444444444444444, \"#bd3786\"], [0.5555555555555556, \"#d8576b\"], [0.6666666666666666, \"#ed7953\"], [0.7777777777777778, \"#fb9f3a\"], [0.8888888888888888, \"#fdca26\"], [1.0, \"#f0f921\"]], \"type\": \"contour\"}], \"contourcarpet\": [{\"colorbar\": {\"outlinewidth\": 0, \"ticks\": \"\"}, \"type\": \"contourcarpet\"}], \"heatmap\": [{\"colorbar\": {\"outlinewidth\": 0, \"ticks\": \"\"}, \"colorscale\": [[0.0, \"#0d0887\"], [0.1111111111111111, \"#46039f\"], [0.2222222222222222, \"#7201a8\"], [0.3333333333333333, \"#9c179e\"], [0.4444444444444444, \"#bd3786\"], [0.5555555555555556, \"#d8576b\"], [0.6666666666666666, \"#ed7953\"], [0.7777777777777778, \"#fb9f3a\"], [0.8888888888888888, \"#fdca26\"], [1.0, \"#f0f921\"]], \"type\": \"heatmap\"}], \"heatmapgl\": [{\"colorbar\": {\"outlinewidth\": 0, \"ticks\": \"\"}, \"colorscale\": [[0.0, \"#0d0887\"], [0.1111111111111111, \"#46039f\"], [0.2222222222222222, \"#7201a8\"], [0.3333333333333333, \"#9c179e\"], [0.4444444444444444, \"#bd3786\"], [0.5555555555555556, \"#d8576b\"], [0.6666666666666666, \"#ed7953\"], [0.7777777777777778, \"#fb9f3a\"], [0.8888888888888888, \"#fdca26\"], [1.0, \"#f0f921\"]], \"type\": \"heatmapgl\"}], \"histogram\": [{\"marker\": {\"colorbar\": {\"outlinewidth\": 0, \"ticks\": \"\"}}, \"type\": \"histogram\"}], \"histogram2d\": [{\"colorbar\": {\"outlinewidth\": 0, \"ticks\": \"\"}, \"colorscale\": [[0.0, \"#0d0887\"], [0.1111111111111111, \"#46039f\"], [0.2222222222222222, \"#7201a8\"], [0.3333333333333333, \"#9c179e\"], [0.4444444444444444, \"#bd3786\"], [0.5555555555555556, \"#d8576b\"], [0.6666666666666666, \"#ed7953\"], [0.7777777777777778, \"#fb9f3a\"], [0.8888888888888888, \"#fdca26\"], [1.0, \"#f0f921\"]], \"type\": \"histogram2d\"}], \"histogram2dcontour\": [{\"colorbar\": {\"outlinewidth\": 0, \"ticks\": \"\"}, \"colorscale\": [[0.0, \"#0d0887\"], [0.1111111111111111, \"#46039f\"], [0.2222222222222222, \"#7201a8\"], [0.3333333333333333, \"#9c179e\"], [0.4444444444444444, \"#bd3786\"], [0.5555555555555556, \"#d8576b\"], [0.6666666666666666, \"#ed7953\"], [0.7777777777777778, \"#fb9f3a\"], [0.8888888888888888, \"#fdca26\"], [1.0, \"#f0f921\"]], \"type\": \"histogram2dcontour\"}], \"mesh3d\": [{\"colorbar\": {\"outlinewidth\": 0, \"ticks\": \"\"}, \"type\": \"mesh3d\"}], \"parcoords\": [{\"line\": {\"colorbar\": {\"outlinewidth\": 0, \"ticks\": \"\"}}, \"type\": \"parcoords\"}], \"pie\": [{\"automargin\": true, \"type\": \"pie\"}], \"scatter\": [{\"marker\": {\"colorbar\": {\"outlinewidth\": 0, \"ticks\": \"\"}}, \"type\": \"scatter\"}], \"scatter3d\": [{\"line\": {\"colorbar\": {\"outlinewidth\": 0, \"ticks\": \"\"}}, \"marker\": {\"colorbar\": {\"outlinewidth\": 0, \"ticks\": \"\"}}, \"type\": \"scatter3d\"}], \"scattercarpet\": [{\"marker\": {\"colorbar\": {\"outlinewidth\": 0, \"ticks\": \"\"}}, \"type\": \"scattercarpet\"}], \"scattergeo\": [{\"marker\": {\"colorbar\": {\"outlinewidth\": 0, \"ticks\": \"\"}}, \"type\": \"scattergeo\"}], \"scattergl\": [{\"marker\": {\"colorbar\": {\"outlinewidth\": 0, \"ticks\": \"\"}}, \"type\": \"scattergl\"}], \"scattermapbox\": [{\"marker\": {\"colorbar\": {\"outlinewidth\": 0, \"ticks\": \"\"}}, \"type\": \"scattermapbox\"}], \"scatterpolar\": [{\"marker\": {\"colorbar\": {\"outlinewidth\": 0, \"ticks\": \"\"}}, \"type\": \"scatterpolar\"}], \"scatterpolargl\": [{\"marker\": {\"colorbar\": {\"outlinewidth\": 0, \"ticks\": \"\"}}, \"type\": \"scatterpolargl\"}], \"scatterternary\": [{\"marker\": {\"colorbar\": {\"outlinewidth\": 0, \"ticks\": \"\"}}, \"type\": \"scatterternary\"}], \"surface\": [{\"colorbar\": {\"outlinewidth\": 0, \"ticks\": \"\"}, \"colorscale\": [[0.0, \"#0d0887\"], [0.1111111111111111, \"#46039f\"], [0.2222222222222222, \"#7201a8\"], [0.3333333333333333, \"#9c179e\"], [0.4444444444444444, \"#bd3786\"], [0.5555555555555556, \"#d8576b\"], [0.6666666666666666, \"#ed7953\"], [0.7777777777777778, \"#fb9f3a\"], [0.8888888888888888, \"#fdca26\"], [1.0, \"#f0f921\"]], \"type\": \"surface\"}], \"table\": [{\"cells\": {\"fill\": {\"color\": \"#EBF0F8\"}, \"line\": {\"color\": \"white\"}}, \"header\": {\"fill\": {\"color\": \"#C8D4E3\"}, \"line\": {\"color\": \"white\"}}, \"type\": \"table\"}]}, \"layout\": {\"annotationdefaults\": {\"arrowcolor\": \"#2a3f5f\", \"arrowhead\": 0, \"arrowwidth\": 1}, \"coloraxis\": {\"colorbar\": {\"outlinewidth\": 0, \"ticks\": \"\"}}, \"colorscale\": {\"diverging\": [[0, \"#8e0152\"], [0.1, \"#c51b7d\"], [0.2, \"#de77ae\"], [0.3, \"#f1b6da\"], [0.4, \"#fde0ef\"], [0.5, \"#f7f7f7\"], [0.6, \"#e6f5d0\"], [0.7, \"#b8e186\"], [0.8, \"#7fbc41\"], [0.9, \"#4d9221\"], [1, \"#276419\"]], \"sequential\": [[0.0, \"#0d0887\"], [0.1111111111111111, \"#46039f\"], [0.2222222222222222, \"#7201a8\"], [0.3333333333333333, \"#9c179e\"], [0.4444444444444444, \"#bd3786\"], [0.5555555555555556, \"#d8576b\"], [0.6666666666666666, \"#ed7953\"], [0.7777777777777778, \"#fb9f3a\"], [0.8888888888888888, \"#fdca26\"], [1.0, \"#f0f921\"]], \"sequentialminus\": [[0.0, \"#0d0887\"], [0.1111111111111111, \"#46039f\"], [0.2222222222222222, \"#7201a8\"], [0.3333333333333333, \"#9c179e\"], [0.4444444444444444, \"#bd3786\"], [0.5555555555555556, \"#d8576b\"], [0.6666666666666666, \"#ed7953\"], [0.7777777777777778, \"#fb9f3a\"], [0.8888888888888888, \"#fdca26\"], [1.0, \"#f0f921\"]]}, \"colorway\": [\"#636efa\", \"#EF553B\", \"#00cc96\", \"#ab63fa\", \"#FFA15A\", \"#19d3f3\", \"#FF6692\", \"#B6E880\", \"#FF97FF\", \"#FECB52\"], \"font\": {\"color\": \"#2a3f5f\"}, \"geo\": {\"bgcolor\": \"white\", \"lakecolor\": \"white\", \"landcolor\": \"#E5ECF6\", \"showlakes\": true, \"showland\": true, \"subunitcolor\": \"white\"}, \"hoverlabel\": {\"align\": \"left\"}, \"hovermode\": \"closest\", \"mapbox\": {\"style\": \"light\"}, \"paper_bgcolor\": \"white\", \"plot_bgcolor\": \"#E5ECF6\", \"polar\": {\"angularaxis\": {\"gridcolor\": \"white\", \"linecolor\": \"white\", \"ticks\": \"\"}, \"bgcolor\": \"#E5ECF6\", \"radialaxis\": {\"gridcolor\": \"white\", \"linecolor\": \"white\", \"ticks\": \"\"}}, \"scene\": {\"xaxis\": {\"backgroundcolor\": \"#E5ECF6\", \"gridcolor\": \"white\", \"gridwidth\": 2, \"linecolor\": \"white\", \"showbackground\": true, \"ticks\": \"\", \"zerolinecolor\": \"white\"}, \"yaxis\": {\"backgroundcolor\": \"#E5ECF6\", \"gridcolor\": \"white\", \"gridwidth\": 2, \"linecolor\": \"white\", \"showbackground\": true, \"ticks\": \"\", \"zerolinecolor\": \"white\"}, \"zaxis\": {\"backgroundcolor\": \"#E5ECF6\", \"gridcolor\": \"white\", \"gridwidth\": 2, \"linecolor\": \"white\", \"showbackground\": true, \"ticks\": \"\", \"zerolinecolor\": \"white\"}}, \"shapedefaults\": {\"line\": {\"color\": \"#2a3f5f\"}}, \"ternary\": {\"aaxis\": {\"gridcolor\": \"white\", \"linecolor\": \"white\", \"ticks\": \"\"}, \"baxis\": {\"gridcolor\": \"white\", \"linecolor\": \"white\", \"ticks\": \"\"}, \"bgcolor\": \"#E5ECF6\", \"caxis\": {\"gridcolor\": \"white\", \"linecolor\": \"white\", \"ticks\": \"\"}}, \"title\": {\"x\": 0.05}, \"xaxis\": {\"automargin\": true, \"gridcolor\": \"white\", \"linecolor\": \"white\", \"ticks\": \"\", \"title\": {\"standoff\": 15}, \"zerolinecolor\": \"white\", \"zerolinewidth\": 2}, \"yaxis\": {\"automargin\": true, \"gridcolor\": \"white\", \"linecolor\": \"white\", \"ticks\": \"\", \"title\": {\"standoff\": 15}, \"zerolinecolor\": \"white\", \"zerolinewidth\": 2}}}, \"title\": {\"text\": \"Mean predictions with linear kernel SVR\"}, \"xaxis\": {\"anchor\": \"y\", \"domain\": [0.0, 1.0], \"title\": {\"text\": \"Date and time\"}}, \"yaxis\": {\"anchor\": \"x\", \"domain\": [0.0, 1.0], \"title\": {\"text\": \"meter value reading\"}}},                        {\"responsive\": true}                    ).then(function(){\n",
       "                            \n",
       "var gd = document.getElementById('ba6ff2ae-e045-4b84-a245-f204e7bf6e2b');\n",
       "var x = new MutationObserver(function (mutations, observer) {{\n",
       "        var display = window.getComputedStyle(gd).display;\n",
       "        if (!display || display === 'none') {{\n",
       "            console.log([gd, 'removed!']);\n",
       "            Plotly.purge(gd);\n",
       "            observer.disconnect();\n",
       "        }}\n",
       "}});\n",
       "\n",
       "// Listen for the removal of the full notebook cells\n",
       "var notebookContainer = gd.closest('#notebook-container');\n",
       "if (notebookContainer) {{\n",
       "    x.observe(notebookContainer, {childList: true});\n",
       "}}\n",
       "\n",
       "// Listen for the clearing of the current output cell\n",
       "var outputEl = gd.closest('.output');\n",
       "if (outputEl) {{\n",
       "    x.observe(outputEl, {childList: true});\n",
       "}}\n",
       "\n",
       "                        })                };                });            </script>        </div>"
      ]
     },
     "metadata": {},
     "output_type": "display_data"
    }
   ],
   "source": [
    "truth = mean_data[:250]\n",
    "fig = px.scatter()\n",
    "fig.add_scatter(x=mean_timestamps, y=mean_predictions, name='predictions')\n",
    "fig.add_scatter(x=truth.index, y=truth['meter_value'].tolist(), name='mean')\n",
    "fig.add_scatter(x=mean_ltp_timestamps, y=mean_ltp_predictions, name='long_term_prediction')\n",
    "fig.update_layout(\n",
    "    title='Mean predictions with linear kernel SVR',\n",
    "    xaxis_title='Date and time',\n",
    "    yaxis_title='meter value reading',\n",
    "    legend_title='Data Category',\n",
    ")\n",
    "fig.show()"
   ]
  },
  {
   "cell_type": "markdown",
   "metadata": {},
   "source": [
    "In this scenario mean readings are again used by using *mean_readings_for_area* fuction to preprocess. The model generally does well on \"mean\" data for the entire area, capable of predicting better compared to using actual cumulative meter value reading previously. As compared to linear regression, the mean predictions are better, and offers better generalization than simply using reading from single house. This is because of the same reason as explained in 2.2(a) where there is lower deviation in the mean hourly val_diff dataset as compared to using cumulative meter value reading, hence prediciton error with SVR is less drastic, resulting in lower changes. The long term prediction is also shown to be more accurate in SVR compared to linear regression. From early October until 3 October long term prediciton is within reasonably margin of error as compared to mean prediction and actual data, before diverging due and having the error accumulated and influencing the subsequent predictions. One can use this model to better predict the average gas usage of the entire area over the next hour."
   ]
  },
  {
   "cell_type": "markdown",
   "metadata": {},
   "source": [
    "## Question 2.3 (b) - Scatter plot of actual vs predicted meter readings (along with the line showing how good the fit is) with SVR"
   ]
  },
  {
   "cell_type": "code",
   "execution_count": 113,
   "metadata": {},
   "outputs": [],
   "source": [
    "# Produce predictions with linear SVR\n",
    "timestamps, predictions = simulate_operation(merged_df[merged_df['dataid'] == 35][:250], svr_lin)\n",
    "ltp_timestamps, ltp_predictions = long_term_prediction(merged_df[merged_df['dataid'] == 35][:250], pd.Timestamp('2015-10-02 01:00:00+00:00'), 6, svr_lin)"
   ]
  },
  {
   "cell_type": "code",
   "execution_count": 114,
   "metadata": {},
   "outputs": [
    {
     "data": {
      "application/vnd.plotly.v1+json": {
       "config": {
        "plotlyServerURL": "https://plot.ly"
       },
       "data": [
        {
         "mode": "markers",
         "name": "actual",
         "type": "scatter",
         "x": [
          "2015-10-01T05:14:44+00:00",
          "2015-10-01T05:42:34+00:00",
          "2015-10-01T07:02:37+00:00",
          "2015-10-01T07:12:38+00:00",
          "2015-10-01T07:20:36+00:00",
          "2015-10-01T07:23:39+00:00",
          "2015-10-01T08:59:41+00:00",
          "2015-10-01T09:30:40+00:00",
          "2015-10-01T09:34:37+00:00",
          "2015-10-01T10:14:35+00:00",
          "2015-10-01T10:17:32+00:00",
          "2015-10-01T11:23:36+00:00",
          "2015-10-01T12:26:51+00:00",
          "2015-10-01T13:19:40+00:00",
          "2015-10-01T13:44:40+00:00",
          "2015-10-01T13:54:30+00:00",
          "2015-10-01T14:36:34+00:00",
          "2015-10-01T16:24:52+00:00",
          "2015-10-01T17:29:40+00:00",
          "2015-10-01T20:04:40+00:00",
          "2015-10-01T20:20:41+00:00",
          "2015-10-01T21:22:43+00:00",
          "2015-10-01T22:03:44+00:00",
          "2015-10-01T22:11:38+00:00",
          "2015-10-01T22:24:32+00:00",
          "2015-10-01T22:54:31+00:00",
          "2015-10-01T23:02:35+00:00",
          "2015-10-01T23:59:38+00:00",
          "2015-10-02T00:44:49+00:00",
          "2015-10-02T00:57:48+00:00",
          "2015-10-02T02:13:46+00:00",
          "2015-10-02T02:16:44+00:00",
          "2015-10-02T02:33:31+00:00",
          "2015-10-02T02:54:36+00:00",
          "2015-10-02T03:34:32+00:00",
          "2015-10-02T04:07:40+00:00",
          "2015-10-02T04:57:49+00:00",
          "2015-10-02T05:01:51+00:00",
          "2015-10-02T06:14:44+00:00",
          "2015-10-02T06:24:44+00:00",
          "2015-10-02T07:15:34+00:00",
          "2015-10-02T08:35:41+00:00",
          "2015-10-02T08:50:46+00:00",
          "2015-10-02T09:24:51+00:00",
          "2015-10-02T10:44:41+00:00",
          "2015-10-02T11:13:39+00:00",
          "2015-10-02T11:17:37+00:00",
          "2015-10-02T12:07:29+00:00",
          "2015-10-02T13:53:46+00:00",
          "2015-10-02T14:05:45+00:00",
          "2015-10-02T14:44:46+00:00",
          "2015-10-02T15:17:35+00:00",
          "2015-10-02T15:43:31+00:00",
          "2015-10-02T16:24:31+00:00",
          "2015-10-02T16:44:40+00:00",
          "2015-10-02T16:53:40+00:00",
          "2015-10-02T18:26:42+00:00",
          "2015-10-02T19:34:40+00:00",
          "2015-10-02T20:30:31+00:00",
          "2015-10-02T20:42:34+00:00",
          "2015-10-02T23:35:34+00:00",
          "2015-10-03T00:34:34+00:00",
          "2015-10-03T01:14:42+00:00",
          "2015-10-03T01:53:48+00:00",
          "2015-10-03T02:29:47+00:00",
          "2015-10-03T03:04:44+00:00",
          "2015-10-03T03:45:32+00:00",
          "2015-10-03T04:04:38+00:00",
          "2015-10-03T04:22:33+00:00",
          "2015-10-03T04:56:30+00:00",
          "2015-10-03T04:59:31+00:00",
          "2015-10-03T05:19:41+00:00",
          "2015-10-03T05:49:46+00:00",
          "2015-10-03T07:03:44+00:00",
          "2015-10-03T07:32:47+00:00",
          "2015-10-03T08:24:38+00:00",
          "2015-10-03T08:36:37+00:00",
          "2015-10-03T09:47:42+00:00",
          "2015-10-03T10:53:47+00:00",
          "2015-10-03T11:36:43+00:00",
          "2015-10-03T13:18:31+00:00",
          "2015-10-03T14:03:42+00:00",
          "2015-10-03T14:54:56+00:00",
          "2015-10-03T15:01:49+00:00",
          "2015-10-03T15:16:47+00:00",
          "2015-10-03T15:49:44+00:00",
          "2015-10-03T15:57:48+00:00",
          "2015-10-03T16:01:48+00:00",
          "2015-10-03T16:09:42+00:00",
          "2015-10-03T16:24:34+00:00",
          "2015-10-03T16:56:33+00:00",
          "2015-10-03T16:59:35+00:00",
          "2015-10-03T17:25:35+00:00",
          "2015-10-03T17:46:36+00:00",
          "2015-10-03T17:57:42+00:00",
          "2015-10-03T18:07:41+00:00",
          "2015-10-03T18:47:53+00:00",
          "2015-10-03T19:12:48+00:00",
          "2015-10-03T20:17:46+00:00",
          "2015-10-03T20:48:41+00:00",
          "2015-10-03T21:04:36+00:00",
          "2015-10-03T21:33:34+00:00",
          "2015-10-03T22:25:41+00:00",
          "2015-10-03T22:29:43+00:00",
          "2015-10-03T23:13:54+00:00",
          "2015-10-03T23:19:57+00:00",
          "2015-10-04T00:08:45+00:00",
          "2015-10-04T00:09:44+00:00",
          "2015-10-04T00:17:48+00:00",
          "2015-10-04T01:49:36+00:00",
          "2015-10-04T02:33:41+00:00",
          "2015-10-04T02:52:46+00:00",
          "2015-10-04T04:14:49+00:00",
          "2015-10-04T05:55:35+00:00",
          "2015-10-04T06:49:41+00:00",
          "2015-10-04T07:39:55+00:00",
          "2015-10-04T07:50:50+00:00",
          "2015-10-04T08:03:46+00:00",
          "2015-10-04T08:05:48+00:00",
          "2015-10-04T08:14:44+00:00",
          "2015-10-04T08:37:46+00:00",
          "2015-10-04T09:25:42+00:00",
          "2015-10-04T10:12:34+00:00",
          "2015-10-04T12:03:49+00:00",
          "2015-10-04T13:40:39+00:00",
          "2015-10-04T15:17:43+00:00",
          "2015-10-04T15:27:48+00:00",
          "2015-10-04T16:43:46+00:00",
          "2015-10-04T16:54:44+00:00",
          "2015-10-04T17:15:47+00:00",
          "2015-10-04T17:34:35+00:00",
          "2015-10-04T18:29:32+00:00",
          "2015-10-04T18:32:36+00:00",
          "2015-10-04T18:35:36+00:00",
          "2015-10-04T18:54:37+00:00",
          "2015-10-04T19:44:45+00:00",
          "2015-10-04T20:21:55+00:00",
          "2015-10-04T20:37:43+00:00",
          "2015-10-04T20:45:48+00:00",
          "2015-10-04T21:10:45+00:00",
          "2015-10-04T21:24:48+00:00",
          "2015-10-04T21:49:38+00:00",
          "2015-10-04T22:37:33+00:00",
          "2015-10-04T22:49:37+00:00",
          "2015-10-05T00:24:55+00:00",
          "2015-10-05T01:06:46+00:00",
          "2015-10-05T01:44:45+00:00",
          "2015-10-05T02:48:34+00:00",
          "2015-10-05T06:09:35+00:00",
          "2015-10-05T06:59:35+00:00",
          "2015-10-05T07:16:36+00:00",
          "2015-10-05T07:35:40+00:00",
          "2015-10-05T07:37:41+00:00",
          "2015-10-05T09:20:50+00:00",
          "2015-10-05T09:42:46+00:00",
          "2015-10-05T09:47:44+00:00",
          "2015-10-05T10:15:41+00:00",
          "2015-10-05T10:27:37+00:00",
          "2015-10-05T10:43:42+00:00",
          "2015-10-05T10:53:38+00:00",
          "2015-10-05T11:13:34+00:00",
          "2015-10-05T11:57:44+00:00",
          "2015-10-05T12:07:44+00:00",
          "2015-10-05T12:09:42+00:00",
          "2015-10-05T13:14:51+00:00",
          "2015-10-05T13:49:50+00:00",
          "2015-10-05T14:17:48+00:00",
          "2015-10-05T14:42:40+00:00",
          "2015-10-05T14:57:42+00:00",
          "2015-10-05T16:35:48+00:00",
          "2015-10-05T16:50:50+00:00",
          "2015-10-05T17:04:55+00:00",
          "2015-10-05T18:23:50+00:00",
          "2015-10-05T20:36:44+00:00",
          "2015-10-05T21:44:48+00:00",
          "2015-10-05T22:43:48+00:00",
          "2015-10-05T22:59:38+00:00",
          "2015-10-05T23:50:34+00:00",
          "2015-10-06T02:50:50+00:00",
          "2015-10-06T02:59:43+00:00",
          "2015-10-06T03:07:36+00:00",
          "2015-10-06T03:10:37+00:00",
          "2015-10-06T03:27:43+00:00",
          "2015-10-06T04:52:46+00:00",
          "2015-10-06T06:25:46+00:00",
          "2015-10-06T07:45:42+00:00",
          "2015-10-06T08:11:36+00:00",
          "2015-10-06T08:40:38+00:00",
          "2015-10-06T08:49:42+00:00",
          "2015-10-06T09:00:44+00:00",
          "2015-10-06T09:06:45+00:00",
          "2015-10-06T09:56:52+00:00",
          "2015-10-06T10:27:48+00:00",
          "2015-10-06T10:32:51+00:00",
          "2015-10-06T14:34:50+00:00",
          "2015-10-06T16:29:37+00:00",
          "2015-10-06T17:11:42+00:00",
          "2015-10-06T19:06:47+00:00",
          "2015-10-06T19:30:50+00:00",
          "2015-10-06T19:59:39+00:00",
          "2015-10-06T21:44:44+00:00",
          "2015-10-06T21:47:47+00:00",
          "2015-10-06T22:45:57+00:00",
          "2015-10-06T22:47:55+00:00",
          "2015-10-06T23:12:49+00:00",
          "2015-10-06T23:37:49+00:00",
          "2015-10-07T00:38:43+00:00",
          "2015-10-07T01:28:40+00:00",
          "2015-10-07T02:04:47+00:00",
          "2015-10-07T02:54:00+00:00",
          "2015-10-07T03:14:48+00:00",
          "2015-10-07T03:22:49+00:00",
          "2015-10-07T03:33:49+00:00",
          "2015-10-07T04:09:47+00:00",
          "2015-10-07T04:17:40+00:00",
          "2015-10-07T05:02:42+00:00",
          "2015-10-07T05:52:44+00:00",
          "2015-10-07T06:26:52+00:00",
          "2015-10-07T08:06:51+00:00",
          "2015-10-07T08:09:53+00:00",
          "2015-10-07T08:17:50+00:00",
          "2015-10-07T08:24:46+00:00",
          "2015-10-07T08:29:40+00:00",
          "2015-10-07T08:50:44+00:00",
          "2015-10-07T09:27:35+00:00",
          "2015-10-07T09:57:39+00:00",
          "2015-10-07T10:35:50+00:00",
          "2015-10-07T11:39:50+00:00",
          "2015-10-07T12:51:39+00:00",
          "2015-10-07T13:20:38+00:00",
          "2015-10-07T13:23:40+00:00",
          "2015-10-07T13:26:42+00:00",
          "2015-10-07T13:27:41+00:00",
          "2015-10-07T14:07:39+00:00",
          "2015-10-07T14:09:39+00:00",
          "2015-10-07T16:04:47+00:00",
          "2015-10-07T16:15:50+00:00",
          "2015-10-07T17:07:43+00:00",
          "2015-10-07T19:27:56+00:00",
          "2015-10-07T20:17:48+00:00",
          "2015-10-07T20:37:50+00:00",
          "2015-10-07T20:45:54+00:00",
          "2015-10-07T20:56:48+00:00",
          "2015-10-07T21:20:45+00:00",
          "2015-10-07T21:24:45+00:00",
          "2015-10-07T21:34:45+00:00",
          "2015-10-07T22:14:40+00:00",
          "2015-10-07T22:29:42+00:00",
          "2015-10-07T23:03:48+00:00",
          "2015-10-08T00:27:50+00:00"
         ],
         "y": [
          93470,
          93470,
          93470,
          93470,
          93470,
          93470,
          93470,
          93470,
          93470,
          93470,
          93470,
          93472,
          93472,
          93472,
          93472,
          93472,
          93472,
          93474,
          93474,
          93474,
          93474,
          93474,
          93476,
          93476,
          93476,
          93476,
          93476,
          93476,
          93482,
          93482,
          93484,
          93484,
          93484,
          93484,
          93484,
          93484,
          93484,
          93484,
          93484,
          93484,
          93484,
          93486,
          93486,
          93486,
          93486,
          93486,
          93486,
          93486,
          93488,
          93488,
          93488,
          93488,
          93488,
          93488,
          93488,
          93488,
          93488,
          93490,
          93490,
          93490,
          93508,
          93510,
          93516,
          93520,
          93522,
          93522,
          93522,
          93522,
          93522,
          93522,
          93522,
          93522,
          93522,
          93522,
          93522,
          93524,
          93524,
          93524,
          93524,
          93524,
          93524,
          93526,
          93526,
          93526,
          93526,
          93526,
          93526,
          93526,
          93526,
          93526,
          93526,
          93526,
          93532,
          93532,
          93532,
          93532,
          93532,
          93532,
          93532,
          93532,
          93532,
          93532,
          93534,
          93534,
          93538,
          93542,
          93548,
          93548,
          93548,
          93548,
          93548,
          93548,
          93550,
          93550,
          93550,
          93550,
          93550,
          93550,
          93550,
          93550,
          93550,
          93552,
          93552,
          93552,
          93560,
          93568,
          93568,
          93568,
          93568,
          93568,
          93568,
          93570,
          93570,
          93570,
          93570,
          93570,
          93570,
          93570,
          93570,
          93570,
          93570,
          93570,
          93570,
          93570,
          93588,
          93588,
          93588,
          93588,
          93590,
          93590,
          93590,
          93590,
          93590,
          93590,
          93592,
          93592,
          93592,
          93592,
          93592,
          93592,
          93592,
          93592,
          93592,
          93592,
          93592,
          93592,
          93592,
          93592,
          93592,
          93594,
          93594,
          93596,
          93600,
          93602,
          93608,
          93608,
          93608,
          93614,
          93624,
          93624,
          93624,
          93624,
          93624,
          93624,
          93624,
          93626,
          93626,
          93626,
          93626,
          93626,
          93626,
          93626,
          93626,
          93626,
          93632,
          93636,
          93636,
          93636,
          93636,
          93636,
          93638,
          93638,
          93638,
          93638,
          93638,
          93638,
          93638,
          93648,
          93654,
          93656,
          93656,
          93656,
          93656,
          93656,
          93656,
          93656,
          93656,
          93656,
          93656,
          93656,
          93658,
          93658,
          93658,
          93658,
          93658,
          93658,
          93658,
          93658,
          93658,
          93668,
          93670,
          93670,
          93670,
          93670,
          93670,
          93670,
          93670,
          93678,
          93678,
          93678,
          93680,
          93680,
          93680,
          93680,
          93680,
          93680,
          93680,
          93680,
          93680,
          93686
         ]
        },
        {
         "mode": "markers",
         "name": "predictions",
         "type": "scatter",
         "x": [
          "2015-10-01T12:00:00+00:00",
          "2015-10-01T13:00:00+00:00",
          "2015-10-01T14:00:00+00:00",
          "2015-10-01T15:00:00+00:00",
          "2015-10-01T16:00:00+00:00",
          "2015-10-01T17:00:00+00:00",
          "2015-10-01T18:00:00+00:00",
          "2015-10-01T19:00:00+00:00",
          "2015-10-01T20:00:00+00:00",
          "2015-10-01T21:00:00+00:00",
          "2015-10-01T22:00:00+00:00",
          "2015-10-01T23:00:00+00:00",
          "2015-10-02T00:00:00+00:00",
          "2015-10-02T01:00:00+00:00",
          "2015-10-02T02:00:00+00:00",
          "2015-10-02T03:00:00+00:00",
          "2015-10-02T04:00:00+00:00",
          "2015-10-02T05:00:00+00:00",
          "2015-10-02T06:00:00+00:00",
          "2015-10-02T07:00:00+00:00",
          "2015-10-02T08:00:00+00:00",
          "2015-10-02T09:00:00+00:00",
          "2015-10-02T10:00:00+00:00",
          "2015-10-02T11:00:00+00:00",
          "2015-10-02T12:00:00+00:00",
          "2015-10-02T13:00:00+00:00",
          "2015-10-02T14:00:00+00:00",
          "2015-10-02T15:00:00+00:00",
          "2015-10-02T16:00:00+00:00",
          "2015-10-02T17:00:00+00:00",
          "2015-10-02T18:00:00+00:00",
          "2015-10-02T19:00:00+00:00",
          "2015-10-02T20:00:00+00:00",
          "2015-10-02T21:00:00+00:00",
          "2015-10-02T22:00:00+00:00",
          "2015-10-02T23:00:00+00:00",
          "2015-10-03T00:00:00+00:00",
          "2015-10-03T01:00:00+00:00",
          "2015-10-03T02:00:00+00:00",
          "2015-10-03T03:00:00+00:00",
          "2015-10-03T04:00:00+00:00",
          "2015-10-03T05:00:00+00:00",
          "2015-10-03T06:00:00+00:00",
          "2015-10-03T07:00:00+00:00",
          "2015-10-03T08:00:00+00:00",
          "2015-10-03T09:00:00+00:00",
          "2015-10-03T10:00:00+00:00",
          "2015-10-03T11:00:00+00:00",
          "2015-10-03T12:00:00+00:00",
          "2015-10-03T13:00:00+00:00",
          "2015-10-03T14:00:00+00:00",
          "2015-10-03T15:00:00+00:00",
          "2015-10-03T16:00:00+00:00",
          "2015-10-03T17:00:00+00:00",
          "2015-10-03T18:00:00+00:00",
          "2015-10-03T19:00:00+00:00",
          "2015-10-03T20:00:00+00:00",
          "2015-10-03T21:00:00+00:00",
          "2015-10-03T22:00:00+00:00",
          "2015-10-03T23:00:00+00:00",
          "2015-10-04T00:00:00+00:00",
          "2015-10-04T01:00:00+00:00",
          "2015-10-04T02:00:00+00:00",
          "2015-10-04T03:00:00+00:00",
          "2015-10-04T04:00:00+00:00",
          "2015-10-04T05:00:00+00:00",
          "2015-10-04T06:00:00+00:00",
          "2015-10-04T07:00:00+00:00",
          "2015-10-04T08:00:00+00:00",
          "2015-10-04T09:00:00+00:00",
          "2015-10-04T10:00:00+00:00",
          "2015-10-04T11:00:00+00:00",
          "2015-10-04T12:00:00+00:00",
          "2015-10-04T13:00:00+00:00",
          "2015-10-04T14:00:00+00:00",
          "2015-10-04T15:00:00+00:00",
          "2015-10-04T16:00:00+00:00",
          "2015-10-04T17:00:00+00:00",
          "2015-10-04T18:00:00+00:00",
          "2015-10-04T19:00:00+00:00",
          "2015-10-04T20:00:00+00:00",
          "2015-10-04T21:00:00+00:00",
          "2015-10-04T22:00:00+00:00",
          "2015-10-04T23:00:00+00:00",
          "2015-10-05T00:00:00+00:00",
          "2015-10-05T01:00:00+00:00",
          "2015-10-05T02:00:00+00:00",
          "2015-10-05T03:00:00+00:00",
          "2015-10-05T04:00:00+00:00",
          "2015-10-05T05:00:00+00:00",
          "2015-10-05T06:00:00+00:00",
          "2015-10-05T07:00:00+00:00",
          "2015-10-05T08:00:00+00:00",
          "2015-10-05T09:00:00+00:00",
          "2015-10-05T10:00:00+00:00",
          "2015-10-05T11:00:00+00:00",
          "2015-10-05T12:00:00+00:00",
          "2015-10-05T13:00:00+00:00",
          "2015-10-05T14:00:00+00:00",
          "2015-10-05T15:00:00+00:00",
          "2015-10-05T16:00:00+00:00",
          "2015-10-05T17:00:00+00:00",
          "2015-10-05T18:00:00+00:00",
          "2015-10-05T19:00:00+00:00",
          "2015-10-05T20:00:00+00:00",
          "2015-10-05T21:00:00+00:00",
          "2015-10-05T22:00:00+00:00",
          "2015-10-05T23:00:00+00:00",
          "2015-10-06T00:00:00+00:00",
          "2015-10-06T01:00:00+00:00",
          "2015-10-06T02:00:00+00:00",
          "2015-10-06T03:00:00+00:00",
          "2015-10-06T04:00:00+00:00",
          "2015-10-06T05:00:00+00:00",
          "2015-10-06T06:00:00+00:00",
          "2015-10-06T07:00:00+00:00",
          "2015-10-06T08:00:00+00:00",
          "2015-10-06T09:00:00+00:00",
          "2015-10-06T10:00:00+00:00",
          "2015-10-06T11:00:00+00:00",
          "2015-10-06T12:00:00+00:00",
          "2015-10-06T13:00:00+00:00",
          "2015-10-06T14:00:00+00:00",
          "2015-10-06T15:00:00+00:00",
          "2015-10-06T16:00:00+00:00",
          "2015-10-06T17:00:00+00:00",
          "2015-10-06T18:00:00+00:00",
          "2015-10-06T19:00:00+00:00",
          "2015-10-06T20:00:00+00:00",
          "2015-10-06T21:00:00+00:00",
          "2015-10-06T22:00:00+00:00",
          "2015-10-06T23:00:00+00:00",
          "2015-10-07T00:00:00+00:00",
          "2015-10-07T01:00:00+00:00",
          "2015-10-07T02:00:00+00:00",
          "2015-10-07T03:00:00+00:00",
          "2015-10-07T04:00:00+00:00",
          "2015-10-07T05:00:00+00:00",
          "2015-10-07T06:00:00+00:00",
          "2015-10-07T07:00:00+00:00",
          "2015-10-07T08:00:00+00:00",
          "2015-10-07T09:00:00+00:00",
          "2015-10-07T10:00:00+00:00",
          "2015-10-07T11:00:00+00:00",
          "2015-10-07T12:00:00+00:00",
          "2015-10-07T13:00:00+00:00",
          "2015-10-07T14:00:00+00:00",
          "2015-10-07T15:00:00+00:00",
          "2015-10-07T16:00:00+00:00",
          "2015-10-07T17:00:00+00:00",
          "2015-10-07T18:00:00+00:00",
          "2015-10-07T19:00:00+00:00",
          "2015-10-07T20:00:00+00:00",
          "2015-10-07T21:00:00+00:00",
          "2015-10-07T22:00:00+00:00",
          "2015-10-07T23:00:00+00:00",
          "2015-10-08T00:00:00+00:00"
         ],
         "y": [
          93473.89383714886,
          93472.19818938943,
          93472.11820998485,
          93472.15521139278,
          93472.20628070728,
          93475.08011193191,
          93474.19229834991,
          93474.17080935158,
          93474.2148447128,
          93474.18654283807,
          93474.19412031869,
          93477.97718943562,
          93476.09968214143,
          93487.34617764584,
          93482.2735033336,
          93484.98578100886,
          93484.12861393648,
          93484.23760043985,
          93484.10875998418,
          93484.08045810946,
          93484.08803559007,
          93487.87110470701,
          93486.17545694757,
          93486.095477543,
          93486.13247895092,
          93486.18354826544,
          93489.9089921101,
          93488.21334435066,
          93488.13336494609,
          93488.17036635401,
          93488.22143566851,
          93488.17138787684,
          93491.95445699379,
          93490.25880923435,
          93490.17882982978,
          93490.2158312377,
          93513.58244364854,
          93512.0238128994,
          93527.38620831334,
          93525.87490655587,
          93522.15522994293,
          93522.14888119629,
          93522.33164859482,
          93522.19570865405,
          93522.08803559007,
          93525.87110470701,
          93524.17545694757,
          93524.095477543,
          93524.13247895092,
          93524.18354826544,
          93524.13350047376,
          93527.91656959071,
          93526.22092183126,
          93526.14094242669,
          93537.50441874361,
          93532.44581233797,
          93532.13309389072,
          93532.22894315327,
          93532.36699613556,
          93535.97718943562,
          93547.42615705042,
          93555.33846847102,
          93548.29989826317,
          93548.08901181884,
          93548.28713523809,
          93551.21968325372,
          93550.10136858252,
          93550.0798795842,
          93550.12391494542,
          93550.09561307068,
          93553.87868218763,
          93552.18303442819,
          93552.10305502362,
          93552.14005643154,
          93567.29309229138,
          93560.43014353949,
          93571.78300954457,
          93568.32671848395,
          93568.39199738439,
          93572.09039693455,
          93570.25123175373,
          93570.17125234916,
          93570.20825375708,
          93570.2593230716,
          93570.02741574515,
          93596.3499043725,
          93588.29896228954,
          93588.0449414597,
          93588.38063986573,
          93588.06530314822,
          93588.07288062884,
          93590.54210835497,
          93590.12021924458,
          93590.09561307068,
          93592.71910989551,
          93592.72159054648,
          93592.14204862778,
          93592.14474573373,
          93592.1382116199,
          93592.16028637848,
          93592.148655435,
          93595.08011193191,
          93597.96778998624,
          93603.79405902053,
          93600.34408701645,
          93603.09397431495,
          93613.63497533045,
          93608.53316900747,
          93619.34389854276,
          93614.2941927298,
          93614.16957505653,
          93627.14666107502,
          93624.34911706077,
          93624.1594168512,
          93624.07288062884,
          93624.08045810946,
          93627.8635272264,
          93626.16787946696,
          93626.08790006238,
          93626.1249014703,
          93626.17597078483,
          93626.12592299315,
          93626.13350047376,
          93633.52602869095,
          93632.24520639854,
          93638.00399094821,
          93636.22078630359,
          93636.17023082633,
          93636.25072406814,
          93636.18654283807,
          93639.117999335,
          93638.23018575298,
          93638.02683721989,
          93638.07087258111,
          93656.92002888804,
          93662.62570089554,
          93657.1219514282,
          93656.11858682717,
          93656.40282878025,
          93656.28921328169,
          93656.11684822621,
          93658.71153241489,
          93658.71401306587,
          93658.13447114718,
          93658.13716825312,
          93658.13063413928,
          93680.36178580676,
          93671.00048264206,
          93670.07880172283,
          93670.23367756417,
          93685.60065561684,
          93678.47485978002,
          93678.11780340181,
          93681.57469531891,
          93680.92269411415,
          93680.20829653168,
          93680.03419320172
         ]
        },
        {
         "hovertemplate": "<b>OLS trendline</b><br>y = 0.000395215 * x + -477114<br>R<sup>2</sup>=0.989942<br><br>x=%{x}<br>y=%{y} <b>(trend)</b><extra></extra>",
         "legendgroup": "",
         "line": {
          "color": "Yellow"
         },
         "marker": {
          "color": "#636efa",
          "symbol": "circle"
         },
         "mode": "lines",
         "name": "predictions",
         "showlegend": false,
         "type": "scatter",
         "x": [
          "2015-10-01T12:00:00+00:00",
          "2015-10-01T13:00:00+00:00",
          "2015-10-01T14:00:00+00:00",
          "2015-10-01T15:00:00+00:00",
          "2015-10-01T16:00:00+00:00",
          "2015-10-01T17:00:00+00:00",
          "2015-10-01T18:00:00+00:00",
          "2015-10-01T19:00:00+00:00",
          "2015-10-01T20:00:00+00:00",
          "2015-10-01T21:00:00+00:00",
          "2015-10-01T22:00:00+00:00",
          "2015-10-01T23:00:00+00:00",
          "2015-10-02T00:00:00+00:00",
          "2015-10-02T01:00:00+00:00",
          "2015-10-02T02:00:00+00:00",
          "2015-10-02T03:00:00+00:00",
          "2015-10-02T04:00:00+00:00",
          "2015-10-02T05:00:00+00:00",
          "2015-10-02T06:00:00+00:00",
          "2015-10-02T07:00:00+00:00",
          "2015-10-02T08:00:00+00:00",
          "2015-10-02T09:00:00+00:00",
          "2015-10-02T10:00:00+00:00",
          "2015-10-02T11:00:00+00:00",
          "2015-10-02T12:00:00+00:00",
          "2015-10-02T13:00:00+00:00",
          "2015-10-02T14:00:00+00:00",
          "2015-10-02T15:00:00+00:00",
          "2015-10-02T16:00:00+00:00",
          "2015-10-02T17:00:00+00:00",
          "2015-10-02T18:00:00+00:00",
          "2015-10-02T19:00:00+00:00",
          "2015-10-02T20:00:00+00:00",
          "2015-10-02T21:00:00+00:00",
          "2015-10-02T22:00:00+00:00",
          "2015-10-02T23:00:00+00:00",
          "2015-10-03T00:00:00+00:00",
          "2015-10-03T01:00:00+00:00",
          "2015-10-03T02:00:00+00:00",
          "2015-10-03T03:00:00+00:00",
          "2015-10-03T04:00:00+00:00",
          "2015-10-03T05:00:00+00:00",
          "2015-10-03T06:00:00+00:00",
          "2015-10-03T07:00:00+00:00",
          "2015-10-03T08:00:00+00:00",
          "2015-10-03T09:00:00+00:00",
          "2015-10-03T10:00:00+00:00",
          "2015-10-03T11:00:00+00:00",
          "2015-10-03T12:00:00+00:00",
          "2015-10-03T13:00:00+00:00",
          "2015-10-03T14:00:00+00:00",
          "2015-10-03T15:00:00+00:00",
          "2015-10-03T16:00:00+00:00",
          "2015-10-03T17:00:00+00:00",
          "2015-10-03T18:00:00+00:00",
          "2015-10-03T19:00:00+00:00",
          "2015-10-03T20:00:00+00:00",
          "2015-10-03T21:00:00+00:00",
          "2015-10-03T22:00:00+00:00",
          "2015-10-03T23:00:00+00:00",
          "2015-10-04T00:00:00+00:00",
          "2015-10-04T01:00:00+00:00",
          "2015-10-04T02:00:00+00:00",
          "2015-10-04T03:00:00+00:00",
          "2015-10-04T04:00:00+00:00",
          "2015-10-04T05:00:00+00:00",
          "2015-10-04T06:00:00+00:00",
          "2015-10-04T07:00:00+00:00",
          "2015-10-04T08:00:00+00:00",
          "2015-10-04T09:00:00+00:00",
          "2015-10-04T10:00:00+00:00",
          "2015-10-04T11:00:00+00:00",
          "2015-10-04T12:00:00+00:00",
          "2015-10-04T13:00:00+00:00",
          "2015-10-04T14:00:00+00:00",
          "2015-10-04T15:00:00+00:00",
          "2015-10-04T16:00:00+00:00",
          "2015-10-04T17:00:00+00:00",
          "2015-10-04T18:00:00+00:00",
          "2015-10-04T19:00:00+00:00",
          "2015-10-04T20:00:00+00:00",
          "2015-10-04T21:00:00+00:00",
          "2015-10-04T22:00:00+00:00",
          "2015-10-04T23:00:00+00:00",
          "2015-10-05T00:00:00+00:00",
          "2015-10-05T01:00:00+00:00",
          "2015-10-05T02:00:00+00:00",
          "2015-10-05T03:00:00+00:00",
          "2015-10-05T04:00:00+00:00",
          "2015-10-05T05:00:00+00:00",
          "2015-10-05T06:00:00+00:00",
          "2015-10-05T07:00:00+00:00",
          "2015-10-05T08:00:00+00:00",
          "2015-10-05T09:00:00+00:00",
          "2015-10-05T10:00:00+00:00",
          "2015-10-05T11:00:00+00:00",
          "2015-10-05T12:00:00+00:00",
          "2015-10-05T13:00:00+00:00",
          "2015-10-05T14:00:00+00:00",
          "2015-10-05T15:00:00+00:00",
          "2015-10-05T16:00:00+00:00",
          "2015-10-05T17:00:00+00:00",
          "2015-10-05T18:00:00+00:00",
          "2015-10-05T19:00:00+00:00",
          "2015-10-05T20:00:00+00:00",
          "2015-10-05T21:00:00+00:00",
          "2015-10-05T22:00:00+00:00",
          "2015-10-05T23:00:00+00:00",
          "2015-10-06T00:00:00+00:00",
          "2015-10-06T01:00:00+00:00",
          "2015-10-06T02:00:00+00:00",
          "2015-10-06T03:00:00+00:00",
          "2015-10-06T04:00:00+00:00",
          "2015-10-06T05:00:00+00:00",
          "2015-10-06T06:00:00+00:00",
          "2015-10-06T07:00:00+00:00",
          "2015-10-06T08:00:00+00:00",
          "2015-10-06T09:00:00+00:00",
          "2015-10-06T10:00:00+00:00",
          "2015-10-06T11:00:00+00:00",
          "2015-10-06T12:00:00+00:00",
          "2015-10-06T13:00:00+00:00",
          "2015-10-06T14:00:00+00:00",
          "2015-10-06T15:00:00+00:00",
          "2015-10-06T16:00:00+00:00",
          "2015-10-06T17:00:00+00:00",
          "2015-10-06T18:00:00+00:00",
          "2015-10-06T19:00:00+00:00",
          "2015-10-06T20:00:00+00:00",
          "2015-10-06T21:00:00+00:00",
          "2015-10-06T22:00:00+00:00",
          "2015-10-06T23:00:00+00:00",
          "2015-10-07T00:00:00+00:00",
          "2015-10-07T01:00:00+00:00",
          "2015-10-07T02:00:00+00:00",
          "2015-10-07T03:00:00+00:00",
          "2015-10-07T04:00:00+00:00",
          "2015-10-07T05:00:00+00:00",
          "2015-10-07T06:00:00+00:00",
          "2015-10-07T07:00:00+00:00",
          "2015-10-07T08:00:00+00:00",
          "2015-10-07T09:00:00+00:00",
          "2015-10-07T10:00:00+00:00",
          "2015-10-07T11:00:00+00:00",
          "2015-10-07T12:00:00+00:00",
          "2015-10-07T13:00:00+00:00",
          "2015-10-07T14:00:00+00:00",
          "2015-10-07T15:00:00+00:00",
          "2015-10-07T16:00:00+00:00",
          "2015-10-07T17:00:00+00:00",
          "2015-10-07T18:00:00+00:00",
          "2015-10-07T19:00:00+00:00",
          "2015-10-07T20:00:00+00:00",
          "2015-10-07T21:00:00+00:00",
          "2015-10-07T22:00:00+00:00",
          "2015-10-07T23:00:00+00:00",
          "2015-10-08T00:00:00+00:00"
         ],
         "xaxis": "x",
         "y": [
          93458.04726206721,
          93459.47003543423,
          93460.89280880126,
          93462.31558216829,
          93463.73835553532,
          93465.16112890223,
          93466.58390226925,
          93468.00667563628,
          93469.4294490033,
          93470.85222237022,
          93472.27499573724,
          93473.69776910427,
          93475.1205424713,
          93476.54331583832,
          93477.96608920523,
          93479.38886257226,
          93480.81163593929,
          93482.23440930631,
          93483.65718267323,
          93485.07995604025,
          93486.50272940728,
          93487.9255027743,
          93489.34827614133,
          93490.77104950824,
          93492.19382287527,
          93493.6165962423,
          93495.03936960932,
          93496.46214297623,
          93497.88491634326,
          93499.30768971029,
          93500.73046307731,
          93502.15323644434,
          93503.57600981125,
          93504.99878317828,
          93506.4215565453,
          93507.84432991233,
          93509.26710327924,
          93510.68987664627,
          93512.1126500133,
          93513.53542338032,
          93514.95819674723,
          93516.38097011426,
          93517.80374348129,
          93519.22651684831,
          93520.64929021534,
          93522.07206358225,
          93523.49483694928,
          93524.9176103163,
          93526.34038368333,
          93527.76315705024,
          93529.18593041727,
          93530.6087037843,
          93532.03147715132,
          93533.45425051835,
          93534.87702388526,
          93536.29979725229,
          93537.72257061931,
          93539.14534398634,
          93540.56811735325,
          93541.99089072028,
          93543.4136640873,
          93544.83643745433,
          93546.25921082136,
          93547.68198418827,
          93549.1047575553,
          93550.52753092232,
          93551.95030428935,
          93553.37307765626,
          93554.79585102329,
          93556.21862439031,
          93557.64139775734,
          93559.06417112425,
          93560.48694449128,
          93561.9097178583,
          93563.33249122533,
          93564.75526459236,
          93566.17803795927,
          93567.6008113263,
          93569.02358469332,
          93570.44635806035,
          93571.86913142726,
          93573.29190479429,
          93574.71467816131,
          93576.13745152834,
          93577.56022489537,
          93578.98299826228,
          93580.4057716293,
          93581.82854499633,
          93583.25131836336,
          93584.67409173027,
          93586.0968650973,
          93587.51963846432,
          93588.94241183135,
          93590.36518519837,
          93591.78795856528,
          93593.21073193231,
          93594.63350529934,
          93596.05627866636,
          93597.47905203328,
          93598.9018254003,
          93600.32459876733,
          93601.74737213436,
          93603.17014550138,
          93604.5929188683,
          93606.01569223532,
          93607.43846560235,
          93608.86123896937,
          93610.28401233628,
          93611.70678570331,
          93613.12955907034,
          93614.55233243736,
          93615.97510580427,
          93617.3978791713,
          93618.82065253833,
          93620.24342590536,
          93621.66619927238,
          93623.08897263929,
          93624.51174600632,
          93625.93451937335,
          93627.35729274037,
          93628.78006610728,
          93630.20283947431,
          93631.62561284134,
          93633.04838620836,
          93634.47115957539,
          93635.8939329423,
          93637.31670630933,
          93638.73947967635,
          93640.16225304338,
          93641.58502641029,
          93643.00779977732,
          93644.43057314435,
          93645.85334651137,
          93647.2761198784,
          93648.69889324531,
          93650.12166661234,
          93651.54443997936,
          93652.96721334639,
          93654.3899867133,
          93655.81276008033,
          93657.23553344735,
          93658.65830681438,
          93660.08108018129,
          93661.50385354832,
          93662.92662691534,
          93664.34940028237,
          93665.7721736494,
          93667.19494701631,
          93668.61772038334,
          93670.04049375036,
          93671.46326711739,
          93672.8860404843,
          93674.30881385133,
          93675.73158721835,
          93677.15436058538,
          93678.5771339524,
          93679.99990731932
         ],
         "yaxis": "y"
        }
       ],
       "layout": {
        "legend": {
         "title": {
          "text": "Data Category"
         },
         "tracegroupgap": 0
        },
        "margin": {
         "t": 60
        },
        "showlegend": true,
        "template": {
         "data": {
          "bar": [
           {
            "error_x": {
             "color": "#2a3f5f"
            },
            "error_y": {
             "color": "#2a3f5f"
            },
            "marker": {
             "line": {
              "color": "#E5ECF6",
              "width": 0.5
             }
            },
            "type": "bar"
           }
          ],
          "barpolar": [
           {
            "marker": {
             "line": {
              "color": "#E5ECF6",
              "width": 0.5
             }
            },
            "type": "barpolar"
           }
          ],
          "carpet": [
           {
            "aaxis": {
             "endlinecolor": "#2a3f5f",
             "gridcolor": "white",
             "linecolor": "white",
             "minorgridcolor": "white",
             "startlinecolor": "#2a3f5f"
            },
            "baxis": {
             "endlinecolor": "#2a3f5f",
             "gridcolor": "white",
             "linecolor": "white",
             "minorgridcolor": "white",
             "startlinecolor": "#2a3f5f"
            },
            "type": "carpet"
           }
          ],
          "choropleth": [
           {
            "colorbar": {
             "outlinewidth": 0,
             "ticks": ""
            },
            "type": "choropleth"
           }
          ],
          "contour": [
           {
            "colorbar": {
             "outlinewidth": 0,
             "ticks": ""
            },
            "colorscale": [
             [
              0,
              "#0d0887"
             ],
             [
              0.1111111111111111,
              "#46039f"
             ],
             [
              0.2222222222222222,
              "#7201a8"
             ],
             [
              0.3333333333333333,
              "#9c179e"
             ],
             [
              0.4444444444444444,
              "#bd3786"
             ],
             [
              0.5555555555555556,
              "#d8576b"
             ],
             [
              0.6666666666666666,
              "#ed7953"
             ],
             [
              0.7777777777777778,
              "#fb9f3a"
             ],
             [
              0.8888888888888888,
              "#fdca26"
             ],
             [
              1,
              "#f0f921"
             ]
            ],
            "type": "contour"
           }
          ],
          "contourcarpet": [
           {
            "colorbar": {
             "outlinewidth": 0,
             "ticks": ""
            },
            "type": "contourcarpet"
           }
          ],
          "heatmap": [
           {
            "colorbar": {
             "outlinewidth": 0,
             "ticks": ""
            },
            "colorscale": [
             [
              0,
              "#0d0887"
             ],
             [
              0.1111111111111111,
              "#46039f"
             ],
             [
              0.2222222222222222,
              "#7201a8"
             ],
             [
              0.3333333333333333,
              "#9c179e"
             ],
             [
              0.4444444444444444,
              "#bd3786"
             ],
             [
              0.5555555555555556,
              "#d8576b"
             ],
             [
              0.6666666666666666,
              "#ed7953"
             ],
             [
              0.7777777777777778,
              "#fb9f3a"
             ],
             [
              0.8888888888888888,
              "#fdca26"
             ],
             [
              1,
              "#f0f921"
             ]
            ],
            "type": "heatmap"
           }
          ],
          "heatmapgl": [
           {
            "colorbar": {
             "outlinewidth": 0,
             "ticks": ""
            },
            "colorscale": [
             [
              0,
              "#0d0887"
             ],
             [
              0.1111111111111111,
              "#46039f"
             ],
             [
              0.2222222222222222,
              "#7201a8"
             ],
             [
              0.3333333333333333,
              "#9c179e"
             ],
             [
              0.4444444444444444,
              "#bd3786"
             ],
             [
              0.5555555555555556,
              "#d8576b"
             ],
             [
              0.6666666666666666,
              "#ed7953"
             ],
             [
              0.7777777777777778,
              "#fb9f3a"
             ],
             [
              0.8888888888888888,
              "#fdca26"
             ],
             [
              1,
              "#f0f921"
             ]
            ],
            "type": "heatmapgl"
           }
          ],
          "histogram": [
           {
            "marker": {
             "colorbar": {
              "outlinewidth": 0,
              "ticks": ""
             }
            },
            "type": "histogram"
           }
          ],
          "histogram2d": [
           {
            "colorbar": {
             "outlinewidth": 0,
             "ticks": ""
            },
            "colorscale": [
             [
              0,
              "#0d0887"
             ],
             [
              0.1111111111111111,
              "#46039f"
             ],
             [
              0.2222222222222222,
              "#7201a8"
             ],
             [
              0.3333333333333333,
              "#9c179e"
             ],
             [
              0.4444444444444444,
              "#bd3786"
             ],
             [
              0.5555555555555556,
              "#d8576b"
             ],
             [
              0.6666666666666666,
              "#ed7953"
             ],
             [
              0.7777777777777778,
              "#fb9f3a"
             ],
             [
              0.8888888888888888,
              "#fdca26"
             ],
             [
              1,
              "#f0f921"
             ]
            ],
            "type": "histogram2d"
           }
          ],
          "histogram2dcontour": [
           {
            "colorbar": {
             "outlinewidth": 0,
             "ticks": ""
            },
            "colorscale": [
             [
              0,
              "#0d0887"
             ],
             [
              0.1111111111111111,
              "#46039f"
             ],
             [
              0.2222222222222222,
              "#7201a8"
             ],
             [
              0.3333333333333333,
              "#9c179e"
             ],
             [
              0.4444444444444444,
              "#bd3786"
             ],
             [
              0.5555555555555556,
              "#d8576b"
             ],
             [
              0.6666666666666666,
              "#ed7953"
             ],
             [
              0.7777777777777778,
              "#fb9f3a"
             ],
             [
              0.8888888888888888,
              "#fdca26"
             ],
             [
              1,
              "#f0f921"
             ]
            ],
            "type": "histogram2dcontour"
           }
          ],
          "mesh3d": [
           {
            "colorbar": {
             "outlinewidth": 0,
             "ticks": ""
            },
            "type": "mesh3d"
           }
          ],
          "parcoords": [
           {
            "line": {
             "colorbar": {
              "outlinewidth": 0,
              "ticks": ""
             }
            },
            "type": "parcoords"
           }
          ],
          "pie": [
           {
            "automargin": true,
            "type": "pie"
           }
          ],
          "scatter": [
           {
            "marker": {
             "colorbar": {
              "outlinewidth": 0,
              "ticks": ""
             }
            },
            "type": "scatter"
           }
          ],
          "scatter3d": [
           {
            "line": {
             "colorbar": {
              "outlinewidth": 0,
              "ticks": ""
             }
            },
            "marker": {
             "colorbar": {
              "outlinewidth": 0,
              "ticks": ""
             }
            },
            "type": "scatter3d"
           }
          ],
          "scattercarpet": [
           {
            "marker": {
             "colorbar": {
              "outlinewidth": 0,
              "ticks": ""
             }
            },
            "type": "scattercarpet"
           }
          ],
          "scattergeo": [
           {
            "marker": {
             "colorbar": {
              "outlinewidth": 0,
              "ticks": ""
             }
            },
            "type": "scattergeo"
           }
          ],
          "scattergl": [
           {
            "marker": {
             "colorbar": {
              "outlinewidth": 0,
              "ticks": ""
             }
            },
            "type": "scattergl"
           }
          ],
          "scattermapbox": [
           {
            "marker": {
             "colorbar": {
              "outlinewidth": 0,
              "ticks": ""
             }
            },
            "type": "scattermapbox"
           }
          ],
          "scatterpolar": [
           {
            "marker": {
             "colorbar": {
              "outlinewidth": 0,
              "ticks": ""
             }
            },
            "type": "scatterpolar"
           }
          ],
          "scatterpolargl": [
           {
            "marker": {
             "colorbar": {
              "outlinewidth": 0,
              "ticks": ""
             }
            },
            "type": "scatterpolargl"
           }
          ],
          "scatterternary": [
           {
            "marker": {
             "colorbar": {
              "outlinewidth": 0,
              "ticks": ""
             }
            },
            "type": "scatterternary"
           }
          ],
          "surface": [
           {
            "colorbar": {
             "outlinewidth": 0,
             "ticks": ""
            },
            "colorscale": [
             [
              0,
              "#0d0887"
             ],
             [
              0.1111111111111111,
              "#46039f"
             ],
             [
              0.2222222222222222,
              "#7201a8"
             ],
             [
              0.3333333333333333,
              "#9c179e"
             ],
             [
              0.4444444444444444,
              "#bd3786"
             ],
             [
              0.5555555555555556,
              "#d8576b"
             ],
             [
              0.6666666666666666,
              "#ed7953"
             ],
             [
              0.7777777777777778,
              "#fb9f3a"
             ],
             [
              0.8888888888888888,
              "#fdca26"
             ],
             [
              1,
              "#f0f921"
             ]
            ],
            "type": "surface"
           }
          ],
          "table": [
           {
            "cells": {
             "fill": {
              "color": "#EBF0F8"
             },
             "line": {
              "color": "white"
             }
            },
            "header": {
             "fill": {
              "color": "#C8D4E3"
             },
             "line": {
              "color": "white"
             }
            },
            "type": "table"
           }
          ]
         },
         "layout": {
          "annotationdefaults": {
           "arrowcolor": "#2a3f5f",
           "arrowhead": 0,
           "arrowwidth": 1
          },
          "coloraxis": {
           "colorbar": {
            "outlinewidth": 0,
            "ticks": ""
           }
          },
          "colorscale": {
           "diverging": [
            [
             0,
             "#8e0152"
            ],
            [
             0.1,
             "#c51b7d"
            ],
            [
             0.2,
             "#de77ae"
            ],
            [
             0.3,
             "#f1b6da"
            ],
            [
             0.4,
             "#fde0ef"
            ],
            [
             0.5,
             "#f7f7f7"
            ],
            [
             0.6,
             "#e6f5d0"
            ],
            [
             0.7,
             "#b8e186"
            ],
            [
             0.8,
             "#7fbc41"
            ],
            [
             0.9,
             "#4d9221"
            ],
            [
             1,
             "#276419"
            ]
           ],
           "sequential": [
            [
             0,
             "#0d0887"
            ],
            [
             0.1111111111111111,
             "#46039f"
            ],
            [
             0.2222222222222222,
             "#7201a8"
            ],
            [
             0.3333333333333333,
             "#9c179e"
            ],
            [
             0.4444444444444444,
             "#bd3786"
            ],
            [
             0.5555555555555556,
             "#d8576b"
            ],
            [
             0.6666666666666666,
             "#ed7953"
            ],
            [
             0.7777777777777778,
             "#fb9f3a"
            ],
            [
             0.8888888888888888,
             "#fdca26"
            ],
            [
             1,
             "#f0f921"
            ]
           ],
           "sequentialminus": [
            [
             0,
             "#0d0887"
            ],
            [
             0.1111111111111111,
             "#46039f"
            ],
            [
             0.2222222222222222,
             "#7201a8"
            ],
            [
             0.3333333333333333,
             "#9c179e"
            ],
            [
             0.4444444444444444,
             "#bd3786"
            ],
            [
             0.5555555555555556,
             "#d8576b"
            ],
            [
             0.6666666666666666,
             "#ed7953"
            ],
            [
             0.7777777777777778,
             "#fb9f3a"
            ],
            [
             0.8888888888888888,
             "#fdca26"
            ],
            [
             1,
             "#f0f921"
            ]
           ]
          },
          "colorway": [
           "#636efa",
           "#EF553B",
           "#00cc96",
           "#ab63fa",
           "#FFA15A",
           "#19d3f3",
           "#FF6692",
           "#B6E880",
           "#FF97FF",
           "#FECB52"
          ],
          "font": {
           "color": "#2a3f5f"
          },
          "geo": {
           "bgcolor": "white",
           "lakecolor": "white",
           "landcolor": "#E5ECF6",
           "showlakes": true,
           "showland": true,
           "subunitcolor": "white"
          },
          "hoverlabel": {
           "align": "left"
          },
          "hovermode": "closest",
          "mapbox": {
           "style": "light"
          },
          "paper_bgcolor": "white",
          "plot_bgcolor": "#E5ECF6",
          "polar": {
           "angularaxis": {
            "gridcolor": "white",
            "linecolor": "white",
            "ticks": ""
           },
           "bgcolor": "#E5ECF6",
           "radialaxis": {
            "gridcolor": "white",
            "linecolor": "white",
            "ticks": ""
           }
          },
          "scene": {
           "xaxis": {
            "backgroundcolor": "#E5ECF6",
            "gridcolor": "white",
            "gridwidth": 2,
            "linecolor": "white",
            "showbackground": true,
            "ticks": "",
            "zerolinecolor": "white"
           },
           "yaxis": {
            "backgroundcolor": "#E5ECF6",
            "gridcolor": "white",
            "gridwidth": 2,
            "linecolor": "white",
            "showbackground": true,
            "ticks": "",
            "zerolinecolor": "white"
           },
           "zaxis": {
            "backgroundcolor": "#E5ECF6",
            "gridcolor": "white",
            "gridwidth": 2,
            "linecolor": "white",
            "showbackground": true,
            "ticks": "",
            "zerolinecolor": "white"
           }
          },
          "shapedefaults": {
           "line": {
            "color": "#2a3f5f"
           }
          },
          "ternary": {
           "aaxis": {
            "gridcolor": "white",
            "linecolor": "white",
            "ticks": ""
           },
           "baxis": {
            "gridcolor": "white",
            "linecolor": "white",
            "ticks": ""
           },
           "bgcolor": "#E5ECF6",
           "caxis": {
            "gridcolor": "white",
            "linecolor": "white",
            "ticks": ""
           }
          },
          "title": {
           "x": 0.05
          },
          "xaxis": {
           "automargin": true,
           "gridcolor": "white",
           "linecolor": "white",
           "ticks": "",
           "title": {
            "standoff": 15
           },
           "zerolinecolor": "white",
           "zerolinewidth": 2
          },
          "yaxis": {
           "automargin": true,
           "gridcolor": "white",
           "linecolor": "white",
           "ticks": "",
           "title": {
            "standoff": 15
           },
           "zerolinecolor": "white",
           "zerolinewidth": 2
          }
         }
        },
        "title": {
         "text": "Single house prediction with linear kernel SVR"
        },
        "xaxis": {
         "anchor": "y",
         "domain": [
          0,
          1
         ],
         "title": {
          "text": "Date and time"
         }
        },
        "yaxis": {
         "anchor": "x",
         "domain": [
          0,
          1
         ],
         "title": {
          "text": "meter value reading"
         }
        }
       }
      },
      "text/html": [
       "<div>                            <div id=\"f0ce0fd4-eed0-455d-b94e-f4dcd04b2420\" class=\"plotly-graph-div\" style=\"height:525px; width:100%;\"></div>            <script type=\"text/javascript\">                require([\"plotly\"], function(Plotly) {                    window.PLOTLYENV=window.PLOTLYENV || {};                                    if (document.getElementById(\"f0ce0fd4-eed0-455d-b94e-f4dcd04b2420\")) {                    Plotly.newPlot(                        \"f0ce0fd4-eed0-455d-b94e-f4dcd04b2420\",                        [{\"mode\": \"markers\", \"name\": \"actual\", \"type\": \"scatter\", \"x\": [\"2015-10-01T05:14:44+00:00\", \"2015-10-01T05:42:34+00:00\", \"2015-10-01T07:02:37+00:00\", \"2015-10-01T07:12:38+00:00\", \"2015-10-01T07:20:36+00:00\", \"2015-10-01T07:23:39+00:00\", \"2015-10-01T08:59:41+00:00\", \"2015-10-01T09:30:40+00:00\", \"2015-10-01T09:34:37+00:00\", \"2015-10-01T10:14:35+00:00\", \"2015-10-01T10:17:32+00:00\", \"2015-10-01T11:23:36+00:00\", \"2015-10-01T12:26:51+00:00\", \"2015-10-01T13:19:40+00:00\", \"2015-10-01T13:44:40+00:00\", \"2015-10-01T13:54:30+00:00\", \"2015-10-01T14:36:34+00:00\", \"2015-10-01T16:24:52+00:00\", \"2015-10-01T17:29:40+00:00\", \"2015-10-01T20:04:40+00:00\", \"2015-10-01T20:20:41+00:00\", \"2015-10-01T21:22:43+00:00\", \"2015-10-01T22:03:44+00:00\", \"2015-10-01T22:11:38+00:00\", \"2015-10-01T22:24:32+00:00\", \"2015-10-01T22:54:31+00:00\", \"2015-10-01T23:02:35+00:00\", \"2015-10-01T23:59:38+00:00\", \"2015-10-02T00:44:49+00:00\", \"2015-10-02T00:57:48+00:00\", \"2015-10-02T02:13:46+00:00\", \"2015-10-02T02:16:44+00:00\", \"2015-10-02T02:33:31+00:00\", \"2015-10-02T02:54:36+00:00\", \"2015-10-02T03:34:32+00:00\", \"2015-10-02T04:07:40+00:00\", \"2015-10-02T04:57:49+00:00\", \"2015-10-02T05:01:51+00:00\", \"2015-10-02T06:14:44+00:00\", \"2015-10-02T06:24:44+00:00\", \"2015-10-02T07:15:34+00:00\", \"2015-10-02T08:35:41+00:00\", \"2015-10-02T08:50:46+00:00\", \"2015-10-02T09:24:51+00:00\", \"2015-10-02T10:44:41+00:00\", \"2015-10-02T11:13:39+00:00\", \"2015-10-02T11:17:37+00:00\", \"2015-10-02T12:07:29+00:00\", \"2015-10-02T13:53:46+00:00\", \"2015-10-02T14:05:45+00:00\", \"2015-10-02T14:44:46+00:00\", \"2015-10-02T15:17:35+00:00\", \"2015-10-02T15:43:31+00:00\", \"2015-10-02T16:24:31+00:00\", \"2015-10-02T16:44:40+00:00\", \"2015-10-02T16:53:40+00:00\", \"2015-10-02T18:26:42+00:00\", \"2015-10-02T19:34:40+00:00\", \"2015-10-02T20:30:31+00:00\", \"2015-10-02T20:42:34+00:00\", \"2015-10-02T23:35:34+00:00\", \"2015-10-03T00:34:34+00:00\", \"2015-10-03T01:14:42+00:00\", \"2015-10-03T01:53:48+00:00\", \"2015-10-03T02:29:47+00:00\", \"2015-10-03T03:04:44+00:00\", \"2015-10-03T03:45:32+00:00\", \"2015-10-03T04:04:38+00:00\", \"2015-10-03T04:22:33+00:00\", \"2015-10-03T04:56:30+00:00\", \"2015-10-03T04:59:31+00:00\", \"2015-10-03T05:19:41+00:00\", \"2015-10-03T05:49:46+00:00\", \"2015-10-03T07:03:44+00:00\", \"2015-10-03T07:32:47+00:00\", \"2015-10-03T08:24:38+00:00\", \"2015-10-03T08:36:37+00:00\", \"2015-10-03T09:47:42+00:00\", \"2015-10-03T10:53:47+00:00\", \"2015-10-03T11:36:43+00:00\", \"2015-10-03T13:18:31+00:00\", \"2015-10-03T14:03:42+00:00\", \"2015-10-03T14:54:56+00:00\", \"2015-10-03T15:01:49+00:00\", \"2015-10-03T15:16:47+00:00\", \"2015-10-03T15:49:44+00:00\", \"2015-10-03T15:57:48+00:00\", \"2015-10-03T16:01:48+00:00\", \"2015-10-03T16:09:42+00:00\", \"2015-10-03T16:24:34+00:00\", \"2015-10-03T16:56:33+00:00\", \"2015-10-03T16:59:35+00:00\", \"2015-10-03T17:25:35+00:00\", \"2015-10-03T17:46:36+00:00\", \"2015-10-03T17:57:42+00:00\", \"2015-10-03T18:07:41+00:00\", \"2015-10-03T18:47:53+00:00\", \"2015-10-03T19:12:48+00:00\", \"2015-10-03T20:17:46+00:00\", \"2015-10-03T20:48:41+00:00\", \"2015-10-03T21:04:36+00:00\", \"2015-10-03T21:33:34+00:00\", \"2015-10-03T22:25:41+00:00\", \"2015-10-03T22:29:43+00:00\", \"2015-10-03T23:13:54+00:00\", \"2015-10-03T23:19:57+00:00\", \"2015-10-04T00:08:45+00:00\", \"2015-10-04T00:09:44+00:00\", \"2015-10-04T00:17:48+00:00\", \"2015-10-04T01:49:36+00:00\", \"2015-10-04T02:33:41+00:00\", \"2015-10-04T02:52:46+00:00\", \"2015-10-04T04:14:49+00:00\", \"2015-10-04T05:55:35+00:00\", \"2015-10-04T06:49:41+00:00\", \"2015-10-04T07:39:55+00:00\", \"2015-10-04T07:50:50+00:00\", \"2015-10-04T08:03:46+00:00\", \"2015-10-04T08:05:48+00:00\", \"2015-10-04T08:14:44+00:00\", \"2015-10-04T08:37:46+00:00\", \"2015-10-04T09:25:42+00:00\", \"2015-10-04T10:12:34+00:00\", \"2015-10-04T12:03:49+00:00\", \"2015-10-04T13:40:39+00:00\", \"2015-10-04T15:17:43+00:00\", \"2015-10-04T15:27:48+00:00\", \"2015-10-04T16:43:46+00:00\", \"2015-10-04T16:54:44+00:00\", \"2015-10-04T17:15:47+00:00\", \"2015-10-04T17:34:35+00:00\", \"2015-10-04T18:29:32+00:00\", \"2015-10-04T18:32:36+00:00\", \"2015-10-04T18:35:36+00:00\", \"2015-10-04T18:54:37+00:00\", \"2015-10-04T19:44:45+00:00\", \"2015-10-04T20:21:55+00:00\", \"2015-10-04T20:37:43+00:00\", \"2015-10-04T20:45:48+00:00\", \"2015-10-04T21:10:45+00:00\", \"2015-10-04T21:24:48+00:00\", \"2015-10-04T21:49:38+00:00\", \"2015-10-04T22:37:33+00:00\", \"2015-10-04T22:49:37+00:00\", \"2015-10-05T00:24:55+00:00\", \"2015-10-05T01:06:46+00:00\", \"2015-10-05T01:44:45+00:00\", \"2015-10-05T02:48:34+00:00\", \"2015-10-05T06:09:35+00:00\", \"2015-10-05T06:59:35+00:00\", \"2015-10-05T07:16:36+00:00\", \"2015-10-05T07:35:40+00:00\", \"2015-10-05T07:37:41+00:00\", \"2015-10-05T09:20:50+00:00\", \"2015-10-05T09:42:46+00:00\", \"2015-10-05T09:47:44+00:00\", \"2015-10-05T10:15:41+00:00\", \"2015-10-05T10:27:37+00:00\", \"2015-10-05T10:43:42+00:00\", \"2015-10-05T10:53:38+00:00\", \"2015-10-05T11:13:34+00:00\", \"2015-10-05T11:57:44+00:00\", \"2015-10-05T12:07:44+00:00\", \"2015-10-05T12:09:42+00:00\", \"2015-10-05T13:14:51+00:00\", \"2015-10-05T13:49:50+00:00\", \"2015-10-05T14:17:48+00:00\", \"2015-10-05T14:42:40+00:00\", \"2015-10-05T14:57:42+00:00\", \"2015-10-05T16:35:48+00:00\", \"2015-10-05T16:50:50+00:00\", \"2015-10-05T17:04:55+00:00\", \"2015-10-05T18:23:50+00:00\", \"2015-10-05T20:36:44+00:00\", \"2015-10-05T21:44:48+00:00\", \"2015-10-05T22:43:48+00:00\", \"2015-10-05T22:59:38+00:00\", \"2015-10-05T23:50:34+00:00\", \"2015-10-06T02:50:50+00:00\", \"2015-10-06T02:59:43+00:00\", \"2015-10-06T03:07:36+00:00\", \"2015-10-06T03:10:37+00:00\", \"2015-10-06T03:27:43+00:00\", \"2015-10-06T04:52:46+00:00\", \"2015-10-06T06:25:46+00:00\", \"2015-10-06T07:45:42+00:00\", \"2015-10-06T08:11:36+00:00\", \"2015-10-06T08:40:38+00:00\", \"2015-10-06T08:49:42+00:00\", \"2015-10-06T09:00:44+00:00\", \"2015-10-06T09:06:45+00:00\", \"2015-10-06T09:56:52+00:00\", \"2015-10-06T10:27:48+00:00\", \"2015-10-06T10:32:51+00:00\", \"2015-10-06T14:34:50+00:00\", \"2015-10-06T16:29:37+00:00\", \"2015-10-06T17:11:42+00:00\", \"2015-10-06T19:06:47+00:00\", \"2015-10-06T19:30:50+00:00\", \"2015-10-06T19:59:39+00:00\", \"2015-10-06T21:44:44+00:00\", \"2015-10-06T21:47:47+00:00\", \"2015-10-06T22:45:57+00:00\", \"2015-10-06T22:47:55+00:00\", \"2015-10-06T23:12:49+00:00\", \"2015-10-06T23:37:49+00:00\", \"2015-10-07T00:38:43+00:00\", \"2015-10-07T01:28:40+00:00\", \"2015-10-07T02:04:47+00:00\", \"2015-10-07T02:54:00+00:00\", \"2015-10-07T03:14:48+00:00\", \"2015-10-07T03:22:49+00:00\", \"2015-10-07T03:33:49+00:00\", \"2015-10-07T04:09:47+00:00\", \"2015-10-07T04:17:40+00:00\", \"2015-10-07T05:02:42+00:00\", \"2015-10-07T05:52:44+00:00\", \"2015-10-07T06:26:52+00:00\", \"2015-10-07T08:06:51+00:00\", \"2015-10-07T08:09:53+00:00\", \"2015-10-07T08:17:50+00:00\", \"2015-10-07T08:24:46+00:00\", \"2015-10-07T08:29:40+00:00\", \"2015-10-07T08:50:44+00:00\", \"2015-10-07T09:27:35+00:00\", \"2015-10-07T09:57:39+00:00\", \"2015-10-07T10:35:50+00:00\", \"2015-10-07T11:39:50+00:00\", \"2015-10-07T12:51:39+00:00\", \"2015-10-07T13:20:38+00:00\", \"2015-10-07T13:23:40+00:00\", \"2015-10-07T13:26:42+00:00\", \"2015-10-07T13:27:41+00:00\", \"2015-10-07T14:07:39+00:00\", \"2015-10-07T14:09:39+00:00\", \"2015-10-07T16:04:47+00:00\", \"2015-10-07T16:15:50+00:00\", \"2015-10-07T17:07:43+00:00\", \"2015-10-07T19:27:56+00:00\", \"2015-10-07T20:17:48+00:00\", \"2015-10-07T20:37:50+00:00\", \"2015-10-07T20:45:54+00:00\", \"2015-10-07T20:56:48+00:00\", \"2015-10-07T21:20:45+00:00\", \"2015-10-07T21:24:45+00:00\", \"2015-10-07T21:34:45+00:00\", \"2015-10-07T22:14:40+00:00\", \"2015-10-07T22:29:42+00:00\", \"2015-10-07T23:03:48+00:00\", \"2015-10-08T00:27:50+00:00\"], \"y\": [93470, 93470, 93470, 93470, 93470, 93470, 93470, 93470, 93470, 93470, 93470, 93472, 93472, 93472, 93472, 93472, 93472, 93474, 93474, 93474, 93474, 93474, 93476, 93476, 93476, 93476, 93476, 93476, 93482, 93482, 93484, 93484, 93484, 93484, 93484, 93484, 93484, 93484, 93484, 93484, 93484, 93486, 93486, 93486, 93486, 93486, 93486, 93486, 93488, 93488, 93488, 93488, 93488, 93488, 93488, 93488, 93488, 93490, 93490, 93490, 93508, 93510, 93516, 93520, 93522, 93522, 93522, 93522, 93522, 93522, 93522, 93522, 93522, 93522, 93522, 93524, 93524, 93524, 93524, 93524, 93524, 93526, 93526, 93526, 93526, 93526, 93526, 93526, 93526, 93526, 93526, 93526, 93532, 93532, 93532, 93532, 93532, 93532, 93532, 93532, 93532, 93532, 93534, 93534, 93538, 93542, 93548, 93548, 93548, 93548, 93548, 93548, 93550, 93550, 93550, 93550, 93550, 93550, 93550, 93550, 93550, 93552, 93552, 93552, 93560, 93568, 93568, 93568, 93568, 93568, 93568, 93570, 93570, 93570, 93570, 93570, 93570, 93570, 93570, 93570, 93570, 93570, 93570, 93570, 93588, 93588, 93588, 93588, 93590, 93590, 93590, 93590, 93590, 93590, 93592, 93592, 93592, 93592, 93592, 93592, 93592, 93592, 93592, 93592, 93592, 93592, 93592, 93592, 93592, 93594, 93594, 93596, 93600, 93602, 93608, 93608, 93608, 93614, 93624, 93624, 93624, 93624, 93624, 93624, 93624, 93626, 93626, 93626, 93626, 93626, 93626, 93626, 93626, 93626, 93632, 93636, 93636, 93636, 93636, 93636, 93638, 93638, 93638, 93638, 93638, 93638, 93638, 93648, 93654, 93656, 93656, 93656, 93656, 93656, 93656, 93656, 93656, 93656, 93656, 93656, 93658, 93658, 93658, 93658, 93658, 93658, 93658, 93658, 93658, 93668, 93670, 93670, 93670, 93670, 93670, 93670, 93670, 93678, 93678, 93678, 93680, 93680, 93680, 93680, 93680, 93680, 93680, 93680, 93680, 93686]}, {\"mode\": \"markers\", \"name\": \"predictions\", \"type\": \"scatter\", \"x\": [\"2015-10-01T12:00:00+00:00\", \"2015-10-01T13:00:00+00:00\", \"2015-10-01T14:00:00+00:00\", \"2015-10-01T15:00:00+00:00\", \"2015-10-01T16:00:00+00:00\", \"2015-10-01T17:00:00+00:00\", \"2015-10-01T18:00:00+00:00\", \"2015-10-01T19:00:00+00:00\", \"2015-10-01T20:00:00+00:00\", \"2015-10-01T21:00:00+00:00\", \"2015-10-01T22:00:00+00:00\", \"2015-10-01T23:00:00+00:00\", \"2015-10-02T00:00:00+00:00\", \"2015-10-02T01:00:00+00:00\", \"2015-10-02T02:00:00+00:00\", \"2015-10-02T03:00:00+00:00\", \"2015-10-02T04:00:00+00:00\", \"2015-10-02T05:00:00+00:00\", \"2015-10-02T06:00:00+00:00\", \"2015-10-02T07:00:00+00:00\", \"2015-10-02T08:00:00+00:00\", \"2015-10-02T09:00:00+00:00\", \"2015-10-02T10:00:00+00:00\", \"2015-10-02T11:00:00+00:00\", \"2015-10-02T12:00:00+00:00\", \"2015-10-02T13:00:00+00:00\", \"2015-10-02T14:00:00+00:00\", \"2015-10-02T15:00:00+00:00\", \"2015-10-02T16:00:00+00:00\", \"2015-10-02T17:00:00+00:00\", \"2015-10-02T18:00:00+00:00\", \"2015-10-02T19:00:00+00:00\", \"2015-10-02T20:00:00+00:00\", \"2015-10-02T21:00:00+00:00\", \"2015-10-02T22:00:00+00:00\", \"2015-10-02T23:00:00+00:00\", \"2015-10-03T00:00:00+00:00\", \"2015-10-03T01:00:00+00:00\", \"2015-10-03T02:00:00+00:00\", \"2015-10-03T03:00:00+00:00\", \"2015-10-03T04:00:00+00:00\", \"2015-10-03T05:00:00+00:00\", \"2015-10-03T06:00:00+00:00\", \"2015-10-03T07:00:00+00:00\", \"2015-10-03T08:00:00+00:00\", \"2015-10-03T09:00:00+00:00\", \"2015-10-03T10:00:00+00:00\", \"2015-10-03T11:00:00+00:00\", \"2015-10-03T12:00:00+00:00\", \"2015-10-03T13:00:00+00:00\", \"2015-10-03T14:00:00+00:00\", \"2015-10-03T15:00:00+00:00\", \"2015-10-03T16:00:00+00:00\", \"2015-10-03T17:00:00+00:00\", \"2015-10-03T18:00:00+00:00\", \"2015-10-03T19:00:00+00:00\", \"2015-10-03T20:00:00+00:00\", \"2015-10-03T21:00:00+00:00\", \"2015-10-03T22:00:00+00:00\", \"2015-10-03T23:00:00+00:00\", \"2015-10-04T00:00:00+00:00\", \"2015-10-04T01:00:00+00:00\", \"2015-10-04T02:00:00+00:00\", \"2015-10-04T03:00:00+00:00\", \"2015-10-04T04:00:00+00:00\", \"2015-10-04T05:00:00+00:00\", \"2015-10-04T06:00:00+00:00\", \"2015-10-04T07:00:00+00:00\", \"2015-10-04T08:00:00+00:00\", \"2015-10-04T09:00:00+00:00\", \"2015-10-04T10:00:00+00:00\", \"2015-10-04T11:00:00+00:00\", \"2015-10-04T12:00:00+00:00\", \"2015-10-04T13:00:00+00:00\", \"2015-10-04T14:00:00+00:00\", \"2015-10-04T15:00:00+00:00\", \"2015-10-04T16:00:00+00:00\", \"2015-10-04T17:00:00+00:00\", \"2015-10-04T18:00:00+00:00\", \"2015-10-04T19:00:00+00:00\", \"2015-10-04T20:00:00+00:00\", \"2015-10-04T21:00:00+00:00\", \"2015-10-04T22:00:00+00:00\", \"2015-10-04T23:00:00+00:00\", \"2015-10-05T00:00:00+00:00\", \"2015-10-05T01:00:00+00:00\", \"2015-10-05T02:00:00+00:00\", \"2015-10-05T03:00:00+00:00\", \"2015-10-05T04:00:00+00:00\", \"2015-10-05T05:00:00+00:00\", \"2015-10-05T06:00:00+00:00\", \"2015-10-05T07:00:00+00:00\", \"2015-10-05T08:00:00+00:00\", \"2015-10-05T09:00:00+00:00\", \"2015-10-05T10:00:00+00:00\", \"2015-10-05T11:00:00+00:00\", \"2015-10-05T12:00:00+00:00\", \"2015-10-05T13:00:00+00:00\", \"2015-10-05T14:00:00+00:00\", \"2015-10-05T15:00:00+00:00\", \"2015-10-05T16:00:00+00:00\", \"2015-10-05T17:00:00+00:00\", \"2015-10-05T18:00:00+00:00\", \"2015-10-05T19:00:00+00:00\", \"2015-10-05T20:00:00+00:00\", \"2015-10-05T21:00:00+00:00\", \"2015-10-05T22:00:00+00:00\", \"2015-10-05T23:00:00+00:00\", \"2015-10-06T00:00:00+00:00\", \"2015-10-06T01:00:00+00:00\", \"2015-10-06T02:00:00+00:00\", \"2015-10-06T03:00:00+00:00\", \"2015-10-06T04:00:00+00:00\", \"2015-10-06T05:00:00+00:00\", \"2015-10-06T06:00:00+00:00\", \"2015-10-06T07:00:00+00:00\", \"2015-10-06T08:00:00+00:00\", \"2015-10-06T09:00:00+00:00\", \"2015-10-06T10:00:00+00:00\", \"2015-10-06T11:00:00+00:00\", \"2015-10-06T12:00:00+00:00\", \"2015-10-06T13:00:00+00:00\", \"2015-10-06T14:00:00+00:00\", \"2015-10-06T15:00:00+00:00\", \"2015-10-06T16:00:00+00:00\", \"2015-10-06T17:00:00+00:00\", \"2015-10-06T18:00:00+00:00\", \"2015-10-06T19:00:00+00:00\", \"2015-10-06T20:00:00+00:00\", \"2015-10-06T21:00:00+00:00\", \"2015-10-06T22:00:00+00:00\", \"2015-10-06T23:00:00+00:00\", \"2015-10-07T00:00:00+00:00\", \"2015-10-07T01:00:00+00:00\", \"2015-10-07T02:00:00+00:00\", \"2015-10-07T03:00:00+00:00\", \"2015-10-07T04:00:00+00:00\", \"2015-10-07T05:00:00+00:00\", \"2015-10-07T06:00:00+00:00\", \"2015-10-07T07:00:00+00:00\", \"2015-10-07T08:00:00+00:00\", \"2015-10-07T09:00:00+00:00\", \"2015-10-07T10:00:00+00:00\", \"2015-10-07T11:00:00+00:00\", \"2015-10-07T12:00:00+00:00\", \"2015-10-07T13:00:00+00:00\", \"2015-10-07T14:00:00+00:00\", \"2015-10-07T15:00:00+00:00\", \"2015-10-07T16:00:00+00:00\", \"2015-10-07T17:00:00+00:00\", \"2015-10-07T18:00:00+00:00\", \"2015-10-07T19:00:00+00:00\", \"2015-10-07T20:00:00+00:00\", \"2015-10-07T21:00:00+00:00\", \"2015-10-07T22:00:00+00:00\", \"2015-10-07T23:00:00+00:00\", \"2015-10-08T00:00:00+00:00\"], \"y\": [93473.89383714886, 93472.19818938943, 93472.11820998485, 93472.15521139278, 93472.20628070728, 93475.08011193191, 93474.19229834991, 93474.17080935158, 93474.2148447128, 93474.18654283807, 93474.19412031869, 93477.97718943562, 93476.09968214143, 93487.34617764584, 93482.2735033336, 93484.98578100886, 93484.12861393648, 93484.23760043985, 93484.10875998418, 93484.08045810946, 93484.08803559007, 93487.87110470701, 93486.17545694757, 93486.095477543, 93486.13247895092, 93486.18354826544, 93489.9089921101, 93488.21334435066, 93488.13336494609, 93488.17036635401, 93488.22143566851, 93488.17138787684, 93491.95445699379, 93490.25880923435, 93490.17882982978, 93490.2158312377, 93513.58244364854, 93512.0238128994, 93527.38620831334, 93525.87490655587, 93522.15522994293, 93522.14888119629, 93522.33164859482, 93522.19570865405, 93522.08803559007, 93525.87110470701, 93524.17545694757, 93524.095477543, 93524.13247895092, 93524.18354826544, 93524.13350047376, 93527.91656959071, 93526.22092183126, 93526.14094242669, 93537.50441874361, 93532.44581233797, 93532.13309389072, 93532.22894315327, 93532.36699613556, 93535.97718943562, 93547.42615705042, 93555.33846847102, 93548.29989826317, 93548.08901181884, 93548.28713523809, 93551.21968325372, 93550.10136858252, 93550.0798795842, 93550.12391494542, 93550.09561307068, 93553.87868218763, 93552.18303442819, 93552.10305502362, 93552.14005643154, 93567.29309229138, 93560.43014353949, 93571.78300954457, 93568.32671848395, 93568.39199738439, 93572.09039693455, 93570.25123175373, 93570.17125234916, 93570.20825375708, 93570.2593230716, 93570.02741574515, 93596.3499043725, 93588.29896228954, 93588.0449414597, 93588.38063986573, 93588.06530314822, 93588.07288062884, 93590.54210835497, 93590.12021924458, 93590.09561307068, 93592.71910989551, 93592.72159054648, 93592.14204862778, 93592.14474573373, 93592.1382116199, 93592.16028637848, 93592.148655435, 93595.08011193191, 93597.96778998624, 93603.79405902053, 93600.34408701645, 93603.09397431495, 93613.63497533045, 93608.53316900747, 93619.34389854276, 93614.2941927298, 93614.16957505653, 93627.14666107502, 93624.34911706077, 93624.1594168512, 93624.07288062884, 93624.08045810946, 93627.8635272264, 93626.16787946696, 93626.08790006238, 93626.1249014703, 93626.17597078483, 93626.12592299315, 93626.13350047376, 93633.52602869095, 93632.24520639854, 93638.00399094821, 93636.22078630359, 93636.17023082633, 93636.25072406814, 93636.18654283807, 93639.117999335, 93638.23018575298, 93638.02683721989, 93638.07087258111, 93656.92002888804, 93662.62570089554, 93657.1219514282, 93656.11858682717, 93656.40282878025, 93656.28921328169, 93656.11684822621, 93658.71153241489, 93658.71401306587, 93658.13447114718, 93658.13716825312, 93658.13063413928, 93680.36178580676, 93671.00048264206, 93670.07880172283, 93670.23367756417, 93685.60065561684, 93678.47485978002, 93678.11780340181, 93681.57469531891, 93680.92269411415, 93680.20829653168, 93680.03419320172]}, {\"hovertemplate\": \"<b>OLS trendline</b><br>y = 0.000395215 * x + -477114<br>R<sup>2</sup>=0.989942<br><br>x=%{x}<br>y=%{y} <b>(trend)</b><extra></extra>\", \"legendgroup\": \"\", \"line\": {\"color\": \"Yellow\"}, \"marker\": {\"color\": \"#636efa\", \"symbol\": \"circle\"}, \"mode\": \"lines\", \"name\": \"predictions\", \"showlegend\": false, \"type\": \"scatter\", \"x\": [\"2015-10-01T12:00:00+00:00\", \"2015-10-01T13:00:00+00:00\", \"2015-10-01T14:00:00+00:00\", \"2015-10-01T15:00:00+00:00\", \"2015-10-01T16:00:00+00:00\", \"2015-10-01T17:00:00+00:00\", \"2015-10-01T18:00:00+00:00\", \"2015-10-01T19:00:00+00:00\", \"2015-10-01T20:00:00+00:00\", \"2015-10-01T21:00:00+00:00\", \"2015-10-01T22:00:00+00:00\", \"2015-10-01T23:00:00+00:00\", \"2015-10-02T00:00:00+00:00\", \"2015-10-02T01:00:00+00:00\", \"2015-10-02T02:00:00+00:00\", \"2015-10-02T03:00:00+00:00\", \"2015-10-02T04:00:00+00:00\", \"2015-10-02T05:00:00+00:00\", \"2015-10-02T06:00:00+00:00\", \"2015-10-02T07:00:00+00:00\", \"2015-10-02T08:00:00+00:00\", \"2015-10-02T09:00:00+00:00\", \"2015-10-02T10:00:00+00:00\", \"2015-10-02T11:00:00+00:00\", \"2015-10-02T12:00:00+00:00\", \"2015-10-02T13:00:00+00:00\", \"2015-10-02T14:00:00+00:00\", \"2015-10-02T15:00:00+00:00\", \"2015-10-02T16:00:00+00:00\", \"2015-10-02T17:00:00+00:00\", \"2015-10-02T18:00:00+00:00\", \"2015-10-02T19:00:00+00:00\", \"2015-10-02T20:00:00+00:00\", \"2015-10-02T21:00:00+00:00\", \"2015-10-02T22:00:00+00:00\", \"2015-10-02T23:00:00+00:00\", \"2015-10-03T00:00:00+00:00\", \"2015-10-03T01:00:00+00:00\", \"2015-10-03T02:00:00+00:00\", \"2015-10-03T03:00:00+00:00\", \"2015-10-03T04:00:00+00:00\", \"2015-10-03T05:00:00+00:00\", \"2015-10-03T06:00:00+00:00\", \"2015-10-03T07:00:00+00:00\", \"2015-10-03T08:00:00+00:00\", \"2015-10-03T09:00:00+00:00\", \"2015-10-03T10:00:00+00:00\", \"2015-10-03T11:00:00+00:00\", \"2015-10-03T12:00:00+00:00\", \"2015-10-03T13:00:00+00:00\", \"2015-10-03T14:00:00+00:00\", \"2015-10-03T15:00:00+00:00\", \"2015-10-03T16:00:00+00:00\", \"2015-10-03T17:00:00+00:00\", \"2015-10-03T18:00:00+00:00\", \"2015-10-03T19:00:00+00:00\", \"2015-10-03T20:00:00+00:00\", \"2015-10-03T21:00:00+00:00\", \"2015-10-03T22:00:00+00:00\", \"2015-10-03T23:00:00+00:00\", \"2015-10-04T00:00:00+00:00\", \"2015-10-04T01:00:00+00:00\", \"2015-10-04T02:00:00+00:00\", \"2015-10-04T03:00:00+00:00\", \"2015-10-04T04:00:00+00:00\", \"2015-10-04T05:00:00+00:00\", \"2015-10-04T06:00:00+00:00\", \"2015-10-04T07:00:00+00:00\", \"2015-10-04T08:00:00+00:00\", \"2015-10-04T09:00:00+00:00\", \"2015-10-04T10:00:00+00:00\", \"2015-10-04T11:00:00+00:00\", \"2015-10-04T12:00:00+00:00\", \"2015-10-04T13:00:00+00:00\", \"2015-10-04T14:00:00+00:00\", \"2015-10-04T15:00:00+00:00\", \"2015-10-04T16:00:00+00:00\", \"2015-10-04T17:00:00+00:00\", \"2015-10-04T18:00:00+00:00\", \"2015-10-04T19:00:00+00:00\", \"2015-10-04T20:00:00+00:00\", \"2015-10-04T21:00:00+00:00\", \"2015-10-04T22:00:00+00:00\", \"2015-10-04T23:00:00+00:00\", \"2015-10-05T00:00:00+00:00\", \"2015-10-05T01:00:00+00:00\", \"2015-10-05T02:00:00+00:00\", \"2015-10-05T03:00:00+00:00\", \"2015-10-05T04:00:00+00:00\", \"2015-10-05T05:00:00+00:00\", \"2015-10-05T06:00:00+00:00\", \"2015-10-05T07:00:00+00:00\", \"2015-10-05T08:00:00+00:00\", \"2015-10-05T09:00:00+00:00\", \"2015-10-05T10:00:00+00:00\", \"2015-10-05T11:00:00+00:00\", \"2015-10-05T12:00:00+00:00\", \"2015-10-05T13:00:00+00:00\", \"2015-10-05T14:00:00+00:00\", \"2015-10-05T15:00:00+00:00\", \"2015-10-05T16:00:00+00:00\", \"2015-10-05T17:00:00+00:00\", \"2015-10-05T18:00:00+00:00\", \"2015-10-05T19:00:00+00:00\", \"2015-10-05T20:00:00+00:00\", \"2015-10-05T21:00:00+00:00\", \"2015-10-05T22:00:00+00:00\", \"2015-10-05T23:00:00+00:00\", \"2015-10-06T00:00:00+00:00\", \"2015-10-06T01:00:00+00:00\", \"2015-10-06T02:00:00+00:00\", \"2015-10-06T03:00:00+00:00\", \"2015-10-06T04:00:00+00:00\", \"2015-10-06T05:00:00+00:00\", \"2015-10-06T06:00:00+00:00\", \"2015-10-06T07:00:00+00:00\", \"2015-10-06T08:00:00+00:00\", \"2015-10-06T09:00:00+00:00\", \"2015-10-06T10:00:00+00:00\", \"2015-10-06T11:00:00+00:00\", \"2015-10-06T12:00:00+00:00\", \"2015-10-06T13:00:00+00:00\", \"2015-10-06T14:00:00+00:00\", \"2015-10-06T15:00:00+00:00\", \"2015-10-06T16:00:00+00:00\", \"2015-10-06T17:00:00+00:00\", \"2015-10-06T18:00:00+00:00\", \"2015-10-06T19:00:00+00:00\", \"2015-10-06T20:00:00+00:00\", \"2015-10-06T21:00:00+00:00\", \"2015-10-06T22:00:00+00:00\", \"2015-10-06T23:00:00+00:00\", \"2015-10-07T00:00:00+00:00\", \"2015-10-07T01:00:00+00:00\", \"2015-10-07T02:00:00+00:00\", \"2015-10-07T03:00:00+00:00\", \"2015-10-07T04:00:00+00:00\", \"2015-10-07T05:00:00+00:00\", \"2015-10-07T06:00:00+00:00\", \"2015-10-07T07:00:00+00:00\", \"2015-10-07T08:00:00+00:00\", \"2015-10-07T09:00:00+00:00\", \"2015-10-07T10:00:00+00:00\", \"2015-10-07T11:00:00+00:00\", \"2015-10-07T12:00:00+00:00\", \"2015-10-07T13:00:00+00:00\", \"2015-10-07T14:00:00+00:00\", \"2015-10-07T15:00:00+00:00\", \"2015-10-07T16:00:00+00:00\", \"2015-10-07T17:00:00+00:00\", \"2015-10-07T18:00:00+00:00\", \"2015-10-07T19:00:00+00:00\", \"2015-10-07T20:00:00+00:00\", \"2015-10-07T21:00:00+00:00\", \"2015-10-07T22:00:00+00:00\", \"2015-10-07T23:00:00+00:00\", \"2015-10-08T00:00:00+00:00\"], \"xaxis\": \"x\", \"y\": [93458.04726206721, 93459.47003543423, 93460.89280880126, 93462.31558216829, 93463.73835553532, 93465.16112890223, 93466.58390226925, 93468.00667563628, 93469.4294490033, 93470.85222237022, 93472.27499573724, 93473.69776910427, 93475.1205424713, 93476.54331583832, 93477.96608920523, 93479.38886257226, 93480.81163593929, 93482.23440930631, 93483.65718267323, 93485.07995604025, 93486.50272940728, 93487.9255027743, 93489.34827614133, 93490.77104950824, 93492.19382287527, 93493.6165962423, 93495.03936960932, 93496.46214297623, 93497.88491634326, 93499.30768971029, 93500.73046307731, 93502.15323644434, 93503.57600981125, 93504.99878317828, 93506.4215565453, 93507.84432991233, 93509.26710327924, 93510.68987664627, 93512.1126500133, 93513.53542338032, 93514.95819674723, 93516.38097011426, 93517.80374348129, 93519.22651684831, 93520.64929021534, 93522.07206358225, 93523.49483694928, 93524.9176103163, 93526.34038368333, 93527.76315705024, 93529.18593041727, 93530.6087037843, 93532.03147715132, 93533.45425051835, 93534.87702388526, 93536.29979725229, 93537.72257061931, 93539.14534398634, 93540.56811735325, 93541.99089072028, 93543.4136640873, 93544.83643745433, 93546.25921082136, 93547.68198418827, 93549.1047575553, 93550.52753092232, 93551.95030428935, 93553.37307765626, 93554.79585102329, 93556.21862439031, 93557.64139775734, 93559.06417112425, 93560.48694449128, 93561.9097178583, 93563.33249122533, 93564.75526459236, 93566.17803795927, 93567.6008113263, 93569.02358469332, 93570.44635806035, 93571.86913142726, 93573.29190479429, 93574.71467816131, 93576.13745152834, 93577.56022489537, 93578.98299826228, 93580.4057716293, 93581.82854499633, 93583.25131836336, 93584.67409173027, 93586.0968650973, 93587.51963846432, 93588.94241183135, 93590.36518519837, 93591.78795856528, 93593.21073193231, 93594.63350529934, 93596.05627866636, 93597.47905203328, 93598.9018254003, 93600.32459876733, 93601.74737213436, 93603.17014550138, 93604.5929188683, 93606.01569223532, 93607.43846560235, 93608.86123896937, 93610.28401233628, 93611.70678570331, 93613.12955907034, 93614.55233243736, 93615.97510580427, 93617.3978791713, 93618.82065253833, 93620.24342590536, 93621.66619927238, 93623.08897263929, 93624.51174600632, 93625.93451937335, 93627.35729274037, 93628.78006610728, 93630.20283947431, 93631.62561284134, 93633.04838620836, 93634.47115957539, 93635.8939329423, 93637.31670630933, 93638.73947967635, 93640.16225304338, 93641.58502641029, 93643.00779977732, 93644.43057314435, 93645.85334651137, 93647.2761198784, 93648.69889324531, 93650.12166661234, 93651.54443997936, 93652.96721334639, 93654.3899867133, 93655.81276008033, 93657.23553344735, 93658.65830681438, 93660.08108018129, 93661.50385354832, 93662.92662691534, 93664.34940028237, 93665.7721736494, 93667.19494701631, 93668.61772038334, 93670.04049375036, 93671.46326711739, 93672.8860404843, 93674.30881385133, 93675.73158721835, 93677.15436058538, 93678.5771339524, 93679.99990731932], \"yaxis\": \"y\"}],                        {\"legend\": {\"title\": {\"text\": \"Data Category\"}, \"tracegroupgap\": 0}, \"margin\": {\"t\": 60}, \"showlegend\": true, \"template\": {\"data\": {\"bar\": [{\"error_x\": {\"color\": \"#2a3f5f\"}, \"error_y\": {\"color\": \"#2a3f5f\"}, \"marker\": {\"line\": {\"color\": \"#E5ECF6\", \"width\": 0.5}}, \"type\": \"bar\"}], \"barpolar\": [{\"marker\": {\"line\": {\"color\": \"#E5ECF6\", \"width\": 0.5}}, \"type\": \"barpolar\"}], \"carpet\": [{\"aaxis\": {\"endlinecolor\": \"#2a3f5f\", \"gridcolor\": \"white\", \"linecolor\": \"white\", \"minorgridcolor\": \"white\", \"startlinecolor\": \"#2a3f5f\"}, \"baxis\": {\"endlinecolor\": \"#2a3f5f\", \"gridcolor\": \"white\", \"linecolor\": \"white\", \"minorgridcolor\": \"white\", \"startlinecolor\": \"#2a3f5f\"}, \"type\": \"carpet\"}], \"choropleth\": [{\"colorbar\": {\"outlinewidth\": 0, \"ticks\": \"\"}, \"type\": \"choropleth\"}], \"contour\": [{\"colorbar\": {\"outlinewidth\": 0, \"ticks\": \"\"}, \"colorscale\": [[0.0, \"#0d0887\"], [0.1111111111111111, \"#46039f\"], [0.2222222222222222, \"#7201a8\"], [0.3333333333333333, \"#9c179e\"], [0.4444444444444444, \"#bd3786\"], [0.5555555555555556, \"#d8576b\"], [0.6666666666666666, \"#ed7953\"], [0.7777777777777778, \"#fb9f3a\"], [0.8888888888888888, \"#fdca26\"], [1.0, \"#f0f921\"]], \"type\": \"contour\"}], \"contourcarpet\": [{\"colorbar\": {\"outlinewidth\": 0, \"ticks\": \"\"}, \"type\": \"contourcarpet\"}], \"heatmap\": [{\"colorbar\": {\"outlinewidth\": 0, \"ticks\": \"\"}, \"colorscale\": [[0.0, \"#0d0887\"], [0.1111111111111111, \"#46039f\"], [0.2222222222222222, \"#7201a8\"], [0.3333333333333333, \"#9c179e\"], [0.4444444444444444, \"#bd3786\"], [0.5555555555555556, \"#d8576b\"], [0.6666666666666666, \"#ed7953\"], [0.7777777777777778, \"#fb9f3a\"], [0.8888888888888888, \"#fdca26\"], [1.0, \"#f0f921\"]], \"type\": \"heatmap\"}], \"heatmapgl\": [{\"colorbar\": {\"outlinewidth\": 0, \"ticks\": \"\"}, \"colorscale\": [[0.0, \"#0d0887\"], [0.1111111111111111, \"#46039f\"], [0.2222222222222222, \"#7201a8\"], [0.3333333333333333, \"#9c179e\"], [0.4444444444444444, \"#bd3786\"], [0.5555555555555556, \"#d8576b\"], [0.6666666666666666, \"#ed7953\"], [0.7777777777777778, \"#fb9f3a\"], [0.8888888888888888, \"#fdca26\"], [1.0, \"#f0f921\"]], \"type\": \"heatmapgl\"}], \"histogram\": [{\"marker\": {\"colorbar\": {\"outlinewidth\": 0, \"ticks\": \"\"}}, \"type\": \"histogram\"}], \"histogram2d\": [{\"colorbar\": {\"outlinewidth\": 0, \"ticks\": \"\"}, \"colorscale\": [[0.0, \"#0d0887\"], [0.1111111111111111, \"#46039f\"], [0.2222222222222222, \"#7201a8\"], [0.3333333333333333, \"#9c179e\"], [0.4444444444444444, \"#bd3786\"], [0.5555555555555556, \"#d8576b\"], [0.6666666666666666, \"#ed7953\"], [0.7777777777777778, \"#fb9f3a\"], [0.8888888888888888, \"#fdca26\"], [1.0, \"#f0f921\"]], \"type\": \"histogram2d\"}], \"histogram2dcontour\": [{\"colorbar\": {\"outlinewidth\": 0, \"ticks\": \"\"}, \"colorscale\": [[0.0, \"#0d0887\"], [0.1111111111111111, \"#46039f\"], [0.2222222222222222, \"#7201a8\"], [0.3333333333333333, \"#9c179e\"], [0.4444444444444444, \"#bd3786\"], [0.5555555555555556, \"#d8576b\"], [0.6666666666666666, \"#ed7953\"], [0.7777777777777778, \"#fb9f3a\"], [0.8888888888888888, \"#fdca26\"], [1.0, \"#f0f921\"]], \"type\": \"histogram2dcontour\"}], \"mesh3d\": [{\"colorbar\": {\"outlinewidth\": 0, \"ticks\": \"\"}, \"type\": \"mesh3d\"}], \"parcoords\": [{\"line\": {\"colorbar\": {\"outlinewidth\": 0, \"ticks\": \"\"}}, \"type\": \"parcoords\"}], \"pie\": [{\"automargin\": true, \"type\": \"pie\"}], \"scatter\": [{\"marker\": {\"colorbar\": {\"outlinewidth\": 0, \"ticks\": \"\"}}, \"type\": \"scatter\"}], \"scatter3d\": [{\"line\": {\"colorbar\": {\"outlinewidth\": 0, \"ticks\": \"\"}}, \"marker\": {\"colorbar\": {\"outlinewidth\": 0, \"ticks\": \"\"}}, \"type\": \"scatter3d\"}], \"scattercarpet\": [{\"marker\": {\"colorbar\": {\"outlinewidth\": 0, \"ticks\": \"\"}}, \"type\": \"scattercarpet\"}], \"scattergeo\": [{\"marker\": {\"colorbar\": {\"outlinewidth\": 0, \"ticks\": \"\"}}, \"type\": \"scattergeo\"}], \"scattergl\": [{\"marker\": {\"colorbar\": {\"outlinewidth\": 0, \"ticks\": \"\"}}, \"type\": \"scattergl\"}], \"scattermapbox\": [{\"marker\": {\"colorbar\": {\"outlinewidth\": 0, \"ticks\": \"\"}}, \"type\": \"scattermapbox\"}], \"scatterpolar\": [{\"marker\": {\"colorbar\": {\"outlinewidth\": 0, \"ticks\": \"\"}}, \"type\": \"scatterpolar\"}], \"scatterpolargl\": [{\"marker\": {\"colorbar\": {\"outlinewidth\": 0, \"ticks\": \"\"}}, \"type\": \"scatterpolargl\"}], \"scatterternary\": [{\"marker\": {\"colorbar\": {\"outlinewidth\": 0, \"ticks\": \"\"}}, \"type\": \"scatterternary\"}], \"surface\": [{\"colorbar\": {\"outlinewidth\": 0, \"ticks\": \"\"}, \"colorscale\": [[0.0, \"#0d0887\"], [0.1111111111111111, \"#46039f\"], [0.2222222222222222, \"#7201a8\"], [0.3333333333333333, \"#9c179e\"], [0.4444444444444444, \"#bd3786\"], [0.5555555555555556, \"#d8576b\"], [0.6666666666666666, \"#ed7953\"], [0.7777777777777778, \"#fb9f3a\"], [0.8888888888888888, \"#fdca26\"], [1.0, \"#f0f921\"]], \"type\": \"surface\"}], \"table\": [{\"cells\": {\"fill\": {\"color\": \"#EBF0F8\"}, \"line\": {\"color\": \"white\"}}, \"header\": {\"fill\": {\"color\": \"#C8D4E3\"}, \"line\": {\"color\": \"white\"}}, \"type\": \"table\"}]}, \"layout\": {\"annotationdefaults\": {\"arrowcolor\": \"#2a3f5f\", \"arrowhead\": 0, \"arrowwidth\": 1}, \"coloraxis\": {\"colorbar\": {\"outlinewidth\": 0, \"ticks\": \"\"}}, \"colorscale\": {\"diverging\": [[0, \"#8e0152\"], [0.1, \"#c51b7d\"], [0.2, \"#de77ae\"], [0.3, \"#f1b6da\"], [0.4, \"#fde0ef\"], [0.5, \"#f7f7f7\"], [0.6, \"#e6f5d0\"], [0.7, \"#b8e186\"], [0.8, \"#7fbc41\"], [0.9, \"#4d9221\"], [1, \"#276419\"]], \"sequential\": [[0.0, \"#0d0887\"], [0.1111111111111111, \"#46039f\"], [0.2222222222222222, \"#7201a8\"], [0.3333333333333333, \"#9c179e\"], [0.4444444444444444, \"#bd3786\"], [0.5555555555555556, \"#d8576b\"], [0.6666666666666666, \"#ed7953\"], [0.7777777777777778, \"#fb9f3a\"], [0.8888888888888888, \"#fdca26\"], [1.0, \"#f0f921\"]], \"sequentialminus\": [[0.0, \"#0d0887\"], [0.1111111111111111, \"#46039f\"], [0.2222222222222222, \"#7201a8\"], [0.3333333333333333, \"#9c179e\"], [0.4444444444444444, \"#bd3786\"], [0.5555555555555556, \"#d8576b\"], [0.6666666666666666, \"#ed7953\"], [0.7777777777777778, \"#fb9f3a\"], [0.8888888888888888, \"#fdca26\"], [1.0, \"#f0f921\"]]}, \"colorway\": [\"#636efa\", \"#EF553B\", \"#00cc96\", \"#ab63fa\", \"#FFA15A\", \"#19d3f3\", \"#FF6692\", \"#B6E880\", \"#FF97FF\", \"#FECB52\"], \"font\": {\"color\": \"#2a3f5f\"}, \"geo\": {\"bgcolor\": \"white\", \"lakecolor\": \"white\", \"landcolor\": \"#E5ECF6\", \"showlakes\": true, \"showland\": true, \"subunitcolor\": \"white\"}, \"hoverlabel\": {\"align\": \"left\"}, \"hovermode\": \"closest\", \"mapbox\": {\"style\": \"light\"}, \"paper_bgcolor\": \"white\", \"plot_bgcolor\": \"#E5ECF6\", \"polar\": {\"angularaxis\": {\"gridcolor\": \"white\", \"linecolor\": \"white\", \"ticks\": \"\"}, \"bgcolor\": \"#E5ECF6\", \"radialaxis\": {\"gridcolor\": \"white\", \"linecolor\": \"white\", \"ticks\": \"\"}}, \"scene\": {\"xaxis\": {\"backgroundcolor\": \"#E5ECF6\", \"gridcolor\": \"white\", \"gridwidth\": 2, \"linecolor\": \"white\", \"showbackground\": true, \"ticks\": \"\", \"zerolinecolor\": \"white\"}, \"yaxis\": {\"backgroundcolor\": \"#E5ECF6\", \"gridcolor\": \"white\", \"gridwidth\": 2, \"linecolor\": \"white\", \"showbackground\": true, \"ticks\": \"\", \"zerolinecolor\": \"white\"}, \"zaxis\": {\"backgroundcolor\": \"#E5ECF6\", \"gridcolor\": \"white\", \"gridwidth\": 2, \"linecolor\": \"white\", \"showbackground\": true, \"ticks\": \"\", \"zerolinecolor\": \"white\"}}, \"shapedefaults\": {\"line\": {\"color\": \"#2a3f5f\"}}, \"ternary\": {\"aaxis\": {\"gridcolor\": \"white\", \"linecolor\": \"white\", \"ticks\": \"\"}, \"baxis\": {\"gridcolor\": \"white\", \"linecolor\": \"white\", \"ticks\": \"\"}, \"bgcolor\": \"#E5ECF6\", \"caxis\": {\"gridcolor\": \"white\", \"linecolor\": \"white\", \"ticks\": \"\"}}, \"title\": {\"x\": 0.05}, \"xaxis\": {\"automargin\": true, \"gridcolor\": \"white\", \"linecolor\": \"white\", \"ticks\": \"\", \"title\": {\"standoff\": 15}, \"zerolinecolor\": \"white\", \"zerolinewidth\": 2}, \"yaxis\": {\"automargin\": true, \"gridcolor\": \"white\", \"linecolor\": \"white\", \"ticks\": \"\", \"title\": {\"standoff\": 15}, \"zerolinecolor\": \"white\", \"zerolinewidth\": 2}}}, \"title\": {\"text\": \"Single house prediction with linear kernel SVR\"}, \"xaxis\": {\"anchor\": \"y\", \"domain\": [0.0, 1.0], \"title\": {\"text\": \"Date and time\"}}, \"yaxis\": {\"anchor\": \"x\", \"domain\": [0.0, 1.0], \"title\": {\"text\": \"meter value reading\"}}},                        {\"responsive\": true}                    ).then(function(){\n",
       "                            \n",
       "var gd = document.getElementById('f0ce0fd4-eed0-455d-b94e-f4dcd04b2420');\n",
       "var x = new MutationObserver(function (mutations, observer) {{\n",
       "        var display = window.getComputedStyle(gd).display;\n",
       "        if (!display || display === 'none') {{\n",
       "            console.log([gd, 'removed!']);\n",
       "            Plotly.purge(gd);\n",
       "            observer.disconnect();\n",
       "        }}\n",
       "}});\n",
       "\n",
       "// Listen for the removal of the full notebook cells\n",
       "var notebookContainer = gd.closest('#notebook-container');\n",
       "if (notebookContainer) {{\n",
       "    x.observe(notebookContainer, {childList: true});\n",
       "}}\n",
       "\n",
       "// Listen for the clearing of the current output cell\n",
       "var outputEl = gd.closest('.output');\n",
       "if (outputEl) {{\n",
       "    x.observe(outputEl, {childList: true});\n",
       "}}\n",
       "\n",
       "                        })                };                });            </script>        </div>"
      ]
     },
     "metadata": {},
     "output_type": "display_data"
    }
   ],
   "source": [
    "# before plotting actual, need to take to utc because plotly doesn't do it for us.\n",
    "actual = merged_df[merged_df['dataid'] == 35][:250]\n",
    "\n",
    "fig = px.scatter()\n",
    "# plot points form actual dataset\n",
    "fig.add_trace(go.Scatter(x=actual.index, y=actual['meter_value'].tolist(),\n",
    "                           mode='markers',\n",
    "                           name='actual'))\n",
    "# plot points from hourly linear regression prediction \n",
    "fig.add_trace(go.Scatter(x=timestamps, y=predictions,\n",
    "                           mode='markers',\n",
    "                           name='predictions'))\n",
    "# get ols trendline from predictions\n",
    "fig_t = px.scatter(x=timestamps, y=predictions, trendline='ols')\n",
    "trendline = fig_t.data[1]\n",
    "# overlay ols trendline with scattered results\n",
    "fig.add_trace(go.Scatter(trendline,\n",
    "                          mode='lines',\n",
    "                          line=dict(color=\"Yellow\"),\n",
    "                          name='predictions line'))\n",
    "fig.update_layout(\n",
    "    title='Single house prediction with linear kernel SVR',\n",
    "    xaxis_title='Date and time',\n",
    "    yaxis_title='meter value reading',\n",
    "    legend_title='Data Category',\n",
    "    showlegend=True\n",
    ")\n",
    "fig.show()"
   ]
  },
  {
   "cell_type": "markdown",
   "metadata": {},
   "source": [
    "In the graph above, scatter plot of the actual data of a single house (dataid 35) is plotted along with the hourly prediction result with linear kernel SVR from Q2.3(a). Results are similar to linear regression model."
   ]
  },
  {
   "cell_type": "code",
   "execution_count": 111,
   "metadata": {},
   "outputs": [],
   "source": [
    "mean_data = mean_readings_for_area(clean_df)\n",
    "mean_timestamps, mean_predictions = simulate_operation(mean_data[:259], svr_lin)\n",
    "mean_ltp_timestamps, mean_ltp_predictions = long_term_prediction(mean_data[:250], pd.Timestamp('2015-10-02 01:00:00+00:00'), 6, svr_lin)"
   ]
  },
  {
   "cell_type": "code",
   "execution_count": 117,
   "metadata": {
    "scrolled": true
   },
   "outputs": [
    {
     "data": {
      "application/vnd.plotly.v1+json": {
       "config": {
        "plotlyServerURL": "https://plot.ly"
       },
       "data": [
        {
         "mode": "markers",
         "name": "mean actual",
         "type": "scatter",
         "x": [
          "2015-10-01T05:00:00+00:00",
          "2015-10-01T06:00:00+00:00",
          "2015-10-01T07:00:00+00:00",
          "2015-10-01T08:00:00+00:00",
          "2015-10-01T09:00:00+00:00",
          "2015-10-01T10:00:00+00:00",
          "2015-10-01T11:00:00+00:00",
          "2015-10-01T12:00:00+00:00",
          "2015-10-01T13:00:00+00:00",
          "2015-10-01T14:00:00+00:00",
          "2015-10-01T15:00:00+00:00",
          "2015-10-01T16:00:00+00:00",
          "2015-10-01T17:00:00+00:00",
          "2015-10-01T18:00:00+00:00",
          "2015-10-01T19:00:00+00:00",
          "2015-10-01T20:00:00+00:00",
          "2015-10-01T21:00:00+00:00",
          "2015-10-01T22:00:00+00:00",
          "2015-10-01T23:00:00+00:00",
          "2015-10-02T00:00:00+00:00",
          "2015-10-02T01:00:00+00:00",
          "2015-10-02T02:00:00+00:00",
          "2015-10-02T03:00:00+00:00",
          "2015-10-02T04:00:00+00:00",
          "2015-10-02T05:00:00+00:00",
          "2015-10-02T06:00:00+00:00",
          "2015-10-02T07:00:00+00:00",
          "2015-10-02T08:00:00+00:00",
          "2015-10-02T09:00:00+00:00",
          "2015-10-02T10:00:00+00:00",
          "2015-10-02T11:00:00+00:00",
          "2015-10-02T12:00:00+00:00",
          "2015-10-02T13:00:00+00:00",
          "2015-10-02T14:00:00+00:00",
          "2015-10-02T15:00:00+00:00",
          "2015-10-02T16:00:00+00:00",
          "2015-10-02T17:00:00+00:00",
          "2015-10-02T18:00:00+00:00",
          "2015-10-02T19:00:00+00:00",
          "2015-10-02T20:00:00+00:00",
          "2015-10-02T21:00:00+00:00",
          "2015-10-02T22:00:00+00:00",
          "2015-10-02T23:00:00+00:00",
          "2015-10-03T00:00:00+00:00",
          "2015-10-03T01:00:00+00:00",
          "2015-10-03T02:00:00+00:00",
          "2015-10-03T03:00:00+00:00",
          "2015-10-03T04:00:00+00:00",
          "2015-10-03T05:00:00+00:00",
          "2015-10-03T06:00:00+00:00",
          "2015-10-03T07:00:00+00:00",
          "2015-10-03T08:00:00+00:00",
          "2015-10-03T09:00:00+00:00",
          "2015-10-03T10:00:00+00:00",
          "2015-10-03T11:00:00+00:00",
          "2015-10-03T12:00:00+00:00",
          "2015-10-03T13:00:00+00:00",
          "2015-10-03T14:00:00+00:00",
          "2015-10-03T15:00:00+00:00",
          "2015-10-03T16:00:00+00:00",
          "2015-10-03T17:00:00+00:00",
          "2015-10-03T18:00:00+00:00",
          "2015-10-03T19:00:00+00:00",
          "2015-10-03T20:00:00+00:00",
          "2015-10-03T21:00:00+00:00",
          "2015-10-03T22:00:00+00:00",
          "2015-10-03T23:00:00+00:00",
          "2015-10-04T00:00:00+00:00",
          "2015-10-04T01:00:00+00:00",
          "2015-10-04T02:00:00+00:00",
          "2015-10-04T03:00:00+00:00",
          "2015-10-04T04:00:00+00:00",
          "2015-10-04T05:00:00+00:00",
          "2015-10-04T06:00:00+00:00",
          "2015-10-04T07:00:00+00:00",
          "2015-10-04T08:00:00+00:00",
          "2015-10-04T09:00:00+00:00",
          "2015-10-04T10:00:00+00:00",
          "2015-10-04T11:00:00+00:00",
          "2015-10-04T12:00:00+00:00",
          "2015-10-04T13:00:00+00:00",
          "2015-10-04T14:00:00+00:00",
          "2015-10-04T15:00:00+00:00",
          "2015-10-04T16:00:00+00:00",
          "2015-10-04T17:00:00+00:00",
          "2015-10-04T18:00:00+00:00",
          "2015-10-04T19:00:00+00:00",
          "2015-10-04T20:00:00+00:00",
          "2015-10-04T21:00:00+00:00",
          "2015-10-04T22:00:00+00:00",
          "2015-10-04T23:00:00+00:00",
          "2015-10-05T00:00:00+00:00",
          "2015-10-05T01:00:00+00:00",
          "2015-10-05T02:00:00+00:00",
          "2015-10-05T03:00:00+00:00",
          "2015-10-05T04:00:00+00:00",
          "2015-10-05T05:00:00+00:00",
          "2015-10-05T06:00:00+00:00",
          "2015-10-05T07:00:00+00:00",
          "2015-10-05T08:00:00+00:00",
          "2015-10-05T09:00:00+00:00",
          "2015-10-05T10:00:00+00:00",
          "2015-10-05T11:00:00+00:00",
          "2015-10-05T12:00:00+00:00",
          "2015-10-05T13:00:00+00:00",
          "2015-10-05T14:00:00+00:00",
          "2015-10-05T15:00:00+00:00",
          "2015-10-05T16:00:00+00:00",
          "2015-10-05T17:00:00+00:00",
          "2015-10-05T18:00:00+00:00",
          "2015-10-05T19:00:00+00:00",
          "2015-10-05T20:00:00+00:00",
          "2015-10-05T21:00:00+00:00",
          "2015-10-05T22:00:00+00:00",
          "2015-10-05T23:00:00+00:00",
          "2015-10-06T00:00:00+00:00",
          "2015-10-06T01:00:00+00:00",
          "2015-10-06T02:00:00+00:00",
          "2015-10-06T03:00:00+00:00",
          "2015-10-06T04:00:00+00:00",
          "2015-10-06T05:00:00+00:00",
          "2015-10-06T06:00:00+00:00",
          "2015-10-06T07:00:00+00:00",
          "2015-10-06T08:00:00+00:00",
          "2015-10-06T09:00:00+00:00",
          "2015-10-06T10:00:00+00:00",
          "2015-10-06T11:00:00+00:00",
          "2015-10-06T12:00:00+00:00",
          "2015-10-06T13:00:00+00:00",
          "2015-10-06T14:00:00+00:00",
          "2015-10-06T15:00:00+00:00",
          "2015-10-06T16:00:00+00:00",
          "2015-10-06T17:00:00+00:00",
          "2015-10-06T18:00:00+00:00",
          "2015-10-06T19:00:00+00:00",
          "2015-10-06T20:00:00+00:00",
          "2015-10-06T21:00:00+00:00",
          "2015-10-06T22:00:00+00:00",
          "2015-10-06T23:00:00+00:00",
          "2015-10-07T00:00:00+00:00",
          "2015-10-07T01:00:00+00:00",
          "2015-10-07T02:00:00+00:00",
          "2015-10-07T03:00:00+00:00",
          "2015-10-07T04:00:00+00:00",
          "2015-10-07T05:00:00+00:00",
          "2015-10-07T06:00:00+00:00",
          "2015-10-07T07:00:00+00:00",
          "2015-10-07T08:00:00+00:00",
          "2015-10-07T09:00:00+00:00",
          "2015-10-07T10:00:00+00:00",
          "2015-10-07T11:00:00+00:00",
          "2015-10-07T12:00:00+00:00",
          "2015-10-07T13:00:00+00:00",
          "2015-10-07T14:00:00+00:00",
          "2015-10-07T15:00:00+00:00",
          "2015-10-07T16:00:00+00:00",
          "2015-10-07T17:00:00+00:00",
          "2015-10-07T18:00:00+00:00",
          "2015-10-07T19:00:00+00:00",
          "2015-10-07T20:00:00+00:00",
          "2015-10-07T21:00:00+00:00",
          "2015-10-07T22:00:00+00:00",
          "2015-10-07T23:00:00+00:00",
          "2015-10-08T00:00:00+00:00",
          "2015-10-08T01:00:00+00:00",
          "2015-10-08T02:00:00+00:00",
          "2015-10-08T03:00:00+00:00",
          "2015-10-08T04:00:00+00:00",
          "2015-10-08T05:00:00+00:00",
          "2015-10-08T06:00:00+00:00",
          "2015-10-08T07:00:00+00:00",
          "2015-10-08T08:00:00+00:00",
          "2015-10-08T09:00:00+00:00",
          "2015-10-08T10:00:00+00:00",
          "2015-10-08T11:00:00+00:00",
          "2015-10-08T12:00:00+00:00",
          "2015-10-08T13:00:00+00:00",
          "2015-10-08T14:00:00+00:00",
          "2015-10-08T15:00:00+00:00",
          "2015-10-08T16:00:00+00:00",
          "2015-10-08T17:00:00+00:00",
          "2015-10-08T18:00:00+00:00",
          "2015-10-08T19:00:00+00:00",
          "2015-10-08T20:00:00+00:00",
          "2015-10-08T21:00:00+00:00",
          "2015-10-08T22:00:00+00:00",
          "2015-10-08T23:00:00+00:00",
          "2015-10-09T00:00:00+00:00",
          "2015-10-09T01:00:00+00:00",
          "2015-10-09T02:00:00+00:00",
          "2015-10-09T03:00:00+00:00",
          "2015-10-09T04:00:00+00:00",
          "2015-10-09T05:00:00+00:00",
          "2015-10-09T06:00:00+00:00",
          "2015-10-09T07:00:00+00:00",
          "2015-10-09T08:00:00+00:00",
          "2015-10-09T09:00:00+00:00",
          "2015-10-09T10:00:00+00:00",
          "2015-10-09T11:00:00+00:00",
          "2015-10-09T12:00:00+00:00",
          "2015-10-09T13:00:00+00:00",
          "2015-10-09T14:00:00+00:00",
          "2015-10-09T15:00:00+00:00",
          "2015-10-09T16:00:00+00:00",
          "2015-10-09T17:00:00+00:00",
          "2015-10-09T18:00:00+00:00",
          "2015-10-09T19:00:00+00:00",
          "2015-10-09T20:00:00+00:00",
          "2015-10-09T21:00:00+00:00",
          "2015-10-09T22:00:00+00:00",
          "2015-10-09T23:00:00+00:00",
          "2015-10-10T00:00:00+00:00",
          "2015-10-10T01:00:00+00:00",
          "2015-10-10T02:00:00+00:00",
          "2015-10-10T03:00:00+00:00",
          "2015-10-10T04:00:00+00:00",
          "2015-10-10T05:00:00+00:00",
          "2015-10-10T06:00:00+00:00",
          "2015-10-10T07:00:00+00:00",
          "2015-10-10T08:00:00+00:00",
          "2015-10-10T09:00:00+00:00",
          "2015-10-10T10:00:00+00:00",
          "2015-10-10T11:00:00+00:00",
          "2015-10-10T12:00:00+00:00",
          "2015-10-10T13:00:00+00:00",
          "2015-10-10T14:00:00+00:00",
          "2015-10-10T15:00:00+00:00",
          "2015-10-10T16:00:00+00:00",
          "2015-10-10T17:00:00+00:00",
          "2015-10-10T18:00:00+00:00",
          "2015-10-10T19:00:00+00:00",
          "2015-10-10T20:00:00+00:00",
          "2015-10-10T21:00:00+00:00",
          "2015-10-10T22:00:00+00:00",
          "2015-10-10T23:00:00+00:00",
          "2015-10-11T00:00:00+00:00",
          "2015-10-11T01:00:00+00:00",
          "2015-10-11T02:00:00+00:00",
          "2015-10-11T03:00:00+00:00",
          "2015-10-11T04:00:00+00:00",
          "2015-10-11T05:00:00+00:00",
          "2015-10-11T06:00:00+00:00",
          "2015-10-11T07:00:00+00:00",
          "2015-10-11T08:00:00+00:00",
          "2015-10-11T09:00:00+00:00",
          "2015-10-11T10:00:00+00:00",
          "2015-10-11T11:00:00+00:00",
          "2015-10-11T12:00:00+00:00",
          "2015-10-11T13:00:00+00:00",
          "2015-10-11T14:00:00+00:00"
         ],
         "y": [
          0.21360544217687075,
          0.617831871704505,
          0.7380667935066665,
          0.9987810792209522,
          1.0944450358605187,
          1.5407107331506706,
          2.413755335607038,
          3.6756779410780305,
          4.54475140463939,
          6.473492264279127,
          7.943183622303819,
          8.502518914606144,
          8.938339869250628,
          9.745206286229404,
          10.029069800991795,
          10.668972799228127,
          11.076734804664552,
          12.118100094467342,
          13.08877028847087,
          14.135560854226954,
          15.151207971659787,
          17.347453174646564,
          18.34499012045937,
          19.167936374984574,
          21.286720302697073,
          22.6855575119994,
          23.02245760537008,
          23.884345299515836,
          24.432022184034825,
          25.024968501138446,
          26.400173157593102,
          27.77273802510179,
          29.63005270355049,
          31.082278411675073,
          32.19945517711809,
          33.08035153566151,
          34.53666154937893,
          35.08294331784969,
          35.797574503657344,
          36.94519214782671,
          37.79732343389629,
          38.75441026863018,
          39.85639726663794,
          40.25885119840222,
          41.20449447708121,
          42.44079605495142,
          42.97760668618066,
          43.94628167132623,
          44.528634812012704,
          45.19094928325575,
          45.58200930879853,
          46.00869540907596,
          46.24879178095805,
          46.91053420520048,
          47.13478564820192,
          48.005614973255504,
          49.526251901862075,
          50.60360697432584,
          51.85169415221694,
          53.49936540279201,
          54.63786202749553,
          56.05718549472597,
          57.60796024907216,
          58.23842574317401,
          59.12465409815237,
          59.7932488693942,
          61.0214825486588,
          61.75030324169574,
          62.847395973525316,
          63.83108166767612,
          64.8668170434115,
          65.57148719210339,
          66.8986356846365,
          67.53960790685872,
          68.31638693307595,
          68.75832696834931,
          68.97555693167303,
          69.39503745115354,
          69.66539361014607,
          70.32811847787093,
          71.31248340663814,
          72.50967183224762,
          73.87304530424178,
          75.53882385317823,
          76.34851428900502,
          77.70778809648299,
          78.84558465177955,
          79.42086389928102,
          80.50769098293206,
          81.12089028363137,
          82.44109865187895,
          84.89236737038904,
          87.1153463294145,
          89.230273930549,
          90.6244188075452,
          92.06122289493068,
          92.65550717274436,
          93.5549400396191,
          93.99902457265712,
          94.33554915918171,
          94.65585801699056,
          95.31220807216415,
          95.96143113587523,
          97.57283223477633,
          99.62693571791208,
          100.55634393047247,
          101.64572475167147,
          102.97857860194105,
          103.99892884348695,
          104.37207243042364,
          104.73143641383825,
          105.57256195496379,
          106.31139733930479,
          107.1045281548494,
          108.42307578162487,
          109.73892011132463,
          111.51121367294404,
          112.46475594839643,
          114.22744722537342,
          115.44915029880063,
          116.1383692171372,
          116.64012360310211,
          116.99618420916272,
          117.56643510522007,
          118.11947743326239,
          119.33905415283911,
          120.22956618398082,
          122.06412201516586,
          124.23330402789627,
          125.58658133882064,
          126.6220369401299,
          127.19566608875905,
          127.86650582250202,
          128.75782881323678,
          129.15024889315686,
          129.510642345858,
          130.04425247875076,
          131.27771835744136,
          132.00672934645235,
          134.03956193209393,
          135.41868673321872,
          136.87450793079026,
          137.94817414146058,
          138.83673470370536,
          139.3327812953549,
          140.02084852224564,
          140.38265260963112,
          140.65983514931366,
          141.41610755074737,
          141.8621166856454,
          143.36722120065343,
          144.9988033262573,
          146.68020387015784,
          149.00169416032284,
          149.69259280416267,
          150.89651916454065,
          151.60701105360397,
          152.04937137527463,
          152.34808469898795,
          152.66859607426977,
          153.62435232312947,
          154.1519490853416,
          155.3478068674063,
          156.13973356815652,
          157.71737633570123,
          159.60160876993368,
          161.12820637867415,
          161.60250454238408,
          162.00668754892004,
          162.19881248937034,
          162.39319157433766,
          162.71759494874104,
          163.28056392421,
          163.73188667553276,
          165.00634104061214,
          166.40295235522345,
          168.27064515624957,
          169.76979193969868,
          171.16500758547613,
          172.46377647303814,
          173.31082773095895,
          174.1226494363853,
          174.68384171632758,
          175.6463056412915,
          176.1088820860108,
          176.93237005637377,
          177.9304220044257,
          179.69563211919723,
          180.72396086116234,
          182.40471786944744,
          183.447190987727,
          184.21898112940352,
          185.42856807024046,
          185.97704778201805,
          186.38012927568778,
          186.7549799327965,
          187.0279690535384,
          187.3902295899369,
          188.93510652947674,
          190.17810963110054,
          191.56389384054773,
          192.25870473141126,
          193.32881352399195,
          194.7608281760066,
          195.44111830833847,
          195.88421203631592,
          196.5955421239065,
          197.43904714496256,
          198.4048323824087,
          198.9296339697103,
          200.4657095281388,
          202.05646976205693,
          203.2574299130171,
          204.04059713339362,
          204.6809989430708,
          205.776026138098,
          206.85315284736757,
          207.2760730998059,
          207.84849917309404,
          208.48961780623395,
          208.79180444073765,
          209.19062278288933,
          209.77843457427255,
          210.33445429529226,
          211.39586193527134,
          212.68239036895886,
          213.85195661189468,
          215.71502145710238,
          217.50346970295803,
          218.47345357529485,
          219.2418196898566,
          219.85810382846162,
          220.74303298199544,
          221.71939237423717,
          223.32547123989195,
          224.47319675286136,
          225.64436542005274,
          226.33946964648226,
          227.11714349379895,
          228.03014509893538,
          229.06956085114183,
          229.9968004059676,
          230.3462936169066,
          230.87257756587096,
          231.11301684235676,
          231.35399512333504,
          231.71143565954145,
          232.19229319152257,
          232.8344935199298,
          233.91162908099793
         ]
        },
        {
         "mode": "markers",
         "name": "mean predictions",
         "type": "scatter",
         "x": [
          "2015-10-01T12:00:00+00:00",
          "2015-10-01T13:00:00+00:00",
          "2015-10-01T14:00:00+00:00",
          "2015-10-01T15:00:00+00:00",
          "2015-10-01T16:00:00+00:00",
          "2015-10-01T17:00:00+00:00",
          "2015-10-01T18:00:00+00:00",
          "2015-10-01T19:00:00+00:00",
          "2015-10-01T20:00:00+00:00",
          "2015-10-01T21:00:00+00:00",
          "2015-10-01T22:00:00+00:00",
          "2015-10-01T23:00:00+00:00",
          "2015-10-02T00:00:00+00:00",
          "2015-10-02T01:00:00+00:00",
          "2015-10-02T02:00:00+00:00",
          "2015-10-02T03:00:00+00:00",
          "2015-10-02T04:00:00+00:00",
          "2015-10-02T05:00:00+00:00",
          "2015-10-02T06:00:00+00:00",
          "2015-10-02T07:00:00+00:00",
          "2015-10-02T08:00:00+00:00",
          "2015-10-02T09:00:00+00:00",
          "2015-10-02T10:00:00+00:00",
          "2015-10-02T11:00:00+00:00",
          "2015-10-02T12:00:00+00:00",
          "2015-10-02T13:00:00+00:00",
          "2015-10-02T14:00:00+00:00",
          "2015-10-02T15:00:00+00:00",
          "2015-10-02T16:00:00+00:00",
          "2015-10-02T17:00:00+00:00",
          "2015-10-02T18:00:00+00:00",
          "2015-10-02T19:00:00+00:00",
          "2015-10-02T20:00:00+00:00",
          "2015-10-02T21:00:00+00:00",
          "2015-10-02T22:00:00+00:00",
          "2015-10-02T23:00:00+00:00",
          "2015-10-03T00:00:00+00:00",
          "2015-10-03T01:00:00+00:00",
          "2015-10-03T02:00:00+00:00",
          "2015-10-03T03:00:00+00:00",
          "2015-10-03T04:00:00+00:00",
          "2015-10-03T05:00:00+00:00",
          "2015-10-03T06:00:00+00:00",
          "2015-10-03T07:00:00+00:00",
          "2015-10-03T08:00:00+00:00",
          "2015-10-03T09:00:00+00:00",
          "2015-10-03T10:00:00+00:00",
          "2015-10-03T11:00:00+00:00",
          "2015-10-03T12:00:00+00:00",
          "2015-10-03T13:00:00+00:00",
          "2015-10-03T14:00:00+00:00",
          "2015-10-03T15:00:00+00:00",
          "2015-10-03T16:00:00+00:00",
          "2015-10-03T17:00:00+00:00",
          "2015-10-03T18:00:00+00:00",
          "2015-10-03T19:00:00+00:00",
          "2015-10-03T20:00:00+00:00",
          "2015-10-03T21:00:00+00:00",
          "2015-10-03T22:00:00+00:00",
          "2015-10-03T23:00:00+00:00",
          "2015-10-04T00:00:00+00:00",
          "2015-10-04T01:00:00+00:00",
          "2015-10-04T02:00:00+00:00",
          "2015-10-04T03:00:00+00:00",
          "2015-10-04T04:00:00+00:00",
          "2015-10-04T05:00:00+00:00",
          "2015-10-04T06:00:00+00:00",
          "2015-10-04T07:00:00+00:00",
          "2015-10-04T08:00:00+00:00",
          "2015-10-04T09:00:00+00:00",
          "2015-10-04T10:00:00+00:00",
          "2015-10-04T11:00:00+00:00",
          "2015-10-04T12:00:00+00:00",
          "2015-10-04T13:00:00+00:00",
          "2015-10-04T14:00:00+00:00",
          "2015-10-04T15:00:00+00:00",
          "2015-10-04T16:00:00+00:00",
          "2015-10-04T17:00:00+00:00",
          "2015-10-04T18:00:00+00:00",
          "2015-10-04T19:00:00+00:00",
          "2015-10-04T20:00:00+00:00",
          "2015-10-04T21:00:00+00:00",
          "2015-10-04T22:00:00+00:00",
          "2015-10-04T23:00:00+00:00",
          "2015-10-05T00:00:00+00:00",
          "2015-10-05T01:00:00+00:00",
          "2015-10-05T02:00:00+00:00",
          "2015-10-05T03:00:00+00:00",
          "2015-10-05T04:00:00+00:00",
          "2015-10-05T05:00:00+00:00",
          "2015-10-05T06:00:00+00:00",
          "2015-10-05T07:00:00+00:00",
          "2015-10-05T08:00:00+00:00",
          "2015-10-05T09:00:00+00:00",
          "2015-10-05T10:00:00+00:00",
          "2015-10-05T11:00:00+00:00",
          "2015-10-05T12:00:00+00:00",
          "2015-10-05T13:00:00+00:00",
          "2015-10-05T14:00:00+00:00",
          "2015-10-05T15:00:00+00:00",
          "2015-10-05T16:00:00+00:00",
          "2015-10-05T17:00:00+00:00",
          "2015-10-05T18:00:00+00:00",
          "2015-10-05T19:00:00+00:00",
          "2015-10-05T20:00:00+00:00",
          "2015-10-05T21:00:00+00:00",
          "2015-10-05T22:00:00+00:00",
          "2015-10-05T23:00:00+00:00",
          "2015-10-06T00:00:00+00:00",
          "2015-10-06T01:00:00+00:00",
          "2015-10-06T02:00:00+00:00",
          "2015-10-06T03:00:00+00:00",
          "2015-10-06T04:00:00+00:00",
          "2015-10-06T05:00:00+00:00",
          "2015-10-06T06:00:00+00:00",
          "2015-10-06T07:00:00+00:00",
          "2015-10-06T08:00:00+00:00",
          "2015-10-06T09:00:00+00:00",
          "2015-10-06T10:00:00+00:00",
          "2015-10-06T11:00:00+00:00",
          "2015-10-06T12:00:00+00:00",
          "2015-10-06T13:00:00+00:00",
          "2015-10-06T14:00:00+00:00",
          "2015-10-06T15:00:00+00:00",
          "2015-10-06T16:00:00+00:00",
          "2015-10-06T17:00:00+00:00",
          "2015-10-06T18:00:00+00:00",
          "2015-10-06T19:00:00+00:00",
          "2015-10-06T20:00:00+00:00",
          "2015-10-06T21:00:00+00:00",
          "2015-10-06T22:00:00+00:00",
          "2015-10-06T23:00:00+00:00",
          "2015-10-07T00:00:00+00:00",
          "2015-10-07T01:00:00+00:00",
          "2015-10-07T02:00:00+00:00",
          "2015-10-07T03:00:00+00:00",
          "2015-10-07T04:00:00+00:00",
          "2015-10-07T05:00:00+00:00",
          "2015-10-07T06:00:00+00:00",
          "2015-10-07T07:00:00+00:00",
          "2015-10-07T08:00:00+00:00",
          "2015-10-07T09:00:00+00:00",
          "2015-10-07T10:00:00+00:00",
          "2015-10-07T11:00:00+00:00",
          "2015-10-07T12:00:00+00:00",
          "2015-10-07T13:00:00+00:00",
          "2015-10-07T14:00:00+00:00",
          "2015-10-07T15:00:00+00:00",
          "2015-10-07T16:00:00+00:00",
          "2015-10-07T17:00:00+00:00",
          "2015-10-07T18:00:00+00:00",
          "2015-10-07T19:00:00+00:00",
          "2015-10-07T20:00:00+00:00",
          "2015-10-07T21:00:00+00:00",
          "2015-10-07T22:00:00+00:00",
          "2015-10-07T23:00:00+00:00",
          "2015-10-08T00:00:00+00:00",
          "2015-10-08T01:00:00+00:00",
          "2015-10-08T02:00:00+00:00",
          "2015-10-08T03:00:00+00:00",
          "2015-10-08T04:00:00+00:00",
          "2015-10-08T05:00:00+00:00",
          "2015-10-08T06:00:00+00:00",
          "2015-10-08T07:00:00+00:00",
          "2015-10-08T08:00:00+00:00",
          "2015-10-08T09:00:00+00:00",
          "2015-10-08T10:00:00+00:00",
          "2015-10-08T11:00:00+00:00",
          "2015-10-08T12:00:00+00:00",
          "2015-10-08T13:00:00+00:00",
          "2015-10-08T14:00:00+00:00",
          "2015-10-08T15:00:00+00:00",
          "2015-10-08T16:00:00+00:00",
          "2015-10-08T17:00:00+00:00",
          "2015-10-08T18:00:00+00:00",
          "2015-10-08T19:00:00+00:00",
          "2015-10-08T20:00:00+00:00",
          "2015-10-08T21:00:00+00:00",
          "2015-10-08T22:00:00+00:00",
          "2015-10-08T23:00:00+00:00",
          "2015-10-09T00:00:00+00:00",
          "2015-10-09T01:00:00+00:00",
          "2015-10-09T02:00:00+00:00",
          "2015-10-09T03:00:00+00:00",
          "2015-10-09T04:00:00+00:00",
          "2015-10-09T05:00:00+00:00",
          "2015-10-09T06:00:00+00:00",
          "2015-10-09T07:00:00+00:00",
          "2015-10-09T08:00:00+00:00",
          "2015-10-09T09:00:00+00:00",
          "2015-10-09T10:00:00+00:00",
          "2015-10-09T11:00:00+00:00",
          "2015-10-09T12:00:00+00:00",
          "2015-10-09T13:00:00+00:00",
          "2015-10-09T14:00:00+00:00",
          "2015-10-09T15:00:00+00:00",
          "2015-10-09T16:00:00+00:00",
          "2015-10-09T17:00:00+00:00",
          "2015-10-09T18:00:00+00:00",
          "2015-10-09T19:00:00+00:00",
          "2015-10-09T20:00:00+00:00",
          "2015-10-09T21:00:00+00:00",
          "2015-10-09T22:00:00+00:00",
          "2015-10-09T23:00:00+00:00",
          "2015-10-10T00:00:00+00:00",
          "2015-10-10T01:00:00+00:00",
          "2015-10-10T02:00:00+00:00",
          "2015-10-10T03:00:00+00:00",
          "2015-10-10T04:00:00+00:00",
          "2015-10-10T05:00:00+00:00",
          "2015-10-10T06:00:00+00:00",
          "2015-10-10T07:00:00+00:00",
          "2015-10-10T08:00:00+00:00",
          "2015-10-10T09:00:00+00:00",
          "2015-10-10T10:00:00+00:00",
          "2015-10-10T11:00:00+00:00",
          "2015-10-10T12:00:00+00:00",
          "2015-10-10T13:00:00+00:00",
          "2015-10-10T14:00:00+00:00",
          "2015-10-10T15:00:00+00:00",
          "2015-10-10T16:00:00+00:00",
          "2015-10-10T17:00:00+00:00",
          "2015-10-10T18:00:00+00:00",
          "2015-10-10T19:00:00+00:00",
          "2015-10-10T20:00:00+00:00",
          "2015-10-10T21:00:00+00:00",
          "2015-10-10T22:00:00+00:00",
          "2015-10-10T23:00:00+00:00",
          "2015-10-11T00:00:00+00:00",
          "2015-10-11T01:00:00+00:00",
          "2015-10-11T02:00:00+00:00",
          "2015-10-11T03:00:00+00:00",
          "2015-10-11T04:00:00+00:00",
          "2015-10-11T05:00:00+00:00",
          "2015-10-11T06:00:00+00:00",
          "2015-10-11T07:00:00+00:00",
          "2015-10-11T08:00:00+00:00",
          "2015-10-11T09:00:00+00:00",
          "2015-10-11T10:00:00+00:00",
          "2015-10-11T11:00:00+00:00",
          "2015-10-11T12:00:00+00:00",
          "2015-10-11T13:00:00+00:00",
          "2015-10-11T14:00:00+00:00",
          "2015-10-11T15:00:00+00:00",
          "2015-10-11T16:00:00+00:00",
          "2015-10-11T17:00:00+00:00",
          "2015-10-11T18:00:00+00:00",
          "2015-10-11T19:00:00+00:00",
          "2015-10-11T20:00:00+00:00",
          "2015-10-11T21:00:00+00:00",
          "2015-10-11T22:00:00+00:00",
          "2015-10-11T23:00:00+00:00"
         ],
         "y": [
          3.3243785702163406,
          4.950677563654937,
          5.491844505860401,
          8.354726109034345,
          9.468516363643,
          9.199799848718664,
          9.511652788728743,
          10.654743696560535,
          10.4898091784333,
          11.430754877942926,
          11.659497572744192,
          13.25611308920841,
          14.01692687210452,
          15.129831493065454,
          16.13317707536018,
          19.382863918717685,
          19.367264907755413,
          19.990237280875792,
          23.278172017370107,
          24.08514363197756,
          23.449736215538657,
          24.761547242876468,
          25.059862864290853,
          25.677702900086217,
          27.762679494425676,
          29.166177341084666,
          31.4556480837878,
          32.57889897596181,
          33.38785307879368,
          34.06098617998051,
          36.02685605471753,
          35.79307179496225,
          36.62578081637442,
          38.18246453686589,
          38.78778372379219,
          39.83282441217679,
          40.898275108823135,
          40.68964414334,
          42.09943650116356,
          43.627345487632134,
          43.552169631574586,
          44.88814943940471,
          45.158130878955674,
          45.87680430921966,
          46.043531463209575,
          46.49627930041852,
          46.582235056654326,
          47.61693814856456,
          47.477299987006774,
          48.909353490916914,
          51.04411918928226,
          51.75097488330953,
          53.14179030965164,
          55.16591823338782,
          55.86997510725888,
          57.52593240047405,
          59.217843650732306,
          59.03789049968619,
          60.126474575831125,
          60.626649972565524,
          62.16109596384022,
          62.47783515725012,
          63.885575412013004,
          64.797241755256,
          65.87631899870676,
          66.30001507823702,
          68.1741818043535,
          68.23897242110891,
          69.1119985630301,
          69.27881616409633,
          69.28615208651887,
          69.88815731299896,
          70.04036613492184,
          71.05046960563072,
          72.34469351053309,
          73.7459608954664,
          75.27244566422009,
          77.22091118576411,
          77.28935076096221,
          79.11202160987693,
          80.08932036087081,
          80.15455058638018,
          81.68833105273907,
          81.90986607447044,
          83.65843698504256,
          87.15415974402747,
          89.21416948039925,
          91.22885258360283,
          91.99653706784144,
          93.45195780590312,
          93.31216453188378,
          94.45420661880921,
          94.51940377828402,
          94.74327997466276,
          95.05852203158913,
          96.01778731220284,
          96.6797670201007,
          99.14997389659142,
          101.64185781660325,
          101.58898978884586,
          102.7907391419886,
          104.36481998195099,
          105.11495045614569,
          104.90909383844551,
          105.24452659279538,
          106.52315319943837,
          107.1916977120357,
          108.03312991822308,
          109.64998044228574,
          110.98884944401352,
          113.17020045492487,
          113.42470379155226,
          115.88019831967064,
          116.66794115181254,
          116.86050730754256,
          117.19403197982116,
          117.42180528937111,
          118.18218611423748,
          118.735057574144,
          120.55063597832819,
          121.18232889460108,
          123.84542555598877,
          126.36058535569605,
          126.99967242092714,
          127.73519235645355,
          127.90353306896523,
          128.64822536226075,
          129.74765627166312,
          129.70871482811654,
          130.02922861083104,
          130.72840371132656,
          132.59371919952594,
          132.7243578349031,
          135.899876008102,
          136.76216554690836,
          138.2564977015202,
          139.01546768430694,
          139.7282645479453,
          139.88021118536304,
          140.73085321968307,
          140.8192271452439,
          141.01283397906755,
          142.20278755262976,
          142.3965916420732,
          144.83400957251826,
          146.62947528389617,
          148.35695985502215,
          151.26258209748488,
          150.53714870418045,
          152.14063067428236,
          152.4561825938867,
          152.63481319738193,
          152.81129137889982,
          153.15210390700835,
          154.67936465574914,
          154.85621376925008,
          156.45086208977392,
          156.92368703180028,
          159.18369340900603,
          161.38387801751054,
          162.60278089234913,
          162.1407680967448,
          162.4571619907259,
          162.47159504715793,
          162.66099012681482,
          163.10960670211733,
          163.89512117802616,
          164.26254994142562,
          166.27037425269836,
          167.8152891855162,
          170.10609199307814,
          171.30754567216323,
          172.6020193351731,
          173.82513675766057,
          174.27346029740207,
          175.04526549980343,
          175.39303900912273,
          176.70732877372257,
          176.74987607264435,
          177.87843774027763,
          178.87687439906244,
          181.330719182326,
          181.74139780188096,
          183.97766535810405,
          184.49571135223783,
          185.00152274840462,
          186.60704916961802,
          186.58958904704878,
          186.84202353860195,
          187.20228428002474,
          187.3878434038015,
          187.83243950693705,
          190.43856161217687,
          191.46248434133994,
          192.96328116011617,
          193.06808511294503,
          194.45074859900836,
          196.231473512293,
          196.25732548398705,
          196.47014963163693,
          197.4269168464939,
          198.40153052854475,
          199.4844959674854,
          199.6306970607498,
          201.87430983529876,
          203.56196975234684,
          204.41559217822328,
          204.82808654007383,
          205.3375967974661,
          206.83907420826844,
          207.92245343704752,
          207.76705071675838,
          208.45948842991274,
          209.17944327044324,
          209.18503790112948,
          209.6655027654431,
          210.43523844331142,
          210.97430739488948,
          212.49003774593803,
          214.00383360703685,
          215.0811904892902,
          217.56510741218125,
          219.32243595699254,
          219.56458434336443,
          220.13744010386029,
          220.6247365561743,
          221.745994029869,
          222.82054264615007,
          224.81154537629178,
          225.5839003086524,
          226.76272799858504,
          227.05158683942372,
          227.88951898915823,
          228.93702352568198,
          230.09713473494932,
          230.93648445022697,
          230.7765998124763,
          231.44828160504167,
          231.45255325861535,
          231.68582465741503,
          232.15768571314578,
          232.7578676965196,
          233.55444977570525,
          235.03098403554065,
          238.6757990159729,
          239.01632454755494,
          240.76524060893652,
          241.70055253746875,
          243.66882792996566,
          245.64699870453052,
          248.91990267188015,
          248.05226788490998
         ]
        },
        {
         "mode": "markers",
         "name": "mean ltp predictions",
         "type": "scatter",
         "x": [
          "2015-10-02T01:00:00+00:00",
          "2015-10-02T02:00:00+00:00",
          "2015-10-02T03:00:00+00:00",
          "2015-10-02T04:00:00+00:00",
          "2015-10-02T05:00:00+00:00",
          "2015-10-02T06:00:00+00:00",
          "2015-10-02T07:00:00+00:00",
          "2015-10-02T08:00:00+00:00",
          "2015-10-02T09:00:00+00:00",
          "2015-10-02T10:00:00+00:00",
          "2015-10-02T11:00:00+00:00",
          "2015-10-02T12:00:00+00:00",
          "2015-10-02T13:00:00+00:00",
          "2015-10-02T14:00:00+00:00",
          "2015-10-02T15:00:00+00:00",
          "2015-10-02T16:00:00+00:00",
          "2015-10-02T17:00:00+00:00",
          "2015-10-02T18:00:00+00:00",
          "2015-10-02T19:00:00+00:00",
          "2015-10-02T20:00:00+00:00",
          "2015-10-02T21:00:00+00:00",
          "2015-10-02T22:00:00+00:00",
          "2015-10-02T23:00:00+00:00",
          "2015-10-03T00:00:00+00:00",
          "2015-10-03T01:00:00+00:00",
          "2015-10-03T02:00:00+00:00",
          "2015-10-03T03:00:00+00:00",
          "2015-10-03T04:00:00+00:00",
          "2015-10-03T05:00:00+00:00",
          "2015-10-03T06:00:00+00:00",
          "2015-10-03T07:00:00+00:00",
          "2015-10-03T08:00:00+00:00",
          "2015-10-03T09:00:00+00:00",
          "2015-10-03T10:00:00+00:00",
          "2015-10-03T11:00:00+00:00",
          "2015-10-03T12:00:00+00:00",
          "2015-10-03T13:00:00+00:00",
          "2015-10-03T14:00:00+00:00",
          "2015-10-03T15:00:00+00:00",
          "2015-10-03T16:00:00+00:00",
          "2015-10-03T17:00:00+00:00",
          "2015-10-03T18:00:00+00:00",
          "2015-10-03T19:00:00+00:00",
          "2015-10-03T20:00:00+00:00",
          "2015-10-03T21:00:00+00:00",
          "2015-10-03T22:00:00+00:00",
          "2015-10-03T23:00:00+00:00",
          "2015-10-04T00:00:00+00:00",
          "2015-10-04T01:00:00+00:00",
          "2015-10-04T02:00:00+00:00",
          "2015-10-04T03:00:00+00:00",
          "2015-10-04T04:00:00+00:00",
          "2015-10-04T05:00:00+00:00",
          "2015-10-04T06:00:00+00:00",
          "2015-10-04T07:00:00+00:00",
          "2015-10-04T08:00:00+00:00",
          "2015-10-04T09:00:00+00:00",
          "2015-10-04T10:00:00+00:00",
          "2015-10-04T11:00:00+00:00",
          "2015-10-04T12:00:00+00:00",
          "2015-10-04T13:00:00+00:00",
          "2015-10-04T14:00:00+00:00",
          "2015-10-04T15:00:00+00:00",
          "2015-10-04T16:00:00+00:00",
          "2015-10-04T17:00:00+00:00",
          "2015-10-04T18:00:00+00:00",
          "2015-10-04T19:00:00+00:00",
          "2015-10-04T20:00:00+00:00",
          "2015-10-04T21:00:00+00:00",
          "2015-10-04T22:00:00+00:00",
          "2015-10-04T23:00:00+00:00",
          "2015-10-05T00:00:00+00:00",
          "2015-10-05T01:00:00+00:00",
          "2015-10-05T02:00:00+00:00",
          "2015-10-05T03:00:00+00:00",
          "2015-10-05T04:00:00+00:00",
          "2015-10-05T05:00:00+00:00",
          "2015-10-05T06:00:00+00:00",
          "2015-10-05T07:00:00+00:00",
          "2015-10-05T08:00:00+00:00",
          "2015-10-05T09:00:00+00:00",
          "2015-10-05T10:00:00+00:00",
          "2015-10-05T11:00:00+00:00",
          "2015-10-05T12:00:00+00:00",
          "2015-10-05T13:00:00+00:00",
          "2015-10-05T14:00:00+00:00",
          "2015-10-05T15:00:00+00:00",
          "2015-10-05T16:00:00+00:00",
          "2015-10-05T17:00:00+00:00",
          "2015-10-05T18:00:00+00:00",
          "2015-10-05T19:00:00+00:00",
          "2015-10-05T20:00:00+00:00",
          "2015-10-05T21:00:00+00:00",
          "2015-10-05T22:00:00+00:00",
          "2015-10-05T23:00:00+00:00",
          "2015-10-06T00:00:00+00:00",
          "2015-10-06T01:00:00+00:00",
          "2015-10-06T02:00:00+00:00",
          "2015-10-06T03:00:00+00:00",
          "2015-10-06T04:00:00+00:00",
          "2015-10-06T05:00:00+00:00",
          "2015-10-06T06:00:00+00:00",
          "2015-10-06T07:00:00+00:00",
          "2015-10-06T08:00:00+00:00",
          "2015-10-06T09:00:00+00:00",
          "2015-10-06T10:00:00+00:00",
          "2015-10-06T11:00:00+00:00",
          "2015-10-06T12:00:00+00:00",
          "2015-10-06T13:00:00+00:00",
          "2015-10-06T14:00:00+00:00",
          "2015-10-06T15:00:00+00:00",
          "2015-10-06T16:00:00+00:00",
          "2015-10-06T17:00:00+00:00",
          "2015-10-06T18:00:00+00:00",
          "2015-10-06T19:00:00+00:00",
          "2015-10-06T20:00:00+00:00",
          "2015-10-06T21:00:00+00:00",
          "2015-10-06T22:00:00+00:00",
          "2015-10-06T23:00:00+00:00",
          "2015-10-07T00:00:00+00:00",
          "2015-10-07T01:00:00+00:00",
          "2015-10-07T02:00:00+00:00",
          "2015-10-07T03:00:00+00:00",
          "2015-10-07T04:00:00+00:00",
          "2015-10-07T05:00:00+00:00",
          "2015-10-07T06:00:00+00:00",
          "2015-10-07T07:00:00+00:00",
          "2015-10-07T08:00:00+00:00",
          "2015-10-07T09:00:00+00:00",
          "2015-10-07T10:00:00+00:00",
          "2015-10-07T11:00:00+00:00",
          "2015-10-07T12:00:00+00:00",
          "2015-10-07T13:00:00+00:00",
          "2015-10-07T14:00:00+00:00",
          "2015-10-07T15:00:00+00:00",
          "2015-10-07T16:00:00+00:00",
          "2015-10-07T17:00:00+00:00",
          "2015-10-07T18:00:00+00:00",
          "2015-10-07T19:00:00+00:00",
          "2015-10-07T20:00:00+00:00",
          "2015-10-07T21:00:00+00:00",
          "2015-10-07T22:00:00+00:00",
          "2015-10-07T23:00:00+00:00",
          "2015-10-08T00:00:00+00:00"
         ],
         "y": [
          15.129831493065454,
          16.092823717286617,
          17.032646886181357,
          17.959288563534333,
          18.880836722992495,
          19.804920421728177,
          20.738585516895355,
          21.688371345725376,
          22.660336596283162,
          23.660096175834266,
          24.69285341086171,
          25.76343030875674,
          26.876295486951538,
          28.035590074703045,
          29.245151712652568,
          30.508536794574585,
          31.829041078918937,
          33.209718789844864,
          34.653400318399584,
          36.1627086264429,
          37.74007444838678,
          39.38775037885416,
          41.10782392790385,
          42.72037008471526,
          44.24759609221419,
          45.70271503030373,
          47.09964949666037,
          48.44979539065429,
          49.763828357400165,
          51.05162435795745,
          52.32234774330909,
          53.584489891478434,
          54.845920062755845,
          56.11393070764085,
          57.39527985334416,
          58.69623025358547,
          60.022585688211926,
          61.37972459876333,
          62.77263126014957,
          64.20592466767859,
          65.68388530709414,
          67.21047996272365,
          68.78938470752777,
          70.42400620829162,
          72.11750146943511,
          73.8727961298705,
          75.6926014189488,
          77.39757033499637,
          79.01044576987294,
          80.54493719663027,
          82.01542722722367,
          83.43373806250894,
          84.81094040698261,
          86.15727632860374,
          87.48224945459599,
          88.79466557488708,
          90.10268531955327,
          91.41387115543557,
          92.73523133755891,
          94.07326050916005,
          95.43397734525387,
          96.82295943365341,
          98.24537560082716,
          99.7060158685212,
          101.20931921500448,
          102.759399301782,
          104.36006831489155,
          106.01485905895714,
          107.72704543204874,
          109.4996614000131,
          111.33551858024408,
          113.05536300203201,
          114.68202377029554,
          116.22929025290017,
          117.71161910141117,
          119.14090113019739,
          120.52827062883063,
          121.88402859042355,
          123.21773324894072,
          124.53824099911895,
          125.85375936719906,
          127.17189427933519,
          128.4996942648886,
          129.84369128987097,
          131.2099386168201,
          132.60404588627665,
          134.03121162840756,
          135.49625339178004,
          137.0036356641424,
          138.5574957469809,
          140.16166773382537,
          141.8197047312705,
          143.53489945149843,
          145.31030329564948,
          147.148744038641,
          148.87098268316004,
          150.4998622101755,
          152.04918484667732,
          153.53341916095616,
          154.9644670107723,
          156.3534729197585,
          157.71074736507086,
          159.04585736966587,
          160.3676674731587,
          161.68439274975958,
          163.0036461204286,
          164.33248259670876,
          165.6774401517376,
          167.04457761493825,
          168.43950978575958,
          169.86743997519895,
          171.33319016228407,
          172.8412289405312,
          174.39569741629768,
          176.00043320913898,
          177.65899269326573,
          179.3746716090042,
          181.15052416371697,
          182.98938073288582,
          184.7120047291761,
          186.34124136691645,
          187.89089494278156,
          189.37543594306715,
          190.80676800297482,
          192.1960372933164,
          193.5535558177112,
          194.88889201370995,
          196.21091173185147,
          197.5278312611968,
          198.8472646485248,
          200.17626794868994,
          201.52138010168085,
          202.8886608329145,
          204.28372577216962,
          205.71177899992142,
          207.17764320828326,
          208.68578765159754,
          210.24035404861812,
          211.84518058641675,
          213.50382416512903,
          215.2195810124631,
          216.99550578744493,
          218.83442928411887,
          220.55711530303793
         ]
        },
        {
         "hovertemplate": "<b>OLS trendline</b><br>y = 0.000268289 * x + -387324<br>R<sup>2</sup>=0.999333<br><br>x=%{x}<br>y=%{y} <b>(trend)</b><extra></extra>",
         "legendgroup": "",
         "line": {
          "color": "Yellow"
         },
         "marker": {
          "color": "#636efa",
          "symbol": "circle"
         },
         "mode": "lines",
         "name": "predictions line",
         "showlegend": false,
         "type": "scatter",
         "x": [
          "2015-10-01T12:00:00+00:00",
          "2015-10-01T13:00:00+00:00",
          "2015-10-01T14:00:00+00:00",
          "2015-10-01T15:00:00+00:00",
          "2015-10-01T16:00:00+00:00",
          "2015-10-01T17:00:00+00:00",
          "2015-10-01T18:00:00+00:00",
          "2015-10-01T19:00:00+00:00",
          "2015-10-01T20:00:00+00:00",
          "2015-10-01T21:00:00+00:00",
          "2015-10-01T22:00:00+00:00",
          "2015-10-01T23:00:00+00:00",
          "2015-10-02T00:00:00+00:00",
          "2015-10-02T01:00:00+00:00",
          "2015-10-02T02:00:00+00:00",
          "2015-10-02T03:00:00+00:00",
          "2015-10-02T04:00:00+00:00",
          "2015-10-02T05:00:00+00:00",
          "2015-10-02T06:00:00+00:00",
          "2015-10-02T07:00:00+00:00",
          "2015-10-02T08:00:00+00:00",
          "2015-10-02T09:00:00+00:00",
          "2015-10-02T10:00:00+00:00",
          "2015-10-02T11:00:00+00:00",
          "2015-10-02T12:00:00+00:00",
          "2015-10-02T13:00:00+00:00",
          "2015-10-02T14:00:00+00:00",
          "2015-10-02T15:00:00+00:00",
          "2015-10-02T16:00:00+00:00",
          "2015-10-02T17:00:00+00:00",
          "2015-10-02T18:00:00+00:00",
          "2015-10-02T19:00:00+00:00",
          "2015-10-02T20:00:00+00:00",
          "2015-10-02T21:00:00+00:00",
          "2015-10-02T22:00:00+00:00",
          "2015-10-02T23:00:00+00:00",
          "2015-10-03T00:00:00+00:00",
          "2015-10-03T01:00:00+00:00",
          "2015-10-03T02:00:00+00:00",
          "2015-10-03T03:00:00+00:00",
          "2015-10-03T04:00:00+00:00",
          "2015-10-03T05:00:00+00:00",
          "2015-10-03T06:00:00+00:00",
          "2015-10-03T07:00:00+00:00",
          "2015-10-03T08:00:00+00:00",
          "2015-10-03T09:00:00+00:00",
          "2015-10-03T10:00:00+00:00",
          "2015-10-03T11:00:00+00:00",
          "2015-10-03T12:00:00+00:00",
          "2015-10-03T13:00:00+00:00",
          "2015-10-03T14:00:00+00:00",
          "2015-10-03T15:00:00+00:00",
          "2015-10-03T16:00:00+00:00",
          "2015-10-03T17:00:00+00:00",
          "2015-10-03T18:00:00+00:00",
          "2015-10-03T19:00:00+00:00",
          "2015-10-03T20:00:00+00:00",
          "2015-10-03T21:00:00+00:00",
          "2015-10-03T22:00:00+00:00",
          "2015-10-03T23:00:00+00:00",
          "2015-10-04T00:00:00+00:00",
          "2015-10-04T01:00:00+00:00",
          "2015-10-04T02:00:00+00:00",
          "2015-10-04T03:00:00+00:00",
          "2015-10-04T04:00:00+00:00",
          "2015-10-04T05:00:00+00:00",
          "2015-10-04T06:00:00+00:00",
          "2015-10-04T07:00:00+00:00",
          "2015-10-04T08:00:00+00:00",
          "2015-10-04T09:00:00+00:00",
          "2015-10-04T10:00:00+00:00",
          "2015-10-04T11:00:00+00:00",
          "2015-10-04T12:00:00+00:00",
          "2015-10-04T13:00:00+00:00",
          "2015-10-04T14:00:00+00:00",
          "2015-10-04T15:00:00+00:00",
          "2015-10-04T16:00:00+00:00",
          "2015-10-04T17:00:00+00:00",
          "2015-10-04T18:00:00+00:00",
          "2015-10-04T19:00:00+00:00",
          "2015-10-04T20:00:00+00:00",
          "2015-10-04T21:00:00+00:00",
          "2015-10-04T22:00:00+00:00",
          "2015-10-04T23:00:00+00:00",
          "2015-10-05T00:00:00+00:00",
          "2015-10-05T01:00:00+00:00",
          "2015-10-05T02:00:00+00:00",
          "2015-10-05T03:00:00+00:00",
          "2015-10-05T04:00:00+00:00",
          "2015-10-05T05:00:00+00:00",
          "2015-10-05T06:00:00+00:00",
          "2015-10-05T07:00:00+00:00",
          "2015-10-05T08:00:00+00:00",
          "2015-10-05T09:00:00+00:00",
          "2015-10-05T10:00:00+00:00",
          "2015-10-05T11:00:00+00:00",
          "2015-10-05T12:00:00+00:00",
          "2015-10-05T13:00:00+00:00",
          "2015-10-05T14:00:00+00:00",
          "2015-10-05T15:00:00+00:00",
          "2015-10-05T16:00:00+00:00",
          "2015-10-05T17:00:00+00:00",
          "2015-10-05T18:00:00+00:00",
          "2015-10-05T19:00:00+00:00",
          "2015-10-05T20:00:00+00:00",
          "2015-10-05T21:00:00+00:00",
          "2015-10-05T22:00:00+00:00",
          "2015-10-05T23:00:00+00:00",
          "2015-10-06T00:00:00+00:00",
          "2015-10-06T01:00:00+00:00",
          "2015-10-06T02:00:00+00:00",
          "2015-10-06T03:00:00+00:00",
          "2015-10-06T04:00:00+00:00",
          "2015-10-06T05:00:00+00:00",
          "2015-10-06T06:00:00+00:00",
          "2015-10-06T07:00:00+00:00",
          "2015-10-06T08:00:00+00:00",
          "2015-10-06T09:00:00+00:00",
          "2015-10-06T10:00:00+00:00",
          "2015-10-06T11:00:00+00:00",
          "2015-10-06T12:00:00+00:00",
          "2015-10-06T13:00:00+00:00",
          "2015-10-06T14:00:00+00:00",
          "2015-10-06T15:00:00+00:00",
          "2015-10-06T16:00:00+00:00",
          "2015-10-06T17:00:00+00:00",
          "2015-10-06T18:00:00+00:00",
          "2015-10-06T19:00:00+00:00",
          "2015-10-06T20:00:00+00:00",
          "2015-10-06T21:00:00+00:00",
          "2015-10-06T22:00:00+00:00",
          "2015-10-06T23:00:00+00:00",
          "2015-10-07T00:00:00+00:00",
          "2015-10-07T01:00:00+00:00",
          "2015-10-07T02:00:00+00:00",
          "2015-10-07T03:00:00+00:00",
          "2015-10-07T04:00:00+00:00",
          "2015-10-07T05:00:00+00:00",
          "2015-10-07T06:00:00+00:00",
          "2015-10-07T07:00:00+00:00",
          "2015-10-07T08:00:00+00:00",
          "2015-10-07T09:00:00+00:00",
          "2015-10-07T10:00:00+00:00",
          "2015-10-07T11:00:00+00:00",
          "2015-10-07T12:00:00+00:00",
          "2015-10-07T13:00:00+00:00",
          "2015-10-07T14:00:00+00:00",
          "2015-10-07T15:00:00+00:00",
          "2015-10-07T16:00:00+00:00",
          "2015-10-07T17:00:00+00:00",
          "2015-10-07T18:00:00+00:00",
          "2015-10-07T19:00:00+00:00",
          "2015-10-07T20:00:00+00:00",
          "2015-10-07T21:00:00+00:00",
          "2015-10-07T22:00:00+00:00",
          "2015-10-07T23:00:00+00:00",
          "2015-10-08T00:00:00+00:00",
          "2015-10-08T01:00:00+00:00",
          "2015-10-08T02:00:00+00:00",
          "2015-10-08T03:00:00+00:00",
          "2015-10-08T04:00:00+00:00",
          "2015-10-08T05:00:00+00:00",
          "2015-10-08T06:00:00+00:00",
          "2015-10-08T07:00:00+00:00",
          "2015-10-08T08:00:00+00:00",
          "2015-10-08T09:00:00+00:00",
          "2015-10-08T10:00:00+00:00",
          "2015-10-08T11:00:00+00:00",
          "2015-10-08T12:00:00+00:00",
          "2015-10-08T13:00:00+00:00",
          "2015-10-08T14:00:00+00:00",
          "2015-10-08T15:00:00+00:00",
          "2015-10-08T16:00:00+00:00",
          "2015-10-08T17:00:00+00:00",
          "2015-10-08T18:00:00+00:00",
          "2015-10-08T19:00:00+00:00",
          "2015-10-08T20:00:00+00:00",
          "2015-10-08T21:00:00+00:00",
          "2015-10-08T22:00:00+00:00",
          "2015-10-08T23:00:00+00:00",
          "2015-10-09T00:00:00+00:00",
          "2015-10-09T01:00:00+00:00",
          "2015-10-09T02:00:00+00:00",
          "2015-10-09T03:00:00+00:00",
          "2015-10-09T04:00:00+00:00",
          "2015-10-09T05:00:00+00:00",
          "2015-10-09T06:00:00+00:00",
          "2015-10-09T07:00:00+00:00",
          "2015-10-09T08:00:00+00:00",
          "2015-10-09T09:00:00+00:00",
          "2015-10-09T10:00:00+00:00",
          "2015-10-09T11:00:00+00:00",
          "2015-10-09T12:00:00+00:00",
          "2015-10-09T13:00:00+00:00",
          "2015-10-09T14:00:00+00:00",
          "2015-10-09T15:00:00+00:00",
          "2015-10-09T16:00:00+00:00",
          "2015-10-09T17:00:00+00:00",
          "2015-10-09T18:00:00+00:00",
          "2015-10-09T19:00:00+00:00",
          "2015-10-09T20:00:00+00:00",
          "2015-10-09T21:00:00+00:00",
          "2015-10-09T22:00:00+00:00",
          "2015-10-09T23:00:00+00:00",
          "2015-10-10T00:00:00+00:00",
          "2015-10-10T01:00:00+00:00",
          "2015-10-10T02:00:00+00:00",
          "2015-10-10T03:00:00+00:00",
          "2015-10-10T04:00:00+00:00",
          "2015-10-10T05:00:00+00:00",
          "2015-10-10T06:00:00+00:00",
          "2015-10-10T07:00:00+00:00",
          "2015-10-10T08:00:00+00:00",
          "2015-10-10T09:00:00+00:00",
          "2015-10-10T10:00:00+00:00",
          "2015-10-10T11:00:00+00:00",
          "2015-10-10T12:00:00+00:00",
          "2015-10-10T13:00:00+00:00",
          "2015-10-10T14:00:00+00:00",
          "2015-10-10T15:00:00+00:00",
          "2015-10-10T16:00:00+00:00",
          "2015-10-10T17:00:00+00:00",
          "2015-10-10T18:00:00+00:00",
          "2015-10-10T19:00:00+00:00",
          "2015-10-10T20:00:00+00:00",
          "2015-10-10T21:00:00+00:00",
          "2015-10-10T22:00:00+00:00",
          "2015-10-10T23:00:00+00:00",
          "2015-10-11T00:00:00+00:00",
          "2015-10-11T01:00:00+00:00",
          "2015-10-11T02:00:00+00:00",
          "2015-10-11T03:00:00+00:00",
          "2015-10-11T04:00:00+00:00",
          "2015-10-11T05:00:00+00:00",
          "2015-10-11T06:00:00+00:00",
          "2015-10-11T07:00:00+00:00",
          "2015-10-11T08:00:00+00:00",
          "2015-10-11T09:00:00+00:00",
          "2015-10-11T10:00:00+00:00",
          "2015-10-11T11:00:00+00:00",
          "2015-10-11T12:00:00+00:00",
          "2015-10-11T13:00:00+00:00",
          "2015-10-11T14:00:00+00:00",
          "2015-10-11T15:00:00+00:00",
          "2015-10-11T16:00:00+00:00",
          "2015-10-11T17:00:00+00:00",
          "2015-10-11T18:00:00+00:00",
          "2015-10-11T19:00:00+00:00",
          "2015-10-11T20:00:00+00:00",
          "2015-10-11T21:00:00+00:00",
          "2015-10-11T22:00:00+00:00",
          "2015-10-11T23:00:00+00:00"
         ],
         "xaxis": "x",
         "y": [
          4.7059151530847885,
          5.671753786911722,
          6.637592420680448,
          7.603431054507382,
          8.569269688334316,
          9.535108322103042,
          10.500946955929976,
          11.46678558975691,
          12.432624223583844,
          13.39846285735257,
          14.364301491179504,
          15.330140125006437,
          16.29597875883337,
          17.261817392602097,
          18.22765602642903,
          19.193494660255965,
          20.1593332940829,
          21.125171927851625,
          22.09101056167856,
          23.056849195505492,
          24.022687829332426,
          24.988526463101152,
          25.954365096928086,
          26.92020373075502,
          27.886042364581954,
          28.85188099835068,
          29.817719632177614,
          30.783558266004547,
          31.74939689983148,
          32.71523553360021,
          33.68107416742714,
          34.646912801254075,
          35.61275143508101,
          36.578590068849735,
          37.54442870267667,
          38.5102673365036,
          39.476105970330536,
          40.44194460409926,
          41.407783237926196,
          42.37362187175313,
          43.339460505580064,
          44.30529913934879,
          45.271137773175724,
          46.23697640700266,
          47.20281504082959,
          48.16865367459832,
          49.13449230842525,
          50.100330942252185,
          51.06616957607912,
          52.032008209847845,
          52.99784684367478,
          53.96368547750171,
          54.92952411132865,
          55.89536274509737,
          56.86120137892431,
          57.82704001275124,
          58.792878646578174,
          59.7587172803469,
          60.724555914173834,
          61.69039454800077,
          62.6562331818277,
          63.62207181559643,
          64.58791044942336,
          65.5537490832503,
          66.51958771707723,
          67.48542635084596,
          68.45126498467289,
          69.41710361849982,
          70.38294225226855,
          71.34878088609548,
          72.31461951992242,
          73.28045815374935,
          74.24629678751808,
          75.21213542134501,
          76.17797405517194,
          77.14381268899888,
          78.1096513227676,
          79.07548995659454,
          80.04132859042147,
          81.0071672242484,
          81.97300585801713,
          82.93884449184407,
          83.904683125671,
          84.87052175949793,
          85.83636039326666,
          86.8021990270936,
          87.76803766092053,
          88.73387629474746,
          89.69971492851619,
          90.66555356234312,
          91.63139219617005,
          92.59723082999699,
          93.56306946376571,
          94.52890809759265,
          95.49474673141958,
          96.46058536524652,
          97.42642399901524,
          98.39226263284218,
          99.35810126666911,
          100.32393990049604,
          101.28977853426477,
          102.2556171680917,
          103.22145580191864,
          104.18729443574557,
          105.1531330695143,
          106.11897170334123,
          107.08481033716816,
          108.0506489709951,
          109.01648760476382,
          109.98232623859076,
          110.94816487241769,
          111.91400350624463,
          112.87984214001335,
          113.84568077384029,
          114.81151940766722,
          115.77735804149415,
          116.74319667526288,
          117.70903530908981,
          118.67487394291675,
          119.64071257674368,
          120.60655121051241,
          121.57238984433934,
          122.53822847816627,
          123.50406711199321,
          124.46990574576193,
          125.43574437958887,
          126.4015830134158,
          127.36742164718453,
          128.33326028101146,
          129.2990989148384,
          130.26493754866533,
          131.23077618243406,
          132.196614816261,
          133.16245345008792,
          134.12829208391486,
          135.09413071768358,
          136.05996935151052,
          137.02580798533745,
          137.99164661916438,
          138.9574852529331,
          139.92332388676004,
          140.88916252058698,
          141.8550011544139,
          142.82083978818264,
          143.78667842200957,
          144.7525170558365,
          145.71835568966344,
          146.68419432343217,
          147.6500329572591,
          148.61587159108603,
          149.58171022491297,
          150.5475488586817,
          151.51338749250863,
          152.47922612633556,
          153.4450647601625,
          154.41090339393122,
          155.37674202775816,
          156.3425806615851,
          157.30841929541202,
          158.27425792918075,
          159.24009656300768,
          160.20593519683462,
          161.17177383066155,
          162.13761246443028,
          163.1034510982572,
          164.06928973208414,
          165.03512836591108,
          166.0009669996798,
          166.96680563350674,
          167.93264426733367,
          168.8984829011606,
          169.86432153492933,
          170.83016016875627,
          171.7959988025832,
          172.76183743641013,
          173.72767607017886,
          174.6935147040058,
          175.65935333783273,
          176.62519197165966,
          177.5910306054284,
          178.55686923925532,
          179.52270787308225,
          180.4885465069092,
          181.4543851406779,
          182.42022377450485,
          183.38606240833178,
          184.35190104215872,
          185.31773967592744,
          186.28357830975438,
          187.2494169435813,
          188.21525557735004,
          189.18109421117697,
          190.1469328450039,
          191.11277147883084,
          192.07861011259956,
          193.0444487464265,
          194.01028738025343,
          194.97612601408036,
          195.9419646478491,
          196.90780328167602,
          197.87364191550296,
          198.8394805493299,
          199.80531918309862,
          200.77115781692555,
          201.73699645075249,
          202.70283508457942,
          203.66867371834815,
          204.63451235217508,
          205.600350986002,
          206.56618961982895,
          207.53202825359767,
          208.4978668874246,
          209.46370552125154,
          210.42954415507847,
          211.3953827888472,
          212.36122142267413,
          213.32706005650107,
          214.292898690328,
          215.25873732409673,
          216.22457595792366,
          217.1904145917506,
          218.15625322557753,
          219.12209185934626,
          220.0879304931732,
          221.05376912700012,
          222.01960776082706,
          222.98544639459578,
          223.95128502842272,
          224.91712366224965,
          225.88296229607658,
          226.8488009298453,
          227.81463956367224,
          228.78047819749918,
          229.7463168313261,
          230.71215546509484,
          231.67799409892177,
          232.6438327327487,
          233.60967136657564,
          234.57551000034437,
          235.5413486341713,
          236.50718726799823,
          237.47302590182517,
          238.4388645355939,
          239.40470316942083,
          240.37054180324776,
          241.3363804370747,
          242.30221907084342,
          243.26805770467035,
          244.2338963384973,
          245.19973497232422,
          246.16557360609295,
          247.13141223991988
         ],
         "yaxis": "y"
        },
        {
         "hovertemplate": "<b>OLS trendline</b><br>y = 0.000407343 * x + -588091<br>R<sup>2</sup>=0.999474<br><br>x=%{x}<br>y=%{y} <b>(trend)</b><extra></extra>",
         "legendgroup": "",
         "line": {
          "color": "Cyan"
         },
         "marker": {
          "color": "#636efa",
          "symbol": "circle"
         },
         "mode": "lines",
         "name": "ltp predictions line",
         "showlegend": false,
         "type": "scatter",
         "x": [
          "2015-10-02T01:00:00+00:00",
          "2015-10-02T02:00:00+00:00",
          "2015-10-02T03:00:00+00:00",
          "2015-10-02T04:00:00+00:00",
          "2015-10-02T05:00:00+00:00",
          "2015-10-02T06:00:00+00:00",
          "2015-10-02T07:00:00+00:00",
          "2015-10-02T08:00:00+00:00",
          "2015-10-02T09:00:00+00:00",
          "2015-10-02T10:00:00+00:00",
          "2015-10-02T11:00:00+00:00",
          "2015-10-02T12:00:00+00:00",
          "2015-10-02T13:00:00+00:00",
          "2015-10-02T14:00:00+00:00",
          "2015-10-02T15:00:00+00:00",
          "2015-10-02T16:00:00+00:00",
          "2015-10-02T17:00:00+00:00",
          "2015-10-02T18:00:00+00:00",
          "2015-10-02T19:00:00+00:00",
          "2015-10-02T20:00:00+00:00",
          "2015-10-02T21:00:00+00:00",
          "2015-10-02T22:00:00+00:00",
          "2015-10-02T23:00:00+00:00",
          "2015-10-03T00:00:00+00:00",
          "2015-10-03T01:00:00+00:00",
          "2015-10-03T02:00:00+00:00",
          "2015-10-03T03:00:00+00:00",
          "2015-10-03T04:00:00+00:00",
          "2015-10-03T05:00:00+00:00",
          "2015-10-03T06:00:00+00:00",
          "2015-10-03T07:00:00+00:00",
          "2015-10-03T08:00:00+00:00",
          "2015-10-03T09:00:00+00:00",
          "2015-10-03T10:00:00+00:00",
          "2015-10-03T11:00:00+00:00",
          "2015-10-03T12:00:00+00:00",
          "2015-10-03T13:00:00+00:00",
          "2015-10-03T14:00:00+00:00",
          "2015-10-03T15:00:00+00:00",
          "2015-10-03T16:00:00+00:00",
          "2015-10-03T17:00:00+00:00",
          "2015-10-03T18:00:00+00:00",
          "2015-10-03T19:00:00+00:00",
          "2015-10-03T20:00:00+00:00",
          "2015-10-03T21:00:00+00:00",
          "2015-10-03T22:00:00+00:00",
          "2015-10-03T23:00:00+00:00",
          "2015-10-04T00:00:00+00:00",
          "2015-10-04T01:00:00+00:00",
          "2015-10-04T02:00:00+00:00",
          "2015-10-04T03:00:00+00:00",
          "2015-10-04T04:00:00+00:00",
          "2015-10-04T05:00:00+00:00",
          "2015-10-04T06:00:00+00:00",
          "2015-10-04T07:00:00+00:00",
          "2015-10-04T08:00:00+00:00",
          "2015-10-04T09:00:00+00:00",
          "2015-10-04T10:00:00+00:00",
          "2015-10-04T11:00:00+00:00",
          "2015-10-04T12:00:00+00:00",
          "2015-10-04T13:00:00+00:00",
          "2015-10-04T14:00:00+00:00",
          "2015-10-04T15:00:00+00:00",
          "2015-10-04T16:00:00+00:00",
          "2015-10-04T17:00:00+00:00",
          "2015-10-04T18:00:00+00:00",
          "2015-10-04T19:00:00+00:00",
          "2015-10-04T20:00:00+00:00",
          "2015-10-04T21:00:00+00:00",
          "2015-10-04T22:00:00+00:00",
          "2015-10-04T23:00:00+00:00",
          "2015-10-05T00:00:00+00:00",
          "2015-10-05T01:00:00+00:00",
          "2015-10-05T02:00:00+00:00",
          "2015-10-05T03:00:00+00:00",
          "2015-10-05T04:00:00+00:00",
          "2015-10-05T05:00:00+00:00",
          "2015-10-05T06:00:00+00:00",
          "2015-10-05T07:00:00+00:00",
          "2015-10-05T08:00:00+00:00",
          "2015-10-05T09:00:00+00:00",
          "2015-10-05T10:00:00+00:00",
          "2015-10-05T11:00:00+00:00",
          "2015-10-05T12:00:00+00:00",
          "2015-10-05T13:00:00+00:00",
          "2015-10-05T14:00:00+00:00",
          "2015-10-05T15:00:00+00:00",
          "2015-10-05T16:00:00+00:00",
          "2015-10-05T17:00:00+00:00",
          "2015-10-05T18:00:00+00:00",
          "2015-10-05T19:00:00+00:00",
          "2015-10-05T20:00:00+00:00",
          "2015-10-05T21:00:00+00:00",
          "2015-10-05T22:00:00+00:00",
          "2015-10-05T23:00:00+00:00",
          "2015-10-06T00:00:00+00:00",
          "2015-10-06T01:00:00+00:00",
          "2015-10-06T02:00:00+00:00",
          "2015-10-06T03:00:00+00:00",
          "2015-10-06T04:00:00+00:00",
          "2015-10-06T05:00:00+00:00",
          "2015-10-06T06:00:00+00:00",
          "2015-10-06T07:00:00+00:00",
          "2015-10-06T08:00:00+00:00",
          "2015-10-06T09:00:00+00:00",
          "2015-10-06T10:00:00+00:00",
          "2015-10-06T11:00:00+00:00",
          "2015-10-06T12:00:00+00:00",
          "2015-10-06T13:00:00+00:00",
          "2015-10-06T14:00:00+00:00",
          "2015-10-06T15:00:00+00:00",
          "2015-10-06T16:00:00+00:00",
          "2015-10-06T17:00:00+00:00",
          "2015-10-06T18:00:00+00:00",
          "2015-10-06T19:00:00+00:00",
          "2015-10-06T20:00:00+00:00",
          "2015-10-06T21:00:00+00:00",
          "2015-10-06T22:00:00+00:00",
          "2015-10-06T23:00:00+00:00",
          "2015-10-07T00:00:00+00:00",
          "2015-10-07T01:00:00+00:00",
          "2015-10-07T02:00:00+00:00",
          "2015-10-07T03:00:00+00:00",
          "2015-10-07T04:00:00+00:00",
          "2015-10-07T05:00:00+00:00",
          "2015-10-07T06:00:00+00:00",
          "2015-10-07T07:00:00+00:00",
          "2015-10-07T08:00:00+00:00",
          "2015-10-07T09:00:00+00:00",
          "2015-10-07T10:00:00+00:00",
          "2015-10-07T11:00:00+00:00",
          "2015-10-07T12:00:00+00:00",
          "2015-10-07T13:00:00+00:00",
          "2015-10-07T14:00:00+00:00",
          "2015-10-07T15:00:00+00:00",
          "2015-10-07T16:00:00+00:00",
          "2015-10-07T17:00:00+00:00",
          "2015-10-07T18:00:00+00:00",
          "2015-10-07T19:00:00+00:00",
          "2015-10-07T20:00:00+00:00",
          "2015-10-07T21:00:00+00:00",
          "2015-10-07T22:00:00+00:00",
          "2015-10-07T23:00:00+00:00",
          "2015-10-08T00:00:00+00:00"
         ],
         "xaxis": "x",
         "y": [
          9.014719000319019,
          10.481153355911374,
          11.94758771150373,
          13.414022067096084,
          14.88045642268844,
          16.346890778280795,
          17.81332513387315,
          19.279759489465505,
          20.74619384505786,
          22.21262820076663,
          23.679062556358986,
          25.14549691195134,
          26.611931267543696,
          28.07836562313605,
          29.544799978728406,
          31.01123433432076,
          32.477668689913116,
          33.94410304550547,
          35.41053740109783,
          36.87697175669018,
          38.34340611239895,
          39.80984046799131,
          41.27627482358366,
          42.74270917917602,
          44.20914353476837,
          45.67557789036073,
          47.14201224595308,
          48.60844660154544,
          50.07488095713779,
          51.54131531273015,
          53.007749668322504,
          54.474184024031274,
          55.94061837962363,
          57.407052735215984,
          58.87348709080834,
          60.339921446400695,
          61.80635580199305,
          63.272790157585405,
          64.73922451317776,
          66.20565886877012,
          67.67209322436247,
          69.13852757995483,
          70.6049619356636,
          72.07139629125595,
          73.5378306468483,
          75.00426500244066,
          76.47069935803302,
          77.93713371362537,
          79.40356806921773,
          80.87000242481008,
          82.33643678040244,
          83.80287113599479,
          85.26930549158715,
          86.73573984729592,
          88.20217420288827,
          89.66860855848063,
          91.13504291407298,
          92.60147726966534,
          94.0679116252577,
          95.53434598085005,
          97.0007803364424,
          98.46721469203476,
          99.93364904762711,
          101.40008340333588,
          102.86651775892824,
          104.3329521145206,
          105.79938647011295,
          107.2658208257053,
          108.73225518129766,
          110.19868953689002,
          111.66512389248237,
          113.13155824807473,
          114.59799260366708,
          116.06442695925944,
          117.5308613149682,
          118.99729567056056,
          120.46373002615292,
          121.93016438174527,
          123.39659873733763,
          124.86303309292998,
          126.32946744852234,
          127.79590180411469,
          129.26233615970705,
          130.7287705152994,
          132.19520487089176,
          133.66163922660053,
          135.12807358219288,
          136.59450793778524,
          138.0609422933776,
          139.52737664896995,
          140.9938110045623,
          142.46024536015466,
          143.926679715747,
          145.39311407133937,
          146.85954842693172,
          148.32598278252408,
          149.79241713823285,
          151.2588514938252,
          152.72528584941756,
          154.19172020500991,
          155.65815456060227,
          157.12458891619463,
          158.59102327178698,
          160.05745762737934,
          161.5238919829717,
          162.99032633856405,
          164.45676069427282,
          165.92319504986517,
          167.38962940545753,
          168.85606376104988,
          170.32249811664224,
          171.7889324722346,
          173.25536682782695,
          174.7218011834193,
          176.18823553901166,
          177.654669894604,
          179.12110425019637,
          180.58753860590514,
          182.0539729614975,
          183.52040731708985,
          184.9868416726822,
          186.45327602827456,
          187.9197103838669,
          189.38614473945927,
          190.85257909505162,
          192.31901345064398,
          193.78544780623633,
          195.2518821618287,
          196.71831651753746,
          198.18475087312981,
          199.65118522872217,
          201.11761958431453,
          202.58405393990688,
          204.05048829549924,
          205.5169226510916,
          206.98335700668395,
          208.4497913622763,
          209.91622571786866,
          211.382660073461,
          212.84909442916978,
          214.31552878476214,
          215.7819631403545,
          217.24839749594685,
          218.7148318515392
         ],
         "yaxis": "y"
        }
       ],
       "layout": {
        "legend": {
         "title": {
          "text": "Data Category"
         },
         "tracegroupgap": 0
        },
        "margin": {
         "t": 60
        },
        "showlegend": true,
        "template": {
         "data": {
          "bar": [
           {
            "error_x": {
             "color": "#2a3f5f"
            },
            "error_y": {
             "color": "#2a3f5f"
            },
            "marker": {
             "line": {
              "color": "#E5ECF6",
              "width": 0.5
             }
            },
            "type": "bar"
           }
          ],
          "barpolar": [
           {
            "marker": {
             "line": {
              "color": "#E5ECF6",
              "width": 0.5
             }
            },
            "type": "barpolar"
           }
          ],
          "carpet": [
           {
            "aaxis": {
             "endlinecolor": "#2a3f5f",
             "gridcolor": "white",
             "linecolor": "white",
             "minorgridcolor": "white",
             "startlinecolor": "#2a3f5f"
            },
            "baxis": {
             "endlinecolor": "#2a3f5f",
             "gridcolor": "white",
             "linecolor": "white",
             "minorgridcolor": "white",
             "startlinecolor": "#2a3f5f"
            },
            "type": "carpet"
           }
          ],
          "choropleth": [
           {
            "colorbar": {
             "outlinewidth": 0,
             "ticks": ""
            },
            "type": "choropleth"
           }
          ],
          "contour": [
           {
            "colorbar": {
             "outlinewidth": 0,
             "ticks": ""
            },
            "colorscale": [
             [
              0,
              "#0d0887"
             ],
             [
              0.1111111111111111,
              "#46039f"
             ],
             [
              0.2222222222222222,
              "#7201a8"
             ],
             [
              0.3333333333333333,
              "#9c179e"
             ],
             [
              0.4444444444444444,
              "#bd3786"
             ],
             [
              0.5555555555555556,
              "#d8576b"
             ],
             [
              0.6666666666666666,
              "#ed7953"
             ],
             [
              0.7777777777777778,
              "#fb9f3a"
             ],
             [
              0.8888888888888888,
              "#fdca26"
             ],
             [
              1,
              "#f0f921"
             ]
            ],
            "type": "contour"
           }
          ],
          "contourcarpet": [
           {
            "colorbar": {
             "outlinewidth": 0,
             "ticks": ""
            },
            "type": "contourcarpet"
           }
          ],
          "heatmap": [
           {
            "colorbar": {
             "outlinewidth": 0,
             "ticks": ""
            },
            "colorscale": [
             [
              0,
              "#0d0887"
             ],
             [
              0.1111111111111111,
              "#46039f"
             ],
             [
              0.2222222222222222,
              "#7201a8"
             ],
             [
              0.3333333333333333,
              "#9c179e"
             ],
             [
              0.4444444444444444,
              "#bd3786"
             ],
             [
              0.5555555555555556,
              "#d8576b"
             ],
             [
              0.6666666666666666,
              "#ed7953"
             ],
             [
              0.7777777777777778,
              "#fb9f3a"
             ],
             [
              0.8888888888888888,
              "#fdca26"
             ],
             [
              1,
              "#f0f921"
             ]
            ],
            "type": "heatmap"
           }
          ],
          "heatmapgl": [
           {
            "colorbar": {
             "outlinewidth": 0,
             "ticks": ""
            },
            "colorscale": [
             [
              0,
              "#0d0887"
             ],
             [
              0.1111111111111111,
              "#46039f"
             ],
             [
              0.2222222222222222,
              "#7201a8"
             ],
             [
              0.3333333333333333,
              "#9c179e"
             ],
             [
              0.4444444444444444,
              "#bd3786"
             ],
             [
              0.5555555555555556,
              "#d8576b"
             ],
             [
              0.6666666666666666,
              "#ed7953"
             ],
             [
              0.7777777777777778,
              "#fb9f3a"
             ],
             [
              0.8888888888888888,
              "#fdca26"
             ],
             [
              1,
              "#f0f921"
             ]
            ],
            "type": "heatmapgl"
           }
          ],
          "histogram": [
           {
            "marker": {
             "colorbar": {
              "outlinewidth": 0,
              "ticks": ""
             }
            },
            "type": "histogram"
           }
          ],
          "histogram2d": [
           {
            "colorbar": {
             "outlinewidth": 0,
             "ticks": ""
            },
            "colorscale": [
             [
              0,
              "#0d0887"
             ],
             [
              0.1111111111111111,
              "#46039f"
             ],
             [
              0.2222222222222222,
              "#7201a8"
             ],
             [
              0.3333333333333333,
              "#9c179e"
             ],
             [
              0.4444444444444444,
              "#bd3786"
             ],
             [
              0.5555555555555556,
              "#d8576b"
             ],
             [
              0.6666666666666666,
              "#ed7953"
             ],
             [
              0.7777777777777778,
              "#fb9f3a"
             ],
             [
              0.8888888888888888,
              "#fdca26"
             ],
             [
              1,
              "#f0f921"
             ]
            ],
            "type": "histogram2d"
           }
          ],
          "histogram2dcontour": [
           {
            "colorbar": {
             "outlinewidth": 0,
             "ticks": ""
            },
            "colorscale": [
             [
              0,
              "#0d0887"
             ],
             [
              0.1111111111111111,
              "#46039f"
             ],
             [
              0.2222222222222222,
              "#7201a8"
             ],
             [
              0.3333333333333333,
              "#9c179e"
             ],
             [
              0.4444444444444444,
              "#bd3786"
             ],
             [
              0.5555555555555556,
              "#d8576b"
             ],
             [
              0.6666666666666666,
              "#ed7953"
             ],
             [
              0.7777777777777778,
              "#fb9f3a"
             ],
             [
              0.8888888888888888,
              "#fdca26"
             ],
             [
              1,
              "#f0f921"
             ]
            ],
            "type": "histogram2dcontour"
           }
          ],
          "mesh3d": [
           {
            "colorbar": {
             "outlinewidth": 0,
             "ticks": ""
            },
            "type": "mesh3d"
           }
          ],
          "parcoords": [
           {
            "line": {
             "colorbar": {
              "outlinewidth": 0,
              "ticks": ""
             }
            },
            "type": "parcoords"
           }
          ],
          "pie": [
           {
            "automargin": true,
            "type": "pie"
           }
          ],
          "scatter": [
           {
            "marker": {
             "colorbar": {
              "outlinewidth": 0,
              "ticks": ""
             }
            },
            "type": "scatter"
           }
          ],
          "scatter3d": [
           {
            "line": {
             "colorbar": {
              "outlinewidth": 0,
              "ticks": ""
             }
            },
            "marker": {
             "colorbar": {
              "outlinewidth": 0,
              "ticks": ""
             }
            },
            "type": "scatter3d"
           }
          ],
          "scattercarpet": [
           {
            "marker": {
             "colorbar": {
              "outlinewidth": 0,
              "ticks": ""
             }
            },
            "type": "scattercarpet"
           }
          ],
          "scattergeo": [
           {
            "marker": {
             "colorbar": {
              "outlinewidth": 0,
              "ticks": ""
             }
            },
            "type": "scattergeo"
           }
          ],
          "scattergl": [
           {
            "marker": {
             "colorbar": {
              "outlinewidth": 0,
              "ticks": ""
             }
            },
            "type": "scattergl"
           }
          ],
          "scattermapbox": [
           {
            "marker": {
             "colorbar": {
              "outlinewidth": 0,
              "ticks": ""
             }
            },
            "type": "scattermapbox"
           }
          ],
          "scatterpolar": [
           {
            "marker": {
             "colorbar": {
              "outlinewidth": 0,
              "ticks": ""
             }
            },
            "type": "scatterpolar"
           }
          ],
          "scatterpolargl": [
           {
            "marker": {
             "colorbar": {
              "outlinewidth": 0,
              "ticks": ""
             }
            },
            "type": "scatterpolargl"
           }
          ],
          "scatterternary": [
           {
            "marker": {
             "colorbar": {
              "outlinewidth": 0,
              "ticks": ""
             }
            },
            "type": "scatterternary"
           }
          ],
          "surface": [
           {
            "colorbar": {
             "outlinewidth": 0,
             "ticks": ""
            },
            "colorscale": [
             [
              0,
              "#0d0887"
             ],
             [
              0.1111111111111111,
              "#46039f"
             ],
             [
              0.2222222222222222,
              "#7201a8"
             ],
             [
              0.3333333333333333,
              "#9c179e"
             ],
             [
              0.4444444444444444,
              "#bd3786"
             ],
             [
              0.5555555555555556,
              "#d8576b"
             ],
             [
              0.6666666666666666,
              "#ed7953"
             ],
             [
              0.7777777777777778,
              "#fb9f3a"
             ],
             [
              0.8888888888888888,
              "#fdca26"
             ],
             [
              1,
              "#f0f921"
             ]
            ],
            "type": "surface"
           }
          ],
          "table": [
           {
            "cells": {
             "fill": {
              "color": "#EBF0F8"
             },
             "line": {
              "color": "white"
             }
            },
            "header": {
             "fill": {
              "color": "#C8D4E3"
             },
             "line": {
              "color": "white"
             }
            },
            "type": "table"
           }
          ]
         },
         "layout": {
          "annotationdefaults": {
           "arrowcolor": "#2a3f5f",
           "arrowhead": 0,
           "arrowwidth": 1
          },
          "coloraxis": {
           "colorbar": {
            "outlinewidth": 0,
            "ticks": ""
           }
          },
          "colorscale": {
           "diverging": [
            [
             0,
             "#8e0152"
            ],
            [
             0.1,
             "#c51b7d"
            ],
            [
             0.2,
             "#de77ae"
            ],
            [
             0.3,
             "#f1b6da"
            ],
            [
             0.4,
             "#fde0ef"
            ],
            [
             0.5,
             "#f7f7f7"
            ],
            [
             0.6,
             "#e6f5d0"
            ],
            [
             0.7,
             "#b8e186"
            ],
            [
             0.8,
             "#7fbc41"
            ],
            [
             0.9,
             "#4d9221"
            ],
            [
             1,
             "#276419"
            ]
           ],
           "sequential": [
            [
             0,
             "#0d0887"
            ],
            [
             0.1111111111111111,
             "#46039f"
            ],
            [
             0.2222222222222222,
             "#7201a8"
            ],
            [
             0.3333333333333333,
             "#9c179e"
            ],
            [
             0.4444444444444444,
             "#bd3786"
            ],
            [
             0.5555555555555556,
             "#d8576b"
            ],
            [
             0.6666666666666666,
             "#ed7953"
            ],
            [
             0.7777777777777778,
             "#fb9f3a"
            ],
            [
             0.8888888888888888,
             "#fdca26"
            ],
            [
             1,
             "#f0f921"
            ]
           ],
           "sequentialminus": [
            [
             0,
             "#0d0887"
            ],
            [
             0.1111111111111111,
             "#46039f"
            ],
            [
             0.2222222222222222,
             "#7201a8"
            ],
            [
             0.3333333333333333,
             "#9c179e"
            ],
            [
             0.4444444444444444,
             "#bd3786"
            ],
            [
             0.5555555555555556,
             "#d8576b"
            ],
            [
             0.6666666666666666,
             "#ed7953"
            ],
            [
             0.7777777777777778,
             "#fb9f3a"
            ],
            [
             0.8888888888888888,
             "#fdca26"
            ],
            [
             1,
             "#f0f921"
            ]
           ]
          },
          "colorway": [
           "#636efa",
           "#EF553B",
           "#00cc96",
           "#ab63fa",
           "#FFA15A",
           "#19d3f3",
           "#FF6692",
           "#B6E880",
           "#FF97FF",
           "#FECB52"
          ],
          "font": {
           "color": "#2a3f5f"
          },
          "geo": {
           "bgcolor": "white",
           "lakecolor": "white",
           "landcolor": "#E5ECF6",
           "showlakes": true,
           "showland": true,
           "subunitcolor": "white"
          },
          "hoverlabel": {
           "align": "left"
          },
          "hovermode": "closest",
          "mapbox": {
           "style": "light"
          },
          "paper_bgcolor": "white",
          "plot_bgcolor": "#E5ECF6",
          "polar": {
           "angularaxis": {
            "gridcolor": "white",
            "linecolor": "white",
            "ticks": ""
           },
           "bgcolor": "#E5ECF6",
           "radialaxis": {
            "gridcolor": "white",
            "linecolor": "white",
            "ticks": ""
           }
          },
          "scene": {
           "xaxis": {
            "backgroundcolor": "#E5ECF6",
            "gridcolor": "white",
            "gridwidth": 2,
            "linecolor": "white",
            "showbackground": true,
            "ticks": "",
            "zerolinecolor": "white"
           },
           "yaxis": {
            "backgroundcolor": "#E5ECF6",
            "gridcolor": "white",
            "gridwidth": 2,
            "linecolor": "white",
            "showbackground": true,
            "ticks": "",
            "zerolinecolor": "white"
           },
           "zaxis": {
            "backgroundcolor": "#E5ECF6",
            "gridcolor": "white",
            "gridwidth": 2,
            "linecolor": "white",
            "showbackground": true,
            "ticks": "",
            "zerolinecolor": "white"
           }
          },
          "shapedefaults": {
           "line": {
            "color": "#2a3f5f"
           }
          },
          "ternary": {
           "aaxis": {
            "gridcolor": "white",
            "linecolor": "white",
            "ticks": ""
           },
           "baxis": {
            "gridcolor": "white",
            "linecolor": "white",
            "ticks": ""
           },
           "bgcolor": "#E5ECF6",
           "caxis": {
            "gridcolor": "white",
            "linecolor": "white",
            "ticks": ""
           }
          },
          "title": {
           "x": 0.05
          },
          "xaxis": {
           "automargin": true,
           "gridcolor": "white",
           "linecolor": "white",
           "ticks": "",
           "title": {
            "standoff": 15
           },
           "zerolinecolor": "white",
           "zerolinewidth": 2
          },
          "yaxis": {
           "automargin": true,
           "gridcolor": "white",
           "linecolor": "white",
           "ticks": "",
           "title": {
            "standoff": 15
           },
           "zerolinecolor": "white",
           "zerolinewidth": 2
          }
         }
        },
        "title": {
         "text": "Mean predictions with linear kernel SVR"
        },
        "xaxis": {
         "anchor": "y",
         "domain": [
          0,
          1
         ],
         "title": {
          "text": "Date and time"
         }
        },
        "yaxis": {
         "anchor": "x",
         "domain": [
          0,
          1
         ],
         "title": {
          "text": "meter value reading"
         }
        }
       }
      },
      "text/html": [
       "<div>                            <div id=\"1588c9d4-5b20-46ae-9853-b4b262079caf\" class=\"plotly-graph-div\" style=\"height:525px; width:100%;\"></div>            <script type=\"text/javascript\">                require([\"plotly\"], function(Plotly) {                    window.PLOTLYENV=window.PLOTLYENV || {};                                    if (document.getElementById(\"1588c9d4-5b20-46ae-9853-b4b262079caf\")) {                    Plotly.newPlot(                        \"1588c9d4-5b20-46ae-9853-b4b262079caf\",                        [{\"mode\": \"markers\", \"name\": \"mean actual\", \"type\": \"scatter\", \"x\": [\"2015-10-01T05:00:00+00:00\", \"2015-10-01T06:00:00+00:00\", \"2015-10-01T07:00:00+00:00\", \"2015-10-01T08:00:00+00:00\", \"2015-10-01T09:00:00+00:00\", \"2015-10-01T10:00:00+00:00\", \"2015-10-01T11:00:00+00:00\", \"2015-10-01T12:00:00+00:00\", \"2015-10-01T13:00:00+00:00\", \"2015-10-01T14:00:00+00:00\", \"2015-10-01T15:00:00+00:00\", \"2015-10-01T16:00:00+00:00\", \"2015-10-01T17:00:00+00:00\", \"2015-10-01T18:00:00+00:00\", \"2015-10-01T19:00:00+00:00\", \"2015-10-01T20:00:00+00:00\", \"2015-10-01T21:00:00+00:00\", \"2015-10-01T22:00:00+00:00\", \"2015-10-01T23:00:00+00:00\", \"2015-10-02T00:00:00+00:00\", \"2015-10-02T01:00:00+00:00\", \"2015-10-02T02:00:00+00:00\", \"2015-10-02T03:00:00+00:00\", \"2015-10-02T04:00:00+00:00\", \"2015-10-02T05:00:00+00:00\", \"2015-10-02T06:00:00+00:00\", \"2015-10-02T07:00:00+00:00\", \"2015-10-02T08:00:00+00:00\", \"2015-10-02T09:00:00+00:00\", \"2015-10-02T10:00:00+00:00\", \"2015-10-02T11:00:00+00:00\", \"2015-10-02T12:00:00+00:00\", \"2015-10-02T13:00:00+00:00\", \"2015-10-02T14:00:00+00:00\", \"2015-10-02T15:00:00+00:00\", \"2015-10-02T16:00:00+00:00\", \"2015-10-02T17:00:00+00:00\", \"2015-10-02T18:00:00+00:00\", \"2015-10-02T19:00:00+00:00\", \"2015-10-02T20:00:00+00:00\", \"2015-10-02T21:00:00+00:00\", \"2015-10-02T22:00:00+00:00\", \"2015-10-02T23:00:00+00:00\", \"2015-10-03T00:00:00+00:00\", \"2015-10-03T01:00:00+00:00\", \"2015-10-03T02:00:00+00:00\", \"2015-10-03T03:00:00+00:00\", \"2015-10-03T04:00:00+00:00\", \"2015-10-03T05:00:00+00:00\", \"2015-10-03T06:00:00+00:00\", \"2015-10-03T07:00:00+00:00\", \"2015-10-03T08:00:00+00:00\", \"2015-10-03T09:00:00+00:00\", \"2015-10-03T10:00:00+00:00\", \"2015-10-03T11:00:00+00:00\", \"2015-10-03T12:00:00+00:00\", \"2015-10-03T13:00:00+00:00\", \"2015-10-03T14:00:00+00:00\", \"2015-10-03T15:00:00+00:00\", \"2015-10-03T16:00:00+00:00\", \"2015-10-03T17:00:00+00:00\", \"2015-10-03T18:00:00+00:00\", \"2015-10-03T19:00:00+00:00\", \"2015-10-03T20:00:00+00:00\", \"2015-10-03T21:00:00+00:00\", \"2015-10-03T22:00:00+00:00\", \"2015-10-03T23:00:00+00:00\", \"2015-10-04T00:00:00+00:00\", \"2015-10-04T01:00:00+00:00\", \"2015-10-04T02:00:00+00:00\", \"2015-10-04T03:00:00+00:00\", \"2015-10-04T04:00:00+00:00\", \"2015-10-04T05:00:00+00:00\", \"2015-10-04T06:00:00+00:00\", \"2015-10-04T07:00:00+00:00\", \"2015-10-04T08:00:00+00:00\", \"2015-10-04T09:00:00+00:00\", \"2015-10-04T10:00:00+00:00\", \"2015-10-04T11:00:00+00:00\", \"2015-10-04T12:00:00+00:00\", \"2015-10-04T13:00:00+00:00\", \"2015-10-04T14:00:00+00:00\", \"2015-10-04T15:00:00+00:00\", \"2015-10-04T16:00:00+00:00\", \"2015-10-04T17:00:00+00:00\", \"2015-10-04T18:00:00+00:00\", \"2015-10-04T19:00:00+00:00\", \"2015-10-04T20:00:00+00:00\", \"2015-10-04T21:00:00+00:00\", \"2015-10-04T22:00:00+00:00\", \"2015-10-04T23:00:00+00:00\", \"2015-10-05T00:00:00+00:00\", \"2015-10-05T01:00:00+00:00\", \"2015-10-05T02:00:00+00:00\", \"2015-10-05T03:00:00+00:00\", \"2015-10-05T04:00:00+00:00\", \"2015-10-05T05:00:00+00:00\", \"2015-10-05T06:00:00+00:00\", \"2015-10-05T07:00:00+00:00\", \"2015-10-05T08:00:00+00:00\", \"2015-10-05T09:00:00+00:00\", \"2015-10-05T10:00:00+00:00\", \"2015-10-05T11:00:00+00:00\", \"2015-10-05T12:00:00+00:00\", \"2015-10-05T13:00:00+00:00\", \"2015-10-05T14:00:00+00:00\", \"2015-10-05T15:00:00+00:00\", \"2015-10-05T16:00:00+00:00\", \"2015-10-05T17:00:00+00:00\", \"2015-10-05T18:00:00+00:00\", \"2015-10-05T19:00:00+00:00\", \"2015-10-05T20:00:00+00:00\", \"2015-10-05T21:00:00+00:00\", \"2015-10-05T22:00:00+00:00\", \"2015-10-05T23:00:00+00:00\", \"2015-10-06T00:00:00+00:00\", \"2015-10-06T01:00:00+00:00\", \"2015-10-06T02:00:00+00:00\", \"2015-10-06T03:00:00+00:00\", \"2015-10-06T04:00:00+00:00\", \"2015-10-06T05:00:00+00:00\", \"2015-10-06T06:00:00+00:00\", \"2015-10-06T07:00:00+00:00\", \"2015-10-06T08:00:00+00:00\", \"2015-10-06T09:00:00+00:00\", \"2015-10-06T10:00:00+00:00\", \"2015-10-06T11:00:00+00:00\", \"2015-10-06T12:00:00+00:00\", \"2015-10-06T13:00:00+00:00\", \"2015-10-06T14:00:00+00:00\", \"2015-10-06T15:00:00+00:00\", \"2015-10-06T16:00:00+00:00\", \"2015-10-06T17:00:00+00:00\", \"2015-10-06T18:00:00+00:00\", \"2015-10-06T19:00:00+00:00\", \"2015-10-06T20:00:00+00:00\", \"2015-10-06T21:00:00+00:00\", \"2015-10-06T22:00:00+00:00\", \"2015-10-06T23:00:00+00:00\", \"2015-10-07T00:00:00+00:00\", \"2015-10-07T01:00:00+00:00\", \"2015-10-07T02:00:00+00:00\", \"2015-10-07T03:00:00+00:00\", \"2015-10-07T04:00:00+00:00\", \"2015-10-07T05:00:00+00:00\", \"2015-10-07T06:00:00+00:00\", \"2015-10-07T07:00:00+00:00\", \"2015-10-07T08:00:00+00:00\", \"2015-10-07T09:00:00+00:00\", \"2015-10-07T10:00:00+00:00\", \"2015-10-07T11:00:00+00:00\", \"2015-10-07T12:00:00+00:00\", \"2015-10-07T13:00:00+00:00\", \"2015-10-07T14:00:00+00:00\", \"2015-10-07T15:00:00+00:00\", \"2015-10-07T16:00:00+00:00\", \"2015-10-07T17:00:00+00:00\", \"2015-10-07T18:00:00+00:00\", \"2015-10-07T19:00:00+00:00\", \"2015-10-07T20:00:00+00:00\", \"2015-10-07T21:00:00+00:00\", \"2015-10-07T22:00:00+00:00\", \"2015-10-07T23:00:00+00:00\", \"2015-10-08T00:00:00+00:00\", \"2015-10-08T01:00:00+00:00\", \"2015-10-08T02:00:00+00:00\", \"2015-10-08T03:00:00+00:00\", \"2015-10-08T04:00:00+00:00\", \"2015-10-08T05:00:00+00:00\", \"2015-10-08T06:00:00+00:00\", \"2015-10-08T07:00:00+00:00\", \"2015-10-08T08:00:00+00:00\", \"2015-10-08T09:00:00+00:00\", \"2015-10-08T10:00:00+00:00\", \"2015-10-08T11:00:00+00:00\", \"2015-10-08T12:00:00+00:00\", \"2015-10-08T13:00:00+00:00\", \"2015-10-08T14:00:00+00:00\", \"2015-10-08T15:00:00+00:00\", \"2015-10-08T16:00:00+00:00\", \"2015-10-08T17:00:00+00:00\", \"2015-10-08T18:00:00+00:00\", \"2015-10-08T19:00:00+00:00\", \"2015-10-08T20:00:00+00:00\", \"2015-10-08T21:00:00+00:00\", \"2015-10-08T22:00:00+00:00\", \"2015-10-08T23:00:00+00:00\", \"2015-10-09T00:00:00+00:00\", \"2015-10-09T01:00:00+00:00\", \"2015-10-09T02:00:00+00:00\", \"2015-10-09T03:00:00+00:00\", \"2015-10-09T04:00:00+00:00\", \"2015-10-09T05:00:00+00:00\", \"2015-10-09T06:00:00+00:00\", \"2015-10-09T07:00:00+00:00\", \"2015-10-09T08:00:00+00:00\", \"2015-10-09T09:00:00+00:00\", \"2015-10-09T10:00:00+00:00\", \"2015-10-09T11:00:00+00:00\", \"2015-10-09T12:00:00+00:00\", \"2015-10-09T13:00:00+00:00\", \"2015-10-09T14:00:00+00:00\", \"2015-10-09T15:00:00+00:00\", \"2015-10-09T16:00:00+00:00\", \"2015-10-09T17:00:00+00:00\", \"2015-10-09T18:00:00+00:00\", \"2015-10-09T19:00:00+00:00\", \"2015-10-09T20:00:00+00:00\", \"2015-10-09T21:00:00+00:00\", \"2015-10-09T22:00:00+00:00\", \"2015-10-09T23:00:00+00:00\", \"2015-10-10T00:00:00+00:00\", \"2015-10-10T01:00:00+00:00\", \"2015-10-10T02:00:00+00:00\", \"2015-10-10T03:00:00+00:00\", \"2015-10-10T04:00:00+00:00\", \"2015-10-10T05:00:00+00:00\", \"2015-10-10T06:00:00+00:00\", \"2015-10-10T07:00:00+00:00\", \"2015-10-10T08:00:00+00:00\", \"2015-10-10T09:00:00+00:00\", \"2015-10-10T10:00:00+00:00\", \"2015-10-10T11:00:00+00:00\", \"2015-10-10T12:00:00+00:00\", \"2015-10-10T13:00:00+00:00\", \"2015-10-10T14:00:00+00:00\", \"2015-10-10T15:00:00+00:00\", \"2015-10-10T16:00:00+00:00\", \"2015-10-10T17:00:00+00:00\", \"2015-10-10T18:00:00+00:00\", \"2015-10-10T19:00:00+00:00\", \"2015-10-10T20:00:00+00:00\", \"2015-10-10T21:00:00+00:00\", \"2015-10-10T22:00:00+00:00\", \"2015-10-10T23:00:00+00:00\", \"2015-10-11T00:00:00+00:00\", \"2015-10-11T01:00:00+00:00\", \"2015-10-11T02:00:00+00:00\", \"2015-10-11T03:00:00+00:00\", \"2015-10-11T04:00:00+00:00\", \"2015-10-11T05:00:00+00:00\", \"2015-10-11T06:00:00+00:00\", \"2015-10-11T07:00:00+00:00\", \"2015-10-11T08:00:00+00:00\", \"2015-10-11T09:00:00+00:00\", \"2015-10-11T10:00:00+00:00\", \"2015-10-11T11:00:00+00:00\", \"2015-10-11T12:00:00+00:00\", \"2015-10-11T13:00:00+00:00\", \"2015-10-11T14:00:00+00:00\"], \"y\": [0.21360544217687075, 0.617831871704505, 0.7380667935066665, 0.9987810792209522, 1.0944450358605187, 1.5407107331506706, 2.413755335607038, 3.6756779410780305, 4.54475140463939, 6.473492264279127, 7.943183622303819, 8.502518914606144, 8.938339869250628, 9.745206286229404, 10.029069800991795, 10.668972799228127, 11.076734804664552, 12.118100094467342, 13.08877028847087, 14.135560854226954, 15.151207971659787, 17.347453174646564, 18.34499012045937, 19.167936374984574, 21.286720302697073, 22.6855575119994, 23.02245760537008, 23.884345299515836, 24.432022184034825, 25.024968501138446, 26.400173157593102, 27.77273802510179, 29.63005270355049, 31.082278411675073, 32.19945517711809, 33.08035153566151, 34.53666154937893, 35.08294331784969, 35.797574503657344, 36.94519214782671, 37.79732343389629, 38.75441026863018, 39.85639726663794, 40.25885119840222, 41.20449447708121, 42.44079605495142, 42.97760668618066, 43.94628167132623, 44.528634812012704, 45.19094928325575, 45.58200930879853, 46.00869540907596, 46.24879178095805, 46.91053420520048, 47.13478564820192, 48.005614973255504, 49.526251901862075, 50.60360697432584, 51.85169415221694, 53.49936540279201, 54.63786202749553, 56.05718549472597, 57.60796024907216, 58.23842574317401, 59.12465409815237, 59.7932488693942, 61.0214825486588, 61.75030324169574, 62.847395973525316, 63.83108166767612, 64.8668170434115, 65.57148719210339, 66.8986356846365, 67.53960790685872, 68.31638693307595, 68.75832696834931, 68.97555693167303, 69.39503745115354, 69.66539361014607, 70.32811847787093, 71.31248340663814, 72.50967183224762, 73.87304530424178, 75.53882385317823, 76.34851428900502, 77.70778809648299, 78.84558465177955, 79.42086389928102, 80.50769098293206, 81.12089028363137, 82.44109865187895, 84.89236737038904, 87.1153463294145, 89.230273930549, 90.6244188075452, 92.06122289493068, 92.65550717274436, 93.5549400396191, 93.99902457265712, 94.33554915918171, 94.65585801699056, 95.31220807216415, 95.96143113587523, 97.57283223477633, 99.62693571791208, 100.55634393047247, 101.64572475167147, 102.97857860194105, 103.99892884348695, 104.37207243042364, 104.73143641383825, 105.57256195496379, 106.31139733930479, 107.1045281548494, 108.42307578162487, 109.73892011132463, 111.51121367294404, 112.46475594839643, 114.22744722537342, 115.44915029880063, 116.1383692171372, 116.64012360310211, 116.99618420916272, 117.56643510522007, 118.11947743326239, 119.33905415283911, 120.22956618398082, 122.06412201516586, 124.23330402789627, 125.58658133882064, 126.6220369401299, 127.19566608875905, 127.86650582250202, 128.75782881323678, 129.15024889315686, 129.510642345858, 130.04425247875076, 131.27771835744136, 132.00672934645235, 134.03956193209393, 135.41868673321872, 136.87450793079026, 137.94817414146058, 138.83673470370536, 139.3327812953549, 140.02084852224564, 140.38265260963112, 140.65983514931366, 141.41610755074737, 141.8621166856454, 143.36722120065343, 144.9988033262573, 146.68020387015784, 149.00169416032284, 149.69259280416267, 150.89651916454065, 151.60701105360397, 152.04937137527463, 152.34808469898795, 152.66859607426977, 153.62435232312947, 154.1519490853416, 155.3478068674063, 156.13973356815652, 157.71737633570123, 159.60160876993368, 161.12820637867415, 161.60250454238408, 162.00668754892004, 162.19881248937034, 162.39319157433766, 162.71759494874104, 163.28056392421, 163.73188667553276, 165.00634104061214, 166.40295235522345, 168.27064515624957, 169.76979193969868, 171.16500758547613, 172.46377647303814, 173.31082773095895, 174.1226494363853, 174.68384171632758, 175.6463056412915, 176.1088820860108, 176.93237005637377, 177.9304220044257, 179.69563211919723, 180.72396086116234, 182.40471786944744, 183.447190987727, 184.21898112940352, 185.42856807024046, 185.97704778201805, 186.38012927568778, 186.7549799327965, 187.0279690535384, 187.3902295899369, 188.93510652947674, 190.17810963110054, 191.56389384054773, 192.25870473141126, 193.32881352399195, 194.7608281760066, 195.44111830833847, 195.88421203631592, 196.5955421239065, 197.43904714496256, 198.4048323824087, 198.9296339697103, 200.4657095281388, 202.05646976205693, 203.2574299130171, 204.04059713339362, 204.6809989430708, 205.776026138098, 206.85315284736757, 207.2760730998059, 207.84849917309404, 208.48961780623395, 208.79180444073765, 209.19062278288933, 209.77843457427255, 210.33445429529226, 211.39586193527134, 212.68239036895886, 213.85195661189468, 215.71502145710238, 217.50346970295803, 218.47345357529485, 219.2418196898566, 219.85810382846162, 220.74303298199544, 221.71939237423717, 223.32547123989195, 224.47319675286136, 225.64436542005274, 226.33946964648226, 227.11714349379895, 228.03014509893538, 229.06956085114183, 229.9968004059676, 230.3462936169066, 230.87257756587096, 231.11301684235676, 231.35399512333504, 231.71143565954145, 232.19229319152257, 232.8344935199298, 233.91162908099793]}, {\"mode\": \"markers\", \"name\": \"mean predictions\", \"type\": \"scatter\", \"x\": [\"2015-10-01T12:00:00+00:00\", \"2015-10-01T13:00:00+00:00\", \"2015-10-01T14:00:00+00:00\", \"2015-10-01T15:00:00+00:00\", \"2015-10-01T16:00:00+00:00\", \"2015-10-01T17:00:00+00:00\", \"2015-10-01T18:00:00+00:00\", \"2015-10-01T19:00:00+00:00\", \"2015-10-01T20:00:00+00:00\", \"2015-10-01T21:00:00+00:00\", \"2015-10-01T22:00:00+00:00\", \"2015-10-01T23:00:00+00:00\", \"2015-10-02T00:00:00+00:00\", \"2015-10-02T01:00:00+00:00\", \"2015-10-02T02:00:00+00:00\", \"2015-10-02T03:00:00+00:00\", \"2015-10-02T04:00:00+00:00\", \"2015-10-02T05:00:00+00:00\", \"2015-10-02T06:00:00+00:00\", \"2015-10-02T07:00:00+00:00\", \"2015-10-02T08:00:00+00:00\", \"2015-10-02T09:00:00+00:00\", \"2015-10-02T10:00:00+00:00\", \"2015-10-02T11:00:00+00:00\", \"2015-10-02T12:00:00+00:00\", \"2015-10-02T13:00:00+00:00\", \"2015-10-02T14:00:00+00:00\", \"2015-10-02T15:00:00+00:00\", \"2015-10-02T16:00:00+00:00\", \"2015-10-02T17:00:00+00:00\", \"2015-10-02T18:00:00+00:00\", \"2015-10-02T19:00:00+00:00\", \"2015-10-02T20:00:00+00:00\", \"2015-10-02T21:00:00+00:00\", \"2015-10-02T22:00:00+00:00\", \"2015-10-02T23:00:00+00:00\", \"2015-10-03T00:00:00+00:00\", \"2015-10-03T01:00:00+00:00\", \"2015-10-03T02:00:00+00:00\", \"2015-10-03T03:00:00+00:00\", \"2015-10-03T04:00:00+00:00\", \"2015-10-03T05:00:00+00:00\", \"2015-10-03T06:00:00+00:00\", \"2015-10-03T07:00:00+00:00\", \"2015-10-03T08:00:00+00:00\", \"2015-10-03T09:00:00+00:00\", \"2015-10-03T10:00:00+00:00\", \"2015-10-03T11:00:00+00:00\", \"2015-10-03T12:00:00+00:00\", \"2015-10-03T13:00:00+00:00\", \"2015-10-03T14:00:00+00:00\", \"2015-10-03T15:00:00+00:00\", \"2015-10-03T16:00:00+00:00\", \"2015-10-03T17:00:00+00:00\", \"2015-10-03T18:00:00+00:00\", \"2015-10-03T19:00:00+00:00\", \"2015-10-03T20:00:00+00:00\", \"2015-10-03T21:00:00+00:00\", \"2015-10-03T22:00:00+00:00\", \"2015-10-03T23:00:00+00:00\", \"2015-10-04T00:00:00+00:00\", \"2015-10-04T01:00:00+00:00\", \"2015-10-04T02:00:00+00:00\", \"2015-10-04T03:00:00+00:00\", \"2015-10-04T04:00:00+00:00\", \"2015-10-04T05:00:00+00:00\", \"2015-10-04T06:00:00+00:00\", \"2015-10-04T07:00:00+00:00\", \"2015-10-04T08:00:00+00:00\", \"2015-10-04T09:00:00+00:00\", \"2015-10-04T10:00:00+00:00\", \"2015-10-04T11:00:00+00:00\", \"2015-10-04T12:00:00+00:00\", \"2015-10-04T13:00:00+00:00\", \"2015-10-04T14:00:00+00:00\", \"2015-10-04T15:00:00+00:00\", \"2015-10-04T16:00:00+00:00\", \"2015-10-04T17:00:00+00:00\", \"2015-10-04T18:00:00+00:00\", \"2015-10-04T19:00:00+00:00\", \"2015-10-04T20:00:00+00:00\", \"2015-10-04T21:00:00+00:00\", \"2015-10-04T22:00:00+00:00\", \"2015-10-04T23:00:00+00:00\", \"2015-10-05T00:00:00+00:00\", \"2015-10-05T01:00:00+00:00\", \"2015-10-05T02:00:00+00:00\", \"2015-10-05T03:00:00+00:00\", \"2015-10-05T04:00:00+00:00\", \"2015-10-05T05:00:00+00:00\", \"2015-10-05T06:00:00+00:00\", \"2015-10-05T07:00:00+00:00\", \"2015-10-05T08:00:00+00:00\", \"2015-10-05T09:00:00+00:00\", \"2015-10-05T10:00:00+00:00\", \"2015-10-05T11:00:00+00:00\", \"2015-10-05T12:00:00+00:00\", \"2015-10-05T13:00:00+00:00\", \"2015-10-05T14:00:00+00:00\", \"2015-10-05T15:00:00+00:00\", \"2015-10-05T16:00:00+00:00\", \"2015-10-05T17:00:00+00:00\", \"2015-10-05T18:00:00+00:00\", \"2015-10-05T19:00:00+00:00\", \"2015-10-05T20:00:00+00:00\", \"2015-10-05T21:00:00+00:00\", \"2015-10-05T22:00:00+00:00\", \"2015-10-05T23:00:00+00:00\", \"2015-10-06T00:00:00+00:00\", \"2015-10-06T01:00:00+00:00\", \"2015-10-06T02:00:00+00:00\", \"2015-10-06T03:00:00+00:00\", \"2015-10-06T04:00:00+00:00\", \"2015-10-06T05:00:00+00:00\", \"2015-10-06T06:00:00+00:00\", \"2015-10-06T07:00:00+00:00\", \"2015-10-06T08:00:00+00:00\", \"2015-10-06T09:00:00+00:00\", \"2015-10-06T10:00:00+00:00\", \"2015-10-06T11:00:00+00:00\", \"2015-10-06T12:00:00+00:00\", \"2015-10-06T13:00:00+00:00\", \"2015-10-06T14:00:00+00:00\", \"2015-10-06T15:00:00+00:00\", \"2015-10-06T16:00:00+00:00\", \"2015-10-06T17:00:00+00:00\", \"2015-10-06T18:00:00+00:00\", \"2015-10-06T19:00:00+00:00\", \"2015-10-06T20:00:00+00:00\", \"2015-10-06T21:00:00+00:00\", \"2015-10-06T22:00:00+00:00\", \"2015-10-06T23:00:00+00:00\", \"2015-10-07T00:00:00+00:00\", \"2015-10-07T01:00:00+00:00\", \"2015-10-07T02:00:00+00:00\", \"2015-10-07T03:00:00+00:00\", \"2015-10-07T04:00:00+00:00\", \"2015-10-07T05:00:00+00:00\", \"2015-10-07T06:00:00+00:00\", \"2015-10-07T07:00:00+00:00\", \"2015-10-07T08:00:00+00:00\", \"2015-10-07T09:00:00+00:00\", \"2015-10-07T10:00:00+00:00\", \"2015-10-07T11:00:00+00:00\", \"2015-10-07T12:00:00+00:00\", \"2015-10-07T13:00:00+00:00\", \"2015-10-07T14:00:00+00:00\", \"2015-10-07T15:00:00+00:00\", \"2015-10-07T16:00:00+00:00\", \"2015-10-07T17:00:00+00:00\", \"2015-10-07T18:00:00+00:00\", \"2015-10-07T19:00:00+00:00\", \"2015-10-07T20:00:00+00:00\", \"2015-10-07T21:00:00+00:00\", \"2015-10-07T22:00:00+00:00\", \"2015-10-07T23:00:00+00:00\", \"2015-10-08T00:00:00+00:00\", \"2015-10-08T01:00:00+00:00\", \"2015-10-08T02:00:00+00:00\", \"2015-10-08T03:00:00+00:00\", \"2015-10-08T04:00:00+00:00\", \"2015-10-08T05:00:00+00:00\", \"2015-10-08T06:00:00+00:00\", \"2015-10-08T07:00:00+00:00\", \"2015-10-08T08:00:00+00:00\", \"2015-10-08T09:00:00+00:00\", \"2015-10-08T10:00:00+00:00\", \"2015-10-08T11:00:00+00:00\", \"2015-10-08T12:00:00+00:00\", \"2015-10-08T13:00:00+00:00\", \"2015-10-08T14:00:00+00:00\", \"2015-10-08T15:00:00+00:00\", \"2015-10-08T16:00:00+00:00\", \"2015-10-08T17:00:00+00:00\", \"2015-10-08T18:00:00+00:00\", \"2015-10-08T19:00:00+00:00\", \"2015-10-08T20:00:00+00:00\", \"2015-10-08T21:00:00+00:00\", \"2015-10-08T22:00:00+00:00\", \"2015-10-08T23:00:00+00:00\", \"2015-10-09T00:00:00+00:00\", \"2015-10-09T01:00:00+00:00\", \"2015-10-09T02:00:00+00:00\", \"2015-10-09T03:00:00+00:00\", \"2015-10-09T04:00:00+00:00\", \"2015-10-09T05:00:00+00:00\", \"2015-10-09T06:00:00+00:00\", \"2015-10-09T07:00:00+00:00\", \"2015-10-09T08:00:00+00:00\", \"2015-10-09T09:00:00+00:00\", \"2015-10-09T10:00:00+00:00\", \"2015-10-09T11:00:00+00:00\", \"2015-10-09T12:00:00+00:00\", \"2015-10-09T13:00:00+00:00\", \"2015-10-09T14:00:00+00:00\", \"2015-10-09T15:00:00+00:00\", \"2015-10-09T16:00:00+00:00\", \"2015-10-09T17:00:00+00:00\", \"2015-10-09T18:00:00+00:00\", \"2015-10-09T19:00:00+00:00\", \"2015-10-09T20:00:00+00:00\", \"2015-10-09T21:00:00+00:00\", \"2015-10-09T22:00:00+00:00\", \"2015-10-09T23:00:00+00:00\", \"2015-10-10T00:00:00+00:00\", \"2015-10-10T01:00:00+00:00\", \"2015-10-10T02:00:00+00:00\", \"2015-10-10T03:00:00+00:00\", \"2015-10-10T04:00:00+00:00\", \"2015-10-10T05:00:00+00:00\", \"2015-10-10T06:00:00+00:00\", \"2015-10-10T07:00:00+00:00\", \"2015-10-10T08:00:00+00:00\", \"2015-10-10T09:00:00+00:00\", \"2015-10-10T10:00:00+00:00\", \"2015-10-10T11:00:00+00:00\", \"2015-10-10T12:00:00+00:00\", \"2015-10-10T13:00:00+00:00\", \"2015-10-10T14:00:00+00:00\", \"2015-10-10T15:00:00+00:00\", \"2015-10-10T16:00:00+00:00\", \"2015-10-10T17:00:00+00:00\", \"2015-10-10T18:00:00+00:00\", \"2015-10-10T19:00:00+00:00\", \"2015-10-10T20:00:00+00:00\", \"2015-10-10T21:00:00+00:00\", \"2015-10-10T22:00:00+00:00\", \"2015-10-10T23:00:00+00:00\", \"2015-10-11T00:00:00+00:00\", \"2015-10-11T01:00:00+00:00\", \"2015-10-11T02:00:00+00:00\", \"2015-10-11T03:00:00+00:00\", \"2015-10-11T04:00:00+00:00\", \"2015-10-11T05:00:00+00:00\", \"2015-10-11T06:00:00+00:00\", \"2015-10-11T07:00:00+00:00\", \"2015-10-11T08:00:00+00:00\", \"2015-10-11T09:00:00+00:00\", \"2015-10-11T10:00:00+00:00\", \"2015-10-11T11:00:00+00:00\", \"2015-10-11T12:00:00+00:00\", \"2015-10-11T13:00:00+00:00\", \"2015-10-11T14:00:00+00:00\", \"2015-10-11T15:00:00+00:00\", \"2015-10-11T16:00:00+00:00\", \"2015-10-11T17:00:00+00:00\", \"2015-10-11T18:00:00+00:00\", \"2015-10-11T19:00:00+00:00\", \"2015-10-11T20:00:00+00:00\", \"2015-10-11T21:00:00+00:00\", \"2015-10-11T22:00:00+00:00\", \"2015-10-11T23:00:00+00:00\"], \"y\": [3.3243785702163406, 4.950677563654937, 5.491844505860401, 8.354726109034345, 9.468516363643, 9.199799848718664, 9.511652788728743, 10.654743696560535, 10.4898091784333, 11.430754877942926, 11.659497572744192, 13.25611308920841, 14.01692687210452, 15.129831493065454, 16.13317707536018, 19.382863918717685, 19.367264907755413, 19.990237280875792, 23.278172017370107, 24.08514363197756, 23.449736215538657, 24.761547242876468, 25.059862864290853, 25.677702900086217, 27.762679494425676, 29.166177341084666, 31.4556480837878, 32.57889897596181, 33.38785307879368, 34.06098617998051, 36.02685605471753, 35.79307179496225, 36.62578081637442, 38.18246453686589, 38.78778372379219, 39.83282441217679, 40.898275108823135, 40.68964414334, 42.09943650116356, 43.627345487632134, 43.552169631574586, 44.88814943940471, 45.158130878955674, 45.87680430921966, 46.043531463209575, 46.49627930041852, 46.582235056654326, 47.61693814856456, 47.477299987006774, 48.909353490916914, 51.04411918928226, 51.75097488330953, 53.14179030965164, 55.16591823338782, 55.86997510725888, 57.52593240047405, 59.217843650732306, 59.03789049968619, 60.126474575831125, 60.626649972565524, 62.16109596384022, 62.47783515725012, 63.885575412013004, 64.797241755256, 65.87631899870676, 66.30001507823702, 68.1741818043535, 68.23897242110891, 69.1119985630301, 69.27881616409633, 69.28615208651887, 69.88815731299896, 70.04036613492184, 71.05046960563072, 72.34469351053309, 73.7459608954664, 75.27244566422009, 77.22091118576411, 77.28935076096221, 79.11202160987693, 80.08932036087081, 80.15455058638018, 81.68833105273907, 81.90986607447044, 83.65843698504256, 87.15415974402747, 89.21416948039925, 91.22885258360283, 91.99653706784144, 93.45195780590312, 93.31216453188378, 94.45420661880921, 94.51940377828402, 94.74327997466276, 95.05852203158913, 96.01778731220284, 96.6797670201007, 99.14997389659142, 101.64185781660325, 101.58898978884586, 102.7907391419886, 104.36481998195099, 105.11495045614569, 104.90909383844551, 105.24452659279538, 106.52315319943837, 107.1916977120357, 108.03312991822308, 109.64998044228574, 110.98884944401352, 113.17020045492487, 113.42470379155226, 115.88019831967064, 116.66794115181254, 116.86050730754256, 117.19403197982116, 117.42180528937111, 118.18218611423748, 118.735057574144, 120.55063597832819, 121.18232889460108, 123.84542555598877, 126.36058535569605, 126.99967242092714, 127.73519235645355, 127.90353306896523, 128.64822536226075, 129.74765627166312, 129.70871482811654, 130.02922861083104, 130.72840371132656, 132.59371919952594, 132.7243578349031, 135.899876008102, 136.76216554690836, 138.2564977015202, 139.01546768430694, 139.7282645479453, 139.88021118536304, 140.73085321968307, 140.8192271452439, 141.01283397906755, 142.20278755262976, 142.3965916420732, 144.83400957251826, 146.62947528389617, 148.35695985502215, 151.26258209748488, 150.53714870418045, 152.14063067428236, 152.4561825938867, 152.63481319738193, 152.81129137889982, 153.15210390700835, 154.67936465574914, 154.85621376925008, 156.45086208977392, 156.92368703180028, 159.18369340900603, 161.38387801751054, 162.60278089234913, 162.1407680967448, 162.4571619907259, 162.47159504715793, 162.66099012681482, 163.10960670211733, 163.89512117802616, 164.26254994142562, 166.27037425269836, 167.8152891855162, 170.10609199307814, 171.30754567216323, 172.6020193351731, 173.82513675766057, 174.27346029740207, 175.04526549980343, 175.39303900912273, 176.70732877372257, 176.74987607264435, 177.87843774027763, 178.87687439906244, 181.330719182326, 181.74139780188096, 183.97766535810405, 184.49571135223783, 185.00152274840462, 186.60704916961802, 186.58958904704878, 186.84202353860195, 187.20228428002474, 187.3878434038015, 187.83243950693705, 190.43856161217687, 191.46248434133994, 192.96328116011617, 193.06808511294503, 194.45074859900836, 196.231473512293, 196.25732548398705, 196.47014963163693, 197.4269168464939, 198.40153052854475, 199.4844959674854, 199.6306970607498, 201.87430983529876, 203.56196975234684, 204.41559217822328, 204.82808654007383, 205.3375967974661, 206.83907420826844, 207.92245343704752, 207.76705071675838, 208.45948842991274, 209.17944327044324, 209.18503790112948, 209.6655027654431, 210.43523844331142, 210.97430739488948, 212.49003774593803, 214.00383360703685, 215.0811904892902, 217.56510741218125, 219.32243595699254, 219.56458434336443, 220.13744010386029, 220.6247365561743, 221.745994029869, 222.82054264615007, 224.81154537629178, 225.5839003086524, 226.76272799858504, 227.05158683942372, 227.88951898915823, 228.93702352568198, 230.09713473494932, 230.93648445022697, 230.7765998124763, 231.44828160504167, 231.45255325861535, 231.68582465741503, 232.15768571314578, 232.7578676965196, 233.55444977570525, 235.03098403554065, 238.6757990159729, 239.01632454755494, 240.76524060893652, 241.70055253746875, 243.66882792996566, 245.64699870453052, 248.91990267188015, 248.05226788490998]}, {\"mode\": \"markers\", \"name\": \"mean ltp predictions\", \"type\": \"scatter\", \"x\": [\"2015-10-02T01:00:00+00:00\", \"2015-10-02T02:00:00+00:00\", \"2015-10-02T03:00:00+00:00\", \"2015-10-02T04:00:00+00:00\", \"2015-10-02T05:00:00+00:00\", \"2015-10-02T06:00:00+00:00\", \"2015-10-02T07:00:00+00:00\", \"2015-10-02T08:00:00+00:00\", \"2015-10-02T09:00:00+00:00\", \"2015-10-02T10:00:00+00:00\", \"2015-10-02T11:00:00+00:00\", \"2015-10-02T12:00:00+00:00\", \"2015-10-02T13:00:00+00:00\", \"2015-10-02T14:00:00+00:00\", \"2015-10-02T15:00:00+00:00\", \"2015-10-02T16:00:00+00:00\", \"2015-10-02T17:00:00+00:00\", \"2015-10-02T18:00:00+00:00\", \"2015-10-02T19:00:00+00:00\", \"2015-10-02T20:00:00+00:00\", \"2015-10-02T21:00:00+00:00\", \"2015-10-02T22:00:00+00:00\", \"2015-10-02T23:00:00+00:00\", \"2015-10-03T00:00:00+00:00\", \"2015-10-03T01:00:00+00:00\", \"2015-10-03T02:00:00+00:00\", \"2015-10-03T03:00:00+00:00\", \"2015-10-03T04:00:00+00:00\", \"2015-10-03T05:00:00+00:00\", \"2015-10-03T06:00:00+00:00\", \"2015-10-03T07:00:00+00:00\", \"2015-10-03T08:00:00+00:00\", \"2015-10-03T09:00:00+00:00\", \"2015-10-03T10:00:00+00:00\", \"2015-10-03T11:00:00+00:00\", \"2015-10-03T12:00:00+00:00\", \"2015-10-03T13:00:00+00:00\", \"2015-10-03T14:00:00+00:00\", \"2015-10-03T15:00:00+00:00\", \"2015-10-03T16:00:00+00:00\", \"2015-10-03T17:00:00+00:00\", \"2015-10-03T18:00:00+00:00\", \"2015-10-03T19:00:00+00:00\", \"2015-10-03T20:00:00+00:00\", \"2015-10-03T21:00:00+00:00\", \"2015-10-03T22:00:00+00:00\", \"2015-10-03T23:00:00+00:00\", \"2015-10-04T00:00:00+00:00\", \"2015-10-04T01:00:00+00:00\", \"2015-10-04T02:00:00+00:00\", \"2015-10-04T03:00:00+00:00\", \"2015-10-04T04:00:00+00:00\", \"2015-10-04T05:00:00+00:00\", \"2015-10-04T06:00:00+00:00\", \"2015-10-04T07:00:00+00:00\", \"2015-10-04T08:00:00+00:00\", \"2015-10-04T09:00:00+00:00\", \"2015-10-04T10:00:00+00:00\", \"2015-10-04T11:00:00+00:00\", \"2015-10-04T12:00:00+00:00\", \"2015-10-04T13:00:00+00:00\", \"2015-10-04T14:00:00+00:00\", \"2015-10-04T15:00:00+00:00\", \"2015-10-04T16:00:00+00:00\", \"2015-10-04T17:00:00+00:00\", \"2015-10-04T18:00:00+00:00\", \"2015-10-04T19:00:00+00:00\", \"2015-10-04T20:00:00+00:00\", \"2015-10-04T21:00:00+00:00\", \"2015-10-04T22:00:00+00:00\", \"2015-10-04T23:00:00+00:00\", \"2015-10-05T00:00:00+00:00\", \"2015-10-05T01:00:00+00:00\", \"2015-10-05T02:00:00+00:00\", \"2015-10-05T03:00:00+00:00\", \"2015-10-05T04:00:00+00:00\", \"2015-10-05T05:00:00+00:00\", \"2015-10-05T06:00:00+00:00\", \"2015-10-05T07:00:00+00:00\", \"2015-10-05T08:00:00+00:00\", \"2015-10-05T09:00:00+00:00\", \"2015-10-05T10:00:00+00:00\", \"2015-10-05T11:00:00+00:00\", \"2015-10-05T12:00:00+00:00\", \"2015-10-05T13:00:00+00:00\", \"2015-10-05T14:00:00+00:00\", \"2015-10-05T15:00:00+00:00\", \"2015-10-05T16:00:00+00:00\", \"2015-10-05T17:00:00+00:00\", \"2015-10-05T18:00:00+00:00\", \"2015-10-05T19:00:00+00:00\", \"2015-10-05T20:00:00+00:00\", \"2015-10-05T21:00:00+00:00\", \"2015-10-05T22:00:00+00:00\", \"2015-10-05T23:00:00+00:00\", \"2015-10-06T00:00:00+00:00\", \"2015-10-06T01:00:00+00:00\", \"2015-10-06T02:00:00+00:00\", \"2015-10-06T03:00:00+00:00\", \"2015-10-06T04:00:00+00:00\", \"2015-10-06T05:00:00+00:00\", \"2015-10-06T06:00:00+00:00\", \"2015-10-06T07:00:00+00:00\", \"2015-10-06T08:00:00+00:00\", \"2015-10-06T09:00:00+00:00\", \"2015-10-06T10:00:00+00:00\", \"2015-10-06T11:00:00+00:00\", \"2015-10-06T12:00:00+00:00\", \"2015-10-06T13:00:00+00:00\", \"2015-10-06T14:00:00+00:00\", \"2015-10-06T15:00:00+00:00\", \"2015-10-06T16:00:00+00:00\", \"2015-10-06T17:00:00+00:00\", \"2015-10-06T18:00:00+00:00\", \"2015-10-06T19:00:00+00:00\", \"2015-10-06T20:00:00+00:00\", \"2015-10-06T21:00:00+00:00\", \"2015-10-06T22:00:00+00:00\", \"2015-10-06T23:00:00+00:00\", \"2015-10-07T00:00:00+00:00\", \"2015-10-07T01:00:00+00:00\", \"2015-10-07T02:00:00+00:00\", \"2015-10-07T03:00:00+00:00\", \"2015-10-07T04:00:00+00:00\", \"2015-10-07T05:00:00+00:00\", \"2015-10-07T06:00:00+00:00\", \"2015-10-07T07:00:00+00:00\", \"2015-10-07T08:00:00+00:00\", \"2015-10-07T09:00:00+00:00\", \"2015-10-07T10:00:00+00:00\", \"2015-10-07T11:00:00+00:00\", \"2015-10-07T12:00:00+00:00\", \"2015-10-07T13:00:00+00:00\", \"2015-10-07T14:00:00+00:00\", \"2015-10-07T15:00:00+00:00\", \"2015-10-07T16:00:00+00:00\", \"2015-10-07T17:00:00+00:00\", \"2015-10-07T18:00:00+00:00\", \"2015-10-07T19:00:00+00:00\", \"2015-10-07T20:00:00+00:00\", \"2015-10-07T21:00:00+00:00\", \"2015-10-07T22:00:00+00:00\", \"2015-10-07T23:00:00+00:00\", \"2015-10-08T00:00:00+00:00\"], \"y\": [15.129831493065454, 16.092823717286617, 17.032646886181357, 17.959288563534333, 18.880836722992495, 19.804920421728177, 20.738585516895355, 21.688371345725376, 22.660336596283162, 23.660096175834266, 24.69285341086171, 25.76343030875674, 26.876295486951538, 28.035590074703045, 29.245151712652568, 30.508536794574585, 31.829041078918937, 33.209718789844864, 34.653400318399584, 36.1627086264429, 37.74007444838678, 39.38775037885416, 41.10782392790385, 42.72037008471526, 44.24759609221419, 45.70271503030373, 47.09964949666037, 48.44979539065429, 49.763828357400165, 51.05162435795745, 52.32234774330909, 53.584489891478434, 54.845920062755845, 56.11393070764085, 57.39527985334416, 58.69623025358547, 60.022585688211926, 61.37972459876333, 62.77263126014957, 64.20592466767859, 65.68388530709414, 67.21047996272365, 68.78938470752777, 70.42400620829162, 72.11750146943511, 73.8727961298705, 75.6926014189488, 77.39757033499637, 79.01044576987294, 80.54493719663027, 82.01542722722367, 83.43373806250894, 84.81094040698261, 86.15727632860374, 87.48224945459599, 88.79466557488708, 90.10268531955327, 91.41387115543557, 92.73523133755891, 94.07326050916005, 95.43397734525387, 96.82295943365341, 98.24537560082716, 99.7060158685212, 101.20931921500448, 102.759399301782, 104.36006831489155, 106.01485905895714, 107.72704543204874, 109.4996614000131, 111.33551858024408, 113.05536300203201, 114.68202377029554, 116.22929025290017, 117.71161910141117, 119.14090113019739, 120.52827062883063, 121.88402859042355, 123.21773324894072, 124.53824099911895, 125.85375936719906, 127.17189427933519, 128.4996942648886, 129.84369128987097, 131.2099386168201, 132.60404588627665, 134.03121162840756, 135.49625339178004, 137.0036356641424, 138.5574957469809, 140.16166773382537, 141.8197047312705, 143.53489945149843, 145.31030329564948, 147.148744038641, 148.87098268316004, 150.4998622101755, 152.04918484667732, 153.53341916095616, 154.9644670107723, 156.3534729197585, 157.71074736507086, 159.04585736966587, 160.3676674731587, 161.68439274975958, 163.0036461204286, 164.33248259670876, 165.6774401517376, 167.04457761493825, 168.43950978575958, 169.86743997519895, 171.33319016228407, 172.8412289405312, 174.39569741629768, 176.00043320913898, 177.65899269326573, 179.3746716090042, 181.15052416371697, 182.98938073288582, 184.7120047291761, 186.34124136691645, 187.89089494278156, 189.37543594306715, 190.80676800297482, 192.1960372933164, 193.5535558177112, 194.88889201370995, 196.21091173185147, 197.5278312611968, 198.8472646485248, 200.17626794868994, 201.52138010168085, 202.8886608329145, 204.28372577216962, 205.71177899992142, 207.17764320828326, 208.68578765159754, 210.24035404861812, 211.84518058641675, 213.50382416512903, 215.2195810124631, 216.99550578744493, 218.83442928411887, 220.55711530303793]}, {\"hovertemplate\": \"<b>OLS trendline</b><br>y = 0.000268289 * x + -387324<br>R<sup>2</sup>=0.999333<br><br>x=%{x}<br>y=%{y} <b>(trend)</b><extra></extra>\", \"legendgroup\": \"\", \"line\": {\"color\": \"Yellow\"}, \"marker\": {\"color\": \"#636efa\", \"symbol\": \"circle\"}, \"mode\": \"lines\", \"name\": \"predictions line\", \"showlegend\": false, \"type\": \"scatter\", \"x\": [\"2015-10-01T12:00:00+00:00\", \"2015-10-01T13:00:00+00:00\", \"2015-10-01T14:00:00+00:00\", \"2015-10-01T15:00:00+00:00\", \"2015-10-01T16:00:00+00:00\", \"2015-10-01T17:00:00+00:00\", \"2015-10-01T18:00:00+00:00\", \"2015-10-01T19:00:00+00:00\", \"2015-10-01T20:00:00+00:00\", \"2015-10-01T21:00:00+00:00\", \"2015-10-01T22:00:00+00:00\", \"2015-10-01T23:00:00+00:00\", \"2015-10-02T00:00:00+00:00\", \"2015-10-02T01:00:00+00:00\", \"2015-10-02T02:00:00+00:00\", \"2015-10-02T03:00:00+00:00\", \"2015-10-02T04:00:00+00:00\", \"2015-10-02T05:00:00+00:00\", \"2015-10-02T06:00:00+00:00\", \"2015-10-02T07:00:00+00:00\", \"2015-10-02T08:00:00+00:00\", \"2015-10-02T09:00:00+00:00\", \"2015-10-02T10:00:00+00:00\", \"2015-10-02T11:00:00+00:00\", \"2015-10-02T12:00:00+00:00\", \"2015-10-02T13:00:00+00:00\", \"2015-10-02T14:00:00+00:00\", \"2015-10-02T15:00:00+00:00\", \"2015-10-02T16:00:00+00:00\", \"2015-10-02T17:00:00+00:00\", \"2015-10-02T18:00:00+00:00\", \"2015-10-02T19:00:00+00:00\", \"2015-10-02T20:00:00+00:00\", \"2015-10-02T21:00:00+00:00\", \"2015-10-02T22:00:00+00:00\", \"2015-10-02T23:00:00+00:00\", \"2015-10-03T00:00:00+00:00\", \"2015-10-03T01:00:00+00:00\", \"2015-10-03T02:00:00+00:00\", \"2015-10-03T03:00:00+00:00\", \"2015-10-03T04:00:00+00:00\", \"2015-10-03T05:00:00+00:00\", \"2015-10-03T06:00:00+00:00\", \"2015-10-03T07:00:00+00:00\", \"2015-10-03T08:00:00+00:00\", \"2015-10-03T09:00:00+00:00\", \"2015-10-03T10:00:00+00:00\", \"2015-10-03T11:00:00+00:00\", \"2015-10-03T12:00:00+00:00\", \"2015-10-03T13:00:00+00:00\", \"2015-10-03T14:00:00+00:00\", \"2015-10-03T15:00:00+00:00\", \"2015-10-03T16:00:00+00:00\", \"2015-10-03T17:00:00+00:00\", \"2015-10-03T18:00:00+00:00\", \"2015-10-03T19:00:00+00:00\", \"2015-10-03T20:00:00+00:00\", \"2015-10-03T21:00:00+00:00\", \"2015-10-03T22:00:00+00:00\", \"2015-10-03T23:00:00+00:00\", \"2015-10-04T00:00:00+00:00\", \"2015-10-04T01:00:00+00:00\", \"2015-10-04T02:00:00+00:00\", \"2015-10-04T03:00:00+00:00\", \"2015-10-04T04:00:00+00:00\", \"2015-10-04T05:00:00+00:00\", \"2015-10-04T06:00:00+00:00\", \"2015-10-04T07:00:00+00:00\", \"2015-10-04T08:00:00+00:00\", \"2015-10-04T09:00:00+00:00\", \"2015-10-04T10:00:00+00:00\", \"2015-10-04T11:00:00+00:00\", \"2015-10-04T12:00:00+00:00\", \"2015-10-04T13:00:00+00:00\", \"2015-10-04T14:00:00+00:00\", \"2015-10-04T15:00:00+00:00\", \"2015-10-04T16:00:00+00:00\", \"2015-10-04T17:00:00+00:00\", \"2015-10-04T18:00:00+00:00\", \"2015-10-04T19:00:00+00:00\", \"2015-10-04T20:00:00+00:00\", \"2015-10-04T21:00:00+00:00\", \"2015-10-04T22:00:00+00:00\", \"2015-10-04T23:00:00+00:00\", \"2015-10-05T00:00:00+00:00\", \"2015-10-05T01:00:00+00:00\", \"2015-10-05T02:00:00+00:00\", \"2015-10-05T03:00:00+00:00\", \"2015-10-05T04:00:00+00:00\", \"2015-10-05T05:00:00+00:00\", \"2015-10-05T06:00:00+00:00\", \"2015-10-05T07:00:00+00:00\", \"2015-10-05T08:00:00+00:00\", \"2015-10-05T09:00:00+00:00\", \"2015-10-05T10:00:00+00:00\", \"2015-10-05T11:00:00+00:00\", \"2015-10-05T12:00:00+00:00\", \"2015-10-05T13:00:00+00:00\", \"2015-10-05T14:00:00+00:00\", \"2015-10-05T15:00:00+00:00\", \"2015-10-05T16:00:00+00:00\", \"2015-10-05T17:00:00+00:00\", \"2015-10-05T18:00:00+00:00\", \"2015-10-05T19:00:00+00:00\", \"2015-10-05T20:00:00+00:00\", \"2015-10-05T21:00:00+00:00\", \"2015-10-05T22:00:00+00:00\", \"2015-10-05T23:00:00+00:00\", \"2015-10-06T00:00:00+00:00\", \"2015-10-06T01:00:00+00:00\", \"2015-10-06T02:00:00+00:00\", \"2015-10-06T03:00:00+00:00\", \"2015-10-06T04:00:00+00:00\", \"2015-10-06T05:00:00+00:00\", \"2015-10-06T06:00:00+00:00\", \"2015-10-06T07:00:00+00:00\", \"2015-10-06T08:00:00+00:00\", \"2015-10-06T09:00:00+00:00\", \"2015-10-06T10:00:00+00:00\", \"2015-10-06T11:00:00+00:00\", \"2015-10-06T12:00:00+00:00\", \"2015-10-06T13:00:00+00:00\", \"2015-10-06T14:00:00+00:00\", \"2015-10-06T15:00:00+00:00\", \"2015-10-06T16:00:00+00:00\", \"2015-10-06T17:00:00+00:00\", \"2015-10-06T18:00:00+00:00\", \"2015-10-06T19:00:00+00:00\", \"2015-10-06T20:00:00+00:00\", \"2015-10-06T21:00:00+00:00\", \"2015-10-06T22:00:00+00:00\", \"2015-10-06T23:00:00+00:00\", \"2015-10-07T00:00:00+00:00\", \"2015-10-07T01:00:00+00:00\", \"2015-10-07T02:00:00+00:00\", \"2015-10-07T03:00:00+00:00\", \"2015-10-07T04:00:00+00:00\", \"2015-10-07T05:00:00+00:00\", \"2015-10-07T06:00:00+00:00\", \"2015-10-07T07:00:00+00:00\", \"2015-10-07T08:00:00+00:00\", \"2015-10-07T09:00:00+00:00\", \"2015-10-07T10:00:00+00:00\", \"2015-10-07T11:00:00+00:00\", \"2015-10-07T12:00:00+00:00\", \"2015-10-07T13:00:00+00:00\", \"2015-10-07T14:00:00+00:00\", \"2015-10-07T15:00:00+00:00\", \"2015-10-07T16:00:00+00:00\", \"2015-10-07T17:00:00+00:00\", \"2015-10-07T18:00:00+00:00\", \"2015-10-07T19:00:00+00:00\", \"2015-10-07T20:00:00+00:00\", \"2015-10-07T21:00:00+00:00\", \"2015-10-07T22:00:00+00:00\", \"2015-10-07T23:00:00+00:00\", \"2015-10-08T00:00:00+00:00\", \"2015-10-08T01:00:00+00:00\", \"2015-10-08T02:00:00+00:00\", \"2015-10-08T03:00:00+00:00\", \"2015-10-08T04:00:00+00:00\", \"2015-10-08T05:00:00+00:00\", \"2015-10-08T06:00:00+00:00\", \"2015-10-08T07:00:00+00:00\", \"2015-10-08T08:00:00+00:00\", \"2015-10-08T09:00:00+00:00\", \"2015-10-08T10:00:00+00:00\", \"2015-10-08T11:00:00+00:00\", \"2015-10-08T12:00:00+00:00\", \"2015-10-08T13:00:00+00:00\", \"2015-10-08T14:00:00+00:00\", \"2015-10-08T15:00:00+00:00\", \"2015-10-08T16:00:00+00:00\", \"2015-10-08T17:00:00+00:00\", \"2015-10-08T18:00:00+00:00\", \"2015-10-08T19:00:00+00:00\", \"2015-10-08T20:00:00+00:00\", \"2015-10-08T21:00:00+00:00\", \"2015-10-08T22:00:00+00:00\", \"2015-10-08T23:00:00+00:00\", \"2015-10-09T00:00:00+00:00\", \"2015-10-09T01:00:00+00:00\", \"2015-10-09T02:00:00+00:00\", \"2015-10-09T03:00:00+00:00\", \"2015-10-09T04:00:00+00:00\", \"2015-10-09T05:00:00+00:00\", \"2015-10-09T06:00:00+00:00\", \"2015-10-09T07:00:00+00:00\", \"2015-10-09T08:00:00+00:00\", \"2015-10-09T09:00:00+00:00\", \"2015-10-09T10:00:00+00:00\", \"2015-10-09T11:00:00+00:00\", \"2015-10-09T12:00:00+00:00\", \"2015-10-09T13:00:00+00:00\", \"2015-10-09T14:00:00+00:00\", \"2015-10-09T15:00:00+00:00\", \"2015-10-09T16:00:00+00:00\", \"2015-10-09T17:00:00+00:00\", \"2015-10-09T18:00:00+00:00\", \"2015-10-09T19:00:00+00:00\", \"2015-10-09T20:00:00+00:00\", \"2015-10-09T21:00:00+00:00\", \"2015-10-09T22:00:00+00:00\", \"2015-10-09T23:00:00+00:00\", \"2015-10-10T00:00:00+00:00\", \"2015-10-10T01:00:00+00:00\", \"2015-10-10T02:00:00+00:00\", \"2015-10-10T03:00:00+00:00\", \"2015-10-10T04:00:00+00:00\", \"2015-10-10T05:00:00+00:00\", \"2015-10-10T06:00:00+00:00\", \"2015-10-10T07:00:00+00:00\", \"2015-10-10T08:00:00+00:00\", \"2015-10-10T09:00:00+00:00\", \"2015-10-10T10:00:00+00:00\", \"2015-10-10T11:00:00+00:00\", \"2015-10-10T12:00:00+00:00\", \"2015-10-10T13:00:00+00:00\", \"2015-10-10T14:00:00+00:00\", \"2015-10-10T15:00:00+00:00\", \"2015-10-10T16:00:00+00:00\", \"2015-10-10T17:00:00+00:00\", \"2015-10-10T18:00:00+00:00\", \"2015-10-10T19:00:00+00:00\", \"2015-10-10T20:00:00+00:00\", \"2015-10-10T21:00:00+00:00\", \"2015-10-10T22:00:00+00:00\", \"2015-10-10T23:00:00+00:00\", \"2015-10-11T00:00:00+00:00\", \"2015-10-11T01:00:00+00:00\", \"2015-10-11T02:00:00+00:00\", \"2015-10-11T03:00:00+00:00\", \"2015-10-11T04:00:00+00:00\", \"2015-10-11T05:00:00+00:00\", \"2015-10-11T06:00:00+00:00\", \"2015-10-11T07:00:00+00:00\", \"2015-10-11T08:00:00+00:00\", \"2015-10-11T09:00:00+00:00\", \"2015-10-11T10:00:00+00:00\", \"2015-10-11T11:00:00+00:00\", \"2015-10-11T12:00:00+00:00\", \"2015-10-11T13:00:00+00:00\", \"2015-10-11T14:00:00+00:00\", \"2015-10-11T15:00:00+00:00\", \"2015-10-11T16:00:00+00:00\", \"2015-10-11T17:00:00+00:00\", \"2015-10-11T18:00:00+00:00\", \"2015-10-11T19:00:00+00:00\", \"2015-10-11T20:00:00+00:00\", \"2015-10-11T21:00:00+00:00\", \"2015-10-11T22:00:00+00:00\", \"2015-10-11T23:00:00+00:00\"], \"xaxis\": \"x\", \"y\": [4.7059151530847885, 5.671753786911722, 6.637592420680448, 7.603431054507382, 8.569269688334316, 9.535108322103042, 10.500946955929976, 11.46678558975691, 12.432624223583844, 13.39846285735257, 14.364301491179504, 15.330140125006437, 16.29597875883337, 17.261817392602097, 18.22765602642903, 19.193494660255965, 20.1593332940829, 21.125171927851625, 22.09101056167856, 23.056849195505492, 24.022687829332426, 24.988526463101152, 25.954365096928086, 26.92020373075502, 27.886042364581954, 28.85188099835068, 29.817719632177614, 30.783558266004547, 31.74939689983148, 32.71523553360021, 33.68107416742714, 34.646912801254075, 35.61275143508101, 36.578590068849735, 37.54442870267667, 38.5102673365036, 39.476105970330536, 40.44194460409926, 41.407783237926196, 42.37362187175313, 43.339460505580064, 44.30529913934879, 45.271137773175724, 46.23697640700266, 47.20281504082959, 48.16865367459832, 49.13449230842525, 50.100330942252185, 51.06616957607912, 52.032008209847845, 52.99784684367478, 53.96368547750171, 54.92952411132865, 55.89536274509737, 56.86120137892431, 57.82704001275124, 58.792878646578174, 59.7587172803469, 60.724555914173834, 61.69039454800077, 62.6562331818277, 63.62207181559643, 64.58791044942336, 65.5537490832503, 66.51958771707723, 67.48542635084596, 68.45126498467289, 69.41710361849982, 70.38294225226855, 71.34878088609548, 72.31461951992242, 73.28045815374935, 74.24629678751808, 75.21213542134501, 76.17797405517194, 77.14381268899888, 78.1096513227676, 79.07548995659454, 80.04132859042147, 81.0071672242484, 81.97300585801713, 82.93884449184407, 83.904683125671, 84.87052175949793, 85.83636039326666, 86.8021990270936, 87.76803766092053, 88.73387629474746, 89.69971492851619, 90.66555356234312, 91.63139219617005, 92.59723082999699, 93.56306946376571, 94.52890809759265, 95.49474673141958, 96.46058536524652, 97.42642399901524, 98.39226263284218, 99.35810126666911, 100.32393990049604, 101.28977853426477, 102.2556171680917, 103.22145580191864, 104.18729443574557, 105.1531330695143, 106.11897170334123, 107.08481033716816, 108.0506489709951, 109.01648760476382, 109.98232623859076, 110.94816487241769, 111.91400350624463, 112.87984214001335, 113.84568077384029, 114.81151940766722, 115.77735804149415, 116.74319667526288, 117.70903530908981, 118.67487394291675, 119.64071257674368, 120.60655121051241, 121.57238984433934, 122.53822847816627, 123.50406711199321, 124.46990574576193, 125.43574437958887, 126.4015830134158, 127.36742164718453, 128.33326028101146, 129.2990989148384, 130.26493754866533, 131.23077618243406, 132.196614816261, 133.16245345008792, 134.12829208391486, 135.09413071768358, 136.05996935151052, 137.02580798533745, 137.99164661916438, 138.9574852529331, 139.92332388676004, 140.88916252058698, 141.8550011544139, 142.82083978818264, 143.78667842200957, 144.7525170558365, 145.71835568966344, 146.68419432343217, 147.6500329572591, 148.61587159108603, 149.58171022491297, 150.5475488586817, 151.51338749250863, 152.47922612633556, 153.4450647601625, 154.41090339393122, 155.37674202775816, 156.3425806615851, 157.30841929541202, 158.27425792918075, 159.24009656300768, 160.20593519683462, 161.17177383066155, 162.13761246443028, 163.1034510982572, 164.06928973208414, 165.03512836591108, 166.0009669996798, 166.96680563350674, 167.93264426733367, 168.8984829011606, 169.86432153492933, 170.83016016875627, 171.7959988025832, 172.76183743641013, 173.72767607017886, 174.6935147040058, 175.65935333783273, 176.62519197165966, 177.5910306054284, 178.55686923925532, 179.52270787308225, 180.4885465069092, 181.4543851406779, 182.42022377450485, 183.38606240833178, 184.35190104215872, 185.31773967592744, 186.28357830975438, 187.2494169435813, 188.21525557735004, 189.18109421117697, 190.1469328450039, 191.11277147883084, 192.07861011259956, 193.0444487464265, 194.01028738025343, 194.97612601408036, 195.9419646478491, 196.90780328167602, 197.87364191550296, 198.8394805493299, 199.80531918309862, 200.77115781692555, 201.73699645075249, 202.70283508457942, 203.66867371834815, 204.63451235217508, 205.600350986002, 206.56618961982895, 207.53202825359767, 208.4978668874246, 209.46370552125154, 210.42954415507847, 211.3953827888472, 212.36122142267413, 213.32706005650107, 214.292898690328, 215.25873732409673, 216.22457595792366, 217.1904145917506, 218.15625322557753, 219.12209185934626, 220.0879304931732, 221.05376912700012, 222.01960776082706, 222.98544639459578, 223.95128502842272, 224.91712366224965, 225.88296229607658, 226.8488009298453, 227.81463956367224, 228.78047819749918, 229.7463168313261, 230.71215546509484, 231.67799409892177, 232.6438327327487, 233.60967136657564, 234.57551000034437, 235.5413486341713, 236.50718726799823, 237.47302590182517, 238.4388645355939, 239.40470316942083, 240.37054180324776, 241.3363804370747, 242.30221907084342, 243.26805770467035, 244.2338963384973, 245.19973497232422, 246.16557360609295, 247.13141223991988], \"yaxis\": \"y\"}, {\"hovertemplate\": \"<b>OLS trendline</b><br>y = 0.000407343 * x + -588091<br>R<sup>2</sup>=0.999474<br><br>x=%{x}<br>y=%{y} <b>(trend)</b><extra></extra>\", \"legendgroup\": \"\", \"line\": {\"color\": \"Cyan\"}, \"marker\": {\"color\": \"#636efa\", \"symbol\": \"circle\"}, \"mode\": \"lines\", \"name\": \"ltp predictions line\", \"showlegend\": false, \"type\": \"scatter\", \"x\": [\"2015-10-02T01:00:00+00:00\", \"2015-10-02T02:00:00+00:00\", \"2015-10-02T03:00:00+00:00\", \"2015-10-02T04:00:00+00:00\", \"2015-10-02T05:00:00+00:00\", \"2015-10-02T06:00:00+00:00\", \"2015-10-02T07:00:00+00:00\", \"2015-10-02T08:00:00+00:00\", \"2015-10-02T09:00:00+00:00\", \"2015-10-02T10:00:00+00:00\", \"2015-10-02T11:00:00+00:00\", \"2015-10-02T12:00:00+00:00\", \"2015-10-02T13:00:00+00:00\", \"2015-10-02T14:00:00+00:00\", \"2015-10-02T15:00:00+00:00\", \"2015-10-02T16:00:00+00:00\", \"2015-10-02T17:00:00+00:00\", \"2015-10-02T18:00:00+00:00\", \"2015-10-02T19:00:00+00:00\", \"2015-10-02T20:00:00+00:00\", \"2015-10-02T21:00:00+00:00\", \"2015-10-02T22:00:00+00:00\", \"2015-10-02T23:00:00+00:00\", \"2015-10-03T00:00:00+00:00\", \"2015-10-03T01:00:00+00:00\", \"2015-10-03T02:00:00+00:00\", \"2015-10-03T03:00:00+00:00\", \"2015-10-03T04:00:00+00:00\", \"2015-10-03T05:00:00+00:00\", \"2015-10-03T06:00:00+00:00\", \"2015-10-03T07:00:00+00:00\", \"2015-10-03T08:00:00+00:00\", \"2015-10-03T09:00:00+00:00\", \"2015-10-03T10:00:00+00:00\", \"2015-10-03T11:00:00+00:00\", \"2015-10-03T12:00:00+00:00\", \"2015-10-03T13:00:00+00:00\", \"2015-10-03T14:00:00+00:00\", \"2015-10-03T15:00:00+00:00\", \"2015-10-03T16:00:00+00:00\", \"2015-10-03T17:00:00+00:00\", \"2015-10-03T18:00:00+00:00\", \"2015-10-03T19:00:00+00:00\", \"2015-10-03T20:00:00+00:00\", \"2015-10-03T21:00:00+00:00\", \"2015-10-03T22:00:00+00:00\", \"2015-10-03T23:00:00+00:00\", \"2015-10-04T00:00:00+00:00\", \"2015-10-04T01:00:00+00:00\", \"2015-10-04T02:00:00+00:00\", \"2015-10-04T03:00:00+00:00\", \"2015-10-04T04:00:00+00:00\", \"2015-10-04T05:00:00+00:00\", \"2015-10-04T06:00:00+00:00\", \"2015-10-04T07:00:00+00:00\", \"2015-10-04T08:00:00+00:00\", \"2015-10-04T09:00:00+00:00\", \"2015-10-04T10:00:00+00:00\", \"2015-10-04T11:00:00+00:00\", \"2015-10-04T12:00:00+00:00\", \"2015-10-04T13:00:00+00:00\", \"2015-10-04T14:00:00+00:00\", \"2015-10-04T15:00:00+00:00\", \"2015-10-04T16:00:00+00:00\", \"2015-10-04T17:00:00+00:00\", \"2015-10-04T18:00:00+00:00\", \"2015-10-04T19:00:00+00:00\", \"2015-10-04T20:00:00+00:00\", \"2015-10-04T21:00:00+00:00\", \"2015-10-04T22:00:00+00:00\", \"2015-10-04T23:00:00+00:00\", \"2015-10-05T00:00:00+00:00\", \"2015-10-05T01:00:00+00:00\", \"2015-10-05T02:00:00+00:00\", \"2015-10-05T03:00:00+00:00\", \"2015-10-05T04:00:00+00:00\", \"2015-10-05T05:00:00+00:00\", \"2015-10-05T06:00:00+00:00\", \"2015-10-05T07:00:00+00:00\", \"2015-10-05T08:00:00+00:00\", \"2015-10-05T09:00:00+00:00\", \"2015-10-05T10:00:00+00:00\", \"2015-10-05T11:00:00+00:00\", \"2015-10-05T12:00:00+00:00\", \"2015-10-05T13:00:00+00:00\", \"2015-10-05T14:00:00+00:00\", \"2015-10-05T15:00:00+00:00\", \"2015-10-05T16:00:00+00:00\", \"2015-10-05T17:00:00+00:00\", \"2015-10-05T18:00:00+00:00\", \"2015-10-05T19:00:00+00:00\", \"2015-10-05T20:00:00+00:00\", \"2015-10-05T21:00:00+00:00\", \"2015-10-05T22:00:00+00:00\", \"2015-10-05T23:00:00+00:00\", \"2015-10-06T00:00:00+00:00\", \"2015-10-06T01:00:00+00:00\", \"2015-10-06T02:00:00+00:00\", \"2015-10-06T03:00:00+00:00\", \"2015-10-06T04:00:00+00:00\", \"2015-10-06T05:00:00+00:00\", \"2015-10-06T06:00:00+00:00\", \"2015-10-06T07:00:00+00:00\", \"2015-10-06T08:00:00+00:00\", \"2015-10-06T09:00:00+00:00\", \"2015-10-06T10:00:00+00:00\", \"2015-10-06T11:00:00+00:00\", \"2015-10-06T12:00:00+00:00\", \"2015-10-06T13:00:00+00:00\", \"2015-10-06T14:00:00+00:00\", \"2015-10-06T15:00:00+00:00\", \"2015-10-06T16:00:00+00:00\", \"2015-10-06T17:00:00+00:00\", \"2015-10-06T18:00:00+00:00\", \"2015-10-06T19:00:00+00:00\", \"2015-10-06T20:00:00+00:00\", \"2015-10-06T21:00:00+00:00\", \"2015-10-06T22:00:00+00:00\", \"2015-10-06T23:00:00+00:00\", \"2015-10-07T00:00:00+00:00\", \"2015-10-07T01:00:00+00:00\", \"2015-10-07T02:00:00+00:00\", \"2015-10-07T03:00:00+00:00\", \"2015-10-07T04:00:00+00:00\", \"2015-10-07T05:00:00+00:00\", \"2015-10-07T06:00:00+00:00\", \"2015-10-07T07:00:00+00:00\", \"2015-10-07T08:00:00+00:00\", \"2015-10-07T09:00:00+00:00\", \"2015-10-07T10:00:00+00:00\", \"2015-10-07T11:00:00+00:00\", \"2015-10-07T12:00:00+00:00\", \"2015-10-07T13:00:00+00:00\", \"2015-10-07T14:00:00+00:00\", \"2015-10-07T15:00:00+00:00\", \"2015-10-07T16:00:00+00:00\", \"2015-10-07T17:00:00+00:00\", \"2015-10-07T18:00:00+00:00\", \"2015-10-07T19:00:00+00:00\", \"2015-10-07T20:00:00+00:00\", \"2015-10-07T21:00:00+00:00\", \"2015-10-07T22:00:00+00:00\", \"2015-10-07T23:00:00+00:00\", \"2015-10-08T00:00:00+00:00\"], \"xaxis\": \"x\", \"y\": [9.014719000319019, 10.481153355911374, 11.94758771150373, 13.414022067096084, 14.88045642268844, 16.346890778280795, 17.81332513387315, 19.279759489465505, 20.74619384505786, 22.21262820076663, 23.679062556358986, 25.14549691195134, 26.611931267543696, 28.07836562313605, 29.544799978728406, 31.01123433432076, 32.477668689913116, 33.94410304550547, 35.41053740109783, 36.87697175669018, 38.34340611239895, 39.80984046799131, 41.27627482358366, 42.74270917917602, 44.20914353476837, 45.67557789036073, 47.14201224595308, 48.60844660154544, 50.07488095713779, 51.54131531273015, 53.007749668322504, 54.474184024031274, 55.94061837962363, 57.407052735215984, 58.87348709080834, 60.339921446400695, 61.80635580199305, 63.272790157585405, 64.73922451317776, 66.20565886877012, 67.67209322436247, 69.13852757995483, 70.6049619356636, 72.07139629125595, 73.5378306468483, 75.00426500244066, 76.47069935803302, 77.93713371362537, 79.40356806921773, 80.87000242481008, 82.33643678040244, 83.80287113599479, 85.26930549158715, 86.73573984729592, 88.20217420288827, 89.66860855848063, 91.13504291407298, 92.60147726966534, 94.0679116252577, 95.53434598085005, 97.0007803364424, 98.46721469203476, 99.93364904762711, 101.40008340333588, 102.86651775892824, 104.3329521145206, 105.79938647011295, 107.2658208257053, 108.73225518129766, 110.19868953689002, 111.66512389248237, 113.13155824807473, 114.59799260366708, 116.06442695925944, 117.5308613149682, 118.99729567056056, 120.46373002615292, 121.93016438174527, 123.39659873733763, 124.86303309292998, 126.32946744852234, 127.79590180411469, 129.26233615970705, 130.7287705152994, 132.19520487089176, 133.66163922660053, 135.12807358219288, 136.59450793778524, 138.0609422933776, 139.52737664896995, 140.9938110045623, 142.46024536015466, 143.926679715747, 145.39311407133937, 146.85954842693172, 148.32598278252408, 149.79241713823285, 151.2588514938252, 152.72528584941756, 154.19172020500991, 155.65815456060227, 157.12458891619463, 158.59102327178698, 160.05745762737934, 161.5238919829717, 162.99032633856405, 164.45676069427282, 165.92319504986517, 167.38962940545753, 168.85606376104988, 170.32249811664224, 171.7889324722346, 173.25536682782695, 174.7218011834193, 176.18823553901166, 177.654669894604, 179.12110425019637, 180.58753860590514, 182.0539729614975, 183.52040731708985, 184.9868416726822, 186.45327602827456, 187.9197103838669, 189.38614473945927, 190.85257909505162, 192.31901345064398, 193.78544780623633, 195.2518821618287, 196.71831651753746, 198.18475087312981, 199.65118522872217, 201.11761958431453, 202.58405393990688, 204.05048829549924, 205.5169226510916, 206.98335700668395, 208.4497913622763, 209.91622571786866, 211.382660073461, 212.84909442916978, 214.31552878476214, 215.7819631403545, 217.24839749594685, 218.7148318515392], \"yaxis\": \"y\"}],                        {\"legend\": {\"title\": {\"text\": \"Data Category\"}, \"tracegroupgap\": 0}, \"margin\": {\"t\": 60}, \"showlegend\": true, \"template\": {\"data\": {\"bar\": [{\"error_x\": {\"color\": \"#2a3f5f\"}, \"error_y\": {\"color\": \"#2a3f5f\"}, \"marker\": {\"line\": {\"color\": \"#E5ECF6\", \"width\": 0.5}}, \"type\": \"bar\"}], \"barpolar\": [{\"marker\": {\"line\": {\"color\": \"#E5ECF6\", \"width\": 0.5}}, \"type\": \"barpolar\"}], \"carpet\": [{\"aaxis\": {\"endlinecolor\": \"#2a3f5f\", \"gridcolor\": \"white\", \"linecolor\": \"white\", \"minorgridcolor\": \"white\", \"startlinecolor\": \"#2a3f5f\"}, \"baxis\": {\"endlinecolor\": \"#2a3f5f\", \"gridcolor\": \"white\", \"linecolor\": \"white\", \"minorgridcolor\": \"white\", \"startlinecolor\": \"#2a3f5f\"}, \"type\": \"carpet\"}], \"choropleth\": [{\"colorbar\": {\"outlinewidth\": 0, \"ticks\": \"\"}, \"type\": \"choropleth\"}], \"contour\": [{\"colorbar\": {\"outlinewidth\": 0, \"ticks\": \"\"}, \"colorscale\": [[0.0, \"#0d0887\"], [0.1111111111111111, \"#46039f\"], [0.2222222222222222, \"#7201a8\"], [0.3333333333333333, \"#9c179e\"], [0.4444444444444444, \"#bd3786\"], [0.5555555555555556, \"#d8576b\"], [0.6666666666666666, \"#ed7953\"], [0.7777777777777778, \"#fb9f3a\"], [0.8888888888888888, \"#fdca26\"], [1.0, \"#f0f921\"]], \"type\": \"contour\"}], \"contourcarpet\": [{\"colorbar\": {\"outlinewidth\": 0, \"ticks\": \"\"}, \"type\": \"contourcarpet\"}], \"heatmap\": [{\"colorbar\": {\"outlinewidth\": 0, \"ticks\": \"\"}, \"colorscale\": [[0.0, \"#0d0887\"], [0.1111111111111111, \"#46039f\"], [0.2222222222222222, \"#7201a8\"], [0.3333333333333333, \"#9c179e\"], [0.4444444444444444, \"#bd3786\"], [0.5555555555555556, \"#d8576b\"], [0.6666666666666666, \"#ed7953\"], [0.7777777777777778, \"#fb9f3a\"], [0.8888888888888888, \"#fdca26\"], [1.0, \"#f0f921\"]], \"type\": \"heatmap\"}], \"heatmapgl\": [{\"colorbar\": {\"outlinewidth\": 0, \"ticks\": \"\"}, \"colorscale\": [[0.0, \"#0d0887\"], [0.1111111111111111, \"#46039f\"], [0.2222222222222222, \"#7201a8\"], [0.3333333333333333, \"#9c179e\"], [0.4444444444444444, \"#bd3786\"], [0.5555555555555556, \"#d8576b\"], [0.6666666666666666, \"#ed7953\"], [0.7777777777777778, \"#fb9f3a\"], [0.8888888888888888, \"#fdca26\"], [1.0, \"#f0f921\"]], \"type\": \"heatmapgl\"}], \"histogram\": [{\"marker\": {\"colorbar\": {\"outlinewidth\": 0, \"ticks\": \"\"}}, \"type\": \"histogram\"}], \"histogram2d\": [{\"colorbar\": {\"outlinewidth\": 0, \"ticks\": \"\"}, \"colorscale\": [[0.0, \"#0d0887\"], [0.1111111111111111, \"#46039f\"], [0.2222222222222222, \"#7201a8\"], [0.3333333333333333, \"#9c179e\"], [0.4444444444444444, \"#bd3786\"], [0.5555555555555556, \"#d8576b\"], [0.6666666666666666, \"#ed7953\"], [0.7777777777777778, \"#fb9f3a\"], [0.8888888888888888, \"#fdca26\"], [1.0, \"#f0f921\"]], \"type\": \"histogram2d\"}], \"histogram2dcontour\": [{\"colorbar\": {\"outlinewidth\": 0, \"ticks\": \"\"}, \"colorscale\": [[0.0, \"#0d0887\"], [0.1111111111111111, \"#46039f\"], [0.2222222222222222, \"#7201a8\"], [0.3333333333333333, \"#9c179e\"], [0.4444444444444444, \"#bd3786\"], [0.5555555555555556, \"#d8576b\"], [0.6666666666666666, \"#ed7953\"], [0.7777777777777778, \"#fb9f3a\"], [0.8888888888888888, \"#fdca26\"], [1.0, \"#f0f921\"]], \"type\": \"histogram2dcontour\"}], \"mesh3d\": [{\"colorbar\": {\"outlinewidth\": 0, \"ticks\": \"\"}, \"type\": \"mesh3d\"}], \"parcoords\": [{\"line\": {\"colorbar\": {\"outlinewidth\": 0, \"ticks\": \"\"}}, \"type\": \"parcoords\"}], \"pie\": [{\"automargin\": true, \"type\": \"pie\"}], \"scatter\": [{\"marker\": {\"colorbar\": {\"outlinewidth\": 0, \"ticks\": \"\"}}, \"type\": \"scatter\"}], \"scatter3d\": [{\"line\": {\"colorbar\": {\"outlinewidth\": 0, \"ticks\": \"\"}}, \"marker\": {\"colorbar\": {\"outlinewidth\": 0, \"ticks\": \"\"}}, \"type\": \"scatter3d\"}], \"scattercarpet\": [{\"marker\": {\"colorbar\": {\"outlinewidth\": 0, \"ticks\": \"\"}}, \"type\": \"scattercarpet\"}], \"scattergeo\": [{\"marker\": {\"colorbar\": {\"outlinewidth\": 0, \"ticks\": \"\"}}, \"type\": \"scattergeo\"}], \"scattergl\": [{\"marker\": {\"colorbar\": {\"outlinewidth\": 0, \"ticks\": \"\"}}, \"type\": \"scattergl\"}], \"scattermapbox\": [{\"marker\": {\"colorbar\": {\"outlinewidth\": 0, \"ticks\": \"\"}}, \"type\": \"scattermapbox\"}], \"scatterpolar\": [{\"marker\": {\"colorbar\": {\"outlinewidth\": 0, \"ticks\": \"\"}}, \"type\": \"scatterpolar\"}], \"scatterpolargl\": [{\"marker\": {\"colorbar\": {\"outlinewidth\": 0, \"ticks\": \"\"}}, \"type\": \"scatterpolargl\"}], \"scatterternary\": [{\"marker\": {\"colorbar\": {\"outlinewidth\": 0, \"ticks\": \"\"}}, \"type\": \"scatterternary\"}], \"surface\": [{\"colorbar\": {\"outlinewidth\": 0, \"ticks\": \"\"}, \"colorscale\": [[0.0, \"#0d0887\"], [0.1111111111111111, \"#46039f\"], [0.2222222222222222, \"#7201a8\"], [0.3333333333333333, \"#9c179e\"], [0.4444444444444444, \"#bd3786\"], [0.5555555555555556, \"#d8576b\"], [0.6666666666666666, \"#ed7953\"], [0.7777777777777778, \"#fb9f3a\"], [0.8888888888888888, \"#fdca26\"], [1.0, \"#f0f921\"]], \"type\": \"surface\"}], \"table\": [{\"cells\": {\"fill\": {\"color\": \"#EBF0F8\"}, \"line\": {\"color\": \"white\"}}, \"header\": {\"fill\": {\"color\": \"#C8D4E3\"}, \"line\": {\"color\": \"white\"}}, \"type\": \"table\"}]}, \"layout\": {\"annotationdefaults\": {\"arrowcolor\": \"#2a3f5f\", \"arrowhead\": 0, \"arrowwidth\": 1}, \"coloraxis\": {\"colorbar\": {\"outlinewidth\": 0, \"ticks\": \"\"}}, \"colorscale\": {\"diverging\": [[0, \"#8e0152\"], [0.1, \"#c51b7d\"], [0.2, \"#de77ae\"], [0.3, \"#f1b6da\"], [0.4, \"#fde0ef\"], [0.5, \"#f7f7f7\"], [0.6, \"#e6f5d0\"], [0.7, \"#b8e186\"], [0.8, \"#7fbc41\"], [0.9, \"#4d9221\"], [1, \"#276419\"]], \"sequential\": [[0.0, \"#0d0887\"], [0.1111111111111111, \"#46039f\"], [0.2222222222222222, \"#7201a8\"], [0.3333333333333333, \"#9c179e\"], [0.4444444444444444, \"#bd3786\"], [0.5555555555555556, \"#d8576b\"], [0.6666666666666666, \"#ed7953\"], [0.7777777777777778, \"#fb9f3a\"], [0.8888888888888888, \"#fdca26\"], [1.0, \"#f0f921\"]], \"sequentialminus\": [[0.0, \"#0d0887\"], [0.1111111111111111, \"#46039f\"], [0.2222222222222222, \"#7201a8\"], [0.3333333333333333, \"#9c179e\"], [0.4444444444444444, \"#bd3786\"], [0.5555555555555556, \"#d8576b\"], [0.6666666666666666, \"#ed7953\"], [0.7777777777777778, \"#fb9f3a\"], [0.8888888888888888, \"#fdca26\"], [1.0, \"#f0f921\"]]}, \"colorway\": [\"#636efa\", \"#EF553B\", \"#00cc96\", \"#ab63fa\", \"#FFA15A\", \"#19d3f3\", \"#FF6692\", \"#B6E880\", \"#FF97FF\", \"#FECB52\"], \"font\": {\"color\": \"#2a3f5f\"}, \"geo\": {\"bgcolor\": \"white\", \"lakecolor\": \"white\", \"landcolor\": \"#E5ECF6\", \"showlakes\": true, \"showland\": true, \"subunitcolor\": \"white\"}, \"hoverlabel\": {\"align\": \"left\"}, \"hovermode\": \"closest\", \"mapbox\": {\"style\": \"light\"}, \"paper_bgcolor\": \"white\", \"plot_bgcolor\": \"#E5ECF6\", \"polar\": {\"angularaxis\": {\"gridcolor\": \"white\", \"linecolor\": \"white\", \"ticks\": \"\"}, \"bgcolor\": \"#E5ECF6\", \"radialaxis\": {\"gridcolor\": \"white\", \"linecolor\": \"white\", \"ticks\": \"\"}}, \"scene\": {\"xaxis\": {\"backgroundcolor\": \"#E5ECF6\", \"gridcolor\": \"white\", \"gridwidth\": 2, \"linecolor\": \"white\", \"showbackground\": true, \"ticks\": \"\", \"zerolinecolor\": \"white\"}, \"yaxis\": {\"backgroundcolor\": \"#E5ECF6\", \"gridcolor\": \"white\", \"gridwidth\": 2, \"linecolor\": \"white\", \"showbackground\": true, \"ticks\": \"\", \"zerolinecolor\": \"white\"}, \"zaxis\": {\"backgroundcolor\": \"#E5ECF6\", \"gridcolor\": \"white\", \"gridwidth\": 2, \"linecolor\": \"white\", \"showbackground\": true, \"ticks\": \"\", \"zerolinecolor\": \"white\"}}, \"shapedefaults\": {\"line\": {\"color\": \"#2a3f5f\"}}, \"ternary\": {\"aaxis\": {\"gridcolor\": \"white\", \"linecolor\": \"white\", \"ticks\": \"\"}, \"baxis\": {\"gridcolor\": \"white\", \"linecolor\": \"white\", \"ticks\": \"\"}, \"bgcolor\": \"#E5ECF6\", \"caxis\": {\"gridcolor\": \"white\", \"linecolor\": \"white\", \"ticks\": \"\"}}, \"title\": {\"x\": 0.05}, \"xaxis\": {\"automargin\": true, \"gridcolor\": \"white\", \"linecolor\": \"white\", \"ticks\": \"\", \"title\": {\"standoff\": 15}, \"zerolinecolor\": \"white\", \"zerolinewidth\": 2}, \"yaxis\": {\"automargin\": true, \"gridcolor\": \"white\", \"linecolor\": \"white\", \"ticks\": \"\", \"title\": {\"standoff\": 15}, \"zerolinecolor\": \"white\", \"zerolinewidth\": 2}}}, \"title\": {\"text\": \"Mean predictions with linear kernel SVR\"}, \"xaxis\": {\"anchor\": \"y\", \"domain\": [0.0, 1.0], \"title\": {\"text\": \"Date and time\"}}, \"yaxis\": {\"anchor\": \"x\", \"domain\": [0.0, 1.0], \"title\": {\"text\": \"meter value reading\"}}},                        {\"responsive\": true}                    ).then(function(){\n",
       "                            \n",
       "var gd = document.getElementById('1588c9d4-5b20-46ae-9853-b4b262079caf');\n",
       "var x = new MutationObserver(function (mutations, observer) {{\n",
       "        var display = window.getComputedStyle(gd).display;\n",
       "        if (!display || display === 'none') {{\n",
       "            console.log([gd, 'removed!']);\n",
       "            Plotly.purge(gd);\n",
       "            observer.disconnect();\n",
       "        }}\n",
       "}});\n",
       "\n",
       "// Listen for the removal of the full notebook cells\n",
       "var notebookContainer = gd.closest('#notebook-container');\n",
       "if (notebookContainer) {{\n",
       "    x.observe(notebookContainer, {childList: true});\n",
       "}}\n",
       "\n",
       "// Listen for the clearing of the current output cell\n",
       "var outputEl = gd.closest('.output');\n",
       "if (outputEl) {{\n",
       "    x.observe(outputEl, {childList: true});\n",
       "}}\n",
       "\n",
       "                        })                };                });            </script>        </div>"
      ]
     },
     "metadata": {},
     "output_type": "display_data"
    }
   ],
   "source": [
    "fig = px.scatter()\n",
    "# plot points form actual dataset\n",
    "fig.add_trace(go.Scatter(x=truth.index, y=truth['meter_value'].tolist(),\n",
    "                           mode='markers',\n",
    "                           name='mean actual'))\n",
    "# plot points from hourly linear regression prediction \n",
    "fig.add_trace(go.Scatter(x=mean_timestamps, y=mean_predictions,\n",
    "                           mode='markers',\n",
    "                           name='mean predictions'))\n",
    "# plot points from hourly linear regression prediction \n",
    "fig.add_trace(go.Scatter(x=mean_ltp_timestamps, y=mean_ltp_predictions,\n",
    "                           mode='markers',\n",
    "                           name='mean ltp predictions'))\n",
    "\n",
    "# get ols trendline from predictions\n",
    "fig_t = px.scatter(x=mean_timestamps, y=mean_predictions, trendline='ols')\n",
    "trendline = fig_t.data[1]\n",
    "# overlay ols trendline with scattered results\n",
    "fig.add_trace(go.Scatter(trendline,\n",
    "                          mode='lines',\n",
    "                          line=dict(color=\"Yellow\"),\n",
    "                          name='predictions line'))\n",
    "\n",
    "# get ols trendline from ltp predictions\n",
    "fig_t = px.scatter(x=mean_ltp_timestamps, y=mean_ltp_predictions, trendline='ols')\n",
    "trendline = fig_t.data[1]\n",
    "# overlay ols trendline with scattered results\n",
    "fig.add_trace(go.Scatter(trendline,\n",
    "                          mode='lines',\n",
    "                          line=dict(color=\"Cyan\"),\n",
    "                          name='ltp predictions line'))\n",
    "\n",
    "fig.update_layout(\n",
    "    title='Mean predictions with linear kernel SVR',\n",
    "    xaxis_title='Date and time',\n",
    "    yaxis_title='meter value reading',\n",
    "    legend_title='Data Category',\n",
    "    showlegend=True\n",
    ")\n",
    "fig.show()"
   ]
  },
  {
   "cell_type": "markdown",
   "metadata": {},
   "source": [
    "In this analysis the long time prediction trendlines are also added and was shown to be better than linear regression long time prediction trendline."
   ]
  },
  {
   "cell_type": "markdown",
   "metadata": {},
   "source": [
    "## Appendix: Results with RBF kernel and Polynomial kernel SVR\n",
    "#### Warning, takes a really long time to train!"
   ]
  },
  {
   "cell_type": "code",
   "execution_count": null,
   "metadata": {},
   "outputs": [],
   "source": [
    "# svr_rbf = SVR(kernel='rbf', C=100, gamma=0.1, epsilon=.1)\n",
    "# svr_poly = SVR(kernel='poly', C=100, gamma='auto', degree=3, epsilon=.1,\n",
    "#                coef0=1)\n",
    "# svr_lin.fit(X_train, Y_train)"
   ]
  },
  {
   "cell_type": "code",
   "execution_count": null,
   "metadata": {},
   "outputs": [],
   "source": [
    "# timestamps, predictions = simulate_operation(merged_df[merged_df['dataid'] == 35][:250], svr_rbf)\n",
    "# ltp_timestamps, ltp_predictions = long_term_prediction(merged_df[merged_df['dataid'] == 35][:250], pd.Timestamp('2015-10-02 01:00:00+00:00'), 6, svr_rbf)"
   ]
  },
  {
   "cell_type": "code",
   "execution_count": null,
   "metadata": {},
   "outputs": [],
   "source": [
    "# # before plotting actual, need to take to utc because plotly doesn't do it for us.\n",
    "# actual = merged_df[merged_df['dataid'] == 35][:250]\n",
    "# imputed_actual = clean_df[clean_df['dataid'] == 35][:250]\n",
    "\n",
    "# fig = px.scatter()\n",
    "# fig.add_scatter(x=timestamps, y=predictions, name='predictions')\n",
    "# fig.add_scatter(x=actual.index, y=actual['meter_value'].tolist(), name='actual')\n",
    "# fig.add_scatter(x=imputed_actual.index, y=imputed_actual['meter_value'].tolist(), name='imputed')\n",
    "# fig.add_scatter(x=ltp_timestamps, y=ltp_predictions, name='long_term_prediction')\n",
    "# fig.update_layout(\n",
    "#     title='Predictions with custom kernel SVR',\n",
    "#     xaxis_title='Date and time',\n",
    "#     yaxis_title='meter value reading',\n",
    "#     legend_title='Data Category',\n",
    "# )\n",
    "# fig.show()"
   ]
  },
  {
   "cell_type": "code",
   "execution_count": null,
   "metadata": {},
   "outputs": [],
   "source": [
    "# truth = mean_data[:250]\n",
    "# fig = px.scatter()\n",
    "# fig.add_scatter(x=mean_timestamps, y=mean_predictions, name='predictions')\n",
    "# fig.add_scatter(x=truth.index, y=truth['meter_value'].tolist(), name='mean')\n",
    "# fig.add_scatter(x=mean_ltp_timestamps, y=mean_ltp_predictions, name='long_term_prediction')\n",
    "# fig.update_layout(\n",
    "#     title='Mean predictions with custom kernel SVR',\n",
    "#     xaxis_title='Date and time',\n",
    "#     yaxis_title='meter value reading',\n",
    "#     legend_title='Data Category',\n",
    "# )\n",
    "# fig.show()"
   ]
  }
 ],
 "metadata": {
  "kernelspec": {
   "display_name": "Python 3",
   "language": "python",
   "name": "python3"
  },
  "language_info": {
   "codemirror_mode": {
    "name": "ipython",
    "version": 3
   },
   "file_extension": ".py",
   "mimetype": "text/x-python",
   "name": "python",
   "nbconvert_exporter": "python",
   "pygments_lexer": "ipython3",
   "version": "3.6.8"
  }
 },
 "nbformat": 4,
 "nbformat_minor": 2
}
